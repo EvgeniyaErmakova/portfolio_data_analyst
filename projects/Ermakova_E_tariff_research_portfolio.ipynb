{
 "cells": [
  {
   "cell_type": "markdown",
   "metadata": {
    "toc": true
   },
   "source": [
    "<h1>Содержание<span class=\"tocSkip\"></span></h1>\n",
    "<div class=\"toc\"><ul class=\"toc-item\"><li><span><a href=\"#Цели-и-описание\" data-toc-modified-id=\"Цели-и-описание-1\"><span class=\"toc-item-num\">1&nbsp;&nbsp;</span>Цели и описание</a></span><ul class=\"toc-item\"><li><span><a href=\"#Обзор-данных\" data-toc-modified-id=\"Обзор-данных-1.1\"><span class=\"toc-item-num\">1.1&nbsp;&nbsp;</span>Обзор данных</a></span></li></ul></li><li><span><a href=\"#Предобработка-данных\" data-toc-modified-id=\"Предобработка-данных-2\"><span class=\"toc-item-num\">2&nbsp;&nbsp;</span>Предобработка данных</a></span><ul class=\"toc-item\"><li><span><a href=\"#Преобразование-типов\" data-toc-modified-id=\"Преобразование-типов-2.1\"><span class=\"toc-item-num\">2.1&nbsp;&nbsp;</span>Преобразование типов</a></span></li><li><span><a href=\"#Проверка-дубликатов\" data-toc-modified-id=\"Проверка-дубликатов-2.2\"><span class=\"toc-item-num\">2.2&nbsp;&nbsp;</span>Проверка дубликатов</a></span></li><li><span><a href=\"#Объединение-таблиц\" data-toc-modified-id=\"Объединение-таблиц-2.3\"><span class=\"toc-item-num\">2.3&nbsp;&nbsp;</span>Объединение таблиц</a></span></li><li><span><a href=\"#Расчеты\" data-toc-modified-id=\"Расчеты-2.4\"><span class=\"toc-item-num\">2.4&nbsp;&nbsp;</span>Расчеты</a></span></li></ul></li><li><span><a href=\"#Анализ-данных\" data-toc-modified-id=\"Анализ-данных-3\"><span class=\"toc-item-num\">3&nbsp;&nbsp;</span>Анализ данных</a></span><ul class=\"toc-item\"><li><span><a href=\"#Тариф-Smart\" data-toc-modified-id=\"Тариф-Smart-3.1\"><span class=\"toc-item-num\">3.1&nbsp;&nbsp;</span>Тариф Smart</a></span><ul class=\"toc-item\"><li><span><a href=\"#Выводы\" data-toc-modified-id=\"Выводы-3.1.1\"><span class=\"toc-item-num\">3.1.1&nbsp;&nbsp;</span>Выводы</a></span></li></ul></li><li><span><a href=\"#Тариф-Ultra\" data-toc-modified-id=\"Тариф-Ultra-3.2\"><span class=\"toc-item-num\">3.2&nbsp;&nbsp;</span>Тариф Ultra</a></span><ul class=\"toc-item\"><li><span><a href=\"#Выводы\" data-toc-modified-id=\"Выводы-3.2.1\"><span class=\"toc-item-num\">3.2.1&nbsp;&nbsp;</span>Выводы</a></span></li></ul></li><li><span><a href=\"#Сравнение-тарифов\" data-toc-modified-id=\"Сравнение-тарифов-3.3\"><span class=\"toc-item-num\">3.3&nbsp;&nbsp;</span>Сравнение тарифов</a></span></li></ul></li><li><span><a href=\"#Проверка-гипотез\" data-toc-modified-id=\"Проверка-гипотез-4\"><span class=\"toc-item-num\">4&nbsp;&nbsp;</span>Проверка гипотез</a></span><ul class=\"toc-item\"><li><span><a href=\"#Выручка-по-тарифам\" data-toc-modified-id=\"Выручка-по-тарифам-4.1\"><span class=\"toc-item-num\">4.1&nbsp;&nbsp;</span>Выручка по тарифам</a></span></li><li><span><a href=\"#Выручка-по-регионам\" data-toc-modified-id=\"Выручка-по-регионам-4.2\"><span class=\"toc-item-num\">4.2&nbsp;&nbsp;</span>Выручка по регионам</a></span></li></ul></li><li><span><a href=\"#Общий-вывод\" data-toc-modified-id=\"Общий-вывод-5\"><span class=\"toc-item-num\">5&nbsp;&nbsp;</span>Общий вывод</a></span></li></ul></div>"
   ]
  },
  {
   "cell_type": "markdown",
   "metadata": {},
   "source": [
    "# Определение перспективного тарифа для телеком-компании"
   ]
  },
  {
   "cell_type": "markdown",
   "metadata": {},
   "source": [
    "## Цели и описание"
   ]
  },
  {
   "cell_type": "markdown",
   "metadata": {},
   "source": [
    "Заказчик - федеральный оператор сотовой связи. Нужно скорректировать рекламный бюджет на основании того, какой тариф приносит больше денег.  \n",
    "Предоставлена выборка данных об активности 500 пользователей оператора за год, требуется проанализировать их поведение и сделать вывод, какой тариф перспективнее.  \n",
    "В ходе исследования проверим две основные гипотезы:  \n",
    "- средняя выручка от пользователей тарифов \"Ультра\" и \"Смарт\" различается;\n",
    "- средняя выручка от пользователей из Москвы отличается от выручки по другим регионам."
   ]
  },
  {
   "cell_type": "markdown",
   "metadata": {},
   "source": [
    "### Обзор данных"
   ]
  },
  {
   "cell_type": "markdown",
   "metadata": {},
   "source": [
    "Импорт библиотек:"
   ]
  },
  {
   "cell_type": "code",
   "execution_count": 74,
   "metadata": {},
   "outputs": [],
   "source": [
    "import pandas as pd\n",
    "import numpy as np\n",
    "import matplotlib\n",
    "from matplotlib import pyplot as plt\n",
    "from scipy import stats as st\n",
    "import datetime as dt\n",
    "import seaborn as sns"
   ]
  },
  {
   "cell_type": "markdown",
   "metadata": {},
   "source": [
    "Распаковка файла:"
   ]
  },
  {
   "cell_type": "code",
   "execution_count": 75,
   "metadata": {},
   "outputs": [],
   "source": [
    "# альтернативные пути для локальной работы\n",
    "try:\n",
    "    users = pd.read_csv('/datasets/users.csv')\n",
    "except:\n",
    "    users = pd.read_csv(r'C:\\Users\\HP\\Desktop\\Yandex Analytics\\Projects\\Project_4_tariff_research\\users.csv')\n",
    "    \n",
    "try:\n",
    "    tariffs = pd.read_csv('/datasets/tariffs.csv')\n",
    "except:\n",
    "    tariffs = pd.read_csv(r'C:\\Users\\HP\\Desktop\\Yandex Analytics\\Projects\\Project_4_tariff_research\\tariffs.csv')\n",
    "\n",
    "try:\n",
    "    calls = pd.read_csv('/datasets/calls.csv')\n",
    "except:\n",
    "    calls = pd.read_csv(r'C:\\Users\\HP\\Desktop\\Yandex Analytics\\Projects\\Project_4_tariff_research\\calls.csv')\n",
    "    \n",
    "try:\n",
    "    internet = pd.read_csv('/datasets/internet.csv')\n",
    "except:\n",
    "    internet = pd.read_csv(r'C:\\Users\\HP\\Desktop\\Yandex Analytics\\Projects\\Project_4_tariff_research\\internet.csv')\n",
    "    \n",
    "try:\n",
    "    messages = pd.read_csv('/datasets/messages.csv')\n",
    "except:\n",
    "    messages = pd.read_csv(r'C:\\Users\\HP\\Desktop\\Yandex Analytics\\Projects\\Project_4_tariff_research\\messages.csv')"
   ]
  },
  {
   "cell_type": "markdown",
   "metadata": {},
   "source": [
    "Откроем отдельно таблицу с тарифами:"
   ]
  },
  {
   "cell_type": "code",
   "execution_count": 76,
   "metadata": {},
   "outputs": [
    {
     "data": {
      "text/html": [
       "<div>\n",
       "<style scoped>\n",
       "    .dataframe tbody tr th:only-of-type {\n",
       "        vertical-align: middle;\n",
       "    }\n",
       "\n",
       "    .dataframe tbody tr th {\n",
       "        vertical-align: top;\n",
       "    }\n",
       "\n",
       "    .dataframe thead th {\n",
       "        text-align: right;\n",
       "    }\n",
       "</style>\n",
       "<table border=\"1\" class=\"dataframe\">\n",
       "  <thead>\n",
       "    <tr style=\"text-align: right;\">\n",
       "      <th></th>\n",
       "      <th>messages_included</th>\n",
       "      <th>mb_per_month_included</th>\n",
       "      <th>minutes_included</th>\n",
       "      <th>rub_monthly_fee</th>\n",
       "      <th>rub_per_gb</th>\n",
       "      <th>rub_per_message</th>\n",
       "      <th>rub_per_minute</th>\n",
       "      <th>tariff_name</th>\n",
       "    </tr>\n",
       "  </thead>\n",
       "  <tbody>\n",
       "    <tr>\n",
       "      <th>0</th>\n",
       "      <td>50</td>\n",
       "      <td>15360</td>\n",
       "      <td>500</td>\n",
       "      <td>550</td>\n",
       "      <td>200</td>\n",
       "      <td>3</td>\n",
       "      <td>3</td>\n",
       "      <td>smart</td>\n",
       "    </tr>\n",
       "    <tr>\n",
       "      <th>1</th>\n",
       "      <td>1000</td>\n",
       "      <td>30720</td>\n",
       "      <td>3000</td>\n",
       "      <td>1950</td>\n",
       "      <td>150</td>\n",
       "      <td>1</td>\n",
       "      <td>1</td>\n",
       "      <td>ultra</td>\n",
       "    </tr>\n",
       "  </tbody>\n",
       "</table>\n",
       "</div>"
      ],
      "text/plain": [
       "   messages_included  mb_per_month_included  minutes_included  \\\n",
       "0                 50                  15360               500   \n",
       "1               1000                  30720              3000   \n",
       "\n",
       "   rub_monthly_fee  rub_per_gb  rub_per_message  rub_per_minute tariff_name  \n",
       "0              550         200                3               3       smart  \n",
       "1             1950         150                1               1       ultra  "
      ]
     },
     "execution_count": 76,
     "metadata": {},
     "output_type": "execute_result"
    }
   ],
   "source": [
    "tariffs.head()"
   ]
  },
  {
   "cell_type": "code",
   "execution_count": 77,
   "metadata": {},
   "outputs": [
    {
     "name": "stdout",
     "output_type": "stream",
     "text": [
      "<class 'pandas.core.frame.DataFrame'>\n",
      "RangeIndex: 2 entries, 0 to 1\n",
      "Data columns (total 8 columns):\n",
      " #   Column                 Non-Null Count  Dtype \n",
      "---  ------                 --------------  ----- \n",
      " 0   messages_included      2 non-null      int64 \n",
      " 1   mb_per_month_included  2 non-null      int64 \n",
      " 2   minutes_included       2 non-null      int64 \n",
      " 3   rub_monthly_fee        2 non-null      int64 \n",
      " 4   rub_per_gb             2 non-null      int64 \n",
      " 5   rub_per_message        2 non-null      int64 \n",
      " 6   rub_per_minute         2 non-null      int64 \n",
      " 7   tariff_name            2 non-null      object\n",
      "dtypes: int64(7), object(1)\n",
      "memory usage: 256.0+ bytes\n"
     ]
    }
   ],
   "source": [
    "tariffs.info()"
   ]
  },
  {
   "cell_type": "markdown",
   "metadata": {},
   "source": [
    "В таблице всего две строки с необходимыми для исследования тарифами. Использован целочисленный тип данных, кроме названия тарифа, поэтому преобразование не требуется."
   ]
  },
  {
   "cell_type": "markdown",
   "metadata": {},
   "source": [
    "Выведем информацию о других доступных таблицах:"
   ]
  },
  {
   "cell_type": "code",
   "execution_count": 78,
   "metadata": {
    "scrolled": false
   },
   "outputs": [
    {
     "data": {
      "text/html": [
       "<div>\n",
       "<style scoped>\n",
       "    .dataframe tbody tr th:only-of-type {\n",
       "        vertical-align: middle;\n",
       "    }\n",
       "\n",
       "    .dataframe tbody tr th {\n",
       "        vertical-align: top;\n",
       "    }\n",
       "\n",
       "    .dataframe thead th {\n",
       "        text-align: right;\n",
       "    }\n",
       "</style>\n",
       "<table border=\"1\" class=\"dataframe\">\n",
       "  <thead>\n",
       "    <tr style=\"text-align: right;\">\n",
       "      <th></th>\n",
       "      <th>user_id</th>\n",
       "      <th>age</th>\n",
       "      <th>churn_date</th>\n",
       "      <th>city</th>\n",
       "      <th>first_name</th>\n",
       "      <th>last_name</th>\n",
       "      <th>reg_date</th>\n",
       "      <th>tariff</th>\n",
       "    </tr>\n",
       "  </thead>\n",
       "  <tbody>\n",
       "    <tr>\n",
       "      <th>0</th>\n",
       "      <td>1000</td>\n",
       "      <td>52</td>\n",
       "      <td>NaN</td>\n",
       "      <td>Краснодар</td>\n",
       "      <td>Рафаил</td>\n",
       "      <td>Верещагин</td>\n",
       "      <td>2018-05-25</td>\n",
       "      <td>ultra</td>\n",
       "    </tr>\n",
       "    <tr>\n",
       "      <th>1</th>\n",
       "      <td>1001</td>\n",
       "      <td>41</td>\n",
       "      <td>NaN</td>\n",
       "      <td>Москва</td>\n",
       "      <td>Иван</td>\n",
       "      <td>Ежов</td>\n",
       "      <td>2018-11-01</td>\n",
       "      <td>smart</td>\n",
       "    </tr>\n",
       "    <tr>\n",
       "      <th>2</th>\n",
       "      <td>1002</td>\n",
       "      <td>59</td>\n",
       "      <td>NaN</td>\n",
       "      <td>Стерлитамак</td>\n",
       "      <td>Евгений</td>\n",
       "      <td>Абрамович</td>\n",
       "      <td>2018-06-17</td>\n",
       "      <td>smart</td>\n",
       "    </tr>\n",
       "    <tr>\n",
       "      <th>3</th>\n",
       "      <td>1003</td>\n",
       "      <td>23</td>\n",
       "      <td>NaN</td>\n",
       "      <td>Москва</td>\n",
       "      <td>Белла</td>\n",
       "      <td>Белякова</td>\n",
       "      <td>2018-08-17</td>\n",
       "      <td>ultra</td>\n",
       "    </tr>\n",
       "    <tr>\n",
       "      <th>4</th>\n",
       "      <td>1004</td>\n",
       "      <td>68</td>\n",
       "      <td>NaN</td>\n",
       "      <td>Новокузнецк</td>\n",
       "      <td>Татьяна</td>\n",
       "      <td>Авдеенко</td>\n",
       "      <td>2018-05-14</td>\n",
       "      <td>ultra</td>\n",
       "    </tr>\n",
       "    <tr>\n",
       "      <th>5</th>\n",
       "      <td>1005</td>\n",
       "      <td>67</td>\n",
       "      <td>NaN</td>\n",
       "      <td>Набережные Челны</td>\n",
       "      <td>Афанасий</td>\n",
       "      <td>Горлов</td>\n",
       "      <td>2018-01-25</td>\n",
       "      <td>smart</td>\n",
       "    </tr>\n",
       "    <tr>\n",
       "      <th>6</th>\n",
       "      <td>1006</td>\n",
       "      <td>21</td>\n",
       "      <td>NaN</td>\n",
       "      <td>Ульяновск</td>\n",
       "      <td>Леонид</td>\n",
       "      <td>Ермолаев</td>\n",
       "      <td>2018-02-26</td>\n",
       "      <td>smart</td>\n",
       "    </tr>\n",
       "    <tr>\n",
       "      <th>7</th>\n",
       "      <td>1007</td>\n",
       "      <td>65</td>\n",
       "      <td>NaN</td>\n",
       "      <td>Москва</td>\n",
       "      <td>Юна</td>\n",
       "      <td>Березина</td>\n",
       "      <td>2018-04-19</td>\n",
       "      <td>smart</td>\n",
       "    </tr>\n",
       "    <tr>\n",
       "      <th>8</th>\n",
       "      <td>1008</td>\n",
       "      <td>63</td>\n",
       "      <td>NaN</td>\n",
       "      <td>Челябинск</td>\n",
       "      <td>Рустэм</td>\n",
       "      <td>Пономарёв</td>\n",
       "      <td>2018-12-19</td>\n",
       "      <td>smart</td>\n",
       "    </tr>\n",
       "    <tr>\n",
       "      <th>9</th>\n",
       "      <td>1009</td>\n",
       "      <td>24</td>\n",
       "      <td>NaN</td>\n",
       "      <td>Пермь</td>\n",
       "      <td>Василиса</td>\n",
       "      <td>Блинова</td>\n",
       "      <td>2018-03-22</td>\n",
       "      <td>smart</td>\n",
       "    </tr>\n",
       "  </tbody>\n",
       "</table>\n",
       "</div>"
      ],
      "text/plain": [
       "   user_id  age churn_date              city first_name  last_name  \\\n",
       "0     1000   52        NaN         Краснодар     Рафаил  Верещагин   \n",
       "1     1001   41        NaN            Москва       Иван       Ежов   \n",
       "2     1002   59        NaN       Стерлитамак    Евгений  Абрамович   \n",
       "3     1003   23        NaN            Москва      Белла   Белякова   \n",
       "4     1004   68        NaN       Новокузнецк    Татьяна   Авдеенко   \n",
       "5     1005   67        NaN  Набережные Челны   Афанасий     Горлов   \n",
       "6     1006   21        NaN         Ульяновск     Леонид   Ермолаев   \n",
       "7     1007   65        NaN            Москва        Юна   Березина   \n",
       "8     1008   63        NaN         Челябинск     Рустэм  Пономарёв   \n",
       "9     1009   24        NaN             Пермь   Василиса    Блинова   \n",
       "\n",
       "     reg_date tariff  \n",
       "0  2018-05-25  ultra  \n",
       "1  2018-11-01  smart  \n",
       "2  2018-06-17  smart  \n",
       "3  2018-08-17  ultra  \n",
       "4  2018-05-14  ultra  \n",
       "5  2018-01-25  smart  \n",
       "6  2018-02-26  smart  \n",
       "7  2018-04-19  smart  \n",
       "8  2018-12-19  smart  \n",
       "9  2018-03-22  smart  "
      ]
     },
     "metadata": {},
     "output_type": "display_data"
    },
    {
     "name": "stdout",
     "output_type": "stream",
     "text": [
      "-------------------------------------------------------------------------------------------------------------------\n",
      "Общая информация\n",
      "<class 'pandas.core.frame.DataFrame'>\n",
      "RangeIndex: 500 entries, 0 to 499\n",
      "Data columns (total 8 columns):\n",
      " #   Column      Non-Null Count  Dtype \n",
      "---  ------      --------------  ----- \n",
      " 0   user_id     500 non-null    int64 \n",
      " 1   age         500 non-null    int64 \n",
      " 2   churn_date  38 non-null     object\n",
      " 3   city        500 non-null    object\n",
      " 4   first_name  500 non-null    object\n",
      " 5   last_name   500 non-null    object\n",
      " 6   reg_date    500 non-null    object\n",
      " 7   tariff      500 non-null    object\n",
      "dtypes: int64(2), object(6)\n",
      "memory usage: 31.4+ KB\n",
      "None\n",
      "-------------------------------------------------------------------------------------------------------------------\n",
      "           user_id        age\n",
      "count   500.000000  500.00000\n",
      "mean   1249.500000   46.58800\n",
      "std     144.481833   16.66763\n",
      "min    1000.000000   18.00000\n",
      "25%    1124.750000   32.00000\n",
      "50%    1249.500000   46.00000\n",
      "75%    1374.250000   62.00000\n",
      "max    1499.000000   75.00000\n",
      "-------------------------------------------------------------------------------------------------------------------\n",
      "Количество пропусков\n",
      "user_id         0\n",
      "age             0\n",
      "churn_date    462\n",
      "city            0\n",
      "first_name      0\n",
      "last_name       0\n",
      "reg_date        0\n",
      "tariff          0\n",
      "dtype: int64\n",
      "Количество дублирующихся строк 0\n"
     ]
    },
    {
     "data": {
      "text/html": [
       "<div>\n",
       "<style scoped>\n",
       "    .dataframe tbody tr th:only-of-type {\n",
       "        vertical-align: middle;\n",
       "    }\n",
       "\n",
       "    .dataframe tbody tr th {\n",
       "        vertical-align: top;\n",
       "    }\n",
       "\n",
       "    .dataframe thead th {\n",
       "        text-align: right;\n",
       "    }\n",
       "</style>\n",
       "<table border=\"1\" class=\"dataframe\">\n",
       "  <thead>\n",
       "    <tr style=\"text-align: right;\">\n",
       "      <th></th>\n",
       "      <th>id</th>\n",
       "      <th>call_date</th>\n",
       "      <th>duration</th>\n",
       "      <th>user_id</th>\n",
       "    </tr>\n",
       "  </thead>\n",
       "  <tbody>\n",
       "    <tr>\n",
       "      <th>0</th>\n",
       "      <td>1000_0</td>\n",
       "      <td>2018-07-25</td>\n",
       "      <td>0.00</td>\n",
       "      <td>1000</td>\n",
       "    </tr>\n",
       "    <tr>\n",
       "      <th>1</th>\n",
       "      <td>1000_1</td>\n",
       "      <td>2018-08-17</td>\n",
       "      <td>0.00</td>\n",
       "      <td>1000</td>\n",
       "    </tr>\n",
       "    <tr>\n",
       "      <th>2</th>\n",
       "      <td>1000_2</td>\n",
       "      <td>2018-06-11</td>\n",
       "      <td>2.85</td>\n",
       "      <td>1000</td>\n",
       "    </tr>\n",
       "    <tr>\n",
       "      <th>3</th>\n",
       "      <td>1000_3</td>\n",
       "      <td>2018-09-21</td>\n",
       "      <td>13.80</td>\n",
       "      <td>1000</td>\n",
       "    </tr>\n",
       "    <tr>\n",
       "      <th>4</th>\n",
       "      <td>1000_4</td>\n",
       "      <td>2018-12-15</td>\n",
       "      <td>5.18</td>\n",
       "      <td>1000</td>\n",
       "    </tr>\n",
       "    <tr>\n",
       "      <th>5</th>\n",
       "      <td>1000_5</td>\n",
       "      <td>2018-11-02</td>\n",
       "      <td>0.00</td>\n",
       "      <td>1000</td>\n",
       "    </tr>\n",
       "    <tr>\n",
       "      <th>6</th>\n",
       "      <td>1000_6</td>\n",
       "      <td>2018-10-18</td>\n",
       "      <td>0.00</td>\n",
       "      <td>1000</td>\n",
       "    </tr>\n",
       "    <tr>\n",
       "      <th>7</th>\n",
       "      <td>1000_7</td>\n",
       "      <td>2018-08-22</td>\n",
       "      <td>18.31</td>\n",
       "      <td>1000</td>\n",
       "    </tr>\n",
       "    <tr>\n",
       "      <th>8</th>\n",
       "      <td>1000_8</td>\n",
       "      <td>2018-09-15</td>\n",
       "      <td>18.44</td>\n",
       "      <td>1000</td>\n",
       "    </tr>\n",
       "    <tr>\n",
       "      <th>9</th>\n",
       "      <td>1000_9</td>\n",
       "      <td>2018-08-15</td>\n",
       "      <td>0.00</td>\n",
       "      <td>1000</td>\n",
       "    </tr>\n",
       "  </tbody>\n",
       "</table>\n",
       "</div>"
      ],
      "text/plain": [
       "       id   call_date  duration  user_id\n",
       "0  1000_0  2018-07-25      0.00     1000\n",
       "1  1000_1  2018-08-17      0.00     1000\n",
       "2  1000_2  2018-06-11      2.85     1000\n",
       "3  1000_3  2018-09-21     13.80     1000\n",
       "4  1000_4  2018-12-15      5.18     1000\n",
       "5  1000_5  2018-11-02      0.00     1000\n",
       "6  1000_6  2018-10-18      0.00     1000\n",
       "7  1000_7  2018-08-22     18.31     1000\n",
       "8  1000_8  2018-09-15     18.44     1000\n",
       "9  1000_9  2018-08-15      0.00     1000"
      ]
     },
     "metadata": {},
     "output_type": "display_data"
    },
    {
     "name": "stdout",
     "output_type": "stream",
     "text": [
      "-------------------------------------------------------------------------------------------------------------------\n",
      "Общая информация\n",
      "<class 'pandas.core.frame.DataFrame'>\n",
      "RangeIndex: 202607 entries, 0 to 202606\n",
      "Data columns (total 4 columns):\n",
      " #   Column     Non-Null Count   Dtype  \n",
      "---  ------     --------------   -----  \n",
      " 0   id         202607 non-null  object \n",
      " 1   call_date  202607 non-null  object \n",
      " 2   duration   202607 non-null  float64\n",
      " 3   user_id    202607 non-null  int64  \n",
      "dtypes: float64(1), int64(1), object(2)\n",
      "memory usage: 6.2+ MB\n",
      "None\n",
      "-------------------------------------------------------------------------------------------------------------------\n",
      "            duration        user_id\n",
      "count  202607.000000  202607.000000\n",
      "mean        6.755887    1253.940619\n",
      "std         5.843365     144.722751\n",
      "min         0.000000    1000.000000\n",
      "25%         1.300000    1126.000000\n",
      "50%         6.000000    1260.000000\n",
      "75%        10.700000    1379.000000\n",
      "max        38.000000    1499.000000\n",
      "-------------------------------------------------------------------------------------------------------------------\n",
      "Количество пропусков\n",
      "id           0\n",
      "call_date    0\n",
      "duration     0\n",
      "user_id      0\n",
      "dtype: int64\n",
      "Количество дублирующихся строк 0\n"
     ]
    },
    {
     "data": {
      "text/html": [
       "<div>\n",
       "<style scoped>\n",
       "    .dataframe tbody tr th:only-of-type {\n",
       "        vertical-align: middle;\n",
       "    }\n",
       "\n",
       "    .dataframe tbody tr th {\n",
       "        vertical-align: top;\n",
       "    }\n",
       "\n",
       "    .dataframe thead th {\n",
       "        text-align: right;\n",
       "    }\n",
       "</style>\n",
       "<table border=\"1\" class=\"dataframe\">\n",
       "  <thead>\n",
       "    <tr style=\"text-align: right;\">\n",
       "      <th></th>\n",
       "      <th>id</th>\n",
       "      <th>message_date</th>\n",
       "      <th>user_id</th>\n",
       "    </tr>\n",
       "  </thead>\n",
       "  <tbody>\n",
       "    <tr>\n",
       "      <th>0</th>\n",
       "      <td>1000_0</td>\n",
       "      <td>2018-06-27</td>\n",
       "      <td>1000</td>\n",
       "    </tr>\n",
       "    <tr>\n",
       "      <th>1</th>\n",
       "      <td>1000_1</td>\n",
       "      <td>2018-10-08</td>\n",
       "      <td>1000</td>\n",
       "    </tr>\n",
       "    <tr>\n",
       "      <th>2</th>\n",
       "      <td>1000_2</td>\n",
       "      <td>2018-08-04</td>\n",
       "      <td>1000</td>\n",
       "    </tr>\n",
       "    <tr>\n",
       "      <th>3</th>\n",
       "      <td>1000_3</td>\n",
       "      <td>2018-06-16</td>\n",
       "      <td>1000</td>\n",
       "    </tr>\n",
       "    <tr>\n",
       "      <th>4</th>\n",
       "      <td>1000_4</td>\n",
       "      <td>2018-12-05</td>\n",
       "      <td>1000</td>\n",
       "    </tr>\n",
       "    <tr>\n",
       "      <th>5</th>\n",
       "      <td>1000_5</td>\n",
       "      <td>2018-06-20</td>\n",
       "      <td>1000</td>\n",
       "    </tr>\n",
       "    <tr>\n",
       "      <th>6</th>\n",
       "      <td>1000_6</td>\n",
       "      <td>2018-11-19</td>\n",
       "      <td>1000</td>\n",
       "    </tr>\n",
       "    <tr>\n",
       "      <th>7</th>\n",
       "      <td>1000_7</td>\n",
       "      <td>2018-10-29</td>\n",
       "      <td>1000</td>\n",
       "    </tr>\n",
       "    <tr>\n",
       "      <th>8</th>\n",
       "      <td>1000_8</td>\n",
       "      <td>2018-06-25</td>\n",
       "      <td>1000</td>\n",
       "    </tr>\n",
       "    <tr>\n",
       "      <th>9</th>\n",
       "      <td>1000_9</td>\n",
       "      <td>2018-12-18</td>\n",
       "      <td>1000</td>\n",
       "    </tr>\n",
       "  </tbody>\n",
       "</table>\n",
       "</div>"
      ],
      "text/plain": [
       "       id message_date  user_id\n",
       "0  1000_0   2018-06-27     1000\n",
       "1  1000_1   2018-10-08     1000\n",
       "2  1000_2   2018-08-04     1000\n",
       "3  1000_3   2018-06-16     1000\n",
       "4  1000_4   2018-12-05     1000\n",
       "5  1000_5   2018-06-20     1000\n",
       "6  1000_6   2018-11-19     1000\n",
       "7  1000_7   2018-10-29     1000\n",
       "8  1000_8   2018-06-25     1000\n",
       "9  1000_9   2018-12-18     1000"
      ]
     },
     "metadata": {},
     "output_type": "display_data"
    },
    {
     "name": "stdout",
     "output_type": "stream",
     "text": [
      "-------------------------------------------------------------------------------------------------------------------\n",
      "Общая информация\n",
      "<class 'pandas.core.frame.DataFrame'>\n",
      "RangeIndex: 123036 entries, 0 to 123035\n",
      "Data columns (total 3 columns):\n",
      " #   Column        Non-Null Count   Dtype \n",
      "---  ------        --------------   ----- \n",
      " 0   id            123036 non-null  object\n",
      " 1   message_date  123036 non-null  object\n",
      " 2   user_id       123036 non-null  int64 \n",
      "dtypes: int64(1), object(2)\n",
      "memory usage: 2.8+ MB\n",
      "None\n",
      "-------------------------------------------------------------------------------------------------------------------\n",
      "             user_id\n",
      "count  123036.000000\n",
      "mean     1256.989410\n",
      "std       143.523967\n",
      "min      1000.000000\n",
      "25%      1134.000000\n",
      "50%      1271.000000\n",
      "75%      1381.000000\n",
      "max      1499.000000\n",
      "-------------------------------------------------------------------------------------------------------------------\n",
      "Количество пропусков\n",
      "id              0\n",
      "message_date    0\n",
      "user_id         0\n",
      "dtype: int64\n",
      "Количество дублирующихся строк 0\n"
     ]
    },
    {
     "data": {
      "text/html": [
       "<div>\n",
       "<style scoped>\n",
       "    .dataframe tbody tr th:only-of-type {\n",
       "        vertical-align: middle;\n",
       "    }\n",
       "\n",
       "    .dataframe tbody tr th {\n",
       "        vertical-align: top;\n",
       "    }\n",
       "\n",
       "    .dataframe thead th {\n",
       "        text-align: right;\n",
       "    }\n",
       "</style>\n",
       "<table border=\"1\" class=\"dataframe\">\n",
       "  <thead>\n",
       "    <tr style=\"text-align: right;\">\n",
       "      <th></th>\n",
       "      <th>Unnamed: 0</th>\n",
       "      <th>id</th>\n",
       "      <th>mb_used</th>\n",
       "      <th>session_date</th>\n",
       "      <th>user_id</th>\n",
       "    </tr>\n",
       "  </thead>\n",
       "  <tbody>\n",
       "    <tr>\n",
       "      <th>0</th>\n",
       "      <td>0</td>\n",
       "      <td>1000_0</td>\n",
       "      <td>112.95</td>\n",
       "      <td>2018-11-25</td>\n",
       "      <td>1000</td>\n",
       "    </tr>\n",
       "    <tr>\n",
       "      <th>1</th>\n",
       "      <td>1</td>\n",
       "      <td>1000_1</td>\n",
       "      <td>1052.81</td>\n",
       "      <td>2018-09-07</td>\n",
       "      <td>1000</td>\n",
       "    </tr>\n",
       "    <tr>\n",
       "      <th>2</th>\n",
       "      <td>2</td>\n",
       "      <td>1000_2</td>\n",
       "      <td>1197.26</td>\n",
       "      <td>2018-06-25</td>\n",
       "      <td>1000</td>\n",
       "    </tr>\n",
       "    <tr>\n",
       "      <th>3</th>\n",
       "      <td>3</td>\n",
       "      <td>1000_3</td>\n",
       "      <td>550.27</td>\n",
       "      <td>2018-08-22</td>\n",
       "      <td>1000</td>\n",
       "    </tr>\n",
       "    <tr>\n",
       "      <th>4</th>\n",
       "      <td>4</td>\n",
       "      <td>1000_4</td>\n",
       "      <td>302.56</td>\n",
       "      <td>2018-09-24</td>\n",
       "      <td>1000</td>\n",
       "    </tr>\n",
       "    <tr>\n",
       "      <th>5</th>\n",
       "      <td>5</td>\n",
       "      <td>1000_5</td>\n",
       "      <td>399.97</td>\n",
       "      <td>2018-10-02</td>\n",
       "      <td>1000</td>\n",
       "    </tr>\n",
       "    <tr>\n",
       "      <th>6</th>\n",
       "      <td>6</td>\n",
       "      <td>1000_6</td>\n",
       "      <td>540.08</td>\n",
       "      <td>2018-09-07</td>\n",
       "      <td>1000</td>\n",
       "    </tr>\n",
       "    <tr>\n",
       "      <th>7</th>\n",
       "      <td>7</td>\n",
       "      <td>1000_7</td>\n",
       "      <td>415.70</td>\n",
       "      <td>2018-07-11</td>\n",
       "      <td>1000</td>\n",
       "    </tr>\n",
       "    <tr>\n",
       "      <th>8</th>\n",
       "      <td>8</td>\n",
       "      <td>1000_8</td>\n",
       "      <td>505.40</td>\n",
       "      <td>2018-10-08</td>\n",
       "      <td>1000</td>\n",
       "    </tr>\n",
       "    <tr>\n",
       "      <th>9</th>\n",
       "      <td>9</td>\n",
       "      <td>1000_9</td>\n",
       "      <td>345.54</td>\n",
       "      <td>2018-09-03</td>\n",
       "      <td>1000</td>\n",
       "    </tr>\n",
       "  </tbody>\n",
       "</table>\n",
       "</div>"
      ],
      "text/plain": [
       "   Unnamed: 0      id  mb_used session_date  user_id\n",
       "0           0  1000_0   112.95   2018-11-25     1000\n",
       "1           1  1000_1  1052.81   2018-09-07     1000\n",
       "2           2  1000_2  1197.26   2018-06-25     1000\n",
       "3           3  1000_3   550.27   2018-08-22     1000\n",
       "4           4  1000_4   302.56   2018-09-24     1000\n",
       "5           5  1000_5   399.97   2018-10-02     1000\n",
       "6           6  1000_6   540.08   2018-09-07     1000\n",
       "7           7  1000_7   415.70   2018-07-11     1000\n",
       "8           8  1000_8   505.40   2018-10-08     1000\n",
       "9           9  1000_9   345.54   2018-09-03     1000"
      ]
     },
     "metadata": {},
     "output_type": "display_data"
    },
    {
     "name": "stdout",
     "output_type": "stream",
     "text": [
      "-------------------------------------------------------------------------------------------------------------------\n",
      "Общая информация\n",
      "<class 'pandas.core.frame.DataFrame'>\n",
      "RangeIndex: 149396 entries, 0 to 149395\n",
      "Data columns (total 5 columns):\n",
      " #   Column        Non-Null Count   Dtype  \n",
      "---  ------        --------------   -----  \n",
      " 0   Unnamed: 0    149396 non-null  int64  \n",
      " 1   id            149396 non-null  object \n",
      " 2   mb_used       149396 non-null  float64\n",
      " 3   session_date  149396 non-null  object \n",
      " 4   user_id       149396 non-null  int64  \n",
      "dtypes: float64(1), int64(2), object(2)\n",
      "memory usage: 5.7+ MB\n",
      "None\n",
      "-------------------------------------------------------------------------------------------------------------------\n",
      "          Unnamed: 0        mb_used        user_id\n",
      "count  149396.000000  149396.000000  149396.000000\n",
      "mean    74697.500000     370.192426    1252.099842\n",
      "std     43127.054745     278.300951     144.050823\n",
      "min         0.000000       0.000000    1000.000000\n",
      "25%     37348.750000     138.187500    1130.000000\n",
      "50%     74697.500000     348.015000    1251.000000\n",
      "75%    112046.250000     559.552500    1380.000000\n",
      "max    149395.000000    1724.830000    1499.000000\n",
      "-------------------------------------------------------------------------------------------------------------------\n",
      "Количество пропусков\n",
      "Unnamed: 0      0\n",
      "id              0\n",
      "mb_used         0\n",
      "session_date    0\n",
      "user_id         0\n",
      "dtype: int64\n",
      "Количество дублирующихся строк 0\n"
     ]
    }
   ],
   "source": [
    "def prep(data):\n",
    "    \"\"\"\n",
    "    Функция для вывода обзорной информации о данных.  \n",
    "    \n",
    "    Принимает на вход датасет, выводит первые 10 строк, предоставляет информацию о количестве строк и типах данных.\n",
    "    Делает первичную проверку на наличие пропусков и дубликатов.\n",
    "    \n",
    "    \"\"\"\n",
    "    display(data.head(10))\n",
    "    print('-------------------------------------------------------------------------------------------------------------------')\n",
    "    print('Общая информация')\n",
    "    print(data.info())\n",
    "    print('-------------------------------------------------------------------------------------------------------------------')\n",
    "    print(data.describe())\n",
    "    print('-------------------------------------------------------------------------------------------------------------------')\n",
    "    print('Количество пропусков')\n",
    "    print(data.isna().sum())\n",
    "    print('Количество дублирующихся строк', data.duplicated().sum())\n",
    "\n",
    "\n",
    "list_of_data = [users,calls,messages,internet]\n",
    "\n",
    "for df in list_of_data:\n",
    "    prep(df)"
   ]
  },
  {
   "cell_type": "markdown",
   "metadata": {},
   "source": [
    "В каждой из остальных таблиц присутствует уникальный `user_id`, но в таблицах по отдельным видам услуг также указаны id конкретных сессий. Исходя из задачи, потребуется подсчет общего количества совершенных конкретным пользователем звонков, отправленных сообщений и израсходованного траффика, поэтому имеет смысл сгруппировать таблицы с услугами по конкретному пользователю, а затем объединить в одну сводную."
   ]
  },
  {
   "cell_type": "markdown",
   "metadata": {},
   "source": [
    "## Предобработка данных"
   ]
  },
  {
   "cell_type": "markdown",
   "metadata": {},
   "source": [
    "### Преобразование типов"
   ]
  },
  {
   "cell_type": "markdown",
   "metadata": {},
   "source": [
    "Во избежание проблем при объединении таблиц сначала обработаем каждую по отдельности, проверим на ошибки и преобразуем типы данных при необходимости.  \n",
    "Каждая из таблиц по отдельному виду услуг содержит столбец с названием `id`. Переименуем эти столбцы сразу для удобства идентификации в дальнейшем."
   ]
  },
  {
   "cell_type": "markdown",
   "metadata": {},
   "source": [
    "Пользователи:"
   ]
  },
  {
   "cell_type": "code",
   "execution_count": 79,
   "metadata": {
    "scrolled": true
   },
   "outputs": [
    {
     "name": "stdout",
     "output_type": "stream",
     "text": [
      "<class 'pandas.core.frame.DataFrame'>\n",
      "RangeIndex: 500 entries, 0 to 499\n",
      "Data columns (total 8 columns):\n",
      " #   Column      Non-Null Count  Dtype \n",
      "---  ------      --------------  ----- \n",
      " 0   user_id     500 non-null    int64 \n",
      " 1   age         500 non-null    int64 \n",
      " 2   churn_date  38 non-null     object\n",
      " 3   city        500 non-null    object\n",
      " 4   first_name  500 non-null    object\n",
      " 5   last_name   500 non-null    object\n",
      " 6   reg_date    500 non-null    object\n",
      " 7   tariff      500 non-null    object\n",
      "dtypes: int64(2), object(6)\n",
      "memory usage: 31.4+ KB\n"
     ]
    }
   ],
   "source": [
    "users.info()"
   ]
  },
  {
   "cell_type": "markdown",
   "metadata": {},
   "source": [
    "Преобразуем столбцы, содержащие даты, в datetime:"
   ]
  },
  {
   "cell_type": "code",
   "execution_count": 80,
   "metadata": {},
   "outputs": [],
   "source": [
    "users[['churn_date','reg_date']] = users[['churn_date','reg_date']].apply(pd.to_datetime)"
   ]
  },
  {
   "cell_type": "markdown",
   "metadata": {},
   "source": [
    "В столбце `churn_date` в основном не указаны значения, но это не ошибка, т.к. это означает, что тариф использовался на момент выгрузки. Пропуски дат не должны помешать при дальнейшей обработке данных, поэтому оставим их в первозданном виде."
   ]
  },
  {
   "cell_type": "markdown",
   "metadata": {},
   "source": [
    "Звонки:"
   ]
  },
  {
   "cell_type": "code",
   "execution_count": 81,
   "metadata": {
    "scrolled": true
   },
   "outputs": [
    {
     "name": "stdout",
     "output_type": "stream",
     "text": [
      "<class 'pandas.core.frame.DataFrame'>\n",
      "RangeIndex: 202607 entries, 0 to 202606\n",
      "Data columns (total 4 columns):\n",
      " #   Column     Non-Null Count   Dtype  \n",
      "---  ------     --------------   -----  \n",
      " 0   id         202607 non-null  object \n",
      " 1   call_date  202607 non-null  object \n",
      " 2   duration   202607 non-null  float64\n",
      " 3   user_id    202607 non-null  int64  \n",
      "dtypes: float64(1), int64(1), object(2)\n",
      "memory usage: 6.2+ MB\n"
     ]
    }
   ],
   "source": [
    "calls.info()"
   ]
  },
  {
   "cell_type": "markdown",
   "metadata": {},
   "source": [
    "Приведем значения к нужному типу и переименуем столбцы. Длительность звонков нужно округлить до минут, поскольку так заданы условия тарифов."
   ]
  },
  {
   "cell_type": "code",
   "execution_count": 82,
   "metadata": {
    "scrolled": true
   },
   "outputs": [
    {
     "data": {
      "text/html": [
       "<div>\n",
       "<style scoped>\n",
       "    .dataframe tbody tr th:only-of-type {\n",
       "        vertical-align: middle;\n",
       "    }\n",
       "\n",
       "    .dataframe tbody tr th {\n",
       "        vertical-align: top;\n",
       "    }\n",
       "\n",
       "    .dataframe thead th {\n",
       "        text-align: right;\n",
       "    }\n",
       "</style>\n",
       "<table border=\"1\" class=\"dataframe\">\n",
       "  <thead>\n",
       "    <tr style=\"text-align: right;\">\n",
       "      <th></th>\n",
       "      <th>call_id</th>\n",
       "      <th>call_date</th>\n",
       "      <th>duration</th>\n",
       "      <th>user_id</th>\n",
       "    </tr>\n",
       "  </thead>\n",
       "  <tbody>\n",
       "    <tr>\n",
       "      <th>0</th>\n",
       "      <td>10000</td>\n",
       "      <td>2018-07-25</td>\n",
       "      <td>0.0</td>\n",
       "      <td>1000</td>\n",
       "    </tr>\n",
       "    <tr>\n",
       "      <th>1</th>\n",
       "      <td>10001</td>\n",
       "      <td>2018-08-17</td>\n",
       "      <td>0.0</td>\n",
       "      <td>1000</td>\n",
       "    </tr>\n",
       "    <tr>\n",
       "      <th>2</th>\n",
       "      <td>10002</td>\n",
       "      <td>2018-06-11</td>\n",
       "      <td>3.0</td>\n",
       "      <td>1000</td>\n",
       "    </tr>\n",
       "    <tr>\n",
       "      <th>3</th>\n",
       "      <td>10003</td>\n",
       "      <td>2018-09-21</td>\n",
       "      <td>14.0</td>\n",
       "      <td>1000</td>\n",
       "    </tr>\n",
       "    <tr>\n",
       "      <th>4</th>\n",
       "      <td>10004</td>\n",
       "      <td>2018-12-15</td>\n",
       "      <td>6.0</td>\n",
       "      <td>1000</td>\n",
       "    </tr>\n",
       "  </tbody>\n",
       "</table>\n",
       "</div>"
      ],
      "text/plain": [
       "   call_id  call_date  duration  user_id\n",
       "0    10000 2018-07-25       0.0     1000\n",
       "1    10001 2018-08-17       0.0     1000\n",
       "2    10002 2018-06-11       3.0     1000\n",
       "3    10003 2018-09-21      14.0     1000\n",
       "4    10004 2018-12-15       6.0     1000"
      ]
     },
     "execution_count": 82,
     "metadata": {},
     "output_type": "execute_result"
    }
   ],
   "source": [
    "calls['call_date'] = pd.to_datetime(calls['call_date']) # преобразуем даты\n",
    "\n",
    "# добавлен try..except, т.к. если повторно запускать код без очистки ядра или выполнять ячейки не по порядку,\n",
    "# появится ошибка из-за попытки обращения к несуществующему имени\n",
    "try:\n",
    "    calls['id'] = calls['id'].astype('int') # приведем id к целочисленному типу\n",
    "except:\n",
    "    print('column was renamed')\n",
    "    \n",
    "calls['duration'] = calls['duration'].apply(np.ceil) # округляем вверх, исходя из вводных \"секунды округляются до минут\"\n",
    "calls = calls.rename(columns={'id':'call_id'}) # переименовываем столбцы\n",
    "calls.head()"
   ]
  },
  {
   "cell_type": "markdown",
   "metadata": {},
   "source": [
    "Сообщения:"
   ]
  },
  {
   "cell_type": "code",
   "execution_count": 83,
   "metadata": {},
   "outputs": [
    {
     "name": "stdout",
     "output_type": "stream",
     "text": [
      "<class 'pandas.core.frame.DataFrame'>\n",
      "RangeIndex: 123036 entries, 0 to 123035\n",
      "Data columns (total 3 columns):\n",
      " #   Column        Non-Null Count   Dtype \n",
      "---  ------        --------------   ----- \n",
      " 0   id            123036 non-null  object\n",
      " 1   message_date  123036 non-null  object\n",
      " 2   user_id       123036 non-null  int64 \n",
      "dtypes: int64(1), object(2)\n",
      "memory usage: 2.8+ MB\n"
     ]
    }
   ],
   "source": [
    "messages.info()"
   ]
  },
  {
   "cell_type": "markdown",
   "metadata": {},
   "source": [
    "Аналогично предыдущей таблице преобразуем типы и переименовываем столбцы"
   ]
  },
  {
   "cell_type": "code",
   "execution_count": 84,
   "metadata": {
    "scrolled": true
   },
   "outputs": [
    {
     "data": {
      "text/html": [
       "<div>\n",
       "<style scoped>\n",
       "    .dataframe tbody tr th:only-of-type {\n",
       "        vertical-align: middle;\n",
       "    }\n",
       "\n",
       "    .dataframe tbody tr th {\n",
       "        vertical-align: top;\n",
       "    }\n",
       "\n",
       "    .dataframe thead th {\n",
       "        text-align: right;\n",
       "    }\n",
       "</style>\n",
       "<table border=\"1\" class=\"dataframe\">\n",
       "  <thead>\n",
       "    <tr style=\"text-align: right;\">\n",
       "      <th></th>\n",
       "      <th>message_id</th>\n",
       "      <th>message_date</th>\n",
       "      <th>user_id</th>\n",
       "    </tr>\n",
       "  </thead>\n",
       "  <tbody>\n",
       "    <tr>\n",
       "      <th>0</th>\n",
       "      <td>10000</td>\n",
       "      <td>2018-06-27</td>\n",
       "      <td>1000</td>\n",
       "    </tr>\n",
       "    <tr>\n",
       "      <th>1</th>\n",
       "      <td>10001</td>\n",
       "      <td>2018-10-08</td>\n",
       "      <td>1000</td>\n",
       "    </tr>\n",
       "    <tr>\n",
       "      <th>2</th>\n",
       "      <td>10002</td>\n",
       "      <td>2018-08-04</td>\n",
       "      <td>1000</td>\n",
       "    </tr>\n",
       "    <tr>\n",
       "      <th>3</th>\n",
       "      <td>10003</td>\n",
       "      <td>2018-06-16</td>\n",
       "      <td>1000</td>\n",
       "    </tr>\n",
       "    <tr>\n",
       "      <th>4</th>\n",
       "      <td>10004</td>\n",
       "      <td>2018-12-05</td>\n",
       "      <td>1000</td>\n",
       "    </tr>\n",
       "  </tbody>\n",
       "</table>\n",
       "</div>"
      ],
      "text/plain": [
       "   message_id message_date  user_id\n",
       "0       10000   2018-06-27     1000\n",
       "1       10001   2018-10-08     1000\n",
       "2       10002   2018-08-04     1000\n",
       "3       10003   2018-06-16     1000\n",
       "4       10004   2018-12-05     1000"
      ]
     },
     "execution_count": 84,
     "metadata": {},
     "output_type": "execute_result"
    }
   ],
   "source": [
    "try:\n",
    "    messages['id'] = messages['id'].astype('int')\n",
    "except:\n",
    "    print('column was renamed')\n",
    "messages['message_date'] = pd.to_datetime(messages['message_date'])\n",
    "messages = messages.rename(columns={'id':'message_id'})\n",
    "messages.head()"
   ]
  },
  {
   "cell_type": "markdown",
   "metadata": {},
   "source": [
    "Интернет:"
   ]
  },
  {
   "cell_type": "code",
   "execution_count": 85,
   "metadata": {
    "scrolled": false
   },
   "outputs": [
    {
     "name": "stdout",
     "output_type": "stream",
     "text": [
      "<class 'pandas.core.frame.DataFrame'>\n",
      "RangeIndex: 149396 entries, 0 to 149395\n",
      "Data columns (total 5 columns):\n",
      " #   Column        Non-Null Count   Dtype  \n",
      "---  ------        --------------   -----  \n",
      " 0   Unnamed: 0    149396 non-null  int64  \n",
      " 1   id            149396 non-null  object \n",
      " 2   mb_used       149396 non-null  float64\n",
      " 3   session_date  149396 non-null  object \n",
      " 4   user_id       149396 non-null  int64  \n",
      "dtypes: float64(1), int64(2), object(2)\n",
      "memory usage: 5.7+ MB\n"
     ]
    }
   ],
   "source": [
    "internet.info()"
   ]
  },
  {
   "cell_type": "markdown",
   "metadata": {},
   "source": [
    "В списке есть дополнительная колонка без описания. Судя по первым строкам этой таблицы, там содержится порядковый номер, который не требуется, т.к. есть индекс. Удалим лишний столбец и добавим проверку:"
   ]
  },
  {
   "cell_type": "code",
   "execution_count": 86,
   "metadata": {},
   "outputs": [],
   "source": [
    "try:\n",
    "    internet = internet.drop('Unnamed: 0', axis=1)\n",
    "except:\n",
    "    print('column was removed')"
   ]
  },
  {
   "cell_type": "markdown",
   "metadata": {},
   "source": [
    "Исходя из вводных \"мегабайты округляются до гигабайт\" округления до целых МБ недостаточно, поэтому потребуется сначала перевести в ГБ, а затем округлить вверх. Но переведем Мб в Гб после расчетов, когда получим конечное значение."
   ]
  },
  {
   "cell_type": "code",
   "execution_count": 87,
   "metadata": {},
   "outputs": [
    {
     "data": {
      "text/html": [
       "<div>\n",
       "<style scoped>\n",
       "    .dataframe tbody tr th:only-of-type {\n",
       "        vertical-align: middle;\n",
       "    }\n",
       "\n",
       "    .dataframe tbody tr th {\n",
       "        vertical-align: top;\n",
       "    }\n",
       "\n",
       "    .dataframe thead th {\n",
       "        text-align: right;\n",
       "    }\n",
       "</style>\n",
       "<table border=\"1\" class=\"dataframe\">\n",
       "  <thead>\n",
       "    <tr style=\"text-align: right;\">\n",
       "      <th></th>\n",
       "      <th>session_id</th>\n",
       "      <th>mb_used</th>\n",
       "      <th>session_date</th>\n",
       "      <th>user_id</th>\n",
       "    </tr>\n",
       "  </thead>\n",
       "  <tbody>\n",
       "    <tr>\n",
       "      <th>0</th>\n",
       "      <td>10000</td>\n",
       "      <td>112.95</td>\n",
       "      <td>2018-11-25</td>\n",
       "      <td>1000</td>\n",
       "    </tr>\n",
       "    <tr>\n",
       "      <th>1</th>\n",
       "      <td>10001</td>\n",
       "      <td>1052.81</td>\n",
       "      <td>2018-09-07</td>\n",
       "      <td>1000</td>\n",
       "    </tr>\n",
       "    <tr>\n",
       "      <th>2</th>\n",
       "      <td>10002</td>\n",
       "      <td>1197.26</td>\n",
       "      <td>2018-06-25</td>\n",
       "      <td>1000</td>\n",
       "    </tr>\n",
       "    <tr>\n",
       "      <th>3</th>\n",
       "      <td>10003</td>\n",
       "      <td>550.27</td>\n",
       "      <td>2018-08-22</td>\n",
       "      <td>1000</td>\n",
       "    </tr>\n",
       "    <tr>\n",
       "      <th>4</th>\n",
       "      <td>10004</td>\n",
       "      <td>302.56</td>\n",
       "      <td>2018-09-24</td>\n",
       "      <td>1000</td>\n",
       "    </tr>\n",
       "  </tbody>\n",
       "</table>\n",
       "</div>"
      ],
      "text/plain": [
       "   session_id  mb_used session_date  user_id\n",
       "0       10000   112.95   2018-11-25     1000\n",
       "1       10001  1052.81   2018-09-07     1000\n",
       "2       10002  1197.26   2018-06-25     1000\n",
       "3       10003   550.27   2018-08-22     1000\n",
       "4       10004   302.56   2018-09-24     1000"
      ]
     },
     "execution_count": 87,
     "metadata": {},
     "output_type": "execute_result"
    }
   ],
   "source": [
    "internet['session_date'] = pd.to_datetime(internet['session_date']) # преобразовываем даты\n",
    "try:\n",
    "    internet['id'] = internet['id'].astype('int') # преобразовываем id\n",
    "except:\n",
    "    print('column was renamed')\n",
    "internet = internet.rename(columns={'id':'session_id'}) # переименовываем столбцы\n",
    "internet.head()"
   ]
  },
  {
   "cell_type": "markdown",
   "metadata": {},
   "source": [
    "### Проверка дубликатов"
   ]
  },
  {
   "cell_type": "markdown",
   "metadata": {},
   "source": [
    "Из предыдущего блока ясно, что пропущенных значений в таблицах нет. Проверим данные на наличие дубликатов.  \n",
    "В таблице `users` могут быть дубликаты, например, из-за разного регистра в столбцах с именами и названиями населенных пунктов."
   ]
  },
  {
   "cell_type": "code",
   "execution_count": 88,
   "metadata": {},
   "outputs": [
    {
     "data": {
      "text/plain": [
       "array(['Краснодар', 'Москва', 'Стерлитамак', 'Новокузнецк',\n",
       "       'Набережные Челны', 'Ульяновск', 'Челябинск', 'Пермь', 'Тюмень',\n",
       "       'Самара', 'Санкт-Петербург', 'Иваново', 'Чебоксары', 'Омск', 'Уфа',\n",
       "       'Томск', 'Чита', 'Мурманск', 'Петрозаводск', 'Тверь',\n",
       "       'Екатеринбург', 'Махачкала', 'Вологда', 'Череповец', 'Ярославль',\n",
       "       'Сочи', 'Хабаровск', 'Ставрополь', 'Рязань', 'Улан-Удэ', 'Тула',\n",
       "       'Саратов', 'Ростов-на-Дону', 'Казань', 'Иркутск', 'Курск',\n",
       "       'Калуга', 'Якутск', 'Астрахань', 'Химки', 'Владикавказ',\n",
       "       'Волгоград', 'Саранск', 'Ижевск', 'Новосибирск', 'Брянск',\n",
       "       'Тольятти', 'Нижний Тагил', 'Орёл', 'Белгород', 'Воронеж',\n",
       "       'Волжский', 'Курган', 'Барнаул', 'Красноярск', 'Архангельск',\n",
       "       'Липецк', 'Кемерово', 'Киров', 'Сургут', 'Пенза', 'Магнитогорск',\n",
       "       'Нижний Новгород', 'Кострома', 'Владивосток', 'Тамбов', 'Балашиха',\n",
       "       'Севастополь', 'Калининград', 'Оренбург', 'Смоленск',\n",
       "       'Нижневартовск', 'Владимир', 'Новороссийск', 'Грозный', 'Подольск'],\n",
       "      dtype=object)"
      ]
     },
     "execution_count": 88,
     "metadata": {},
     "output_type": "execute_result"
    }
   ],
   "source": [
    "users['city'].unique() # выводим список уникальных значений городов"
   ]
  },
  {
   "cell_type": "markdown",
   "metadata": {},
   "source": [
    "Дублирующихся названий городов нет, но на всякий случай приведем к нижнему регистру столбцы с городами, именем и фамилией и проверим на дубликаты."
   ]
  },
  {
   "cell_type": "code",
   "execution_count": 89,
   "metadata": {},
   "outputs": [
    {
     "data": {
      "text/plain": [
       "0"
      ]
     },
     "execution_count": 89,
     "metadata": {},
     "output_type": "execute_result"
    }
   ],
   "source": [
    "users['first_name'] = users['first_name'].str.lower()\n",
    "users['last_name'] = users['last_name'].str.lower()\n",
    "users['city'] = users['city'].str.lower()\n",
    "users.duplicated().sum()"
   ]
  },
  {
   "cell_type": "markdown",
   "metadata": {},
   "source": [
    "### Объединение таблиц"
   ]
  },
  {
   "cell_type": "markdown",
   "metadata": {},
   "source": [
    "Соберем все данные из разных таблиц в одну для того, чтобы можно было проводить с ними расчеты.  \n",
    "Для этого сгруппируем каждую из таблиц с услугами по пользователям и по месяцам, т.к. данные предоставлены за один 2018 год, затем объединим услуги в одну общую таблицу. Далее объединим эти данные с данными пользователей и добавим данные по тарифам."
   ]
  },
  {
   "cell_type": "code",
   "execution_count": 90,
   "metadata": {},
   "outputs": [
    {
     "data": {
      "text/html": [
       "<div>\n",
       "<style scoped>\n",
       "    .dataframe tbody tr th:only-of-type {\n",
       "        vertical-align: middle;\n",
       "    }\n",
       "\n",
       "    .dataframe tbody tr th {\n",
       "        vertical-align: top;\n",
       "    }\n",
       "\n",
       "    .dataframe thead th {\n",
       "        text-align: right;\n",
       "    }\n",
       "</style>\n",
       "<table border=\"1\" class=\"dataframe\">\n",
       "  <thead>\n",
       "    <tr style=\"text-align: right;\">\n",
       "      <th></th>\n",
       "      <th>user_id</th>\n",
       "      <th>month</th>\n",
       "      <th>duration</th>\n",
       "      <th>call_id</th>\n",
       "    </tr>\n",
       "  </thead>\n",
       "  <tbody>\n",
       "    <tr>\n",
       "      <th>0</th>\n",
       "      <td>1000</td>\n",
       "      <td>5</td>\n",
       "      <td>159.0</td>\n",
       "      <td>22</td>\n",
       "    </tr>\n",
       "    <tr>\n",
       "      <th>1</th>\n",
       "      <td>1000</td>\n",
       "      <td>6</td>\n",
       "      <td>172.0</td>\n",
       "      <td>43</td>\n",
       "    </tr>\n",
       "    <tr>\n",
       "      <th>2</th>\n",
       "      <td>1000</td>\n",
       "      <td>7</td>\n",
       "      <td>340.0</td>\n",
       "      <td>47</td>\n",
       "    </tr>\n",
       "    <tr>\n",
       "      <th>3</th>\n",
       "      <td>1000</td>\n",
       "      <td>8</td>\n",
       "      <td>408.0</td>\n",
       "      <td>52</td>\n",
       "    </tr>\n",
       "    <tr>\n",
       "      <th>4</th>\n",
       "      <td>1000</td>\n",
       "      <td>9</td>\n",
       "      <td>466.0</td>\n",
       "      <td>58</td>\n",
       "    </tr>\n",
       "  </tbody>\n",
       "</table>\n",
       "</div>"
      ],
      "text/plain": [
       "   user_id  month  duration  call_id\n",
       "0     1000      5     159.0       22\n",
       "1     1000      6     172.0       43\n",
       "2     1000      7     340.0       47\n",
       "3     1000      8     408.0       52\n",
       "4     1000      9     466.0       58"
      ]
     },
     "execution_count": 90,
     "metadata": {},
     "output_type": "execute_result"
    }
   ],
   "source": [
    "calls['month'] = calls['call_date'].dt.month # добавляем столбец с месяцем\n",
    "\n",
    "calls_pivot = calls.pivot_table(index=['user_id', 'month'],\n",
    "                                values='duration',\n",
    "                                aggfunc=['sum', 'count']).reset_index()\n",
    "\n",
    "calls_pivot.columns = ['user_id', 'month', 'duration', 'call_id'] #переименовываем столбцы\n",
    "calls_pivot.head()"
   ]
  },
  {
   "cell_type": "markdown",
   "metadata": {},
   "source": [
    "Аналогично поступаем с сообщениями:"
   ]
  },
  {
   "cell_type": "code",
   "execution_count": 91,
   "metadata": {
    "scrolled": true
   },
   "outputs": [
    {
     "data": {
      "text/html": [
       "<div>\n",
       "<style scoped>\n",
       "    .dataframe tbody tr th:only-of-type {\n",
       "        vertical-align: middle;\n",
       "    }\n",
       "\n",
       "    .dataframe tbody tr th {\n",
       "        vertical-align: top;\n",
       "    }\n",
       "\n",
       "    .dataframe thead th {\n",
       "        text-align: right;\n",
       "    }\n",
       "</style>\n",
       "<table border=\"1\" class=\"dataframe\">\n",
       "  <thead>\n",
       "    <tr style=\"text-align: right;\">\n",
       "      <th></th>\n",
       "      <th>user_id</th>\n",
       "      <th>month</th>\n",
       "      <th>message_id</th>\n",
       "    </tr>\n",
       "  </thead>\n",
       "  <tbody>\n",
       "    <tr>\n",
       "      <th>0</th>\n",
       "      <td>1000</td>\n",
       "      <td>5</td>\n",
       "      <td>22</td>\n",
       "    </tr>\n",
       "    <tr>\n",
       "      <th>1</th>\n",
       "      <td>1000</td>\n",
       "      <td>6</td>\n",
       "      <td>60</td>\n",
       "    </tr>\n",
       "    <tr>\n",
       "      <th>2</th>\n",
       "      <td>1000</td>\n",
       "      <td>7</td>\n",
       "      <td>75</td>\n",
       "    </tr>\n",
       "    <tr>\n",
       "      <th>3</th>\n",
       "      <td>1000</td>\n",
       "      <td>8</td>\n",
       "      <td>81</td>\n",
       "    </tr>\n",
       "    <tr>\n",
       "      <th>4</th>\n",
       "      <td>1000</td>\n",
       "      <td>9</td>\n",
       "      <td>57</td>\n",
       "    </tr>\n",
       "  </tbody>\n",
       "</table>\n",
       "</div>"
      ],
      "text/plain": [
       "   user_id  month  message_id\n",
       "0     1000      5          22\n",
       "1     1000      6          60\n",
       "2     1000      7          75\n",
       "3     1000      8          81\n",
       "4     1000      9          57"
      ]
     },
     "execution_count": 91,
     "metadata": {},
     "output_type": "execute_result"
    }
   ],
   "source": [
    "messages['month'] = messages['message_date'].dt.month\n",
    "# нужно только количество сообщений в месяц\n",
    "messages_pivot = messages.pivot_table(index=['user_id','month'],\n",
    "                                      values='message_id',\n",
    "                                      aggfunc='count').reset_index()\n",
    "messages_pivot.head()"
   ]
  },
  {
   "cell_type": "markdown",
   "metadata": {},
   "source": [
    "И с траффиком:"
   ]
  },
  {
   "cell_type": "code",
   "execution_count": 92,
   "metadata": {
    "scrolled": true
   },
   "outputs": [
    {
     "data": {
      "text/html": [
       "<div>\n",
       "<style scoped>\n",
       "    .dataframe tbody tr th:only-of-type {\n",
       "        vertical-align: middle;\n",
       "    }\n",
       "\n",
       "    .dataframe tbody tr th {\n",
       "        vertical-align: top;\n",
       "    }\n",
       "\n",
       "    .dataframe thead th {\n",
       "        text-align: right;\n",
       "    }\n",
       "</style>\n",
       "<table border=\"1\" class=\"dataframe\">\n",
       "  <thead>\n",
       "    <tr style=\"text-align: right;\">\n",
       "      <th></th>\n",
       "      <th>user_id</th>\n",
       "      <th>month</th>\n",
       "      <th>mb_used</th>\n",
       "    </tr>\n",
       "  </thead>\n",
       "  <tbody>\n",
       "    <tr>\n",
       "      <th>0</th>\n",
       "      <td>1000</td>\n",
       "      <td>5</td>\n",
       "      <td>2253.49</td>\n",
       "    </tr>\n",
       "    <tr>\n",
       "      <th>1</th>\n",
       "      <td>1000</td>\n",
       "      <td>6</td>\n",
       "      <td>23233.77</td>\n",
       "    </tr>\n",
       "    <tr>\n",
       "      <th>2</th>\n",
       "      <td>1000</td>\n",
       "      <td>7</td>\n",
       "      <td>14003.64</td>\n",
       "    </tr>\n",
       "    <tr>\n",
       "      <th>3</th>\n",
       "      <td>1000</td>\n",
       "      <td>8</td>\n",
       "      <td>14055.93</td>\n",
       "    </tr>\n",
       "    <tr>\n",
       "      <th>4</th>\n",
       "      <td>1000</td>\n",
       "      <td>9</td>\n",
       "      <td>14568.91</td>\n",
       "    </tr>\n",
       "  </tbody>\n",
       "</table>\n",
       "</div>"
      ],
      "text/plain": [
       "   user_id  month   mb_used\n",
       "0     1000      5   2253.49\n",
       "1     1000      6  23233.77\n",
       "2     1000      7  14003.64\n",
       "3     1000      8  14055.93\n",
       "4     1000      9  14568.91"
      ]
     },
     "execution_count": 92,
     "metadata": {},
     "output_type": "execute_result"
    }
   ],
   "source": [
    "internet['month'] = internet['session_date'].dt.month\n",
    "# нужен только объем траффика в месяц\n",
    "internet_pivot = internet.pivot_table(index=['user_id','month'],\n",
    "                                      values='mb_used',\n",
    "                                      aggfunc='sum').reset_index()\n",
    "internet_pivot.head()"
   ]
  },
  {
   "cell_type": "markdown",
   "metadata": {},
   "source": [
    "Объединяем все таблицы в одну:"
   ]
  },
  {
   "cell_type": "code",
   "execution_count": 93,
   "metadata": {},
   "outputs": [
    {
     "data": {
      "text/html": [
       "<div>\n",
       "<style scoped>\n",
       "    .dataframe tbody tr th:only-of-type {\n",
       "        vertical-align: middle;\n",
       "    }\n",
       "\n",
       "    .dataframe tbody tr th {\n",
       "        vertical-align: top;\n",
       "    }\n",
       "\n",
       "    .dataframe thead th {\n",
       "        text-align: right;\n",
       "    }\n",
       "</style>\n",
       "<table border=\"1\" class=\"dataframe\">\n",
       "  <thead>\n",
       "    <tr style=\"text-align: right;\">\n",
       "      <th></th>\n",
       "      <th>user_id</th>\n",
       "      <th>age</th>\n",
       "      <th>churn_date</th>\n",
       "      <th>city</th>\n",
       "      <th>first_name</th>\n",
       "      <th>last_name</th>\n",
       "      <th>reg_date</th>\n",
       "      <th>tariff_name</th>\n",
       "      <th>month</th>\n",
       "      <th>duration</th>\n",
       "      <th>calls_count</th>\n",
       "      <th>messages_count</th>\n",
       "      <th>mb_used</th>\n",
       "      <th>messages_included</th>\n",
       "      <th>mb_per_month_included</th>\n",
       "      <th>minutes_included</th>\n",
       "      <th>rub_monthly_fee</th>\n",
       "      <th>rub_per_gb</th>\n",
       "      <th>rub_per_message</th>\n",
       "      <th>rub_per_minute</th>\n",
       "    </tr>\n",
       "  </thead>\n",
       "  <tbody>\n",
       "    <tr>\n",
       "      <th>0</th>\n",
       "      <td>1000</td>\n",
       "      <td>52</td>\n",
       "      <td>NaT</td>\n",
       "      <td>краснодар</td>\n",
       "      <td>рафаил</td>\n",
       "      <td>верещагин</td>\n",
       "      <td>2018-05-25</td>\n",
       "      <td>ultra</td>\n",
       "      <td>5.0</td>\n",
       "      <td>159.0</td>\n",
       "      <td>22.0</td>\n",
       "      <td>22.0</td>\n",
       "      <td>2253.49</td>\n",
       "      <td>1000</td>\n",
       "      <td>30720</td>\n",
       "      <td>3000</td>\n",
       "      <td>1950</td>\n",
       "      <td>150</td>\n",
       "      <td>1</td>\n",
       "      <td>1</td>\n",
       "    </tr>\n",
       "    <tr>\n",
       "      <th>1</th>\n",
       "      <td>1000</td>\n",
       "      <td>52</td>\n",
       "      <td>NaT</td>\n",
       "      <td>краснодар</td>\n",
       "      <td>рафаил</td>\n",
       "      <td>верещагин</td>\n",
       "      <td>2018-05-25</td>\n",
       "      <td>ultra</td>\n",
       "      <td>6.0</td>\n",
       "      <td>172.0</td>\n",
       "      <td>43.0</td>\n",
       "      <td>60.0</td>\n",
       "      <td>23233.77</td>\n",
       "      <td>1000</td>\n",
       "      <td>30720</td>\n",
       "      <td>3000</td>\n",
       "      <td>1950</td>\n",
       "      <td>150</td>\n",
       "      <td>1</td>\n",
       "      <td>1</td>\n",
       "    </tr>\n",
       "    <tr>\n",
       "      <th>2</th>\n",
       "      <td>1000</td>\n",
       "      <td>52</td>\n",
       "      <td>NaT</td>\n",
       "      <td>краснодар</td>\n",
       "      <td>рафаил</td>\n",
       "      <td>верещагин</td>\n",
       "      <td>2018-05-25</td>\n",
       "      <td>ultra</td>\n",
       "      <td>7.0</td>\n",
       "      <td>340.0</td>\n",
       "      <td>47.0</td>\n",
       "      <td>75.0</td>\n",
       "      <td>14003.64</td>\n",
       "      <td>1000</td>\n",
       "      <td>30720</td>\n",
       "      <td>3000</td>\n",
       "      <td>1950</td>\n",
       "      <td>150</td>\n",
       "      <td>1</td>\n",
       "      <td>1</td>\n",
       "    </tr>\n",
       "    <tr>\n",
       "      <th>3</th>\n",
       "      <td>1000</td>\n",
       "      <td>52</td>\n",
       "      <td>NaT</td>\n",
       "      <td>краснодар</td>\n",
       "      <td>рафаил</td>\n",
       "      <td>верещагин</td>\n",
       "      <td>2018-05-25</td>\n",
       "      <td>ultra</td>\n",
       "      <td>8.0</td>\n",
       "      <td>408.0</td>\n",
       "      <td>52.0</td>\n",
       "      <td>81.0</td>\n",
       "      <td>14055.93</td>\n",
       "      <td>1000</td>\n",
       "      <td>30720</td>\n",
       "      <td>3000</td>\n",
       "      <td>1950</td>\n",
       "      <td>150</td>\n",
       "      <td>1</td>\n",
       "      <td>1</td>\n",
       "    </tr>\n",
       "    <tr>\n",
       "      <th>4</th>\n",
       "      <td>1000</td>\n",
       "      <td>52</td>\n",
       "      <td>NaT</td>\n",
       "      <td>краснодар</td>\n",
       "      <td>рафаил</td>\n",
       "      <td>верещагин</td>\n",
       "      <td>2018-05-25</td>\n",
       "      <td>ultra</td>\n",
       "      <td>9.0</td>\n",
       "      <td>466.0</td>\n",
       "      <td>58.0</td>\n",
       "      <td>57.0</td>\n",
       "      <td>14568.91</td>\n",
       "      <td>1000</td>\n",
       "      <td>30720</td>\n",
       "      <td>3000</td>\n",
       "      <td>1950</td>\n",
       "      <td>150</td>\n",
       "      <td>1</td>\n",
       "      <td>1</td>\n",
       "    </tr>\n",
       "  </tbody>\n",
       "</table>\n",
       "</div>"
      ],
      "text/plain": [
       "   user_id  age churn_date       city first_name  last_name   reg_date  \\\n",
       "0     1000   52        NaT  краснодар     рафаил  верещагин 2018-05-25   \n",
       "1     1000   52        NaT  краснодар     рафаил  верещагин 2018-05-25   \n",
       "2     1000   52        NaT  краснодар     рафаил  верещагин 2018-05-25   \n",
       "3     1000   52        NaT  краснодар     рафаил  верещагин 2018-05-25   \n",
       "4     1000   52        NaT  краснодар     рафаил  верещагин 2018-05-25   \n",
       "\n",
       "  tariff_name  month  duration  calls_count  messages_count   mb_used  \\\n",
       "0       ultra    5.0     159.0         22.0            22.0   2253.49   \n",
       "1       ultra    6.0     172.0         43.0            60.0  23233.77   \n",
       "2       ultra    7.0     340.0         47.0            75.0  14003.64   \n",
       "3       ultra    8.0     408.0         52.0            81.0  14055.93   \n",
       "4       ultra    9.0     466.0         58.0            57.0  14568.91   \n",
       "\n",
       "   messages_included  mb_per_month_included  minutes_included  \\\n",
       "0               1000                  30720              3000   \n",
       "1               1000                  30720              3000   \n",
       "2               1000                  30720              3000   \n",
       "3               1000                  30720              3000   \n",
       "4               1000                  30720              3000   \n",
       "\n",
       "   rub_monthly_fee  rub_per_gb  rub_per_message  rub_per_minute  \n",
       "0             1950         150                1               1  \n",
       "1             1950         150                1               1  \n",
       "2             1950         150                1               1  \n",
       "3             1950         150                1               1  \n",
       "4             1950         150                1               1  "
      ]
     },
     "execution_count": 93,
     "metadata": {},
     "output_type": "execute_result"
    }
   ],
   "source": [
    "# объединим таблицы по услугам в одну\n",
    "services = calls_pivot.merge(messages_pivot, on=['user_id','month'], how='outer')\n",
    "services = services.merge(internet_pivot, on=['user_id','month'], how='outer')\n",
    "\n",
    "# объединим таблицу услуг с таблицей с данными пользователей\n",
    "data = users.merge(services, on='user_id', how='outer')\n",
    "# переименуем столбцы\n",
    "data = data.rename(columns={'call_id':'calls_count','tariff':'tariff_name','message_id':'messages_count'})\n",
    "\n",
    "# сопоставляем данные по тарифам и добавляем их в финальный датафрейм\n",
    "data = data.merge(tariffs, on='tariff_name')\n",
    "data.head()"
   ]
  },
  {
   "cell_type": "markdown",
   "metadata": {},
   "source": [
    "После объединения таблиц, должны были появиться пропуски в данных, т.к. возможно, некоторые пользователи пользовались не всеми услугами."
   ]
  },
  {
   "cell_type": "code",
   "execution_count": 94,
   "metadata": {
    "scrolled": false
   },
   "outputs": [
    {
     "data": {
      "text/plain": [
       "user_id                     0\n",
       "age                         0\n",
       "churn_date               3027\n",
       "city                        0\n",
       "first_name                  0\n",
       "last_name                   0\n",
       "reg_date                    0\n",
       "tariff_name                 0\n",
       "month                       2\n",
       "duration                   42\n",
       "calls_count                42\n",
       "messages_count            499\n",
       "mb_used                    13\n",
       "messages_included           0\n",
       "mb_per_month_included       0\n",
       "minutes_included            0\n",
       "rub_monthly_fee             0\n",
       "rub_per_gb                  0\n",
       "rub_per_message             0\n",
       "rub_per_minute              0\n",
       "dtype: int64"
      ]
     },
     "execution_count": 94,
     "metadata": {},
     "output_type": "execute_result"
    }
   ],
   "source": [
    "data.isna().sum()"
   ]
  },
  {
   "cell_type": "markdown",
   "metadata": {},
   "source": [
    "Пропуски действительно обнаружились в столбце с сообщениями, очевидно, пользователи не всегда отправляли сообщения. Заменим пропущенные значения в этой колонке на 0. Пропуски в столбце `churn_date` решено не заменять, т.к. не мешают расчетам.  \n",
    "Есть два пропуска в столбце `month`, посмотрим, что не так с этими строками:"
   ]
  },
  {
   "cell_type": "code",
   "execution_count": 95,
   "metadata": {
    "scrolled": false
   },
   "outputs": [
    {
     "data": {
      "text/html": [
       "<div>\n",
       "<style scoped>\n",
       "    .dataframe tbody tr th:only-of-type {\n",
       "        vertical-align: middle;\n",
       "    }\n",
       "\n",
       "    .dataframe tbody tr th {\n",
       "        vertical-align: top;\n",
       "    }\n",
       "\n",
       "    .dataframe thead th {\n",
       "        text-align: right;\n",
       "    }\n",
       "</style>\n",
       "<table border=\"1\" class=\"dataframe\">\n",
       "  <thead>\n",
       "    <tr style=\"text-align: right;\">\n",
       "      <th></th>\n",
       "      <th>user_id</th>\n",
       "      <th>age</th>\n",
       "      <th>churn_date</th>\n",
       "      <th>city</th>\n",
       "      <th>first_name</th>\n",
       "      <th>last_name</th>\n",
       "      <th>reg_date</th>\n",
       "      <th>tariff_name</th>\n",
       "      <th>month</th>\n",
       "      <th>duration</th>\n",
       "      <th>calls_count</th>\n",
       "      <th>messages_count</th>\n",
       "      <th>mb_used</th>\n",
       "      <th>messages_included</th>\n",
       "      <th>mb_per_month_included</th>\n",
       "      <th>minutes_included</th>\n",
       "      <th>rub_monthly_fee</th>\n",
       "      <th>rub_per_gb</th>\n",
       "      <th>rub_per_message</th>\n",
       "      <th>rub_per_minute</th>\n",
       "    </tr>\n",
       "  </thead>\n",
       "  <tbody>\n",
       "    <tr>\n",
       "      <th>243</th>\n",
       "      <td>1128</td>\n",
       "      <td>51</td>\n",
       "      <td>2018-12-23</td>\n",
       "      <td>волжский</td>\n",
       "      <td>ксения</td>\n",
       "      <td>агаева</td>\n",
       "      <td>2018-12-15</td>\n",
       "      <td>ultra</td>\n",
       "      <td>NaN</td>\n",
       "      <td>NaN</td>\n",
       "      <td>NaN</td>\n",
       "      <td>NaN</td>\n",
       "      <td>NaN</td>\n",
       "      <td>1000</td>\n",
       "      <td>30720</td>\n",
       "      <td>3000</td>\n",
       "      <td>1950</td>\n",
       "      <td>150</td>\n",
       "      <td>1</td>\n",
       "      <td>1</td>\n",
       "    </tr>\n",
       "    <tr>\n",
       "      <th>2619</th>\n",
       "      <td>1371</td>\n",
       "      <td>50</td>\n",
       "      <td>2018-12-30</td>\n",
       "      <td>омск</td>\n",
       "      <td>ириней</td>\n",
       "      <td>трофимов</td>\n",
       "      <td>2018-12-25</td>\n",
       "      <td>smart</td>\n",
       "      <td>NaN</td>\n",
       "      <td>NaN</td>\n",
       "      <td>NaN</td>\n",
       "      <td>NaN</td>\n",
       "      <td>NaN</td>\n",
       "      <td>50</td>\n",
       "      <td>15360</td>\n",
       "      <td>500</td>\n",
       "      <td>550</td>\n",
       "      <td>200</td>\n",
       "      <td>3</td>\n",
       "      <td>3</td>\n",
       "    </tr>\n",
       "  </tbody>\n",
       "</table>\n",
       "</div>"
      ],
      "text/plain": [
       "      user_id  age churn_date      city first_name last_name   reg_date  \\\n",
       "243      1128   51 2018-12-23  волжский     ксения    агаева 2018-12-15   \n",
       "2619     1371   50 2018-12-30      омск     ириней  трофимов 2018-12-25   \n",
       "\n",
       "     tariff_name  month  duration  calls_count  messages_count  mb_used  \\\n",
       "243        ultra    NaN       NaN          NaN             NaN      NaN   \n",
       "2619       smart    NaN       NaN          NaN             NaN      NaN   \n",
       "\n",
       "      messages_included  mb_per_month_included  minutes_included  \\\n",
       "243                1000                  30720              3000   \n",
       "2619                 50                  15360               500   \n",
       "\n",
       "      rub_monthly_fee  rub_per_gb  rub_per_message  rub_per_minute  \n",
       "243              1950         150                1               1  \n",
       "2619              550         200                3               3  "
      ]
     },
     "execution_count": 95,
     "metadata": {},
     "output_type": "execute_result"
    }
   ],
   "source": [
    "data[data['month'].isna()]"
   ]
  },
  {
   "cell_type": "markdown",
   "metadata": {},
   "source": [
    "Два пользователя зарегистрировались в декабре и через несколько дней перестали использовать тариф. Соответственно, эти пропуски заменим на номер месяца - 12.  \n",
    "Также появились пропущенные значения в столбце `calls_count` и `duration`, очевидно, эти абоненты не использовали звонки. Если абонент сам не совершал звонок, для нас это равнозначно пропущенным вызовам - звонок не состоялся. Аналогично с интернетом: не использовался траффик, значит, можем заменить на 0."
   ]
  },
  {
   "cell_type": "code",
   "execution_count": 96,
   "metadata": {},
   "outputs": [],
   "source": [
    "data[['messages_count','calls_count','duration','mb_used']] = data[['messages_count',\n",
    "                                                                    'calls_count',\n",
    "                                                                    'duration',\n",
    "                                                                    'mb_used']].fillna(0)\n",
    "data['month'] = data['month'].fillna(12)"
   ]
  },
  {
   "cell_type": "code",
   "execution_count": 97,
   "metadata": {
    "scrolled": false
   },
   "outputs": [
    {
     "data": {
      "text/plain": [
       "user_id                     0\n",
       "age                         0\n",
       "churn_date               3027\n",
       "city                        0\n",
       "first_name                  0\n",
       "last_name                   0\n",
       "reg_date                    0\n",
       "tariff_name                 0\n",
       "month                       0\n",
       "duration                    0\n",
       "calls_count                 0\n",
       "messages_count              0\n",
       "mb_used                     0\n",
       "messages_included           0\n",
       "mb_per_month_included       0\n",
       "minutes_included            0\n",
       "rub_monthly_fee             0\n",
       "rub_per_gb                  0\n",
       "rub_per_message             0\n",
       "rub_per_minute              0\n",
       "dtype: int64"
      ]
     },
     "execution_count": 97,
     "metadata": {},
     "output_type": "execute_result"
    }
   ],
   "source": [
    "data.isna().sum()"
   ]
  },
  {
   "cell_type": "markdown",
   "metadata": {},
   "source": [
    "### Расчеты"
   ]
  },
  {
   "cell_type": "markdown",
   "metadata": {},
   "source": [
    "Определим, какую выручку приносит каждый пользователь. В каждом тарифе включены пакеты услуг, входящие в абонентскую плату. Рассчитаем, сколько услуг потребляет абонент сверх этих пакетов и сколько это стоит.  \n",
    "Требуется сравнить между собой два тарифа, поэтому имеет смысл посчитать общую выручку по абоненту, а также выручку по каждому виду услуг - это поможет определить, какой из пакетов в составе тарифа перспективнее."
   ]
  },
  {
   "cell_type": "markdown",
   "metadata": {},
   "source": [
    "Добавим столбцы с расчетом использования по каждому виду услуг:"
   ]
  },
  {
   "cell_type": "code",
   "execution_count": 98,
   "metadata": {},
   "outputs": [],
   "source": [
    "data['calls_over_lim'] = data['duration'] - data['minutes_included']\n",
    "data['messages_over_lim'] = data['messages_count'] - data['messages_included']"
   ]
  },
  {
   "cell_type": "markdown",
   "metadata": {},
   "source": [
    "Теперь переводим Мб в Гб и округлим, т.к. плата взимается за Гб:"
   ]
  },
  {
   "cell_type": "code",
   "execution_count": 99,
   "metadata": {},
   "outputs": [],
   "source": [
    "data['gb_over_lim'] = ((data['mb_used'] - data['mb_per_month_included']) / 1024).apply(np.ceil)"
   ]
  },
  {
   "cell_type": "markdown",
   "metadata": {},
   "source": [
    "Рассчитаем суммарную выручку по всем услугам и добавим расчет выручки в соответствующие столбцы:"
   ]
  },
  {
   "cell_type": "code",
   "execution_count": 100,
   "metadata": {},
   "outputs": [],
   "source": [
    "def calls_revenue(row):\n",
    "    calls_revenue = 0    \n",
    "    if row['calls_over_lim'] > 0:\n",
    "        calls_revenue = row['calls_over_lim'] * row['rub_per_minute']\n",
    "    return calls_revenue\n",
    "data['calls_revenue'] = data.apply(calls_revenue, axis=1)\n",
    "\n",
    "def messages_revenue(row):\n",
    "    messages_revenue = 0\n",
    "    if row['messages_over_lim'] > 0:\n",
    "        messages_revenue = row['messages_over_lim'] * row['rub_per_message']\n",
    "    return messages_revenue\n",
    "data['messages_revenue'] = data.apply(messages_revenue, axis=1)\n",
    "    \n",
    "def traffic_revenue(row):\n",
    "    traffic_revenue = 0\n",
    "    if row['gb_over_lim'] > 0:\n",
    "        traffic_revenue = row['gb_over_lim'] * row['rub_per_gb']\n",
    "    return traffic_revenue\n",
    "data['traffic_revenue'] = data.apply(traffic_revenue, axis=1)\n",
    "\n",
    "def total_revenue(row):\n",
    "    total_revenue = row['calls_revenue'] + row['messages_revenue'] + row['traffic_revenue'] + row['rub_monthly_fee']\n",
    "    return total_revenue\n",
    "data['total_revenue'] = data.apply(total_revenue, axis=1)"
   ]
  },
  {
   "cell_type": "code",
   "execution_count": 101,
   "metadata": {},
   "outputs": [
    {
     "data": {
      "text/html": [
       "<div>\n",
       "<style scoped>\n",
       "    .dataframe tbody tr th:only-of-type {\n",
       "        vertical-align: middle;\n",
       "    }\n",
       "\n",
       "    .dataframe tbody tr th {\n",
       "        vertical-align: top;\n",
       "    }\n",
       "\n",
       "    .dataframe thead th {\n",
       "        text-align: right;\n",
       "    }\n",
       "</style>\n",
       "<table border=\"1\" class=\"dataframe\">\n",
       "  <thead>\n",
       "    <tr style=\"text-align: right;\">\n",
       "      <th></th>\n",
       "      <th>user_id</th>\n",
       "      <th>age</th>\n",
       "      <th>churn_date</th>\n",
       "      <th>city</th>\n",
       "      <th>first_name</th>\n",
       "      <th>last_name</th>\n",
       "      <th>reg_date</th>\n",
       "      <th>tariff_name</th>\n",
       "      <th>month</th>\n",
       "      <th>duration</th>\n",
       "      <th>...</th>\n",
       "      <th>rub_per_gb</th>\n",
       "      <th>rub_per_message</th>\n",
       "      <th>rub_per_minute</th>\n",
       "      <th>calls_over_lim</th>\n",
       "      <th>messages_over_lim</th>\n",
       "      <th>gb_over_lim</th>\n",
       "      <th>calls_revenue</th>\n",
       "      <th>messages_revenue</th>\n",
       "      <th>traffic_revenue</th>\n",
       "      <th>total_revenue</th>\n",
       "    </tr>\n",
       "  </thead>\n",
       "  <tbody>\n",
       "    <tr>\n",
       "      <th>1439</th>\n",
       "      <td>1101</td>\n",
       "      <td>27</td>\n",
       "      <td>NaT</td>\n",
       "      <td>казань</td>\n",
       "      <td>онисим</td>\n",
       "      <td>колобов</td>\n",
       "      <td>2018-05-21</td>\n",
       "      <td>smart</td>\n",
       "      <td>11.0</td>\n",
       "      <td>617.0</td>\n",
       "      <td>...</td>\n",
       "      <td>200</td>\n",
       "      <td>3</td>\n",
       "      <td>3</td>\n",
       "      <td>117.0</td>\n",
       "      <td>-50.0</td>\n",
       "      <td>-5.0</td>\n",
       "      <td>351.0</td>\n",
       "      <td>0.0</td>\n",
       "      <td>0.0</td>\n",
       "      <td>901.0</td>\n",
       "    </tr>\n",
       "    <tr>\n",
       "      <th>351</th>\n",
       "      <td>1201</td>\n",
       "      <td>32</td>\n",
       "      <td>2018-12-03</td>\n",
       "      <td>москва</td>\n",
       "      <td>геннадий</td>\n",
       "      <td>веселов</td>\n",
       "      <td>2018-08-06</td>\n",
       "      <td>ultra</td>\n",
       "      <td>10.0</td>\n",
       "      <td>723.0</td>\n",
       "      <td>...</td>\n",
       "      <td>150</td>\n",
       "      <td>1</td>\n",
       "      <td>1</td>\n",
       "      <td>-2277.0</td>\n",
       "      <td>-1000.0</td>\n",
       "      <td>-21.0</td>\n",
       "      <td>0.0</td>\n",
       "      <td>0.0</td>\n",
       "      <td>0.0</td>\n",
       "      <td>1950.0</td>\n",
       "    </tr>\n",
       "    <tr>\n",
       "      <th>1367</th>\n",
       "      <td>1079</td>\n",
       "      <td>20</td>\n",
       "      <td>NaT</td>\n",
       "      <td>москва</td>\n",
       "      <td>еремей</td>\n",
       "      <td>авроров</td>\n",
       "      <td>2018-05-15</td>\n",
       "      <td>smart</td>\n",
       "      <td>6.0</td>\n",
       "      <td>607.0</td>\n",
       "      <td>...</td>\n",
       "      <td>200</td>\n",
       "      <td>3</td>\n",
       "      <td>3</td>\n",
       "      <td>107.0</td>\n",
       "      <td>-17.0</td>\n",
       "      <td>-3.0</td>\n",
       "      <td>321.0</td>\n",
       "      <td>0.0</td>\n",
       "      <td>0.0</td>\n",
       "      <td>871.0</td>\n",
       "    </tr>\n",
       "    <tr>\n",
       "      <th>2677</th>\n",
       "      <td>1384</td>\n",
       "      <td>42</td>\n",
       "      <td>NaT</td>\n",
       "      <td>нижний новгород</td>\n",
       "      <td>кристина</td>\n",
       "      <td>касьянова</td>\n",
       "      <td>2018-04-27</td>\n",
       "      <td>smart</td>\n",
       "      <td>5.0</td>\n",
       "      <td>737.0</td>\n",
       "      <td>...</td>\n",
       "      <td>200</td>\n",
       "      <td>3</td>\n",
       "      <td>3</td>\n",
       "      <td>237.0</td>\n",
       "      <td>-46.0</td>\n",
       "      <td>8.0</td>\n",
       "      <td>711.0</td>\n",
       "      <td>0.0</td>\n",
       "      <td>1600.0</td>\n",
       "      <td>2861.0</td>\n",
       "    </tr>\n",
       "    <tr>\n",
       "      <th>405</th>\n",
       "      <td>1240</td>\n",
       "      <td>30</td>\n",
       "      <td>NaT</td>\n",
       "      <td>воронеж</td>\n",
       "      <td>зинаида</td>\n",
       "      <td>шарова</td>\n",
       "      <td>2018-02-27</td>\n",
       "      <td>ultra</td>\n",
       "      <td>3.0</td>\n",
       "      <td>372.0</td>\n",
       "      <td>...</td>\n",
       "      <td>150</td>\n",
       "      <td>1</td>\n",
       "      <td>1</td>\n",
       "      <td>-2628.0</td>\n",
       "      <td>-1000.0</td>\n",
       "      <td>-2.0</td>\n",
       "      <td>0.0</td>\n",
       "      <td>0.0</td>\n",
       "      <td>0.0</td>\n",
       "      <td>1950.0</td>\n",
       "    </tr>\n",
       "    <tr>\n",
       "      <th>652</th>\n",
       "      <td>1352</td>\n",
       "      <td>53</td>\n",
       "      <td>NaT</td>\n",
       "      <td>рязань</td>\n",
       "      <td>кристина</td>\n",
       "      <td>румянцева</td>\n",
       "      <td>2018-04-17</td>\n",
       "      <td>ultra</td>\n",
       "      <td>9.0</td>\n",
       "      <td>743.0</td>\n",
       "      <td>...</td>\n",
       "      <td>150</td>\n",
       "      <td>1</td>\n",
       "      <td>1</td>\n",
       "      <td>-2257.0</td>\n",
       "      <td>-990.0</td>\n",
       "      <td>-13.0</td>\n",
       "      <td>0.0</td>\n",
       "      <td>0.0</td>\n",
       "      <td>0.0</td>\n",
       "      <td>1950.0</td>\n",
       "    </tr>\n",
       "    <tr>\n",
       "      <th>2753</th>\n",
       "      <td>1401</td>\n",
       "      <td>42</td>\n",
       "      <td>NaT</td>\n",
       "      <td>москва</td>\n",
       "      <td>владислава</td>\n",
       "      <td>васильева</td>\n",
       "      <td>2018-01-24</td>\n",
       "      <td>smart</td>\n",
       "      <td>5.0</td>\n",
       "      <td>438.0</td>\n",
       "      <td>...</td>\n",
       "      <td>200</td>\n",
       "      <td>3</td>\n",
       "      <td>3</td>\n",
       "      <td>-62.0</td>\n",
       "      <td>-5.0</td>\n",
       "      <td>-3.0</td>\n",
       "      <td>0.0</td>\n",
       "      <td>0.0</td>\n",
       "      <td>0.0</td>\n",
       "      <td>550.0</td>\n",
       "    </tr>\n",
       "    <tr>\n",
       "      <th>2143</th>\n",
       "      <td>1249</td>\n",
       "      <td>25</td>\n",
       "      <td>NaT</td>\n",
       "      <td>курск</td>\n",
       "      <td>изольда</td>\n",
       "      <td>авдушева</td>\n",
       "      <td>2018-08-14</td>\n",
       "      <td>smart</td>\n",
       "      <td>12.0</td>\n",
       "      <td>231.0</td>\n",
       "      <td>...</td>\n",
       "      <td>200</td>\n",
       "      <td>3</td>\n",
       "      <td>3</td>\n",
       "      <td>-269.0</td>\n",
       "      <td>-27.0</td>\n",
       "      <td>1.0</td>\n",
       "      <td>0.0</td>\n",
       "      <td>0.0</td>\n",
       "      <td>200.0</td>\n",
       "      <td>750.0</td>\n",
       "    </tr>\n",
       "    <tr>\n",
       "      <th>1998</th>\n",
       "      <td>1217</td>\n",
       "      <td>42</td>\n",
       "      <td>NaT</td>\n",
       "      <td>ульяновск</td>\n",
       "      <td>ермолай</td>\n",
       "      <td>сазонов</td>\n",
       "      <td>2018-02-23</td>\n",
       "      <td>smart</td>\n",
       "      <td>10.0</td>\n",
       "      <td>463.0</td>\n",
       "      <td>...</td>\n",
       "      <td>200</td>\n",
       "      <td>3</td>\n",
       "      <td>3</td>\n",
       "      <td>-37.0</td>\n",
       "      <td>24.0</td>\n",
       "      <td>-0.0</td>\n",
       "      <td>0.0</td>\n",
       "      <td>72.0</td>\n",
       "      <td>0.0</td>\n",
       "      <td>622.0</td>\n",
       "    </tr>\n",
       "    <tr>\n",
       "      <th>1970</th>\n",
       "      <td>1212</td>\n",
       "      <td>21</td>\n",
       "      <td>NaT</td>\n",
       "      <td>саранск</td>\n",
       "      <td>руслан</td>\n",
       "      <td>пономарев</td>\n",
       "      <td>2018-11-09</td>\n",
       "      <td>smart</td>\n",
       "      <td>11.0</td>\n",
       "      <td>299.0</td>\n",
       "      <td>...</td>\n",
       "      <td>200</td>\n",
       "      <td>3</td>\n",
       "      <td>3</td>\n",
       "      <td>-201.0</td>\n",
       "      <td>53.0</td>\n",
       "      <td>1.0</td>\n",
       "      <td>0.0</td>\n",
       "      <td>159.0</td>\n",
       "      <td>200.0</td>\n",
       "      <td>909.0</td>\n",
       "    </tr>\n",
       "  </tbody>\n",
       "</table>\n",
       "<p>10 rows × 27 columns</p>\n",
       "</div>"
      ],
      "text/plain": [
       "      user_id  age churn_date             city  first_name  last_name  \\\n",
       "1439     1101   27        NaT           казань      онисим    колобов   \n",
       "351      1201   32 2018-12-03           москва    геннадий    веселов   \n",
       "1367     1079   20        NaT           москва      еремей    авроров   \n",
       "2677     1384   42        NaT  нижний новгород    кристина  касьянова   \n",
       "405      1240   30        NaT          воронеж     зинаида     шарова   \n",
       "652      1352   53        NaT           рязань    кристина  румянцева   \n",
       "2753     1401   42        NaT           москва  владислава  васильева   \n",
       "2143     1249   25        NaT            курск     изольда   авдушева   \n",
       "1998     1217   42        NaT        ульяновск     ермолай    сазонов   \n",
       "1970     1212   21        NaT          саранск      руслан  пономарев   \n",
       "\n",
       "       reg_date tariff_name  month  duration  ...  rub_per_gb  \\\n",
       "1439 2018-05-21       smart   11.0     617.0  ...         200   \n",
       "351  2018-08-06       ultra   10.0     723.0  ...         150   \n",
       "1367 2018-05-15       smart    6.0     607.0  ...         200   \n",
       "2677 2018-04-27       smart    5.0     737.0  ...         200   \n",
       "405  2018-02-27       ultra    3.0     372.0  ...         150   \n",
       "652  2018-04-17       ultra    9.0     743.0  ...         150   \n",
       "2753 2018-01-24       smart    5.0     438.0  ...         200   \n",
       "2143 2018-08-14       smart   12.0     231.0  ...         200   \n",
       "1998 2018-02-23       smart   10.0     463.0  ...         200   \n",
       "1970 2018-11-09       smart   11.0     299.0  ...         200   \n",
       "\n",
       "      rub_per_message  rub_per_minute  calls_over_lim  messages_over_lim  \\\n",
       "1439                3               3           117.0              -50.0   \n",
       "351                 1               1         -2277.0            -1000.0   \n",
       "1367                3               3           107.0              -17.0   \n",
       "2677                3               3           237.0              -46.0   \n",
       "405                 1               1         -2628.0            -1000.0   \n",
       "652                 1               1         -2257.0             -990.0   \n",
       "2753                3               3           -62.0               -5.0   \n",
       "2143                3               3          -269.0              -27.0   \n",
       "1998                3               3           -37.0               24.0   \n",
       "1970                3               3          -201.0               53.0   \n",
       "\n",
       "      gb_over_lim  calls_revenue  messages_revenue  traffic_revenue  \\\n",
       "1439         -5.0          351.0               0.0              0.0   \n",
       "351         -21.0            0.0               0.0              0.0   \n",
       "1367         -3.0          321.0               0.0              0.0   \n",
       "2677          8.0          711.0               0.0           1600.0   \n",
       "405          -2.0            0.0               0.0              0.0   \n",
       "652         -13.0            0.0               0.0              0.0   \n",
       "2753         -3.0            0.0               0.0              0.0   \n",
       "2143          1.0            0.0               0.0            200.0   \n",
       "1998         -0.0            0.0              72.0              0.0   \n",
       "1970          1.0            0.0             159.0            200.0   \n",
       "\n",
       "      total_revenue  \n",
       "1439          901.0  \n",
       "351          1950.0  \n",
       "1367          871.0  \n",
       "2677         2861.0  \n",
       "405          1950.0  \n",
       "652          1950.0  \n",
       "2753          550.0  \n",
       "2143          750.0  \n",
       "1998          622.0  \n",
       "1970          909.0  \n",
       "\n",
       "[10 rows x 27 columns]"
      ]
     },
     "execution_count": 101,
     "metadata": {},
     "output_type": "execute_result"
    }
   ],
   "source": [
    "data.sample(10)"
   ]
  },
  {
   "cell_type": "markdown",
   "metadata": {},
   "source": [
    "## Анализ данных"
   ]
  },
  {
   "cell_type": "markdown",
   "metadata": {},
   "source": [
    "При расчете фактически израсходованных в месяц услуг появилось достаточно много отрицательных значений, особенно в столбцах с расходом звонков и сообщений, - это означает, что лимит не был превышен. Может быть, пользователям и не требуется такое количество услуг в пакете, сколько предоставляет оператор.  \n",
    "Проанализируем поведение пользователей двух тарифов, выделив их в отдельные группы, поскольку условия тарифов сильно отличаются, а значит, отличается и количество, и поведение абонентов."
   ]
  },
  {
   "cell_type": "markdown",
   "metadata": {},
   "source": [
    "Сформируем выборки по каждому тарифу отдельно:"
   ]
  },
  {
   "cell_type": "code",
   "execution_count": 102,
   "metadata": {},
   "outputs": [],
   "source": [
    "smart = data.query('tariff_name == \"smart\"').copy()\n",
    "ultra = data.query('tariff_name == \"ultra\"').copy()"
   ]
  },
  {
   "cell_type": "markdown",
   "metadata": {},
   "source": [
    "### Тариф Smart"
   ]
  },
  {
   "cell_type": "markdown",
   "metadata": {},
   "source": [
    "Условия:  \n",
    "- Ежемесячная плата: 550 рублей;\n",
    "- Включено 500 минут разговора, 50 сообщений и 15 Гб интернет-трафика;  \n",
    "\n",
    "Стоимость услуг сверх тарифного пакета:\n",
    "- минута разговора: 3 рубля\n",
    "- сообщение: 3 рубля\n",
    "- 1 Гб интернет-трафика: 200 рублей"
   ]
  },
  {
   "cell_type": "markdown",
   "metadata": {},
   "source": [
    "Используем describe для полного описания столбца со звонками:"
   ]
  },
  {
   "cell_type": "code",
   "execution_count": 103,
   "metadata": {
    "scrolled": true
   },
   "outputs": [
    {
     "data": {
      "text/plain": [
       "count    2230.000000\n",
       "mean      417.747534\n",
       "std       190.476754\n",
       "min         0.000000\n",
       "25%       282.000000\n",
       "50%       421.500000\n",
       "75%       545.000000\n",
       "max      1435.000000\n",
       "Name: duration, dtype: float64"
      ]
     },
     "execution_count": 103,
     "metadata": {},
     "output_type": "execute_result"
    }
   ],
   "source": [
    "smart['duration'].describe()"
   ]
  },
  {
   "cell_type": "markdown",
   "metadata": {},
   "source": [
    "Судя по количеству записей, число пользователей тарифа Smart значительно превышает число пользователей тарифа Ultra. Получаем количество пользователей:"
   ]
  },
  {
   "cell_type": "code",
   "execution_count": 104,
   "metadata": {},
   "outputs": [
    {
     "data": {
      "text/plain": [
       "351"
      ]
     },
     "execution_count": 104,
     "metadata": {},
     "output_type": "execute_result"
    }
   ],
   "source": [
    "len(smart['user_id'].unique())"
   ]
  },
  {
   "cell_type": "markdown",
   "metadata": {},
   "source": [
    "Рассчитаем дисперсию, добавим параметр `ddof`, т.к. выборки разного размера:"
   ]
  },
  {
   "cell_type": "code",
   "execution_count": 105,
   "metadata": {},
   "outputs": [
    {
     "data": {
      "text/plain": [
       "36281.39383644456"
      ]
     },
     "execution_count": 105,
     "metadata": {},
     "output_type": "execute_result"
    }
   ],
   "source": [
    "# рассчитаем дисперсию\n",
    "var_smart_calls = smart['duration'].var(ddof=1)\n",
    "var_smart_calls"
   ]
  },
  {
   "cell_type": "markdown",
   "metadata": {},
   "source": [
    "Среднее количество минут для этой группы - 419, что не превышает установленное пакетом количество минут, значит, в среднем абонентам хватает пакета на месяц. Однако четверть абонентов совершает явно больше звонков, а максимальное значение вообще превышает размер пакета почти в три раза."
   ]
  },
  {
   "cell_type": "code",
   "execution_count": 106,
   "metadata": {
    "scrolled": false
   },
   "outputs": [
    {
     "data": {
      "image/png": "[encoded data removed]",
      "text/plain": [
       "<Figure size 576x576 with 1 Axes>"
      ]
     },
     "metadata": {
      "needs_background": "light"
     },
     "output_type": "display_data"
    }
   ],
   "source": [
    "# разбиваем 500 минут пакета на интервалы по 20 минут\n",
    "fig,ax = plt.subplots(figsize=(8,8))\n",
    "ax.set_title('Duration of calls Smart')\n",
    "ax.set_xlabel('duration, min')\n",
    "ax.set_ylabel('quantity of users')\n",
    "sns.histplot(smart, x='duration', bins=25, kde=True)\n",
    "plt.show()"
   ]
  },
  {
   "cell_type": "markdown",
   "metadata": {},
   "source": [
    "Насколько видно из графика, продолжительность звонков распределена нормально, основная масса значений лежит в промежутке от 220 до 580 минут в месяц. Очевидно, что максимальное значение 1435 - это выброс. Кажется, этому абоненту стоит задуматься над сменой тарифа))  \n",
    "Проверим, насколько сильно это значение искажает средний показатель."
   ]
  },
  {
   "cell_type": "code",
   "execution_count": 107,
   "metadata": {
    "scrolled": false
   },
   "outputs": [
    {
     "data": {
      "text/html": [
       "<div>\n",
       "<style scoped>\n",
       "    .dataframe tbody tr th:only-of-type {\n",
       "        vertical-align: middle;\n",
       "    }\n",
       "\n",
       "    .dataframe tbody tr th {\n",
       "        vertical-align: top;\n",
       "    }\n",
       "\n",
       "    .dataframe thead th {\n",
       "        text-align: right;\n",
       "    }\n",
       "</style>\n",
       "<table border=\"1\" class=\"dataframe\">\n",
       "  <thead>\n",
       "    <tr style=\"text-align: right;\">\n",
       "      <th></th>\n",
       "      <th>user_id</th>\n",
       "      <th>age</th>\n",
       "      <th>churn_date</th>\n",
       "      <th>city</th>\n",
       "      <th>first_name</th>\n",
       "      <th>last_name</th>\n",
       "      <th>reg_date</th>\n",
       "      <th>tariff_name</th>\n",
       "      <th>month</th>\n",
       "      <th>duration</th>\n",
       "      <th>...</th>\n",
       "      <th>rub_per_gb</th>\n",
       "      <th>rub_per_message</th>\n",
       "      <th>rub_per_minute</th>\n",
       "      <th>calls_over_lim</th>\n",
       "      <th>messages_over_lim</th>\n",
       "      <th>gb_over_lim</th>\n",
       "      <th>calls_revenue</th>\n",
       "      <th>messages_revenue</th>\n",
       "      <th>traffic_revenue</th>\n",
       "      <th>total_revenue</th>\n",
       "    </tr>\n",
       "  </thead>\n",
       "  <tbody>\n",
       "    <tr>\n",
       "      <th>1989</th>\n",
       "      <td>1216</td>\n",
       "      <td>74</td>\n",
       "      <td>NaT</td>\n",
       "      <td>волгоград</td>\n",
       "      <td>рустам</td>\n",
       "      <td>малинин</td>\n",
       "      <td>2018-11-23</td>\n",
       "      <td>smart</td>\n",
       "      <td>12.0</td>\n",
       "      <td>1435.0</td>\n",
       "      <td>...</td>\n",
       "      <td>200</td>\n",
       "      <td>3</td>\n",
       "      <td>3</td>\n",
       "      <td>935.0</td>\n",
       "      <td>14.0</td>\n",
       "      <td>5.0</td>\n",
       "      <td>2805.0</td>\n",
       "      <td>42.0</td>\n",
       "      <td>1000.0</td>\n",
       "      <td>4397.0</td>\n",
       "    </tr>\n",
       "  </tbody>\n",
       "</table>\n",
       "<p>1 rows × 27 columns</p>\n",
       "</div>"
      ],
      "text/plain": [
       "      user_id  age churn_date       city first_name last_name   reg_date  \\\n",
       "1989     1216   74        NaT  волгоград     рустам   малинин 2018-11-23   \n",
       "\n",
       "     tariff_name  month  duration  ...  rub_per_gb  rub_per_message  \\\n",
       "1989       smart   12.0    1435.0  ...         200                3   \n",
       "\n",
       "      rub_per_minute  calls_over_lim  messages_over_lim  gb_over_lim  \\\n",
       "1989               3           935.0               14.0          5.0   \n",
       "\n",
       "      calls_revenue  messages_revenue  traffic_revenue  total_revenue  \n",
       "1989         2805.0              42.0           1000.0         4397.0  \n",
       "\n",
       "[1 rows x 27 columns]"
      ]
     },
     "execution_count": 107,
     "metadata": {},
     "output_type": "execute_result"
    }
   ],
   "source": [
    "smart.query('duration > 1200')"
   ]
  },
  {
   "cell_type": "markdown",
   "metadata": {},
   "source": [
    "Фильтруем редкие значения > 1000 на графике:"
   ]
  },
  {
   "cell_type": "code",
   "execution_count": 108,
   "metadata": {},
   "outputs": [
    {
     "data": {
      "text/plain": [
       "415.6050382366172"
      ]
     },
     "execution_count": 108,
     "metadata": {},
     "output_type": "execute_result"
    }
   ],
   "source": [
    "smart.query('duration < 1000')['duration'].mean()"
   ]
  },
  {
   "cell_type": "markdown",
   "metadata": {},
   "source": [
    "Среднее, которое получено методом `describe` - 419,06, а без \"тонкого хвоста\" - 415,6. Разница не настолько значительна, чтобы отфильтровывать эти данные."
   ]
  },
  {
   "cell_type": "code",
   "execution_count": 109,
   "metadata": {},
   "outputs": [
    {
     "data": {
      "text/html": [
       "<div>\n",
       "<style scoped>\n",
       "    .dataframe tbody tr th:only-of-type {\n",
       "        vertical-align: middle;\n",
       "    }\n",
       "\n",
       "    .dataframe tbody tr th {\n",
       "        vertical-align: top;\n",
       "    }\n",
       "\n",
       "    .dataframe thead th {\n",
       "        text-align: right;\n",
       "    }\n",
       "</style>\n",
       "<table border=\"1\" class=\"dataframe\">\n",
       "  <thead>\n",
       "    <tr style=\"text-align: right;\">\n",
       "      <th></th>\n",
       "      <th>calls_mean</th>\n",
       "    </tr>\n",
       "    <tr>\n",
       "      <th>month</th>\n",
       "      <th></th>\n",
       "    </tr>\n",
       "  </thead>\n",
       "  <tbody>\n",
       "    <tr>\n",
       "      <th>1.0</th>\n",
       "      <td>203.852941</td>\n",
       "    </tr>\n",
       "    <tr>\n",
       "      <th>2.0</th>\n",
       "      <td>298.689655</td>\n",
       "    </tr>\n",
       "    <tr>\n",
       "      <th>3.0</th>\n",
       "      <td>390.051948</td>\n",
       "    </tr>\n",
       "    <tr>\n",
       "      <th>4.0</th>\n",
       "      <td>367.133929</td>\n",
       "    </tr>\n",
       "    <tr>\n",
       "      <th>5.0</th>\n",
       "      <td>387.361702</td>\n",
       "    </tr>\n",
       "    <tr>\n",
       "      <th>6.0</th>\n",
       "      <td>395.640244</td>\n",
       "    </tr>\n",
       "    <tr>\n",
       "      <th>7.0</th>\n",
       "      <td>408.353234</td>\n",
       "    </tr>\n",
       "    <tr>\n",
       "      <th>8.0</th>\n",
       "      <td>421.468085</td>\n",
       "    </tr>\n",
       "    <tr>\n",
       "      <th>9.0</th>\n",
       "      <td>428.611538</td>\n",
       "    </tr>\n",
       "    <tr>\n",
       "      <th>10.0</th>\n",
       "      <td>426.136054</td>\n",
       "    </tr>\n",
       "    <tr>\n",
       "      <th>11.0</th>\n",
       "      <td>435.265823</td>\n",
       "    </tr>\n",
       "    <tr>\n",
       "      <th>12.0</th>\n",
       "      <td>477.144970</td>\n",
       "    </tr>\n",
       "  </tbody>\n",
       "</table>\n",
       "</div>"
      ],
      "text/plain": [
       "       calls_mean\n",
       "month            \n",
       "1.0    203.852941\n",
       "2.0    298.689655\n",
       "3.0    390.051948\n",
       "4.0    367.133929\n",
       "5.0    387.361702\n",
       "6.0    395.640244\n",
       "7.0    408.353234\n",
       "8.0    421.468085\n",
       "9.0    428.611538\n",
       "10.0   426.136054\n",
       "11.0   435.265823\n",
       "12.0   477.144970"
      ]
     },
     "execution_count": 109,
     "metadata": {},
     "output_type": "execute_result"
    }
   ],
   "source": [
    "smart_calls = smart.pivot_table(index='month', values='duration')\n",
    "smart_calls.columns = ['calls_mean']\n",
    "smart_calls"
   ]
  },
  {
   "cell_type": "markdown",
   "metadata": {},
   "source": [
    "В среднем в начале года абоненты совершали в два раза меньше звонков, чем в конце. Это может быть связано с ежегодными праздниками и закрытием рабочих задач к концу года, а может, была проведена маркетинговая кампания, которая привлекла больше пользователей (например, могли поменяться условия тарифа)."
   ]
  },
  {
   "cell_type": "code",
   "execution_count": 110,
   "metadata": {
    "scrolled": true
   },
   "outputs": [
    {
     "data": {
      "text/plain": [
       "month\n",
       "1.0      43\n",
       "2.0      82\n",
       "3.0     114\n",
       "4.0     167\n",
       "5.0     208\n",
       "6.0     248\n",
       "7.0     292\n",
       "8.0     342\n",
       "9.0     375\n",
       "10.0    417\n",
       "11.0    450\n",
       "12.0    478\n",
       "Name: user_id, dtype: int64"
      ]
     },
     "execution_count": 110,
     "metadata": {},
     "output_type": "execute_result"
    }
   ],
   "source": [
    "data.groupby(by='month')['user_id'].count()"
   ]
  },
  {
   "cell_type": "markdown",
   "metadata": {},
   "source": [
    "Клиенты действительно приходили в течение года, и количество клиентов увеличивалось, скорее всего дело все-таки в изменении условий тарифа."
   ]
  },
  {
   "cell_type": "markdown",
   "metadata": {},
   "source": [
    "Аналогично для сообщений"
   ]
  },
  {
   "cell_type": "code",
   "execution_count": 111,
   "metadata": {
    "scrolled": true
   },
   "outputs": [
    {
     "data": {
      "text/plain": [
       "count    2230.000000\n",
       "mean       33.369058\n",
       "std        28.230396\n",
       "min         0.000000\n",
       "25%        10.000000\n",
       "50%        28.000000\n",
       "75%        51.000000\n",
       "max       143.000000\n",
       "Name: messages_count, dtype: float64"
      ]
     },
     "execution_count": 111,
     "metadata": {},
     "output_type": "execute_result"
    }
   ],
   "source": [
    "smart['messages_count'].describe()"
   ]
  },
  {
   "cell_type": "code",
   "execution_count": 112,
   "metadata": {},
   "outputs": [
    {
     "data": {
      "text/plain": [
       "796.9552557301104"
      ]
     },
     "execution_count": 112,
     "metadata": {},
     "output_type": "execute_result"
    }
   ],
   "source": [
    "var_smart_msg = smart['messages_count'].var(ddof=1)\n",
    "var_smart_msg"
   ]
  },
  {
   "cell_type": "code",
   "execution_count": 113,
   "metadata": {},
   "outputs": [
    {
     "data": {
      "image/png": "[encoded data removed]",
      "text/plain": [
       "<Figure size 576x576 with 1 Axes>"
      ]
     },
     "metadata": {
      "needs_background": "light"
     },
     "output_type": "display_data"
    }
   ],
   "source": [
    "fig,ax = plt.subplots(figsize=(8,8))\n",
    "ax.set_title('Quantity of messages Smart')\n",
    "ax.set_xlabel('messages by users')\n",
    "ax.set_ylabel('quantity of users')\n",
    "msg_hist = sns.histplot(smart['messages_count'], kde=True, bins=25, ax=ax)\n",
    "plt.show()"
   ]
  },
  {
   "cell_type": "code",
   "execution_count": 114,
   "metadata": {},
   "outputs": [
    {
     "data": {
      "text/html": [
       "<div>\n",
       "<style scoped>\n",
       "    .dataframe tbody tr th:only-of-type {\n",
       "        vertical-align: middle;\n",
       "    }\n",
       "\n",
       "    .dataframe tbody tr th {\n",
       "        vertical-align: top;\n",
       "    }\n",
       "\n",
       "    .dataframe thead th {\n",
       "        text-align: right;\n",
       "    }\n",
       "</style>\n",
       "<table border=\"1\" class=\"dataframe\">\n",
       "  <thead>\n",
       "    <tr style=\"text-align: right;\">\n",
       "      <th></th>\n",
       "      <th>messages_mean</th>\n",
       "    </tr>\n",
       "    <tr>\n",
       "      <th>month</th>\n",
       "      <th></th>\n",
       "    </tr>\n",
       "  </thead>\n",
       "  <tbody>\n",
       "    <tr>\n",
       "      <th>1.0</th>\n",
       "      <td>18.235294</td>\n",
       "    </tr>\n",
       "    <tr>\n",
       "      <th>2.0</th>\n",
       "      <td>24.086207</td>\n",
       "    </tr>\n",
       "    <tr>\n",
       "      <th>3.0</th>\n",
       "      <td>31.857143</td>\n",
       "    </tr>\n",
       "    <tr>\n",
       "      <th>4.0</th>\n",
       "      <td>30.741071</td>\n",
       "    </tr>\n",
       "    <tr>\n",
       "      <th>5.0</th>\n",
       "      <td>33.773050</td>\n",
       "    </tr>\n",
       "    <tr>\n",
       "      <th>6.0</th>\n",
       "      <td>33.402439</td>\n",
       "    </tr>\n",
       "    <tr>\n",
       "      <th>7.0</th>\n",
       "      <td>33.751244</td>\n",
       "    </tr>\n",
       "    <tr>\n",
       "      <th>8.0</th>\n",
       "      <td>33.638298</td>\n",
       "    </tr>\n",
       "    <tr>\n",
       "      <th>9.0</th>\n",
       "      <td>33.638462</td>\n",
       "    </tr>\n",
       "    <tr>\n",
       "      <th>10.0</th>\n",
       "      <td>33.765306</td>\n",
       "    </tr>\n",
       "    <tr>\n",
       "      <th>11.0</th>\n",
       "      <td>34.075949</td>\n",
       "    </tr>\n",
       "    <tr>\n",
       "      <th>12.0</th>\n",
       "      <td>35.887574</td>\n",
       "    </tr>\n",
       "  </tbody>\n",
       "</table>\n",
       "</div>"
      ],
      "text/plain": [
       "       messages_mean\n",
       "month               \n",
       "1.0        18.235294\n",
       "2.0        24.086207\n",
       "3.0        31.857143\n",
       "4.0        30.741071\n",
       "5.0        33.773050\n",
       "6.0        33.402439\n",
       "7.0        33.751244\n",
       "8.0        33.638298\n",
       "9.0        33.638462\n",
       "10.0       33.765306\n",
       "11.0       34.075949\n",
       "12.0       35.887574"
      ]
     },
     "execution_count": 114,
     "metadata": {},
     "output_type": "execute_result"
    }
   ],
   "source": [
    "smart_messages = smart.pivot_table(index='month', values='messages_count')\n",
    "smart_messages.columns = ['messages_mean']\n",
    "smart_messages"
   ]
  },
  {
   "cell_type": "markdown",
   "metadata": {},
   "source": [
    "График сильно скошен влево: подавляющее большинство абонентов Smart не используют сообщения вообще. В среднем абоненты используют чуть больше половины пакета сообщений (30), что объяснимо, ведь зачастую удобнее использовать мессенджеры или позвонить."
   ]
  },
  {
   "cell_type": "markdown",
   "metadata": {},
   "source": [
    "Траффик:"
   ]
  },
  {
   "cell_type": "code",
   "execution_count": 115,
   "metadata": {
    "scrolled": true
   },
   "outputs": [
    {
     "data": {
      "text/plain": [
       "count     2230.0\n",
       "mean     16201.0\n",
       "std       5879.0\n",
       "min          0.0\n",
       "25%      12630.0\n",
       "50%      16505.0\n",
       "75%      20042.0\n",
       "max      38552.0\n",
       "Name: mb_used, dtype: float64"
      ]
     },
     "execution_count": 115,
     "metadata": {},
     "output_type": "execute_result"
    }
   ],
   "source": [
    "smart['mb_used'].describe().round()"
   ]
  },
  {
   "cell_type": "code",
   "execution_count": 116,
   "metadata": {},
   "outputs": [
    {
     "data": {
      "text/plain": [
       "34564843.48129721"
      ]
     },
     "execution_count": 116,
     "metadata": {},
     "output_type": "execute_result"
    }
   ],
   "source": [
    "var_smart_traffic = smart['mb_used'].var(ddof=1)\n",
    "var_smart_traffic"
   ]
  },
  {
   "cell_type": "code",
   "execution_count": 117,
   "metadata": {},
   "outputs": [
    {
     "data": {
      "image/png": "[encoded data removed]",
      "text/plain": [
       "<Figure size 576x576 with 1 Axes>"
      ]
     },
     "metadata": {
      "needs_background": "light"
     },
     "output_type": "display_data"
    }
   ],
   "source": [
    "fig,ax = plt.subplots(figsize=(8,8))\n",
    "ax.set_title('Traffic Smart')\n",
    "ax.set_ylabel('quantity of users')\n",
    "sns.histplot(smart['mb_used'], kde=True, bins=20)\n",
    "plt.show()"
   ]
  },
  {
   "cell_type": "code",
   "execution_count": 118,
   "metadata": {
    "scrolled": false
   },
   "outputs": [
    {
     "data": {
      "text/html": [
       "<div>\n",
       "<style scoped>\n",
       "    .dataframe tbody tr th:only-of-type {\n",
       "        vertical-align: middle;\n",
       "    }\n",
       "\n",
       "    .dataframe tbody tr th {\n",
       "        vertical-align: top;\n",
       "    }\n",
       "\n",
       "    .dataframe thead th {\n",
       "        text-align: right;\n",
       "    }\n",
       "</style>\n",
       "<table border=\"1\" class=\"dataframe\">\n",
       "  <thead>\n",
       "    <tr style=\"text-align: right;\">\n",
       "      <th></th>\n",
       "      <th>traffic_mean</th>\n",
       "    </tr>\n",
       "    <tr>\n",
       "      <th>month</th>\n",
       "      <th></th>\n",
       "    </tr>\n",
       "  </thead>\n",
       "  <tbody>\n",
       "    <tr>\n",
       "      <th>1.0</th>\n",
       "      <td>8513.717647</td>\n",
       "    </tr>\n",
       "    <tr>\n",
       "      <th>2.0</th>\n",
       "      <td>11597.054310</td>\n",
       "    </tr>\n",
       "    <tr>\n",
       "      <th>3.0</th>\n",
       "      <td>15104.159091</td>\n",
       "    </tr>\n",
       "    <tr>\n",
       "      <th>4.0</th>\n",
       "      <td>13462.180625</td>\n",
       "    </tr>\n",
       "    <tr>\n",
       "      <th>5.0</th>\n",
       "      <td>15805.184326</td>\n",
       "    </tr>\n",
       "    <tr>\n",
       "      <th>6.0</th>\n",
       "      <td>15794.647988</td>\n",
       "    </tr>\n",
       "    <tr>\n",
       "      <th>7.0</th>\n",
       "      <td>15743.150348</td>\n",
       "    </tr>\n",
       "    <tr>\n",
       "      <th>8.0</th>\n",
       "      <td>16610.720085</td>\n",
       "    </tr>\n",
       "    <tr>\n",
       "      <th>9.0</th>\n",
       "      <td>16303.578808</td>\n",
       "    </tr>\n",
       "    <tr>\n",
       "      <th>10.0</th>\n",
       "      <td>16757.122891</td>\n",
       "    </tr>\n",
       "    <tr>\n",
       "      <th>11.0</th>\n",
       "      <td>16895.696646</td>\n",
       "    </tr>\n",
       "    <tr>\n",
       "      <th>12.0</th>\n",
       "      <td>18060.071331</td>\n",
       "    </tr>\n",
       "  </tbody>\n",
       "</table>\n",
       "</div>"
      ],
      "text/plain": [
       "       traffic_mean\n",
       "month              \n",
       "1.0     8513.717647\n",
       "2.0    11597.054310\n",
       "3.0    15104.159091\n",
       "4.0    13462.180625\n",
       "5.0    15805.184326\n",
       "6.0    15794.647988\n",
       "7.0    15743.150348\n",
       "8.0    16610.720085\n",
       "9.0    16303.578808\n",
       "10.0   16757.122891\n",
       "11.0   16895.696646\n",
       "12.0   18060.071331"
      ]
     },
     "execution_count": 118,
     "metadata": {},
     "output_type": "execute_result"
    }
   ],
   "source": [
    "smart_traffic = smart.pivot_table(index='month', values='mb_used')\n",
    "smart_traffic.columns = ['traffic_mean']\n",
    "smart_traffic"
   ]
  },
  {
   "cell_type": "markdown",
   "metadata": {},
   "source": [
    "По всем абонентам виден незначительный перерасход включенного в стоимость пакета интернета, кроме января и февраля. В среднем абоненты тарифа Smart используют 16201 Мб (15 Гб) интернета в месяц, в основной массе им требуется от 12630 Мб (12 Гб) до 20242 Мб (19 Гб). Максимальный расход траффика в этой группе 38552 Мб (37 Гб)."
   ]
  },
  {
   "cell_type": "markdown",
   "metadata": {},
   "source": [
    "#### Выводы"
   ]
  },
  {
   "cell_type": "markdown",
   "metadata": {},
   "source": [
    "Итак, для абонентов тарифа Smart:\n",
    "- Сообщений в классическом понимании пользователи этой группы отправляют немного - в среднем 38 в месяц, что больше половины пакета для этого тарифа;\n",
    "- Более актуальным является пакет минут. В среднем абоненты используют включенный в стоимость пакет минут практически полностью (419 минут), и примерно четверть перерасходует лимит в течение месяца. Основная масса значений лежит в промежутке от 220 до 580 минут в месяц. При этом есть значительная разница в усредненных данных для начала и конца года: в первые два месяца абоненты использовали до 300 минут;\n",
    "- Интернет в этом тарифе используется не так активно, вероятно, из-за высокой стоимости. В среднем абоненты используют пакет интернета полностью, либо чуть меньше, чем встроено в тариф. Перерасход траффика в этой группе незначительный и не превышает 3 ГБ.\n",
    "\n",
    "Дополнительно и из природного любопытства проверим, кому из пользователей можно предложить переход на тариф Ultra или дополнительные пакеты минут и интернета."
   ]
  },
  {
   "cell_type": "markdown",
   "metadata": {},
   "source": [
    "Установим условия, исходя из полученных данных:\n",
    "- перерасход минут больше, чем в два раза;\n",
    "- перерасход траффика не менее 30 Гб, именно столько входит в тариф Ultra;\n",
    "- для сообщений не установлены границы, поскольку основная прибыль явно получена от звонков и интернета."
   ]
  },
  {
   "cell_type": "code",
   "execution_count": 119,
   "metadata": {
    "scrolled": true
   },
   "outputs": [
    {
     "data": {
      "text/html": [
       "<div>\n",
       "<style scoped>\n",
       "    .dataframe tbody tr th:only-of-type {\n",
       "        vertical-align: middle;\n",
       "    }\n",
       "\n",
       "    .dataframe tbody tr th {\n",
       "        vertical-align: top;\n",
       "    }\n",
       "\n",
       "    .dataframe thead th {\n",
       "        text-align: right;\n",
       "    }\n",
       "</style>\n",
       "<table border=\"1\" class=\"dataframe\">\n",
       "  <thead>\n",
       "    <tr style=\"text-align: right;\">\n",
       "      <th></th>\n",
       "      <th>user_id</th>\n",
       "      <th>first_name</th>\n",
       "      <th>last_name</th>\n",
       "      <th>total_revenue</th>\n",
       "      <th>calls_over_lim</th>\n",
       "      <th>gb_over_lim</th>\n",
       "    </tr>\n",
       "  </thead>\n",
       "  <tbody>\n",
       "    <tr>\n",
       "      <th>3159</th>\n",
       "      <td>1486</td>\n",
       "      <td>матвей</td>\n",
       "      <td>моргунов</td>\n",
       "      <td>6770.0</td>\n",
       "      <td>507.0</td>\n",
       "      <td>23.0</td>\n",
       "    </tr>\n",
       "    <tr>\n",
       "      <th>2178</th>\n",
       "      <td>1261</td>\n",
       "      <td>мадина</td>\n",
       "      <td>пантелеева</td>\n",
       "      <td>5672.0</td>\n",
       "      <td>574.0</td>\n",
       "      <td>17.0</td>\n",
       "    </tr>\n",
       "    <tr>\n",
       "      <th>1989</th>\n",
       "      <td>1216</td>\n",
       "      <td>рустам</td>\n",
       "      <td>малинин</td>\n",
       "      <td>4397.0</td>\n",
       "      <td>935.0</td>\n",
       "      <td>5.0</td>\n",
       "    </tr>\n",
       "    <tr>\n",
       "      <th>2061</th>\n",
       "      <td>1229</td>\n",
       "      <td>нелли</td>\n",
       "      <td>зубкова</td>\n",
       "      <td>4116.0</td>\n",
       "      <td>522.0</td>\n",
       "      <td>10.0</td>\n",
       "    </tr>\n",
       "    <tr>\n",
       "      <th>2993</th>\n",
       "      <td>1451</td>\n",
       "      <td>виктория</td>\n",
       "      <td>завьялова</td>\n",
       "      <td>2882.0</td>\n",
       "      <td>644.0</td>\n",
       "      <td>2.0</td>\n",
       "    </tr>\n",
       "    <tr>\n",
       "      <th>2441</th>\n",
       "      <td>1319</td>\n",
       "      <td>харитон</td>\n",
       "      <td>парфенов</td>\n",
       "      <td>2665.0</td>\n",
       "      <td>505.0</td>\n",
       "      <td>3.0</td>\n",
       "    </tr>\n",
       "  </tbody>\n",
       "</table>\n",
       "</div>"
      ],
      "text/plain": [
       "      user_id first_name   last_name  total_revenue  calls_over_lim  \\\n",
       "3159     1486     матвей    моргунов         6770.0           507.0   \n",
       "2178     1261     мадина  пантелеева         5672.0           574.0   \n",
       "1989     1216     рустам     малинин         4397.0           935.0   \n",
       "2061     1229      нелли     зубкова         4116.0           522.0   \n",
       "2993     1451   виктория   завьялова         2882.0           644.0   \n",
       "2441     1319    харитон    парфенов         2665.0           505.0   \n",
       "\n",
       "      gb_over_lim  \n",
       "3159         23.0  \n",
       "2178         17.0  \n",
       "1989          5.0  \n",
       "2061         10.0  \n",
       "2993          2.0  \n",
       "2441          3.0  "
      ]
     },
     "execution_count": 119,
     "metadata": {},
     "output_type": "execute_result"
    }
   ],
   "source": [
    "def overrun_calc(row):\n",
    "    if (row['calls_over_lim'] > 500) or (row['gb_over_lim'] >= 30):\n",
    "        return 'move'\n",
    "smart['change_tariff'] = smart.apply(overrun_calc, axis=1)\n",
    "\n",
    "#создаем список жертв холодного обзвона\n",
    "list_for_suggestion = smart.query('change_tariff == \"move\"')[[\n",
    "    'user_id','first_name','last_name','total_revenue','calls_over_lim','gb_over_lim']]\n",
    "list_for_suggestion.sort_values(by='total_revenue', ascending=False)"
   ]
  },
  {
   "cell_type": "markdown",
   "metadata": {},
   "source": [
    "Люди любят, когда им предлагают более выгодные условия, и это может повысить их лояльность. При этом они потребляют столько услуг, что общий доход не пострадает. Наверное, а может и нет, но это тема для другого исследования. Это была рекламная пауза, переходим к тарифу Ultra."
   ]
  },
  {
   "cell_type": "markdown",
   "metadata": {},
   "source": [
    "### Тариф Ultra"
   ]
  },
  {
   "cell_type": "markdown",
   "metadata": {},
   "source": [
    "Условия:  \n",
    "- Ежемесячная плата: 1950 рублей;\n",
    "- Включено 3000 минут разговора, 1000 сообщений и 30 Гб интернет-трафика.  \n",
    "\n",
    "Стоимость услуг сверх тарифного пакета:  \n",
    "- минута разговора: 1 рубль;\n",
    "- сообщение: 1 рубль;\n",
    "- 1 Гб интернет-трафика: 150 рублей."
   ]
  },
  {
   "cell_type": "code",
   "execution_count": 120,
   "metadata": {},
   "outputs": [],
   "source": [
    "ultra = data.query('tariff_name == \"ultra\"')"
   ]
  },
  {
   "cell_type": "code",
   "execution_count": 121,
   "metadata": {},
   "outputs": [
    {
     "data": {
      "text/plain": [
       "149"
      ]
     },
     "execution_count": 121,
     "metadata": {},
     "output_type": "execute_result"
    }
   ],
   "source": [
    "# получаем количество пользователей\n",
    "len(ultra['user_id'].unique())"
   ]
  },
  {
   "cell_type": "code",
   "execution_count": 122,
   "metadata": {},
   "outputs": [
    {
     "data": {
      "text/plain": [
       "count     986.000000\n",
       "mean      526.089249\n",
       "std       317.887549\n",
       "min         0.000000\n",
       "25%       282.500000\n",
       "50%       518.000000\n",
       "75%       751.750000\n",
       "max      1673.000000\n",
       "Name: duration, dtype: float64"
      ]
     },
     "execution_count": 122,
     "metadata": {},
     "output_type": "execute_result"
    }
   ],
   "source": [
    "ultra['duration'].describe()"
   ]
  },
  {
   "cell_type": "code",
   "execution_count": 123,
   "metadata": {},
   "outputs": [
    {
     "data": {
      "text/plain": [
       "101052.49354928388"
      ]
     },
     "execution_count": 123,
     "metadata": {},
     "output_type": "execute_result"
    }
   ],
   "source": [
    "var_ultra_calls = ultra['duration'].var(ddof=1)\n",
    "var_ultra_calls"
   ]
  },
  {
   "cell_type": "code",
   "execution_count": 124,
   "metadata": {},
   "outputs": [
    {
     "data": {
      "image/png": "[encoded data removed]",
      "text/plain": [
       "<Figure size 576x576 with 1 Axes>"
      ]
     },
     "metadata": {
      "needs_background": "light"
     },
     "output_type": "display_data"
    }
   ],
   "source": [
    "fg,ax = plt.subplots(figsize=(8,8))\n",
    "ax.set_title('Duration of calls')\n",
    "ax.set_xlabel('duration, min')\n",
    "smart['duration'].plot(kind='hist', bins=30, label='smart', color='red', legend=True)\n",
    "ultra['duration'].plot(kind='hist', ax=ax, label='ultra', color='orange', legend=True, alpha=0.7, grid=True)\n",
    "plt.show()"
   ]
  },
  {
   "cell_type": "markdown",
   "metadata": {},
   "source": [
    "Из графика и описания видно, что и в этой группе есть выбивающиеся значения - они лежат за пределами 1300 минут. Проверим, как изменится среднее, если отфильтровать их."
   ]
  },
  {
   "cell_type": "code",
   "execution_count": 125,
   "metadata": {},
   "outputs": [
    {
     "data": {
      "text/plain": [
       "517.9099283520983"
      ]
     },
     "execution_count": 125,
     "metadata": {},
     "output_type": "execute_result"
    }
   ],
   "source": [
    "ultra.query('duration < 1300')['duration'].mean()"
   ]
  },
  {
   "cell_type": "markdown",
   "metadata": {},
   "source": [
    "Не критично, 537 против 545 минут, которые используют абоненты Ultra в месяц в среднем.\n",
    "Распределение для пользователей тарифа Ultra скошено влево - более 800 минут в месяц использует менее четвертой части пользователей, и еще четверть пользуется звонками по минимуму - менее 300 минут в месяц. При этом установленного лимита в 3000 минут не достигает никто. Основная масса абонентов в этой группе использует от 300 до 750 минут в месяц."
   ]
  },
  {
   "cell_type": "code",
   "execution_count": 126,
   "metadata": {},
   "outputs": [
    {
     "data": {
      "text/html": [
       "<div>\n",
       "<style scoped>\n",
       "    .dataframe tbody tr th:only-of-type {\n",
       "        vertical-align: middle;\n",
       "    }\n",
       "\n",
       "    .dataframe tbody tr th {\n",
       "        vertical-align: top;\n",
       "    }\n",
       "\n",
       "    .dataframe thead th {\n",
       "        text-align: right;\n",
       "    }\n",
       "</style>\n",
       "<table border=\"1\" class=\"dataframe\">\n",
       "  <thead>\n",
       "    <tr style=\"text-align: right;\">\n",
       "      <th></th>\n",
       "      <th>calls_mean</th>\n",
       "    </tr>\n",
       "    <tr>\n",
       "      <th>month</th>\n",
       "      <th></th>\n",
       "    </tr>\n",
       "  </thead>\n",
       "  <tbody>\n",
       "    <tr>\n",
       "      <th>1.0</th>\n",
       "      <td>428.111111</td>\n",
       "    </tr>\n",
       "    <tr>\n",
       "      <th>2.0</th>\n",
       "      <td>297.125000</td>\n",
       "    </tr>\n",
       "    <tr>\n",
       "      <th>3.0</th>\n",
       "      <td>489.648649</td>\n",
       "    </tr>\n",
       "    <tr>\n",
       "      <th>4.0</th>\n",
       "      <td>458.018182</td>\n",
       "    </tr>\n",
       "    <tr>\n",
       "      <th>5.0</th>\n",
       "      <td>510.328358</td>\n",
       "    </tr>\n",
       "    <tr>\n",
       "      <th>6.0</th>\n",
       "      <td>479.702381</td>\n",
       "    </tr>\n",
       "    <tr>\n",
       "      <th>7.0</th>\n",
       "      <td>545.791209</td>\n",
       "    </tr>\n",
       "    <tr>\n",
       "      <th>8.0</th>\n",
       "      <td>510.775701</td>\n",
       "    </tr>\n",
       "    <tr>\n",
       "      <th>9.0</th>\n",
       "      <td>539.443478</td>\n",
       "    </tr>\n",
       "    <tr>\n",
       "      <th>10.0</th>\n",
       "      <td>558.081301</td>\n",
       "    </tr>\n",
       "    <tr>\n",
       "      <th>11.0</th>\n",
       "      <td>541.380597</td>\n",
       "    </tr>\n",
       "    <tr>\n",
       "      <th>12.0</th>\n",
       "      <td>588.571429</td>\n",
       "    </tr>\n",
       "  </tbody>\n",
       "</table>\n",
       "</div>"
      ],
      "text/plain": [
       "       calls_mean\n",
       "month            \n",
       "1.0    428.111111\n",
       "2.0    297.125000\n",
       "3.0    489.648649\n",
       "4.0    458.018182\n",
       "5.0    510.328358\n",
       "6.0    479.702381\n",
       "7.0    545.791209\n",
       "8.0    510.775701\n",
       "9.0    539.443478\n",
       "10.0   558.081301\n",
       "11.0   541.380597\n",
       "12.0   588.571429"
      ]
     },
     "execution_count": 126,
     "metadata": {},
     "output_type": "execute_result"
    }
   ],
   "source": [
    "ultra_calls = ultra.pivot_table(index='month', values='duration')\n",
    "ultra_calls.columns = ['calls_mean']\n",
    "ultra_calls"
   ]
  },
  {
   "cell_type": "markdown",
   "metadata": {},
   "source": [
    "В этой группе значения среднего также меньше в первые месяцы года и значительно выше к концу, но разница между ними не такая большая, как для пользователей тарифа Smart."
   ]
  },
  {
   "cell_type": "code",
   "execution_count": 127,
   "metadata": {
    "scrolled": true
   },
   "outputs": [
    {
     "data": {
      "text/plain": [
       "count    986.000000\n",
       "mean      49.313387\n",
       "std       47.806040\n",
       "min        0.000000\n",
       "25%        6.000000\n",
       "50%       38.000000\n",
       "75%       78.750000\n",
       "max      224.000000\n",
       "Name: messages_count, dtype: float64"
      ]
     },
     "execution_count": 127,
     "metadata": {},
     "output_type": "execute_result"
    }
   ],
   "source": [
    "ultra['messages_count'].describe()"
   ]
  },
  {
   "cell_type": "code",
   "execution_count": 128,
   "metadata": {},
   "outputs": [
    {
     "data": {
      "text/plain": [
       "2285.417424655841"
      ]
     },
     "execution_count": 128,
     "metadata": {},
     "output_type": "execute_result"
    }
   ],
   "source": [
    "var_ultra_msg = ultra['messages_count'].var(ddof=1)\n",
    "var_ultra_msg"
   ]
  },
  {
   "cell_type": "code",
   "execution_count": 129,
   "metadata": {},
   "outputs": [
    {
     "data": {
      "image/png": "[encoded data removed]",
      "text/plain": [
       "<Figure size 576x576 with 1 Axes>"
      ]
     },
     "metadata": {
      "needs_background": "light"
     },
     "output_type": "display_data"
    }
   ],
   "source": [
    "fig,ax = plt.subplots(figsize=(8,8))\n",
    "ax.set_title('Messages by tariffs')\n",
    "ax.set_xlabel('messages by users')\n",
    "smart['messages_count'].plot(kind='hist', bins=25, color='red', label='smart', legend=True)\n",
    "ultra['messages_count'].plot(kind='hist', ax=ax, color='orange', alpha=0.5, grid=True, label='ultra', legend=True)\n",
    "plt.show()"
   ]
  },
  {
   "cell_type": "code",
   "execution_count": 130,
   "metadata": {},
   "outputs": [
    {
     "data": {
      "text/html": [
       "<div>\n",
       "<style scoped>\n",
       "    .dataframe tbody tr th:only-of-type {\n",
       "        vertical-align: middle;\n",
       "    }\n",
       "\n",
       "    .dataframe tbody tr th {\n",
       "        vertical-align: top;\n",
       "    }\n",
       "\n",
       "    .dataframe thead th {\n",
       "        text-align: right;\n",
       "    }\n",
       "</style>\n",
       "<table border=\"1\" class=\"dataframe\">\n",
       "  <thead>\n",
       "    <tr style=\"text-align: right;\">\n",
       "      <th></th>\n",
       "      <th>messages_mean</th>\n",
       "    </tr>\n",
       "    <tr>\n",
       "      <th>month</th>\n",
       "      <th></th>\n",
       "    </tr>\n",
       "  </thead>\n",
       "  <tbody>\n",
       "    <tr>\n",
       "      <th>1.0</th>\n",
       "      <td>33.777778</td>\n",
       "    </tr>\n",
       "    <tr>\n",
       "      <th>2.0</th>\n",
       "      <td>21.958333</td>\n",
       "    </tr>\n",
       "    <tr>\n",
       "      <th>3.0</th>\n",
       "      <td>32.297297</td>\n",
       "    </tr>\n",
       "    <tr>\n",
       "      <th>4.0</th>\n",
       "      <td>31.563636</td>\n",
       "    </tr>\n",
       "    <tr>\n",
       "      <th>5.0</th>\n",
       "      <td>37.850746</td>\n",
       "    </tr>\n",
       "    <tr>\n",
       "      <th>6.0</th>\n",
       "      <td>41.726190</td>\n",
       "    </tr>\n",
       "    <tr>\n",
       "      <th>7.0</th>\n",
       "      <td>49.846154</td>\n",
       "    </tr>\n",
       "    <tr>\n",
       "      <th>8.0</th>\n",
       "      <td>48.439252</td>\n",
       "    </tr>\n",
       "    <tr>\n",
       "      <th>9.0</th>\n",
       "      <td>52.286957</td>\n",
       "    </tr>\n",
       "    <tr>\n",
       "      <th>10.0</th>\n",
       "      <td>58.430894</td>\n",
       "    </tr>\n",
       "    <tr>\n",
       "      <th>11.0</th>\n",
       "      <td>55.791045</td>\n",
       "    </tr>\n",
       "    <tr>\n",
       "      <th>12.0</th>\n",
       "      <td>60.178571</td>\n",
       "    </tr>\n",
       "  </tbody>\n",
       "</table>\n",
       "</div>"
      ],
      "text/plain": [
       "       messages_mean\n",
       "month               \n",
       "1.0        33.777778\n",
       "2.0        21.958333\n",
       "3.0        32.297297\n",
       "4.0        31.563636\n",
       "5.0        37.850746\n",
       "6.0        41.726190\n",
       "7.0        49.846154\n",
       "8.0        48.439252\n",
       "9.0        52.286957\n",
       "10.0       58.430894\n",
       "11.0       55.791045\n",
       "12.0       60.178571"
      ]
     },
     "execution_count": 130,
     "metadata": {},
     "output_type": "execute_result"
    }
   ],
   "source": [
    "ultra_messages = ultra.pivot_table(index='month', values='messages_count')\n",
    "ultra_messages.columns = ['messages_mean']\n",
    "ultra_messages"
   ]
  },
  {
   "cell_type": "markdown",
   "metadata": {},
   "source": [
    "Несмотря на то, что в пакет Ultra включено аж 1000 сообщений, абоненты все равно не используют их, и неудивительно в век интернета. Среднее в этой группе почти не отличается от группы Smart и составляет 39 сообщений в месяц. Основная масса пользователей отправляет до 60 сообщений в месяц."
   ]
  },
  {
   "cell_type": "code",
   "execution_count": 131,
   "metadata": {},
   "outputs": [
    {
     "data": {
      "text/plain": [
       "count      986.000000\n",
       "mean     19449.059970\n",
       "std      10101.095459\n",
       "min          0.000000\n",
       "25%      11748.585000\n",
       "50%      19304.020000\n",
       "75%      26835.885000\n",
       "max      49745.690000\n",
       "Name: mb_used, dtype: float64"
      ]
     },
     "execution_count": 131,
     "metadata": {},
     "output_type": "execute_result"
    }
   ],
   "source": [
    "ultra['mb_used'].describe()"
   ]
  },
  {
   "cell_type": "code",
   "execution_count": 132,
   "metadata": {},
   "outputs": [
    {
     "data": {
      "text/plain": [
       "102032129.46482131"
      ]
     },
     "execution_count": 132,
     "metadata": {},
     "output_type": "execute_result"
    }
   ],
   "source": [
    "var_ultra_traffic = ultra['mb_used'].var(ddof=1)\n",
    "var_ultra_traffic"
   ]
  },
  {
   "cell_type": "code",
   "execution_count": 133,
   "metadata": {
    "scrolled": false
   },
   "outputs": [
    {
     "data": {
      "image/png": "[encoded data removed]",
      "text/plain": [
       "<Figure size 576x576 with 1 Axes>"
      ]
     },
     "metadata": {
      "needs_background": "light"
     },
     "output_type": "display_data"
    }
   ],
   "source": [
    "fig,ax = plt.subplots(figsize=(8,8))\n",
    "ax.set_title('Traffic by tariffs')\n",
    "ax.set_xlabel('taffic used, mb')\n",
    "smart['mb_used'].plot(kind='hist', bins=20, label='smart', color='red', legend=True)\n",
    "ultra['mb_used'].plot(kind='hist', bins=20, label='ultra', color='orange', grid=True, alpha=0.7, legend=True)\n",
    "plt.show()"
   ]
  },
  {
   "cell_type": "code",
   "execution_count": 134,
   "metadata": {},
   "outputs": [
    {
     "data": {
      "text/html": [
       "<div>\n",
       "<style scoped>\n",
       "    .dataframe tbody tr th:only-of-type {\n",
       "        vertical-align: middle;\n",
       "    }\n",
       "\n",
       "    .dataframe tbody tr th {\n",
       "        vertical-align: top;\n",
       "    }\n",
       "\n",
       "    .dataframe thead th {\n",
       "        text-align: right;\n",
       "    }\n",
       "</style>\n",
       "<table border=\"1\" class=\"dataframe\">\n",
       "  <thead>\n",
       "    <tr style=\"text-align: right;\">\n",
       "      <th></th>\n",
       "      <th>traffic_mean</th>\n",
       "    </tr>\n",
       "    <tr>\n",
       "      <th>month</th>\n",
       "      <th></th>\n",
       "    </tr>\n",
       "  </thead>\n",
       "  <tbody>\n",
       "    <tr>\n",
       "      <th>1.0</th>\n",
       "      <td>13141.0</td>\n",
       "    </tr>\n",
       "    <tr>\n",
       "      <th>2.0</th>\n",
       "      <td>11776.0</td>\n",
       "    </tr>\n",
       "    <tr>\n",
       "      <th>3.0</th>\n",
       "      <td>17536.0</td>\n",
       "    </tr>\n",
       "    <tr>\n",
       "      <th>4.0</th>\n",
       "      <td>16828.0</td>\n",
       "    </tr>\n",
       "    <tr>\n",
       "      <th>5.0</th>\n",
       "      <td>19363.0</td>\n",
       "    </tr>\n",
       "    <tr>\n",
       "      <th>6.0</th>\n",
       "      <td>18925.0</td>\n",
       "    </tr>\n",
       "    <tr>\n",
       "      <th>7.0</th>\n",
       "      <td>20496.0</td>\n",
       "    </tr>\n",
       "    <tr>\n",
       "      <th>8.0</th>\n",
       "      <td>19576.0</td>\n",
       "    </tr>\n",
       "    <tr>\n",
       "      <th>9.0</th>\n",
       "      <td>19204.0</td>\n",
       "    </tr>\n",
       "    <tr>\n",
       "      <th>10.0</th>\n",
       "      <td>20045.0</td>\n",
       "    </tr>\n",
       "    <tr>\n",
       "      <th>11.0</th>\n",
       "      <td>19787.0</td>\n",
       "    </tr>\n",
       "    <tr>\n",
       "      <th>12.0</th>\n",
       "      <td>21638.0</td>\n",
       "    </tr>\n",
       "  </tbody>\n",
       "</table>\n",
       "</div>"
      ],
      "text/plain": [
       "       traffic_mean\n",
       "month              \n",
       "1.0         13141.0\n",
       "2.0         11776.0\n",
       "3.0         17536.0\n",
       "4.0         16828.0\n",
       "5.0         19363.0\n",
       "6.0         18925.0\n",
       "7.0         20496.0\n",
       "8.0         19576.0\n",
       "9.0         19204.0\n",
       "10.0        20045.0\n",
       "11.0        19787.0\n",
       "12.0        21638.0"
      ]
     },
     "execution_count": 134,
     "metadata": {},
     "output_type": "execute_result"
    }
   ],
   "source": [
    "ultra_traffic = ultra.pivot_table(index='month', values='mb_used')\n",
    "ultra_traffic.columns = ['traffic_mean']\n",
    "ultra_traffic.round()"
   ]
  },
  {
   "cell_type": "markdown",
   "metadata": {},
   "source": [
    "Похоже, что есть некое значение Гб интернета, больше которого средний человек не может потребить физически, и значение это - 49 Гб (а в тарифе Smart максимальное было 38).  \n",
    "В среднем абоненты тарифа Ultra используют в месяц 19449 Мб (19 Гб). В этой группе пользователи также используют меньше траффика, чем входит в пакет, но это неудивительно, потому что включено аж 30 Гб. Основная масса абонентов использует от 11748 Мб (11 Гб) до 26835 Мб (26 Гб)."
   ]
  },
  {
   "cell_type": "markdown",
   "metadata": {},
   "source": [
    "#### Выводы"
   ]
  },
  {
   "cell_type": "markdown",
   "metadata": {},
   "source": [
    "В среднем поведение абонентов тарифа Ultra отличается от пользователей тарифа Smart не так значительно, как можно было бы предположить, но разница все же есть.  \n",
    "\n",
    "- Сообщения по-прежнему самый нелюбимый вид связи среди абонентов: в среднем они отправляют 39 сообщений в месяц, а основная масса отправляет до 60 смс;\n",
    "- Абоненты тарифа Ultra звонят активнее, в среднем они используют 545 минут в месяц. Более 800 минут в месяц использует менее четвертой части пользователей, и еще четверть пользуется звонками минимально - менее 300 минут в месяц. При этом установленный лимит в 3000 минут в этой группе не превышается. Основная масса абонентов Ultra использует от 300 до 750 минут в месяц;\n",
    "- В среднем абоненты тарифа Ultra используют в месяц 19 Гб траффика, в основном установленный лимит не превышается."
   ]
  },
  {
   "cell_type": "markdown",
   "metadata": {},
   "source": [
    "### Сравнение тарифов"
   ]
  },
  {
   "cell_type": "markdown",
   "metadata": {},
   "source": [
    "Создадим сводные таблицы со средними показателями для каждого вида услуг и построим общие гистограммы для сравнения выручки."
   ]
  },
  {
   "cell_type": "code",
   "execution_count": 135,
   "metadata": {},
   "outputs": [],
   "source": [
    "# для тарифа smart\n",
    "smart_pivot = smart.pivot_table(\n",
    "index='month',\n",
    "values=['duration',\n",
    "       'messages_count',\n",
    "       'mb_used',\n",
    "       'calls_revenue',\n",
    "       'messages_revenue',\n",
    "       'traffic_revenue',\n",
    "       'total_revenue'])\n",
    "\n",
    "# для тарифа ultra\n",
    "ultra_pivot = ultra.pivot_table(\n",
    "index='month',\n",
    "values=['duration',\n",
    "       'messages_count',\n",
    "       'mb_used',\n",
    "       'calls_revenue',\n",
    "       'messages_revenue',\n",
    "       'traffic_revenue',\n",
    "       'total_revenue'])"
   ]
  },
  {
   "cell_type": "code",
   "execution_count": 136,
   "metadata": {
    "scrolled": false
   },
   "outputs": [
    {
     "data": {
      "text/html": [
       "<div>\n",
       "<style scoped>\n",
       "    .dataframe tbody tr th:only-of-type {\n",
       "        vertical-align: middle;\n",
       "    }\n",
       "\n",
       "    .dataframe tbody tr th {\n",
       "        vertical-align: top;\n",
       "    }\n",
       "\n",
       "    .dataframe thead th {\n",
       "        text-align: right;\n",
       "    }\n",
       "</style>\n",
       "<table border=\"1\" class=\"dataframe\">\n",
       "  <thead>\n",
       "    <tr style=\"text-align: right;\">\n",
       "      <th></th>\n",
       "      <th>calls_revenue</th>\n",
       "      <th>duration</th>\n",
       "      <th>mb_used</th>\n",
       "      <th>messages_count</th>\n",
       "      <th>messages_revenue</th>\n",
       "      <th>total_revenue</th>\n",
       "      <th>traffic_revenue</th>\n",
       "    </tr>\n",
       "    <tr>\n",
       "      <th>month</th>\n",
       "      <th></th>\n",
       "      <th></th>\n",
       "      <th></th>\n",
       "      <th></th>\n",
       "      <th></th>\n",
       "      <th></th>\n",
       "      <th></th>\n",
       "    </tr>\n",
       "  </thead>\n",
       "  <tbody>\n",
       "    <tr>\n",
       "      <th>1.0</th>\n",
       "      <td>4.0</td>\n",
       "      <td>204.0</td>\n",
       "      <td>8514.0</td>\n",
       "      <td>18.0</td>\n",
       "      <td>2.0</td>\n",
       "      <td>721.0</td>\n",
       "      <td>165.0</td>\n",
       "    </tr>\n",
       "    <tr>\n",
       "      <th>2.0</th>\n",
       "      <td>44.0</td>\n",
       "      <td>299.0</td>\n",
       "      <td>11597.0</td>\n",
       "      <td>24.0</td>\n",
       "      <td>6.0</td>\n",
       "      <td>828.0</td>\n",
       "      <td>228.0</td>\n",
       "    </tr>\n",
       "    <tr>\n",
       "      <th>3.0</th>\n",
       "      <td>103.0</td>\n",
       "      <td>390.0</td>\n",
       "      <td>15104.0</td>\n",
       "      <td>32.0</td>\n",
       "      <td>15.0</td>\n",
       "      <td>1165.0</td>\n",
       "      <td>496.0</td>\n",
       "    </tr>\n",
       "    <tr>\n",
       "      <th>4.0</th>\n",
       "      <td>81.0</td>\n",
       "      <td>367.0</td>\n",
       "      <td>13462.0</td>\n",
       "      <td>31.0</td>\n",
       "      <td>11.0</td>\n",
       "      <td>963.0</td>\n",
       "      <td>321.0</td>\n",
       "    </tr>\n",
       "    <tr>\n",
       "      <th>5.0</th>\n",
       "      <td>83.0</td>\n",
       "      <td>387.0</td>\n",
       "      <td>15805.0</td>\n",
       "      <td>34.0</td>\n",
       "      <td>16.0</td>\n",
       "      <td>1198.0</td>\n",
       "      <td>549.0</td>\n",
       "    </tr>\n",
       "    <tr>\n",
       "      <th>6.0</th>\n",
       "      <td>88.0</td>\n",
       "      <td>396.0</td>\n",
       "      <td>15795.0</td>\n",
       "      <td>33.0</td>\n",
       "      <td>17.0</td>\n",
       "      <td>1204.0</td>\n",
       "      <td>549.0</td>\n",
       "    </tr>\n",
       "    <tr>\n",
       "      <th>7.0</th>\n",
       "      <td>103.0</td>\n",
       "      <td>408.0</td>\n",
       "      <td>15743.0</td>\n",
       "      <td>34.0</td>\n",
       "      <td>17.0</td>\n",
       "      <td>1224.0</td>\n",
       "      <td>553.0</td>\n",
       "    </tr>\n",
       "    <tr>\n",
       "      <th>8.0</th>\n",
       "      <td>122.0</td>\n",
       "      <td>421.0</td>\n",
       "      <td>16611.0</td>\n",
       "      <td>34.0</td>\n",
       "      <td>19.0</td>\n",
       "      <td>1321.0</td>\n",
       "      <td>630.0</td>\n",
       "    </tr>\n",
       "    <tr>\n",
       "      <th>9.0</th>\n",
       "      <td>129.0</td>\n",
       "      <td>429.0</td>\n",
       "      <td>16304.0</td>\n",
       "      <td>34.0</td>\n",
       "      <td>17.0</td>\n",
       "      <td>1250.0</td>\n",
       "      <td>554.0</td>\n",
       "    </tr>\n",
       "    <tr>\n",
       "      <th>10.0</th>\n",
       "      <td>133.0</td>\n",
       "      <td>426.0</td>\n",
       "      <td>16757.0</td>\n",
       "      <td>34.0</td>\n",
       "      <td>18.0</td>\n",
       "      <td>1365.0</td>\n",
       "      <td>664.0</td>\n",
       "    </tr>\n",
       "    <tr>\n",
       "      <th>11.0</th>\n",
       "      <td>132.0</td>\n",
       "      <td>435.0</td>\n",
       "      <td>16896.0</td>\n",
       "      <td>34.0</td>\n",
       "      <td>18.0</td>\n",
       "      <td>1343.0</td>\n",
       "      <td>643.0</td>\n",
       "    </tr>\n",
       "    <tr>\n",
       "      <th>12.0</th>\n",
       "      <td>203.0</td>\n",
       "      <td>477.0</td>\n",
       "      <td>18060.0</td>\n",
       "      <td>36.0</td>\n",
       "      <td>22.0</td>\n",
       "      <td>1575.0</td>\n",
       "      <td>800.0</td>\n",
       "    </tr>\n",
       "  </tbody>\n",
       "</table>\n",
       "</div>"
      ],
      "text/plain": [
       "       calls_revenue  duration  mb_used  messages_count  messages_revenue  \\\n",
       "month                                                                       \n",
       "1.0              4.0     204.0   8514.0            18.0               2.0   \n",
       "2.0             44.0     299.0  11597.0            24.0               6.0   \n",
       "3.0            103.0     390.0  15104.0            32.0              15.0   \n",
       "4.0             81.0     367.0  13462.0            31.0              11.0   \n",
       "5.0             83.0     387.0  15805.0            34.0              16.0   \n",
       "6.0             88.0     396.0  15795.0            33.0              17.0   \n",
       "7.0            103.0     408.0  15743.0            34.0              17.0   \n",
       "8.0            122.0     421.0  16611.0            34.0              19.0   \n",
       "9.0            129.0     429.0  16304.0            34.0              17.0   \n",
       "10.0           133.0     426.0  16757.0            34.0              18.0   \n",
       "11.0           132.0     435.0  16896.0            34.0              18.0   \n",
       "12.0           203.0     477.0  18060.0            36.0              22.0   \n",
       "\n",
       "       total_revenue  traffic_revenue  \n",
       "month                                  \n",
       "1.0            721.0            165.0  \n",
       "2.0            828.0            228.0  \n",
       "3.0           1165.0            496.0  \n",
       "4.0            963.0            321.0  \n",
       "5.0           1198.0            549.0  \n",
       "6.0           1204.0            549.0  \n",
       "7.0           1224.0            553.0  \n",
       "8.0           1321.0            630.0  \n",
       "9.0           1250.0            554.0  \n",
       "10.0          1365.0            664.0  \n",
       "11.0          1343.0            643.0  \n",
       "12.0          1575.0            800.0  "
      ]
     },
     "execution_count": 136,
     "metadata": {},
     "output_type": "execute_result"
    }
   ],
   "source": [
    "smart_pivot.round()"
   ]
  },
  {
   "cell_type": "code",
   "execution_count": 137,
   "metadata": {
    "scrolled": false
   },
   "outputs": [
    {
     "data": {
      "text/html": [
       "<div>\n",
       "<style scoped>\n",
       "    .dataframe tbody tr th:only-of-type {\n",
       "        vertical-align: middle;\n",
       "    }\n",
       "\n",
       "    .dataframe tbody tr th {\n",
       "        vertical-align: top;\n",
       "    }\n",
       "\n",
       "    .dataframe thead th {\n",
       "        text-align: right;\n",
       "    }\n",
       "</style>\n",
       "<table border=\"1\" class=\"dataframe\">\n",
       "  <thead>\n",
       "    <tr style=\"text-align: right;\">\n",
       "      <th></th>\n",
       "      <th>calls_revenue</th>\n",
       "      <th>duration</th>\n",
       "      <th>mb_used</th>\n",
       "      <th>messages_count</th>\n",
       "      <th>messages_revenue</th>\n",
       "      <th>total_revenue</th>\n",
       "      <th>traffic_revenue</th>\n",
       "    </tr>\n",
       "    <tr>\n",
       "      <th>month</th>\n",
       "      <th></th>\n",
       "      <th></th>\n",
       "      <th></th>\n",
       "      <th></th>\n",
       "      <th></th>\n",
       "      <th></th>\n",
       "      <th></th>\n",
       "    </tr>\n",
       "  </thead>\n",
       "  <tbody>\n",
       "    <tr>\n",
       "      <th>1.0</th>\n",
       "      <td>0.0</td>\n",
       "      <td>428.0</td>\n",
       "      <td>13141.0</td>\n",
       "      <td>34.0</td>\n",
       "      <td>0.0</td>\n",
       "      <td>1950.0</td>\n",
       "      <td>0.0</td>\n",
       "    </tr>\n",
       "    <tr>\n",
       "      <th>2.0</th>\n",
       "      <td>0.0</td>\n",
       "      <td>297.0</td>\n",
       "      <td>11776.0</td>\n",
       "      <td>22.0</td>\n",
       "      <td>0.0</td>\n",
       "      <td>1975.0</td>\n",
       "      <td>25.0</td>\n",
       "    </tr>\n",
       "    <tr>\n",
       "      <th>3.0</th>\n",
       "      <td>0.0</td>\n",
       "      <td>490.0</td>\n",
       "      <td>17536.0</td>\n",
       "      <td>32.0</td>\n",
       "      <td>0.0</td>\n",
       "      <td>2015.0</td>\n",
       "      <td>65.0</td>\n",
       "    </tr>\n",
       "    <tr>\n",
       "      <th>4.0</th>\n",
       "      <td>0.0</td>\n",
       "      <td>458.0</td>\n",
       "      <td>16828.0</td>\n",
       "      <td>32.0</td>\n",
       "      <td>0.0</td>\n",
       "      <td>2002.0</td>\n",
       "      <td>52.0</td>\n",
       "    </tr>\n",
       "    <tr>\n",
       "      <th>5.0</th>\n",
       "      <td>0.0</td>\n",
       "      <td>510.0</td>\n",
       "      <td>19363.0</td>\n",
       "      <td>38.0</td>\n",
       "      <td>0.0</td>\n",
       "      <td>2060.0</td>\n",
       "      <td>110.0</td>\n",
       "    </tr>\n",
       "    <tr>\n",
       "      <th>6.0</th>\n",
       "      <td>0.0</td>\n",
       "      <td>480.0</td>\n",
       "      <td>18925.0</td>\n",
       "      <td>42.0</td>\n",
       "      <td>0.0</td>\n",
       "      <td>2039.0</td>\n",
       "      <td>89.0</td>\n",
       "    </tr>\n",
       "    <tr>\n",
       "      <th>7.0</th>\n",
       "      <td>0.0</td>\n",
       "      <td>546.0</td>\n",
       "      <td>20496.0</td>\n",
       "      <td>50.0</td>\n",
       "      <td>0.0</td>\n",
       "      <td>2118.0</td>\n",
       "      <td>168.0</td>\n",
       "    </tr>\n",
       "    <tr>\n",
       "      <th>8.0</th>\n",
       "      <td>0.0</td>\n",
       "      <td>511.0</td>\n",
       "      <td>19576.0</td>\n",
       "      <td>48.0</td>\n",
       "      <td>0.0</td>\n",
       "      <td>2083.0</td>\n",
       "      <td>133.0</td>\n",
       "    </tr>\n",
       "    <tr>\n",
       "      <th>9.0</th>\n",
       "      <td>0.0</td>\n",
       "      <td>539.0</td>\n",
       "      <td>19204.0</td>\n",
       "      <td>52.0</td>\n",
       "      <td>0.0</td>\n",
       "      <td>2024.0</td>\n",
       "      <td>74.0</td>\n",
       "    </tr>\n",
       "    <tr>\n",
       "      <th>10.0</th>\n",
       "      <td>0.0</td>\n",
       "      <td>558.0</td>\n",
       "      <td>20045.0</td>\n",
       "      <td>58.0</td>\n",
       "      <td>0.0</td>\n",
       "      <td>2066.0</td>\n",
       "      <td>116.0</td>\n",
       "    </tr>\n",
       "    <tr>\n",
       "      <th>11.0</th>\n",
       "      <td>0.0</td>\n",
       "      <td>541.0</td>\n",
       "      <td>19787.0</td>\n",
       "      <td>56.0</td>\n",
       "      <td>0.0</td>\n",
       "      <td>2092.0</td>\n",
       "      <td>142.0</td>\n",
       "    </tr>\n",
       "    <tr>\n",
       "      <th>12.0</th>\n",
       "      <td>0.0</td>\n",
       "      <td>589.0</td>\n",
       "      <td>21638.0</td>\n",
       "      <td>60.0</td>\n",
       "      <td>0.0</td>\n",
       "      <td>2138.0</td>\n",
       "      <td>188.0</td>\n",
       "    </tr>\n",
       "  </tbody>\n",
       "</table>\n",
       "</div>"
      ],
      "text/plain": [
       "       calls_revenue  duration  mb_used  messages_count  messages_revenue  \\\n",
       "month                                                                       \n",
       "1.0              0.0     428.0  13141.0            34.0               0.0   \n",
       "2.0              0.0     297.0  11776.0            22.0               0.0   \n",
       "3.0              0.0     490.0  17536.0            32.0               0.0   \n",
       "4.0              0.0     458.0  16828.0            32.0               0.0   \n",
       "5.0              0.0     510.0  19363.0            38.0               0.0   \n",
       "6.0              0.0     480.0  18925.0            42.0               0.0   \n",
       "7.0              0.0     546.0  20496.0            50.0               0.0   \n",
       "8.0              0.0     511.0  19576.0            48.0               0.0   \n",
       "9.0              0.0     539.0  19204.0            52.0               0.0   \n",
       "10.0             0.0     558.0  20045.0            58.0               0.0   \n",
       "11.0             0.0     541.0  19787.0            56.0               0.0   \n",
       "12.0             0.0     589.0  21638.0            60.0               0.0   \n",
       "\n",
       "       total_revenue  traffic_revenue  \n",
       "month                                  \n",
       "1.0           1950.0              0.0  \n",
       "2.0           1975.0             25.0  \n",
       "3.0           2015.0             65.0  \n",
       "4.0           2002.0             52.0  \n",
       "5.0           2060.0            110.0  \n",
       "6.0           2039.0             89.0  \n",
       "7.0           2118.0            168.0  \n",
       "8.0           2083.0            133.0  \n",
       "9.0           2024.0             74.0  \n",
       "10.0          2066.0            116.0  \n",
       "11.0          2092.0            142.0  \n",
       "12.0          2138.0            188.0  "
      ]
     },
     "execution_count": 137,
     "metadata": {},
     "output_type": "execute_result"
    }
   ],
   "source": [
    "ultra_pivot.round()"
   ]
  },
  {
   "cell_type": "markdown",
   "metadata": {},
   "source": [
    "Нас интересует общая выручка. Поскольку абоненты тарифа Ultra  не превышают установленные в месяц лимиты по звонкам и сообщениям, дополнительной прибыли по этим категориям нет, и сравнивать нечего."
   ]
  },
  {
   "cell_type": "code",
   "execution_count": 138,
   "metadata": {
    "scrolled": false
   },
   "outputs": [
    {
     "data": {
      "image/png": "[encoded data removed]",
      "text/plain": [
       "<Figure size 576x576 with 1 Axes>"
      ]
     },
     "metadata": {
      "needs_background": "light"
     },
     "output_type": "display_data"
    }
   ],
   "source": [
    "fig,ax = plt.subplots(figsize=(8,8))\n",
    "ax.set_title('Total revenue by tariffs')\n",
    "ax.set_ylabel('revenue')\n",
    "ax = smart_pivot['total_revenue'].plot(kind='line', grid=True, label='smart', legend=True)\n",
    "ultra_pivot['total_revenue'].plot(kind='line', grid=True, ax=ax, label='ultra', legend=True)\n",
    "plt.show()"
   ]
  },
  {
   "cell_type": "markdown",
   "metadata": {},
   "source": [
    "Выручка по тарифу Ultra превышает выручку по Smart. Вероятно, на это влияет размер абонентской платы: дополнительная выручка за перерасход услуг по тарифу Smart не перекрывает ее.  \n",
    "Подавляющую часть дополнительной выручки сверх абонентской платы составляет выручка за счет траффика (а для тарифа Ultra только она). В тарифе Smart стоимость Гб сверх лимита - 3 руб, а в тарифе Ultra - 1 руб, что дает разницу при использовании интернета в обеих группах. К тому же, превысить лимит проще на тарифе Smart при среднем значении в этой группе 16 Гб."
   ]
  },
  {
   "cell_type": "markdown",
   "metadata": {},
   "source": [
    "## Проверка гипотез"
   ]
  },
  {
   "cell_type": "markdown",
   "metadata": {},
   "source": [
    "### Выручка по тарифам"
   ]
  },
  {
   "cell_type": "markdown",
   "metadata": {},
   "source": [
    "Несмотря на то, что поведение групп пользователей с тарифами Ultra и Smart отличается в количественном выражении меньше, чем ожидалось, разница в выручке между ними все равно должна быть значительной: слишком уж разные условия у тарифов.  \n",
    "Исходя из проведенного анализа, сформулируем одностороннюю нулевую гипотезу:  \n",
    "- H0: Средняя выручка по тарифам Smart и Ultra равны.  \n",
    "В качестве альтернативной гипотезы примем: \n",
    "- H1: Выручка по тарифам отличается.  \n",
    "\n",
    "Примем уровень статистической значимости в 5% и используем статистический тест."
   ]
  },
  {
   "cell_type": "code",
   "execution_count": 139,
   "metadata": {},
   "outputs": [
    {
     "name": "stdout",
     "output_type": "stream",
     "text": [
      "p-value: 8.081909555489933e-161\n",
      "Отвергаем нулевую гипотезу\n"
     ]
    }
   ],
   "source": [
    "alpha = 0.05\n",
    "smart_income_mean = smart['total_revenue'].mean() # средний доход по тарифу smart\n",
    "ultra_income_mean = ultra['total_revenue'].mean() # средний доход по тарифу ultra\n",
    "\n",
    "smart_result = st.ttest_ind(smart['total_revenue'], ultra['total_revenue'])\n",
    "print('p-value:', smart_result.pvalue)\n",
    "\n",
    "if smart_result.pvalue < alpha:\n",
    "    print('Отвергаем нулевую гипотезу')\n",
    "else:\n",
    "    print('Не отвергаем нулевую гипотезу')"
   ]
  },
  {
   "cell_type": "code",
   "execution_count": 140,
   "metadata": {},
   "outputs": [
    {
     "name": "stdout",
     "output_type": "stream",
     "text": [
      "Средняя выручка по тарифу Smart: 1289.6417040358745\n",
      "Средняя выручка по тарифу Ultra: 2070.030425963489\n",
      "Разница в выручке: 780.3887219276146\n"
     ]
    }
   ],
   "source": [
    "print('Средняя выручка по тарифу Smart:', smart_income_mean)\n",
    "print('Средняя выручка по тарифу Ultra:', ultra_income_mean)\n",
    "print('Разница в выручке:', (ultra_income_mean - smart_income_mean))"
   ]
  },
  {
   "cell_type": "markdown",
   "metadata": {},
   "source": [
    "Итак, нулевую гипотезу отвергаем, вместо этого будет работать альтернативная гипотеза - разница в выручке по тарифам велика.  \n",
    "Разница в 780.39 руб с каждого среднего пользователя может помочь увеличить прибыль оператора, несмотря на то, что тариф Smart использует намного больше абонентов, поэтому тариф Ultra все же приносит больше денег, и вкладывать бюджет нужно именно в него."
   ]
  },
  {
   "cell_type": "markdown",
   "metadata": {},
   "source": [
    "### Выручка по регионам"
   ]
  },
  {
   "cell_type": "markdown",
   "metadata": {},
   "source": [
    "В выборке представлены пользователи из разных регионов. Предположим, что средняя выручка за счет пользователей из Москвы не отличается от выручки за счет пользователей из других регионов. Примем это за нулевую гипотезу.  \n",
    "Альтернативной гипотезой будет: выручка по Москве отличается значительно от выручки по другим регионам.  \n",
    "Создадим выборку из пользователей из Москвы и получим количество абонентов."
   ]
  },
  {
   "cell_type": "code",
   "execution_count": 141,
   "metadata": {},
   "outputs": [
    {
     "data": {
      "text/plain": [
       "99"
      ]
     },
     "execution_count": 141,
     "metadata": {},
     "output_type": "execute_result"
    }
   ],
   "source": [
    "moscow = data.query('city == \"москва\"')\n",
    "len(moscow['user_id'].unique())"
   ]
  },
  {
   "cell_type": "code",
   "execution_count": 142,
   "metadata": {},
   "outputs": [
    {
     "name": "stdout",
     "output_type": "stream",
     "text": [
      "p-value: 0.5953544859394873\n"
     ]
    }
   ],
   "source": [
    "# проверим, какова вероятность того, что средние выручки по регионам не будут отличаться\n",
    "# выборки разного размера, принимаем, что дисперсии могут быть не равны\n",
    "result_mosc = st.ttest_ind(data['total_revenue'], moscow['total_revenue'], equal_var=False)\n",
    "print('p-value:', result_mosc.pvalue)"
   ]
  },
  {
   "cell_type": "markdown",
   "metadata": {},
   "source": [
    "Очевидно, нулевую гипотезу не отвергаем, вероятность того, что выручки будут отличаться невелика."
   ]
  },
  {
   "cell_type": "code",
   "execution_count": 143,
   "metadata": {
    "scrolled": true
   },
   "outputs": [
    {
     "name": "stdout",
     "output_type": "stream",
     "text": [
      "Средняя выручка по регионам: 1528.9026741293533\n",
      "Средняя выручка по Москве: 1546.7135842880523\n",
      "Разница в выручке: 17.810910158699016\n"
     ]
    }
   ],
   "source": [
    "print('Средняя выручка по регионам:', data['total_revenue'].mean())\n",
    "print('Средняя выручка по Москве:', moscow['total_revenue'].mean())\n",
    "print('Разница в выручке:', \n",
    "     (moscow['total_revenue'].mean() - data['total_revenue'].mean()))"
   ]
  },
  {
   "cell_type": "markdown",
   "metadata": {},
   "source": [
    "Разницу в 17,81 руб статистика сочла незначительной, и с ней трудно не согласиться. В этом случае работает нулевая гипотеза: разницы в выручке по Москве и другим регионам нет."
   ]
  },
  {
   "cell_type": "markdown",
   "metadata": {},
   "source": [
    "## Общий вывод"
   ]
  },
  {
   "cell_type": "markdown",
   "metadata": {},
   "source": [
    "Итак, в ходе исследования было проверено две основные гипотезы:\n",
    "\n",
    "- Средняя выручка по тарифам Smart и Ultra равны;  \n",
    "\n",
    "В результате анализа первую гипотезу отвергаем. Средняя выручка по тарифу Ultra составляет 2070,03 руб, и это больше средней выручки по тарифу Smart, которая составляет 1289,64 руб. Разница составляет 780,39 руб, что при привлечении клиентов на этот тариф может увеличить прибыль компании.\n",
    "Помимо привлечения новых клиентов, в группе тарифа Smart есть как минимум 7 абонентов, которые  в месяц используют такое же или большее количество услуг, какое предусмотрено тарифом Ultra. Этим пользователям можно предложить переход на тариф Ultra.  \n",
    "\n",
    "Основную часть выручки сверх абонентской платы приносит использование траффика, на втором месте находятся звонки, но только для тарифа Smart, в группе Ultra установленный лимит звонков в 3000 минут не превышается. Абоненты в обеих группах пишут мало смс-сообщений в месяц, в среднем это 38 и 39 смс в группах Smart и Ultra соответственно. В обоих группах это значение не превышает установленный лимит.  \n",
    "\n",
    "- Выручка за счет абонентов из Москвы не отличается от выручки абонентов в других регионах.  \n",
    "\n",
    "Вторую гипотезу отвергаем, альтернативная гипотеза более вероятна: разница в выручке между пользователями из Москвы и других регионов незначительна и составляет 17,81 руб.  \n",
    "Средняя выручка по регионам: 1528,9\n",
    "Средняя выручка по Москве: 1546,71\n",
    "\n",
    "\n",
    "В целом поведение пользователей тарифов Smart и Ultra отличается, хотя и не так значительно, как ожидалось.  \n",
    "\n",
    "В среднем абоненты тарифа Smart используют включенный в стоимость пакет минут практически полностью (419 минут), и примерно четверть перерасходует лимит в течение месяца. Основная масса значений лежит в промежутке от 220 до 580 минут в месяц.  \n",
    "Абоненты тарифа Ultra звонят активнее, в среднем они используют 545 минут в месяц. Более 800 минут в месяц использует менее четвертой части пользователей, и еще четверть пользуется звонками минимально - менее 300 минут в месяц. При этом установленный лимит в 3000 минут в этой группе не превышается. Основная масса абонентов Ultra использует от 300 до 750 минут в месяц.  \n",
    "В обоих группах наблюдается тенденция к уменьшению длительности звонков в первые месяцы года и увеличению длительности ближе к концу, максимальные значения находятся в декабре.  \n",
    "\n",
    "Использование интернета в группах Smart и Ultra отличается также значительно. \n",
    "В среднем абоненты тарифа Smart используют 16201 Мб (15 Гб) интернета в месяц, в основной массе им требуется от 12630 Мб (12 Гб) до 20242 Мб (19 Гб). Максимальный расход траффика в этой группе 38552 Мб (37 Гб).  \n",
    "По тарифу Smart есть небольшой перерасход пакета траффика, но в среднем он не превышает 3 Гб, абоненты Ultra в основном не превышают лимит. Основная часть абонентов использует в месяц от 12 до 22 Гб интернета, а максимальное значение в этой группе 38 Гб.  \n",
    "В среднем абоненты тарифа Ultra используют в месяц 19449 Мб (19 Гб). В этой группе пользователи также используют меньше траффика, чем входит в пакет, но это неудивительно, потому что включено аж 30 Гб. Основная масса абонентов использует от 11748 Мб (11 Гб) до 26835 Мб (26 Гб). Максимальное значение в этой группе 49 Гб.  \n",
    "\n",
    "Количество абонентов тарифа Smart превышает количество абонентов Ultra, и дополнительная прибыль от использования траффика в этой группе выше за счет небольшого пакета и более высокой стоимости за Гб. Но при этом дополнительная прибыль не перекрывает абонентскую плату по тарифу Ultra, а значит, он является более перспективным, и его нужно развивать. "
   ]
  }
 ],
 "metadata": {
  "ExecuteTimeLog": [
   {
    "duration": 1492,
    "start_time": "2022-05-11T14:39:41.568Z"
   },
   {
    "duration": 3,
    "start_time": "2022-05-11T14:45:51.280Z"
   },
   {
    "duration": 8,
    "start_time": "2022-05-11T15:34:52.394Z"
   },
   {
    "duration": 4,
    "start_time": "2022-05-11T15:35:07.280Z"
   },
   {
    "duration": 5,
    "start_time": "2022-05-11T15:35:07.581Z"
   },
   {
    "duration": 117,
    "start_time": "2022-05-11T15:35:19.474Z"
   },
   {
    "duration": 8,
    "start_time": "2022-05-11T15:35:56.047Z"
   },
   {
    "duration": 405,
    "start_time": "2022-05-11T15:37:58.281Z"
   },
   {
    "duration": 22,
    "start_time": "2022-05-11T15:37:59.166Z"
   },
   {
    "duration": 11,
    "start_time": "2022-05-11T15:40:04.590Z"
   },
   {
    "duration": 9,
    "start_time": "2022-05-11T15:40:17.838Z"
   },
   {
    "duration": 15,
    "start_time": "2022-05-11T15:41:57.999Z"
   },
   {
    "duration": 10,
    "start_time": "2022-05-11T15:47:02.316Z"
   },
   {
    "duration": 1172,
    "start_time": "2022-05-11T15:54:12.693Z"
   },
   {
    "duration": 380,
    "start_time": "2022-05-11T15:54:13.868Z"
   },
   {
    "duration": 13,
    "start_time": "2022-05-11T15:54:14.250Z"
   },
   {
    "duration": 11,
    "start_time": "2022-05-11T15:54:14.265Z"
   },
   {
    "duration": 110,
    "start_time": "2022-05-11T15:54:22.264Z"
   },
   {
    "duration": 14,
    "start_time": "2022-05-11T15:55:00.943Z"
   },
   {
    "duration": 9,
    "start_time": "2022-05-11T15:55:14.647Z"
   },
   {
    "duration": 65,
    "start_time": "2022-05-11T15:55:27.662Z"
   },
   {
    "duration": 10,
    "start_time": "2022-05-11T15:55:54.505Z"
   },
   {
    "duration": 2181,
    "start_time": "2022-05-11T15:58:21.020Z"
   },
   {
    "duration": 490,
    "start_time": "2022-05-11T15:58:23.204Z"
   },
   {
    "duration": 14,
    "start_time": "2022-05-11T15:58:23.698Z"
   },
   {
    "duration": 30,
    "start_time": "2022-05-11T15:58:23.714Z"
   },
   {
    "duration": 259,
    "start_time": "2022-05-11T15:58:23.747Z"
   },
   {
    "duration": 54,
    "start_time": "2022-05-11T15:59:06.429Z"
   },
   {
    "duration": 2603,
    "start_time": "2022-05-11T15:59:16.003Z"
   },
   {
    "duration": 607,
    "start_time": "2022-05-11T15:59:18.610Z"
   },
   {
    "duration": 24,
    "start_time": "2022-05-11T15:59:19.219Z"
   },
   {
    "duration": 13,
    "start_time": "2022-05-11T15:59:19.245Z"
   },
   {
    "duration": 235,
    "start_time": "2022-05-11T15:59:19.260Z"
   },
   {
    "duration": 16,
    "start_time": "2022-05-11T16:00:36.305Z"
   },
   {
    "duration": 111,
    "start_time": "2022-05-11T16:00:54.739Z"
   },
   {
    "duration": 108,
    "start_time": "2022-05-11T16:01:01.782Z"
   },
   {
    "duration": 82,
    "start_time": "2022-05-11T16:01:53.558Z"
   },
   {
    "duration": 122,
    "start_time": "2022-05-11T16:03:10.139Z"
   },
   {
    "duration": 127,
    "start_time": "2022-05-11T16:05:25.118Z"
   },
   {
    "duration": 134,
    "start_time": "2022-05-11T16:05:48.056Z"
   },
   {
    "duration": 132,
    "start_time": "2022-05-11T16:05:58.772Z"
   },
   {
    "duration": 159,
    "start_time": "2022-05-11T16:06:05.765Z"
   },
   {
    "duration": 107,
    "start_time": "2022-05-11T16:06:07.880Z"
   },
   {
    "duration": 105,
    "start_time": "2022-05-11T16:06:30.506Z"
   },
   {
    "duration": 69,
    "start_time": "2022-05-11T16:07:45.377Z"
   },
   {
    "duration": 112,
    "start_time": "2022-05-11T16:08:15.395Z"
   },
   {
    "duration": 154,
    "start_time": "2022-05-11T16:08:26.702Z"
   },
   {
    "duration": 10,
    "start_time": "2022-05-11T16:08:51.901Z"
   },
   {
    "duration": 130,
    "start_time": "2022-05-11T16:09:35.525Z"
   },
   {
    "duration": 223,
    "start_time": "2022-05-11T16:09:43.787Z"
   },
   {
    "duration": 108,
    "start_time": "2022-05-11T16:09:56.668Z"
   },
   {
    "duration": 11,
    "start_time": "2022-05-11T16:10:42.254Z"
   },
   {
    "duration": 70,
    "start_time": "2022-05-11T16:11:12.956Z"
   },
   {
    "duration": 106,
    "start_time": "2022-05-11T16:11:52.448Z"
   },
   {
    "duration": 98,
    "start_time": "2022-05-11T16:12:13.866Z"
   },
   {
    "duration": 11,
    "start_time": "2022-05-11T16:12:38.493Z"
   },
   {
    "duration": 72,
    "start_time": "2022-05-11T16:12:43.141Z"
   },
   {
    "duration": 50,
    "start_time": "2022-05-11T16:13:27.887Z"
   },
   {
    "duration": 32,
    "start_time": "2022-05-11T16:14:10.507Z"
   },
   {
    "duration": 11,
    "start_time": "2022-05-11T16:15:31.908Z"
   },
   {
    "duration": 29,
    "start_time": "2022-05-11T16:19:14.711Z"
   },
   {
    "duration": 17,
    "start_time": "2022-05-11T16:19:29.462Z"
   },
   {
    "duration": 15,
    "start_time": "2022-05-11T16:20:03.557Z"
   },
   {
    "duration": 14,
    "start_time": "2022-05-11T16:20:14.035Z"
   },
   {
    "duration": 17,
    "start_time": "2022-05-11T16:20:18.439Z"
   },
   {
    "duration": 19,
    "start_time": "2022-05-11T16:21:18.244Z"
   },
   {
    "duration": 126,
    "start_time": "2022-05-11T16:21:36.275Z"
   },
   {
    "duration": 34,
    "start_time": "2022-05-11T16:21:42.772Z"
   },
   {
    "duration": 31,
    "start_time": "2022-05-11T16:22:05.079Z"
   },
   {
    "duration": 10,
    "start_time": "2022-05-11T16:22:23.445Z"
   },
   {
    "duration": 50,
    "start_time": "2022-05-11T16:22:32.121Z"
   },
   {
    "duration": 55,
    "start_time": "2022-05-11T16:22:56.265Z"
   },
   {
    "duration": 14,
    "start_time": "2022-05-11T16:23:15.251Z"
   },
   {
    "duration": 1567,
    "start_time": "2022-05-11T16:23:26.976Z"
   },
   {
    "duration": 563,
    "start_time": "2022-05-11T16:23:28.546Z"
   },
   {
    "duration": 12,
    "start_time": "2022-05-11T16:23:29.112Z"
   },
   {
    "duration": 19,
    "start_time": "2022-05-11T16:23:29.126Z"
   },
   {
    "duration": 13,
    "start_time": "2022-05-11T16:23:29.146Z"
   },
   {
    "duration": 10,
    "start_time": "2022-05-11T16:23:31.733Z"
   },
   {
    "duration": 107,
    "start_time": "2022-05-11T16:23:32.928Z"
   },
   {
    "duration": 15,
    "start_time": "2022-05-11T16:23:55.670Z"
   },
   {
    "duration": 21,
    "start_time": "2022-05-11T16:24:00.823Z"
   },
   {
    "duration": 25,
    "start_time": "2022-05-11T16:24:15.303Z"
   },
   {
    "duration": 22,
    "start_time": "2022-05-11T16:24:53.973Z"
   },
   {
    "duration": 13,
    "start_time": "2022-05-11T16:32:14.232Z"
   },
   {
    "duration": 17,
    "start_time": "2022-05-11T16:32:49.902Z"
   },
   {
    "duration": 17,
    "start_time": "2022-05-11T16:33:05.864Z"
   },
   {
    "duration": 19,
    "start_time": "2022-05-11T16:33:15.040Z"
   },
   {
    "duration": 44,
    "start_time": "2022-05-11T16:33:18.148Z"
   },
   {
    "duration": 19,
    "start_time": "2022-05-11T16:34:02.583Z"
   },
   {
    "duration": 123,
    "start_time": "2022-05-11T16:34:36.120Z"
   },
   {
    "duration": 143,
    "start_time": "2022-05-11T16:34:53.114Z"
   },
   {
    "duration": 60,
    "start_time": "2022-05-11T16:35:07.638Z"
   },
   {
    "duration": 19,
    "start_time": "2022-05-11T16:35:21.242Z"
   },
   {
    "duration": 9,
    "start_time": "2022-05-11T16:36:04.859Z"
   },
   {
    "duration": 22,
    "start_time": "2022-05-11T16:36:35.760Z"
   },
   {
    "duration": 17,
    "start_time": "2022-05-11T16:36:59.020Z"
   },
   {
    "duration": 16,
    "start_time": "2022-05-11T16:37:34.507Z"
   },
   {
    "duration": 26,
    "start_time": "2022-05-11T16:37:50.816Z"
   },
   {
    "duration": 26,
    "start_time": "2022-05-11T16:38:07.024Z"
   },
   {
    "duration": 1441,
    "start_time": "2022-05-11T16:38:38.001Z"
   },
   {
    "duration": 544,
    "start_time": "2022-05-11T16:38:39.445Z"
   },
   {
    "duration": 15,
    "start_time": "2022-05-11T16:38:39.991Z"
   },
   {
    "duration": 26,
    "start_time": "2022-05-11T16:38:40.009Z"
   },
   {
    "duration": 37,
    "start_time": "2022-05-11T16:38:40.042Z"
   },
   {
    "duration": 10,
    "start_time": "2022-05-11T16:38:42.086Z"
   },
   {
    "duration": 198,
    "start_time": "2022-05-11T16:38:42.796Z"
   },
   {
    "duration": 20,
    "start_time": "2022-05-11T16:38:51.365Z"
   },
   {
    "duration": 12,
    "start_time": "2022-05-11T16:39:08.043Z"
   },
   {
    "duration": 33,
    "start_time": "2022-05-11T16:39:38.665Z"
   },
   {
    "duration": 37,
    "start_time": "2022-05-11T16:40:12.320Z"
   },
   {
    "duration": 11,
    "start_time": "2022-05-11T16:40:57.322Z"
   },
   {
    "duration": 8,
    "start_time": "2022-05-11T16:41:08.775Z"
   },
   {
    "duration": 64,
    "start_time": "2022-05-11T16:41:33.462Z"
   },
   {
    "duration": 21,
    "start_time": "2022-05-11T16:41:49.990Z"
   },
   {
    "duration": 15,
    "start_time": "2022-05-11T16:41:57.335Z"
   },
   {
    "duration": 11,
    "start_time": "2022-05-11T16:45:52.694Z"
   },
   {
    "duration": 9,
    "start_time": "2022-05-11T16:46:11.658Z"
   },
   {
    "duration": 11,
    "start_time": "2022-05-11T17:05:56.703Z"
   },
   {
    "duration": 21,
    "start_time": "2022-05-11T17:06:15.343Z"
   },
   {
    "duration": 16,
    "start_time": "2022-05-11T17:07:21.304Z"
   },
   {
    "duration": 13,
    "start_time": "2022-05-11T17:07:30.915Z"
   },
   {
    "duration": 13,
    "start_time": "2022-05-11T17:07:46.025Z"
   },
   {
    "duration": 14,
    "start_time": "2022-05-11T17:07:50.737Z"
   },
   {
    "duration": 18,
    "start_time": "2022-05-11T17:08:11.510Z"
   },
   {
    "duration": 12,
    "start_time": "2022-05-11T17:08:22.559Z"
   },
   {
    "duration": 11,
    "start_time": "2022-05-11T17:12:52.067Z"
   },
   {
    "duration": 15,
    "start_time": "2022-05-11T17:13:41.279Z"
   },
   {
    "duration": 12,
    "start_time": "2022-05-11T17:13:57.638Z"
   },
   {
    "duration": 8,
    "start_time": "2022-05-11T17:14:15.618Z"
   },
   {
    "duration": 2560,
    "start_time": "2022-05-11T17:14:58.709Z"
   },
   {
    "duration": 2316,
    "start_time": "2022-05-11T17:15:16.164Z"
   },
   {
    "duration": 2390,
    "start_time": "2022-05-11T17:15:54.886Z"
   },
   {
    "duration": 1222,
    "start_time": "2022-05-11T17:16:07.527Z"
   },
   {
    "duration": 2355,
    "start_time": "2022-05-11T17:16:18.818Z"
   },
   {
    "duration": 134,
    "start_time": "2022-05-11T17:18:43.934Z"
   },
   {
    "duration": 28,
    "start_time": "2022-05-11T17:20:41.567Z"
   },
   {
    "duration": 11,
    "start_time": "2022-05-11T17:21:11.070Z"
   },
   {
    "duration": 5,
    "start_time": "2022-05-11T17:21:27.526Z"
   },
   {
    "duration": 12,
    "start_time": "2022-05-11T17:21:32.441Z"
   },
   {
    "duration": 17,
    "start_time": "2022-05-11T17:21:50.892Z"
   },
   {
    "duration": 23,
    "start_time": "2022-05-11T17:21:58.416Z"
   },
   {
    "duration": 17,
    "start_time": "2022-05-11T17:22:03.664Z"
   },
   {
    "duration": 14,
    "start_time": "2022-05-11T17:22:18.279Z"
   },
   {
    "duration": 18,
    "start_time": "2022-05-11T17:22:38.256Z"
   },
   {
    "duration": 25,
    "start_time": "2022-05-11T17:22:50.544Z"
   },
   {
    "duration": 147,
    "start_time": "2022-05-11T17:24:35.656Z"
   },
   {
    "duration": 18,
    "start_time": "2022-05-11T17:24:40.743Z"
   },
   {
    "duration": 10,
    "start_time": "2022-05-11T17:25:50.301Z"
   },
   {
    "duration": 12,
    "start_time": "2022-05-11T17:26:06.412Z"
   },
   {
    "duration": 5,
    "start_time": "2022-05-11T17:29:24.159Z"
   },
   {
    "duration": 18,
    "start_time": "2022-05-11T17:35:36.364Z"
   },
   {
    "duration": 4,
    "start_time": "2022-05-11T17:36:06.594Z"
   },
   {
    "duration": 17,
    "start_time": "2022-05-11T17:36:51.360Z"
   },
   {
    "duration": 48,
    "start_time": "2022-05-11T17:37:22.205Z"
   },
   {
    "duration": 2305,
    "start_time": "2022-05-11T17:40:38.699Z"
   },
   {
    "duration": 2198,
    "start_time": "2022-05-11T17:40:43.445Z"
   },
   {
    "duration": 2305,
    "start_time": "2022-05-11T17:41:03.016Z"
   },
   {
    "duration": 2154,
    "start_time": "2022-05-11T17:41:23.817Z"
   },
   {
    "duration": 10,
    "start_time": "2022-05-11T17:42:00.881Z"
   },
   {
    "duration": 10,
    "start_time": "2022-05-11T17:42:06.186Z"
   },
   {
    "duration": 10,
    "start_time": "2022-05-11T17:42:11.806Z"
   },
   {
    "duration": 134,
    "start_time": "2022-05-11T17:42:23.670Z"
   },
   {
    "duration": 47,
    "start_time": "2022-05-11T17:42:32.930Z"
   },
   {
    "duration": 44,
    "start_time": "2022-05-11T17:43:11.124Z"
   },
   {
    "duration": 14,
    "start_time": "2022-05-11T17:43:23.983Z"
   },
   {
    "duration": 18,
    "start_time": "2022-05-11T17:44:03.891Z"
   },
   {
    "duration": 25,
    "start_time": "2022-05-11T17:44:07.340Z"
   },
   {
    "duration": 26,
    "start_time": "2022-05-11T17:44:14.158Z"
   },
   {
    "duration": 17,
    "start_time": "2022-05-11T17:44:14.590Z"
   },
   {
    "duration": 36,
    "start_time": "2022-05-11T17:44:52.084Z"
   },
   {
    "duration": 57,
    "start_time": "2022-05-11T17:45:01.411Z"
   },
   {
    "duration": 19,
    "start_time": "2022-05-11T17:46:15.216Z"
   },
   {
    "duration": 22,
    "start_time": "2022-05-11T17:46:16.331Z"
   },
   {
    "duration": 17,
    "start_time": "2022-05-11T17:46:27.907Z"
   },
   {
    "duration": 15,
    "start_time": "2022-05-11T17:46:29.271Z"
   },
   {
    "duration": 1597,
    "start_time": "2022-05-11T17:46:48.998Z"
   },
   {
    "duration": 575,
    "start_time": "2022-05-11T17:46:50.598Z"
   },
   {
    "duration": 16,
    "start_time": "2022-05-11T17:46:51.175Z"
   },
   {
    "duration": 18,
    "start_time": "2022-05-11T17:46:51.195Z"
   },
   {
    "duration": 44,
    "start_time": "2022-05-11T17:46:51.215Z"
   },
   {
    "duration": 28,
    "start_time": "2022-05-11T17:46:51.262Z"
   },
   {
    "duration": 24,
    "start_time": "2022-05-11T17:46:51.292Z"
   },
   {
    "duration": 12,
    "start_time": "2022-05-11T17:46:51.318Z"
   },
   {
    "duration": 45,
    "start_time": "2022-05-11T17:46:51.332Z"
   },
   {
    "duration": 13,
    "start_time": "2022-05-11T17:46:51.380Z"
   },
   {
    "duration": 33,
    "start_time": "2022-05-11T17:46:51.395Z"
   },
   {
    "duration": 48,
    "start_time": "2022-05-11T17:46:54.430Z"
   },
   {
    "duration": 92,
    "start_time": "2022-05-11T17:46:55.770Z"
   },
   {
    "duration": 20,
    "start_time": "2022-05-11T17:46:57.815Z"
   },
   {
    "duration": 21,
    "start_time": "2022-05-11T17:47:07.468Z"
   },
   {
    "duration": 15,
    "start_time": "2022-05-11T17:47:10.435Z"
   },
   {
    "duration": 21,
    "start_time": "2022-05-11T17:48:14.483Z"
   },
   {
    "duration": 16,
    "start_time": "2022-05-11T17:50:03.607Z"
   },
   {
    "duration": 37,
    "start_time": "2022-05-11T17:50:45.852Z"
   },
   {
    "duration": 103,
    "start_time": "2022-05-11T17:50:56.813Z"
   },
   {
    "duration": 39,
    "start_time": "2022-05-11T17:51:07.259Z"
   },
   {
    "duration": 21,
    "start_time": "2022-05-11T17:51:25.729Z"
   },
   {
    "duration": 19,
    "start_time": "2022-05-11T17:52:05.731Z"
   },
   {
    "duration": 30,
    "start_time": "2022-05-11T17:56:01.666Z"
   },
   {
    "duration": 24,
    "start_time": "2022-05-11T17:56:18.699Z"
   },
   {
    "duration": 10,
    "start_time": "2022-05-11T17:56:32.954Z"
   },
   {
    "duration": 13,
    "start_time": "2022-05-11T17:56:39.475Z"
   },
   {
    "duration": 14,
    "start_time": "2022-05-11T17:57:28.932Z"
   },
   {
    "duration": 12,
    "start_time": "2022-05-11T17:57:48.296Z"
   },
   {
    "duration": 1264,
    "start_time": "2022-05-11T17:58:09.699Z"
   },
   {
    "duration": 463,
    "start_time": "2022-05-11T17:58:10.966Z"
   },
   {
    "duration": 17,
    "start_time": "2022-05-11T17:58:11.430Z"
   },
   {
    "duration": 33,
    "start_time": "2022-05-11T17:58:11.450Z"
   },
   {
    "duration": 16,
    "start_time": "2022-05-11T17:58:11.485Z"
   },
   {
    "duration": 30,
    "start_time": "2022-05-11T17:58:11.503Z"
   },
   {
    "duration": 41,
    "start_time": "2022-05-11T17:58:11.535Z"
   },
   {
    "duration": 40,
    "start_time": "2022-05-11T17:58:11.578Z"
   },
   {
    "duration": 44,
    "start_time": "2022-05-11T17:58:11.620Z"
   },
   {
    "duration": 29,
    "start_time": "2022-05-11T17:58:11.669Z"
   },
   {
    "duration": 72,
    "start_time": "2022-05-11T17:58:11.700Z"
   },
   {
    "duration": 56,
    "start_time": "2022-05-11T17:58:11.774Z"
   },
   {
    "duration": 40,
    "start_time": "2022-05-11T17:58:11.832Z"
   },
   {
    "duration": 44,
    "start_time": "2022-05-11T17:58:11.874Z"
   },
   {
    "duration": 27,
    "start_time": "2022-05-11T17:58:11.920Z"
   },
   {
    "duration": 21,
    "start_time": "2022-05-11T17:58:15.912Z"
   },
   {
    "duration": 2,
    "start_time": "2022-05-11T17:58:18.582Z"
   },
   {
    "duration": 13,
    "start_time": "2022-05-11T17:58:35.285Z"
   },
   {
    "duration": 18,
    "start_time": "2022-05-11T17:59:00.406Z"
   },
   {
    "duration": 1250,
    "start_time": "2022-05-11T17:59:36.728Z"
   },
   {
    "duration": 432,
    "start_time": "2022-05-11T17:59:37.980Z"
   },
   {
    "duration": 12,
    "start_time": "2022-05-11T17:59:38.414Z"
   },
   {
    "duration": 17,
    "start_time": "2022-05-11T17:59:38.429Z"
   },
   {
    "duration": 24,
    "start_time": "2022-05-11T17:59:38.448Z"
   },
   {
    "duration": 12,
    "start_time": "2022-05-11T17:59:38.474Z"
   },
   {
    "duration": 8,
    "start_time": "2022-05-11T17:59:38.488Z"
   },
   {
    "duration": 10,
    "start_time": "2022-05-11T17:59:38.498Z"
   },
   {
    "duration": 34,
    "start_time": "2022-05-11T17:59:38.509Z"
   },
   {
    "duration": 17,
    "start_time": "2022-05-11T17:59:38.547Z"
   },
   {
    "duration": 26,
    "start_time": "2022-05-11T17:59:38.566Z"
   },
   {
    "duration": 73,
    "start_time": "2022-05-11T17:59:38.594Z"
   },
   {
    "duration": 19,
    "start_time": "2022-05-11T17:59:38.669Z"
   },
   {
    "duration": 31,
    "start_time": "2022-05-11T17:59:38.690Z"
   },
   {
    "duration": 44,
    "start_time": "2022-05-11T17:59:38.723Z"
   },
   {
    "duration": 7,
    "start_time": "2022-05-11T17:59:38.769Z"
   },
   {
    "duration": 3315,
    "start_time": "2022-05-11T18:02:18.703Z"
   },
   {
    "duration": 45,
    "start_time": "2022-05-11T18:02:37.346Z"
   },
   {
    "duration": 29,
    "start_time": "2022-05-11T18:04:02.795Z"
   },
   {
    "duration": 25,
    "start_time": "2022-05-11T18:04:09.387Z"
   },
   {
    "duration": 19,
    "start_time": "2022-05-11T18:04:24.142Z"
   },
   {
    "duration": 15,
    "start_time": "2022-05-11T18:04:30.906Z"
   },
   {
    "duration": 1196,
    "start_time": "2022-05-11T18:06:20.803Z"
   },
   {
    "duration": 369,
    "start_time": "2022-05-11T18:06:22.001Z"
   },
   {
    "duration": 12,
    "start_time": "2022-05-11T18:06:22.372Z"
   },
   {
    "duration": 11,
    "start_time": "2022-05-11T18:06:22.387Z"
   },
   {
    "duration": 17,
    "start_time": "2022-05-11T18:06:22.399Z"
   },
   {
    "duration": 25,
    "start_time": "2022-05-11T18:06:22.418Z"
   },
   {
    "duration": 8,
    "start_time": "2022-05-11T18:06:22.445Z"
   },
   {
    "duration": 12,
    "start_time": "2022-05-11T18:06:22.454Z"
   },
   {
    "duration": 13,
    "start_time": "2022-05-11T18:06:22.467Z"
   },
   {
    "duration": 11,
    "start_time": "2022-05-11T18:06:22.483Z"
   },
   {
    "duration": 51,
    "start_time": "2022-05-11T18:06:22.495Z"
   },
   {
    "duration": 54,
    "start_time": "2022-05-11T18:06:22.548Z"
   },
   {
    "duration": 19,
    "start_time": "2022-05-11T18:06:22.604Z"
   },
   {
    "duration": 31,
    "start_time": "2022-05-11T18:06:22.642Z"
   },
   {
    "duration": 21,
    "start_time": "2022-05-11T18:06:22.675Z"
   },
   {
    "duration": 7,
    "start_time": "2022-05-11T18:06:22.698Z"
   },
   {
    "duration": 61,
    "start_time": "2022-05-11T18:06:22.706Z"
   },
   {
    "duration": 14,
    "start_time": "2022-05-11T18:06:22.769Z"
   },
   {
    "duration": 18,
    "start_time": "2022-05-11T18:07:04.691Z"
   },
   {
    "duration": 13,
    "start_time": "2022-05-11T18:07:08.548Z"
   },
   {
    "duration": 1249,
    "start_time": "2022-05-11T18:21:50.989Z"
   },
   {
    "duration": 878,
    "start_time": "2022-05-11T18:21:52.242Z"
   },
   {
    "duration": 13,
    "start_time": "2022-05-11T18:21:53.122Z"
   },
   {
    "duration": 24,
    "start_time": "2022-05-11T18:21:53.137Z"
   },
   {
    "duration": 15,
    "start_time": "2022-05-11T18:21:53.163Z"
   },
   {
    "duration": 22,
    "start_time": "2022-05-11T18:21:53.180Z"
   },
   {
    "duration": 14,
    "start_time": "2022-05-11T18:21:53.204Z"
   },
   {
    "duration": 17,
    "start_time": "2022-05-11T18:21:53.220Z"
   },
   {
    "duration": 16,
    "start_time": "2022-05-11T18:21:53.243Z"
   },
   {
    "duration": 14,
    "start_time": "2022-05-11T18:21:53.262Z"
   },
   {
    "duration": 34,
    "start_time": "2022-05-11T18:21:53.278Z"
   },
   {
    "duration": 98,
    "start_time": "2022-05-11T18:21:53.314Z"
   },
   {
    "duration": 41,
    "start_time": "2022-05-11T18:21:53.414Z"
   },
   {
    "duration": 35,
    "start_time": "2022-05-11T18:21:53.457Z"
   },
   {
    "duration": 24,
    "start_time": "2022-05-11T18:21:53.493Z"
   },
   {
    "duration": 29,
    "start_time": "2022-05-11T18:21:53.519Z"
   },
   {
    "duration": 45,
    "start_time": "2022-05-11T18:21:53.550Z"
   },
   {
    "duration": 33,
    "start_time": "2022-05-11T18:22:04.513Z"
   },
   {
    "duration": 10,
    "start_time": "2022-05-11T18:22:52.084Z"
   },
   {
    "duration": 16,
    "start_time": "2022-05-11T18:22:56.325Z"
   },
   {
    "duration": 2325,
    "start_time": "2022-05-12T08:27:05.540Z"
   },
   {
    "duration": 4159,
    "start_time": "2022-05-12T08:27:07.869Z"
   },
   {
    "duration": 23,
    "start_time": "2022-05-12T08:27:12.032Z"
   },
   {
    "duration": 25,
    "start_time": "2022-05-12T08:27:24.414Z"
   },
   {
    "duration": 22,
    "start_time": "2022-05-12T08:27:33.327Z"
   },
   {
    "duration": 17,
    "start_time": "2022-05-12T08:27:56.872Z"
   },
   {
    "duration": 10,
    "start_time": "2022-05-12T08:28:16.335Z"
   },
   {
    "duration": 13,
    "start_time": "2022-05-12T08:28:25.653Z"
   },
   {
    "duration": 16,
    "start_time": "2022-05-12T08:28:55.661Z"
   },
   {
    "duration": 12,
    "start_time": "2022-05-12T08:29:04.732Z"
   },
   {
    "duration": 36,
    "start_time": "2022-05-12T08:29:06.688Z"
   },
   {
    "duration": 138,
    "start_time": "2022-05-12T08:29:13.266Z"
   },
   {
    "duration": 43,
    "start_time": "2022-05-12T08:29:14.388Z"
   },
   {
    "duration": 81,
    "start_time": "2022-05-12T08:29:19.704Z"
   },
   {
    "duration": 47,
    "start_time": "2022-05-12T08:29:20.583Z"
   },
   {
    "duration": 14,
    "start_time": "2022-05-12T08:29:31.576Z"
   },
   {
    "duration": 70,
    "start_time": "2022-05-12T08:29:32.630Z"
   },
   {
    "duration": 11,
    "start_time": "2022-05-12T08:29:51.262Z"
   },
   {
    "duration": 13,
    "start_time": "2022-05-12T08:30:08.478Z"
   },
   {
    "duration": 144,
    "start_time": "2022-05-12T08:31:20.226Z"
   },
   {
    "duration": 10,
    "start_time": "2022-05-12T08:31:28.464Z"
   },
   {
    "duration": 18,
    "start_time": "2022-05-12T08:32:02.639Z"
   },
   {
    "duration": 13,
    "start_time": "2022-05-12T08:32:43.716Z"
   },
   {
    "duration": 6,
    "start_time": "2022-05-12T08:32:51.551Z"
   },
   {
    "duration": 13,
    "start_time": "2022-05-12T08:33:31.721Z"
   },
   {
    "duration": 25,
    "start_time": "2022-05-12T08:33:48.392Z"
   },
   {
    "duration": 27,
    "start_time": "2022-05-12T08:34:29.358Z"
   },
   {
    "duration": 18,
    "start_time": "2022-05-12T08:35:16.422Z"
   },
   {
    "duration": 20,
    "start_time": "2022-05-12T08:35:24.795Z"
   },
   {
    "duration": 25,
    "start_time": "2022-05-12T08:35:33.553Z"
   },
   {
    "duration": 19,
    "start_time": "2022-05-12T08:35:52.116Z"
   },
   {
    "duration": 2105,
    "start_time": "2022-05-12T08:37:10.310Z"
   },
   {
    "duration": 23,
    "start_time": "2022-05-12T08:38:05.470Z"
   },
   {
    "duration": 17,
    "start_time": "2022-05-12T08:38:36.798Z"
   },
   {
    "duration": 5,
    "start_time": "2022-05-12T08:39:22.311Z"
   },
   {
    "duration": 35,
    "start_time": "2022-05-12T08:41:13.732Z"
   },
   {
    "duration": 32,
    "start_time": "2022-05-12T08:41:49.666Z"
   },
   {
    "duration": 31,
    "start_time": "2022-05-12T08:43:11.160Z"
   },
   {
    "duration": 43,
    "start_time": "2022-05-12T08:43:58.517Z"
   },
   {
    "duration": 38,
    "start_time": "2022-05-12T08:48:03.718Z"
   },
   {
    "duration": 32,
    "start_time": "2022-05-12T08:52:29.535Z"
   },
   {
    "duration": 1614,
    "start_time": "2022-05-12T08:56:35.973Z"
   },
   {
    "duration": 37,
    "start_time": "2022-05-12T08:58:59.307Z"
   },
   {
    "duration": 1606,
    "start_time": "2022-05-12T08:59:44.478Z"
   },
   {
    "duration": 500,
    "start_time": "2022-05-12T08:59:46.087Z"
   },
   {
    "duration": 21,
    "start_time": "2022-05-12T08:59:46.589Z"
   },
   {
    "duration": 17,
    "start_time": "2022-05-12T08:59:46.624Z"
   },
   {
    "duration": 22,
    "start_time": "2022-05-12T08:59:46.646Z"
   },
   {
    "duration": 19,
    "start_time": "2022-05-12T08:59:46.670Z"
   },
   {
    "duration": 42,
    "start_time": "2022-05-12T08:59:46.692Z"
   },
   {
    "duration": 17,
    "start_time": "2022-05-12T08:59:46.737Z"
   },
   {
    "duration": 20,
    "start_time": "2022-05-12T08:59:46.757Z"
   },
   {
    "duration": 52,
    "start_time": "2022-05-12T08:59:46.779Z"
   },
   {
    "duration": 35,
    "start_time": "2022-05-12T08:59:46.834Z"
   },
   {
    "duration": 118,
    "start_time": "2022-05-12T08:59:46.872Z"
   },
   {
    "duration": 44,
    "start_time": "2022-05-12T08:59:46.993Z"
   },
   {
    "duration": 56,
    "start_time": "2022-05-12T08:59:47.043Z"
   },
   {
    "duration": 47,
    "start_time": "2022-05-12T08:59:47.140Z"
   },
   {
    "duration": 11,
    "start_time": "2022-05-12T08:59:47.189Z"
   },
   {
    "duration": 94,
    "start_time": "2022-05-12T08:59:47.203Z"
   },
   {
    "duration": 21,
    "start_time": "2022-05-12T09:07:15.223Z"
   },
   {
    "duration": 1471,
    "start_time": "2022-05-12T09:10:27.227Z"
   },
   {
    "duration": 517,
    "start_time": "2022-05-12T09:10:28.701Z"
   },
   {
    "duration": 18,
    "start_time": "2022-05-12T09:10:29.221Z"
   },
   {
    "duration": 17,
    "start_time": "2022-05-12T09:10:29.241Z"
   },
   {
    "duration": 18,
    "start_time": "2022-05-12T09:10:29.261Z"
   },
   {
    "duration": 44,
    "start_time": "2022-05-12T09:10:29.282Z"
   },
   {
    "duration": 11,
    "start_time": "2022-05-12T09:10:29.328Z"
   },
   {
    "duration": 16,
    "start_time": "2022-05-12T09:10:29.341Z"
   },
   {
    "duration": 22,
    "start_time": "2022-05-12T09:10:29.359Z"
   },
   {
    "duration": 47,
    "start_time": "2022-05-12T09:10:29.384Z"
   },
   {
    "duration": 36,
    "start_time": "2022-05-12T09:10:29.433Z"
   },
   {
    "duration": 119,
    "start_time": "2022-05-12T09:10:29.472Z"
   },
   {
    "duration": 34,
    "start_time": "2022-05-12T09:10:29.593Z"
   },
   {
    "duration": 59,
    "start_time": "2022-05-12T09:10:29.631Z"
   },
   {
    "duration": 46,
    "start_time": "2022-05-12T09:10:29.692Z"
   },
   {
    "duration": 14,
    "start_time": "2022-05-12T09:10:29.740Z"
   },
   {
    "duration": 105,
    "start_time": "2022-05-12T09:10:29.756Z"
   },
   {
    "duration": 4,
    "start_time": "2022-05-12T09:12:25.870Z"
   },
   {
    "duration": 143,
    "start_time": "2022-05-12T09:17:47.684Z"
   },
   {
    "duration": 9,
    "start_time": "2022-05-12T09:17:57.288Z"
   },
   {
    "duration": 8,
    "start_time": "2022-05-12T09:18:32.330Z"
   },
   {
    "duration": 17,
    "start_time": "2022-05-12T09:23:46.668Z"
   },
   {
    "duration": 16,
    "start_time": "2022-05-12T09:24:41.493Z"
   },
   {
    "duration": 12,
    "start_time": "2022-05-12T09:24:59.969Z"
   },
   {
    "duration": 14,
    "start_time": "2022-05-12T09:25:52.287Z"
   },
   {
    "duration": 6,
    "start_time": "2022-05-12T09:26:36.922Z"
   },
   {
    "duration": 14,
    "start_time": "2022-05-12T09:27:14.708Z"
   },
   {
    "duration": 23,
    "start_time": "2022-05-12T09:27:30.234Z"
   },
   {
    "duration": 15,
    "start_time": "2022-05-12T09:28:01.924Z"
   },
   {
    "duration": 15,
    "start_time": "2022-05-12T09:28:26.088Z"
   },
   {
    "duration": 14,
    "start_time": "2022-05-12T09:30:48.088Z"
   },
   {
    "duration": 3,
    "start_time": "2022-05-12T09:33:17.116Z"
   },
   {
    "duration": 17,
    "start_time": "2022-05-12T09:34:20.184Z"
   },
   {
    "duration": 32,
    "start_time": "2022-05-12T09:34:37.349Z"
   },
   {
    "duration": 53,
    "start_time": "2022-05-12T09:35:05.040Z"
   },
   {
    "duration": 2008,
    "start_time": "2022-05-12T09:35:24.865Z"
   },
   {
    "duration": 775,
    "start_time": "2022-05-12T09:35:26.877Z"
   },
   {
    "duration": 26,
    "start_time": "2022-05-12T09:35:27.655Z"
   },
   {
    "duration": 44,
    "start_time": "2022-05-12T09:35:27.685Z"
   },
   {
    "duration": 24,
    "start_time": "2022-05-12T09:35:27.732Z"
   },
   {
    "duration": 22,
    "start_time": "2022-05-12T09:35:27.759Z"
   },
   {
    "duration": 18,
    "start_time": "2022-05-12T09:35:27.784Z"
   },
   {
    "duration": 31,
    "start_time": "2022-05-12T09:35:27.804Z"
   },
   {
    "duration": 23,
    "start_time": "2022-05-12T09:35:27.838Z"
   },
   {
    "duration": 18,
    "start_time": "2022-05-12T09:35:27.866Z"
   },
   {
    "duration": 75,
    "start_time": "2022-05-12T09:35:27.886Z"
   },
   {
    "duration": 126,
    "start_time": "2022-05-12T09:35:27.965Z"
   },
   {
    "duration": 43,
    "start_time": "2022-05-12T09:35:28.094Z"
   },
   {
    "duration": 55,
    "start_time": "2022-05-12T09:35:28.140Z"
   },
   {
    "duration": 50,
    "start_time": "2022-05-12T09:35:28.197Z"
   },
   {
    "duration": 12,
    "start_time": "2022-05-12T09:35:28.249Z"
   },
   {
    "duration": 160,
    "start_time": "2022-05-12T09:35:28.264Z"
   },
   {
    "duration": 7,
    "start_time": "2022-05-12T09:35:28.428Z"
   },
   {
    "duration": 24,
    "start_time": "2022-05-12T09:35:28.438Z"
   },
   {
    "duration": 191,
    "start_time": "2022-05-12T09:35:31.411Z"
   },
   {
    "duration": 41,
    "start_time": "2022-05-12T09:35:48.158Z"
   },
   {
    "duration": 68,
    "start_time": "2022-05-12T09:35:56.783Z"
   },
   {
    "duration": 2873,
    "start_time": "2022-05-12T09:37:26.760Z"
   },
   {
    "duration": 509,
    "start_time": "2022-05-12T09:37:29.636Z"
   },
   {
    "duration": 17,
    "start_time": "2022-05-12T09:37:30.148Z"
   },
   {
    "duration": 37,
    "start_time": "2022-05-12T09:37:30.168Z"
   },
   {
    "duration": 19,
    "start_time": "2022-05-12T09:37:30.208Z"
   },
   {
    "duration": 20,
    "start_time": "2022-05-12T09:37:30.229Z"
   },
   {
    "duration": 28,
    "start_time": "2022-05-12T09:37:30.251Z"
   },
   {
    "duration": 28,
    "start_time": "2022-05-12T09:37:30.281Z"
   },
   {
    "duration": 20,
    "start_time": "2022-05-12T09:37:30.311Z"
   },
   {
    "duration": 22,
    "start_time": "2022-05-12T09:37:30.333Z"
   },
   {
    "duration": 36,
    "start_time": "2022-05-12T09:37:30.357Z"
   },
   {
    "duration": 130,
    "start_time": "2022-05-12T09:37:30.396Z"
   },
   {
    "duration": 27,
    "start_time": "2022-05-12T09:37:30.529Z"
   },
   {
    "duration": 84,
    "start_time": "2022-05-12T09:37:30.560Z"
   },
   {
    "duration": 31,
    "start_time": "2022-05-12T09:37:30.647Z"
   },
   {
    "duration": 33,
    "start_time": "2022-05-12T09:37:30.681Z"
   },
   {
    "duration": 101,
    "start_time": "2022-05-12T09:37:30.716Z"
   },
   {
    "duration": 8,
    "start_time": "2022-05-12T09:37:30.820Z"
   },
   {
    "duration": 47,
    "start_time": "2022-05-12T09:37:30.831Z"
   },
   {
    "duration": 155,
    "start_time": "2022-05-12T09:37:33.219Z"
   },
   {
    "duration": 19,
    "start_time": "2022-05-12T09:37:49.774Z"
   },
   {
    "duration": 21,
    "start_time": "2022-05-12T09:39:58.787Z"
   },
   {
    "duration": 38,
    "start_time": "2022-05-12T09:40:12.363Z"
   },
   {
    "duration": 3417,
    "start_time": "2022-05-12T09:40:55.473Z"
   },
   {
    "duration": 25,
    "start_time": "2022-05-12T09:41:21.840Z"
   },
   {
    "duration": 31,
    "start_time": "2022-05-12T09:41:37.344Z"
   },
   {
    "duration": 58,
    "start_time": "2022-05-12T09:41:53.301Z"
   },
   {
    "duration": 14,
    "start_time": "2022-05-12T09:44:47.696Z"
   },
   {
    "duration": 15,
    "start_time": "2022-05-12T09:44:53.220Z"
   },
   {
    "duration": 37,
    "start_time": "2022-05-12T09:45:06.341Z"
   },
   {
    "duration": 5,
    "start_time": "2022-05-12T09:45:37.767Z"
   },
   {
    "duration": 12,
    "start_time": "2022-05-12T09:45:48.179Z"
   },
   {
    "duration": 36,
    "start_time": "2022-05-12T09:45:56.382Z"
   },
   {
    "duration": 13,
    "start_time": "2022-05-12T09:46:03.817Z"
   },
   {
    "duration": 13,
    "start_time": "2022-05-12T09:46:07.226Z"
   },
   {
    "duration": 32,
    "start_time": "2022-05-12T09:46:41.803Z"
   },
   {
    "duration": 69,
    "start_time": "2022-05-12T09:47:09.331Z"
   },
   {
    "duration": 102,
    "start_time": "2022-05-12T09:47:34.028Z"
   },
   {
    "duration": 31,
    "start_time": "2022-05-12T09:48:35.714Z"
   },
   {
    "duration": 189,
    "start_time": "2022-05-12T09:51:26.057Z"
   },
   {
    "duration": 1888,
    "start_time": "2022-05-12T09:51:33.142Z"
   },
   {
    "duration": 2262,
    "start_time": "2022-05-12T09:52:06.749Z"
   },
   {
    "duration": 535,
    "start_time": "2022-05-12T09:52:09.014Z"
   },
   {
    "duration": 17,
    "start_time": "2022-05-12T09:52:09.552Z"
   },
   {
    "duration": 22,
    "start_time": "2022-05-12T09:52:09.573Z"
   },
   {
    "duration": 34,
    "start_time": "2022-05-12T09:52:09.597Z"
   },
   {
    "duration": 20,
    "start_time": "2022-05-12T09:52:09.633Z"
   },
   {
    "duration": 18,
    "start_time": "2022-05-12T09:52:09.655Z"
   },
   {
    "duration": 15,
    "start_time": "2022-05-12T09:52:09.675Z"
   },
   {
    "duration": 38,
    "start_time": "2022-05-12T09:52:09.692Z"
   },
   {
    "duration": 16,
    "start_time": "2022-05-12T09:52:09.735Z"
   },
   {
    "duration": 39,
    "start_time": "2022-05-12T09:52:09.754Z"
   },
   {
    "duration": 116,
    "start_time": "2022-05-12T09:52:09.796Z"
   },
   {
    "duration": 35,
    "start_time": "2022-05-12T09:52:09.914Z"
   },
   {
    "duration": 82,
    "start_time": "2022-05-12T09:52:09.951Z"
   },
   {
    "duration": 34,
    "start_time": "2022-05-12T09:52:10.035Z"
   },
   {
    "duration": 17,
    "start_time": "2022-05-12T09:52:10.072Z"
   },
   {
    "duration": 107,
    "start_time": "2022-05-12T09:52:10.092Z"
   },
   {
    "duration": 23,
    "start_time": "2022-05-12T09:52:10.201Z"
   },
   {
    "duration": 16,
    "start_time": "2022-05-12T09:52:10.226Z"
   },
   {
    "duration": 181,
    "start_time": "2022-05-12T09:52:14.267Z"
   },
   {
    "duration": 1753,
    "start_time": "2022-05-12T09:52:48.502Z"
   },
   {
    "duration": 2006,
    "start_time": "2022-05-12T09:53:00.430Z"
   },
   {
    "duration": 1498,
    "start_time": "2022-05-12T09:53:16.011Z"
   },
   {
    "duration": 506,
    "start_time": "2022-05-12T09:53:17.512Z"
   },
   {
    "duration": 17,
    "start_time": "2022-05-12T09:53:18.021Z"
   },
   {
    "duration": 17,
    "start_time": "2022-05-12T09:53:18.042Z"
   },
   {
    "duration": 20,
    "start_time": "2022-05-12T09:53:18.061Z"
   },
   {
    "duration": 19,
    "start_time": "2022-05-12T09:53:18.083Z"
   },
   {
    "duration": 11,
    "start_time": "2022-05-12T09:53:18.125Z"
   },
   {
    "duration": 14,
    "start_time": "2022-05-12T09:53:18.139Z"
   },
   {
    "duration": 17,
    "start_time": "2022-05-12T09:53:18.155Z"
   },
   {
    "duration": 52,
    "start_time": "2022-05-12T09:53:18.176Z"
   },
   {
    "duration": 34,
    "start_time": "2022-05-12T09:53:18.230Z"
   },
   {
    "duration": 121,
    "start_time": "2022-05-12T09:53:18.267Z"
   },
   {
    "duration": 41,
    "start_time": "2022-05-12T09:53:18.391Z"
   },
   {
    "duration": 60,
    "start_time": "2022-05-12T09:53:18.435Z"
   },
   {
    "duration": 54,
    "start_time": "2022-05-12T09:53:18.498Z"
   },
   {
    "duration": 13,
    "start_time": "2022-05-12T09:53:18.554Z"
   },
   {
    "duration": 112,
    "start_time": "2022-05-12T09:53:18.569Z"
   },
   {
    "duration": 7,
    "start_time": "2022-05-12T09:53:18.683Z"
   },
   {
    "duration": 32,
    "start_time": "2022-05-12T09:53:18.692Z"
   },
   {
    "duration": 84,
    "start_time": "2022-05-12T09:53:21.050Z"
   },
   {
    "duration": 94,
    "start_time": "2022-05-12T09:53:30.467Z"
   },
   {
    "duration": 97,
    "start_time": "2022-05-12T09:54:32.677Z"
   },
   {
    "duration": 133,
    "start_time": "2022-05-12T09:59:26.420Z"
   },
   {
    "duration": 140,
    "start_time": "2022-05-12T10:00:04.964Z"
   },
   {
    "duration": 185,
    "start_time": "2022-05-12T10:01:23.520Z"
   },
   {
    "duration": 223,
    "start_time": "2022-05-12T10:01:29.665Z"
   },
   {
    "duration": 91,
    "start_time": "2022-05-12T10:02:00.036Z"
   },
   {
    "duration": 129,
    "start_time": "2022-05-12T10:02:27.041Z"
   },
   {
    "duration": 126,
    "start_time": "2022-05-12T10:07:27.545Z"
   },
   {
    "duration": 91,
    "start_time": "2022-05-12T10:07:51.709Z"
   },
   {
    "duration": 35,
    "start_time": "2022-05-12T10:09:05.457Z"
   },
   {
    "duration": 173,
    "start_time": "2022-05-12T10:09:33.723Z"
   },
   {
    "duration": 93,
    "start_time": "2022-05-12T10:10:19.874Z"
   },
   {
    "duration": 129,
    "start_time": "2022-05-12T10:11:28.540Z"
   },
   {
    "duration": 181,
    "start_time": "2022-05-12T10:13:25.907Z"
   },
   {
    "duration": 175,
    "start_time": "2022-05-12T10:17:29.429Z"
   },
   {
    "duration": 753,
    "start_time": "2022-05-12T10:18:58.825Z"
   },
   {
    "duration": 130,
    "start_time": "2022-05-12T10:20:30.325Z"
   },
   {
    "duration": 129,
    "start_time": "2022-05-12T10:20:56.790Z"
   },
   {
    "duration": 100,
    "start_time": "2022-05-12T10:21:07.700Z"
   },
   {
    "duration": 125,
    "start_time": "2022-05-12T10:21:12.674Z"
   },
   {
    "duration": 718,
    "start_time": "2022-05-12T10:22:49.822Z"
   },
   {
    "duration": 74,
    "start_time": "2022-05-12T10:27:36.166Z"
   },
   {
    "duration": 63,
    "start_time": "2022-05-12T10:28:07.036Z"
   },
   {
    "duration": 58,
    "start_time": "2022-05-12T10:29:21.199Z"
   },
   {
    "duration": 2485,
    "start_time": "2022-05-12T10:30:30.830Z"
   },
   {
    "duration": 547,
    "start_time": "2022-05-12T10:30:33.318Z"
   },
   {
    "duration": 16,
    "start_time": "2022-05-12T10:30:33.868Z"
   },
   {
    "duration": 19,
    "start_time": "2022-05-12T10:30:33.888Z"
   },
   {
    "duration": 39,
    "start_time": "2022-05-12T10:30:33.909Z"
   },
   {
    "duration": 18,
    "start_time": "2022-05-12T10:30:33.950Z"
   },
   {
    "duration": 14,
    "start_time": "2022-05-12T10:30:33.971Z"
   },
   {
    "duration": 38,
    "start_time": "2022-05-12T10:30:33.988Z"
   },
   {
    "duration": 29,
    "start_time": "2022-05-12T10:30:34.028Z"
   },
   {
    "duration": 26,
    "start_time": "2022-05-12T10:30:34.060Z"
   },
   {
    "duration": 39,
    "start_time": "2022-05-12T10:30:34.088Z"
   },
   {
    "duration": 139,
    "start_time": "2022-05-12T10:30:34.129Z"
   },
   {
    "duration": 26,
    "start_time": "2022-05-12T10:30:34.270Z"
   },
   {
    "duration": 77,
    "start_time": "2022-05-12T10:30:34.299Z"
   },
   {
    "duration": 47,
    "start_time": "2022-05-12T10:30:34.378Z"
   },
   {
    "duration": 13,
    "start_time": "2022-05-12T10:30:34.427Z"
   },
   {
    "duration": 114,
    "start_time": "2022-05-12T10:30:34.442Z"
   },
   {
    "duration": 6,
    "start_time": "2022-05-12T10:30:34.559Z"
   },
   {
    "duration": 24,
    "start_time": "2022-05-12T10:30:34.568Z"
   },
   {
    "duration": 1576,
    "start_time": "2022-05-12T10:31:41.822Z"
   },
   {
    "duration": 524,
    "start_time": "2022-05-12T10:31:43.401Z"
   },
   {
    "duration": 21,
    "start_time": "2022-05-12T10:31:43.927Z"
   },
   {
    "duration": 21,
    "start_time": "2022-05-12T10:31:43.951Z"
   },
   {
    "duration": 19,
    "start_time": "2022-05-12T10:31:43.975Z"
   },
   {
    "duration": 44,
    "start_time": "2022-05-12T10:31:43.996Z"
   },
   {
    "duration": 17,
    "start_time": "2022-05-12T10:31:44.042Z"
   },
   {
    "duration": 15,
    "start_time": "2022-05-12T10:31:44.061Z"
   },
   {
    "duration": 46,
    "start_time": "2022-05-12T10:31:44.078Z"
   },
   {
    "duration": 16,
    "start_time": "2022-05-12T10:31:44.128Z"
   },
   {
    "duration": 56,
    "start_time": "2022-05-12T10:31:44.147Z"
   },
   {
    "duration": 96,
    "start_time": "2022-05-12T10:31:44.205Z"
   },
   {
    "duration": 33,
    "start_time": "2022-05-12T10:31:44.303Z"
   },
   {
    "duration": 58,
    "start_time": "2022-05-12T10:31:44.339Z"
   },
   {
    "duration": 57,
    "start_time": "2022-05-12T10:31:44.400Z"
   },
   {
    "duration": 14,
    "start_time": "2022-05-12T10:31:44.460Z"
   },
   {
    "duration": 110,
    "start_time": "2022-05-12T10:31:44.476Z"
   },
   {
    "duration": 7,
    "start_time": "2022-05-12T10:31:44.588Z"
   },
   {
    "duration": 35,
    "start_time": "2022-05-12T10:31:44.597Z"
   },
   {
    "duration": 191,
    "start_time": "2022-05-12T10:31:53.117Z"
   },
   {
    "duration": 49,
    "start_time": "2022-05-12T10:32:10.431Z"
   },
   {
    "duration": 68,
    "start_time": "2022-05-12T10:33:04.411Z"
   },
   {
    "duration": 71,
    "start_time": "2022-05-12T10:33:19.078Z"
   },
   {
    "duration": 110,
    "start_time": "2022-05-12T10:38:28.993Z"
   },
   {
    "duration": 79,
    "start_time": "2022-05-12T10:39:45.370Z"
   },
   {
    "duration": 119,
    "start_time": "2022-05-12T10:40:25.727Z"
   },
   {
    "duration": 77,
    "start_time": "2022-05-12T10:40:42.193Z"
   },
   {
    "duration": 80,
    "start_time": "2022-05-12T10:43:22.939Z"
   },
   {
    "duration": 82,
    "start_time": "2022-05-12T10:43:46.997Z"
   },
   {
    "duration": 74,
    "start_time": "2022-05-12T10:44:03.915Z"
   },
   {
    "duration": 114,
    "start_time": "2022-05-12T10:45:21.594Z"
   },
   {
    "duration": 72,
    "start_time": "2022-05-12T10:45:38.230Z"
   },
   {
    "duration": 107,
    "start_time": "2022-05-12T10:48:48.989Z"
   },
   {
    "duration": 107,
    "start_time": "2022-05-12T10:49:26.010Z"
   },
   {
    "duration": 121,
    "start_time": "2022-05-12T10:49:32.974Z"
   },
   {
    "duration": 120,
    "start_time": "2022-05-12T10:50:28.904Z"
   },
   {
    "duration": 117,
    "start_time": "2022-05-12T10:51:38.029Z"
   },
   {
    "duration": 127,
    "start_time": "2022-05-12T10:52:06.632Z"
   },
   {
    "duration": 205,
    "start_time": "2022-05-12T10:54:53.740Z"
   },
   {
    "duration": 182,
    "start_time": "2022-05-12T10:55:26.033Z"
   },
   {
    "duration": 115,
    "start_time": "2022-05-12T10:55:34.472Z"
   },
   {
    "duration": 121,
    "start_time": "2022-05-12T10:55:55.627Z"
   },
   {
    "duration": 114,
    "start_time": "2022-05-12T10:58:30.662Z"
   },
   {
    "duration": 130,
    "start_time": "2022-05-12T10:58:35.970Z"
   },
   {
    "duration": 116,
    "start_time": "2022-05-12T10:58:50.409Z"
   },
   {
    "duration": 129,
    "start_time": "2022-05-12T10:58:57.509Z"
   },
   {
    "duration": 123,
    "start_time": "2022-05-12T10:59:07.020Z"
   },
   {
    "duration": 122,
    "start_time": "2022-05-12T10:59:23.568Z"
   },
   {
    "duration": 122,
    "start_time": "2022-05-12T11:00:31.558Z"
   },
   {
    "duration": 53,
    "start_time": "2022-05-12T11:04:41.096Z"
   },
   {
    "duration": 1500,
    "start_time": "2022-05-12T11:05:23.709Z"
   },
   {
    "duration": 607,
    "start_time": "2022-05-12T11:05:25.212Z"
   },
   {
    "duration": 18,
    "start_time": "2022-05-12T11:05:25.821Z"
   },
   {
    "duration": 27,
    "start_time": "2022-05-12T11:05:25.842Z"
   },
   {
    "duration": 22,
    "start_time": "2022-05-12T11:05:25.873Z"
   },
   {
    "duration": 16,
    "start_time": "2022-05-12T11:05:25.930Z"
   },
   {
    "duration": 15,
    "start_time": "2022-05-12T11:05:25.948Z"
   },
   {
    "duration": 13,
    "start_time": "2022-05-12T11:05:25.965Z"
   },
   {
    "duration": 48,
    "start_time": "2022-05-12T11:05:25.981Z"
   },
   {
    "duration": 21,
    "start_time": "2022-05-12T11:05:26.033Z"
   },
   {
    "duration": 40,
    "start_time": "2022-05-12T11:05:26.056Z"
   },
   {
    "duration": 125,
    "start_time": "2022-05-12T11:05:26.099Z"
   },
   {
    "duration": 34,
    "start_time": "2022-05-12T11:05:26.228Z"
   },
   {
    "duration": 86,
    "start_time": "2022-05-12T11:05:26.265Z"
   },
   {
    "duration": 30,
    "start_time": "2022-05-12T11:05:26.353Z"
   },
   {
    "duration": 13,
    "start_time": "2022-05-12T11:05:26.385Z"
   },
   {
    "duration": 101,
    "start_time": "2022-05-12T11:05:26.426Z"
   },
   {
    "duration": 11,
    "start_time": "2022-05-12T11:05:26.530Z"
   },
   {
    "duration": 26,
    "start_time": "2022-05-12T11:05:26.544Z"
   },
   {
    "duration": 70,
    "start_time": "2022-05-12T11:05:29.446Z"
   },
   {
    "duration": 71,
    "start_time": "2022-05-12T11:05:46.459Z"
   },
   {
    "duration": 79,
    "start_time": "2022-05-12T11:06:30.120Z"
   },
   {
    "duration": 244,
    "start_time": "2022-05-12T11:06:52.404Z"
   },
   {
    "duration": 108,
    "start_time": "2022-05-12T11:07:24.901Z"
   },
   {
    "duration": 73,
    "start_time": "2022-05-12T11:07:43.590Z"
   },
   {
    "duration": 113,
    "start_time": "2022-05-12T11:07:53.468Z"
   },
   {
    "duration": 109,
    "start_time": "2022-05-12T11:08:11.006Z"
   },
   {
    "duration": 116,
    "start_time": "2022-05-12T11:08:36.628Z"
   },
   {
    "duration": 51,
    "start_time": "2022-05-12T11:08:49.156Z"
   },
   {
    "duration": 44,
    "start_time": "2022-05-12T11:09:06.768Z"
   },
   {
    "duration": 46,
    "start_time": "2022-05-12T11:09:19.235Z"
   },
   {
    "duration": 39,
    "start_time": "2022-05-12T11:09:26.402Z"
   },
   {
    "duration": 40,
    "start_time": "2022-05-12T11:09:36.710Z"
   },
   {
    "duration": 56,
    "start_time": "2022-05-12T11:09:46.762Z"
   },
   {
    "duration": 54,
    "start_time": "2022-05-12T11:09:52.063Z"
   },
   {
    "duration": 52,
    "start_time": "2022-05-12T11:09:59.434Z"
   },
   {
    "duration": 68,
    "start_time": "2022-05-12T11:10:13.096Z"
   },
   {
    "duration": 12,
    "start_time": "2022-05-12T11:10:47.559Z"
   },
   {
    "duration": 26,
    "start_time": "2022-05-12T11:11:25.740Z"
   },
   {
    "duration": 64,
    "start_time": "2022-05-12T11:12:59.139Z"
   },
   {
    "duration": 128,
    "start_time": "2022-05-12T11:13:22.071Z"
   },
   {
    "duration": 28,
    "start_time": "2022-05-12T11:14:28.686Z"
   },
   {
    "duration": 1071,
    "start_time": "2022-05-12T11:14:48.942Z"
   },
   {
    "duration": 935,
    "start_time": "2022-05-12T11:14:57.113Z"
   },
   {
    "duration": 12,
    "start_time": "2022-05-12T11:16:27.873Z"
   },
   {
    "duration": 14,
    "start_time": "2022-05-12T11:16:40.993Z"
   },
   {
    "duration": 40,
    "start_time": "2022-05-12T11:17:28.420Z"
   },
   {
    "duration": 6,
    "start_time": "2022-05-12T11:17:53.221Z"
   },
   {
    "duration": 16,
    "start_time": "2022-05-12T11:18:31.413Z"
   },
   {
    "duration": 47,
    "start_time": "2022-05-12T11:18:36.215Z"
   },
   {
    "duration": 19,
    "start_time": "2022-05-12T11:19:26.206Z"
   },
   {
    "duration": 37,
    "start_time": "2022-05-12T11:20:02.716Z"
   },
   {
    "duration": 29,
    "start_time": "2022-05-12T11:20:57.663Z"
   },
   {
    "duration": 45,
    "start_time": "2022-05-12T11:21:02.940Z"
   },
   {
    "duration": 64,
    "start_time": "2022-05-12T12:15:39.620Z"
   },
   {
    "duration": 16,
    "start_time": "2022-05-12T12:16:41.647Z"
   },
   {
    "duration": 14,
    "start_time": "2022-05-12T12:17:03.642Z"
   },
   {
    "duration": 52,
    "start_time": "2022-05-12T12:19:13.593Z"
   },
   {
    "duration": 27,
    "start_time": "2022-05-12T12:19:41.033Z"
   },
   {
    "duration": 27,
    "start_time": "2022-05-12T12:20:23.226Z"
   },
   {
    "duration": 21,
    "start_time": "2022-05-12T12:20:35.539Z"
   },
   {
    "duration": 22,
    "start_time": "2022-05-12T12:20:41.619Z"
   },
   {
    "duration": 16,
    "start_time": "2022-05-12T12:24:46.584Z"
   },
   {
    "duration": 14,
    "start_time": "2022-05-12T12:25:06.236Z"
   },
   {
    "duration": 98,
    "start_time": "2022-05-12T12:28:46.186Z"
   },
   {
    "duration": 46,
    "start_time": "2022-05-12T12:29:14.462Z"
   },
   {
    "duration": 57,
    "start_time": "2022-05-12T12:33:07.076Z"
   },
   {
    "duration": 61,
    "start_time": "2022-05-12T12:38:33.988Z"
   },
   {
    "duration": 72,
    "start_time": "2022-05-12T12:44:14.540Z"
   },
   {
    "duration": 11,
    "start_time": "2022-05-12T12:44:34.108Z"
   },
   {
    "duration": 47,
    "start_time": "2022-05-12T12:44:41.211Z"
   },
   {
    "duration": 32,
    "start_time": "2022-05-12T12:44:51.110Z"
   },
   {
    "duration": 39,
    "start_time": "2022-05-12T12:45:22.487Z"
   },
   {
    "duration": 6,
    "start_time": "2022-05-12T12:48:50.141Z"
   },
   {
    "duration": 41,
    "start_time": "2022-05-12T12:49:48.037Z"
   },
   {
    "duration": 53,
    "start_time": "2022-05-12T12:50:30.193Z"
   },
   {
    "duration": 55,
    "start_time": "2022-05-12T12:50:47.657Z"
   },
   {
    "duration": 107,
    "start_time": "2022-05-12T12:51:40.812Z"
   },
   {
    "duration": 109,
    "start_time": "2022-05-12T12:51:53.044Z"
   },
   {
    "duration": 57,
    "start_time": "2022-05-12T12:52:54.507Z"
   },
   {
    "duration": 54,
    "start_time": "2022-05-12T12:53:07.000Z"
   },
   {
    "duration": 129,
    "start_time": "2022-05-12T12:53:57.472Z"
   },
   {
    "duration": 119,
    "start_time": "2022-05-12T12:54:04.706Z"
   },
   {
    "duration": 19,
    "start_time": "2022-05-12T12:54:11.212Z"
   },
   {
    "duration": 29,
    "start_time": "2022-05-12T12:54:26.682Z"
   },
   {
    "duration": 11,
    "start_time": "2022-05-12T12:54:53.237Z"
   },
   {
    "duration": 8,
    "start_time": "2022-05-12T12:55:02.447Z"
   },
   {
    "duration": 8,
    "start_time": "2022-05-12T12:55:15.262Z"
   },
   {
    "duration": 9,
    "start_time": "2022-05-12T12:55:43.056Z"
   },
   {
    "duration": 123,
    "start_time": "2022-05-12T12:56:11.180Z"
   },
   {
    "duration": 116,
    "start_time": "2022-05-12T12:56:19.474Z"
   },
   {
    "duration": 58,
    "start_time": "2022-05-12T12:56:27.688Z"
   },
   {
    "duration": 44,
    "start_time": "2022-05-12T12:56:35.265Z"
   },
   {
    "duration": 1372,
    "start_time": "2022-05-12T13:01:14.799Z"
   },
   {
    "duration": 409,
    "start_time": "2022-05-12T13:01:16.174Z"
   },
   {
    "duration": 13,
    "start_time": "2022-05-12T13:01:16.585Z"
   },
   {
    "duration": 12,
    "start_time": "2022-05-12T13:01:16.600Z"
   },
   {
    "duration": 31,
    "start_time": "2022-05-12T13:01:16.614Z"
   },
   {
    "duration": 13,
    "start_time": "2022-05-12T13:01:16.648Z"
   },
   {
    "duration": 10,
    "start_time": "2022-05-12T13:01:16.663Z"
   },
   {
    "duration": 13,
    "start_time": "2022-05-12T13:01:16.675Z"
   },
   {
    "duration": 12,
    "start_time": "2022-05-12T13:01:16.691Z"
   },
   {
    "duration": 44,
    "start_time": "2022-05-12T13:01:16.707Z"
   },
   {
    "duration": 28,
    "start_time": "2022-05-12T13:01:16.754Z"
   },
   {
    "duration": 84,
    "start_time": "2022-05-12T13:01:16.784Z"
   },
   {
    "duration": 19,
    "start_time": "2022-05-12T13:01:16.870Z"
   },
   {
    "duration": 66,
    "start_time": "2022-05-12T13:01:16.892Z"
   },
   {
    "duration": 24,
    "start_time": "2022-05-12T13:01:16.960Z"
   },
   {
    "duration": 9,
    "start_time": "2022-05-12T13:01:16.986Z"
   },
   {
    "duration": 79,
    "start_time": "2022-05-12T13:01:16.996Z"
   },
   {
    "duration": 5,
    "start_time": "2022-05-12T13:01:17.077Z"
   },
   {
    "duration": 17,
    "start_time": "2022-05-12T13:01:17.084Z"
   },
   {
    "duration": 114,
    "start_time": "2022-05-12T13:01:17.102Z"
   },
   {
    "duration": 50,
    "start_time": "2022-05-12T13:01:17.218Z"
   },
   {
    "duration": 46,
    "start_time": "2022-05-12T13:01:17.270Z"
   },
   {
    "duration": 10,
    "start_time": "2022-05-12T13:01:37.903Z"
   },
   {
    "duration": 25,
    "start_time": "2022-05-12T13:01:58.663Z"
   },
   {
    "duration": 38,
    "start_time": "2022-05-12T13:02:05.289Z"
   },
   {
    "duration": 111,
    "start_time": "2022-05-12T13:02:51.626Z"
   },
   {
    "duration": 98,
    "start_time": "2022-05-12T13:03:03.631Z"
   },
   {
    "duration": 93,
    "start_time": "2022-05-12T13:03:39.035Z"
   },
   {
    "duration": 126,
    "start_time": "2022-05-12T13:03:53.638Z"
   },
   {
    "duration": 139,
    "start_time": "2022-05-12T13:04:41.172Z"
   },
   {
    "duration": 11,
    "start_time": "2022-05-12T13:05:09.464Z"
   },
   {
    "duration": 6,
    "start_time": "2022-05-12T13:05:19.422Z"
   },
   {
    "duration": 1274,
    "start_time": "2022-05-12T13:05:38.817Z"
   },
   {
    "duration": 607,
    "start_time": "2022-05-12T13:05:40.094Z"
   },
   {
    "duration": 19,
    "start_time": "2022-05-12T13:05:40.704Z"
   },
   {
    "duration": 28,
    "start_time": "2022-05-12T13:05:40.726Z"
   },
   {
    "duration": 20,
    "start_time": "2022-05-12T13:05:40.756Z"
   },
   {
    "duration": 13,
    "start_time": "2022-05-12T13:05:40.778Z"
   },
   {
    "duration": 10,
    "start_time": "2022-05-12T13:05:40.793Z"
   },
   {
    "duration": 13,
    "start_time": "2022-05-12T13:05:40.805Z"
   },
   {
    "duration": 19,
    "start_time": "2022-05-12T13:05:40.844Z"
   },
   {
    "duration": 13,
    "start_time": "2022-05-12T13:05:40.866Z"
   },
   {
    "duration": 27,
    "start_time": "2022-05-12T13:05:40.881Z"
   },
   {
    "duration": 88,
    "start_time": "2022-05-12T13:05:40.910Z"
   },
   {
    "duration": 21,
    "start_time": "2022-05-12T13:05:41.000Z"
   },
   {
    "duration": 41,
    "start_time": "2022-05-12T13:05:41.043Z"
   },
   {
    "duration": 25,
    "start_time": "2022-05-12T13:05:41.086Z"
   },
   {
    "duration": 34,
    "start_time": "2022-05-12T13:05:41.113Z"
   },
   {
    "duration": 64,
    "start_time": "2022-05-12T13:05:41.151Z"
   },
   {
    "duration": 6,
    "start_time": "2022-05-12T13:05:41.217Z"
   },
   {
    "duration": 29,
    "start_time": "2022-05-12T13:05:41.225Z"
   },
   {
    "duration": 110,
    "start_time": "2022-05-12T13:05:41.257Z"
   },
   {
    "duration": 38,
    "start_time": "2022-05-12T13:05:41.369Z"
   },
   {
    "duration": 64,
    "start_time": "2022-05-12T13:05:41.409Z"
   },
   {
    "duration": 19,
    "start_time": "2022-05-12T13:06:23.421Z"
   },
   {
    "duration": 8,
    "start_time": "2022-05-12T13:06:31.664Z"
   },
   {
    "duration": 1293,
    "start_time": "2022-05-12T13:06:51.340Z"
   },
   {
    "duration": 415,
    "start_time": "2022-05-12T13:06:52.635Z"
   },
   {
    "duration": 14,
    "start_time": "2022-05-12T13:06:53.052Z"
   },
   {
    "duration": 14,
    "start_time": "2022-05-12T13:06:53.067Z"
   },
   {
    "duration": 17,
    "start_time": "2022-05-12T13:06:53.083Z"
   },
   {
    "duration": 15,
    "start_time": "2022-05-12T13:06:53.102Z"
   },
   {
    "duration": 31,
    "start_time": "2022-05-12T13:06:53.119Z"
   },
   {
    "duration": 16,
    "start_time": "2022-05-12T13:06:53.152Z"
   },
   {
    "duration": 22,
    "start_time": "2022-05-12T13:06:53.170Z"
   },
   {
    "duration": 10,
    "start_time": "2022-05-12T13:06:53.194Z"
   },
   {
    "duration": 48,
    "start_time": "2022-05-12T13:06:53.206Z"
   },
   {
    "duration": 74,
    "start_time": "2022-05-12T13:06:53.256Z"
   },
   {
    "duration": 28,
    "start_time": "2022-05-12T13:06:53.332Z"
   },
   {
    "duration": 41,
    "start_time": "2022-05-12T13:06:53.364Z"
   },
   {
    "duration": 46,
    "start_time": "2022-05-12T13:06:53.406Z"
   },
   {
    "duration": 9,
    "start_time": "2022-05-12T13:06:53.454Z"
   },
   {
    "duration": 79,
    "start_time": "2022-05-12T13:06:53.465Z"
   },
   {
    "duration": 5,
    "start_time": "2022-05-12T13:06:53.546Z"
   },
   {
    "duration": 15,
    "start_time": "2022-05-12T13:06:53.553Z"
   },
   {
    "duration": 113,
    "start_time": "2022-05-12T13:06:53.570Z"
   },
   {
    "duration": 38,
    "start_time": "2022-05-12T13:06:53.684Z"
   },
   {
    "duration": 59,
    "start_time": "2022-05-12T13:06:53.724Z"
   },
   {
    "duration": 8,
    "start_time": "2022-05-12T13:07:25.280Z"
   },
   {
    "duration": 7,
    "start_time": "2022-05-12T13:07:27.753Z"
   },
   {
    "duration": 107,
    "start_time": "2022-05-12T13:07:34.946Z"
   },
   {
    "duration": 6,
    "start_time": "2022-05-12T13:08:03.623Z"
   },
   {
    "duration": 6,
    "start_time": "2022-05-12T13:08:07.661Z"
   },
   {
    "duration": 14,
    "start_time": "2022-05-12T13:08:48.415Z"
   },
   {
    "duration": 23,
    "start_time": "2022-05-12T13:10:06.462Z"
   },
   {
    "duration": 17,
    "start_time": "2022-05-12T13:10:11.636Z"
   },
   {
    "duration": 7,
    "start_time": "2022-05-12T13:10:24.245Z"
   },
   {
    "duration": 17,
    "start_time": "2022-05-12T13:12:42.338Z"
   },
   {
    "duration": 17,
    "start_time": "2022-05-12T13:12:46.977Z"
   },
   {
    "duration": 9,
    "start_time": "2022-05-12T13:12:58.324Z"
   },
   {
    "duration": 40,
    "start_time": "2022-05-12T13:13:29.435Z"
   },
   {
    "duration": 10,
    "start_time": "2022-05-12T13:13:32.538Z"
   },
   {
    "duration": 42,
    "start_time": "2022-05-12T13:15:14.855Z"
   },
   {
    "duration": 10,
    "start_time": "2022-05-12T13:15:16.375Z"
   },
   {
    "duration": 139,
    "start_time": "2022-05-12T13:16:11.538Z"
   },
   {
    "duration": 9,
    "start_time": "2022-05-12T13:16:17.218Z"
   },
   {
    "duration": 96,
    "start_time": "2022-05-12T13:16:40.385Z"
   },
   {
    "duration": 176,
    "start_time": "2022-05-12T13:17:41.359Z"
   },
   {
    "duration": 12,
    "start_time": "2022-05-12T13:18:07.861Z"
   },
   {
    "duration": 203,
    "start_time": "2022-05-12T13:18:28.924Z"
   },
   {
    "duration": 9,
    "start_time": "2022-05-12T13:18:30.216Z"
   },
   {
    "duration": 183,
    "start_time": "2022-05-12T13:18:42.594Z"
   },
   {
    "duration": 41,
    "start_time": "2022-05-12T13:20:02.422Z"
   },
   {
    "duration": 6,
    "start_time": "2022-05-12T13:20:33.301Z"
   },
   {
    "duration": 205,
    "start_time": "2022-05-12T13:20:55.719Z"
   },
   {
    "duration": 210,
    "start_time": "2022-05-12T13:21:21.472Z"
   },
   {
    "duration": 10,
    "start_time": "2022-05-12T13:22:15.793Z"
   },
   {
    "duration": 43,
    "start_time": "2022-05-12T13:22:35.377Z"
   },
   {
    "duration": 10,
    "start_time": "2022-05-12T13:34:44.105Z"
   },
   {
    "duration": 12,
    "start_time": "2022-05-12T13:34:52.952Z"
   },
   {
    "duration": 21,
    "start_time": "2022-05-12T13:35:06.080Z"
   },
   {
    "duration": 9,
    "start_time": "2022-05-12T13:35:13.586Z"
   },
   {
    "duration": 1215,
    "start_time": "2022-05-12T13:35:27.103Z"
   },
   {
    "duration": 583,
    "start_time": "2022-05-12T13:35:28.321Z"
   },
   {
    "duration": 18,
    "start_time": "2022-05-12T13:35:28.906Z"
   },
   {
    "duration": 24,
    "start_time": "2022-05-12T13:35:28.927Z"
   },
   {
    "duration": 31,
    "start_time": "2022-05-12T13:35:28.953Z"
   },
   {
    "duration": 29,
    "start_time": "2022-05-12T13:35:28.986Z"
   },
   {
    "duration": 34,
    "start_time": "2022-05-12T13:35:29.017Z"
   },
   {
    "duration": 36,
    "start_time": "2022-05-12T13:35:29.054Z"
   },
   {
    "duration": 19,
    "start_time": "2022-05-12T13:35:29.092Z"
   },
   {
    "duration": 28,
    "start_time": "2022-05-12T13:35:29.113Z"
   },
   {
    "duration": 53,
    "start_time": "2022-05-12T13:35:29.145Z"
   },
   {
    "duration": 86,
    "start_time": "2022-05-12T13:35:29.200Z"
   },
   {
    "duration": 22,
    "start_time": "2022-05-12T13:35:29.288Z"
   },
   {
    "duration": 60,
    "start_time": "2022-05-12T13:35:29.312Z"
   },
   {
    "duration": 32,
    "start_time": "2022-05-12T13:35:29.374Z"
   },
   {
    "duration": 9,
    "start_time": "2022-05-12T13:35:29.408Z"
   },
   {
    "duration": 99,
    "start_time": "2022-05-12T13:35:29.419Z"
   },
   {
    "duration": 6,
    "start_time": "2022-05-12T13:35:29.520Z"
   },
   {
    "duration": 32,
    "start_time": "2022-05-12T13:35:29.528Z"
   },
   {
    "duration": 106,
    "start_time": "2022-05-12T13:35:29.562Z"
   },
   {
    "duration": 38,
    "start_time": "2022-05-12T13:35:29.670Z"
   },
   {
    "duration": 73,
    "start_time": "2022-05-12T13:35:29.710Z"
   },
   {
    "duration": 292,
    "start_time": "2022-05-12T13:35:29.785Z"
   },
   {
    "duration": 9,
    "start_time": "2022-05-12T13:35:30.080Z"
   },
   {
    "duration": 96,
    "start_time": "2022-05-12T13:35:30.092Z"
   },
   {
    "duration": 15,
    "start_time": "2022-05-12T13:35:36.009Z"
   },
   {
    "duration": 43,
    "start_time": "2022-05-12T13:35:41.396Z"
   },
   {
    "duration": 10,
    "start_time": "2022-05-12T13:35:59.260Z"
   },
   {
    "duration": 54,
    "start_time": "2022-05-12T13:36:00.935Z"
   },
   {
    "duration": 15,
    "start_time": "2022-05-12T13:36:55.110Z"
   },
   {
    "duration": 8,
    "start_time": "2022-05-12T13:37:00.530Z"
   },
   {
    "duration": 116,
    "start_time": "2022-05-12T13:38:17.904Z"
   },
   {
    "duration": 3,
    "start_time": "2022-05-12T13:38:20.598Z"
   },
   {
    "duration": 8,
    "start_time": "2022-05-12T13:38:37.426Z"
   },
   {
    "duration": 33,
    "start_time": "2022-05-12T13:39:27.520Z"
   },
   {
    "duration": 8,
    "start_time": "2022-05-12T13:40:49.932Z"
   },
   {
    "duration": 8,
    "start_time": "2022-05-12T13:41:07.537Z"
   },
   {
    "duration": 70,
    "start_time": "2022-05-12T13:42:15.269Z"
   },
   {
    "duration": 117,
    "start_time": "2022-05-12T13:42:21.093Z"
   },
   {
    "duration": 72,
    "start_time": "2022-05-12T13:42:25.712Z"
   },
   {
    "duration": 101,
    "start_time": "2022-05-12T13:42:31.918Z"
   },
   {
    "duration": 35,
    "start_time": "2022-05-12T13:42:40.141Z"
   },
   {
    "duration": 101,
    "start_time": "2022-05-12T13:42:59.204Z"
   },
   {
    "duration": 38,
    "start_time": "2022-05-12T13:43:17.554Z"
   },
   {
    "duration": 13,
    "start_time": "2022-05-12T13:45:59.531Z"
   },
   {
    "duration": 20,
    "start_time": "2022-05-12T13:46:47.426Z"
   },
   {
    "duration": 13,
    "start_time": "2022-05-12T13:46:57.922Z"
   },
   {
    "duration": 23,
    "start_time": "2022-05-12T13:47:07.169Z"
   },
   {
    "duration": 12,
    "start_time": "2022-05-12T13:47:12.933Z"
   },
   {
    "duration": 12,
    "start_time": "2022-05-12T13:47:17.990Z"
   },
   {
    "duration": 10,
    "start_time": "2022-05-12T13:47:37.608Z"
   },
   {
    "duration": 13,
    "start_time": "2022-05-12T13:48:56.445Z"
   },
   {
    "duration": 10,
    "start_time": "2022-05-12T13:49:04.421Z"
   },
   {
    "duration": 17,
    "start_time": "2022-05-12T13:49:11.593Z"
   },
   {
    "duration": 11,
    "start_time": "2022-05-12T13:49:53.294Z"
   },
   {
    "duration": 49,
    "start_time": "2022-05-12T13:50:01.528Z"
   },
   {
    "duration": 10,
    "start_time": "2022-05-12T13:51:18.303Z"
   },
   {
    "duration": 11,
    "start_time": "2022-05-12T13:51:25.869Z"
   },
   {
    "duration": 194,
    "start_time": "2022-05-12T13:51:35.514Z"
   },
   {
    "duration": 25,
    "start_time": "2022-05-12T13:51:42.454Z"
   },
   {
    "duration": 25,
    "start_time": "2022-05-12T13:52:05.851Z"
   },
   {
    "duration": 10,
    "start_time": "2022-05-12T13:52:28.909Z"
   },
   {
    "duration": 14,
    "start_time": "2022-05-12T13:54:38.626Z"
   },
   {
    "duration": 41,
    "start_time": "2022-05-12T14:00:57.338Z"
   },
   {
    "duration": 14,
    "start_time": "2022-05-12T14:01:09.521Z"
   },
   {
    "duration": 17,
    "start_time": "2022-05-12T14:02:08.069Z"
   },
   {
    "duration": 183,
    "start_time": "2022-05-12T14:04:38.029Z"
   },
   {
    "duration": 18,
    "start_time": "2022-05-12T14:04:43.039Z"
   },
   {
    "duration": 11,
    "start_time": "2022-05-12T14:04:54.106Z"
   },
   {
    "duration": 36,
    "start_time": "2022-05-12T14:10:11.573Z"
   },
   {
    "duration": 34,
    "start_time": "2022-05-12T14:10:29.826Z"
   },
   {
    "duration": 35,
    "start_time": "2022-05-12T14:11:39.423Z"
   },
   {
    "duration": 20,
    "start_time": "2022-05-12T14:11:49.664Z"
   },
   {
    "duration": 20,
    "start_time": "2022-05-12T14:11:59.464Z"
   },
   {
    "duration": 30,
    "start_time": "2022-05-12T14:12:03.705Z"
   },
   {
    "duration": 8,
    "start_time": "2022-05-12T14:12:55.318Z"
   },
   {
    "duration": 17,
    "start_time": "2022-05-12T14:13:07.014Z"
   },
   {
    "duration": 21,
    "start_time": "2022-05-12T14:13:33.759Z"
   },
   {
    "duration": 36,
    "start_time": "2022-05-12T14:13:49.952Z"
   },
   {
    "duration": 13,
    "start_time": "2022-05-12T14:14:06.268Z"
   },
   {
    "duration": 12,
    "start_time": "2022-05-12T14:14:56.762Z"
   },
   {
    "duration": 2396,
    "start_time": "2022-05-12T15:52:50.993Z"
   },
   {
    "duration": 652,
    "start_time": "2022-05-12T15:52:53.393Z"
   },
   {
    "duration": 23,
    "start_time": "2022-05-12T15:52:54.047Z"
   },
   {
    "duration": 21,
    "start_time": "2022-05-12T15:52:54.073Z"
   },
   {
    "duration": 22,
    "start_time": "2022-05-12T15:52:54.098Z"
   },
   {
    "duration": 16,
    "start_time": "2022-05-12T15:52:54.153Z"
   },
   {
    "duration": 18,
    "start_time": "2022-05-12T15:52:54.172Z"
   },
   {
    "duration": 14,
    "start_time": "2022-05-12T15:52:54.192Z"
   },
   {
    "duration": 52,
    "start_time": "2022-05-12T15:52:54.208Z"
   },
   {
    "duration": 16,
    "start_time": "2022-05-12T15:52:54.262Z"
   },
   {
    "duration": 34,
    "start_time": "2022-05-12T15:52:54.280Z"
   },
   {
    "duration": 117,
    "start_time": "2022-05-12T15:52:54.317Z"
   },
   {
    "duration": 36,
    "start_time": "2022-05-12T15:52:54.436Z"
   },
   {
    "duration": 80,
    "start_time": "2022-05-12T15:52:54.478Z"
   },
   {
    "duration": 32,
    "start_time": "2022-05-12T15:52:54.560Z"
   },
   {
    "duration": 12,
    "start_time": "2022-05-12T15:52:54.595Z"
   },
   {
    "duration": 115,
    "start_time": "2022-05-12T15:52:54.610Z"
   },
   {
    "duration": 7,
    "start_time": "2022-05-12T15:52:54.728Z"
   },
   {
    "duration": 16,
    "start_time": "2022-05-12T15:52:54.751Z"
   },
   {
    "duration": 137,
    "start_time": "2022-05-12T15:52:54.770Z"
   },
   {
    "duration": 62,
    "start_time": "2022-05-12T15:52:54.909Z"
   },
   {
    "duration": 61,
    "start_time": "2022-05-12T15:52:54.973Z"
   },
   {
    "duration": 353,
    "start_time": "2022-05-12T15:52:55.036Z"
   },
   {
    "duration": 12,
    "start_time": "2022-05-12T15:52:55.392Z"
   },
   {
    "duration": 76,
    "start_time": "2022-05-12T15:52:55.406Z"
   },
   {
    "duration": 11,
    "start_time": "2022-05-12T15:52:55.485Z"
   },
   {
    "duration": 38,
    "start_time": "2022-05-12T15:52:55.499Z"
   },
   {
    "duration": 42,
    "start_time": "2022-05-12T15:52:55.539Z"
   },
   {
    "duration": 58,
    "start_time": "2022-05-12T15:52:55.583Z"
   },
   {
    "duration": 12,
    "start_time": "2022-05-12T15:52:55.643Z"
   },
   {
    "duration": 30,
    "start_time": "2022-05-12T15:52:55.658Z"
   },
   {
    "duration": 31,
    "start_time": "2022-05-12T15:52:55.690Z"
   },
   {
    "duration": 31,
    "start_time": "2022-05-12T16:01:34.827Z"
   },
   {
    "duration": 1323,
    "start_time": "2022-05-12T16:05:12.562Z"
   },
   {
    "duration": 482,
    "start_time": "2022-05-12T16:05:13.888Z"
   },
   {
    "duration": 20,
    "start_time": "2022-05-12T16:05:14.372Z"
   },
   {
    "duration": 20,
    "start_time": "2022-05-12T16:05:14.395Z"
   },
   {
    "duration": 35,
    "start_time": "2022-05-12T16:05:14.418Z"
   },
   {
    "duration": 12,
    "start_time": "2022-05-12T16:05:14.455Z"
   },
   {
    "duration": 12,
    "start_time": "2022-05-12T16:05:14.469Z"
   },
   {
    "duration": 13,
    "start_time": "2022-05-12T16:05:14.483Z"
   },
   {
    "duration": 18,
    "start_time": "2022-05-12T16:05:14.497Z"
   },
   {
    "duration": 48,
    "start_time": "2022-05-12T16:05:14.517Z"
   },
   {
    "duration": 33,
    "start_time": "2022-05-12T16:05:14.567Z"
   },
   {
    "duration": 114,
    "start_time": "2022-05-12T16:05:14.602Z"
   },
   {
    "duration": 39,
    "start_time": "2022-05-12T16:05:14.718Z"
   },
   {
    "duration": 55,
    "start_time": "2022-05-12T16:05:14.763Z"
   },
   {
    "duration": 55,
    "start_time": "2022-05-12T16:05:14.821Z"
   },
   {
    "duration": 13,
    "start_time": "2022-05-12T16:05:14.879Z"
   },
   {
    "duration": 107,
    "start_time": "2022-05-12T16:05:14.894Z"
   },
   {
    "duration": 7,
    "start_time": "2022-05-12T16:05:15.003Z"
   },
   {
    "duration": 33,
    "start_time": "2022-05-12T16:05:15.012Z"
   },
   {
    "duration": 122,
    "start_time": "2022-05-12T16:05:15.047Z"
   },
   {
    "duration": 47,
    "start_time": "2022-05-12T16:05:15.171Z"
   },
   {
    "duration": 79,
    "start_time": "2022-05-12T16:05:15.220Z"
   },
   {
    "duration": 50,
    "start_time": "2022-05-12T16:05:18.702Z"
   },
   {
    "duration": 55,
    "start_time": "2022-05-12T16:05:38.144Z"
   },
   {
    "duration": 48,
    "start_time": "2022-05-12T16:06:03.501Z"
   },
   {
    "duration": 71,
    "start_time": "2022-05-12T16:06:57.889Z"
   },
   {
    "duration": 1338,
    "start_time": "2022-05-12T16:07:11.761Z"
   },
   {
    "duration": 509,
    "start_time": "2022-05-12T16:07:13.102Z"
   },
   {
    "duration": 16,
    "start_time": "2022-05-12T16:07:13.613Z"
   },
   {
    "duration": 33,
    "start_time": "2022-05-12T16:07:13.633Z"
   },
   {
    "duration": 20,
    "start_time": "2022-05-12T16:07:13.668Z"
   },
   {
    "duration": 15,
    "start_time": "2022-05-12T16:07:13.690Z"
   },
   {
    "duration": 14,
    "start_time": "2022-05-12T16:07:13.707Z"
   },
   {
    "duration": 36,
    "start_time": "2022-05-12T16:07:13.724Z"
   },
   {
    "duration": 19,
    "start_time": "2022-05-12T16:07:13.763Z"
   },
   {
    "duration": 13,
    "start_time": "2022-05-12T16:07:13.786Z"
   },
   {
    "duration": 61,
    "start_time": "2022-05-12T16:07:13.802Z"
   },
   {
    "duration": 109,
    "start_time": "2022-05-12T16:07:13.866Z"
   },
   {
    "duration": 25,
    "start_time": "2022-05-12T16:07:13.977Z"
   },
   {
    "duration": 75,
    "start_time": "2022-05-12T16:07:14.004Z"
   },
   {
    "duration": 29,
    "start_time": "2022-05-12T16:07:14.082Z"
   },
   {
    "duration": 12,
    "start_time": "2022-05-12T16:07:14.113Z"
   },
   {
    "duration": 77,
    "start_time": "2022-05-12T16:07:14.151Z"
   },
   {
    "duration": 20,
    "start_time": "2022-05-12T16:07:14.231Z"
   },
   {
    "duration": 14,
    "start_time": "2022-05-12T16:07:14.254Z"
   },
   {
    "duration": 132,
    "start_time": "2022-05-12T16:07:14.270Z"
   },
   {
    "duration": 54,
    "start_time": "2022-05-12T16:07:14.404Z"
   },
   {
    "duration": 43,
    "start_time": "2022-05-12T16:07:18.664Z"
   },
   {
    "duration": 57,
    "start_time": "2022-05-12T16:07:19.616Z"
   },
   {
    "duration": 51,
    "start_time": "2022-05-12T16:07:27.868Z"
   },
   {
    "duration": 19,
    "start_time": "2022-05-12T16:07:31.914Z"
   },
   {
    "duration": 22,
    "start_time": "2022-05-12T16:08:54.343Z"
   },
   {
    "duration": 17,
    "start_time": "2022-05-12T16:09:09.152Z"
   },
   {
    "duration": 41,
    "start_time": "2022-05-12T16:09:17.421Z"
   },
   {
    "duration": 1363,
    "start_time": "2022-05-12T16:10:12.338Z"
   },
   {
    "duration": 486,
    "start_time": "2022-05-12T16:10:13.704Z"
   },
   {
    "duration": 18,
    "start_time": "2022-05-12T16:10:14.193Z"
   },
   {
    "duration": 23,
    "start_time": "2022-05-12T16:10:14.215Z"
   },
   {
    "duration": 18,
    "start_time": "2022-05-12T16:10:14.252Z"
   },
   {
    "duration": 30,
    "start_time": "2022-05-12T16:10:14.272Z"
   },
   {
    "duration": 24,
    "start_time": "2022-05-12T16:10:14.304Z"
   },
   {
    "duration": 13,
    "start_time": "2022-05-12T16:10:14.330Z"
   },
   {
    "duration": 34,
    "start_time": "2022-05-12T16:10:14.345Z"
   },
   {
    "duration": 18,
    "start_time": "2022-05-12T16:10:14.383Z"
   },
   {
    "duration": 38,
    "start_time": "2022-05-12T16:10:14.403Z"
   },
   {
    "duration": 93,
    "start_time": "2022-05-12T16:10:14.443Z"
   },
   {
    "duration": 33,
    "start_time": "2022-05-12T16:10:14.538Z"
   },
   {
    "duration": 67,
    "start_time": "2022-05-12T16:10:14.574Z"
   },
   {
    "duration": 35,
    "start_time": "2022-05-12T16:10:14.643Z"
   },
   {
    "duration": 12,
    "start_time": "2022-05-12T16:10:14.681Z"
   },
   {
    "duration": 113,
    "start_time": "2022-05-12T16:10:14.696Z"
   },
   {
    "duration": 6,
    "start_time": "2022-05-12T16:10:14.811Z"
   },
   {
    "duration": 18,
    "start_time": "2022-05-12T16:10:14.819Z"
   },
   {
    "duration": 130,
    "start_time": "2022-05-12T16:10:14.852Z"
   },
   {
    "duration": 47,
    "start_time": "2022-05-12T16:10:14.985Z"
   },
   {
    "duration": 72,
    "start_time": "2022-05-12T16:10:15.033Z"
   },
   {
    "duration": 147,
    "start_time": "2022-05-12T16:10:28.893Z"
   },
   {
    "duration": 22,
    "start_time": "2022-05-12T16:10:44.321Z"
   },
   {
    "duration": 17,
    "start_time": "2022-05-12T16:10:50.387Z"
   },
   {
    "duration": 26,
    "start_time": "2022-05-12T16:11:21.637Z"
   },
   {
    "duration": 24,
    "start_time": "2022-05-12T16:11:35.305Z"
   },
   {
    "duration": 37,
    "start_time": "2022-05-12T16:13:14.207Z"
   },
   {
    "duration": 10,
    "start_time": "2022-05-12T16:13:33.135Z"
   },
   {
    "duration": 55,
    "start_time": "2022-05-12T16:13:53.312Z"
   },
   {
    "duration": 9,
    "start_time": "2022-05-12T16:14:14.651Z"
   },
   {
    "duration": 1339,
    "start_time": "2022-05-12T16:14:55.548Z"
   },
   {
    "duration": 475,
    "start_time": "2022-05-12T16:14:56.890Z"
   },
   {
    "duration": 16,
    "start_time": "2022-05-12T16:14:57.367Z"
   },
   {
    "duration": 16,
    "start_time": "2022-05-12T16:14:57.386Z"
   },
   {
    "duration": 16,
    "start_time": "2022-05-12T16:14:57.404Z"
   },
   {
    "duration": 33,
    "start_time": "2022-05-12T16:14:57.423Z"
   },
   {
    "duration": 14,
    "start_time": "2022-05-12T16:14:57.459Z"
   },
   {
    "duration": 15,
    "start_time": "2022-05-12T16:14:57.475Z"
   },
   {
    "duration": 17,
    "start_time": "2022-05-12T16:14:57.492Z"
   },
   {
    "duration": 47,
    "start_time": "2022-05-12T16:14:57.513Z"
   },
   {
    "duration": 34,
    "start_time": "2022-05-12T16:14:57.563Z"
   },
   {
    "duration": 116,
    "start_time": "2022-05-12T16:14:57.599Z"
   },
   {
    "duration": 37,
    "start_time": "2022-05-12T16:14:57.718Z"
   },
   {
    "duration": 52,
    "start_time": "2022-05-12T16:14:57.757Z"
   },
   {
    "duration": 49,
    "start_time": "2022-05-12T16:14:57.811Z"
   },
   {
    "duration": 12,
    "start_time": "2022-05-12T16:14:57.862Z"
   },
   {
    "duration": 103,
    "start_time": "2022-05-12T16:14:57.876Z"
   },
   {
    "duration": 7,
    "start_time": "2022-05-12T16:14:57.981Z"
   },
   {
    "duration": 44,
    "start_time": "2022-05-12T16:14:57.990Z"
   },
   {
    "duration": 115,
    "start_time": "2022-05-12T16:14:58.036Z"
   },
   {
    "duration": 48,
    "start_time": "2022-05-12T16:14:58.153Z"
   },
   {
    "duration": 82,
    "start_time": "2022-05-12T16:14:58.203Z"
   },
   {
    "duration": 44,
    "start_time": "2022-05-12T16:16:01.202Z"
   },
   {
    "duration": 148,
    "start_time": "2022-05-12T16:17:09.353Z"
   },
   {
    "duration": 11,
    "start_time": "2022-05-12T16:17:24.369Z"
   },
   {
    "duration": 48,
    "start_time": "2022-05-12T16:17:36.364Z"
   },
   {
    "duration": 50,
    "start_time": "2022-05-12T16:18:40.788Z"
   },
   {
    "duration": 247,
    "start_time": "2022-05-12T16:20:34.787Z"
   },
   {
    "duration": 231,
    "start_time": "2022-05-12T16:21:03.180Z"
   },
   {
    "duration": 10,
    "start_time": "2022-05-12T16:22:00.927Z"
   },
   {
    "duration": 50,
    "start_time": "2022-05-12T16:22:42.272Z"
   },
   {
    "duration": 10,
    "start_time": "2022-05-12T16:23:13.392Z"
   },
   {
    "duration": 13,
    "start_time": "2022-05-12T16:23:22.204Z"
   },
   {
    "duration": 20,
    "start_time": "2022-05-12T16:23:23.653Z"
   },
   {
    "duration": 34,
    "start_time": "2022-05-12T16:23:49.702Z"
   },
   {
    "duration": 11,
    "start_time": "2022-05-12T16:26:58.950Z"
   },
   {
    "duration": 48,
    "start_time": "2022-05-12T16:27:02.713Z"
   },
   {
    "duration": 13,
    "start_time": "2022-05-12T16:27:48.525Z"
   },
   {
    "duration": 33,
    "start_time": "2022-05-12T16:28:00.037Z"
   },
   {
    "duration": 102,
    "start_time": "2022-05-12T16:40:29.292Z"
   },
   {
    "duration": 91,
    "start_time": "2022-05-12T16:40:46.480Z"
   },
   {
    "duration": 7550,
    "start_time": "2022-05-12T16:41:07.145Z"
   },
   {
    "duration": 5760,
    "start_time": "2022-05-12T16:43:23.206Z"
   },
   {
    "duration": 90,
    "start_time": "2022-05-12T16:43:51.422Z"
   },
   {
    "duration": 101,
    "start_time": "2022-05-12T16:43:56.581Z"
   },
   {
    "duration": 5,
    "start_time": "2022-05-12T16:45:28.521Z"
   },
   {
    "duration": 464,
    "start_time": "2022-05-12T16:45:28.528Z"
   },
   {
    "duration": 12,
    "start_time": "2022-05-12T16:45:28.994Z"
   },
   {
    "duration": 20,
    "start_time": "2022-05-12T16:45:29.009Z"
   },
   {
    "duration": 34,
    "start_time": "2022-05-12T16:45:29.031Z"
   },
   {
    "duration": 17,
    "start_time": "2022-05-12T16:45:29.067Z"
   },
   {
    "duration": 19,
    "start_time": "2022-05-12T16:45:29.087Z"
   },
   {
    "duration": 15,
    "start_time": "2022-05-12T16:45:29.108Z"
   },
   {
    "duration": 15,
    "start_time": "2022-05-12T16:45:29.151Z"
   },
   {
    "duration": 23,
    "start_time": "2022-05-12T16:45:29.169Z"
   },
   {
    "duration": 41,
    "start_time": "2022-05-12T16:45:29.194Z"
   },
   {
    "duration": 87,
    "start_time": "2022-05-12T16:45:29.237Z"
   },
   {
    "duration": 36,
    "start_time": "2022-05-12T16:45:29.326Z"
   },
   {
    "duration": 51,
    "start_time": "2022-05-12T16:45:29.364Z"
   },
   {
    "duration": 54,
    "start_time": "2022-05-12T16:45:29.417Z"
   },
   {
    "duration": 10,
    "start_time": "2022-05-12T16:45:29.473Z"
   },
   {
    "duration": 91,
    "start_time": "2022-05-12T16:45:29.485Z"
   },
   {
    "duration": 6,
    "start_time": "2022-05-12T16:45:29.579Z"
   },
   {
    "duration": 32,
    "start_time": "2022-05-12T16:45:29.588Z"
   },
   {
    "duration": 103,
    "start_time": "2022-05-12T16:45:29.622Z"
   },
   {
    "duration": 58,
    "start_time": "2022-05-12T16:45:29.727Z"
   },
   {
    "duration": 65,
    "start_time": "2022-05-12T16:45:29.787Z"
   },
   {
    "duration": 256,
    "start_time": "2022-05-12T16:45:29.854Z"
   },
   {
    "duration": 10,
    "start_time": "2022-05-12T16:45:30.114Z"
   },
   {
    "duration": 71,
    "start_time": "2022-05-12T16:45:30.127Z"
   },
   {
    "duration": 11,
    "start_time": "2022-05-12T16:45:30.200Z"
   },
   {
    "duration": 30,
    "start_time": "2022-05-12T16:45:30.213Z"
   },
   {
    "duration": 30,
    "start_time": "2022-05-12T16:45:30.252Z"
   },
   {
    "duration": 34,
    "start_time": "2022-05-12T16:45:30.284Z"
   },
   {
    "duration": 36,
    "start_time": "2022-05-12T16:45:30.320Z"
   },
   {
    "duration": 8,
    "start_time": "2022-05-12T16:46:53.373Z"
   },
   {
    "duration": 7,
    "start_time": "2022-05-12T16:47:12.250Z"
   },
   {
    "duration": 53,
    "start_time": "2022-05-12T16:47:46.127Z"
   },
   {
    "duration": 8,
    "start_time": "2022-05-12T16:49:04.219Z"
   },
   {
    "duration": 55,
    "start_time": "2022-05-12T16:49:06.500Z"
   },
   {
    "duration": 10,
    "start_time": "2022-05-12T16:51:09.077Z"
   },
   {
    "duration": 50,
    "start_time": "2022-05-12T16:51:17.340Z"
   },
   {
    "duration": 13,
    "start_time": "2022-05-12T16:52:01.805Z"
   },
   {
    "duration": 50,
    "start_time": "2022-05-12T16:52:07.904Z"
   },
   {
    "duration": 7,
    "start_time": "2022-05-12T16:54:02.868Z"
   },
   {
    "duration": 55,
    "start_time": "2022-05-12T16:54:05.161Z"
   },
   {
    "duration": 1414,
    "start_time": "2022-05-12T16:55:34.674Z"
   },
   {
    "duration": 0,
    "start_time": "2022-05-12T16:55:36.090Z"
   },
   {
    "duration": 51,
    "start_time": "2022-05-12T16:55:51.092Z"
   },
   {
    "duration": 1487,
    "start_time": "2022-05-12T16:57:46.942Z"
   },
   {
    "duration": 1632,
    "start_time": "2022-05-12T16:58:14.165Z"
   },
   {
    "duration": 1417,
    "start_time": "2022-05-12T16:58:45.294Z"
   },
   {
    "duration": 9,
    "start_time": "2022-05-12T16:59:40.362Z"
   },
   {
    "duration": 53,
    "start_time": "2022-05-12T16:59:41.491Z"
   },
   {
    "duration": 1473,
    "start_time": "2022-05-12T16:59:58.327Z"
   },
   {
    "duration": 488,
    "start_time": "2022-05-12T16:59:59.803Z"
   },
   {
    "duration": 19,
    "start_time": "2022-05-12T17:00:00.293Z"
   },
   {
    "duration": 38,
    "start_time": "2022-05-12T17:00:00.315Z"
   },
   {
    "duration": 23,
    "start_time": "2022-05-12T17:00:00.356Z"
   },
   {
    "duration": 27,
    "start_time": "2022-05-12T17:00:00.382Z"
   },
   {
    "duration": 31,
    "start_time": "2022-05-12T17:00:00.412Z"
   },
   {
    "duration": 34,
    "start_time": "2022-05-12T17:00:00.446Z"
   },
   {
    "duration": 26,
    "start_time": "2022-05-12T17:00:00.482Z"
   },
   {
    "duration": 20,
    "start_time": "2022-05-12T17:00:00.512Z"
   },
   {
    "duration": 40,
    "start_time": "2022-05-12T17:00:00.534Z"
   },
   {
    "duration": 104,
    "start_time": "2022-05-12T17:00:00.576Z"
   },
   {
    "duration": 27,
    "start_time": "2022-05-12T17:00:00.683Z"
   },
   {
    "duration": 80,
    "start_time": "2022-05-12T17:00:00.713Z"
   },
   {
    "duration": 29,
    "start_time": "2022-05-12T17:00:00.795Z"
   },
   {
    "duration": 35,
    "start_time": "2022-05-12T17:00:00.826Z"
   },
   {
    "duration": 96,
    "start_time": "2022-05-12T17:00:00.863Z"
   },
   {
    "duration": 6,
    "start_time": "2022-05-12T17:00:00.961Z"
   },
   {
    "duration": 90,
    "start_time": "2022-05-12T17:00:00.969Z"
   },
   {
    "duration": 146,
    "start_time": "2022-05-12T17:00:01.061Z"
   },
   {
    "duration": 57,
    "start_time": "2022-05-12T17:00:01.209Z"
   },
   {
    "duration": 62,
    "start_time": "2022-05-12T17:00:01.268Z"
   },
   {
    "duration": 293,
    "start_time": "2022-05-12T17:00:01.332Z"
   },
   {
    "duration": 10,
    "start_time": "2022-05-12T17:00:01.628Z"
   },
   {
    "duration": 53,
    "start_time": "2022-05-12T17:00:01.651Z"
   },
   {
    "duration": 10,
    "start_time": "2022-05-12T17:00:01.706Z"
   },
   {
    "duration": 41,
    "start_time": "2022-05-12T17:00:01.718Z"
   },
   {
    "duration": 20,
    "start_time": "2022-05-12T17:00:01.763Z"
   },
   {
    "duration": 29,
    "start_time": "2022-05-12T17:00:01.785Z"
   },
   {
    "duration": 50,
    "start_time": "2022-05-12T17:00:01.817Z"
   },
   {
    "duration": 12,
    "start_time": "2022-05-12T17:00:05.775Z"
   },
   {
    "duration": 52,
    "start_time": "2022-05-12T17:00:06.665Z"
   },
   {
    "duration": 13,
    "start_time": "2022-05-12T17:00:18.641Z"
   },
   {
    "duration": 7,
    "start_time": "2022-05-12T17:00:20.873Z"
   },
   {
    "duration": 1202,
    "start_time": "2022-05-12T17:00:53.158Z"
   },
   {
    "duration": 1346,
    "start_time": "2022-05-12T17:01:21.968Z"
   },
   {
    "duration": 489,
    "start_time": "2022-05-12T17:01:23.316Z"
   },
   {
    "duration": 18,
    "start_time": "2022-05-12T17:01:23.807Z"
   },
   {
    "duration": 31,
    "start_time": "2022-05-12T17:01:23.828Z"
   },
   {
    "duration": 18,
    "start_time": "2022-05-12T17:01:23.861Z"
   },
   {
    "duration": 16,
    "start_time": "2022-05-12T17:01:23.881Z"
   },
   {
    "duration": 15,
    "start_time": "2022-05-12T17:01:23.899Z"
   },
   {
    "duration": 43,
    "start_time": "2022-05-12T17:01:23.916Z"
   },
   {
    "duration": 18,
    "start_time": "2022-05-12T17:01:23.962Z"
   },
   {
    "duration": 15,
    "start_time": "2022-05-12T17:01:23.984Z"
   },
   {
    "duration": 57,
    "start_time": "2022-05-12T17:01:24.001Z"
   },
   {
    "duration": 107,
    "start_time": "2022-05-12T17:01:24.061Z"
   },
   {
    "duration": 25,
    "start_time": "2022-05-12T17:01:24.171Z"
   },
   {
    "duration": 78,
    "start_time": "2022-05-12T17:01:24.199Z"
   },
   {
    "duration": 29,
    "start_time": "2022-05-12T17:01:24.279Z"
   },
   {
    "duration": 12,
    "start_time": "2022-05-12T17:01:24.310Z"
   },
   {
    "duration": 102,
    "start_time": "2022-05-12T17:01:24.325Z"
   },
   {
    "duration": 6,
    "start_time": "2022-05-12T17:01:24.430Z"
   },
   {
    "duration": 15,
    "start_time": "2022-05-12T17:01:24.453Z"
   },
   {
    "duration": 131,
    "start_time": "2022-05-12T17:01:24.470Z"
   },
   {
    "duration": 66,
    "start_time": "2022-05-12T17:01:24.603Z"
   },
   {
    "duration": 64,
    "start_time": "2022-05-12T17:01:24.672Z"
   },
   {
    "duration": 274,
    "start_time": "2022-05-12T17:01:24.751Z"
   },
   {
    "duration": 25,
    "start_time": "2022-05-12T17:01:25.028Z"
   },
   {
    "duration": 53,
    "start_time": "2022-05-12T17:01:25.056Z"
   },
   {
    "duration": 40,
    "start_time": "2022-05-12T17:01:25.112Z"
   },
   {
    "duration": 13,
    "start_time": "2022-05-12T17:01:25.154Z"
   },
   {
    "duration": 20,
    "start_time": "2022-05-12T17:01:25.171Z"
   },
   {
    "duration": 12,
    "start_time": "2022-05-12T17:01:25.193Z"
   },
   {
    "duration": 65,
    "start_time": "2022-05-12T17:01:25.208Z"
   },
   {
    "duration": 33,
    "start_time": "2022-05-12T17:01:26.602Z"
   },
   {
    "duration": 11,
    "start_time": "2022-05-12T17:01:28.275Z"
   },
   {
    "duration": 51,
    "start_time": "2022-05-12T17:01:31.247Z"
   },
   {
    "duration": 90,
    "start_time": "2022-05-12T17:01:49.331Z"
   },
   {
    "duration": 12,
    "start_time": "2022-05-12T17:01:57.376Z"
   },
   {
    "duration": 9,
    "start_time": "2022-05-12T17:02:10.968Z"
   },
   {
    "duration": 51,
    "start_time": "2022-05-12T17:02:11.876Z"
   },
   {
    "duration": 1577,
    "start_time": "2022-05-12T17:02:26.926Z"
   },
   {
    "duration": 467,
    "start_time": "2022-05-12T17:02:28.505Z"
   },
   {
    "duration": 25,
    "start_time": "2022-05-12T17:02:28.974Z"
   },
   {
    "duration": 24,
    "start_time": "2022-05-12T17:02:29.003Z"
   },
   {
    "duration": 16,
    "start_time": "2022-05-12T17:02:29.051Z"
   },
   {
    "duration": 15,
    "start_time": "2022-05-12T17:02:29.069Z"
   },
   {
    "duration": 11,
    "start_time": "2022-05-12T17:02:29.086Z"
   },
   {
    "duration": 14,
    "start_time": "2022-05-12T17:02:29.099Z"
   },
   {
    "duration": 50,
    "start_time": "2022-05-12T17:02:29.115Z"
   },
   {
    "duration": 12,
    "start_time": "2022-05-12T17:02:29.169Z"
   },
   {
    "duration": 32,
    "start_time": "2022-05-12T17:02:29.183Z"
   },
   {
    "duration": 123,
    "start_time": "2022-05-12T17:02:29.218Z"
   },
   {
    "duration": 25,
    "start_time": "2022-05-12T17:02:29.351Z"
   },
   {
    "duration": 72,
    "start_time": "2022-05-12T17:02:29.379Z"
   },
   {
    "duration": 30,
    "start_time": "2022-05-12T17:02:29.454Z"
   },
   {
    "duration": 13,
    "start_time": "2022-05-12T17:02:29.486Z"
   },
   {
    "duration": 109,
    "start_time": "2022-05-12T17:02:29.501Z"
   },
   {
    "duration": 6,
    "start_time": "2022-05-12T17:02:29.612Z"
   },
   {
    "duration": 33,
    "start_time": "2022-05-12T17:02:29.620Z"
   },
   {
    "duration": 120,
    "start_time": "2022-05-12T17:02:29.655Z"
   },
   {
    "duration": 47,
    "start_time": "2022-05-12T17:02:29.778Z"
   },
   {
    "duration": 75,
    "start_time": "2022-05-12T17:02:29.827Z"
   },
   {
    "duration": 283,
    "start_time": "2022-05-12T17:02:29.905Z"
   },
   {
    "duration": 9,
    "start_time": "2022-05-12T17:02:30.191Z"
   },
   {
    "duration": 74,
    "start_time": "2022-05-12T17:02:30.202Z"
   },
   {
    "duration": 11,
    "start_time": "2022-05-12T17:02:30.278Z"
   },
   {
    "duration": 20,
    "start_time": "2022-05-12T17:02:30.291Z"
   },
   {
    "duration": 42,
    "start_time": "2022-05-12T17:02:30.315Z"
   },
   {
    "duration": 37,
    "start_time": "2022-05-12T17:02:30.359Z"
   },
   {
    "duration": 34,
    "start_time": "2022-05-12T17:02:30.398Z"
   },
   {
    "duration": 8,
    "start_time": "2022-05-12T17:02:33.901Z"
   },
   {
    "duration": 52,
    "start_time": "2022-05-12T17:02:36.235Z"
   },
   {
    "duration": 85,
    "start_time": "2022-05-12T17:05:52.161Z"
   },
   {
    "duration": 126,
    "start_time": "2022-05-12T17:06:00.465Z"
   },
   {
    "duration": 8,
    "start_time": "2022-05-12T17:06:06.365Z"
   },
   {
    "duration": 12082,
    "start_time": "2022-05-12T17:07:13.985Z"
   },
   {
    "duration": 0,
    "start_time": "2022-05-12T17:07:26.069Z"
   },
   {
    "duration": 7,
    "start_time": "2022-05-12T17:07:47.823Z"
   },
   {
    "duration": 53,
    "start_time": "2022-05-12T17:07:49.101Z"
   },
   {
    "duration": 6891,
    "start_time": "2022-05-12T17:14:16.481Z"
   },
   {
    "duration": 0,
    "start_time": "2022-05-12T17:14:23.375Z"
   },
   {
    "duration": 93,
    "start_time": "2022-05-12T17:14:50.962Z"
   },
   {
    "duration": 160,
    "start_time": "2022-05-12T17:16:50.853Z"
   },
   {
    "duration": 50,
    "start_time": "2022-05-12T17:16:56.602Z"
   },
   {
    "duration": 172,
    "start_time": "2022-05-12T17:18:03.761Z"
   },
   {
    "duration": 1243,
    "start_time": "2022-05-12T17:20:55.814Z"
   },
   {
    "duration": 1529,
    "start_time": "2022-05-12T17:21:02.732Z"
   },
   {
    "duration": 1546,
    "start_time": "2022-05-12T17:22:41.927Z"
   },
   {
    "duration": 1809,
    "start_time": "2022-05-12T17:23:04.128Z"
   },
   {
    "duration": 17,
    "start_time": "2022-05-12T17:23:18.468Z"
   },
   {
    "duration": 110,
    "start_time": "2022-05-12T17:23:31.669Z"
   },
   {
    "duration": 16,
    "start_time": "2022-05-12T17:23:44.549Z"
   },
   {
    "duration": 1009,
    "start_time": "2022-05-12T17:23:49.813Z"
   },
   {
    "duration": 131,
    "start_time": "2022-05-12T17:24:28.311Z"
   },
   {
    "duration": 52,
    "start_time": "2022-05-12T17:24:30.926Z"
   },
   {
    "duration": 146,
    "start_time": "2022-05-12T17:24:52.000Z"
   },
   {
    "duration": 51,
    "start_time": "2022-05-12T17:24:54.442Z"
   },
   {
    "duration": 146,
    "start_time": "2022-05-12T17:25:22.982Z"
   },
   {
    "duration": 52,
    "start_time": "2022-05-12T17:25:25.006Z"
   },
   {
    "duration": 1417,
    "start_time": "2022-05-12T17:26:08.364Z"
   },
   {
    "duration": 483,
    "start_time": "2022-05-12T17:26:09.784Z"
   },
   {
    "duration": 17,
    "start_time": "2022-05-12T17:26:10.271Z"
   },
   {
    "duration": 18,
    "start_time": "2022-05-12T17:26:10.291Z"
   },
   {
    "duration": 41,
    "start_time": "2022-05-12T17:26:10.311Z"
   },
   {
    "duration": 12,
    "start_time": "2022-05-12T17:26:10.354Z"
   },
   {
    "duration": 14,
    "start_time": "2022-05-12T17:26:10.368Z"
   },
   {
    "duration": 14,
    "start_time": "2022-05-12T17:26:10.384Z"
   },
   {
    "duration": 17,
    "start_time": "2022-05-12T17:26:10.400Z"
   },
   {
    "duration": 42,
    "start_time": "2022-05-12T17:26:10.421Z"
   },
   {
    "duration": 34,
    "start_time": "2022-05-12T17:26:10.465Z"
   },
   {
    "duration": 115,
    "start_time": "2022-05-12T17:26:10.501Z"
   },
   {
    "duration": 43,
    "start_time": "2022-05-12T17:26:10.618Z"
   },
   {
    "duration": 53,
    "start_time": "2022-05-12T17:26:10.663Z"
   },
   {
    "duration": 46,
    "start_time": "2022-05-12T17:26:10.719Z"
   },
   {
    "duration": 12,
    "start_time": "2022-05-12T17:26:10.767Z"
   },
   {
    "duration": 98,
    "start_time": "2022-05-12T17:26:10.781Z"
   },
   {
    "duration": 6,
    "start_time": "2022-05-12T17:26:10.881Z"
   },
   {
    "duration": 18,
    "start_time": "2022-05-12T17:26:10.889Z"
   },
   {
    "duration": 142,
    "start_time": "2022-05-12T17:26:10.909Z"
   },
   {
    "duration": 47,
    "start_time": "2022-05-12T17:26:11.054Z"
   },
   {
    "duration": 82,
    "start_time": "2022-05-12T17:26:11.103Z"
   },
   {
    "duration": 281,
    "start_time": "2022-05-12T17:26:11.187Z"
   },
   {
    "duration": 10,
    "start_time": "2022-05-12T17:26:11.470Z"
   },
   {
    "duration": 75,
    "start_time": "2022-05-12T17:26:11.482Z"
   },
   {
    "duration": 10,
    "start_time": "2022-05-12T17:26:11.560Z"
   },
   {
    "duration": 15,
    "start_time": "2022-05-12T17:26:11.573Z"
   },
   {
    "duration": 21,
    "start_time": "2022-05-12T17:26:11.592Z"
   },
   {
    "duration": 44,
    "start_time": "2022-05-12T17:26:11.615Z"
   },
   {
    "duration": 33,
    "start_time": "2022-05-12T17:26:11.661Z"
   },
   {
    "duration": 1552,
    "start_time": "2022-05-12T17:27:31.539Z"
   },
   {
    "duration": 7,
    "start_time": "2022-05-12T17:27:54.384Z"
   },
   {
    "duration": 52,
    "start_time": "2022-05-12T17:27:57.831Z"
   },
   {
    "duration": 1718,
    "start_time": "2022-05-12T17:28:06.004Z"
   },
   {
    "duration": 11,
    "start_time": "2022-05-12T17:28:44.197Z"
   },
   {
    "duration": 51,
    "start_time": "2022-05-12T17:28:47.240Z"
   },
   {
    "duration": 13,
    "start_time": "2022-05-12T17:39:20.133Z"
   },
   {
    "duration": 51,
    "start_time": "2022-05-12T17:39:21.277Z"
   },
   {
    "duration": 33,
    "start_time": "2022-05-12T17:41:29.973Z"
   },
   {
    "duration": 75,
    "start_time": "2022-05-12T17:41:32.929Z"
   },
   {
    "duration": 1481,
    "start_time": "2022-05-12T17:44:25.139Z"
   },
   {
    "duration": 518,
    "start_time": "2022-05-12T17:44:26.622Z"
   },
   {
    "duration": 17,
    "start_time": "2022-05-12T17:44:27.142Z"
   },
   {
    "duration": 18,
    "start_time": "2022-05-12T17:44:27.162Z"
   },
   {
    "duration": 18,
    "start_time": "2022-05-12T17:44:27.183Z"
   },
   {
    "duration": 48,
    "start_time": "2022-05-12T17:44:27.204Z"
   },
   {
    "duration": 11,
    "start_time": "2022-05-12T17:44:27.254Z"
   },
   {
    "duration": 14,
    "start_time": "2022-05-12T17:44:27.267Z"
   },
   {
    "duration": 19,
    "start_time": "2022-05-12T17:44:27.284Z"
   },
   {
    "duration": 50,
    "start_time": "2022-05-12T17:44:27.307Z"
   },
   {
    "duration": 34,
    "start_time": "2022-05-12T17:44:27.359Z"
   },
   {
    "duration": 108,
    "start_time": "2022-05-12T17:44:27.396Z"
   },
   {
    "duration": 27,
    "start_time": "2022-05-12T17:44:27.506Z"
   },
   {
    "duration": 67,
    "start_time": "2022-05-12T17:44:27.535Z"
   },
   {
    "duration": 55,
    "start_time": "2022-05-12T17:44:27.605Z"
   },
   {
    "duration": 12,
    "start_time": "2022-05-12T17:44:27.662Z"
   },
   {
    "duration": 101,
    "start_time": "2022-05-12T17:44:27.676Z"
   },
   {
    "duration": 7,
    "start_time": "2022-05-12T17:44:27.779Z"
   },
   {
    "duration": 18,
    "start_time": "2022-05-12T17:44:27.788Z"
   },
   {
    "duration": 149,
    "start_time": "2022-05-12T17:44:27.809Z"
   },
   {
    "duration": 50,
    "start_time": "2022-05-12T17:44:27.960Z"
   },
   {
    "duration": 91,
    "start_time": "2022-05-12T17:44:28.012Z"
   },
   {
    "duration": 412,
    "start_time": "2022-05-12T17:44:28.105Z"
   },
   {
    "duration": 13,
    "start_time": "2022-05-12T17:44:28.520Z"
   },
   {
    "duration": 85,
    "start_time": "2022-05-12T17:44:28.553Z"
   },
   {
    "duration": 15,
    "start_time": "2022-05-12T17:44:28.653Z"
   },
   {
    "duration": 19,
    "start_time": "2022-05-12T17:44:28.671Z"
   },
   {
    "duration": 28,
    "start_time": "2022-05-12T17:44:28.696Z"
   },
   {
    "duration": 19,
    "start_time": "2022-05-12T17:44:28.753Z"
   },
   {
    "duration": 79,
    "start_time": "2022-05-12T17:44:28.774Z"
   },
   {
    "duration": 44,
    "start_time": "2022-05-12T17:44:28.856Z"
   },
   {
    "duration": 102,
    "start_time": "2022-05-12T17:44:28.903Z"
   },
   {
    "duration": 26,
    "start_time": "2022-05-12T17:56:31.651Z"
   },
   {
    "duration": 38,
    "start_time": "2022-05-12T17:57:16.308Z"
   },
   {
    "duration": 45,
    "start_time": "2022-05-12T17:58:27.359Z"
   },
   {
    "duration": 218,
    "start_time": "2022-05-12T18:00:00.670Z"
   },
   {
    "duration": 241,
    "start_time": "2022-05-12T18:00:34.567Z"
   },
   {
    "duration": 11,
    "start_time": "2022-05-12T18:00:41.572Z"
   },
   {
    "duration": 49,
    "start_time": "2022-05-12T18:02:13.745Z"
   },
   {
    "duration": 47,
    "start_time": "2022-05-12T18:03:37.239Z"
   },
   {
    "duration": 10,
    "start_time": "2022-05-12T18:04:25.594Z"
   },
   {
    "duration": 34,
    "start_time": "2022-05-12T18:05:01.636Z"
   },
   {
    "duration": 13,
    "start_time": "2022-05-12T18:05:53.880Z"
   },
   {
    "duration": 33,
    "start_time": "2022-05-12T18:06:08.318Z"
   },
   {
    "duration": 240,
    "start_time": "2022-05-12T18:07:26.111Z"
   },
   {
    "duration": 10,
    "start_time": "2022-05-12T18:07:33.202Z"
   },
   {
    "duration": 52,
    "start_time": "2022-05-12T18:07:53.192Z"
   },
   {
    "duration": 12,
    "start_time": "2022-05-12T18:08:01.420Z"
   },
   {
    "duration": 13,
    "start_time": "2022-05-12T18:08:02.182Z"
   },
   {
    "duration": 254,
    "start_time": "2022-05-12T18:08:36.287Z"
   },
   {
    "duration": 10,
    "start_time": "2022-05-12T18:08:47.609Z"
   },
   {
    "duration": 50,
    "start_time": "2022-05-12T18:08:54.928Z"
   },
   {
    "duration": 196,
    "start_time": "2022-05-12T18:09:16.891Z"
   },
   {
    "duration": 223,
    "start_time": "2022-05-12T18:10:26.720Z"
   },
   {
    "duration": 11,
    "start_time": "2022-05-12T18:10:32.371Z"
   },
   {
    "duration": 51,
    "start_time": "2022-05-12T18:10:41.376Z"
   },
   {
    "duration": 52,
    "start_time": "2022-05-12T18:11:50.850Z"
   },
   {
    "duration": 59,
    "start_time": "2022-05-12T18:16:17.210Z"
   },
   {
    "duration": 27,
    "start_time": "2022-05-12T18:16:44.462Z"
   },
   {
    "duration": 21,
    "start_time": "2022-05-12T18:19:52.864Z"
   },
   {
    "duration": 18,
    "start_time": "2022-05-12T18:20:12.806Z"
   },
   {
    "duration": 17,
    "start_time": "2022-05-12T18:20:21.866Z"
   },
   {
    "duration": 14,
    "start_time": "2022-05-12T18:20:38.429Z"
   },
   {
    "duration": 17,
    "start_time": "2022-05-12T18:21:39.828Z"
   },
   {
    "duration": 21,
    "start_time": "2022-05-12T18:22:24.519Z"
   },
   {
    "duration": 18,
    "start_time": "2022-05-12T18:23:22.439Z"
   },
   {
    "duration": 28,
    "start_time": "2022-05-12T18:23:42.833Z"
   },
   {
    "duration": 39,
    "start_time": "2022-05-12T18:24:56.364Z"
   },
   {
    "duration": 29,
    "start_time": "2022-05-12T18:25:18.465Z"
   },
   {
    "duration": 1674,
    "start_time": "2022-05-12T18:25:54.954Z"
   },
   {
    "duration": 523,
    "start_time": "2022-05-12T18:25:56.631Z"
   },
   {
    "duration": 21,
    "start_time": "2022-05-12T18:25:57.157Z"
   },
   {
    "duration": 16,
    "start_time": "2022-05-12T18:25:57.181Z"
   },
   {
    "duration": 16,
    "start_time": "2022-05-12T18:25:57.200Z"
   },
   {
    "duration": 51,
    "start_time": "2022-05-12T18:25:57.218Z"
   },
   {
    "duration": 11,
    "start_time": "2022-05-12T18:25:57.271Z"
   },
   {
    "duration": 14,
    "start_time": "2022-05-12T18:25:57.284Z"
   },
   {
    "duration": 52,
    "start_time": "2022-05-12T18:25:57.301Z"
   },
   {
    "duration": 18,
    "start_time": "2022-05-12T18:25:57.359Z"
   },
   {
    "duration": 34,
    "start_time": "2022-05-12T18:25:57.380Z"
   },
   {
    "duration": 125,
    "start_time": "2022-05-12T18:25:57.416Z"
   },
   {
    "duration": 32,
    "start_time": "2022-05-12T18:25:57.555Z"
   },
   {
    "duration": 84,
    "start_time": "2022-05-12T18:25:57.590Z"
   },
   {
    "duration": 30,
    "start_time": "2022-05-12T18:25:57.676Z"
   },
   {
    "duration": 12,
    "start_time": "2022-05-12T18:25:57.708Z"
   },
   {
    "duration": 105,
    "start_time": "2022-05-12T18:25:57.723Z"
   },
   {
    "duration": 25,
    "start_time": "2022-05-12T18:25:57.830Z"
   },
   {
    "duration": 30,
    "start_time": "2022-05-12T18:25:57.857Z"
   },
   {
    "duration": 143,
    "start_time": "2022-05-12T18:25:57.889Z"
   },
   {
    "duration": 61,
    "start_time": "2022-05-12T18:25:58.034Z"
   },
   {
    "duration": 77,
    "start_time": "2022-05-12T18:25:58.097Z"
   },
   {
    "duration": 35,
    "start_time": "2022-05-12T18:26:03.258Z"
   },
   {
    "duration": 35,
    "start_time": "2022-05-12T18:29:40.926Z"
   },
   {
    "duration": 259,
    "start_time": "2022-05-12T18:30:09.985Z"
   },
   {
    "duration": 32,
    "start_time": "2022-05-12T18:30:30.670Z"
   },
   {
    "duration": 47,
    "start_time": "2022-05-12T18:31:00.764Z"
   },
   {
    "duration": 43,
    "start_time": "2022-05-12T18:31:49.164Z"
   },
   {
    "duration": 42,
    "start_time": "2022-05-12T18:31:53.797Z"
   },
   {
    "duration": 9,
    "start_time": "2022-05-12T18:31:59.321Z"
   },
   {
    "duration": 10,
    "start_time": "2022-05-12T18:32:14.538Z"
   },
   {
    "duration": 47,
    "start_time": "2022-05-12T18:33:08.552Z"
   },
   {
    "duration": 9,
    "start_time": "2022-05-12T18:33:22.107Z"
   },
   {
    "duration": 50,
    "start_time": "2022-05-12T18:33:32.931Z"
   },
   {
    "duration": 8,
    "start_time": "2022-05-12T18:33:37.726Z"
   },
   {
    "duration": 52,
    "start_time": "2022-05-12T18:34:00.416Z"
   },
   {
    "duration": 50,
    "start_time": "2022-05-12T18:34:48.664Z"
   },
   {
    "duration": 54,
    "start_time": "2022-05-12T18:35:02.308Z"
   },
   {
    "duration": 39,
    "start_time": "2022-05-12T18:35:20.985Z"
   },
   {
    "duration": 9,
    "start_time": "2022-05-12T18:35:25.183Z"
   },
   {
    "duration": 9,
    "start_time": "2022-05-12T18:35:33.904Z"
   },
   {
    "duration": 11,
    "start_time": "2022-05-12T18:35:39.776Z"
   },
   {
    "duration": 11,
    "start_time": "2022-05-12T18:39:40.211Z"
   },
   {
    "duration": 11,
    "start_time": "2022-05-12T18:41:45.239Z"
   },
   {
    "duration": 43,
    "start_time": "2022-05-12T18:49:09.273Z"
   },
   {
    "duration": 1372,
    "start_time": "2022-05-12T18:49:15.527Z"
   },
   {
    "duration": 5,
    "start_time": "2022-05-12T18:49:27.741Z"
   },
   {
    "duration": 11,
    "start_time": "2022-05-12T18:49:53.941Z"
   },
   {
    "duration": 12,
    "start_time": "2022-05-12T18:50:35.672Z"
   },
   {
    "duration": 4,
    "start_time": "2022-05-12T18:50:40.991Z"
   },
   {
    "duration": 11,
    "start_time": "2022-05-12T18:50:41.602Z"
   },
   {
    "duration": 1386,
    "start_time": "2022-05-12T18:51:02.049Z"
   },
   {
    "duration": 472,
    "start_time": "2022-05-12T18:51:03.437Z"
   },
   {
    "duration": 19,
    "start_time": "2022-05-12T18:51:03.912Z"
   },
   {
    "duration": 32,
    "start_time": "2022-05-12T18:51:03.934Z"
   },
   {
    "duration": 19,
    "start_time": "2022-05-12T18:51:03.968Z"
   },
   {
    "duration": 13,
    "start_time": "2022-05-12T18:51:03.989Z"
   },
   {
    "duration": 17,
    "start_time": "2022-05-12T18:51:04.004Z"
   },
   {
    "duration": 37,
    "start_time": "2022-05-12T18:51:04.023Z"
   },
   {
    "duration": 16,
    "start_time": "2022-05-12T18:51:04.062Z"
   },
   {
    "duration": 15,
    "start_time": "2022-05-12T18:51:04.081Z"
   },
   {
    "duration": 60,
    "start_time": "2022-05-12T18:51:04.099Z"
   },
   {
    "duration": 101,
    "start_time": "2022-05-12T18:51:04.162Z"
   },
   {
    "duration": 24,
    "start_time": "2022-05-12T18:51:04.265Z"
   },
   {
    "duration": 73,
    "start_time": "2022-05-12T18:51:04.291Z"
   },
   {
    "duration": 31,
    "start_time": "2022-05-12T18:51:04.366Z"
   },
   {
    "duration": 11,
    "start_time": "2022-05-12T18:51:04.400Z"
   },
   {
    "duration": 109,
    "start_time": "2022-05-12T18:51:04.414Z"
   },
   {
    "duration": 6,
    "start_time": "2022-05-12T18:51:04.526Z"
   },
   {
    "duration": 23,
    "start_time": "2022-05-12T18:51:04.534Z"
   },
   {
    "duration": 131,
    "start_time": "2022-05-12T18:51:04.560Z"
   },
   {
    "duration": 63,
    "start_time": "2022-05-12T18:51:04.693Z"
   },
   {
    "duration": 59,
    "start_time": "2022-05-12T18:51:04.759Z"
   },
   {
    "duration": 64,
    "start_time": "2022-05-12T18:51:04.821Z"
   },
   {
    "duration": 10,
    "start_time": "2022-05-12T18:51:04.887Z"
   },
   {
    "duration": 7,
    "start_time": "2022-05-12T18:51:04.900Z"
   },
   {
    "duration": 14,
    "start_time": "2022-05-12T18:51:04.909Z"
   },
   {
    "duration": 5,
    "start_time": "2022-05-12T18:52:52.863Z"
   },
   {
    "duration": 11,
    "start_time": "2022-05-12T18:52:54.272Z"
   },
   {
    "duration": 25,
    "start_time": "2022-05-12T18:53:23.189Z"
   },
   {
    "duration": 35,
    "start_time": "2022-05-12T18:58:15.444Z"
   },
   {
    "duration": 26,
    "start_time": "2022-05-12T19:03:50.305Z"
   },
   {
    "duration": 34,
    "start_time": "2022-05-12T19:04:40.612Z"
   },
   {
    "duration": 27,
    "start_time": "2022-05-12T19:05:05.993Z"
   },
   {
    "duration": 27,
    "start_time": "2022-05-12T19:05:28.181Z"
   },
   {
    "duration": 26,
    "start_time": "2022-05-12T19:05:48.125Z"
   },
   {
    "duration": 27,
    "start_time": "2022-05-12T19:05:58.419Z"
   },
   {
    "duration": 1422,
    "start_time": "2022-05-12T19:06:26.694Z"
   },
   {
    "duration": 527,
    "start_time": "2022-05-12T19:06:28.118Z"
   },
   {
    "duration": 25,
    "start_time": "2022-05-12T19:06:28.648Z"
   },
   {
    "duration": 32,
    "start_time": "2022-05-12T19:06:28.676Z"
   },
   {
    "duration": 26,
    "start_time": "2022-05-12T19:06:28.710Z"
   },
   {
    "duration": 36,
    "start_time": "2022-05-12T19:06:28.738Z"
   },
   {
    "duration": 21,
    "start_time": "2022-05-12T19:06:28.777Z"
   },
   {
    "duration": 35,
    "start_time": "2022-05-12T19:06:28.800Z"
   },
   {
    "duration": 62,
    "start_time": "2022-05-12T19:06:28.838Z"
   },
   {
    "duration": 25,
    "start_time": "2022-05-12T19:06:28.905Z"
   },
   {
    "duration": 51,
    "start_time": "2022-05-12T19:06:28.932Z"
   },
   {
    "duration": 114,
    "start_time": "2022-05-12T19:06:28.986Z"
   },
   {
    "duration": 25,
    "start_time": "2022-05-12T19:06:29.102Z"
   },
   {
    "duration": 80,
    "start_time": "2022-05-12T19:06:29.129Z"
   },
   {
    "duration": 49,
    "start_time": "2022-05-12T19:06:29.211Z"
   },
   {
    "duration": 17,
    "start_time": "2022-05-12T19:06:29.263Z"
   },
   {
    "duration": 111,
    "start_time": "2022-05-12T19:06:29.282Z"
   },
   {
    "duration": 6,
    "start_time": "2022-05-12T19:06:29.396Z"
   },
   {
    "duration": 40,
    "start_time": "2022-05-12T19:06:29.404Z"
   },
   {
    "duration": 157,
    "start_time": "2022-05-12T19:06:29.446Z"
   },
   {
    "duration": 64,
    "start_time": "2022-05-12T19:06:29.605Z"
   },
   {
    "duration": 61,
    "start_time": "2022-05-12T19:06:29.672Z"
   },
   {
    "duration": 58,
    "start_time": "2022-05-12T19:06:29.735Z"
   },
   {
    "duration": 12,
    "start_time": "2022-05-12T19:06:29.795Z"
   },
   {
    "duration": 16,
    "start_time": "2022-05-12T19:06:29.809Z"
   },
   {
    "duration": 36,
    "start_time": "2022-05-12T19:06:29.828Z"
   },
   {
    "duration": 48,
    "start_time": "2022-05-12T19:06:50.039Z"
   },
   {
    "duration": 29,
    "start_time": "2022-05-12T19:10:08.804Z"
   },
   {
    "duration": 2634,
    "start_time": "2022-05-12T19:27:41.592Z"
   },
   {
    "duration": 7,
    "start_time": "2022-05-12T19:28:00.072Z"
   },
   {
    "duration": 12,
    "start_time": "2022-05-12T19:29:14.993Z"
   },
   {
    "duration": 1568,
    "start_time": "2022-05-12T19:29:34.472Z"
   },
   {
    "duration": 548,
    "start_time": "2022-05-12T19:29:36.044Z"
   },
   {
    "duration": 20,
    "start_time": "2022-05-12T19:29:36.595Z"
   },
   {
    "duration": 17,
    "start_time": "2022-05-12T19:29:36.618Z"
   },
   {
    "duration": 23,
    "start_time": "2022-05-12T19:29:36.656Z"
   },
   {
    "duration": 16,
    "start_time": "2022-05-12T19:29:36.681Z"
   },
   {
    "duration": 10,
    "start_time": "2022-05-12T19:29:36.700Z"
   },
   {
    "duration": 48,
    "start_time": "2022-05-12T19:29:36.712Z"
   },
   {
    "duration": 24,
    "start_time": "2022-05-12T19:29:36.763Z"
   },
   {
    "duration": 13,
    "start_time": "2022-05-12T19:29:36.789Z"
   },
   {
    "duration": 55,
    "start_time": "2022-05-12T19:29:36.804Z"
   },
   {
    "duration": 56,
    "start_time": "2022-05-12T19:29:40.085Z"
   },
   {
    "duration": 12,
    "start_time": "2022-05-12T19:29:43.244Z"
   },
   {
    "duration": 1494,
    "start_time": "2022-05-12T19:30:31.529Z"
   },
   {
    "duration": 518,
    "start_time": "2022-05-12T19:30:33.026Z"
   },
   {
    "duration": 32,
    "start_time": "2022-05-12T19:30:33.547Z"
   },
   {
    "duration": 20,
    "start_time": "2022-05-12T19:30:33.582Z"
   },
   {
    "duration": 17,
    "start_time": "2022-05-12T19:30:33.604Z"
   },
   {
    "duration": 35,
    "start_time": "2022-05-12T19:30:33.623Z"
   },
   {
    "duration": 33,
    "start_time": "2022-05-12T19:30:33.660Z"
   },
   {
    "duration": 14,
    "start_time": "2022-05-12T19:30:33.695Z"
   },
   {
    "duration": 18,
    "start_time": "2022-05-12T19:30:33.711Z"
   },
   {
    "duration": 45,
    "start_time": "2022-05-12T19:30:33.733Z"
   },
   {
    "duration": 35,
    "start_time": "2022-05-12T19:30:33.780Z"
   },
   {
    "duration": 110,
    "start_time": "2022-05-12T19:30:33.817Z"
   },
   {
    "duration": 46,
    "start_time": "2022-05-12T19:30:33.930Z"
   },
   {
    "duration": 58,
    "start_time": "2022-05-12T19:30:33.978Z"
   },
   {
    "duration": 57,
    "start_time": "2022-05-12T19:30:34.039Z"
   },
   {
    "duration": 12,
    "start_time": "2022-05-12T19:30:34.099Z"
   },
   {
    "duration": 105,
    "start_time": "2022-05-12T19:30:34.113Z"
   },
   {
    "duration": 7,
    "start_time": "2022-05-12T19:30:34.220Z"
   },
   {
    "duration": 35,
    "start_time": "2022-05-12T19:30:34.229Z"
   },
   {
    "duration": 132,
    "start_time": "2022-05-12T19:30:34.266Z"
   },
   {
    "duration": 63,
    "start_time": "2022-05-12T19:30:34.401Z"
   },
   {
    "duration": 76,
    "start_time": "2022-05-12T19:30:34.467Z"
   },
   {
    "duration": 49,
    "start_time": "2022-05-12T19:30:34.552Z"
   },
   {
    "duration": 11,
    "start_time": "2022-05-12T19:30:34.603Z"
   },
   {
    "duration": 39,
    "start_time": "2022-05-12T19:30:34.616Z"
   },
   {
    "duration": 18,
    "start_time": "2022-05-12T19:30:34.658Z"
   },
   {
    "duration": 36,
    "start_time": "2022-05-12T19:30:34.679Z"
   },
   {
    "duration": 7,
    "start_time": "2022-05-12T19:30:34.719Z"
   },
   {
    "duration": 153,
    "start_time": "2022-05-12T19:49:32.872Z"
   },
   {
    "duration": 142,
    "start_time": "2022-05-12T19:49:57.871Z"
   },
   {
    "duration": 31,
    "start_time": "2022-05-12T19:50:03.908Z"
   },
   {
    "duration": 18,
    "start_time": "2022-05-12T19:50:14.502Z"
   },
   {
    "duration": 17,
    "start_time": "2022-05-12T19:53:09.807Z"
   },
   {
    "duration": 1563,
    "start_time": "2022-05-12T19:54:17.699Z"
   },
   {
    "duration": 23,
    "start_time": "2022-05-12T19:54:49.048Z"
   },
   {
    "duration": 1488,
    "start_time": "2022-05-12T19:55:40.782Z"
   },
   {
    "duration": 8,
    "start_time": "2022-05-12T19:56:07.740Z"
   },
   {
    "duration": 1309,
    "start_time": "2022-05-12T19:56:17.509Z"
   },
   {
    "duration": 28,
    "start_time": "2022-05-12T19:58:35.298Z"
   },
   {
    "duration": 59,
    "start_time": "2022-05-12T19:58:49.304Z"
   },
   {
    "duration": 1644,
    "start_time": "2022-05-12T20:01:04.306Z"
   },
   {
    "duration": 38,
    "start_time": "2022-05-12T20:01:46.104Z"
   },
   {
    "duration": 1538,
    "start_time": "2022-05-12T20:02:30.802Z"
   },
   {
    "duration": 540,
    "start_time": "2022-05-12T20:02:32.343Z"
   },
   {
    "duration": 18,
    "start_time": "2022-05-12T20:02:32.885Z"
   },
   {
    "duration": 16,
    "start_time": "2022-05-12T20:02:32.906Z"
   },
   {
    "duration": 45,
    "start_time": "2022-05-12T20:02:32.924Z"
   },
   {
    "duration": 16,
    "start_time": "2022-05-12T20:02:32.971Z"
   },
   {
    "duration": 12,
    "start_time": "2022-05-12T20:02:32.990Z"
   },
   {
    "duration": 13,
    "start_time": "2022-05-12T20:02:33.005Z"
   },
   {
    "duration": 22,
    "start_time": "2022-05-12T20:02:33.055Z"
   },
   {
    "duration": 13,
    "start_time": "2022-05-12T20:02:33.081Z"
   },
   {
    "duration": 62,
    "start_time": "2022-05-12T20:02:33.096Z"
   },
   {
    "duration": 116,
    "start_time": "2022-05-12T20:02:33.162Z"
   },
   {
    "duration": 25,
    "start_time": "2022-05-12T20:02:33.281Z"
   },
   {
    "duration": 79,
    "start_time": "2022-05-12T20:02:33.308Z"
   },
   {
    "duration": 31,
    "start_time": "2022-05-12T20:02:33.389Z"
   },
   {
    "duration": 46,
    "start_time": "2022-05-12T20:02:33.422Z"
   },
   {
    "duration": 98,
    "start_time": "2022-05-12T20:02:33.471Z"
   },
   {
    "duration": 6,
    "start_time": "2022-05-12T20:02:33.571Z"
   },
   {
    "duration": 17,
    "start_time": "2022-05-12T20:02:33.580Z"
   },
   {
    "duration": 150,
    "start_time": "2022-05-12T20:02:33.600Z"
   },
   {
    "duration": 53,
    "start_time": "2022-05-12T20:02:33.753Z"
   },
   {
    "duration": 90,
    "start_time": "2022-05-12T20:02:33.809Z"
   },
   {
    "duration": 53,
    "start_time": "2022-05-12T20:02:33.901Z"
   },
   {
    "duration": 17,
    "start_time": "2022-05-12T20:02:33.957Z"
   },
   {
    "duration": 4,
    "start_time": "2022-05-12T20:02:33.977Z"
   },
   {
    "duration": 12,
    "start_time": "2022-05-12T20:02:33.983Z"
   },
   {
    "duration": 76,
    "start_time": "2022-05-12T20:02:33.998Z"
   },
   {
    "duration": 45,
    "start_time": "2022-05-12T20:02:38.060Z"
   },
   {
    "duration": 1416,
    "start_time": "2022-05-12T20:03:21.635Z"
   },
   {
    "duration": 41,
    "start_time": "2022-05-12T20:03:38.969Z"
   },
   {
    "duration": 11,
    "start_time": "2022-05-12T20:15:11.529Z"
   },
   {
    "duration": 1784,
    "start_time": "2022-05-12T20:15:45.937Z"
   },
   {
    "duration": 415,
    "start_time": "2022-05-12T20:16:30.364Z"
   },
   {
    "duration": 481,
    "start_time": "2022-05-12T20:16:43.399Z"
   },
   {
    "duration": 427,
    "start_time": "2022-05-12T20:17:32.280Z"
   },
   {
    "duration": 1934,
    "start_time": "2022-05-12T20:18:14.737Z"
   },
   {
    "duration": 420,
    "start_time": "2022-05-12T20:18:33.765Z"
   },
   {
    "duration": 54,
    "start_time": "2022-05-12T20:19:00.342Z"
   },
   {
    "duration": 1494,
    "start_time": "2022-05-12T20:19:15.928Z"
   },
   {
    "duration": 523,
    "start_time": "2022-05-12T20:19:17.424Z"
   },
   {
    "duration": 25,
    "start_time": "2022-05-12T20:19:17.952Z"
   },
   {
    "duration": 16,
    "start_time": "2022-05-12T20:19:17.980Z"
   },
   {
    "duration": 15,
    "start_time": "2022-05-12T20:19:17.998Z"
   },
   {
    "duration": 52,
    "start_time": "2022-05-12T20:19:18.015Z"
   },
   {
    "duration": 12,
    "start_time": "2022-05-12T20:19:18.069Z"
   },
   {
    "duration": 13,
    "start_time": "2022-05-12T20:19:18.083Z"
   },
   {
    "duration": 16,
    "start_time": "2022-05-12T20:19:18.098Z"
   },
   {
    "duration": 18,
    "start_time": "2022-05-12T20:19:18.156Z"
   },
   {
    "duration": 34,
    "start_time": "2022-05-12T20:19:18.176Z"
   },
   {
    "duration": 122,
    "start_time": "2022-05-12T20:19:18.213Z"
   },
   {
    "duration": 47,
    "start_time": "2022-05-12T20:19:18.337Z"
   },
   {
    "duration": 80,
    "start_time": "2022-05-12T20:19:18.386Z"
   },
   {
    "duration": 30,
    "start_time": "2022-05-12T20:19:18.468Z"
   },
   {
    "duration": 11,
    "start_time": "2022-05-12T20:19:18.500Z"
   },
   {
    "duration": 111,
    "start_time": "2022-05-12T20:19:18.513Z"
   },
   {
    "duration": 6,
    "start_time": "2022-05-12T20:19:18.627Z"
   },
   {
    "duration": 33,
    "start_time": "2022-05-12T20:19:18.636Z"
   },
   {
    "duration": 140,
    "start_time": "2022-05-12T20:19:18.671Z"
   },
   {
    "duration": 70,
    "start_time": "2022-05-12T20:19:18.812Z"
   },
   {
    "duration": 70,
    "start_time": "2022-05-12T20:19:18.884Z"
   },
   {
    "duration": 45,
    "start_time": "2022-05-12T20:19:18.957Z"
   },
   {
    "duration": 11,
    "start_time": "2022-05-12T20:19:19.004Z"
   },
   {
    "duration": 43,
    "start_time": "2022-05-12T20:19:19.018Z"
   },
   {
    "duration": 15,
    "start_time": "2022-05-12T20:19:19.065Z"
   },
   {
    "duration": 28,
    "start_time": "2022-05-12T20:19:19.083Z"
   },
   {
    "duration": 75,
    "start_time": "2022-05-12T20:19:19.115Z"
   },
   {
    "duration": 171,
    "start_time": "2022-05-12T20:21:48.189Z"
   },
   {
    "duration": 244,
    "start_time": "2022-05-12T20:23:06.190Z"
   },
   {
    "duration": 170,
    "start_time": "2022-05-12T20:24:09.301Z"
   },
   {
    "duration": 172,
    "start_time": "2022-05-12T20:24:44.993Z"
   },
   {
    "duration": 187,
    "start_time": "2022-05-12T20:26:30.274Z"
   },
   {
    "duration": 175,
    "start_time": "2022-05-12T20:29:59.833Z"
   },
   {
    "duration": 3,
    "start_time": "2022-05-12T20:31:18.848Z"
   },
   {
    "duration": 1697,
    "start_time": "2022-05-13T07:33:01.130Z"
   },
   {
    "duration": 531,
    "start_time": "2022-05-13T07:33:02.829Z"
   },
   {
    "duration": 18,
    "start_time": "2022-05-13T07:33:03.362Z"
   },
   {
    "duration": 19,
    "start_time": "2022-05-13T07:33:03.393Z"
   },
   {
    "duration": 20,
    "start_time": "2022-05-13T07:33:03.415Z"
   },
   {
    "duration": 26,
    "start_time": "2022-05-13T07:33:03.437Z"
   },
   {
    "duration": 38,
    "start_time": "2022-05-13T07:33:03.466Z"
   },
   {
    "duration": 24,
    "start_time": "2022-05-13T07:33:03.506Z"
   },
   {
    "duration": 18,
    "start_time": "2022-05-13T07:33:03.532Z"
   },
   {
    "duration": 23,
    "start_time": "2022-05-13T07:33:03.554Z"
   },
   {
    "duration": 42,
    "start_time": "2022-05-13T07:33:03.579Z"
   },
   {
    "duration": 105,
    "start_time": "2022-05-13T07:33:03.624Z"
   },
   {
    "duration": 41,
    "start_time": "2022-05-13T07:33:03.732Z"
   },
   {
    "duration": 153,
    "start_time": "2022-05-13T07:33:03.775Z"
   },
   {
    "duration": 29,
    "start_time": "2022-05-13T07:33:03.930Z"
   },
   {
    "duration": 11,
    "start_time": "2022-05-13T07:33:03.961Z"
   },
   {
    "duration": 92,
    "start_time": "2022-05-13T07:33:03.975Z"
   },
   {
    "duration": 23,
    "start_time": "2022-05-13T07:33:04.070Z"
   },
   {
    "duration": 16,
    "start_time": "2022-05-13T07:33:04.095Z"
   },
   {
    "duration": 133,
    "start_time": "2022-05-13T07:33:04.113Z"
   },
   {
    "duration": 60,
    "start_time": "2022-05-13T07:33:04.249Z"
   },
   {
    "duration": 56,
    "start_time": "2022-05-13T07:33:04.311Z"
   },
   {
    "duration": 59,
    "start_time": "2022-05-13T07:33:04.370Z"
   },
   {
    "duration": 10,
    "start_time": "2022-05-13T07:33:04.432Z"
   },
   {
    "duration": 10,
    "start_time": "2022-05-13T07:33:04.444Z"
   },
   {
    "duration": 43,
    "start_time": "2022-05-13T07:33:04.456Z"
   },
   {
    "duration": 29,
    "start_time": "2022-05-13T07:33:04.501Z"
   },
   {
    "duration": 193,
    "start_time": "2022-05-13T07:33:04.535Z"
   },
   {
    "duration": 265,
    "start_time": "2022-05-13T07:43:52.945Z"
   },
   {
    "duration": 161,
    "start_time": "2022-05-13T07:43:59.704Z"
   },
   {
    "duration": 176,
    "start_time": "2022-05-13T07:44:03.458Z"
   },
   {
    "duration": 23,
    "start_time": "2022-05-13T08:02:38.179Z"
   },
   {
    "duration": 14,
    "start_time": "2022-05-13T08:03:04.297Z"
   },
   {
    "duration": 399,
    "start_time": "2022-05-13T08:07:10.198Z"
   },
   {
    "duration": 204,
    "start_time": "2022-05-13T08:07:26.921Z"
   },
   {
    "duration": 202,
    "start_time": "2022-05-13T08:07:31.477Z"
   },
   {
    "duration": 14058,
    "start_time": "2022-05-13T08:08:37.258Z"
   },
   {
    "duration": 32,
    "start_time": "2022-05-13T08:13:38.238Z"
   },
   {
    "duration": 18,
    "start_time": "2022-05-13T08:15:30.871Z"
   },
   {
    "duration": 11,
    "start_time": "2022-05-13T08:16:11.955Z"
   },
   {
    "duration": 12,
    "start_time": "2022-05-13T08:23:02.008Z"
   },
   {
    "duration": 8,
    "start_time": "2022-05-13T08:23:44.141Z"
   },
   {
    "duration": 4,
    "start_time": "2022-05-13T08:24:06.964Z"
   },
   {
    "duration": 8,
    "start_time": "2022-05-13T08:24:15.222Z"
   },
   {
    "duration": 6,
    "start_time": "2022-05-13T08:24:21.539Z"
   },
   {
    "duration": 12,
    "start_time": "2022-05-13T08:25:30.259Z"
   },
   {
    "duration": 6,
    "start_time": "2022-05-13T08:25:33.865Z"
   },
   {
    "duration": 8,
    "start_time": "2022-05-13T08:26:16.676Z"
   },
   {
    "duration": 7,
    "start_time": "2022-05-13T08:26:31.255Z"
   },
   {
    "duration": 11,
    "start_time": "2022-05-13T08:27:32.316Z"
   },
   {
    "duration": 11,
    "start_time": "2022-05-13T08:27:44.683Z"
   },
   {
    "duration": 5,
    "start_time": "2022-05-13T08:28:08.674Z"
   },
   {
    "duration": 7,
    "start_time": "2022-05-13T08:30:44.726Z"
   },
   {
    "duration": 13,
    "start_time": "2022-05-13T08:45:57.551Z"
   },
   {
    "duration": 11,
    "start_time": "2022-05-13T08:46:03.936Z"
   },
   {
    "duration": 6,
    "start_time": "2022-05-13T08:46:14.481Z"
   },
   {
    "duration": 412,
    "start_time": "2022-05-13T08:53:26.314Z"
   },
   {
    "duration": 12,
    "start_time": "2022-05-13T08:54:43.066Z"
   },
   {
    "duration": 334,
    "start_time": "2022-05-13T08:55:51.415Z"
   },
   {
    "duration": 401,
    "start_time": "2022-05-13T08:56:35.093Z"
   },
   {
    "duration": 310,
    "start_time": "2022-05-13T08:57:30.399Z"
   },
   {
    "duration": 308,
    "start_time": "2022-05-13T08:57:44.722Z"
   },
   {
    "duration": 408,
    "start_time": "2022-05-13T08:57:57.050Z"
   },
   {
    "duration": 230,
    "start_time": "2022-05-13T08:58:09.005Z"
   },
   {
    "duration": 321,
    "start_time": "2022-05-13T08:58:48.048Z"
   },
   {
    "duration": 51,
    "start_time": "2022-05-13T09:00:10.022Z"
   },
   {
    "duration": 1862,
    "start_time": "2022-05-13T10:54:33.571Z"
   },
   {
    "duration": 488,
    "start_time": "2022-05-13T10:54:35.436Z"
   },
   {
    "duration": 17,
    "start_time": "2022-05-13T10:54:35.927Z"
   },
   {
    "duration": 22,
    "start_time": "2022-05-13T10:54:35.948Z"
   },
   {
    "duration": 17,
    "start_time": "2022-05-13T10:54:35.972Z"
   },
   {
    "duration": 36,
    "start_time": "2022-05-13T10:54:35.992Z"
   },
   {
    "duration": 12,
    "start_time": "2022-05-13T10:54:36.030Z"
   },
   {
    "duration": 27,
    "start_time": "2022-05-13T10:54:36.045Z"
   },
   {
    "duration": 21,
    "start_time": "2022-05-13T10:54:36.075Z"
   },
   {
    "duration": 30,
    "start_time": "2022-05-13T10:54:36.100Z"
   },
   {
    "duration": 32,
    "start_time": "2022-05-13T10:54:36.133Z"
   },
   {
    "duration": 111,
    "start_time": "2022-05-13T10:54:36.167Z"
   },
   {
    "duration": 26,
    "start_time": "2022-05-13T10:54:36.280Z"
   },
   {
    "duration": 70,
    "start_time": "2022-05-13T10:54:36.309Z"
   },
   {
    "duration": 54,
    "start_time": "2022-05-13T10:54:36.381Z"
   },
   {
    "duration": 11,
    "start_time": "2022-05-13T10:54:36.437Z"
   },
   {
    "duration": 102,
    "start_time": "2022-05-13T10:54:36.451Z"
   },
   {
    "duration": 6,
    "start_time": "2022-05-13T10:54:36.555Z"
   },
   {
    "duration": 19,
    "start_time": "2022-05-13T10:54:36.563Z"
   },
   {
    "duration": 139,
    "start_time": "2022-05-13T10:54:36.585Z"
   },
   {
    "duration": 47,
    "start_time": "2022-05-13T10:54:36.726Z"
   },
   {
    "duration": 80,
    "start_time": "2022-05-13T10:54:36.776Z"
   },
   {
    "duration": 39,
    "start_time": "2022-05-13T10:54:36.859Z"
   },
   {
    "duration": 30,
    "start_time": "2022-05-13T10:54:36.900Z"
   },
   {
    "duration": 7,
    "start_time": "2022-05-13T10:54:36.932Z"
   },
   {
    "duration": 16,
    "start_time": "2022-05-13T10:54:36.941Z"
   },
   {
    "duration": 28,
    "start_time": "2022-05-13T10:54:36.960Z"
   },
   {
    "duration": 192,
    "start_time": "2022-05-13T10:54:37.025Z"
   },
   {
    "duration": 15,
    "start_time": "2022-05-13T10:54:37.219Z"
   },
   {
    "duration": 21,
    "start_time": "2022-05-13T10:54:37.236Z"
   },
   {
    "duration": 10,
    "start_time": "2022-05-13T10:54:37.259Z"
   },
   {
    "duration": 389,
    "start_time": "2022-05-13T10:54:37.271Z"
   },
   {
    "duration": 293,
    "start_time": "2022-05-13T10:55:00.015Z"
   },
   {
    "duration": 310,
    "start_time": "2022-05-13T10:55:12.491Z"
   },
   {
    "duration": 304,
    "start_time": "2022-05-13T10:55:54.139Z"
   },
   {
    "duration": 353,
    "start_time": "2022-05-13T10:56:21.142Z"
   },
   {
    "duration": 396,
    "start_time": "2022-05-13T10:56:32.600Z"
   },
   {
    "duration": 291,
    "start_time": "2022-05-13T10:56:46.862Z"
   },
   {
    "duration": 550,
    "start_time": "2022-05-13T10:57:38.815Z"
   },
   {
    "duration": 306,
    "start_time": "2022-05-13T10:58:21.865Z"
   },
   {
    "duration": 332,
    "start_time": "2022-05-13T10:59:26.220Z"
   },
   {
    "duration": 3,
    "start_time": "2022-05-13T11:01:21.672Z"
   },
   {
    "duration": 359,
    "start_time": "2022-05-13T11:03:51.998Z"
   },
   {
    "duration": 240,
    "start_time": "2022-05-13T11:04:06.500Z"
   },
   {
    "duration": 367,
    "start_time": "2022-05-13T11:04:47.091Z"
   },
   {
    "duration": 5,
    "start_time": "2022-05-13T11:05:14.036Z"
   },
   {
    "duration": 476,
    "start_time": "2022-05-13T11:05:27.340Z"
   },
   {
    "duration": 396,
    "start_time": "2022-05-13T11:05:32.942Z"
   },
   {
    "duration": 299,
    "start_time": "2022-05-13T11:06:02.555Z"
   },
   {
    "duration": 302,
    "start_time": "2022-05-13T11:06:12.990Z"
   },
   {
    "duration": 453,
    "start_time": "2022-05-13T11:06:51.749Z"
   },
   {
    "duration": 391,
    "start_time": "2022-05-13T11:07:10.074Z"
   },
   {
    "duration": 549,
    "start_time": "2022-05-13T11:07:21.260Z"
   },
   {
    "duration": 321,
    "start_time": "2022-05-13T11:07:32.367Z"
   },
   {
    "duration": 299,
    "start_time": "2022-05-13T11:07:45.800Z"
   },
   {
    "duration": 331,
    "start_time": "2022-05-13T11:08:18.820Z"
   },
   {
    "duration": 21,
    "start_time": "2022-05-13T11:08:58.182Z"
   },
   {
    "duration": 191,
    "start_time": "2022-05-13T11:09:22.364Z"
   },
   {
    "duration": 345,
    "start_time": "2022-05-13T11:09:53.170Z"
   },
   {
    "duration": 26,
    "start_time": "2022-05-13T11:10:15.821Z"
   },
   {
    "duration": 434,
    "start_time": "2022-05-13T11:10:45.194Z"
   },
   {
    "duration": 463,
    "start_time": "2022-05-13T11:12:09.746Z"
   },
   {
    "duration": 469,
    "start_time": "2022-05-13T11:12:42.934Z"
   },
   {
    "duration": 298,
    "start_time": "2022-05-13T11:12:50.730Z"
   },
   {
    "duration": 381,
    "start_time": "2022-05-13T11:13:17.762Z"
   },
   {
    "duration": 375,
    "start_time": "2022-05-13T11:13:26.759Z"
   },
   {
    "duration": 444,
    "start_time": "2022-05-13T11:13:48.052Z"
   },
   {
    "duration": 430,
    "start_time": "2022-05-13T11:14:09.658Z"
   },
   {
    "duration": 431,
    "start_time": "2022-05-13T11:17:38.788Z"
   },
   {
    "duration": 404,
    "start_time": "2022-05-13T11:21:27.278Z"
   },
   {
    "duration": 383,
    "start_time": "2022-05-13T11:21:39.441Z"
   },
   {
    "duration": 391,
    "start_time": "2022-05-13T11:22:14.837Z"
   },
   {
    "duration": 394,
    "start_time": "2022-05-13T11:23:14.343Z"
   },
   {
    "duration": 282,
    "start_time": "2022-05-13T11:23:20.659Z"
   },
   {
    "duration": 314,
    "start_time": "2022-05-13T11:23:38.152Z"
   },
   {
    "duration": 449,
    "start_time": "2022-05-13T11:23:41.227Z"
   },
   {
    "duration": 277,
    "start_time": "2022-05-13T11:23:50.677Z"
   },
   {
    "duration": 277,
    "start_time": "2022-05-13T11:23:54.985Z"
   },
   {
    "duration": 323,
    "start_time": "2022-05-13T11:25:00.477Z"
   },
   {
    "duration": 348,
    "start_time": "2022-05-13T11:25:39.724Z"
   },
   {
    "duration": 271,
    "start_time": "2022-05-13T11:25:53.757Z"
   },
   {
    "duration": 331,
    "start_time": "2022-05-13T11:26:06.115Z"
   },
   {
    "duration": 264,
    "start_time": "2022-05-13T11:26:39.100Z"
   },
   {
    "duration": 330,
    "start_time": "2022-05-13T11:26:48.181Z"
   },
   {
    "duration": 4,
    "start_time": "2022-05-13T11:27:02.244Z"
   },
   {
    "duration": 292,
    "start_time": "2022-05-13T11:27:44.473Z"
   },
   {
    "duration": 346,
    "start_time": "2022-05-13T11:27:53.470Z"
   },
   {
    "duration": 295,
    "start_time": "2022-05-13T11:28:16.299Z"
   },
   {
    "duration": 404,
    "start_time": "2022-05-13T11:28:22.622Z"
   },
   {
    "duration": 4,
    "start_time": "2022-05-13T11:29:49.374Z"
   },
   {
    "duration": 4,
    "start_time": "2022-05-13T11:30:22.723Z"
   },
   {
    "duration": 308,
    "start_time": "2022-05-13T11:30:43.354Z"
   },
   {
    "duration": 324,
    "start_time": "2022-05-13T11:31:05.414Z"
   },
   {
    "duration": 18,
    "start_time": "2022-05-13T11:31:15.647Z"
   },
   {
    "duration": 18,
    "start_time": "2022-05-13T11:31:36.459Z"
   },
   {
    "duration": 328,
    "start_time": "2022-05-13T11:31:42.219Z"
   },
   {
    "duration": 342,
    "start_time": "2022-05-13T11:31:57.836Z"
   },
   {
    "duration": 495,
    "start_time": "2022-05-13T11:32:34.912Z"
   },
   {
    "duration": 379,
    "start_time": "2022-05-13T11:32:45.439Z"
   },
   {
    "duration": 478,
    "start_time": "2022-05-13T11:33:14.175Z"
   },
   {
    "duration": 330,
    "start_time": "2022-05-13T11:33:27.914Z"
   },
   {
    "duration": 318,
    "start_time": "2022-05-13T11:33:45.549Z"
   },
   {
    "duration": 269,
    "start_time": "2022-05-13T11:34:30.150Z"
   },
   {
    "duration": 308,
    "start_time": "2022-05-13T11:34:44.662Z"
   },
   {
    "duration": 572,
    "start_time": "2022-05-13T12:01:29.209Z"
   },
   {
    "duration": 337,
    "start_time": "2022-05-13T12:04:34.820Z"
   },
   {
    "duration": 13,
    "start_time": "2022-05-13T12:04:37.378Z"
   },
   {
    "duration": 11,
    "start_time": "2022-05-13T12:04:39.092Z"
   },
   {
    "duration": 7,
    "start_time": "2022-05-13T12:04:40.594Z"
   },
   {
    "duration": 304,
    "start_time": "2022-05-13T12:04:42.180Z"
   },
   {
    "duration": 4,
    "start_time": "2022-05-13T12:09:08.301Z"
   },
   {
    "duration": 37,
    "start_time": "2022-05-13T12:11:14.882Z"
   },
   {
    "duration": 37,
    "start_time": "2022-05-13T12:11:23.452Z"
   },
   {
    "duration": 40,
    "start_time": "2022-05-13T12:11:38.976Z"
   },
   {
    "duration": 48,
    "start_time": "2022-05-13T12:11:42.121Z"
   },
   {
    "duration": 52,
    "start_time": "2022-05-13T12:11:54.880Z"
   },
   {
    "duration": 45,
    "start_time": "2022-05-13T12:12:54.713Z"
   },
   {
    "duration": 46,
    "start_time": "2022-05-13T12:12:58.333Z"
   },
   {
    "duration": 44,
    "start_time": "2022-05-13T12:13:22.557Z"
   },
   {
    "duration": 35,
    "start_time": "2022-05-13T12:18:22.012Z"
   },
   {
    "duration": 457,
    "start_time": "2022-05-13T12:19:57.855Z"
   },
   {
    "duration": 408,
    "start_time": "2022-05-13T12:20:46.039Z"
   },
   {
    "duration": 319,
    "start_time": "2022-05-13T12:20:59.366Z"
   },
   {
    "duration": 260,
    "start_time": "2022-05-13T12:22:12.834Z"
   },
   {
    "duration": 368,
    "start_time": "2022-05-13T12:22:24.981Z"
   },
   {
    "duration": 226,
    "start_time": "2022-05-13T12:22:53.477Z"
   },
   {
    "duration": 292,
    "start_time": "2022-05-13T12:23:11.244Z"
   },
   {
    "duration": 287,
    "start_time": "2022-05-13T12:23:17.640Z"
   },
   {
    "duration": 262,
    "start_time": "2022-05-13T12:23:42.966Z"
   },
   {
    "duration": 246,
    "start_time": "2022-05-13T12:24:53.350Z"
   },
   {
    "duration": 105,
    "start_time": "2022-05-13T12:25:20.745Z"
   },
   {
    "duration": 275,
    "start_time": "2022-05-13T12:25:27.703Z"
   },
   {
    "duration": 435,
    "start_time": "2022-05-13T12:25:32.892Z"
   },
   {
    "duration": 19,
    "start_time": "2022-05-13T12:27:07.405Z"
   },
   {
    "duration": 597,
    "start_time": "2022-05-13T12:27:19.503Z"
   },
   {
    "duration": 334,
    "start_time": "2022-05-13T12:27:40.695Z"
   },
   {
    "duration": 357,
    "start_time": "2022-05-13T12:27:47.916Z"
   },
   {
    "duration": 460,
    "start_time": "2022-05-13T12:27:56.292Z"
   },
   {
    "duration": 52,
    "start_time": "2022-05-13T12:31:46.629Z"
   },
   {
    "duration": 302,
    "start_time": "2022-05-13T12:34:16.338Z"
   },
   {
    "duration": 291,
    "start_time": "2022-05-13T12:34:38.771Z"
   },
   {
    "duration": 20,
    "start_time": "2022-05-13T12:34:54.556Z"
   },
   {
    "duration": 219,
    "start_time": "2022-05-13T12:35:50.834Z"
   },
   {
    "duration": 240,
    "start_time": "2022-05-13T12:36:13.917Z"
   },
   {
    "duration": 193,
    "start_time": "2022-05-13T12:36:30.412Z"
   },
   {
    "duration": 212,
    "start_time": "2022-05-13T12:36:44.480Z"
   },
   {
    "duration": 16,
    "start_time": "2022-05-13T12:37:26.487Z"
   },
   {
    "duration": 16,
    "start_time": "2022-05-13T12:37:31.648Z"
   },
   {
    "duration": 193,
    "start_time": "2022-05-13T12:37:34.379Z"
   },
   {
    "duration": 248,
    "start_time": "2022-05-13T12:37:52.666Z"
   },
   {
    "duration": 271,
    "start_time": "2022-05-13T12:38:15.578Z"
   },
   {
    "duration": 1930,
    "start_time": "2022-05-13T12:38:32.450Z"
   },
   {
    "duration": 200,
    "start_time": "2022-05-13T12:39:07.104Z"
   },
   {
    "duration": 204,
    "start_time": "2022-05-13T12:39:20.677Z"
   },
   {
    "duration": 190,
    "start_time": "2022-05-13T12:39:27.859Z"
   },
   {
    "duration": 224,
    "start_time": "2022-05-13T12:42:50.384Z"
   },
   {
    "duration": 10,
    "start_time": "2022-05-13T12:45:51.936Z"
   },
   {
    "duration": 303,
    "start_time": "2022-05-13T12:49:46.787Z"
   },
   {
    "duration": 361,
    "start_time": "2022-05-13T12:49:55.579Z"
   },
   {
    "duration": 311,
    "start_time": "2022-05-13T12:51:45.380Z"
   },
   {
    "duration": 267,
    "start_time": "2022-05-13T12:51:59.810Z"
   },
   {
    "duration": 358,
    "start_time": "2022-05-13T12:52:49.033Z"
   },
   {
    "duration": 49,
    "start_time": "2022-05-13T13:02:07.116Z"
   },
   {
    "duration": 30,
    "start_time": "2022-05-13T13:18:12.806Z"
   },
   {
    "duration": 14,
    "start_time": "2022-05-13T13:23:52.466Z"
   },
   {
    "duration": 4,
    "start_time": "2022-05-13T13:23:56.190Z"
   },
   {
    "duration": 8,
    "start_time": "2022-05-13T13:24:03.816Z"
   },
   {
    "duration": 10,
    "start_time": "2022-05-13T13:29:23.748Z"
   },
   {
    "duration": 6,
    "start_time": "2022-05-13T13:29:46.381Z"
   },
   {
    "duration": 5,
    "start_time": "2022-05-13T13:32:48.847Z"
   },
   {
    "duration": 7,
    "start_time": "2022-05-13T13:32:58.491Z"
   },
   {
    "duration": 20,
    "start_time": "2022-05-13T13:33:39.587Z"
   },
   {
    "duration": 11,
    "start_time": "2022-05-13T13:50:04.992Z"
   },
   {
    "duration": 8,
    "start_time": "2022-05-13T13:50:24.649Z"
   },
   {
    "duration": 8,
    "start_time": "2022-05-13T13:50:51.146Z"
   },
   {
    "duration": 380,
    "start_time": "2022-05-13T13:54:23.370Z"
   },
   {
    "duration": 659,
    "start_time": "2022-05-13T13:55:08.179Z"
   },
   {
    "duration": 346,
    "start_time": "2022-05-13T13:55:17.748Z"
   },
   {
    "duration": 301,
    "start_time": "2022-05-13T13:55:28.589Z"
   },
   {
    "duration": 323,
    "start_time": "2022-05-13T13:56:16.435Z"
   },
   {
    "duration": 25,
    "start_time": "2022-05-13T13:59:44.716Z"
   },
   {
    "duration": 41,
    "start_time": "2022-05-13T14:08:43.042Z"
   },
   {
    "duration": 14,
    "start_time": "2022-05-13T14:09:07.170Z"
   },
   {
    "duration": 292,
    "start_time": "2022-05-13T14:09:39.293Z"
   },
   {
    "duration": 129,
    "start_time": "2022-05-13T14:17:38.040Z"
   },
   {
    "duration": 107,
    "start_time": "2022-05-13T14:18:04.628Z"
   },
   {
    "duration": 106,
    "start_time": "2022-05-13T14:18:10.528Z"
   },
   {
    "duration": 49,
    "start_time": "2022-05-13T14:18:19.164Z"
   },
   {
    "duration": 80,
    "start_time": "2022-05-13T14:19:15.904Z"
   },
   {
    "duration": 130,
    "start_time": "2022-05-13T14:19:28.450Z"
   },
   {
    "duration": 130,
    "start_time": "2022-05-13T14:20:20.062Z"
   },
   {
    "duration": 75,
    "start_time": "2022-05-13T14:21:24.823Z"
   },
   {
    "duration": 63,
    "start_time": "2022-05-13T14:22:26.999Z"
   },
   {
    "duration": 88,
    "start_time": "2022-05-13T14:22:34.803Z"
   },
   {
    "duration": 64,
    "start_time": "2022-05-13T14:23:56.837Z"
   },
   {
    "duration": 78,
    "start_time": "2022-05-13T14:24:13.629Z"
   },
   {
    "duration": 89,
    "start_time": "2022-05-13T14:25:39.698Z"
   },
   {
    "duration": 90,
    "start_time": "2022-05-13T14:25:56.021Z"
   },
   {
    "duration": 81,
    "start_time": "2022-05-13T14:26:31.957Z"
   },
   {
    "duration": 144,
    "start_time": "2022-05-13T14:51:43.255Z"
   },
   {
    "duration": 40,
    "start_time": "2022-05-13T14:57:04.236Z"
   },
   {
    "duration": 23,
    "start_time": "2022-05-13T14:59:38.558Z"
   },
   {
    "duration": 11,
    "start_time": "2022-05-13T15:01:34.574Z"
   },
   {
    "duration": 24,
    "start_time": "2022-05-13T15:02:06.946Z"
   },
   {
    "duration": 11,
    "start_time": "2022-05-13T15:05:39.484Z"
   },
   {
    "duration": 19,
    "start_time": "2022-05-13T15:07:20.544Z"
   },
   {
    "duration": 9,
    "start_time": "2022-05-13T15:09:36.621Z"
   },
   {
    "duration": 8,
    "start_time": "2022-05-13T15:11:42.955Z"
   },
   {
    "duration": 7,
    "start_time": "2022-05-13T15:12:23.895Z"
   },
   {
    "duration": 11,
    "start_time": "2022-05-13T15:13:03.695Z"
   },
   {
    "duration": 5,
    "start_time": "2022-05-13T15:14:50.972Z"
   },
   {
    "duration": 12,
    "start_time": "2022-05-13T15:14:58.233Z"
   },
   {
    "duration": 330,
    "start_time": "2022-05-13T15:16:34.499Z"
   },
   {
    "duration": 373,
    "start_time": "2022-05-13T15:17:21.589Z"
   },
   {
    "duration": 309,
    "start_time": "2022-05-13T15:17:31.675Z"
   },
   {
    "duration": 342,
    "start_time": "2022-05-13T15:17:38.962Z"
   },
   {
    "duration": 359,
    "start_time": "2022-05-13T15:18:35.075Z"
   },
   {
    "duration": 19,
    "start_time": "2022-05-13T15:27:57.860Z"
   },
   {
    "duration": 10,
    "start_time": "2022-05-13T15:28:08.285Z"
   },
   {
    "duration": 21,
    "start_time": "2022-05-13T15:28:15.416Z"
   },
   {
    "duration": 26,
    "start_time": "2022-05-13T15:35:25.394Z"
   },
   {
    "duration": 13,
    "start_time": "2022-05-13T15:38:03.154Z"
   },
   {
    "duration": 8,
    "start_time": "2022-05-13T15:39:04.521Z"
   },
   {
    "duration": 383,
    "start_time": "2022-05-13T15:39:39.004Z"
   },
   {
    "duration": 408,
    "start_time": "2022-05-13T15:40:33.280Z"
   },
   {
    "duration": 358,
    "start_time": "2022-05-13T15:40:45.329Z"
   },
   {
    "duration": 310,
    "start_time": "2022-05-13T15:40:59.341Z"
   },
   {
    "duration": 347,
    "start_time": "2022-05-13T15:41:23.695Z"
   },
   {
    "duration": 323,
    "start_time": "2022-05-13T15:41:49.144Z"
   },
   {
    "duration": 467,
    "start_time": "2022-05-13T15:42:04.758Z"
   },
   {
    "duration": 340,
    "start_time": "2022-05-13T15:42:48.300Z"
   },
   {
    "duration": 384,
    "start_time": "2022-05-13T15:42:56.709Z"
   },
   {
    "duration": 361,
    "start_time": "2022-05-13T15:43:00.307Z"
   },
   {
    "duration": 351,
    "start_time": "2022-05-13T15:43:29.451Z"
   },
   {
    "duration": 30,
    "start_time": "2022-05-13T15:44:32.652Z"
   },
   {
    "duration": 12,
    "start_time": "2022-05-13T15:49:45.690Z"
   },
   {
    "duration": 15,
    "start_time": "2022-05-13T15:52:01.732Z"
   },
   {
    "duration": 6,
    "start_time": "2022-05-13T15:52:34.180Z"
   },
   {
    "duration": 316,
    "start_time": "2022-05-13T15:53:12.731Z"
   },
   {
    "duration": 411,
    "start_time": "2022-05-13T15:53:23.391Z"
   },
   {
    "duration": 341,
    "start_time": "2022-05-13T15:53:37.545Z"
   },
   {
    "duration": 332,
    "start_time": "2022-05-13T15:53:59.423Z"
   },
   {
    "duration": 34,
    "start_time": "2022-05-13T15:55:08.420Z"
   },
   {
    "duration": 13,
    "start_time": "2022-05-13T16:37:03.875Z"
   },
   {
    "duration": 22,
    "start_time": "2022-05-13T16:38:13.759Z"
   },
   {
    "duration": 30,
    "start_time": "2022-05-13T16:38:50.513Z"
   },
   {
    "duration": 24,
    "start_time": "2022-05-13T16:39:17.988Z"
   },
   {
    "duration": 26,
    "start_time": "2022-05-13T16:39:36.493Z"
   },
   {
    "duration": 25,
    "start_time": "2022-05-13T16:42:59.789Z"
   },
   {
    "duration": 18,
    "start_time": "2022-05-13T16:43:24.606Z"
   },
   {
    "duration": 19,
    "start_time": "2022-05-13T16:47:41.052Z"
   },
   {
    "duration": 333,
    "start_time": "2022-05-13T16:52:43.351Z"
   },
   {
    "duration": 340,
    "start_time": "2022-05-13T16:52:59.452Z"
   },
   {
    "duration": 459,
    "start_time": "2022-05-13T16:53:42.302Z"
   },
   {
    "duration": 360,
    "start_time": "2022-05-13T16:53:58.234Z"
   },
   {
    "duration": 326,
    "start_time": "2022-05-13T16:54:21.132Z"
   },
   {
    "duration": 7,
    "start_time": "2022-05-13T16:57:35.246Z"
   },
   {
    "duration": 6,
    "start_time": "2022-05-13T16:57:45.977Z"
   },
   {
    "duration": 319,
    "start_time": "2022-05-13T17:01:13.354Z"
   },
   {
    "duration": 339,
    "start_time": "2022-05-13T17:01:35.772Z"
   },
   {
    "duration": 690,
    "start_time": "2022-05-13T17:01:50.049Z"
   },
   {
    "duration": 507,
    "start_time": "2022-05-13T17:02:00.704Z"
   },
   {
    "duration": 351,
    "start_time": "2022-05-13T17:02:10.533Z"
   },
   {
    "duration": 510,
    "start_time": "2022-05-13T17:03:40.247Z"
   },
   {
    "duration": 350,
    "start_time": "2022-05-13T17:05:32.131Z"
   },
   {
    "duration": 349,
    "start_time": "2022-05-13T17:05:53.238Z"
   },
   {
    "duration": 10,
    "start_time": "2022-05-13T17:13:47.545Z"
   },
   {
    "duration": 10,
    "start_time": "2022-05-13T17:14:29.768Z"
   },
   {
    "duration": 9,
    "start_time": "2022-05-13T17:15:05.907Z"
   },
   {
    "duration": 7,
    "start_time": "2022-05-13T17:15:36.843Z"
   },
   {
    "duration": 10,
    "start_time": "2022-05-13T17:16:36.475Z"
   },
   {
    "duration": 126,
    "start_time": "2022-05-13T17:18:03.553Z"
   },
   {
    "duration": 9,
    "start_time": "2022-05-13T17:22:07.816Z"
   },
   {
    "duration": 10,
    "start_time": "2022-05-13T17:25:36.673Z"
   },
   {
    "duration": 13,
    "start_time": "2022-05-13T17:26:21.082Z"
   },
   {
    "duration": 1974,
    "start_time": "2022-05-13T17:27:38.055Z"
   },
   {
    "duration": 5,
    "start_time": "2022-05-13T17:28:05.883Z"
   },
   {
    "duration": 15,
    "start_time": "2022-05-13T17:29:18.613Z"
   },
   {
    "duration": 13,
    "start_time": "2022-05-13T17:29:27.939Z"
   },
   {
    "duration": 14,
    "start_time": "2022-05-13T17:29:33.038Z"
   },
   {
    "duration": 8,
    "start_time": "2022-05-13T17:29:53.746Z"
   },
   {
    "duration": 7,
    "start_time": "2022-05-13T17:33:12.014Z"
   },
   {
    "duration": 6,
    "start_time": "2022-05-13T17:38:52.696Z"
   },
   {
    "duration": 10,
    "start_time": "2022-05-13T17:39:17.895Z"
   },
   {
    "duration": 12,
    "start_time": "2022-05-13T17:40:07.146Z"
   },
   {
    "duration": 10,
    "start_time": "2022-05-13T17:40:08.531Z"
   },
   {
    "duration": 8,
    "start_time": "2022-05-13T17:45:41.929Z"
   },
   {
    "duration": 153,
    "start_time": "2022-05-13T17:47:33.348Z"
   },
   {
    "duration": 8,
    "start_time": "2022-05-13T17:47:37.273Z"
   },
   {
    "duration": 7,
    "start_time": "2022-05-13T17:47:46.785Z"
   },
   {
    "duration": 10,
    "start_time": "2022-05-13T17:49:46.611Z"
   },
   {
    "duration": 8,
    "start_time": "2022-05-13T17:50:13.706Z"
   },
   {
    "duration": 11,
    "start_time": "2022-05-13T17:52:28.916Z"
   },
   {
    "duration": 15,
    "start_time": "2022-05-13T18:00:30.180Z"
   },
   {
    "duration": 8,
    "start_time": "2022-05-13T18:02:53.869Z"
   },
   {
    "duration": 11,
    "start_time": "2022-05-13T18:03:02.878Z"
   },
   {
    "duration": 19,
    "start_time": "2022-05-13T18:03:24.431Z"
   },
   {
    "duration": 13,
    "start_time": "2022-05-13T18:03:57.646Z"
   },
   {
    "duration": 12,
    "start_time": "2022-05-13T18:04:03.684Z"
   },
   {
    "duration": 12,
    "start_time": "2022-05-13T18:04:46.631Z"
   },
   {
    "duration": 10,
    "start_time": "2022-05-13T18:04:51.849Z"
   },
   {
    "duration": 22,
    "start_time": "2022-05-13T18:06:34.939Z"
   },
   {
    "duration": 11,
    "start_time": "2022-05-13T18:19:04.005Z"
   },
   {
    "duration": 12,
    "start_time": "2022-05-13T18:19:16.335Z"
   },
   {
    "duration": 12,
    "start_time": "2022-05-13T18:20:33.268Z"
   },
   {
    "duration": 14,
    "start_time": "2022-05-13T18:29:01.385Z"
   },
   {
    "duration": 13,
    "start_time": "2022-05-13T18:29:12.993Z"
   },
   {
    "duration": 9,
    "start_time": "2022-05-13T18:29:20.970Z"
   },
   {
    "duration": 11,
    "start_time": "2022-05-13T18:29:43.363Z"
   },
   {
    "duration": 15,
    "start_time": "2022-05-13T18:43:31.051Z"
   },
   {
    "duration": 5,
    "start_time": "2022-05-13T18:44:05.809Z"
   },
   {
    "duration": 9,
    "start_time": "2022-05-13T18:50:47.441Z"
   },
   {
    "duration": 9,
    "start_time": "2022-05-13T18:52:42.949Z"
   },
   {
    "duration": 7,
    "start_time": "2022-05-13T18:53:07.204Z"
   },
   {
    "duration": 7,
    "start_time": "2022-05-13T18:53:11.963Z"
   },
   {
    "duration": 7,
    "start_time": "2022-05-13T18:53:22.714Z"
   },
   {
    "duration": 7,
    "start_time": "2022-05-13T18:54:32.862Z"
   },
   {
    "duration": 7,
    "start_time": "2022-05-13T18:54:38.169Z"
   },
   {
    "duration": 7,
    "start_time": "2022-05-13T18:54:44.540Z"
   },
   {
    "duration": 7,
    "start_time": "2022-05-13T18:54:47.878Z"
   },
   {
    "duration": 7,
    "start_time": "2022-05-13T18:55:17.236Z"
   },
   {
    "duration": 7,
    "start_time": "2022-05-13T18:55:23.370Z"
   },
   {
    "duration": 8,
    "start_time": "2022-05-13T18:55:30.286Z"
   },
   {
    "duration": 6,
    "start_time": "2022-05-13T18:55:33.573Z"
   },
   {
    "duration": 7,
    "start_time": "2022-05-13T18:55:36.971Z"
   },
   {
    "duration": 56,
    "start_time": "2022-05-13T18:56:04.794Z"
   },
   {
    "duration": 8,
    "start_time": "2022-05-13T18:56:49.298Z"
   },
   {
    "duration": 8,
    "start_time": "2022-05-13T18:57:01.362Z"
   },
   {
    "duration": 8,
    "start_time": "2022-05-13T18:57:11.363Z"
   },
   {
    "duration": 7,
    "start_time": "2022-05-13T18:57:52.151Z"
   },
   {
    "duration": 1581,
    "start_time": "2022-05-13T19:02:41.839Z"
   },
   {
    "duration": 549,
    "start_time": "2022-05-13T19:02:43.422Z"
   },
   {
    "duration": 19,
    "start_time": "2022-05-13T19:02:43.973Z"
   },
   {
    "duration": 33,
    "start_time": "2022-05-13T19:02:43.995Z"
   },
   {
    "duration": 16,
    "start_time": "2022-05-13T19:02:44.037Z"
   },
   {
    "duration": 19,
    "start_time": "2022-05-13T19:02:44.055Z"
   },
   {
    "duration": 19,
    "start_time": "2022-05-13T19:02:44.076Z"
   },
   {
    "duration": 37,
    "start_time": "2022-05-13T19:02:44.097Z"
   },
   {
    "duration": 26,
    "start_time": "2022-05-13T19:02:44.136Z"
   },
   {
    "duration": 14,
    "start_time": "2022-05-13T19:02:44.165Z"
   },
   {
    "duration": 55,
    "start_time": "2022-05-13T19:02:44.182Z"
   },
   {
    "duration": 124,
    "start_time": "2022-05-13T19:02:44.239Z"
   },
   {
    "duration": 27,
    "start_time": "2022-05-13T19:02:44.365Z"
   },
   {
    "duration": 76,
    "start_time": "2022-05-13T19:02:44.395Z"
   },
   {
    "duration": 29,
    "start_time": "2022-05-13T19:02:44.473Z"
   },
   {
    "duration": 17,
    "start_time": "2022-05-13T19:02:44.525Z"
   },
   {
    "duration": 72,
    "start_time": "2022-05-13T19:02:51.446Z"
   },
   {
    "duration": 7,
    "start_time": "2022-05-13T19:03:00.372Z"
   },
   {
    "duration": 21,
    "start_time": "2022-05-13T19:03:02.113Z"
   },
   {
    "duration": 128,
    "start_time": "2022-05-13T19:03:05.140Z"
   },
   {
    "duration": 53,
    "start_time": "2022-05-13T19:03:06.120Z"
   },
   {
    "duration": 67,
    "start_time": "2022-05-13T19:03:07.303Z"
   },
   {
    "duration": 45,
    "start_time": "2022-05-13T19:03:11.524Z"
   },
   {
    "duration": 14,
    "start_time": "2022-05-13T19:03:16.714Z"
   },
   {
    "duration": 4,
    "start_time": "2022-05-13T19:03:20.144Z"
   },
   {
    "duration": 13,
    "start_time": "2022-05-13T19:03:21.916Z"
   },
   {
    "duration": 26,
    "start_time": "2022-05-13T19:03:27.979Z"
   },
   {
    "duration": 357,
    "start_time": "2022-05-13T19:04:18.711Z"
   },
   {
    "duration": 14,
    "start_time": "2022-05-13T19:04:39.644Z"
   },
   {
    "duration": 13,
    "start_time": "2022-05-13T19:04:41.482Z"
   },
   {
    "duration": 11,
    "start_time": "2022-05-13T19:05:08.766Z"
   },
   {
    "duration": 6,
    "start_time": "2022-05-13T19:05:14.200Z"
   },
   {
    "duration": 335,
    "start_time": "2022-05-13T19:05:34.213Z"
   },
   {
    "duration": 20,
    "start_time": "2022-05-13T19:05:35.438Z"
   },
   {
    "duration": 79,
    "start_time": "2022-05-13T19:05:57.172Z"
   },
   {
    "duration": 19,
    "start_time": "2022-05-13T19:06:32.092Z"
   },
   {
    "duration": 24,
    "start_time": "2022-05-13T19:06:45.457Z"
   },
   {
    "duration": 18,
    "start_time": "2022-05-13T19:06:56.384Z"
   },
   {
    "duration": 20,
    "start_time": "2022-05-13T19:07:00.962Z"
   },
   {
    "duration": 344,
    "start_time": "2022-05-13T19:07:15.682Z"
   },
   {
    "duration": 294,
    "start_time": "2022-05-13T19:07:55.872Z"
   },
   {
    "duration": 12,
    "start_time": "2022-05-13T19:08:38.248Z"
   },
   {
    "duration": 13,
    "start_time": "2022-05-13T19:09:04.824Z"
   },
   {
    "duration": 1544,
    "start_time": "2022-05-13T19:11:13.380Z"
   },
   {
    "duration": 541,
    "start_time": "2022-05-13T19:11:14.929Z"
   },
   {
    "duration": 18,
    "start_time": "2022-05-13T19:11:15.472Z"
   },
   {
    "duration": 16,
    "start_time": "2022-05-13T19:11:16.373Z"
   },
   {
    "duration": 15,
    "start_time": "2022-05-13T19:11:24.646Z"
   },
   {
    "duration": 12,
    "start_time": "2022-05-13T19:11:26.088Z"
   },
   {
    "duration": 80,
    "start_time": "2022-05-13T19:14:16.718Z"
   },
   {
    "duration": 1520,
    "start_time": "2022-05-13T19:14:24.753Z"
   },
   {
    "duration": 541,
    "start_time": "2022-05-13T19:14:26.276Z"
   },
   {
    "duration": 20,
    "start_time": "2022-05-13T19:14:26.819Z"
   },
   {
    "duration": 36,
    "start_time": "2022-05-13T19:14:26.842Z"
   },
   {
    "duration": 29,
    "start_time": "2022-05-13T19:14:26.881Z"
   },
   {
    "duration": 36,
    "start_time": "2022-05-13T19:14:26.913Z"
   },
   {
    "duration": 22,
    "start_time": "2022-05-13T19:14:26.951Z"
   },
   {
    "duration": 31,
    "start_time": "2022-05-13T19:14:26.975Z"
   },
   {
    "duration": 34,
    "start_time": "2022-05-13T19:14:27.008Z"
   },
   {
    "duration": 27,
    "start_time": "2022-05-13T19:14:27.046Z"
   },
   {
    "duration": 53,
    "start_time": "2022-05-13T19:14:27.075Z"
   },
   {
    "duration": 116,
    "start_time": "2022-05-13T19:14:27.130Z"
   },
   {
    "duration": 27,
    "start_time": "2022-05-13T19:14:27.248Z"
   },
   {
    "duration": 83,
    "start_time": "2022-05-13T19:14:27.277Z"
   },
   {
    "duration": 30,
    "start_time": "2022-05-13T19:14:27.362Z"
   },
   {
    "duration": 35,
    "start_time": "2022-05-13T19:14:27.394Z"
   },
   {
    "duration": 81,
    "start_time": "2022-05-13T19:14:30.209Z"
   },
   {
    "duration": 8,
    "start_time": "2022-05-13T19:14:55.711Z"
   },
   {
    "duration": 15,
    "start_time": "2022-05-13T19:14:59.037Z"
   },
   {
    "duration": 129,
    "start_time": "2022-05-13T19:15:16.150Z"
   },
   {
    "duration": 53,
    "start_time": "2022-05-13T19:15:19.212Z"
   },
   {
    "duration": 65,
    "start_time": "2022-05-13T19:15:42.793Z"
   },
   {
    "duration": 44,
    "start_time": "2022-05-13T19:16:08.622Z"
   },
   {
    "duration": 12,
    "start_time": "2022-05-13T19:16:27.114Z"
   },
   {
    "duration": 5,
    "start_time": "2022-05-13T19:16:35.658Z"
   },
   {
    "duration": 11,
    "start_time": "2022-05-13T19:16:36.600Z"
   },
   {
    "duration": 1730,
    "start_time": "2022-05-13T19:19:06.156Z"
   },
   {
    "duration": 361,
    "start_time": "2022-05-13T19:19:16.865Z"
   },
   {
    "duration": 16,
    "start_time": "2022-05-13T19:20:18.185Z"
   },
   {
    "duration": 11,
    "start_time": "2022-05-13T19:20:35.836Z"
   },
   {
    "duration": 7,
    "start_time": "2022-05-13T19:20:39.007Z"
   },
   {
    "duration": 7,
    "start_time": "2022-05-13T19:20:41.611Z"
   },
   {
    "duration": 337,
    "start_time": "2022-05-13T19:20:47.311Z"
   },
   {
    "duration": 38,
    "start_time": "2022-05-13T19:20:51.436Z"
   },
   {
    "duration": 10,
    "start_time": "2022-05-13T19:21:00.764Z"
   },
   {
    "duration": 19,
    "start_time": "2022-05-13T19:21:06.899Z"
   },
   {
    "duration": 11,
    "start_time": "2022-05-13T19:21:16.752Z"
   },
   {
    "duration": 7,
    "start_time": "2022-05-13T19:21:19.751Z"
   },
   {
    "duration": 297,
    "start_time": "2022-05-13T19:21:22.802Z"
   },
   {
    "duration": 18,
    "start_time": "2022-05-13T19:21:27.851Z"
   },
   {
    "duration": 1909,
    "start_time": "2022-05-13T19:21:34.883Z"
   },
   {
    "duration": 17,
    "start_time": "2022-05-13T19:23:21.038Z"
   },
   {
    "duration": 1819,
    "start_time": "2022-05-13T19:23:32.004Z"
   },
   {
    "duration": 1732,
    "start_time": "2022-05-13T19:23:37.506Z"
   },
   {
    "duration": 1562,
    "start_time": "2022-05-13T19:24:29.918Z"
   },
   {
    "duration": 549,
    "start_time": "2022-05-13T19:24:31.483Z"
   },
   {
    "duration": 18,
    "start_time": "2022-05-13T19:24:32.035Z"
   },
   {
    "duration": 23,
    "start_time": "2022-05-13T19:24:32.056Z"
   },
   {
    "duration": 20,
    "start_time": "2022-05-13T19:24:32.083Z"
   },
   {
    "duration": 21,
    "start_time": "2022-05-13T19:24:32.126Z"
   },
   {
    "duration": 19,
    "start_time": "2022-05-13T19:24:32.150Z"
   },
   {
    "duration": 21,
    "start_time": "2022-05-13T19:24:32.171Z"
   },
   {
    "duration": 35,
    "start_time": "2022-05-13T19:24:32.194Z"
   },
   {
    "duration": 23,
    "start_time": "2022-05-13T19:24:32.234Z"
   },
   {
    "duration": 42,
    "start_time": "2022-05-13T19:24:32.260Z"
   },
   {
    "duration": 106,
    "start_time": "2022-05-13T19:24:32.305Z"
   },
   {
    "duration": 39,
    "start_time": "2022-05-13T19:24:32.414Z"
   },
   {
    "duration": 108,
    "start_time": "2022-05-13T19:24:32.455Z"
   },
   {
    "duration": 30,
    "start_time": "2022-05-13T19:24:32.566Z"
   },
   {
    "duration": 30,
    "start_time": "2022-05-13T19:24:32.599Z"
   },
   {
    "duration": 96,
    "start_time": "2022-05-13T19:24:32.631Z"
   },
   {
    "duration": 8,
    "start_time": "2022-05-13T19:24:32.730Z"
   },
   {
    "duration": 27,
    "start_time": "2022-05-13T19:24:32.740Z"
   },
   {
    "duration": 140,
    "start_time": "2022-05-13T19:24:32.769Z"
   },
   {
    "duration": 56,
    "start_time": "2022-05-13T19:24:32.912Z"
   },
   {
    "duration": 80,
    "start_time": "2022-05-13T19:24:32.971Z"
   },
   {
    "duration": 41,
    "start_time": "2022-05-13T19:24:33.053Z"
   },
   {
    "duration": 32,
    "start_time": "2022-05-13T19:24:33.097Z"
   },
   {
    "duration": 11,
    "start_time": "2022-05-13T19:24:33.131Z"
   },
   {
    "duration": 15,
    "start_time": "2022-05-13T19:24:33.144Z"
   },
   {
    "duration": 379,
    "start_time": "2022-05-13T19:24:33.162Z"
   },
   {
    "duration": 16,
    "start_time": "2022-05-13T19:24:33.546Z"
   },
   {
    "duration": 27,
    "start_time": "2022-05-13T19:24:33.564Z"
   },
   {
    "duration": 17,
    "start_time": "2022-05-13T19:24:33.593Z"
   },
   {
    "duration": 17,
    "start_time": "2022-05-13T19:24:33.612Z"
   },
   {
    "duration": 358,
    "start_time": "2022-05-13T19:24:33.632Z"
   },
   {
    "duration": 52,
    "start_time": "2022-05-13T19:24:33.992Z"
   },
   {
    "duration": 10,
    "start_time": "2022-05-13T19:24:34.046Z"
   },
   {
    "duration": 18,
    "start_time": "2022-05-13T19:24:34.059Z"
   },
   {
    "duration": 47,
    "start_time": "2022-05-13T19:24:34.080Z"
   },
   {
    "duration": 13,
    "start_time": "2022-05-13T19:24:34.130Z"
   },
   {
    "duration": 424,
    "start_time": "2022-05-13T19:24:34.146Z"
   },
   {
    "duration": 19,
    "start_time": "2022-05-13T19:24:34.572Z"
   },
   {
    "duration": 17,
    "start_time": "2022-05-13T19:24:39.438Z"
   },
   {
    "duration": 1626,
    "start_time": "2022-05-13T19:25:02.405Z"
   },
   {
    "duration": 533,
    "start_time": "2022-05-13T19:25:04.036Z"
   },
   {
    "duration": 19,
    "start_time": "2022-05-13T19:25:04.571Z"
   },
   {
    "duration": 34,
    "start_time": "2022-05-13T19:25:04.593Z"
   },
   {
    "duration": 43,
    "start_time": "2022-05-13T19:25:04.638Z"
   },
   {
    "duration": 20,
    "start_time": "2022-05-13T19:25:04.683Z"
   },
   {
    "duration": 16,
    "start_time": "2022-05-13T19:25:04.705Z"
   },
   {
    "duration": 28,
    "start_time": "2022-05-13T19:25:04.723Z"
   },
   {
    "duration": 26,
    "start_time": "2022-05-13T19:25:04.753Z"
   },
   {
    "duration": 31,
    "start_time": "2022-05-13T19:25:04.783Z"
   },
   {
    "duration": 64,
    "start_time": "2022-05-13T19:25:04.817Z"
   },
   {
    "duration": 165,
    "start_time": "2022-05-13T19:25:04.884Z"
   },
   {
    "duration": 37,
    "start_time": "2022-05-13T19:25:05.052Z"
   },
   {
    "duration": 88,
    "start_time": "2022-05-13T19:25:05.092Z"
   },
   {
    "duration": 47,
    "start_time": "2022-05-13T19:25:05.183Z"
   },
   {
    "duration": 17,
    "start_time": "2022-05-13T19:25:05.232Z"
   },
   {
    "duration": 200,
    "start_time": "2022-05-13T19:25:05.251Z"
   },
   {
    "duration": 7,
    "start_time": "2022-05-13T19:25:05.454Z"
   },
   {
    "duration": 16,
    "start_time": "2022-05-13T19:25:05.464Z"
   },
   {
    "duration": 169,
    "start_time": "2022-05-13T19:25:05.483Z"
   },
   {
    "duration": 47,
    "start_time": "2022-05-13T19:25:05.655Z"
   },
   {
    "duration": 99,
    "start_time": "2022-05-13T19:25:05.705Z"
   },
   {
    "duration": 60,
    "start_time": "2022-05-13T19:25:05.807Z"
   },
   {
    "duration": 11,
    "start_time": "2022-05-13T19:25:05.870Z"
   },
   {
    "duration": 9,
    "start_time": "2022-05-13T19:25:05.883Z"
   },
   {
    "duration": 46,
    "start_time": "2022-05-13T19:25:05.894Z"
   },
   {
    "duration": 359,
    "start_time": "2022-05-13T19:25:05.942Z"
   },
   {
    "duration": 33,
    "start_time": "2022-05-13T19:25:06.306Z"
   },
   {
    "duration": 16,
    "start_time": "2022-05-13T19:25:06.342Z"
   },
   {
    "duration": 9,
    "start_time": "2022-05-13T19:25:06.360Z"
   },
   {
    "duration": 9,
    "start_time": "2022-05-13T19:25:06.371Z"
   },
   {
    "duration": 461,
    "start_time": "2022-05-13T19:25:06.382Z"
   },
   {
    "duration": 38,
    "start_time": "2022-05-13T19:25:06.846Z"
   },
   {
    "duration": 10,
    "start_time": "2022-05-13T19:25:06.886Z"
   },
   {
    "duration": 49,
    "start_time": "2022-05-13T19:25:06.898Z"
   },
   {
    "duration": 13,
    "start_time": "2022-05-13T19:25:06.949Z"
   },
   {
    "duration": 8,
    "start_time": "2022-05-13T19:25:06.964Z"
   },
   {
    "duration": 340,
    "start_time": "2022-05-13T19:25:06.975Z"
   },
   {
    "duration": 27,
    "start_time": "2022-05-13T19:25:07.318Z"
   },
   {
    "duration": 353,
    "start_time": "2022-05-13T19:26:29.384Z"
   },
   {
    "duration": 15,
    "start_time": "2022-05-13T19:26:58.382Z"
   },
   {
    "duration": 13,
    "start_time": "2022-05-13T19:27:02.642Z"
   },
   {
    "duration": 7,
    "start_time": "2022-05-13T19:27:10.661Z"
   },
   {
    "duration": 6,
    "start_time": "2022-05-13T19:27:14.450Z"
   },
   {
    "duration": 453,
    "start_time": "2022-05-13T19:27:15.258Z"
   },
   {
    "duration": 41,
    "start_time": "2022-05-13T19:27:16.908Z"
   },
   {
    "duration": 13,
    "start_time": "2022-05-13T19:27:18.823Z"
   },
   {
    "duration": 21,
    "start_time": "2022-05-13T19:27:20.797Z"
   },
   {
    "duration": 11,
    "start_time": "2022-05-13T19:27:25.057Z"
   },
   {
    "duration": 7,
    "start_time": "2022-05-13T19:27:26.446Z"
   },
   {
    "duration": 425,
    "start_time": "2022-05-13T19:27:28.906Z"
   },
   {
    "duration": 27,
    "start_time": "2022-05-13T19:27:30.845Z"
   },
   {
    "duration": 17,
    "start_time": "2022-05-13T19:27:45.050Z"
   },
   {
    "duration": 1988,
    "start_time": "2022-05-13T19:27:51.440Z"
   },
   {
    "duration": 1647,
    "start_time": "2022-05-13T19:28:14.513Z"
   },
   {
    "duration": 551,
    "start_time": "2022-05-13T19:28:16.165Z"
   },
   {
    "duration": 21,
    "start_time": "2022-05-13T19:28:16.718Z"
   },
   {
    "duration": 27,
    "start_time": "2022-05-13T19:28:16.743Z"
   },
   {
    "duration": 19,
    "start_time": "2022-05-13T19:28:16.773Z"
   },
   {
    "duration": 40,
    "start_time": "2022-05-13T19:28:16.794Z"
   },
   {
    "duration": 24,
    "start_time": "2022-05-13T19:28:16.836Z"
   },
   {
    "duration": 16,
    "start_time": "2022-05-13T19:28:16.862Z"
   },
   {
    "duration": 20,
    "start_time": "2022-05-13T19:28:16.881Z"
   },
   {
    "duration": 31,
    "start_time": "2022-05-13T19:28:16.905Z"
   },
   {
    "duration": 44,
    "start_time": "2022-05-13T19:28:16.939Z"
   },
   {
    "duration": 125,
    "start_time": "2022-05-13T19:28:16.985Z"
   },
   {
    "duration": 39,
    "start_time": "2022-05-13T19:28:17.113Z"
   },
   {
    "duration": 74,
    "start_time": "2022-05-13T19:28:17.155Z"
   },
   {
    "duration": 44,
    "start_time": "2022-05-13T19:28:17.232Z"
   },
   {
    "duration": 28,
    "start_time": "2022-05-13T19:28:17.279Z"
   },
   {
    "duration": 109,
    "start_time": "2022-05-13T19:28:17.309Z"
   },
   {
    "duration": 8,
    "start_time": "2022-05-13T19:28:17.421Z"
   },
   {
    "duration": 44,
    "start_time": "2022-05-13T19:28:17.432Z"
   },
   {
    "duration": 152,
    "start_time": "2022-05-13T19:28:17.479Z"
   },
   {
    "duration": 53,
    "start_time": "2022-05-13T19:28:17.634Z"
   },
   {
    "duration": 88,
    "start_time": "2022-05-13T19:28:17.690Z"
   },
   {
    "duration": 62,
    "start_time": "2022-05-13T19:28:17.780Z"
   },
   {
    "duration": 12,
    "start_time": "2022-05-13T19:28:17.844Z"
   },
   {
    "duration": 19,
    "start_time": "2022-05-13T19:28:17.858Z"
   },
   {
    "duration": 25,
    "start_time": "2022-05-13T19:28:17.879Z"
   },
   {
    "duration": 377,
    "start_time": "2022-05-13T19:28:17.906Z"
   },
   {
    "duration": 14,
    "start_time": "2022-05-13T19:28:18.289Z"
   },
   {
    "duration": 47,
    "start_time": "2022-05-13T19:28:18.306Z"
   },
   {
    "duration": 11,
    "start_time": "2022-05-13T19:28:18.355Z"
   },
   {
    "duration": 17,
    "start_time": "2022-05-13T19:28:18.369Z"
   },
   {
    "duration": 417,
    "start_time": "2022-05-13T19:28:18.388Z"
   },
   {
    "duration": 53,
    "start_time": "2022-05-13T19:28:18.809Z"
   },
   {
    "duration": 17,
    "start_time": "2022-05-13T19:28:18.864Z"
   },
   {
    "duration": 55,
    "start_time": "2022-05-13T19:28:18.883Z"
   },
   {
    "duration": 12,
    "start_time": "2022-05-13T19:28:18.941Z"
   },
   {
    "duration": 9,
    "start_time": "2022-05-13T19:28:18.956Z"
   },
   {
    "duration": 342,
    "start_time": "2022-05-13T19:28:18.968Z"
   },
   {
    "duration": 31,
    "start_time": "2022-05-13T19:28:19.313Z"
   },
   {
    "duration": 19,
    "start_time": "2022-05-13T19:28:21.867Z"
   },
   {
    "duration": 7,
    "start_time": "2022-05-13T19:28:31.612Z"
   },
   {
    "duration": 308,
    "start_time": "2022-05-13T19:28:36.199Z"
   },
   {
    "duration": 22,
    "start_time": "2022-05-13T19:29:59.138Z"
   },
   {
    "duration": 2059,
    "start_time": "2022-05-13T19:33:07.424Z"
   },
   {
    "duration": 1563,
    "start_time": "2022-05-13T19:33:22.214Z"
   },
   {
    "duration": 539,
    "start_time": "2022-05-13T19:33:23.780Z"
   },
   {
    "duration": 22,
    "start_time": "2022-05-13T19:33:24.325Z"
   },
   {
    "duration": 18,
    "start_time": "2022-05-13T19:33:24.350Z"
   },
   {
    "duration": 25,
    "start_time": "2022-05-13T19:33:24.370Z"
   },
   {
    "duration": 41,
    "start_time": "2022-05-13T19:33:24.398Z"
   },
   {
    "duration": 11,
    "start_time": "2022-05-13T19:33:24.442Z"
   },
   {
    "duration": 17,
    "start_time": "2022-05-13T19:33:24.456Z"
   },
   {
    "duration": 52,
    "start_time": "2022-05-13T19:33:24.475Z"
   },
   {
    "duration": 15,
    "start_time": "2022-05-13T19:33:24.532Z"
   },
   {
    "duration": 40,
    "start_time": "2022-05-13T19:33:24.549Z"
   },
   {
    "duration": 114,
    "start_time": "2022-05-13T19:33:24.591Z"
   },
   {
    "duration": 48,
    "start_time": "2022-05-13T19:33:24.707Z"
   },
   {
    "duration": 78,
    "start_time": "2022-05-13T19:33:24.757Z"
   },
   {
    "duration": 29,
    "start_time": "2022-05-13T19:33:24.838Z"
   },
   {
    "duration": 27,
    "start_time": "2022-05-13T19:33:24.870Z"
   },
   {
    "duration": 91,
    "start_time": "2022-05-13T19:33:24.900Z"
   },
   {
    "duration": 7,
    "start_time": "2022-05-13T19:33:24.993Z"
   },
   {
    "duration": 37,
    "start_time": "2022-05-13T19:33:25.002Z"
   },
   {
    "duration": 146,
    "start_time": "2022-05-13T19:33:25.041Z"
   },
   {
    "duration": 57,
    "start_time": "2022-05-13T19:33:25.189Z"
   },
   {
    "duration": 62,
    "start_time": "2022-05-13T19:33:25.248Z"
   },
   {
    "duration": 48,
    "start_time": "2022-05-13T19:33:25.330Z"
   },
   {
    "duration": 10,
    "start_time": "2022-05-13T19:33:25.380Z"
   },
   {
    "duration": 9,
    "start_time": "2022-05-13T19:33:25.392Z"
   },
   {
    "duration": 44,
    "start_time": "2022-05-13T19:33:25.403Z"
   },
   {
    "duration": 350,
    "start_time": "2022-05-13T19:33:25.449Z"
   },
   {
    "duration": 25,
    "start_time": "2022-05-13T19:33:25.805Z"
   },
   {
    "duration": 15,
    "start_time": "2022-05-13T19:33:25.832Z"
   },
   {
    "duration": 5,
    "start_time": "2022-05-13T19:33:25.849Z"
   },
   {
    "duration": 8,
    "start_time": "2022-05-13T19:33:25.856Z"
   },
   {
    "duration": 380,
    "start_time": "2022-05-13T19:33:25.866Z"
   },
   {
    "duration": 37,
    "start_time": "2022-05-13T19:33:26.248Z"
   },
   {
    "duration": 14,
    "start_time": "2022-05-13T19:33:26.287Z"
   },
   {
    "duration": 43,
    "start_time": "2022-05-13T19:33:26.303Z"
   },
   {
    "duration": 12,
    "start_time": "2022-05-13T19:33:26.348Z"
   },
   {
    "duration": 9,
    "start_time": "2022-05-13T19:33:26.362Z"
   },
   {
    "duration": 327,
    "start_time": "2022-05-13T19:33:26.374Z"
   },
   {
    "duration": 35,
    "start_time": "2022-05-13T19:33:26.703Z"
   },
   {
    "duration": 61,
    "start_time": "2022-05-13T19:33:50.191Z"
   },
   {
    "duration": 4068,
    "start_time": "2022-05-13T19:34:19.160Z"
   },
   {
    "duration": 26,
    "start_time": "2022-05-13T19:35:11.618Z"
   },
   {
    "duration": 13,
    "start_time": "2022-05-13T19:35:24.078Z"
   },
   {
    "duration": 19,
    "start_time": "2022-05-13T19:35:42.765Z"
   },
   {
    "duration": 77,
    "start_time": "2022-05-13T19:38:55.438Z"
   },
   {
    "duration": 94,
    "start_time": "2022-05-13T19:39:18.560Z"
   },
   {
    "duration": 82,
    "start_time": "2022-05-13T19:39:44.255Z"
   },
   {
    "duration": 81,
    "start_time": "2022-05-13T19:39:57.195Z"
   },
   {
    "duration": 81,
    "start_time": "2022-05-13T19:40:05.150Z"
   },
   {
    "duration": 79,
    "start_time": "2022-05-13T19:40:08.267Z"
   },
   {
    "duration": 8,
    "start_time": "2022-05-13T19:41:10.955Z"
   },
   {
    "duration": 7,
    "start_time": "2022-05-13T19:41:13.524Z"
   },
   {
    "duration": 12,
    "start_time": "2022-05-13T19:41:18.070Z"
   },
   {
    "duration": 7,
    "start_time": "2022-05-13T19:41:19.271Z"
   },
   {
    "duration": 336,
    "start_time": "2022-05-13T19:41:20.397Z"
   },
   {
    "duration": 16,
    "start_time": "2022-05-13T19:41:24.316Z"
   },
   {
    "duration": 20,
    "start_time": "2022-05-13T19:41:26.506Z"
   },
   {
    "duration": 12,
    "start_time": "2022-05-13T19:41:33.475Z"
   },
   {
    "duration": 7,
    "start_time": "2022-05-13T19:41:36.110Z"
   },
   {
    "duration": 323,
    "start_time": "2022-05-13T19:41:37.036Z"
   },
   {
    "duration": 21,
    "start_time": "2022-05-13T19:41:40.066Z"
   },
   {
    "duration": 13,
    "start_time": "2022-05-13T19:44:00.859Z"
   },
   {
    "duration": 17,
    "start_time": "2022-05-13T19:44:27.496Z"
   },
   {
    "duration": 7,
    "start_time": "2022-05-13T19:44:43.372Z"
   },
   {
    "duration": 394,
    "start_time": "2022-05-13T19:44:44.760Z"
   },
   {
    "duration": 21,
    "start_time": "2022-05-13T19:45:19.041Z"
   },
   {
    "duration": 16,
    "start_time": "2022-05-13T19:50:44.249Z"
   },
   {
    "duration": 1661,
    "start_time": "2022-05-13T19:51:49.694Z"
   },
   {
    "duration": 545,
    "start_time": "2022-05-13T19:51:51.357Z"
   },
   {
    "duration": 22,
    "start_time": "2022-05-13T19:51:51.904Z"
   },
   {
    "duration": 17,
    "start_time": "2022-05-13T19:51:51.929Z"
   },
   {
    "duration": 15,
    "start_time": "2022-05-13T19:51:51.949Z"
   },
   {
    "duration": 14,
    "start_time": "2022-05-13T19:51:51.966Z"
   },
   {
    "duration": 52,
    "start_time": "2022-05-13T19:51:51.982Z"
   },
   {
    "duration": 17,
    "start_time": "2022-05-13T19:51:52.037Z"
   },
   {
    "duration": 17,
    "start_time": "2022-05-13T19:51:52.056Z"
   },
   {
    "duration": 17,
    "start_time": "2022-05-13T19:51:52.078Z"
   },
   {
    "duration": 71,
    "start_time": "2022-05-13T19:51:52.097Z"
   },
   {
    "duration": 131,
    "start_time": "2022-05-13T19:51:52.171Z"
   },
   {
    "duration": 38,
    "start_time": "2022-05-13T19:51:52.305Z"
   },
   {
    "duration": 56,
    "start_time": "2022-05-13T19:51:52.346Z"
   },
   {
    "duration": 59,
    "start_time": "2022-05-13T19:51:52.404Z"
   },
   {
    "duration": 14,
    "start_time": "2022-05-13T19:51:52.466Z"
   },
   {
    "duration": 111,
    "start_time": "2022-05-13T19:51:52.483Z"
   },
   {
    "duration": 7,
    "start_time": "2022-05-13T19:51:52.596Z"
   },
   {
    "duration": 38,
    "start_time": "2022-05-13T19:51:52.605Z"
   },
   {
    "duration": 136,
    "start_time": "2022-05-13T19:51:52.646Z"
   },
   {
    "duration": 81,
    "start_time": "2022-05-13T19:51:52.785Z"
   },
   {
    "duration": 90,
    "start_time": "2022-05-13T19:51:52.868Z"
   },
   {
    "duration": 69,
    "start_time": "2022-05-13T19:51:52.960Z"
   },
   {
    "duration": 12,
    "start_time": "2022-05-13T19:51:53.032Z"
   },
   {
    "duration": 10,
    "start_time": "2022-05-13T19:51:53.047Z"
   },
   {
    "duration": 12,
    "start_time": "2022-05-13T19:51:53.060Z"
   },
   {
    "duration": 392,
    "start_time": "2022-05-13T19:51:53.075Z"
   },
   {
    "duration": 16,
    "start_time": "2022-05-13T19:51:53.475Z"
   },
   {
    "duration": 37,
    "start_time": "2022-05-13T19:51:53.493Z"
   },
   {
    "duration": 21,
    "start_time": "2022-05-13T19:51:53.534Z"
   },
   {
    "duration": 13,
    "start_time": "2022-05-13T19:51:53.557Z"
   },
   {
    "duration": 444,
    "start_time": "2022-05-13T19:51:53.572Z"
   },
   {
    "duration": 40,
    "start_time": "2022-05-13T19:51:54.018Z"
   },
   {
    "duration": 10,
    "start_time": "2022-05-13T19:51:54.060Z"
   },
   {
    "duration": 54,
    "start_time": "2022-05-13T19:51:54.073Z"
   },
   {
    "duration": 13,
    "start_time": "2022-05-13T19:51:54.129Z"
   },
   {
    "duration": 13,
    "start_time": "2022-05-13T19:51:54.145Z"
   },
   {
    "duration": 330,
    "start_time": "2022-05-13T19:51:54.160Z"
   },
   {
    "duration": 19,
    "start_time": "2022-05-13T19:51:54.492Z"
   },
   {
    "duration": 16,
    "start_time": "2022-05-13T19:51:54.528Z"
   },
   {
    "duration": 7,
    "start_time": "2022-05-13T19:51:54.546Z"
   },
   {
    "duration": 315,
    "start_time": "2022-05-13T19:51:54.555Z"
   },
   {
    "duration": 20,
    "start_time": "2022-05-13T19:51:54.872Z"
   },
   {
    "duration": 107,
    "start_time": "2022-05-13T19:51:54.894Z"
   },
   {
    "duration": 8,
    "start_time": "2022-05-13T19:51:55.003Z"
   },
   {
    "duration": 8,
    "start_time": "2022-05-13T19:51:55.032Z"
   },
   {
    "duration": 13,
    "start_time": "2022-05-13T19:51:55.042Z"
   },
   {
    "duration": 9,
    "start_time": "2022-05-13T19:51:55.057Z"
   },
   {
    "duration": 372,
    "start_time": "2022-05-13T19:51:55.068Z"
   },
   {
    "duration": 13,
    "start_time": "2022-05-13T19:51:55.442Z"
   },
   {
    "duration": 19,
    "start_time": "2022-05-13T19:51:55.457Z"
   },
   {
    "duration": 12,
    "start_time": "2022-05-13T19:51:55.478Z"
   },
   {
    "duration": 41,
    "start_time": "2022-05-13T19:51:55.492Z"
   },
   {
    "duration": 448,
    "start_time": "2022-05-13T19:51:55.536Z"
   },
   {
    "duration": 41,
    "start_time": "2022-05-13T19:51:55.986Z"
   },
   {
    "duration": 17,
    "start_time": "2022-05-13T19:51:56.030Z"
   },
   {
    "duration": 8,
    "start_time": "2022-05-13T19:51:56.050Z"
   },
   {
    "duration": 537,
    "start_time": "2022-05-13T19:51:56.060Z"
   },
   {
    "duration": 32,
    "start_time": "2022-05-13T19:51:56.599Z"
   },
   {
    "duration": 25,
    "start_time": "2022-05-13T19:52:13.264Z"
   },
   {
    "duration": 18,
    "start_time": "2022-05-13T19:52:25.759Z"
   },
   {
    "duration": 19,
    "start_time": "2022-05-13T19:52:45.266Z"
   },
   {
    "duration": 303,
    "start_time": "2022-05-13T19:53:35.936Z"
   },
   {
    "duration": 249,
    "start_time": "2022-05-13T20:47:49.467Z"
   },
   {
    "duration": 15,
    "start_time": "2022-05-13T20:48:34.864Z"
   },
   {
    "duration": 11,
    "start_time": "2022-05-13T20:49:46.306Z"
   },
   {
    "duration": 14,
    "start_time": "2022-05-13T20:50:03.622Z"
   },
   {
    "duration": 11,
    "start_time": "2022-05-13T20:55:13.499Z"
   },
   {
    "duration": 8,
    "start_time": "2022-05-13T20:57:27.517Z"
   },
   {
    "duration": 8,
    "start_time": "2022-05-13T20:57:36.178Z"
   },
   {
    "duration": 9,
    "start_time": "2022-05-13T20:58:17.856Z"
   },
   {
    "duration": 9,
    "start_time": "2022-05-13T20:58:33.152Z"
   },
   {
    "duration": 10,
    "start_time": "2022-05-13T20:59:41.093Z"
   },
   {
    "duration": 10,
    "start_time": "2022-05-13T21:04:25.940Z"
   },
   {
    "duration": 10,
    "start_time": "2022-05-13T21:13:12.074Z"
   },
   {
    "duration": 53,
    "start_time": "2022-05-13T21:13:17.352Z"
   },
   {
    "duration": 13,
    "start_time": "2022-05-13T21:14:44.298Z"
   },
   {
    "duration": 5,
    "start_time": "2022-05-13T21:18:09.993Z"
   },
   {
    "duration": 6,
    "start_time": "2022-05-13T21:18:33.687Z"
   },
   {
    "duration": 6,
    "start_time": "2022-05-13T21:19:21.815Z"
   },
   {
    "duration": 1932,
    "start_time": "2022-05-13T21:19:39.241Z"
   },
   {
    "duration": 6,
    "start_time": "2022-05-13T21:19:56.954Z"
   },
   {
    "duration": 6,
    "start_time": "2022-05-13T21:20:10.123Z"
   },
   {
    "duration": 6,
    "start_time": "2022-05-13T21:22:37.405Z"
   },
   {
    "duration": 5,
    "start_time": "2022-05-13T21:24:21.302Z"
   },
   {
    "duration": 6,
    "start_time": "2022-05-13T21:24:30.818Z"
   },
   {
    "duration": 292,
    "start_time": "2022-05-13T21:26:09.514Z"
   },
   {
    "duration": 11,
    "start_time": "2022-05-13T21:26:32.434Z"
   },
   {
    "duration": 9,
    "start_time": "2022-05-13T21:27:02.902Z"
   },
   {
    "duration": 6,
    "start_time": "2022-05-13T21:27:09.568Z"
   },
   {
    "duration": 1622,
    "start_time": "2022-05-13T22:10:49.139Z"
   },
   {
    "duration": 529,
    "start_time": "2022-05-13T22:10:50.764Z"
   },
   {
    "duration": 17,
    "start_time": "2022-05-13T22:10:51.295Z"
   },
   {
    "duration": 21,
    "start_time": "2022-05-13T22:10:51.325Z"
   },
   {
    "duration": 17,
    "start_time": "2022-05-13T22:10:51.348Z"
   },
   {
    "duration": 15,
    "start_time": "2022-05-13T22:10:51.368Z"
   },
   {
    "duration": 45,
    "start_time": "2022-05-13T22:10:51.385Z"
   },
   {
    "duration": 22,
    "start_time": "2022-05-13T22:10:51.433Z"
   },
   {
    "duration": 18,
    "start_time": "2022-05-13T22:10:51.458Z"
   },
   {
    "duration": 13,
    "start_time": "2022-05-13T22:10:51.480Z"
   },
   {
    "duration": 71,
    "start_time": "2022-05-13T22:10:51.495Z"
   },
   {
    "duration": 115,
    "start_time": "2022-05-13T22:10:51.568Z"
   },
   {
    "duration": 26,
    "start_time": "2022-05-13T22:10:51.685Z"
   },
   {
    "duration": 109,
    "start_time": "2022-05-13T22:10:51.729Z"
   },
   {
    "duration": 45,
    "start_time": "2022-05-13T22:10:51.841Z"
   },
   {
    "duration": 16,
    "start_time": "2022-05-13T22:10:51.889Z"
   },
   {
    "duration": 149,
    "start_time": "2022-05-13T22:10:51.908Z"
   },
   {
    "duration": 8,
    "start_time": "2022-05-13T22:10:52.060Z"
   },
   {
    "duration": 20,
    "start_time": "2022-05-13T22:10:52.070Z"
   },
   {
    "duration": 163,
    "start_time": "2022-05-13T22:10:52.093Z"
   },
   {
    "duration": 50,
    "start_time": "2022-05-13T22:10:52.258Z"
   },
   {
    "duration": 66,
    "start_time": "2022-05-13T22:10:52.327Z"
   },
   {
    "duration": 63,
    "start_time": "2022-05-13T22:10:52.396Z"
   },
   {
    "duration": 13,
    "start_time": "2022-05-13T22:10:52.461Z"
   },
   {
    "duration": 6,
    "start_time": "2022-05-13T22:10:52.476Z"
   },
   {
    "duration": 56,
    "start_time": "2022-05-13T22:10:52.485Z"
   },
   {
    "duration": 360,
    "start_time": "2022-05-13T22:10:52.545Z"
   },
   {
    "duration": 31,
    "start_time": "2022-05-13T22:10:52.911Z"
   },
   {
    "duration": 10,
    "start_time": "2022-05-13T22:10:52.945Z"
   },
   {
    "duration": 6,
    "start_time": "2022-05-13T22:10:52.957Z"
   },
   {
    "duration": 7,
    "start_time": "2022-05-13T22:10:52.965Z"
   },
   {
    "duration": 368,
    "start_time": "2022-05-13T22:10:52.974Z"
   },
   {
    "duration": 38,
    "start_time": "2022-05-13T22:10:53.344Z"
   },
   {
    "duration": 12,
    "start_time": "2022-05-13T22:10:53.385Z"
   },
   {
    "duration": 23,
    "start_time": "2022-05-13T22:10:53.428Z"
   },
   {
    "duration": 11,
    "start_time": "2022-05-13T22:10:53.454Z"
   },
   {
    "duration": 7,
    "start_time": "2022-05-13T22:10:53.468Z"
   },
   {
    "duration": 328,
    "start_time": "2022-05-13T22:10:53.477Z"
   },
   {
    "duration": 32,
    "start_time": "2022-05-13T22:10:53.807Z"
   },
   {
    "duration": 16,
    "start_time": "2022-05-13T22:10:53.841Z"
   },
   {
    "duration": 7,
    "start_time": "2022-05-13T22:10:53.860Z"
   },
   {
    "duration": 422,
    "start_time": "2022-05-13T22:10:53.869Z"
   },
   {
    "duration": 38,
    "start_time": "2022-05-13T22:10:54.294Z"
   },
   {
    "duration": 127,
    "start_time": "2022-05-13T22:10:54.334Z"
   },
   {
    "duration": 9,
    "start_time": "2022-05-13T22:10:54.464Z"
   },
   {
    "duration": 19,
    "start_time": "2022-05-13T22:10:54.476Z"
   },
   {
    "duration": 32,
    "start_time": "2022-05-13T22:10:54.498Z"
   },
   {
    "duration": 7,
    "start_time": "2022-05-13T22:10:54.533Z"
   },
   {
    "duration": 367,
    "start_time": "2022-05-13T22:10:54.543Z"
   },
   {
    "duration": 23,
    "start_time": "2022-05-13T22:10:54.912Z"
   },
   {
    "duration": 32,
    "start_time": "2022-05-13T22:10:54.937Z"
   },
   {
    "duration": 11,
    "start_time": "2022-05-13T22:10:54.972Z"
   },
   {
    "duration": 6,
    "start_time": "2022-05-13T22:10:54.986Z"
   },
   {
    "duration": 430,
    "start_time": "2022-05-13T22:10:54.994Z"
   },
   {
    "duration": 23,
    "start_time": "2022-05-13T22:10:55.427Z"
   },
   {
    "duration": 15,
    "start_time": "2022-05-13T22:10:55.452Z"
   },
   {
    "duration": 7,
    "start_time": "2022-05-13T22:10:55.470Z"
   },
   {
    "duration": 560,
    "start_time": "2022-05-13T22:10:55.480Z"
   },
   {
    "duration": 19,
    "start_time": "2022-05-13T22:10:56.043Z"
   },
   {
    "duration": 24,
    "start_time": "2022-05-13T22:10:56.064Z"
   },
   {
    "duration": 42,
    "start_time": "2022-05-13T22:10:56.091Z"
   },
   {
    "duration": 21,
    "start_time": "2022-05-13T22:10:56.135Z"
   },
   {
    "duration": 326,
    "start_time": "2022-05-13T22:10:56.159Z"
   },
   {
    "duration": 8,
    "start_time": "2022-05-13T22:10:56.487Z"
   },
   {
    "duration": 8,
    "start_time": "2022-05-13T22:10:56.498Z"
   },
   {
    "duration": 13,
    "start_time": "2022-05-13T22:10:56.530Z"
   },
   {
    "duration": 10,
    "start_time": "2022-05-13T22:10:56.545Z"
   },
   {
    "duration": 9,
    "start_time": "2022-05-13T22:10:56.558Z"
   },
   {
    "duration": 5,
    "start_time": "2022-05-13T22:11:24.422Z"
   },
   {
    "duration": 1576,
    "start_time": "2022-05-13T22:11:37.501Z"
   },
   {
    "duration": 583,
    "start_time": "2022-05-13T22:11:39.079Z"
   },
   {
    "duration": 24,
    "start_time": "2022-05-13T22:11:39.665Z"
   },
   {
    "duration": 40,
    "start_time": "2022-05-13T22:11:39.693Z"
   },
   {
    "duration": 24,
    "start_time": "2022-05-13T22:11:39.736Z"
   },
   {
    "duration": 20,
    "start_time": "2022-05-13T22:11:39.763Z"
   },
   {
    "duration": 42,
    "start_time": "2022-05-13T22:11:39.786Z"
   },
   {
    "duration": 16,
    "start_time": "2022-05-13T22:11:39.831Z"
   },
   {
    "duration": 19,
    "start_time": "2022-05-13T22:11:39.850Z"
   },
   {
    "duration": 13,
    "start_time": "2022-05-13T22:11:39.873Z"
   },
   {
    "duration": 83,
    "start_time": "2022-05-13T22:11:39.888Z"
   },
   {
    "duration": 177,
    "start_time": "2022-05-13T22:11:39.973Z"
   },
   {
    "duration": 43,
    "start_time": "2022-05-13T22:11:40.152Z"
   },
   {
    "duration": 118,
    "start_time": "2022-05-13T22:11:40.198Z"
   },
   {
    "duration": 39,
    "start_time": "2022-05-13T22:11:40.324Z"
   },
   {
    "duration": 13,
    "start_time": "2022-05-13T22:11:40.365Z"
   },
   {
    "duration": 113,
    "start_time": "2022-05-13T22:11:40.380Z"
   },
   {
    "duration": 8,
    "start_time": "2022-05-13T22:11:40.496Z"
   },
   {
    "duration": 41,
    "start_time": "2022-05-13T22:11:40.507Z"
   },
   {
    "duration": 162,
    "start_time": "2022-05-13T22:11:40.550Z"
   },
   {
    "duration": 67,
    "start_time": "2022-05-13T22:11:40.714Z"
   },
   {
    "duration": 106,
    "start_time": "2022-05-13T22:11:40.784Z"
   },
   {
    "duration": 62,
    "start_time": "2022-05-13T22:11:40.893Z"
   },
   {
    "duration": 13,
    "start_time": "2022-05-13T22:11:40.958Z"
   },
   {
    "duration": 10,
    "start_time": "2022-05-13T22:11:40.973Z"
   },
   {
    "duration": 13,
    "start_time": "2022-05-13T22:11:40.986Z"
   },
   {
    "duration": 377,
    "start_time": "2022-05-13T22:11:41.025Z"
   },
   {
    "duration": 26,
    "start_time": "2022-05-13T22:11:41.408Z"
   },
   {
    "duration": 24,
    "start_time": "2022-05-13T22:11:41.437Z"
   },
   {
    "duration": 8,
    "start_time": "2022-05-13T22:11:41.463Z"
   },
   {
    "duration": 8,
    "start_time": "2022-05-13T22:11:41.474Z"
   },
   {
    "duration": 468,
    "start_time": "2022-05-13T22:11:41.484Z"
   },
   {
    "duration": 36,
    "start_time": "2022-05-13T22:11:41.955Z"
   },
   {
    "duration": 44,
    "start_time": "2022-05-13T22:11:41.994Z"
   },
   {
    "duration": 23,
    "start_time": "2022-05-13T22:11:42.040Z"
   },
   {
    "duration": 16,
    "start_time": "2022-05-13T22:11:42.066Z"
   },
   {
    "duration": 10,
    "start_time": "2022-05-13T22:11:42.085Z"
   },
   {
    "duration": 428,
    "start_time": "2022-05-13T22:11:42.101Z"
   },
   {
    "duration": 23,
    "start_time": "2022-05-13T22:11:42.532Z"
   },
   {
    "duration": 18,
    "start_time": "2022-05-13T22:11:42.558Z"
   },
   {
    "duration": 8,
    "start_time": "2022-05-13T22:11:42.578Z"
   },
   {
    "duration": 307,
    "start_time": "2022-05-13T22:11:42.627Z"
   },
   {
    "duration": 20,
    "start_time": "2022-05-13T22:11:42.936Z"
   },
   {
    "duration": 104,
    "start_time": "2022-05-13T22:11:42.958Z"
   },
   {
    "duration": 9,
    "start_time": "2022-05-13T22:11:43.064Z"
   },
   {
    "duration": 9,
    "start_time": "2022-05-13T22:11:43.075Z"
   },
   {
    "duration": 11,
    "start_time": "2022-05-13T22:11:43.087Z"
   },
   {
    "duration": 14,
    "start_time": "2022-05-13T22:11:43.125Z"
   },
   {
    "duration": 348,
    "start_time": "2022-05-13T22:11:43.142Z"
   },
   {
    "duration": 14,
    "start_time": "2022-05-13T22:11:43.493Z"
   },
   {
    "duration": 23,
    "start_time": "2022-05-13T22:11:43.527Z"
   },
   {
    "duration": 12,
    "start_time": "2022-05-13T22:11:43.552Z"
   },
   {
    "duration": 6,
    "start_time": "2022-05-13T22:11:43.566Z"
   },
   {
    "duration": 364,
    "start_time": "2022-05-13T22:11:43.575Z"
   },
   {
    "duration": 19,
    "start_time": "2022-05-13T22:11:43.942Z"
   },
   {
    "duration": 18,
    "start_time": "2022-05-13T22:11:43.963Z"
   },
   {
    "duration": 6,
    "start_time": "2022-05-13T22:11:43.984Z"
   },
   {
    "duration": 427,
    "start_time": "2022-05-13T22:11:43.992Z"
   },
   {
    "duration": 23,
    "start_time": "2022-05-13T22:11:44.421Z"
   },
   {
    "duration": 22,
    "start_time": "2022-05-13T22:11:44.446Z"
   },
   {
    "duration": 17,
    "start_time": "2022-05-13T22:11:44.470Z"
   },
   {
    "duration": 21,
    "start_time": "2022-05-13T22:11:44.529Z"
   },
   {
    "duration": 311,
    "start_time": "2022-05-13T22:11:44.552Z"
   },
   {
    "duration": 10,
    "start_time": "2022-05-13T22:11:44.866Z"
   },
   {
    "duration": 7,
    "start_time": "2022-05-13T22:11:44.881Z"
   },
   {
    "duration": 45,
    "start_time": "2022-05-13T22:11:44.891Z"
   },
   {
    "duration": 11,
    "start_time": "2022-05-13T22:11:44.939Z"
   },
   {
    "duration": 12,
    "start_time": "2022-05-13T22:11:44.952Z"
   },
   {
    "duration": 1550,
    "start_time": "2022-05-13T22:21:26.409Z"
   },
   {
    "duration": 541,
    "start_time": "2022-05-13T22:21:27.962Z"
   },
   {
    "duration": 22,
    "start_time": "2022-05-13T22:21:28.506Z"
   },
   {
    "duration": 18,
    "start_time": "2022-05-13T22:21:28.534Z"
   },
   {
    "duration": 16,
    "start_time": "2022-05-13T22:21:28.554Z"
   },
   {
    "duration": 16,
    "start_time": "2022-05-13T22:21:28.572Z"
   },
   {
    "duration": 53,
    "start_time": "2022-05-13T22:21:28.590Z"
   },
   {
    "duration": 15,
    "start_time": "2022-05-13T22:21:28.646Z"
   },
   {
    "duration": 17,
    "start_time": "2022-05-13T22:21:28.663Z"
   },
   {
    "duration": 48,
    "start_time": "2022-05-13T22:21:28.684Z"
   },
   {
    "duration": 36,
    "start_time": "2022-05-13T22:21:28.734Z"
   },
   {
    "duration": 115,
    "start_time": "2022-05-13T22:21:28.773Z"
   },
   {
    "duration": 46,
    "start_time": "2022-05-13T22:21:28.890Z"
   },
   {
    "duration": 61,
    "start_time": "2022-05-13T22:21:28.939Z"
   },
   {
    "duration": 59,
    "start_time": "2022-05-13T22:21:29.002Z"
   },
   {
    "duration": 12,
    "start_time": "2022-05-13T22:21:29.063Z"
   },
   {
    "duration": 1574,
    "start_time": "2022-05-13T22:21:53.052Z"
   },
   {
    "duration": 563,
    "start_time": "2022-05-13T22:21:54.629Z"
   },
   {
    "duration": 18,
    "start_time": "2022-05-13T22:21:55.195Z"
   },
   {
    "duration": 21,
    "start_time": "2022-05-13T22:21:55.224Z"
   },
   {
    "duration": 16,
    "start_time": "2022-05-13T22:21:55.248Z"
   },
   {
    "duration": 15,
    "start_time": "2022-05-13T22:21:55.267Z"
   },
   {
    "duration": 55,
    "start_time": "2022-05-13T22:21:55.285Z"
   },
   {
    "duration": 22,
    "start_time": "2022-05-13T22:21:55.343Z"
   },
   {
    "duration": 38,
    "start_time": "2022-05-13T22:21:55.368Z"
   },
   {
    "duration": 35,
    "start_time": "2022-05-13T22:21:55.412Z"
   },
   {
    "duration": 34,
    "start_time": "2022-05-13T22:21:55.449Z"
   },
   {
    "duration": 126,
    "start_time": "2022-05-13T22:21:55.485Z"
   },
   {
    "duration": 38,
    "start_time": "2022-05-13T22:21:55.614Z"
   },
   {
    "duration": 86,
    "start_time": "2022-05-13T22:21:55.655Z"
   },
   {
    "duration": 43,
    "start_time": "2022-05-13T22:21:55.745Z"
   },
   {
    "duration": 34,
    "start_time": "2022-05-13T22:21:55.791Z"
   },
   {
    "duration": 140,
    "start_time": "2022-05-13T22:21:55.834Z"
   },
   {
    "duration": 9,
    "start_time": "2022-05-13T22:21:55.977Z"
   },
   {
    "duration": 44,
    "start_time": "2022-05-13T22:21:55.989Z"
   },
   {
    "duration": 140,
    "start_time": "2022-05-13T22:21:56.036Z"
   },
   {
    "duration": 73,
    "start_time": "2022-05-13T22:21:56.179Z"
   },
   {
    "duration": 92,
    "start_time": "2022-05-13T22:21:56.254Z"
   },
   {
    "duration": 41,
    "start_time": "2022-05-13T22:21:56.349Z"
   },
   {
    "duration": 36,
    "start_time": "2022-05-13T22:21:56.393Z"
   },
   {
    "duration": 19,
    "start_time": "2022-05-13T22:21:56.432Z"
   },
   {
    "duration": 16,
    "start_time": "2022-05-13T22:21:56.454Z"
   },
   {
    "duration": 373,
    "start_time": "2022-05-13T22:21:56.472Z"
   },
   {
    "duration": 19,
    "start_time": "2022-05-13T22:21:56.852Z"
   },
   {
    "duration": 15,
    "start_time": "2022-05-13T22:21:56.875Z"
   },
   {
    "duration": 40,
    "start_time": "2022-05-13T22:21:56.893Z"
   },
   {
    "duration": 16,
    "start_time": "2022-05-13T22:21:56.935Z"
   },
   {
    "duration": 441,
    "start_time": "2022-05-13T22:21:56.954Z"
   },
   {
    "duration": 48,
    "start_time": "2022-05-13T22:21:57.398Z"
   },
   {
    "duration": 18,
    "start_time": "2022-05-13T22:21:57.449Z"
   },
   {
    "duration": 29,
    "start_time": "2022-05-13T22:21:57.470Z"
   },
   {
    "duration": 38,
    "start_time": "2022-05-13T22:21:57.502Z"
   },
   {
    "duration": 13,
    "start_time": "2022-05-13T22:21:57.552Z"
   },
   {
    "duration": 318,
    "start_time": "2022-05-13T22:21:57.567Z"
   },
   {
    "duration": 19,
    "start_time": "2022-05-13T22:21:57.887Z"
   },
   {
    "duration": 19,
    "start_time": "2022-05-13T22:21:57.925Z"
   },
   {
    "duration": 7,
    "start_time": "2022-05-13T22:21:57.949Z"
   },
   {
    "duration": 401,
    "start_time": "2022-05-13T22:21:57.958Z"
   },
   {
    "duration": 27,
    "start_time": "2022-05-13T22:21:58.362Z"
   },
   {
    "duration": 155,
    "start_time": "2022-05-13T22:21:58.393Z"
   },
   {
    "duration": 14,
    "start_time": "2022-05-13T22:21:58.551Z"
   },
   {
    "duration": 10,
    "start_time": "2022-05-13T22:21:58.569Z"
   },
   {
    "duration": 13,
    "start_time": "2022-05-13T22:21:58.581Z"
   },
   {
    "duration": 10,
    "start_time": "2022-05-13T22:21:58.629Z"
   },
   {
    "duration": 348,
    "start_time": "2022-05-13T22:21:58.641Z"
   },
   {
    "duration": 32,
    "start_time": "2022-05-13T22:21:58.992Z"
   },
   {
    "duration": 22,
    "start_time": "2022-05-13T22:21:59.030Z"
   },
   {
    "duration": 18,
    "start_time": "2022-05-13T22:21:59.054Z"
   },
   {
    "duration": 14,
    "start_time": "2022-05-13T22:21:59.074Z"
   },
   {
    "duration": 383,
    "start_time": "2022-05-13T22:21:59.090Z"
   },
   {
    "duration": 24,
    "start_time": "2022-05-13T22:21:59.476Z"
   },
   {
    "duration": 46,
    "start_time": "2022-05-13T22:21:59.503Z"
   },
   {
    "duration": 8,
    "start_time": "2022-05-13T22:21:59.552Z"
   },
   {
    "duration": 411,
    "start_time": "2022-05-13T22:21:59.563Z"
   },
   {
    "duration": 19,
    "start_time": "2022-05-13T22:21:59.977Z"
   },
   {
    "duration": 43,
    "start_time": "2022-05-13T22:21:59.998Z"
   },
   {
    "duration": 21,
    "start_time": "2022-05-13T22:22:00.044Z"
   },
   {
    "duration": 23,
    "start_time": "2022-05-13T22:22:00.068Z"
   },
   {
    "duration": 338,
    "start_time": "2022-05-13T22:22:00.094Z"
   },
   {
    "duration": 12,
    "start_time": "2022-05-13T22:22:00.435Z"
   },
   {
    "duration": 33,
    "start_time": "2022-05-13T22:22:00.452Z"
   },
   {
    "duration": 27,
    "start_time": "2022-05-13T22:22:00.487Z"
   },
   {
    "duration": 49,
    "start_time": "2022-05-13T22:22:00.517Z"
   },
   {
    "duration": 17,
    "start_time": "2022-05-13T22:22:00.569Z"
   },
   {
    "duration": 1291,
    "start_time": "2022-05-14T16:25:18.872Z"
   },
   {
    "duration": 445,
    "start_time": "2022-05-14T16:25:20.166Z"
   },
   {
    "duration": 12,
    "start_time": "2022-05-14T16:25:20.613Z"
   },
   {
    "duration": 18,
    "start_time": "2022-05-14T16:25:20.633Z"
   },
   {
    "duration": 13,
    "start_time": "2022-05-14T16:25:20.653Z"
   },
   {
    "duration": 16,
    "start_time": "2022-05-14T16:25:20.667Z"
   },
   {
    "duration": 39,
    "start_time": "2022-05-14T16:25:20.685Z"
   },
   {
    "duration": 54,
    "start_time": "2022-05-14T16:25:20.742Z"
   },
   {
    "duration": 14,
    "start_time": "2022-05-14T16:25:20.798Z"
   },
   {
    "duration": 20,
    "start_time": "2022-05-14T16:25:20.815Z"
   },
   {
    "duration": 38,
    "start_time": "2022-05-14T16:25:20.837Z"
   },
   {
    "duration": 74,
    "start_time": "2022-05-14T16:25:20.877Z"
   },
   {
    "duration": 20,
    "start_time": "2022-05-14T16:25:20.953Z"
   },
   {
    "duration": 64,
    "start_time": "2022-05-14T16:25:20.975Z"
   },
   {
    "duration": 26,
    "start_time": "2022-05-14T16:25:21.041Z"
   },
   {
    "duration": 9,
    "start_time": "2022-05-14T16:25:21.069Z"
   },
   {
    "duration": 82,
    "start_time": "2022-05-14T16:25:21.079Z"
   },
   {
    "duration": 5,
    "start_time": "2022-05-14T16:25:21.163Z"
   },
   {
    "duration": 16,
    "start_time": "2022-05-14T16:25:21.170Z"
   },
   {
    "duration": 116,
    "start_time": "2022-05-14T16:25:21.188Z"
   },
   {
    "duration": 51,
    "start_time": "2022-05-14T16:25:21.306Z"
   },
   {
    "duration": 47,
    "start_time": "2022-05-14T16:25:21.358Z"
   },
   {
    "duration": 50,
    "start_time": "2022-05-14T16:25:21.406Z"
   },
   {
    "duration": 7,
    "start_time": "2022-05-14T16:25:21.458Z"
   },
   {
    "duration": 11,
    "start_time": "2022-05-14T16:25:21.467Z"
   },
   {
    "duration": 21,
    "start_time": "2022-05-14T16:25:21.479Z"
   },
   {
    "duration": 261,
    "start_time": "2022-05-14T16:25:21.502Z"
   },
   {
    "duration": 10,
    "start_time": "2022-05-14T16:25:21.768Z"
   },
   {
    "duration": 26,
    "start_time": "2022-05-14T16:25:21.780Z"
   },
   {
    "duration": 16,
    "start_time": "2022-05-14T16:25:21.808Z"
   },
   {
    "duration": 28,
    "start_time": "2022-05-14T16:25:21.826Z"
   },
   {
    "duration": 239,
    "start_time": "2022-05-14T16:25:21.856Z"
   },
   {
    "duration": 38,
    "start_time": "2022-05-14T16:25:22.097Z"
   },
   {
    "duration": 22,
    "start_time": "2022-05-14T16:25:22.137Z"
   },
   {
    "duration": 21,
    "start_time": "2022-05-14T16:25:22.161Z"
   },
   {
    "duration": 14,
    "start_time": "2022-05-14T16:25:22.184Z"
   },
   {
    "duration": 7,
    "start_time": "2022-05-14T16:25:22.200Z"
   },
   {
    "duration": 214,
    "start_time": "2022-05-14T16:25:22.209Z"
   },
   {
    "duration": 16,
    "start_time": "2022-05-14T16:25:22.435Z"
   },
   {
    "duration": 18,
    "start_time": "2022-05-14T16:25:22.453Z"
   },
   {
    "duration": 4,
    "start_time": "2022-05-14T16:25:22.473Z"
   },
   {
    "duration": 216,
    "start_time": "2022-05-14T16:25:22.479Z"
   },
   {
    "duration": 13,
    "start_time": "2022-05-14T16:25:22.697Z"
   },
   {
    "duration": 72,
    "start_time": "2022-05-14T16:25:22.712Z"
   },
   {
    "duration": 5,
    "start_time": "2022-05-14T16:25:22.786Z"
   },
   {
    "duration": 18,
    "start_time": "2022-05-14T16:25:22.792Z"
   },
   {
    "duration": 28,
    "start_time": "2022-05-14T16:25:22.812Z"
   },
   {
    "duration": 16,
    "start_time": "2022-05-14T16:25:22.841Z"
   },
   {
    "duration": 228,
    "start_time": "2022-05-14T16:25:22.858Z"
   },
   {
    "duration": 9,
    "start_time": "2022-05-14T16:25:23.088Z"
   },
   {
    "duration": 16,
    "start_time": "2022-05-14T16:25:23.098Z"
   },
   {
    "duration": 28,
    "start_time": "2022-05-14T16:25:23.116Z"
   },
   {
    "duration": 11,
    "start_time": "2022-05-14T16:25:23.146Z"
   },
   {
    "duration": 234,
    "start_time": "2022-05-14T16:25:23.159Z"
   },
   {
    "duration": 15,
    "start_time": "2022-05-14T16:25:23.396Z"
   },
   {
    "duration": 51,
    "start_time": "2022-05-14T16:25:23.413Z"
   },
   {
    "duration": 6,
    "start_time": "2022-05-14T16:25:23.466Z"
   },
   {
    "duration": 277,
    "start_time": "2022-05-14T16:25:23.474Z"
   },
   {
    "duration": 14,
    "start_time": "2022-05-14T16:25:23.752Z"
   },
   {
    "duration": 16,
    "start_time": "2022-05-14T16:25:23.768Z"
   },
   {
    "duration": 12,
    "start_time": "2022-05-14T16:25:23.785Z"
   },
   {
    "duration": 52,
    "start_time": "2022-05-14T16:25:23.799Z"
   },
   {
    "duration": 215,
    "start_time": "2022-05-14T16:25:23.852Z"
   },
   {
    "duration": 7,
    "start_time": "2022-05-14T16:25:24.069Z"
   },
   {
    "duration": 5,
    "start_time": "2022-05-14T16:25:24.078Z"
   },
   {
    "duration": 9,
    "start_time": "2022-05-14T16:25:24.085Z"
   },
   {
    "duration": 7,
    "start_time": "2022-05-14T16:25:24.095Z"
   },
   {
    "duration": 49,
    "start_time": "2022-05-14T16:25:24.104Z"
   },
   {
    "duration": 65,
    "start_time": "2022-05-14T16:31:31.924Z"
   },
   {
    "duration": 68,
    "start_time": "2022-05-14T16:31:48.608Z"
   },
   {
    "duration": 66,
    "start_time": "2022-05-14T16:31:55.504Z"
   },
   {
    "duration": 17,
    "start_time": "2022-05-14T16:32:10.056Z"
   },
   {
    "duration": 86,
    "start_time": "2022-05-14T16:32:24.675Z"
   },
   {
    "duration": 18,
    "start_time": "2022-05-14T16:32:25.722Z"
   },
   {
    "duration": 1325,
    "start_time": "2022-05-14T16:33:51.110Z"
   },
   {
    "duration": 454,
    "start_time": "2022-05-14T16:33:52.438Z"
   },
   {
    "duration": 13,
    "start_time": "2022-05-14T16:33:52.894Z"
   },
   {
    "duration": 27,
    "start_time": "2022-05-14T16:33:52.909Z"
   },
   {
    "duration": 26,
    "start_time": "2022-05-14T16:33:52.939Z"
   },
   {
    "duration": 11,
    "start_time": "2022-05-14T16:33:52.967Z"
   },
   {
    "duration": 10,
    "start_time": "2022-05-14T16:33:52.981Z"
   },
   {
    "duration": 16,
    "start_time": "2022-05-14T16:33:52.993Z"
   },
   {
    "duration": 30,
    "start_time": "2022-05-14T16:33:53.011Z"
   },
   {
    "duration": 17,
    "start_time": "2022-05-14T16:33:53.044Z"
   },
   {
    "duration": 32,
    "start_time": "2022-05-14T16:33:53.063Z"
   },
   {
    "duration": 84,
    "start_time": "2022-05-14T16:33:53.096Z"
   },
   {
    "duration": 21,
    "start_time": "2022-05-14T16:33:53.182Z"
   },
   {
    "duration": 62,
    "start_time": "2022-05-14T16:33:53.205Z"
   },
   {
    "duration": 25,
    "start_time": "2022-05-14T16:33:53.270Z"
   },
   {
    "duration": 9,
    "start_time": "2022-05-14T16:33:53.297Z"
   },
   {
    "duration": 85,
    "start_time": "2022-05-14T16:33:53.308Z"
   },
   {
    "duration": 5,
    "start_time": "2022-05-14T16:33:53.395Z"
   },
   {
    "duration": 33,
    "start_time": "2022-05-14T16:33:53.402Z"
   },
   {
    "duration": 100,
    "start_time": "2022-05-14T16:33:53.443Z"
   },
   {
    "duration": 38,
    "start_time": "2022-05-14T16:33:53.546Z"
   },
   {
    "duration": 63,
    "start_time": "2022-05-14T16:33:53.587Z"
   },
   {
    "duration": 29,
    "start_time": "2022-05-14T16:33:53.652Z"
   },
   {
    "duration": 9,
    "start_time": "2022-05-14T16:33:53.683Z"
   },
   {
    "duration": 4,
    "start_time": "2022-05-14T16:33:53.694Z"
   },
   {
    "duration": 45,
    "start_time": "2022-05-14T16:33:53.700Z"
   },
   {
    "duration": 240,
    "start_time": "2022-05-14T16:33:53.747Z"
   },
   {
    "duration": 11,
    "start_time": "2022-05-14T16:33:53.993Z"
   },
   {
    "duration": 8,
    "start_time": "2022-05-14T16:33:54.006Z"
   },
   {
    "duration": 6,
    "start_time": "2022-05-14T16:33:54.038Z"
   },
   {
    "duration": 16,
    "start_time": "2022-05-14T16:33:54.046Z"
   },
   {
    "duration": 229,
    "start_time": "2022-05-14T16:33:54.064Z"
   },
   {
    "duration": 40,
    "start_time": "2022-05-14T16:33:54.296Z"
   },
   {
    "duration": 9,
    "start_time": "2022-05-14T16:33:54.341Z"
   },
   {
    "duration": 20,
    "start_time": "2022-05-14T16:33:54.352Z"
   },
   {
    "duration": 13,
    "start_time": "2022-05-14T16:33:54.373Z"
   },
   {
    "duration": 5,
    "start_time": "2022-05-14T16:33:54.388Z"
   },
   {
    "duration": 222,
    "start_time": "2022-05-14T16:33:54.395Z"
   },
   {
    "duration": 29,
    "start_time": "2022-05-14T16:33:54.619Z"
   },
   {
    "duration": 15,
    "start_time": "2022-05-14T16:33:54.650Z"
   },
   {
    "duration": 6,
    "start_time": "2022-05-14T16:33:54.667Z"
   },
   {
    "duration": 214,
    "start_time": "2022-05-14T16:33:54.675Z"
   },
   {
    "duration": 14,
    "start_time": "2022-05-14T16:33:54.891Z"
   },
   {
    "duration": 74,
    "start_time": "2022-05-14T16:33:54.908Z"
   },
   {
    "duration": 5,
    "start_time": "2022-05-14T16:33:54.984Z"
   },
   {
    "duration": 8,
    "start_time": "2022-05-14T16:33:54.991Z"
   },
   {
    "duration": 11,
    "start_time": "2022-05-14T16:33:55.001Z"
   },
   {
    "duration": 31,
    "start_time": "2022-05-14T16:33:55.013Z"
   },
   {
    "duration": 237,
    "start_time": "2022-05-14T16:33:55.046Z"
   },
   {
    "duration": 10,
    "start_time": "2022-05-14T16:33:55.285Z"
   },
   {
    "duration": 16,
    "start_time": "2022-05-14T16:33:55.297Z"
   },
   {
    "duration": 32,
    "start_time": "2022-05-14T16:33:55.315Z"
   },
   {
    "duration": 14,
    "start_time": "2022-05-14T16:33:55.350Z"
   },
   {
    "duration": 228,
    "start_time": "2022-05-14T16:33:55.366Z"
   },
   {
    "duration": 13,
    "start_time": "2022-05-14T16:33:55.596Z"
   },
   {
    "duration": 32,
    "start_time": "2022-05-14T16:33:55.610Z"
   },
   {
    "duration": 5,
    "start_time": "2022-05-14T16:33:55.645Z"
   },
   {
    "duration": 299,
    "start_time": "2022-05-14T16:33:55.652Z"
   },
   {
    "duration": 14,
    "start_time": "2022-05-14T16:33:55.954Z"
   },
   {
    "duration": 18,
    "start_time": "2022-05-14T16:33:55.970Z"
   },
   {
    "duration": 13,
    "start_time": "2022-05-14T16:33:55.990Z"
   },
   {
    "duration": 44,
    "start_time": "2022-05-14T16:33:56.005Z"
   },
   {
    "duration": 218,
    "start_time": "2022-05-14T16:33:56.051Z"
   },
   {
    "duration": 7,
    "start_time": "2022-05-14T16:33:56.271Z"
   },
   {
    "duration": 15,
    "start_time": "2022-05-14T16:33:56.279Z"
   },
   {
    "duration": 12,
    "start_time": "2022-05-14T16:33:56.296Z"
   },
   {
    "duration": 22,
    "start_time": "2022-05-14T16:33:56.311Z"
   },
   {
    "duration": 16,
    "start_time": "2022-05-14T16:33:56.335Z"
   },
   {
    "duration": 36,
    "start_time": "2022-05-14T16:47:42.083Z"
   },
   {
    "duration": 5,
    "start_time": "2022-05-14T16:47:52.556Z"
   },
   {
    "duration": 42,
    "start_time": "2022-05-14T16:55:43.065Z"
   },
   {
    "duration": 120,
    "start_time": "2022-05-14T16:55:59.802Z"
   },
   {
    "duration": 5,
    "start_time": "2022-05-14T16:56:05.863Z"
   },
   {
    "duration": 1374,
    "start_time": "2022-05-14T16:56:30.331Z"
   },
   {
    "duration": 462,
    "start_time": "2022-05-14T16:56:31.707Z"
   },
   {
    "duration": 14,
    "start_time": "2022-05-14T16:56:32.171Z"
   },
   {
    "duration": 12,
    "start_time": "2022-05-14T16:56:32.188Z"
   },
   {
    "duration": 36,
    "start_time": "2022-05-14T16:56:32.201Z"
   },
   {
    "duration": 22,
    "start_time": "2022-05-14T16:56:32.238Z"
   },
   {
    "duration": 15,
    "start_time": "2022-05-14T16:56:32.262Z"
   },
   {
    "duration": 17,
    "start_time": "2022-05-14T16:56:32.279Z"
   },
   {
    "duration": 21,
    "start_time": "2022-05-14T16:56:32.298Z"
   },
   {
    "duration": 20,
    "start_time": "2022-05-14T16:56:32.323Z"
   },
   {
    "duration": 48,
    "start_time": "2022-05-14T16:56:32.345Z"
   },
   {
    "duration": 87,
    "start_time": "2022-05-14T16:56:32.394Z"
   },
   {
    "duration": 21,
    "start_time": "2022-05-14T16:56:32.482Z"
   },
   {
    "duration": 71,
    "start_time": "2022-05-14T16:56:32.505Z"
   },
   {
    "duration": 28,
    "start_time": "2022-05-14T16:56:32.578Z"
   },
   {
    "duration": 27,
    "start_time": "2022-05-14T16:56:32.608Z"
   },
   {
    "duration": 66,
    "start_time": "2022-05-14T16:56:32.641Z"
   },
   {
    "duration": 6,
    "start_time": "2022-05-14T16:56:32.708Z"
   },
   {
    "duration": 23,
    "start_time": "2022-05-14T16:56:32.715Z"
   },
   {
    "duration": 109,
    "start_time": "2022-05-14T16:56:32.741Z"
   },
   {
    "duration": 38,
    "start_time": "2022-05-14T16:56:32.852Z"
   },
   {
    "duration": 71,
    "start_time": "2022-05-14T16:56:32.892Z"
   },
   {
    "duration": 28,
    "start_time": "2022-05-14T16:56:32.965Z"
   },
   {
    "duration": 9,
    "start_time": "2022-05-14T16:56:32.995Z"
   },
   {
    "duration": 6,
    "start_time": "2022-05-14T16:56:33.006Z"
   },
   {
    "duration": 29,
    "start_time": "2022-05-14T16:56:33.014Z"
   },
   {
    "duration": 245,
    "start_time": "2022-05-14T16:56:33.045Z"
   },
   {
    "duration": 10,
    "start_time": "2022-05-14T16:56:33.295Z"
   },
   {
    "duration": 13,
    "start_time": "2022-05-14T16:56:33.307Z"
   },
   {
    "duration": 21,
    "start_time": "2022-05-14T16:56:33.335Z"
   },
   {
    "duration": 6,
    "start_time": "2022-05-14T16:56:33.358Z"
   },
   {
    "duration": 228,
    "start_time": "2022-05-14T16:56:33.366Z"
   },
   {
    "duration": 39,
    "start_time": "2022-05-14T16:56:33.596Z"
   },
   {
    "duration": 15,
    "start_time": "2022-05-14T16:56:33.637Z"
   },
   {
    "duration": 17,
    "start_time": "2022-05-14T16:56:33.654Z"
   },
   {
    "duration": 14,
    "start_time": "2022-05-14T16:56:33.672Z"
   },
   {
    "duration": 7,
    "start_time": "2022-05-14T16:56:33.688Z"
   },
   {
    "duration": 224,
    "start_time": "2022-05-14T16:56:33.697Z"
   },
   {
    "duration": 23,
    "start_time": "2022-05-14T16:56:33.923Z"
   },
   {
    "duration": 17,
    "start_time": "2022-05-14T16:56:33.949Z"
   },
   {
    "duration": 7,
    "start_time": "2022-05-14T16:56:33.968Z"
   },
   {
    "duration": 214,
    "start_time": "2022-05-14T16:56:33.977Z"
   },
   {
    "duration": 15,
    "start_time": "2022-05-14T16:56:34.193Z"
   },
   {
    "duration": 75,
    "start_time": "2022-05-14T16:56:34.210Z"
   },
   {
    "duration": 5,
    "start_time": "2022-05-14T16:56:34.287Z"
   },
   {
    "duration": 10,
    "start_time": "2022-05-14T16:56:34.294Z"
   },
   {
    "duration": 32,
    "start_time": "2022-05-14T16:56:34.306Z"
   },
   {
    "duration": 16,
    "start_time": "2022-05-14T16:56:34.341Z"
   },
   {
    "duration": 234,
    "start_time": "2022-05-14T16:56:34.359Z"
   },
   {
    "duration": 10,
    "start_time": "2022-05-14T16:56:34.595Z"
   },
   {
    "duration": 30,
    "start_time": "2022-05-14T16:56:34.607Z"
   },
   {
    "duration": 24,
    "start_time": "2022-05-14T16:56:34.638Z"
   },
   {
    "duration": 5,
    "start_time": "2022-05-14T16:56:34.664Z"
   },
   {
    "duration": 136,
    "start_time": "2022-05-14T16:56:34.670Z"
   },
   {
    "duration": 0,
    "start_time": "2022-05-14T16:56:34.807Z"
   },
   {
    "duration": 0,
    "start_time": "2022-05-14T16:56:34.808Z"
   },
   {
    "duration": 0,
    "start_time": "2022-05-14T16:56:34.810Z"
   },
   {
    "duration": 0,
    "start_time": "2022-05-14T16:56:34.811Z"
   },
   {
    "duration": 0,
    "start_time": "2022-05-14T16:56:34.812Z"
   },
   {
    "duration": 0,
    "start_time": "2022-05-14T16:56:34.813Z"
   },
   {
    "duration": 0,
    "start_time": "2022-05-14T16:56:34.814Z"
   },
   {
    "duration": 0,
    "start_time": "2022-05-14T16:56:34.815Z"
   },
   {
    "duration": 0,
    "start_time": "2022-05-14T16:56:34.833Z"
   },
   {
    "duration": 0,
    "start_time": "2022-05-14T16:56:34.835Z"
   },
   {
    "duration": 0,
    "start_time": "2022-05-14T16:56:34.837Z"
   },
   {
    "duration": 0,
    "start_time": "2022-05-14T16:56:34.838Z"
   },
   {
    "duration": 0,
    "start_time": "2022-05-14T16:56:34.842Z"
   },
   {
    "duration": 0,
    "start_time": "2022-05-14T16:56:34.843Z"
   },
   {
    "duration": 0,
    "start_time": "2022-05-14T16:56:34.844Z"
   },
   {
    "duration": 0,
    "start_time": "2022-05-14T16:56:34.845Z"
   },
   {
    "duration": 24,
    "start_time": "2022-05-14T16:56:55.017Z"
   },
   {
    "duration": 4,
    "start_time": "2022-05-14T16:56:58.381Z"
   },
   {
    "duration": 66,
    "start_time": "2022-05-14T16:57:13.278Z"
   },
   {
    "duration": 1322,
    "start_time": "2022-05-14T16:57:24.142Z"
   },
   {
    "duration": 462,
    "start_time": "2022-05-14T16:57:25.466Z"
   },
   {
    "duration": 16,
    "start_time": "2022-05-14T16:57:25.930Z"
   },
   {
    "duration": 15,
    "start_time": "2022-05-14T16:57:25.950Z"
   },
   {
    "duration": 15,
    "start_time": "2022-05-14T16:57:25.967Z"
   },
   {
    "duration": 12,
    "start_time": "2022-05-14T16:57:25.984Z"
   },
   {
    "duration": 12,
    "start_time": "2022-05-14T16:57:25.998Z"
   },
   {
    "duration": 32,
    "start_time": "2022-05-14T16:57:26.012Z"
   },
   {
    "duration": 24,
    "start_time": "2022-05-14T16:57:26.046Z"
   },
   {
    "duration": 11,
    "start_time": "2022-05-14T16:57:26.074Z"
   },
   {
    "duration": 51,
    "start_time": "2022-05-14T16:57:26.087Z"
   },
   {
    "duration": 75,
    "start_time": "2022-05-14T16:57:26.140Z"
   },
   {
    "duration": 28,
    "start_time": "2022-05-14T16:57:26.235Z"
   },
   {
    "duration": 49,
    "start_time": "2022-05-14T16:57:26.265Z"
   },
   {
    "duration": 30,
    "start_time": "2022-05-14T16:57:26.340Z"
   },
   {
    "duration": 9,
    "start_time": "2022-05-14T16:57:26.372Z"
   },
   {
    "duration": 86,
    "start_time": "2022-05-14T16:57:26.383Z"
   },
   {
    "duration": 4,
    "start_time": "2022-05-14T16:57:26.471Z"
   },
   {
    "duration": 13,
    "start_time": "2022-05-14T16:57:26.477Z"
   },
   {
    "duration": 121,
    "start_time": "2022-05-14T16:57:26.492Z"
   },
   {
    "duration": 53,
    "start_time": "2022-05-14T16:57:26.615Z"
   },
   {
    "duration": 47,
    "start_time": "2022-05-14T16:57:26.670Z"
   },
   {
    "duration": 32,
    "start_time": "2022-05-14T16:57:26.733Z"
   },
   {
    "duration": 8,
    "start_time": "2022-05-14T16:57:26.767Z"
   },
   {
    "duration": 5,
    "start_time": "2022-05-14T16:57:26.777Z"
   },
   {
    "duration": 13,
    "start_time": "2022-05-14T16:57:26.784Z"
   },
   {
    "duration": 262,
    "start_time": "2022-05-14T16:57:26.799Z"
   },
   {
    "duration": 10,
    "start_time": "2022-05-14T16:57:27.067Z"
   },
   {
    "duration": 10,
    "start_time": "2022-05-14T16:57:27.079Z"
   },
   {
    "duration": 5,
    "start_time": "2022-05-14T16:57:27.091Z"
   },
   {
    "duration": 11,
    "start_time": "2022-05-14T16:57:27.097Z"
   },
   {
    "duration": 259,
    "start_time": "2022-05-14T16:57:27.110Z"
   },
   {
    "duration": 27,
    "start_time": "2022-05-14T16:57:27.371Z"
   },
   {
    "duration": 7,
    "start_time": "2022-05-14T16:57:27.400Z"
   },
   {
    "duration": 36,
    "start_time": "2022-05-14T16:57:27.409Z"
   },
   {
    "duration": 8,
    "start_time": "2022-05-14T16:57:27.447Z"
   },
   {
    "duration": 11,
    "start_time": "2022-05-14T16:57:27.457Z"
   },
   {
    "duration": 213,
    "start_time": "2022-05-14T16:57:27.470Z"
   },
   {
    "duration": 13,
    "start_time": "2022-05-14T16:57:27.685Z"
   },
   {
    "duration": 16,
    "start_time": "2022-05-14T16:57:27.700Z"
   },
   {
    "duration": 24,
    "start_time": "2022-05-14T16:57:27.718Z"
   },
   {
    "duration": 211,
    "start_time": "2022-05-14T16:57:27.745Z"
   },
   {
    "duration": 15,
    "start_time": "2022-05-14T16:57:27.958Z"
   },
   {
    "duration": 74,
    "start_time": "2022-05-14T16:57:27.975Z"
   },
   {
    "duration": 7,
    "start_time": "2022-05-14T16:57:28.051Z"
   },
   {
    "duration": 7,
    "start_time": "2022-05-14T16:57:28.060Z"
   },
   {
    "duration": 10,
    "start_time": "2022-05-14T16:57:28.069Z"
   },
   {
    "duration": 7,
    "start_time": "2022-05-14T16:57:28.081Z"
   },
   {
    "duration": 273,
    "start_time": "2022-05-14T16:57:28.090Z"
   },
   {
    "duration": 10,
    "start_time": "2022-05-14T16:57:28.364Z"
   },
   {
    "duration": 22,
    "start_time": "2022-05-14T16:57:28.376Z"
   },
   {
    "duration": 12,
    "start_time": "2022-05-14T16:57:28.400Z"
   },
   {
    "duration": 27,
    "start_time": "2022-05-14T16:57:28.413Z"
   },
   {
    "duration": 81,
    "start_time": "2022-05-14T16:57:28.442Z"
   },
   {
    "duration": 301,
    "start_time": "2022-05-14T16:57:28.525Z"
   },
   {
    "duration": 19,
    "start_time": "2022-05-14T16:57:28.828Z"
   },
   {
    "duration": 15,
    "start_time": "2022-05-14T16:57:28.850Z"
   },
   {
    "duration": 5,
    "start_time": "2022-05-14T16:57:28.867Z"
   },
   {
    "duration": 240,
    "start_time": "2022-05-14T16:57:28.874Z"
   },
   {
    "duration": 25,
    "start_time": "2022-05-14T16:57:29.116Z"
   },
   {
    "duration": 23,
    "start_time": "2022-05-14T16:57:29.143Z"
   },
   {
    "duration": 14,
    "start_time": "2022-05-14T16:57:29.168Z"
   },
   {
    "duration": 14,
    "start_time": "2022-05-14T16:57:29.184Z"
   },
   {
    "duration": 230,
    "start_time": "2022-05-14T16:57:29.200Z"
   },
   {
    "duration": 13,
    "start_time": "2022-05-14T16:57:29.434Z"
   },
   {
    "duration": 14,
    "start_time": "2022-05-14T16:57:29.449Z"
   },
   {
    "duration": 13,
    "start_time": "2022-05-14T16:57:29.465Z"
   },
   {
    "duration": 8,
    "start_time": "2022-05-14T16:57:29.480Z"
   },
   {
    "duration": 9,
    "start_time": "2022-05-14T16:57:29.489Z"
   },
   {
    "duration": 35,
    "start_time": "2022-05-14T17:07:50.594Z"
   },
   {
    "duration": 175,
    "start_time": "2022-05-14T17:59:17.659Z"
   },
   {
    "duration": 46,
    "start_time": "2022-05-14T18:05:14.427Z"
   },
   {
    "duration": 1403,
    "start_time": "2022-05-14T18:05:22.168Z"
   },
   {
    "duration": 385,
    "start_time": "2022-05-14T18:05:23.573Z"
   },
   {
    "duration": 15,
    "start_time": "2022-05-14T18:05:23.960Z"
   },
   {
    "duration": 13,
    "start_time": "2022-05-14T18:05:23.980Z"
   },
   {
    "duration": 11,
    "start_time": "2022-05-14T18:05:27.278Z"
   },
   {
    "duration": 74,
    "start_time": "2022-05-14T18:05:28.805Z"
   },
   {
    "duration": 13,
    "start_time": "2022-05-14T18:17:54.253Z"
   },
   {
    "duration": 28,
    "start_time": "2022-05-14T18:18:14.257Z"
   },
   {
    "duration": 27,
    "start_time": "2022-05-14T18:18:23.359Z"
   },
   {
    "duration": 19,
    "start_time": "2022-05-14T18:18:27.156Z"
   },
   {
    "duration": 37,
    "start_time": "2022-05-14T18:18:56.210Z"
   },
   {
    "duration": 20,
    "start_time": "2022-05-14T18:19:21.881Z"
   },
   {
    "duration": 1439,
    "start_time": "2022-05-14T18:19:38.764Z"
   },
   {
    "duration": 398,
    "start_time": "2022-05-14T18:19:40.205Z"
   },
   {
    "duration": 12,
    "start_time": "2022-05-14T18:19:40.605Z"
   },
   {
    "duration": 11,
    "start_time": "2022-05-14T18:19:40.620Z"
   },
   {
    "duration": 115,
    "start_time": "2022-05-14T18:20:47.725Z"
   },
   {
    "duration": 12,
    "start_time": "2022-05-14T18:21:14.538Z"
   },
   {
    "duration": 12,
    "start_time": "2022-05-14T18:22:13.319Z"
   },
   {
    "duration": 12,
    "start_time": "2022-05-14T18:22:29.559Z"
   },
   {
    "duration": 12,
    "start_time": "2022-05-14T18:22:46.203Z"
   },
   {
    "duration": 35,
    "start_time": "2022-05-14T18:22:51.911Z"
   },
   {
    "duration": 14,
    "start_time": "2022-05-14T18:23:20.798Z"
   },
   {
    "duration": 1817,
    "start_time": "2022-05-15T13:10:51.287Z"
   },
   {
    "duration": 553,
    "start_time": "2022-05-15T13:10:53.107Z"
   },
   {
    "duration": 21,
    "start_time": "2022-05-15T13:10:53.663Z"
   },
   {
    "duration": 17,
    "start_time": "2022-05-15T13:10:53.687Z"
   },
   {
    "duration": 153,
    "start_time": "2022-05-15T13:11:00.816Z"
   },
   {
    "duration": 30,
    "start_time": "2022-05-15T13:11:30.684Z"
   },
   {
    "duration": 5,
    "start_time": "2022-05-15T13:11:47.977Z"
   },
   {
    "duration": 119,
    "start_time": "2022-05-15T13:11:56.971Z"
   },
   {
    "duration": 4,
    "start_time": "2022-05-15T13:12:04.303Z"
   },
   {
    "duration": 5,
    "start_time": "2022-05-15T13:12:23.529Z"
   },
   {
    "duration": 30,
    "start_time": "2022-05-15T13:12:34.989Z"
   },
   {
    "duration": 25,
    "start_time": "2022-05-15T13:13:08.015Z"
   },
   {
    "duration": 17,
    "start_time": "2022-05-15T13:13:58.354Z"
   },
   {
    "duration": 15,
    "start_time": "2022-05-15T13:14:07.620Z"
   },
   {
    "duration": 16,
    "start_time": "2022-05-15T13:14:26.673Z"
   },
   {
    "duration": 15,
    "start_time": "2022-05-15T13:14:38.049Z"
   },
   {
    "duration": 17,
    "start_time": "2022-05-15T13:14:43.909Z"
   },
   {
    "duration": 33,
    "start_time": "2022-05-15T13:14:52.832Z"
   },
   {
    "duration": 1032,
    "start_time": "2022-05-15T13:15:31.493Z"
   },
   {
    "duration": 17,
    "start_time": "2022-05-15T13:15:37.694Z"
   },
   {
    "duration": 27,
    "start_time": "2022-05-15T13:22:29.811Z"
   },
   {
    "duration": 33,
    "start_time": "2022-05-15T13:22:48.409Z"
   },
   {
    "duration": 30,
    "start_time": "2022-05-15T13:23:02.708Z"
   },
   {
    "duration": 4,
    "start_time": "2022-05-15T13:23:59.150Z"
   },
   {
    "duration": 29,
    "start_time": "2022-05-15T13:24:12.843Z"
   },
   {
    "duration": 595,
    "start_time": "2022-05-15T13:27:32.448Z"
   },
   {
    "duration": 476,
    "start_time": "2022-05-15T13:28:24.074Z"
   },
   {
    "duration": 495,
    "start_time": "2022-05-15T13:28:39.010Z"
   },
   {
    "duration": 28,
    "start_time": "2022-05-15T13:44:07.828Z"
   },
   {
    "duration": 2153,
    "start_time": "2022-05-15T13:44:28.175Z"
   },
   {
    "duration": 561,
    "start_time": "2022-05-15T13:44:30.330Z"
   },
   {
    "duration": 19,
    "start_time": "2022-05-15T13:44:30.894Z"
   },
   {
    "duration": 33,
    "start_time": "2022-05-15T13:44:30.916Z"
   },
   {
    "duration": 631,
    "start_time": "2022-05-15T13:44:30.951Z"
   },
   {
    "duration": 19,
    "start_time": "2022-05-15T13:44:31.588Z"
   },
   {
    "duration": 34,
    "start_time": "2022-05-15T13:44:31.610Z"
   },
   {
    "duration": 57,
    "start_time": "2022-05-15T13:44:31.646Z"
   },
   {
    "duration": 172,
    "start_time": "2022-05-15T13:44:31.706Z"
   },
   {
    "duration": 35,
    "start_time": "2022-05-15T13:44:31.886Z"
   },
   {
    "duration": 86,
    "start_time": "2022-05-15T13:44:31.923Z"
   },
   {
    "duration": 30,
    "start_time": "2022-05-15T13:44:32.012Z"
   },
   {
    "duration": 43,
    "start_time": "2022-05-15T13:44:32.044Z"
   },
   {
    "duration": 77,
    "start_time": "2022-05-15T13:44:32.090Z"
   },
   {
    "duration": 18,
    "start_time": "2022-05-15T13:44:32.169Z"
   },
   {
    "duration": 43,
    "start_time": "2022-05-15T13:44:32.189Z"
   },
   {
    "duration": 280,
    "start_time": "2022-05-15T13:44:37.765Z"
   },
   {
    "duration": 125,
    "start_time": "2022-05-15T13:46:20.227Z"
   },
   {
    "duration": 159,
    "start_time": "2022-05-15T13:48:35.351Z"
   },
   {
    "duration": 1491,
    "start_time": "2022-05-15T13:48:50.723Z"
   },
   {
    "duration": 505,
    "start_time": "2022-05-15T13:48:52.217Z"
   },
   {
    "duration": 17,
    "start_time": "2022-05-15T13:48:52.724Z"
   },
   {
    "duration": 16,
    "start_time": "2022-05-15T13:48:52.744Z"
   },
   {
    "duration": 524,
    "start_time": "2022-05-15T13:48:52.783Z"
   },
   {
    "duration": 16,
    "start_time": "2022-05-15T13:48:53.309Z"
   },
   {
    "duration": 15,
    "start_time": "2022-05-15T13:48:53.328Z"
   },
   {
    "duration": 63,
    "start_time": "2022-05-15T13:48:53.345Z"
   },
   {
    "duration": 111,
    "start_time": "2022-05-15T13:48:53.410Z"
   },
   {
    "duration": 28,
    "start_time": "2022-05-15T13:48:53.524Z"
   },
   {
    "duration": 81,
    "start_time": "2022-05-15T13:48:53.555Z"
   },
   {
    "duration": 49,
    "start_time": "2022-05-15T13:48:53.639Z"
   },
   {
    "duration": 14,
    "start_time": "2022-05-15T13:48:53.691Z"
   },
   {
    "duration": 104,
    "start_time": "2022-05-15T13:48:53.708Z"
   },
   {
    "duration": 7,
    "start_time": "2022-05-15T13:48:53.814Z"
   },
   {
    "duration": 19,
    "start_time": "2022-05-15T13:48:53.823Z"
   },
   {
    "duration": 145,
    "start_time": "2022-05-15T13:48:53.845Z"
   },
   {
    "duration": 134,
    "start_time": "2022-05-15T13:51:04.273Z"
   },
   {
    "duration": 1592,
    "start_time": "2022-05-15T13:55:23.457Z"
   },
   {
    "duration": 528,
    "start_time": "2022-05-15T13:55:25.052Z"
   },
   {
    "duration": 19,
    "start_time": "2022-05-15T13:55:25.582Z"
   },
   {
    "duration": 19,
    "start_time": "2022-05-15T13:55:25.605Z"
   },
   {
    "duration": 711,
    "start_time": "2022-05-15T13:55:25.627Z"
   },
   {
    "duration": 19,
    "start_time": "2022-05-15T13:55:26.341Z"
   },
   {
    "duration": 15,
    "start_time": "2022-05-15T13:55:26.383Z"
   },
   {
    "duration": 63,
    "start_time": "2022-05-15T13:55:26.400Z"
   },
   {
    "duration": 122,
    "start_time": "2022-05-15T13:55:26.466Z"
   },
   {
    "duration": 27,
    "start_time": "2022-05-15T13:55:26.591Z"
   },
   {
    "duration": 79,
    "start_time": "2022-05-15T13:55:26.621Z"
   },
   {
    "duration": 30,
    "start_time": "2022-05-15T13:55:26.702Z"
   },
   {
    "duration": 13,
    "start_time": "2022-05-15T13:55:26.734Z"
   },
   {
    "duration": 101,
    "start_time": "2022-05-15T13:55:26.749Z"
   },
   {
    "duration": 8,
    "start_time": "2022-05-15T13:55:26.853Z"
   },
   {
    "duration": 19,
    "start_time": "2022-05-15T13:55:26.883Z"
   },
   {
    "duration": 149,
    "start_time": "2022-05-15T13:55:26.904Z"
   },
   {
    "duration": 58,
    "start_time": "2022-05-15T13:55:27.055Z"
   },
   {
    "duration": 79,
    "start_time": "2022-05-15T13:55:27.115Z"
   },
   {
    "duration": 12,
    "start_time": "2022-05-15T13:57:55.475Z"
   },
   {
    "duration": 26,
    "start_time": "2022-05-15T13:58:01.928Z"
   },
   {
    "duration": 156,
    "start_time": "2022-05-15T13:59:20.179Z"
   },
   {
    "duration": 28,
    "start_time": "2022-05-15T13:59:45.337Z"
   },
   {
    "duration": 12,
    "start_time": "2022-05-15T14:00:02.394Z"
   },
   {
    "duration": 22,
    "start_time": "2022-05-15T14:00:11.039Z"
   },
   {
    "duration": 17,
    "start_time": "2022-05-15T14:00:21.463Z"
   },
   {
    "duration": 19,
    "start_time": "2022-05-15T14:00:37.381Z"
   },
   {
    "duration": 28,
    "start_time": "2022-05-15T14:00:45.528Z"
   },
   {
    "duration": 37,
    "start_time": "2022-05-15T14:01:20.351Z"
   },
   {
    "duration": 102,
    "start_time": "2022-05-15T14:03:12.491Z"
   },
   {
    "duration": 25,
    "start_time": "2022-05-15T14:05:13.123Z"
   },
   {
    "duration": 56,
    "start_time": "2022-05-15T14:05:25.873Z"
   },
   {
    "duration": 77,
    "start_time": "2022-05-15T14:06:14.911Z"
   },
   {
    "duration": 54,
    "start_time": "2022-05-15T14:07:05.840Z"
   },
   {
    "duration": 2033,
    "start_time": "2022-05-15T14:07:19.330Z"
   },
   {
    "duration": 742,
    "start_time": "2022-05-15T14:07:21.366Z"
   },
   {
    "duration": 24,
    "start_time": "2022-05-15T14:07:22.111Z"
   },
   {
    "duration": 44,
    "start_time": "2022-05-15T14:07:22.139Z"
   },
   {
    "duration": 579,
    "start_time": "2022-05-15T14:07:22.186Z"
   },
   {
    "duration": 25,
    "start_time": "2022-05-15T14:07:22.767Z"
   },
   {
    "duration": 21,
    "start_time": "2022-05-15T14:07:22.795Z"
   },
   {
    "duration": 49,
    "start_time": "2022-05-15T14:07:22.819Z"
   },
   {
    "duration": 98,
    "start_time": "2022-05-15T14:07:22.871Z"
   },
   {
    "duration": 36,
    "start_time": "2022-05-15T14:07:22.972Z"
   },
   {
    "duration": 78,
    "start_time": "2022-05-15T14:07:23.010Z"
   },
   {
    "duration": 29,
    "start_time": "2022-05-15T14:07:23.091Z"
   },
   {
    "duration": 13,
    "start_time": "2022-05-15T14:07:23.122Z"
   },
   {
    "duration": 100,
    "start_time": "2022-05-15T14:07:23.137Z"
   },
   {
    "duration": 8,
    "start_time": "2022-05-15T14:07:23.239Z"
   },
   {
    "duration": 34,
    "start_time": "2022-05-15T14:07:23.249Z"
   },
   {
    "duration": 126,
    "start_time": "2022-05-15T14:07:23.286Z"
   },
   {
    "duration": 85,
    "start_time": "2022-05-15T14:07:23.415Z"
   },
   {
    "duration": 94,
    "start_time": "2022-05-15T14:07:23.503Z"
   },
   {
    "duration": 57,
    "start_time": "2022-05-15T14:07:58.625Z"
   },
   {
    "duration": 10,
    "start_time": "2022-05-15T14:08:14.291Z"
   },
   {
    "duration": 2311,
    "start_time": "2022-05-15T14:09:01.436Z"
   },
   {
    "duration": 79,
    "start_time": "2022-05-15T14:09:47.942Z"
   },
   {
    "duration": 7,
    "start_time": "2022-05-15T14:11:02.847Z"
   },
   {
    "duration": 11,
    "start_time": "2022-05-15T14:11:21.503Z"
   },
   {
    "duration": 7,
    "start_time": "2022-05-15T14:11:48.076Z"
   },
   {
    "duration": 32,
    "start_time": "2022-05-15T14:12:09.908Z"
   },
   {
    "duration": 7,
    "start_time": "2022-05-15T14:18:04.304Z"
   },
   {
    "duration": 11,
    "start_time": "2022-05-15T14:18:06.707Z"
   },
   {
    "duration": 8,
    "start_time": "2022-05-15T14:20:42.465Z"
   },
   {
    "duration": 11,
    "start_time": "2022-05-15T14:20:43.903Z"
   },
   {
    "duration": 5,
    "start_time": "2022-05-15T14:21:28.465Z"
   },
   {
    "duration": 1249,
    "start_time": "2022-05-15T14:21:28.476Z"
   },
   {
    "duration": 15,
    "start_time": "2022-05-15T14:21:29.728Z"
   },
   {
    "duration": 39,
    "start_time": "2022-05-15T14:21:29.746Z"
   },
   {
    "duration": 539,
    "start_time": "2022-05-15T14:21:29.792Z"
   },
   {
    "duration": 16,
    "start_time": "2022-05-15T14:21:30.333Z"
   },
   {
    "duration": 34,
    "start_time": "2022-05-15T14:21:30.351Z"
   },
   {
    "duration": 46,
    "start_time": "2022-05-15T14:21:30.388Z"
   },
   {
    "duration": 114,
    "start_time": "2022-05-15T14:21:30.437Z"
   },
   {
    "duration": 38,
    "start_time": "2022-05-15T14:21:30.553Z"
   },
   {
    "duration": 58,
    "start_time": "2022-05-15T14:21:30.598Z"
   },
   {
    "duration": 59,
    "start_time": "2022-05-15T14:21:30.658Z"
   },
   {
    "duration": 9,
    "start_time": "2022-05-15T14:21:30.719Z"
   },
   {
    "duration": 117,
    "start_time": "2022-05-15T14:21:30.730Z"
   },
   {
    "duration": 7,
    "start_time": "2022-05-15T14:21:30.850Z"
   },
   {
    "duration": 35,
    "start_time": "2022-05-15T14:21:30.860Z"
   },
   {
    "duration": 142,
    "start_time": "2022-05-15T14:21:30.897Z"
   },
   {
    "duration": 62,
    "start_time": "2022-05-15T14:21:31.041Z"
   },
   {
    "duration": 56,
    "start_time": "2022-05-15T14:21:31.105Z"
   },
   {
    "duration": 75,
    "start_time": "2022-05-15T14:21:31.163Z"
   },
   {
    "duration": 15,
    "start_time": "2022-05-15T14:21:31.240Z"
   },
   {
    "duration": 42,
    "start_time": "2022-05-15T14:21:31.284Z"
   },
   {
    "duration": 8,
    "start_time": "2022-05-15T14:21:31.328Z"
   },
   {
    "duration": 29,
    "start_time": "2022-05-15T14:21:31.338Z"
   },
   {
    "duration": 143,
    "start_time": "2022-05-15T14:24:00.426Z"
   },
   {
    "duration": 460,
    "start_time": "2022-05-15T14:25:09.150Z"
   },
   {
    "duration": 14,
    "start_time": "2022-05-15T14:25:16.595Z"
   },
   {
    "duration": 12,
    "start_time": "2022-05-15T14:25:30.566Z"
   },
   {
    "duration": 6,
    "start_time": "2022-05-15T14:25:37.209Z"
   },
   {
    "duration": 13,
    "start_time": "2022-05-15T14:25:40.180Z"
   },
   {
    "duration": 338,
    "start_time": "2022-05-15T14:26:12.451Z"
   },
   {
    "duration": 201,
    "start_time": "2022-05-15T14:26:31.467Z"
   },
   {
    "duration": 326,
    "start_time": "2022-05-15T14:26:45.634Z"
   },
   {
    "duration": 338,
    "start_time": "2022-05-15T14:27:00.256Z"
   },
   {
    "duration": 212,
    "start_time": "2022-05-15T14:27:44.935Z"
   },
   {
    "duration": 570,
    "start_time": "2022-05-15T14:28:10.705Z"
   },
   {
    "duration": 2321,
    "start_time": "2022-05-15T14:28:23.010Z"
   },
   {
    "duration": 2328,
    "start_time": "2022-05-15T14:28:32.461Z"
   },
   {
    "duration": 323,
    "start_time": "2022-05-15T14:29:03.973Z"
   },
   {
    "duration": 476,
    "start_time": "2022-05-15T14:29:14.386Z"
   },
   {
    "duration": 415,
    "start_time": "2022-05-15T14:29:24.593Z"
   },
   {
    "duration": 308,
    "start_time": "2022-05-15T14:33:03.199Z"
   },
   {
    "duration": 242,
    "start_time": "2022-05-15T14:34:01.735Z"
   },
   {
    "duration": 398,
    "start_time": "2022-05-15T14:34:40.727Z"
   },
   {
    "duration": 279,
    "start_time": "2022-05-15T14:35:07.576Z"
   },
   {
    "duration": 467,
    "start_time": "2022-05-15T14:35:23.562Z"
   },
   {
    "duration": 246,
    "start_time": "2022-05-15T14:36:02.705Z"
   },
   {
    "duration": 677,
    "start_time": "2022-05-15T14:36:06.768Z"
   },
   {
    "duration": 307,
    "start_time": "2022-05-15T14:36:16.901Z"
   },
   {
    "duration": 543,
    "start_time": "2022-05-15T14:36:53.043Z"
   },
   {
    "duration": 454,
    "start_time": "2022-05-15T14:37:01.047Z"
   },
   {
    "duration": 449,
    "start_time": "2022-05-15T14:37:32.040Z"
   },
   {
    "duration": 366,
    "start_time": "2022-05-15T14:37:46.680Z"
   },
   {
    "duration": 458,
    "start_time": "2022-05-15T14:37:51.440Z"
   },
   {
    "duration": 317,
    "start_time": "2022-05-15T14:38:54.676Z"
   },
   {
    "duration": 330,
    "start_time": "2022-05-15T14:44:58.218Z"
   },
   {
    "duration": 388,
    "start_time": "2022-05-15T14:45:04.660Z"
   },
   {
    "duration": 450,
    "start_time": "2022-05-15T14:45:16.108Z"
   },
   {
    "duration": 320,
    "start_time": "2022-05-15T14:45:24.823Z"
   },
   {
    "duration": 233,
    "start_time": "2022-05-15T14:46:01.397Z"
   },
   {
    "duration": 21,
    "start_time": "2022-05-15T14:46:12.193Z"
   },
   {
    "duration": 330,
    "start_time": "2022-05-15T14:46:19.463Z"
   },
   {
    "duration": 325,
    "start_time": "2022-05-15T14:46:57.753Z"
   },
   {
    "duration": 461,
    "start_time": "2022-05-15T14:47:07.332Z"
   },
   {
    "duration": 37,
    "start_time": "2022-05-15T14:48:12.724Z"
   },
   {
    "duration": 11,
    "start_time": "2022-05-15T14:48:22.675Z"
   },
   {
    "duration": 20,
    "start_time": "2022-05-15T14:48:37.310Z"
   },
   {
    "duration": 14,
    "start_time": "2022-05-15T14:54:22.919Z"
   },
   {
    "duration": 7,
    "start_time": "2022-05-15T14:54:30.694Z"
   },
   {
    "duration": 1360,
    "start_time": "2022-05-15T14:54:48.362Z"
   },
   {
    "duration": 14,
    "start_time": "2022-05-15T14:55:12.268Z"
   },
   {
    "duration": 18,
    "start_time": "2022-05-15T14:57:45.577Z"
   },
   {
    "duration": 12,
    "start_time": "2022-05-15T14:57:51.707Z"
   },
   {
    "duration": 14,
    "start_time": "2022-05-15T14:58:16.767Z"
   },
   {
    "duration": 16,
    "start_time": "2022-05-15T14:58:27.436Z"
   },
   {
    "duration": 17,
    "start_time": "2022-05-15T14:59:54.617Z"
   },
   {
    "duration": 18,
    "start_time": "2022-05-15T14:59:59.569Z"
   },
   {
    "duration": 12,
    "start_time": "2022-05-15T15:00:14.694Z"
   },
   {
    "duration": 13,
    "start_time": "2022-05-15T15:01:30.627Z"
   },
   {
    "duration": 12,
    "start_time": "2022-05-15T15:01:43.991Z"
   },
   {
    "duration": 11,
    "start_time": "2022-05-15T15:02:12.029Z"
   },
   {
    "duration": 11,
    "start_time": "2022-05-15T15:02:22.235Z"
   },
   {
    "duration": 14,
    "start_time": "2022-05-15T15:02:37.468Z"
   },
   {
    "duration": 10,
    "start_time": "2022-05-15T15:03:06.951Z"
   },
   {
    "duration": 10,
    "start_time": "2022-05-15T15:03:24.074Z"
   },
   {
    "duration": 13,
    "start_time": "2022-05-15T15:04:27.467Z"
   },
   {
    "duration": 15,
    "start_time": "2022-05-15T15:04:46.428Z"
   },
   {
    "duration": 16,
    "start_time": "2022-05-15T15:05:02.667Z"
   },
   {
    "duration": 11,
    "start_time": "2022-05-15T15:05:36.920Z"
   },
   {
    "duration": 10,
    "start_time": "2022-05-15T15:05:56.364Z"
   },
   {
    "duration": 12,
    "start_time": "2022-05-15T15:06:35.402Z"
   },
   {
    "duration": 14,
    "start_time": "2022-05-15T15:06:50.915Z"
   },
   {
    "duration": 13,
    "start_time": "2022-05-15T15:07:01.144Z"
   },
   {
    "duration": 13,
    "start_time": "2022-05-15T15:07:11.869Z"
   },
   {
    "duration": 10,
    "start_time": "2022-05-15T15:07:18.944Z"
   },
   {
    "duration": 11,
    "start_time": "2022-05-15T15:07:33.783Z"
   },
   {
    "duration": 9,
    "start_time": "2022-05-15T15:07:37.536Z"
   },
   {
    "duration": 10,
    "start_time": "2022-05-15T15:08:01.405Z"
   },
   {
    "duration": 10,
    "start_time": "2022-05-15T15:10:33.678Z"
   },
   {
    "duration": 11,
    "start_time": "2022-05-15T15:10:34.232Z"
   },
   {
    "duration": 7,
    "start_time": "2022-05-15T15:10:37.624Z"
   },
   {
    "duration": 499,
    "start_time": "2022-05-15T15:11:27.188Z"
   },
   {
    "duration": 212,
    "start_time": "2022-05-15T15:13:47.161Z"
   },
   {
    "duration": 306,
    "start_time": "2022-05-15T15:14:00.513Z"
   },
   {
    "duration": 304,
    "start_time": "2022-05-15T15:14:13.381Z"
   },
   {
    "duration": 268,
    "start_time": "2022-05-15T15:16:14.394Z"
   },
   {
    "duration": 311,
    "start_time": "2022-05-15T15:16:42.715Z"
   },
   {
    "duration": 280,
    "start_time": "2022-05-15T15:16:52.861Z"
   },
   {
    "duration": 5,
    "start_time": "2022-05-15T15:17:16.894Z"
   },
   {
    "duration": 208,
    "start_time": "2022-05-15T15:17:48.476Z"
   },
   {
    "duration": 190,
    "start_time": "2022-05-15T15:17:58.253Z"
   },
   {
    "duration": 190,
    "start_time": "2022-05-15T15:18:19.738Z"
   },
   {
    "duration": 210,
    "start_time": "2022-05-15T15:18:26.006Z"
   },
   {
    "duration": 303,
    "start_time": "2022-05-15T15:18:33.678Z"
   },
   {
    "duration": 323,
    "start_time": "2022-05-15T15:19:18.000Z"
   },
   {
    "duration": 560,
    "start_time": "2022-05-15T15:20:41.205Z"
   },
   {
    "duration": 509,
    "start_time": "2022-05-15T15:21:09.679Z"
   },
   {
    "duration": 297,
    "start_time": "2022-05-15T15:22:55.502Z"
   },
   {
    "duration": 190,
    "start_time": "2022-05-15T15:23:24.230Z"
   },
   {
    "duration": 588,
    "start_time": "2022-05-15T15:23:29.440Z"
   },
   {
    "duration": 447,
    "start_time": "2022-05-15T15:23:37.700Z"
   },
   {
    "duration": 317,
    "start_time": "2022-05-15T15:24:06.067Z"
   },
   {
    "duration": 443,
    "start_time": "2022-05-15T15:24:37.520Z"
   },
   {
    "duration": 325,
    "start_time": "2022-05-15T15:26:52.520Z"
   },
   {
    "duration": 318,
    "start_time": "2022-05-15T15:27:37.995Z"
   },
   {
    "duration": 30,
    "start_time": "2022-05-15T15:28:45.780Z"
   },
   {
    "duration": 21,
    "start_time": "2022-05-15T15:29:47.092Z"
   },
   {
    "duration": 14,
    "start_time": "2022-05-15T15:29:49.079Z"
   },
   {
    "duration": 8,
    "start_time": "2022-05-15T15:35:33.572Z"
   },
   {
    "duration": 8,
    "start_time": "2022-05-15T15:35:50.273Z"
   },
   {
    "duration": 321,
    "start_time": "2022-05-15T15:37:39.816Z"
   },
   {
    "duration": 297,
    "start_time": "2022-05-15T15:38:15.345Z"
   },
   {
    "duration": 13,
    "start_time": "2022-05-15T15:40:12.360Z"
   },
   {
    "duration": 1918,
    "start_time": "2022-05-15T15:40:17.623Z"
   },
   {
    "duration": 1706,
    "start_time": "2022-05-15T15:40:21.847Z"
   },
   {
    "duration": 1601,
    "start_time": "2022-05-15T15:40:38.292Z"
   },
   {
    "duration": 895,
    "start_time": "2022-05-15T15:40:39.896Z"
   },
   {
    "duration": 18,
    "start_time": "2022-05-15T15:40:40.794Z"
   },
   {
    "duration": 16,
    "start_time": "2022-05-15T15:40:40.816Z"
   },
   {
    "duration": 635,
    "start_time": "2022-05-15T15:40:40.834Z"
   },
   {
    "duration": 30,
    "start_time": "2022-05-15T15:40:41.481Z"
   },
   {
    "duration": 13,
    "start_time": "2022-05-15T15:40:41.513Z"
   },
   {
    "duration": 34,
    "start_time": "2022-05-15T15:40:41.528Z"
   },
   {
    "duration": 130,
    "start_time": "2022-05-15T15:40:41.564Z"
   },
   {
    "duration": 28,
    "start_time": "2022-05-15T15:40:41.702Z"
   },
   {
    "duration": 85,
    "start_time": "2022-05-15T15:40:41.733Z"
   },
   {
    "duration": 34,
    "start_time": "2022-05-15T15:40:41.820Z"
   },
   {
    "duration": 44,
    "start_time": "2022-05-15T15:40:41.857Z"
   },
   {
    "duration": 84,
    "start_time": "2022-05-15T15:40:41.905Z"
   },
   {
    "duration": 9,
    "start_time": "2022-05-15T15:40:41.991Z"
   },
   {
    "duration": 19,
    "start_time": "2022-05-15T15:40:42.003Z"
   },
   {
    "duration": 153,
    "start_time": "2022-05-15T15:40:42.025Z"
   },
   {
    "duration": 62,
    "start_time": "2022-05-15T15:40:42.180Z"
   },
   {
    "duration": 76,
    "start_time": "2022-05-15T15:40:42.245Z"
   },
   {
    "duration": 74,
    "start_time": "2022-05-15T15:40:42.324Z"
   },
   {
    "duration": 13,
    "start_time": "2022-05-15T15:40:42.401Z"
   },
   {
    "duration": 35,
    "start_time": "2022-05-15T15:40:42.417Z"
   },
   {
    "duration": 42,
    "start_time": "2022-05-15T15:40:42.454Z"
   },
   {
    "duration": 14,
    "start_time": "2022-05-15T15:40:42.499Z"
   },
   {
    "duration": 725,
    "start_time": "2022-05-15T15:40:42.515Z"
   },
   {
    "duration": 21,
    "start_time": "2022-05-15T15:40:43.242Z"
   },
   {
    "duration": 26,
    "start_time": "2022-05-15T15:40:43.266Z"
   },
   {
    "duration": 9,
    "start_time": "2022-05-15T15:40:43.298Z"
   },
   {
    "duration": 11,
    "start_time": "2022-05-15T15:40:43.309Z"
   },
   {
    "duration": 364,
    "start_time": "2022-05-15T15:40:43.322Z"
   },
   {
    "duration": 38,
    "start_time": "2022-05-15T15:40:43.690Z"
   },
   {
    "duration": 10,
    "start_time": "2022-05-15T15:40:43.731Z"
   },
   {
    "duration": 61,
    "start_time": "2022-05-15T15:40:43.744Z"
   },
   {
    "duration": 10,
    "start_time": "2022-05-15T15:40:43.807Z"
   },
   {
    "duration": 11,
    "start_time": "2022-05-15T15:40:43.819Z"
   },
   {
    "duration": 8,
    "start_time": "2022-05-15T15:40:43.832Z"
   },
   {
    "duration": 351,
    "start_time": "2022-05-15T15:40:43.842Z"
   },
   {
    "duration": 20,
    "start_time": "2022-05-15T15:40:44.195Z"
   },
   {
    "duration": 12,
    "start_time": "2022-05-15T15:40:46.893Z"
   },
   {
    "duration": 11,
    "start_time": "2022-05-15T15:43:32.843Z"
   },
   {
    "duration": 1814,
    "start_time": "2022-05-15T15:43:36.010Z"
   },
   {
    "duration": 9,
    "start_time": "2022-05-15T15:43:42.847Z"
   },
   {
    "duration": 357,
    "start_time": "2022-05-15T15:43:58.407Z"
   },
   {
    "duration": 419,
    "start_time": "2022-05-15T15:44:05.333Z"
   },
   {
    "duration": 24,
    "start_time": "2022-05-15T15:45:23.019Z"
   },
   {
    "duration": 13,
    "start_time": "2022-05-15T15:47:53.676Z"
   },
   {
    "duration": 7,
    "start_time": "2022-05-15T15:48:31.297Z"
   },
   {
    "duration": 10,
    "start_time": "2022-05-15T15:57:22.379Z"
   },
   {
    "duration": 6,
    "start_time": "2022-05-15T15:57:22.924Z"
   },
   {
    "duration": 11,
    "start_time": "2022-05-15T15:57:25.722Z"
   },
   {
    "duration": 6,
    "start_time": "2022-05-15T15:57:27.921Z"
   },
   {
    "duration": 364,
    "start_time": "2022-05-15T15:59:09.020Z"
   },
   {
    "duration": 394,
    "start_time": "2022-05-15T15:59:19.792Z"
   },
   {
    "duration": 556,
    "start_time": "2022-05-15T16:02:10.495Z"
   },
   {
    "duration": 482,
    "start_time": "2022-05-15T16:02:29.371Z"
   },
   {
    "duration": 480,
    "start_time": "2022-05-15T16:02:44.878Z"
   },
   {
    "duration": 231,
    "start_time": "2022-05-15T16:03:13.906Z"
   },
   {
    "duration": 365,
    "start_time": "2022-05-15T16:03:48.480Z"
   },
   {
    "duration": 471,
    "start_time": "2022-05-15T16:03:55.119Z"
   },
   {
    "duration": 589,
    "start_time": "2022-05-15T16:04:13.747Z"
   },
   {
    "duration": 239,
    "start_time": "2022-05-15T16:04:26.734Z"
   },
   {
    "duration": 511,
    "start_time": "2022-05-15T16:04:34.818Z"
   },
   {
    "duration": 494,
    "start_time": "2022-05-15T16:05:52.510Z"
   },
   {
    "duration": 99,
    "start_time": "2022-05-15T16:06:08.190Z"
   },
   {
    "duration": 0,
    "start_time": "2022-05-15T16:06:08.297Z"
   },
   {
    "duration": 0,
    "start_time": "2022-05-15T16:06:08.305Z"
   },
   {
    "duration": 0,
    "start_time": "2022-05-15T16:06:08.307Z"
   },
   {
    "duration": 0,
    "start_time": "2022-05-15T16:06:08.309Z"
   },
   {
    "duration": 0,
    "start_time": "2022-05-15T16:06:08.311Z"
   },
   {
    "duration": 0,
    "start_time": "2022-05-15T16:06:08.312Z"
   },
   {
    "duration": 0,
    "start_time": "2022-05-15T16:06:08.314Z"
   },
   {
    "duration": 0,
    "start_time": "2022-05-15T16:06:08.316Z"
   },
   {
    "duration": 0,
    "start_time": "2022-05-15T16:06:08.319Z"
   },
   {
    "duration": 0,
    "start_time": "2022-05-15T16:06:08.321Z"
   },
   {
    "duration": 0,
    "start_time": "2022-05-15T16:06:08.322Z"
   },
   {
    "duration": 0,
    "start_time": "2022-05-15T16:06:08.324Z"
   },
   {
    "duration": 0,
    "start_time": "2022-05-15T16:06:08.325Z"
   },
   {
    "duration": 0,
    "start_time": "2022-05-15T16:06:08.327Z"
   },
   {
    "duration": 0,
    "start_time": "2022-05-15T16:06:08.329Z"
   },
   {
    "duration": 1,
    "start_time": "2022-05-15T16:06:08.330Z"
   },
   {
    "duration": 0,
    "start_time": "2022-05-15T16:06:08.332Z"
   },
   {
    "duration": 0,
    "start_time": "2022-05-15T16:06:08.333Z"
   },
   {
    "duration": 0,
    "start_time": "2022-05-15T16:06:08.335Z"
   },
   {
    "duration": 0,
    "start_time": "2022-05-15T16:06:08.336Z"
   },
   {
    "duration": 1826,
    "start_time": "2022-05-15T16:06:14.338Z"
   },
   {
    "duration": 607,
    "start_time": "2022-05-15T16:06:16.167Z"
   },
   {
    "duration": 23,
    "start_time": "2022-05-15T16:06:16.777Z"
   },
   {
    "duration": 33,
    "start_time": "2022-05-15T16:06:16.804Z"
   },
   {
    "duration": 555,
    "start_time": "2022-05-15T16:06:16.839Z"
   },
   {
    "duration": 22,
    "start_time": "2022-05-15T16:06:17.399Z"
   },
   {
    "duration": 17,
    "start_time": "2022-05-15T16:06:17.426Z"
   },
   {
    "duration": 64,
    "start_time": "2022-05-15T16:06:17.445Z"
   },
   {
    "duration": 116,
    "start_time": "2022-05-15T16:06:17.511Z"
   },
   {
    "duration": 25,
    "start_time": "2022-05-15T16:06:17.631Z"
   },
   {
    "duration": 95,
    "start_time": "2022-05-15T16:06:17.659Z"
   },
   {
    "duration": 62,
    "start_time": "2022-05-15T16:06:17.757Z"
   },
   {
    "duration": 14,
    "start_time": "2022-05-15T16:06:17.822Z"
   },
   {
    "duration": 141,
    "start_time": "2022-05-15T16:06:17.839Z"
   },
   {
    "duration": 13,
    "start_time": "2022-05-15T16:06:17.989Z"
   },
   {
    "duration": 40,
    "start_time": "2022-05-15T16:06:18.028Z"
   },
   {
    "duration": 185,
    "start_time": "2022-05-15T16:06:18.071Z"
   },
   {
    "duration": 78,
    "start_time": "2022-05-15T16:06:18.259Z"
   },
   {
    "duration": 99,
    "start_time": "2022-05-15T16:06:18.340Z"
   },
   {
    "duration": 86,
    "start_time": "2022-05-15T16:06:18.446Z"
   },
   {
    "duration": 15,
    "start_time": "2022-05-15T16:06:18.535Z"
   },
   {
    "duration": 71,
    "start_time": "2022-05-15T16:06:18.552Z"
   },
   {
    "duration": 10,
    "start_time": "2022-05-15T16:06:18.626Z"
   },
   {
    "duration": 14,
    "start_time": "2022-05-15T16:06:18.640Z"
   },
   {
    "duration": 443,
    "start_time": "2022-05-15T16:06:18.657Z"
   },
   {
    "duration": 26,
    "start_time": "2022-05-15T16:06:19.103Z"
   },
   {
    "duration": 16,
    "start_time": "2022-05-15T16:06:19.132Z"
   },
   {
    "duration": 8,
    "start_time": "2022-05-15T16:06:19.155Z"
   },
   {
    "duration": 53,
    "start_time": "2022-05-15T16:06:19.166Z"
   },
   {
    "duration": 503,
    "start_time": "2022-05-15T16:06:19.222Z"
   },
   {
    "duration": 63,
    "start_time": "2022-05-15T16:06:19.730Z"
   },
   {
    "duration": 18,
    "start_time": "2022-05-15T16:06:19.796Z"
   },
   {
    "duration": 23,
    "start_time": "2022-05-15T16:06:19.819Z"
   },
   {
    "duration": 8,
    "start_time": "2022-05-15T16:06:19.845Z"
   },
   {
    "duration": 43,
    "start_time": "2022-05-15T16:06:19.857Z"
   },
   {
    "duration": 7,
    "start_time": "2022-05-15T16:06:19.902Z"
   },
   {
    "duration": 461,
    "start_time": "2022-05-15T16:06:19.917Z"
   },
   {
    "duration": 25,
    "start_time": "2022-05-15T16:06:20.383Z"
   },
   {
    "duration": 44,
    "start_time": "2022-05-15T16:06:20.411Z"
   },
   {
    "duration": 8,
    "start_time": "2022-05-15T16:06:20.458Z"
   },
   {
    "duration": 438,
    "start_time": "2022-05-15T16:06:20.469Z"
   },
   {
    "duration": 26,
    "start_time": "2022-05-15T16:06:20.910Z"
   },
   {
    "duration": 114,
    "start_time": "2022-05-15T16:06:20.939Z"
   },
   {
    "duration": 11,
    "start_time": "2022-05-15T16:06:21.056Z"
   },
   {
    "duration": 24,
    "start_time": "2022-05-15T16:06:21.069Z"
   },
   {
    "duration": 20,
    "start_time": "2022-05-15T16:06:21.096Z"
   },
   {
    "duration": 25,
    "start_time": "2022-05-15T16:06:21.118Z"
   },
   {
    "duration": 583,
    "start_time": "2022-05-15T16:06:21.146Z"
   },
   {
    "duration": 17,
    "start_time": "2022-05-15T16:06:21.732Z"
   },
   {
    "duration": 49,
    "start_time": "2022-05-15T16:06:21.751Z"
   },
   {
    "duration": 41,
    "start_time": "2022-05-15T16:06:21.805Z"
   },
   {
    "duration": 17,
    "start_time": "2022-05-15T16:06:21.848Z"
   },
   {
    "duration": 158,
    "start_time": "2022-05-15T16:06:21.868Z"
   },
   {
    "duration": 571,
    "start_time": "2022-05-15T16:06:22.029Z"
   },
   {
    "duration": 29,
    "start_time": "2022-05-15T16:06:22.607Z"
   },
   {
    "duration": 17,
    "start_time": "2022-05-15T16:06:22.639Z"
   },
   {
    "duration": 7,
    "start_time": "2022-05-15T16:06:22.687Z"
   },
   {
    "duration": 372,
    "start_time": "2022-05-15T16:06:22.698Z"
   },
   {
    "duration": 50,
    "start_time": "2022-05-15T16:06:23.083Z"
   },
   {
    "duration": 159,
    "start_time": "2022-05-15T16:06:23.141Z"
   },
   {
    "duration": 0,
    "start_time": "2022-05-15T16:06:23.303Z"
   },
   {
    "duration": 0,
    "start_time": "2022-05-15T16:06:23.306Z"
   },
   {
    "duration": 0,
    "start_time": "2022-05-15T16:06:23.309Z"
   },
   {
    "duration": 0,
    "start_time": "2022-05-15T16:06:23.312Z"
   },
   {
    "duration": 0,
    "start_time": "2022-05-15T16:06:23.315Z"
   },
   {
    "duration": 0,
    "start_time": "2022-05-15T16:06:23.317Z"
   },
   {
    "duration": 0,
    "start_time": "2022-05-15T16:06:23.320Z"
   },
   {
    "duration": 0,
    "start_time": "2022-05-15T16:06:23.322Z"
   },
   {
    "duration": 18,
    "start_time": "2022-05-15T16:06:29.974Z"
   },
   {
    "duration": 8,
    "start_time": "2022-05-15T16:06:30.328Z"
   },
   {
    "duration": 12,
    "start_time": "2022-05-15T16:06:30.659Z"
   },
   {
    "duration": 9,
    "start_time": "2022-05-15T16:06:31.341Z"
   },
   {
    "duration": 1717,
    "start_time": "2022-05-15T16:06:44.892Z"
   },
   {
    "duration": 562,
    "start_time": "2022-05-15T16:06:46.612Z"
   },
   {
    "duration": 28,
    "start_time": "2022-05-15T16:06:47.177Z"
   },
   {
    "duration": 38,
    "start_time": "2022-05-15T16:06:47.208Z"
   },
   {
    "duration": 758,
    "start_time": "2022-05-15T16:06:47.250Z"
   },
   {
    "duration": 20,
    "start_time": "2022-05-15T16:06:48.010Z"
   },
   {
    "duration": 30,
    "start_time": "2022-05-15T16:06:48.033Z"
   },
   {
    "duration": 71,
    "start_time": "2022-05-15T16:06:48.066Z"
   },
   {
    "duration": 185,
    "start_time": "2022-05-15T16:06:48.140Z"
   },
   {
    "duration": 25,
    "start_time": "2022-05-15T16:06:48.328Z"
   },
   {
    "duration": 94,
    "start_time": "2022-05-15T16:06:48.356Z"
   },
   {
    "duration": 48,
    "start_time": "2022-05-15T16:06:48.452Z"
   },
   {
    "duration": 35,
    "start_time": "2022-05-15T16:06:48.503Z"
   },
   {
    "duration": 97,
    "start_time": "2022-05-15T16:06:48.545Z"
   },
   {
    "duration": 9,
    "start_time": "2022-05-15T16:06:48.644Z"
   },
   {
    "duration": 34,
    "start_time": "2022-05-15T16:06:48.655Z"
   },
   {
    "duration": 209,
    "start_time": "2022-05-15T16:06:48.693Z"
   },
   {
    "duration": 52,
    "start_time": "2022-05-15T16:06:48.905Z"
   },
   {
    "duration": 84,
    "start_time": "2022-05-15T16:06:48.959Z"
   },
   {
    "duration": 74,
    "start_time": "2022-05-15T16:06:49.046Z"
   },
   {
    "duration": 13,
    "start_time": "2022-05-15T16:06:49.122Z"
   },
   {
    "duration": 59,
    "start_time": "2022-05-15T16:06:49.138Z"
   },
   {
    "duration": 8,
    "start_time": "2022-05-15T16:06:49.201Z"
   },
   {
    "duration": 16,
    "start_time": "2022-05-15T16:06:49.212Z"
   },
   {
    "duration": 413,
    "start_time": "2022-05-15T16:06:49.230Z"
   },
   {
    "duration": 42,
    "start_time": "2022-05-15T16:06:49.647Z"
   },
   {
    "duration": 18,
    "start_time": "2022-05-15T16:06:49.699Z"
   },
   {
    "duration": 13,
    "start_time": "2022-05-15T16:06:49.720Z"
   },
   {
    "duration": 15,
    "start_time": "2022-05-15T16:06:49.735Z"
   },
   {
    "duration": 376,
    "start_time": "2022-05-15T16:06:49.752Z"
   },
   {
    "duration": 69,
    "start_time": "2022-05-15T16:06:50.131Z"
   },
   {
    "duration": 22,
    "start_time": "2022-05-15T16:06:50.203Z"
   },
   {
    "duration": 20,
    "start_time": "2022-05-15T16:06:50.227Z"
   },
   {
    "duration": 44,
    "start_time": "2022-05-15T16:06:50.249Z"
   },
   {
    "duration": 21,
    "start_time": "2022-05-15T16:06:50.295Z"
   },
   {
    "duration": 8,
    "start_time": "2022-05-15T16:06:50.320Z"
   },
   {
    "duration": 370,
    "start_time": "2022-05-15T16:06:50.331Z"
   },
   {
    "duration": 27,
    "start_time": "2022-05-15T16:06:50.704Z"
   },
   {
    "duration": 13,
    "start_time": "2022-05-15T16:06:50.734Z"
   },
   {
    "duration": 33,
    "start_time": "2022-05-15T16:06:50.750Z"
   },
   {
    "duration": 473,
    "start_time": "2022-05-15T16:06:50.792Z"
   },
   {
    "duration": 35,
    "start_time": "2022-05-15T16:06:51.268Z"
   },
   {
    "duration": 130,
    "start_time": "2022-05-15T16:06:51.310Z"
   },
   {
    "duration": 11,
    "start_time": "2022-05-15T16:06:51.443Z"
   },
   {
    "duration": 14,
    "start_time": "2022-05-15T16:06:51.456Z"
   },
   {
    "duration": 40,
    "start_time": "2022-05-15T16:06:51.472Z"
   },
   {
    "duration": 37,
    "start_time": "2022-05-15T16:06:51.515Z"
   },
   {
    "duration": 507,
    "start_time": "2022-05-15T16:07:03.542Z"
   },
   {
    "duration": 679,
    "start_time": "2022-05-15T16:07:51.953Z"
   },
   {
    "duration": 859,
    "start_time": "2022-05-15T16:08:10.980Z"
   },
   {
    "duration": 503,
    "start_time": "2022-05-15T16:08:21.448Z"
   },
   {
    "duration": 538,
    "start_time": "2022-05-15T16:08:25.553Z"
   },
   {
    "duration": 279,
    "start_time": "2022-05-15T16:08:40.856Z"
   },
   {
    "duration": 34,
    "start_time": "2022-05-15T16:08:55.586Z"
   },
   {
    "duration": 24,
    "start_time": "2022-05-15T16:09:01.986Z"
   },
   {
    "duration": 27,
    "start_time": "2022-05-15T16:09:27.333Z"
   },
   {
    "duration": 20,
    "start_time": "2022-05-15T16:09:41.502Z"
   },
   {
    "duration": 34,
    "start_time": "2022-05-15T16:09:54.369Z"
   },
   {
    "duration": 468,
    "start_time": "2022-05-15T16:11:17.967Z"
   },
   {
    "duration": 481,
    "start_time": "2022-05-15T16:11:35.509Z"
   },
   {
    "duration": 838,
    "start_time": "2022-05-15T16:11:45.967Z"
   },
   {
    "duration": 743,
    "start_time": "2022-05-15T16:12:03.293Z"
   },
   {
    "duration": 401,
    "start_time": "2022-05-15T16:13:08.796Z"
   },
   {
    "duration": 360,
    "start_time": "2022-05-15T16:14:04.628Z"
   },
   {
    "duration": 405,
    "start_time": "2022-05-15T16:14:21.174Z"
   },
   {
    "duration": 572,
    "start_time": "2022-05-15T16:14:29.372Z"
   },
   {
    "duration": 551,
    "start_time": "2022-05-15T16:14:33.419Z"
   },
   {
    "duration": 380,
    "start_time": "2022-05-15T16:15:56.304Z"
   },
   {
    "duration": 718,
    "start_time": "2022-05-15T16:16:02.005Z"
   },
   {
    "duration": 368,
    "start_time": "2022-05-15T16:16:07.693Z"
   },
   {
    "duration": 369,
    "start_time": "2022-05-15T16:16:46.588Z"
   },
   {
    "duration": 375,
    "start_time": "2022-05-15T16:18:40.728Z"
   },
   {
    "duration": 392,
    "start_time": "2022-05-15T16:18:58.845Z"
   },
   {
    "duration": 429,
    "start_time": "2022-05-15T16:19:11.567Z"
   },
   {
    "duration": 262,
    "start_time": "2022-05-15T16:19:30.314Z"
   },
   {
    "duration": 341,
    "start_time": "2022-05-15T16:19:47.848Z"
   },
   {
    "duration": 27402,
    "start_time": "2022-05-15T16:20:05.021Z"
   },
   {
    "duration": 406,
    "start_time": "2022-05-15T16:21:02.848Z"
   },
   {
    "duration": 378,
    "start_time": "2022-05-15T16:22:58.537Z"
   },
   {
    "duration": 405,
    "start_time": "2022-05-15T16:23:03.718Z"
   },
   {
    "duration": 371,
    "start_time": "2022-05-15T16:23:23.065Z"
   },
   {
    "duration": 552,
    "start_time": "2022-05-15T16:23:28.203Z"
   },
   {
    "duration": 381,
    "start_time": "2022-05-15T16:23:34.439Z"
   },
   {
    "duration": 386,
    "start_time": "2022-05-15T16:23:40.927Z"
   },
   {
    "duration": 396,
    "start_time": "2022-05-15T16:24:05.784Z"
   },
   {
    "duration": 388,
    "start_time": "2022-05-15T16:24:35.205Z"
   },
   {
    "duration": 373,
    "start_time": "2022-05-15T16:24:45.703Z"
   },
   {
    "duration": 16,
    "start_time": "2022-05-15T16:25:51.877Z"
   },
   {
    "duration": 29,
    "start_time": "2022-05-15T16:25:55.149Z"
   },
   {
    "duration": 12,
    "start_time": "2022-05-15T16:25:58.755Z"
   },
   {
    "duration": 6,
    "start_time": "2022-05-15T16:26:01.378Z"
   },
   {
    "duration": 310,
    "start_time": "2022-05-15T16:32:27.355Z"
   },
   {
    "duration": 307,
    "start_time": "2022-05-15T16:32:42.082Z"
   },
   {
    "duration": 418,
    "start_time": "2022-05-15T16:32:53.988Z"
   },
   {
    "duration": 370,
    "start_time": "2022-05-15T16:34:22.389Z"
   },
   {
    "duration": 309,
    "start_time": "2022-05-15T16:34:46.217Z"
   },
   {
    "duration": 100,
    "start_time": "2022-05-15T16:34:56.656Z"
   },
   {
    "duration": 455,
    "start_time": "2022-05-15T16:35:04.631Z"
   },
   {
    "duration": 326,
    "start_time": "2022-05-15T16:35:10.955Z"
   },
   {
    "duration": 416,
    "start_time": "2022-05-15T16:35:17.016Z"
   },
   {
    "duration": 385,
    "start_time": "2022-05-15T16:35:38.183Z"
   },
   {
    "duration": 21,
    "start_time": "2022-05-15T16:36:06.455Z"
   },
   {
    "duration": 12,
    "start_time": "2022-05-15T16:37:29.249Z"
   },
   {
    "duration": 11,
    "start_time": "2022-05-15T16:38:28.637Z"
   },
   {
    "duration": 6,
    "start_time": "2022-05-15T16:38:42.917Z"
   },
   {
    "duration": 2696,
    "start_time": "2022-05-15T16:39:00.035Z"
   },
   {
    "duration": 296,
    "start_time": "2022-05-15T16:39:14.331Z"
   },
   {
    "duration": 346,
    "start_time": "2022-05-15T16:42:01.701Z"
   },
   {
    "duration": 346,
    "start_time": "2022-05-15T16:42:16.526Z"
   },
   {
    "duration": 353,
    "start_time": "2022-05-15T16:43:12.301Z"
   },
   {
    "duration": 394,
    "start_time": "2022-05-15T16:43:51.219Z"
   },
   {
    "duration": 1147,
    "start_time": "2022-05-15T16:45:44.472Z"
   },
   {
    "duration": 21,
    "start_time": "2022-05-15T16:46:15.441Z"
   },
   {
    "duration": 36,
    "start_time": "2022-05-15T16:52:39.987Z"
   },
   {
    "duration": 32,
    "start_time": "2022-05-15T16:52:40.692Z"
   },
   {
    "duration": 46,
    "start_time": "2022-05-15T16:52:47.464Z"
   },
   {
    "duration": 297,
    "start_time": "2022-05-15T16:52:55.277Z"
   },
   {
    "duration": 311,
    "start_time": "2022-05-15T16:55:02.807Z"
   },
   {
    "duration": 413,
    "start_time": "2022-05-15T16:55:14.407Z"
   },
   {
    "duration": 20,
    "start_time": "2022-05-15T17:07:47.576Z"
   },
   {
    "duration": 6,
    "start_time": "2022-05-15T17:07:54.193Z"
   },
   {
    "duration": 8,
    "start_time": "2022-05-15T17:13:31.517Z"
   },
   {
    "duration": 6,
    "start_time": "2022-05-15T17:13:32.122Z"
   },
   {
    "duration": 122,
    "start_time": "2022-05-15T17:16:09.000Z"
   },
   {
    "duration": 17,
    "start_time": "2022-05-15T17:17:12.370Z"
   },
   {
    "duration": 14,
    "start_time": "2022-05-15T17:18:02.507Z"
   },
   {
    "duration": 6,
    "start_time": "2022-05-15T17:18:39.133Z"
   },
   {
    "duration": 14,
    "start_time": "2022-05-15T17:18:53.473Z"
   },
   {
    "duration": 7,
    "start_time": "2022-05-15T17:20:50.633Z"
   },
   {
    "duration": 10,
    "start_time": "2022-05-15T17:22:03.709Z"
   },
   {
    "duration": 1849,
    "start_time": "2022-05-15T17:34:36.410Z"
   },
   {
    "duration": 734,
    "start_time": "2022-05-15T17:34:38.262Z"
   },
   {
    "duration": 27,
    "start_time": "2022-05-15T17:34:38.998Z"
   },
   {
    "duration": 39,
    "start_time": "2022-05-15T17:34:39.027Z"
   },
   {
    "duration": 710,
    "start_time": "2022-05-15T17:34:39.070Z"
   },
   {
    "duration": 27,
    "start_time": "2022-05-15T17:34:39.782Z"
   },
   {
    "duration": 41,
    "start_time": "2022-05-15T17:34:39.813Z"
   },
   {
    "duration": 79,
    "start_time": "2022-05-15T17:34:39.857Z"
   },
   {
    "duration": 147,
    "start_time": "2022-05-15T17:34:39.941Z"
   },
   {
    "duration": 39,
    "start_time": "2022-05-15T17:34:40.090Z"
   },
   {
    "duration": 111,
    "start_time": "2022-05-15T17:34:40.131Z"
   },
   {
    "duration": 56,
    "start_time": "2022-05-15T17:34:40.244Z"
   },
   {
    "duration": 17,
    "start_time": "2022-05-15T17:34:40.303Z"
   },
   {
    "duration": 159,
    "start_time": "2022-05-15T17:34:40.326Z"
   },
   {
    "duration": 8,
    "start_time": "2022-05-15T17:34:40.488Z"
   },
   {
    "duration": 51,
    "start_time": "2022-05-15T17:34:40.500Z"
   },
   {
    "duration": 267,
    "start_time": "2022-05-15T17:34:40.554Z"
   },
   {
    "duration": 165,
    "start_time": "2022-05-15T17:34:40.824Z"
   },
   {
    "duration": 134,
    "start_time": "2022-05-15T17:34:40.992Z"
   },
   {
    "duration": 59,
    "start_time": "2022-05-15T17:34:41.129Z"
   },
   {
    "duration": 15,
    "start_time": "2022-05-15T17:34:41.191Z"
   },
   {
    "duration": 86,
    "start_time": "2022-05-15T17:34:41.209Z"
   },
   {
    "duration": 8,
    "start_time": "2022-05-15T17:34:41.298Z"
   },
   {
    "duration": 43,
    "start_time": "2022-05-15T17:34:41.309Z"
   },
   {
    "duration": 764,
    "start_time": "2022-05-15T17:34:41.355Z"
   },
   {
    "duration": 22,
    "start_time": "2022-05-15T17:34:42.122Z"
   },
   {
    "duration": 50,
    "start_time": "2022-05-15T17:34:42.147Z"
   },
   {
    "duration": 8,
    "start_time": "2022-05-15T17:34:42.200Z"
   },
   {
    "duration": 38,
    "start_time": "2022-05-15T17:34:42.211Z"
   },
   {
    "duration": 502,
    "start_time": "2022-05-15T17:34:42.252Z"
   },
   {
    "duration": 63,
    "start_time": "2022-05-15T17:34:42.757Z"
   },
   {
    "duration": 17,
    "start_time": "2022-05-15T17:34:42.822Z"
   },
   {
    "duration": 21,
    "start_time": "2022-05-15T17:34:42.842Z"
   },
   {
    "duration": 13,
    "start_time": "2022-05-15T17:34:42.883Z"
   },
   {
    "duration": 54,
    "start_time": "2022-05-15T17:34:42.899Z"
   },
   {
    "duration": 8,
    "start_time": "2022-05-15T17:34:42.955Z"
   },
   {
    "duration": 441,
    "start_time": "2022-05-15T17:34:42.966Z"
   },
   {
    "duration": 33,
    "start_time": "2022-05-15T17:34:43.409Z"
   },
   {
    "duration": 36,
    "start_time": "2022-05-15T17:34:43.447Z"
   },
   {
    "duration": 7,
    "start_time": "2022-05-15T17:34:43.489Z"
   },
   {
    "duration": 409,
    "start_time": "2022-05-15T17:34:43.505Z"
   },
   {
    "duration": 24,
    "start_time": "2022-05-15T17:34:43.917Z"
   },
   {
    "duration": 122,
    "start_time": "2022-05-15T17:34:43.945Z"
   },
   {
    "duration": 7,
    "start_time": "2022-05-15T17:34:44.070Z"
   },
   {
    "duration": 47,
    "start_time": "2022-05-15T17:34:44.097Z"
   },
   {
    "duration": 17,
    "start_time": "2022-05-15T17:34:44.147Z"
   },
   {
    "duration": 12,
    "start_time": "2022-05-15T17:34:44.167Z"
   },
   {
    "duration": 508,
    "start_time": "2022-05-15T17:34:44.190Z"
   },
   {
    "duration": 16,
    "start_time": "2022-05-15T17:34:44.701Z"
   },
   {
    "duration": 41,
    "start_time": "2022-05-15T17:34:44.720Z"
   },
   {
    "duration": 31,
    "start_time": "2022-05-15T17:34:44.764Z"
   },
   {
    "duration": 44,
    "start_time": "2022-05-15T17:34:44.798Z"
   },
   {
    "duration": 145,
    "start_time": "2022-05-15T17:34:44.846Z"
   },
   {
    "duration": 580,
    "start_time": "2022-05-15T17:34:44.993Z"
   },
   {
    "duration": 39,
    "start_time": "2022-05-15T17:34:45.575Z"
   },
   {
    "duration": 31,
    "start_time": "2022-05-15T17:34:45.616Z"
   },
   {
    "duration": 9,
    "start_time": "2022-05-15T17:34:45.650Z"
   },
   {
    "duration": 455,
    "start_time": "2022-05-15T17:34:45.661Z"
   },
   {
    "duration": 26,
    "start_time": "2022-05-15T17:34:46.125Z"
   },
   {
    "duration": 37,
    "start_time": "2022-05-15T17:34:46.153Z"
   },
   {
    "duration": 38,
    "start_time": "2022-05-15T17:34:46.193Z"
   },
   {
    "duration": 66,
    "start_time": "2022-05-15T17:34:46.234Z"
   },
   {
    "duration": 364,
    "start_time": "2022-05-15T17:34:46.303Z"
   },
   {
    "duration": 13,
    "start_time": "2022-05-15T17:34:46.671Z"
   },
   {
    "duration": 55,
    "start_time": "2022-05-15T17:34:46.687Z"
   },
   {
    "duration": 14,
    "start_time": "2022-05-15T17:34:46.745Z"
   },
   {
    "duration": 8,
    "start_time": "2022-05-15T17:34:46.762Z"
   },
   {
    "duration": 16,
    "start_time": "2022-05-15T17:34:46.772Z"
   },
   {
    "duration": 780,
    "start_time": "2022-05-16T08:03:08.609Z"
   },
   {
    "duration": 2121,
    "start_time": "2022-05-16T08:03:26.510Z"
   },
   {
    "duration": 466,
    "start_time": "2022-05-16T08:03:28.634Z"
   },
   {
    "duration": 17,
    "start_time": "2022-05-16T08:03:29.102Z"
   },
   {
    "duration": 34,
    "start_time": "2022-05-16T08:03:29.123Z"
   },
   {
    "duration": 441,
    "start_time": "2022-05-16T08:03:29.159Z"
   },
   {
    "duration": 15,
    "start_time": "2022-05-16T08:03:29.603Z"
   },
   {
    "duration": 35,
    "start_time": "2022-05-16T08:03:29.620Z"
   },
   {
    "duration": 32,
    "start_time": "2022-05-16T08:03:29.657Z"
   },
   {
    "duration": 110,
    "start_time": "2022-05-16T08:03:29.691Z"
   },
   {
    "duration": 24,
    "start_time": "2022-05-16T08:03:29.804Z"
   },
   {
    "duration": 70,
    "start_time": "2022-05-16T08:03:29.830Z"
   },
   {
    "duration": 28,
    "start_time": "2022-05-16T08:03:29.902Z"
   },
   {
    "duration": 12,
    "start_time": "2022-05-16T08:03:29.951Z"
   },
   {
    "duration": 90,
    "start_time": "2022-05-16T08:03:29.965Z"
   },
   {
    "duration": 7,
    "start_time": "2022-05-16T08:03:30.057Z"
   },
   {
    "duration": 50,
    "start_time": "2022-05-16T08:03:30.065Z"
   },
   {
    "duration": 156,
    "start_time": "2022-05-16T08:03:30.117Z"
   },
   {
    "duration": 47,
    "start_time": "2022-05-16T08:03:30.275Z"
   },
   {
    "duration": 73,
    "start_time": "2022-05-16T08:03:30.324Z"
   },
   {
    "duration": 63,
    "start_time": "2022-05-16T08:03:30.399Z"
   },
   {
    "duration": 11,
    "start_time": "2022-05-16T08:03:30.464Z"
   },
   {
    "duration": 31,
    "start_time": "2022-05-16T08:03:30.477Z"
   },
   {
    "duration": 7,
    "start_time": "2022-05-16T08:03:30.511Z"
   },
   {
    "duration": 42,
    "start_time": "2022-05-16T08:03:30.520Z"
   },
   {
    "duration": 343,
    "start_time": "2022-05-16T08:03:30.564Z"
   },
   {
    "duration": 14,
    "start_time": "2022-05-16T08:03:30.909Z"
   },
   {
    "duration": 28,
    "start_time": "2022-05-16T08:03:30.926Z"
   },
   {
    "duration": 10,
    "start_time": "2022-05-16T08:03:30.960Z"
   },
   {
    "duration": 13,
    "start_time": "2022-05-16T08:03:30.972Z"
   },
   {
    "duration": 340,
    "start_time": "2022-05-16T08:03:30.988Z"
   },
   {
    "duration": 44,
    "start_time": "2022-05-16T08:03:31.331Z"
   },
   {
    "duration": 17,
    "start_time": "2022-05-16T08:03:31.378Z"
   },
   {
    "duration": 31,
    "start_time": "2022-05-16T08:03:31.397Z"
   },
   {
    "duration": 8,
    "start_time": "2022-05-16T08:03:31.431Z"
   },
   {
    "duration": 19,
    "start_time": "2022-05-16T08:03:31.452Z"
   },
   {
    "duration": 11,
    "start_time": "2022-05-16T08:03:31.473Z"
   },
   {
    "duration": 328,
    "start_time": "2022-05-16T08:03:31.486Z"
   },
   {
    "duration": 36,
    "start_time": "2022-05-16T08:03:31.816Z"
   },
   {
    "duration": 11,
    "start_time": "2022-05-16T08:03:31.854Z"
   },
   {
    "duration": 20,
    "start_time": "2022-05-16T08:03:31.867Z"
   },
   {
    "duration": 340,
    "start_time": "2022-05-16T08:03:31.889Z"
   },
   {
    "duration": 28,
    "start_time": "2022-05-16T08:03:32.231Z"
   },
   {
    "duration": 75,
    "start_time": "2022-05-16T08:03:32.261Z"
   },
   {
    "duration": 8,
    "start_time": "2022-05-16T08:03:32.351Z"
   },
   {
    "duration": 16,
    "start_time": "2022-05-16T08:03:32.361Z"
   },
   {
    "duration": 17,
    "start_time": "2022-05-16T08:03:32.379Z"
   },
   {
    "duration": 10,
    "start_time": "2022-05-16T08:03:32.398Z"
   },
   {
    "duration": 382,
    "start_time": "2022-05-16T08:03:32.410Z"
   },
   {
    "duration": 12,
    "start_time": "2022-05-16T08:03:32.794Z"
   },
   {
    "duration": 23,
    "start_time": "2022-05-16T08:03:32.808Z"
   },
   {
    "duration": 11,
    "start_time": "2022-05-16T08:03:32.852Z"
   },
   {
    "duration": 9,
    "start_time": "2022-05-16T08:03:32.865Z"
   },
   {
    "duration": 175,
    "start_time": "2022-05-16T08:03:32.876Z"
   },
   {
    "duration": 346,
    "start_time": "2022-05-16T08:03:33.053Z"
   },
   {
    "duration": 20,
    "start_time": "2022-05-16T08:03:33.401Z"
   },
   {
    "duration": 33,
    "start_time": "2022-05-16T08:03:33.423Z"
   },
   {
    "duration": 8,
    "start_time": "2022-05-16T08:03:33.459Z"
   },
   {
    "duration": 404,
    "start_time": "2022-05-16T08:03:33.470Z"
   },
   {
    "duration": 7877,
    "start_time": "2022-05-16T08:03:33.877Z"
   },
   {
    "duration": 28,
    "start_time": "2022-05-16T08:03:41.757Z"
   },
   {
    "duration": 83,
    "start_time": "2022-05-16T08:03:41.788Z"
   },
   {
    "duration": 81,
    "start_time": "2022-05-16T08:03:41.873Z"
   },
   {
    "duration": 40,
    "start_time": "2022-05-16T08:03:41.957Z"
   },
   {
    "duration": 389,
    "start_time": "2022-05-16T08:03:41.999Z"
   },
   {
    "duration": 9,
    "start_time": "2022-05-16T08:03:42.391Z"
   },
   {
    "duration": 9,
    "start_time": "2022-05-16T08:03:42.403Z"
   },
   {
    "duration": 42,
    "start_time": "2022-05-16T08:03:42.414Z"
   },
   {
    "duration": 9,
    "start_time": "2022-05-16T08:03:42.459Z"
   },
   {
    "duration": 15,
    "start_time": "2022-05-16T08:03:42.470Z"
   },
   {
    "duration": 531,
    "start_time": "2022-05-16T20:20:48.197Z"
   },
   {
    "duration": 977,
    "start_time": "2022-05-16T20:20:55.926Z"
   },
   {
    "duration": 405,
    "start_time": "2022-05-16T20:20:56.905Z"
   },
   {
    "duration": 14,
    "start_time": "2022-05-16T20:20:57.311Z"
   },
   {
    "duration": 23,
    "start_time": "2022-05-16T20:20:57.327Z"
   },
   {
    "duration": 333,
    "start_time": "2022-05-16T20:20:57.352Z"
   },
   {
    "duration": 10,
    "start_time": "2022-05-16T20:20:57.686Z"
   },
   {
    "duration": 19,
    "start_time": "2022-05-16T20:20:57.697Z"
   },
   {
    "duration": 38,
    "start_time": "2022-05-16T20:20:57.718Z"
   },
   {
    "duration": 67,
    "start_time": "2022-05-16T20:20:57.758Z"
   },
   {
    "duration": 32,
    "start_time": "2022-05-16T20:20:57.827Z"
   },
   {
    "duration": 41,
    "start_time": "2022-05-16T20:20:57.861Z"
   },
   {
    "duration": 21,
    "start_time": "2022-05-16T20:20:57.904Z"
   },
   {
    "duration": 30,
    "start_time": "2022-05-16T20:20:57.927Z"
   },
   {
    "duration": 68,
    "start_time": "2022-05-16T20:20:57.958Z"
   },
   {
    "duration": 6,
    "start_time": "2022-05-16T20:20:58.028Z"
   },
   {
    "duration": 29,
    "start_time": "2022-05-16T20:20:58.037Z"
   },
   {
    "duration": 108,
    "start_time": "2022-05-16T20:20:58.068Z"
   },
   {
    "duration": 36,
    "start_time": "2022-05-16T20:20:58.178Z"
   },
   {
    "duration": 50,
    "start_time": "2022-05-16T20:20:58.215Z"
   },
   {
    "duration": 33,
    "start_time": "2022-05-16T20:20:58.267Z"
   },
   {
    "duration": 7,
    "start_time": "2022-05-16T20:20:58.301Z"
   },
   {
    "duration": 43,
    "start_time": "2022-05-16T20:20:58.310Z"
   },
   {
    "duration": 5,
    "start_time": "2022-05-16T20:20:58.355Z"
   },
   {
    "duration": 7,
    "start_time": "2022-05-16T20:20:58.362Z"
   },
   {
    "duration": 228,
    "start_time": "2022-05-16T20:20:58.371Z"
   },
   {
    "duration": 11,
    "start_time": "2022-05-16T20:20:58.601Z"
   },
   {
    "duration": 15,
    "start_time": "2022-05-16T20:20:58.614Z"
   },
   {
    "duration": 5,
    "start_time": "2022-05-16T20:20:58.652Z"
   },
   {
    "duration": 14,
    "start_time": "2022-05-16T20:20:58.659Z"
   },
   {
    "duration": 217,
    "start_time": "2022-05-16T20:20:58.675Z"
   },
   {
    "duration": 25,
    "start_time": "2022-05-16T20:20:58.894Z"
   },
   {
    "duration": 11,
    "start_time": "2022-05-16T20:20:58.921Z"
   },
   {
    "duration": 21,
    "start_time": "2022-05-16T20:20:58.950Z"
   },
   {
    "duration": 8,
    "start_time": "2022-05-16T20:20:58.974Z"
   },
   {
    "duration": 10,
    "start_time": "2022-05-16T20:20:58.985Z"
   },
   {
    "duration": 6,
    "start_time": "2022-05-16T20:20:58.998Z"
   },
   {
    "duration": 230,
    "start_time": "2022-05-16T20:20:59.006Z"
   },
   {
    "duration": 22,
    "start_time": "2022-05-16T20:20:59.238Z"
   },
   {
    "duration": 15,
    "start_time": "2022-05-16T20:20:59.262Z"
   },
   {
    "duration": 6,
    "start_time": "2022-05-16T20:20:59.278Z"
   },
   {
    "duration": 223,
    "start_time": "2022-05-16T20:20:59.286Z"
   },
   {
    "duration": 15,
    "start_time": "2022-05-16T20:20:59.511Z"
   },
   {
    "duration": 65,
    "start_time": "2022-05-16T20:20:59.528Z"
   },
   {
    "duration": 5,
    "start_time": "2022-05-16T20:20:59.595Z"
   },
   {
    "duration": 11,
    "start_time": "2022-05-16T20:20:59.602Z"
   },
   {
    "duration": 10,
    "start_time": "2022-05-16T20:20:59.614Z"
   },
   {
    "duration": 6,
    "start_time": "2022-05-16T20:20:59.626Z"
   },
   {
    "duration": 231,
    "start_time": "2022-05-16T20:20:59.650Z"
   },
   {
    "duration": 10,
    "start_time": "2022-05-16T20:20:59.882Z"
   },
   {
    "duration": 23,
    "start_time": "2022-05-16T20:20:59.893Z"
   },
   {
    "duration": 10,
    "start_time": "2022-05-16T20:20:59.918Z"
   },
   {
    "duration": 21,
    "start_time": "2022-05-16T20:20:59.930Z"
   },
   {
    "duration": 147,
    "start_time": "2022-05-16T20:20:59.953Z"
   },
   {
    "duration": 209,
    "start_time": "2022-05-16T20:21:00.102Z"
   },
   {
    "duration": 14,
    "start_time": "2022-05-16T20:21:00.313Z"
   },
   {
    "duration": 32,
    "start_time": "2022-05-16T20:21:00.329Z"
   },
   {
    "duration": 17,
    "start_time": "2022-05-16T20:21:00.363Z"
   },
   {
    "duration": 228,
    "start_time": "2022-05-16T20:21:00.382Z"
   },
   {
    "duration": 458,
    "start_time": "2022-05-16T20:21:14.465Z"
   }
  ],
  "kernelspec": {
   "display_name": "Python 3 (ipykernel)",
   "language": "python",
   "name": "python3"
  },
  "language_info": {
   "codemirror_mode": {
    "name": "ipython",
    "version": 3
   },
   "file_extension": ".py",
   "mimetype": "text/x-python",
   "name": "python",
   "nbconvert_exporter": "python",
   "pygments_lexer": "ipython3",
   "version": "3.9.7"
  },
  "toc": {
   "base_numbering": 1,
   "nav_menu": {},
   "number_sections": true,
   "sideBar": true,
   "skip_h1_title": true,
   "title_cell": "Содержание",
   "title_sidebar": "Содержание",
   "toc_cell": true,
   "toc_position": {
    "height": "calc(100% - 180px)",
    "left": "10px",
    "top": "150px",
    "width": "388.891px"
   },
   "toc_section_display": true,
   "toc_window_display": true
  }
 },
 "nbformat": 4,
 "nbformat_minor": 2
}
