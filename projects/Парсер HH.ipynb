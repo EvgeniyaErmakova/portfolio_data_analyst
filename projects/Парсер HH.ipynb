{
 "cells": [
  {
   "cell_type": "markdown",
   "id": "bb44bbed",
   "metadata": {
    "toc": true
   },
   "source": [
    "<h1>Table of Contents<span class=\"tocSkip\"></span></h1>\n",
    "<div class=\"toc\"><ul class=\"toc-item\"><li><span><a href=\"#Общая-цель\" data-toc-modified-id=\"Общая-цель-1\"><span class=\"toc-item-num\">1&nbsp;&nbsp;</span>Общая цель</a></span></li><li><span><a href=\"#Парсим-Headhunter\" data-toc-modified-id=\"Парсим-Headhunter-2\"><span class=\"toc-item-num\">2&nbsp;&nbsp;</span>Парсим Headhunter</a></span></li><li><span><a href=\"#Предобработка-данных\" data-toc-modified-id=\"Предобработка-данных-3\"><span class=\"toc-item-num\">3&nbsp;&nbsp;</span>Предобработка данных</a></span></li><li><span><a href=\"#EDA\" data-toc-modified-id=\"EDA-4\"><span class=\"toc-item-num\">4&nbsp;&nbsp;</span>EDA</a></span><ul class=\"toc-item\"><li><span><a href=\"#Общие-распределения\" data-toc-modified-id=\"Общие-распределения-4.1\"><span class=\"toc-item-num\">4.1&nbsp;&nbsp;</span>Общие распределения</a></span></li><li><span><a href=\"#Распределение-ЗП-по-всей-выборке\" data-toc-modified-id=\"Распределение-ЗП-по-всей-выборке-4.2\"><span class=\"toc-item-num\">4.2&nbsp;&nbsp;</span>Распределение ЗП по всей выборке</a></span></li><li><span><a href=\"#Распределение-по-Москве\" data-toc-modified-id=\"Распределение-по-Москве-4.3\"><span class=\"toc-item-num\">4.3&nbsp;&nbsp;</span>Распределение по Москве</a></span></li><li><span><a href=\"#Распределение-по-уровням-junior,-middle,-senior-по-Москве\" data-toc-modified-id=\"Распределение-по-уровням-junior,-middle,-senior-по-Москве-4.4\"><span class=\"toc-item-num\">4.4&nbsp;&nbsp;</span>Распределение по уровням junior, middle, senior по Москве</a></span></li></ul></li><li><span><a href=\"#Общий-вывод\" data-toc-modified-id=\"Общий-вывод-5\"><span class=\"toc-item-num\">5&nbsp;&nbsp;</span>Общий вывод</a></span></li></ul></div>"
   ]
  },
  {
   "cell_type": "markdown",
   "id": "490d786b",
   "metadata": {},
   "source": [
    "Импорт библиотек:"
   ]
  },
  {
   "cell_type": "code",
   "execution_count": 1,
   "id": "b24b50d8",
   "metadata": {},
   "outputs": [],
   "source": [
    "import pandas as pd\n",
    "import json\n",
    "import requests as rq\n",
    "import numpy as np\n",
    "# from io import StringIO\n",
    "import math\n",
    "import seaborn as sns\n",
    "import matplotlib.pyplot as plt"
   ]
  },
  {
   "cell_type": "markdown",
   "id": "a4b60480",
   "metadata": {},
   "source": [
    "### Общая цель"
   ]
  },
  {
   "cell_type": "markdown",
   "id": "8e063edf",
   "metadata": {},
   "source": [
    "Исследование проводила лично для себя и собственного понимания. Понятно, что многое зависит от договоренностей, но поскольку я аналитик, я могу собрать реальные данные и полагаться на них)  \n",
    "\n",
    "1. Есть зарплатный калькулятор Хабра, где люди моей профессии сами пишут свой уровень ЗП. Это - факт;\n",
    "2. Есть предложение вакансий с Хедхантера - я взяла выгрузку вакансий, где указан предлагаемый уровень зарплаты. Это - \"план\", предложение рынка;\n",
    "3. Мне было интересно, насколько фактические данные с Хабра сходятся с предложением Хедхантера.    \n",
    "\n",
    "Средний рыночный уровень зарплаты на январь 2025 г. для системного аналитика для всех уровней составляет `191 000 руб` (медиана), для уровня middle - `170 000 руб`. При этом подавляющее большинство лежит в пределах от 117 000 до 238 000 руб для уровня middle (по всем уровням не рассматриваю, т.к. слишком большой разброс).  \n",
    "\n",
    "Что ж, с фактическими данными все понятно, проанализируем предложение."
   ]
  },
  {
   "cell_type": "markdown",
   "id": "0f57b722",
   "metadata": {},
   "source": [
    "### Парсим Headhunter"
   ]
  },
  {
   "cell_type": "markdown",
   "id": "820fd397",
   "metadata": {},
   "source": [
    "Сайт недоступен для парсинга различными роботами. При этом у HH есть официальное API, к которому можно подключиться. Большая часть запросов требует авторизации, но поисковая выдача по вакансиям доступна без авторизации, мне этих данных будет достаточно."
   ]
  },
  {
   "cell_type": "markdown",
   "id": "bba847d4",
   "metadata": {},
   "source": [
    "Адрес для запроса поисковой выдачи:"
   ]
  },
  {
   "cell_type": "code",
   "execution_count": 2,
   "id": "7eb17c8c",
   "metadata": {},
   "outputs": [],
   "source": [
    "main = \"https://api.hh.ru/vacancies?text=системный+аналитик\""
   ]
  },
  {
   "cell_type": "markdown",
   "id": "4620161d",
   "metadata": {},
   "source": [
    "Также для API HH обязательно указание заголовка `User-Agent`:"
   ]
  },
  {
   "cell_type": "code",
   "execution_count": 3,
   "id": "942a5197",
   "metadata": {},
   "outputs": [],
   "source": [
    "headers = {\n",
    "    'Content-Type': 'application/json',\n",
    "    'User-Agent': 'Mozilla/5.0 (Windows NT 10.0; Win64; x64) AppleWebKit/537.36 (KHTML, like Gecko) Chrome/131.0.0.0 Safari/537.36'\n",
    "}"
   ]
  },
  {
   "cell_type": "markdown",
   "id": "84918ca1",
   "metadata": {},
   "source": [
    "Загружаем поисковую выдачу в переменную:"
   ]
  },
  {
   "cell_type": "code",
   "execution_count": 4,
   "id": "74123067",
   "metadata": {},
   "outputs": [],
   "source": [
    "main_page = rq.get(main, headers=headers)"
   ]
  },
  {
   "cell_type": "code",
   "execution_count": 5,
   "id": "e15489e4",
   "metadata": {},
   "outputs": [
    {
     "data": {
      "text/plain": [
       "200"
      ]
     },
     "execution_count": 5,
     "metadata": {},
     "output_type": "execute_result"
    }
   ],
   "source": [
    "main_page.status_code"
   ]
  },
  {
   "cell_type": "code",
   "execution_count": 6,
   "id": "2eac64ae",
   "metadata": {},
   "outputs": [],
   "source": [
    "# main_page.text"
   ]
  },
  {
   "cell_type": "markdown",
   "id": "63ef6279",
   "metadata": {},
   "source": [
    "Для начала прочитаем полученный JSON-объект:"
   ]
  },
  {
   "cell_type": "code",
   "execution_count": 7,
   "id": "32780585",
   "metadata": {},
   "outputs": [
    {
     "name": "stderr",
     "output_type": "stream",
     "text": [
      "C:\\Users\\HP\\AppData\\Local\\Temp/ipykernel_14636/1700753292.py:1: FutureWarning: pandas.io.json.json_normalize is deprecated, use pandas.json_normalize instead\n",
      "  json = pd.io.json.json_normalize(main_page.json())\n"
     ]
    }
   ],
   "source": [
    "json = pd.io.json.json_normalize(main_page.json())"
   ]
  },
  {
   "cell_type": "code",
   "execution_count": 8,
   "id": "fba2b8ff",
   "metadata": {},
   "outputs": [
    {
     "data": {
      "text/html": [
       "<div>\n",
       "<style scoped>\n",
       "    .dataframe tbody tr th:only-of-type {\n",
       "        vertical-align: middle;\n",
       "    }\n",
       "\n",
       "    .dataframe tbody tr th {\n",
       "        vertical-align: top;\n",
       "    }\n",
       "\n",
       "    .dataframe thead th {\n",
       "        text-align: right;\n",
       "    }\n",
       "</style>\n",
       "<table border=\"1\" class=\"dataframe\">\n",
       "  <thead>\n",
       "    <tr style=\"text-align: right;\">\n",
       "      <th></th>\n",
       "      <th>items</th>\n",
       "      <th>found</th>\n",
       "      <th>pages</th>\n",
       "      <th>page</th>\n",
       "      <th>per_page</th>\n",
       "      <th>clusters</th>\n",
       "      <th>arguments</th>\n",
       "      <th>fixes</th>\n",
       "      <th>suggests</th>\n",
       "      <th>alternate_url</th>\n",
       "    </tr>\n",
       "  </thead>\n",
       "  <tbody>\n",
       "    <tr>\n",
       "      <th>0</th>\n",
       "      <td>[{'id': '114823497', 'premium': False, 'name':...</td>\n",
       "      <td>3426</td>\n",
       "      <td>100</td>\n",
       "      <td>0</td>\n",
       "      <td>20</td>\n",
       "      <td>None</td>\n",
       "      <td>None</td>\n",
       "      <td>None</td>\n",
       "      <td>None</td>\n",
       "      <td>https://hh.ru/search/vacancy?enable_snippets=t...</td>\n",
       "    </tr>\n",
       "  </tbody>\n",
       "</table>\n",
       "</div>"
      ],
      "text/plain": [
       "                                               items  found  pages  page  \\\n",
       "0  [{'id': '114823497', 'premium': False, 'name':...   3426    100     0   \n",
       "\n",
       "   per_page clusters arguments fixes suggests  \\\n",
       "0        20     None      None  None     None   \n",
       "\n",
       "                                       alternate_url  \n",
       "0  https://hh.ru/search/vacancy?enable_snippets=t...  "
      ]
     },
     "execution_count": 8,
     "metadata": {},
     "output_type": "execute_result"
    }
   ],
   "source": [
    "json"
   ]
  },
  {
   "cell_type": "markdown",
   "id": "6f5126c5",
   "metadata": {},
   "source": [
    "Получили перечень полей JSON-объекта, видим, что присутствует пагинация, и мы получили первую страницу с двадцатью элементами.  \n",
    "\n",
    "Интересно, почему не сходится общее количество найденных элементов (3415) - всего 100 страниц, по 20 элементов на каждой, итого 2000 элементов. Возможно, есть ограничение в этом запросе, по умолчанию вернется только ограниченное число элементов или страниц.  \n",
    "\n",
    "*Опытным путем выяснила, что я оказалась права - нельзя получить в одном запросе больше 2000 элементов)*  \n",
    "\n",
    "Вся интересная информация находится в поле `items`, остальное не представляет интереса."
   ]
  },
  {
   "cell_type": "markdown",
   "id": "e1e195be",
   "metadata": {},
   "source": [
    "Нам нужно получить все элементы, а не только первую страницу. Стандартный способ для REST  - получить все элементы на одной странице у меня не сработал, но работает указание фиксированного количества элементов на странице и постраничная выдача.  \n",
    "Известно общее количество элементов, поэтому рассчитаем нужное количество страниц, исходя из него.  \n",
    "\n",
    "*Также опытным путем выяснено, что установлен предел допустимого количества элементов на странице - не более 100. Но при выгрузке именно этим запросом API параметр будет проигнорирован, и в любом случае будет получено 20 элементов на странице. Наверняка, где-то была эта информация, но мануалы для слабаков)))*"
   ]
  },
  {
   "cell_type": "markdown",
   "id": "0716a455",
   "metadata": {},
   "source": [
    "Рассчитываем нужное количество страниц, исходя из полученного количества элементов в поле `found`. Округляем полученное значение до целого в большую сторону:"
   ]
  },
  {
   "cell_type": "code",
   "execution_count": 9,
   "id": "b8d89e3c",
   "metadata": {},
   "outputs": [],
   "source": [
    "# указываем число элементов на странице = 20, т.к. данный запрос API для незареганных игнорирует параметр items_on_page\n",
    "number = math.ceil(json['found'][0]/20)"
   ]
  },
  {
   "cell_type": "code",
   "execution_count": 10,
   "id": "6658177c",
   "metadata": {},
   "outputs": [
    {
     "data": {
      "text/plain": [
       "172"
      ]
     },
     "execution_count": 10,
     "metadata": {},
     "output_type": "execute_result"
    }
   ],
   "source": [
    "number"
   ]
  },
  {
   "cell_type": "code",
   "execution_count": 11,
   "id": "5ca5bbcc",
   "metadata": {},
   "outputs": [],
   "source": [
    "pages = list(range(0, number))"
   ]
  },
  {
   "cell_type": "markdown",
   "id": "8b06327b",
   "metadata": {},
   "source": [
    "Далее нужно получить данные для каждой страницы из списка `pages`. Сразу преобразовываем полученный `JSON` в `dataframe` и объединяем. Функция для преобразования в `dataframe` есть ниже, вызовем ее внутри функции для постраничного чтения."
   ]
  },
  {
   "cell_type": "code",
   "execution_count": 12,
   "id": "b8fde22c",
   "metadata": {},
   "outputs": [],
   "source": [
    "def dict_list_to_df(dict_list):\n",
    "    '''\n",
    "    Получает список словарей на вход и преобразовывает в dataframe.\n",
    "    Первая строка становится строкой заголовка\n",
    "    '''\n",
    "    df = pd.DataFrame()\n",
    "    for i in dict_list:\n",
    "        row_data = pd.DataFrame(list(i.items())).T\n",
    "        header = row_data.iloc[0] # делаем первую строку заголовками датафрейма\n",
    "        row_data = row_data[1:]\n",
    "        row_data = row_data.rename(columns = header).copy()\n",
    "        df = pd.concat([df,row_data]).reset_index(drop='true')\n",
    "    return df"
   ]
  },
  {
   "cell_type": "markdown",
   "id": "8addf3dc",
   "metadata": {},
   "source": [
    "Также необходимо будет подготовить адресную строку, в которую будем подбрасывать номера страниц из списка. В адресной строке укажем название нужной вакансии также в качестве переменной - вдруг понадобится спарсить данные по другой вакансии)"
   ]
  },
  {
   "cell_type": "code",
   "execution_count": 13,
   "id": "554bf19e",
   "metadata": {},
   "outputs": [],
   "source": [
    "vacancy = 'системный+аналитик'"
   ]
  },
  {
   "cell_type": "code",
   "execution_count": 14,
   "id": "f1746f7f",
   "metadata": {},
   "outputs": [],
   "source": [
    "main_pageable = f\"https://api.hh.ru/vacancies?text={vacancy}&per_page=100&page={number}\""
   ]
  },
  {
   "cell_type": "code",
   "execution_count": 15,
   "id": "db0863c0",
   "metadata": {},
   "outputs": [
    {
     "data": {
      "text/plain": [
       "'https://api.hh.ru/vacancies?text=системный+аналитик&per_page=100&page=172'"
      ]
     },
     "execution_count": 15,
     "metadata": {},
     "output_type": "execute_result"
    }
   ],
   "source": [
    "main_pageable"
   ]
  },
  {
   "cell_type": "code",
   "execution_count": 16,
   "id": "17b51860",
   "metadata": {},
   "outputs": [],
   "source": [
    "def transform_search_result(pages):\n",
    "    '''\n",
    "    Получает на вход список с номерами страниц и последовательно подкидывает номер страницы в адресную строку.\n",
    "    Для каждого результата чтения данных с указанной страницы возвращает HTTP-статус выполнения запроса и текст ошибки \n",
    "    в случае, если запрос не был успешным.\n",
    "    Полученные данные составляет в датафрейм.\n",
    "    '''\n",
    "    status_list = []\n",
    "    errors_list = []\n",
    "    df = pd.DataFrame()\n",
    "    for i in pages:\n",
    "        url = f\"https://api.hh.ru/vacancies?text={vacancy}&page={i}\"\n",
    "        json_loads = rq.get(url, headers=headers)\n",
    "        if json_loads.status_code != 200:\n",
    "            errors_list.append(json_loads.text)\n",
    "        else:\n",
    "            status_list.append(json_loads.status_code)\n",
    "            json = pd.io.json.json_normalize(main_page.json())\n",
    "            json = json['items'][0]\n",
    "            data = dict_list_to_df(json)\n",
    "            df = pd.concat([df,data]).reset_index(drop='true')\n",
    "    print(status_list,errors_list) # выводим результат чтения и ошибки, если есть\n",
    "    return df"
   ]
  },
  {
   "cell_type": "code",
   "execution_count": 17,
   "id": "a53f1e64",
   "metadata": {},
   "outputs": [
    {
     "name": "stderr",
     "output_type": "stream",
     "text": [
      "C:\\Users\\HP\\AppData\\Local\\Temp/ipykernel_14636/3063064399.py:18: FutureWarning: pandas.io.json.json_normalize is deprecated, use pandas.json_normalize instead\n",
      "  json = pd.io.json.json_normalize(main_page.json())\n"
     ]
    },
    {
     "name": "stdout",
     "output_type": "stream",
     "text": [
      "[200, 200, 200, 200, 200, 200, 200, 200, 200, 200, 200, 200, 200, 200, 200, 200, 200, 200, 200, 200, 200, 200, 200, 200, 200, 200, 200, 200, 200, 200, 200, 200, 200, 200, 200, 200, 200, 200, 200, 200, 200, 200, 200, 200, 200, 200, 200, 200, 200, 200, 200, 200, 200, 200, 200, 200, 200, 200, 200, 200, 200, 200, 200, 200, 200, 200, 200, 200, 200, 200, 200, 200, 200, 200, 200, 200, 200, 200, 200, 200, 200, 200, 200, 200, 200, 200, 200, 200, 200, 200, 200, 200, 200, 200, 200, 200, 200, 200, 200, 200] ['{\"description\":\"you can\\'t look up more than 2000 items in the list\",\"bad_argument\":\"page, per_page\",\"bad_arguments\":[{\"name\":\"page, per_page\",\"description\":\"you can\\'t look up more than 2000 items in the list\"}],\"errors\":[{\"value\":\"page\",\"type\":\"bad_argument\"},{\"value\":\"per_page\",\"type\":\"bad_argument\"}],\"request_id\":\"1736267818428d88402e5806a3d91f91\"}', '{\"description\":\"you can\\'t look up more than 2000 items in the list\",\"bad_argument\":\"page, per_page\",\"bad_arguments\":[{\"name\":\"page, per_page\",\"description\":\"you can\\'t look up more than 2000 items in the list\"}],\"errors\":[{\"value\":\"page\",\"type\":\"bad_argument\"},{\"value\":\"per_page\",\"type\":\"bad_argument\"}],\"request_id\":\"17362678184874044013300472f537f3\"}', '{\"description\":\"you can\\'t look up more than 2000 items in the list\",\"bad_argument\":\"page, per_page\",\"bad_arguments\":[{\"name\":\"page, per_page\",\"description\":\"you can\\'t look up more than 2000 items in the list\"}],\"errors\":[{\"value\":\"page\",\"type\":\"bad_argument\"},{\"value\":\"per_page\",\"type\":\"bad_argument\"}],\"request_id\":\"17362678185600b49695e494abded79f\"}', '{\"description\":\"you can\\'t look up more than 2000 items in the list\",\"bad_argument\":\"page, per_page\",\"bad_arguments\":[{\"name\":\"page, per_page\",\"description\":\"you can\\'t look up more than 2000 items in the list\"}],\"errors\":[{\"value\":\"page\",\"type\":\"bad_argument\"},{\"value\":\"per_page\",\"type\":\"bad_argument\"}],\"request_id\":\"173626781863432762d773d4c39a16c9\"}', '{\"description\":\"you can\\'t look up more than 2000 items in the list\",\"bad_argument\":\"page, per_page\",\"bad_arguments\":[{\"name\":\"page, per_page\",\"description\":\"you can\\'t look up more than 2000 items in the list\"}],\"errors\":[{\"value\":\"page\",\"type\":\"bad_argument\"},{\"value\":\"per_page\",\"type\":\"bad_argument\"}],\"request_id\":\"1736267818698e0665bb203f95177bba\"}', '{\"description\":\"you can\\'t look up more than 2000 items in the list\",\"bad_argument\":\"page, per_page\",\"bad_arguments\":[{\"name\":\"page, per_page\",\"description\":\"you can\\'t look up more than 2000 items in the list\"}],\"errors\":[{\"value\":\"page\",\"type\":\"bad_argument\"},{\"value\":\"per_page\",\"type\":\"bad_argument\"}],\"request_id\":\"17362678192366a367ad80ab9f4f0b79\"}', '{\"description\":\"you can\\'t look up more than 2000 items in the list\",\"bad_argument\":\"page, per_page\",\"bad_arguments\":[{\"name\":\"page, per_page\",\"description\":\"you can\\'t look up more than 2000 items in the list\"}],\"errors\":[{\"value\":\"page\",\"type\":\"bad_argument\"},{\"value\":\"per_page\",\"type\":\"bad_argument\"}],\"request_id\":\"1736267819299d242c479c027a26d18a\"}', '{\"description\":\"you can\\'t look up more than 2000 items in the list\",\"bad_argument\":\"page, per_page\",\"bad_arguments\":[{\"name\":\"page, per_page\",\"description\":\"you can\\'t look up more than 2000 items in the list\"}],\"errors\":[{\"value\":\"page\",\"type\":\"bad_argument\"},{\"value\":\"per_page\",\"type\":\"bad_argument\"}],\"request_id\":\"1736267819365652e349a4fdca8f95a8\"}', '{\"description\":\"you can\\'t look up more than 2000 items in the list\",\"bad_argument\":\"page, per_page\",\"bad_arguments\":[{\"name\":\"page, per_page\",\"description\":\"you can\\'t look up more than 2000 items in the list\"}],\"errors\":[{\"value\":\"page\",\"type\":\"bad_argument\"},{\"value\":\"per_page\",\"type\":\"bad_argument\"}],\"request_id\":\"1736267819603a903fe23e7b0d6cb615\"}', '{\"description\":\"you can\\'t look up more than 2000 items in the list\",\"bad_argument\":\"page, per_page\",\"bad_arguments\":[{\"name\":\"page, per_page\",\"description\":\"you can\\'t look up more than 2000 items in the list\"}],\"errors\":[{\"value\":\"page\",\"type\":\"bad_argument\"},{\"value\":\"per_page\",\"type\":\"bad_argument\"}],\"request_id\":\"1736267819684cb7d21d0735b352cffe\"}', '{\"description\":\"you can\\'t look up more than 2000 items in the list\",\"bad_argument\":\"page, per_page\",\"bad_arguments\":[{\"name\":\"page, per_page\",\"description\":\"you can\\'t look up more than 2000 items in the list\"}],\"errors\":[{\"value\":\"page\",\"type\":\"bad_argument\"},{\"value\":\"per_page\",\"type\":\"bad_argument\"}],\"request_id\":\"1736267819761570d48a7ab671384686\"}', '{\"description\":\"you can\\'t look up more than 2000 items in the list\",\"bad_argument\":\"page, per_page\",\"bad_arguments\":[{\"name\":\"page, per_page\",\"description\":\"you can\\'t look up more than 2000 items in the list\"}],\"errors\":[{\"value\":\"page\",\"type\":\"bad_argument\"},{\"value\":\"per_page\",\"type\":\"bad_argument\"}],\"request_id\":\"1736267819827b71e0e67822809b61c3\"}', '{\"description\":\"you can\\'t look up more than 2000 items in the list\",\"bad_argument\":\"page, per_page\",\"bad_arguments\":[{\"name\":\"page, per_page\",\"description\":\"you can\\'t look up more than 2000 items in the list\"}],\"errors\":[{\"value\":\"page\",\"type\":\"bad_argument\"},{\"value\":\"per_page\",\"type\":\"bad_argument\"}],\"request_id\":\"1736267819895065da00a9d6b1d64ac0\"}', '{\"description\":\"you can\\'t look up more than 2000 items in the list\",\"bad_argument\":\"page, per_page\",\"bad_arguments\":[{\"name\":\"page, per_page\",\"description\":\"you can\\'t look up more than 2000 items in the list\"}],\"errors\":[{\"value\":\"page\",\"type\":\"bad_argument\"},{\"value\":\"per_page\",\"type\":\"bad_argument\"}],\"request_id\":\"1736267819965e9c4e5041af5f8111d8\"}', '{\"description\":\"you can\\'t look up more than 2000 items in the list\",\"bad_argument\":\"page, per_page\",\"bad_arguments\":[{\"name\":\"page, per_page\",\"description\":\"you can\\'t look up more than 2000 items in the list\"}],\"errors\":[{\"value\":\"page\",\"type\":\"bad_argument\"},{\"value\":\"per_page\",\"type\":\"bad_argument\"}],\"request_id\":\"17362678200275aee122cf9f0160d908\"}', '{\"description\":\"you can\\'t look up more than 2000 items in the list\",\"bad_argument\":\"page, per_page\",\"bad_arguments\":[{\"name\":\"page, per_page\",\"description\":\"you can\\'t look up more than 2000 items in the list\"}],\"errors\":[{\"value\":\"page\",\"type\":\"bad_argument\"},{\"value\":\"per_page\",\"type\":\"bad_argument\"}],\"request_id\":\"173626782009236db50bbdba09777cb1\"}', '{\"description\":\"you can\\'t look up more than 2000 items in the list\",\"bad_argument\":\"page, per_page\",\"bad_arguments\":[{\"name\":\"page, per_page\",\"description\":\"you can\\'t look up more than 2000 items in the list\"}],\"errors\":[{\"value\":\"page\",\"type\":\"bad_argument\"},{\"value\":\"per_page\",\"type\":\"bad_argument\"}],\"request_id\":\"1736267820156578dad10425489d69dd\"}', '{\"description\":\"you can\\'t look up more than 2000 items in the list\",\"bad_argument\":\"page, per_page\",\"bad_arguments\":[{\"name\":\"page, per_page\",\"description\":\"you can\\'t look up more than 2000 items in the list\"}],\"errors\":[{\"value\":\"page\",\"type\":\"bad_argument\"},{\"value\":\"per_page\",\"type\":\"bad_argument\"}],\"request_id\":\"1736267820210c6995e86c2d70617c53\"}', '{\"description\":\"you can\\'t look up more than 2000 items in the list\",\"bad_argument\":\"page, per_page\",\"bad_arguments\":[{\"name\":\"page, per_page\",\"description\":\"you can\\'t look up more than 2000 items in the list\"}],\"errors\":[{\"value\":\"page\",\"type\":\"bad_argument\"},{\"value\":\"per_page\",\"type\":\"bad_argument\"}],\"request_id\":\"1736267820292ed4f037d0e20646b7f3\"}', '{\"description\":\"you can\\'t look up more than 2000 items in the list\",\"bad_argument\":\"page, per_page\",\"bad_arguments\":[{\"name\":\"page, per_page\",\"description\":\"you can\\'t look up more than 2000 items in the list\"}],\"errors\":[{\"value\":\"page\",\"type\":\"bad_argument\"},{\"value\":\"per_page\",\"type\":\"bad_argument\"}],\"request_id\":\"1736267820364b9577b84998ff1303fc\"}', '{\"description\":\"you can\\'t look up more than 2000 items in the list\",\"bad_argument\":\"page, per_page\",\"bad_arguments\":[{\"name\":\"page, per_page\",\"description\":\"you can\\'t look up more than 2000 items in the list\"}],\"errors\":[{\"value\":\"page\",\"type\":\"bad_argument\"},{\"value\":\"per_page\",\"type\":\"bad_argument\"}],\"request_id\":\"1736267820434a410d281c10696f823b\"}', '{\"description\":\"you can\\'t look up more than 2000 items in the list\",\"bad_argument\":\"page, per_page\",\"bad_arguments\":[{\"name\":\"page, per_page\",\"description\":\"you can\\'t look up more than 2000 items in the list\"}],\"errors\":[{\"value\":\"page\",\"type\":\"bad_argument\"},{\"value\":\"per_page\",\"type\":\"bad_argument\"}],\"request_id\":\"17362678220863955f59fdb6714e2c14\"}', '{\"description\":\"you can\\'t look up more than 2000 items in the list\",\"bad_argument\":\"page, per_page\",\"bad_arguments\":[{\"name\":\"page, per_page\",\"description\":\"you can\\'t look up more than 2000 items in the list\"}],\"errors\":[{\"value\":\"page\",\"type\":\"bad_argument\"},{\"value\":\"per_page\",\"type\":\"bad_argument\"}],\"request_id\":\"1736267822321a7ce18c41f8c442b93e\"}', '{\"description\":\"you can\\'t look up more than 2000 items in the list\",\"bad_argument\":\"page, per_page\",\"bad_arguments\":[{\"name\":\"page, per_page\",\"description\":\"you can\\'t look up more than 2000 items in the list\"}],\"errors\":[{\"value\":\"page\",\"type\":\"bad_argument\"},{\"value\":\"per_page\",\"type\":\"bad_argument\"}],\"request_id\":\"1736267822549a36cc902608c7681987\"}', '{\"description\":\"you can\\'t look up more than 2000 items in the list\",\"bad_argument\":\"page, per_page\",\"bad_arguments\":[{\"name\":\"page, per_page\",\"description\":\"you can\\'t look up more than 2000 items in the list\"}],\"errors\":[{\"value\":\"page\",\"type\":\"bad_argument\"},{\"value\":\"per_page\",\"type\":\"bad_argument\"}],\"request_id\":\"17362678227792fe7c6abce749762bea\"}', '{\"description\":\"you can\\'t look up more than 2000 items in the list\",\"bad_argument\":\"page, per_page\",\"bad_arguments\":[{\"name\":\"page, per_page\",\"description\":\"you can\\'t look up more than 2000 items in the list\"}],\"errors\":[{\"value\":\"page\",\"type\":\"bad_argument\"},{\"value\":\"per_page\",\"type\":\"bad_argument\"}],\"request_id\":\"1736267823247cc0cfe8a2fd3310b382\"}', '{\"description\":\"you can\\'t look up more than 2000 items in the list\",\"bad_argument\":\"page, per_page\",\"bad_arguments\":[{\"name\":\"page, per_page\",\"description\":\"you can\\'t look up more than 2000 items in the list\"}],\"errors\":[{\"value\":\"page\",\"type\":\"bad_argument\"},{\"value\":\"per_page\",\"type\":\"bad_argument\"}],\"request_id\":\"173626782348195f585ad67f6f60b35a\"}', '{\"description\":\"you can\\'t look up more than 2000 items in the list\",\"bad_argument\":\"page, per_page\",\"bad_arguments\":[{\"name\":\"page, per_page\",\"description\":\"you can\\'t look up more than 2000 items in the list\"}],\"errors\":[{\"value\":\"page\",\"type\":\"bad_argument\"},{\"value\":\"per_page\",\"type\":\"bad_argument\"}],\"request_id\":\"173626782374925c6acc7e39cef065cc\"}', '{\"description\":\"you can\\'t look up more than 2000 items in the list\",\"bad_argument\":\"page, per_page\",\"bad_arguments\":[{\"name\":\"page, per_page\",\"description\":\"you can\\'t look up more than 2000 items in the list\"}],\"errors\":[{\"value\":\"page\",\"type\":\"bad_argument\"},{\"value\":\"per_page\",\"type\":\"bad_argument\"}],\"request_id\":\"17362678241419c1eae4d731a4b58d9b\"}', '{\"description\":\"you can\\'t look up more than 2000 items in the list\",\"bad_argument\":\"page, per_page\",\"bad_arguments\":[{\"name\":\"page, per_page\",\"description\":\"you can\\'t look up more than 2000 items in the list\"}],\"errors\":[{\"value\":\"page\",\"type\":\"bad_argument\"},{\"value\":\"per_page\",\"type\":\"bad_argument\"}],\"request_id\":\"17362678243711556e7ab54071045b92\"}', '{\"description\":\"you can\\'t look up more than 2000 items in the list\",\"bad_argument\":\"page, per_page\",\"bad_arguments\":[{\"name\":\"page, per_page\",\"description\":\"you can\\'t look up more than 2000 items in the list\"}],\"errors\":[{\"value\":\"page\",\"type\":\"bad_argument\"},{\"value\":\"per_page\",\"type\":\"bad_argument\"}],\"request_id\":\"173626782461163c9eb3ff2cc69f0a6a\"}', '{\"description\":\"you can\\'t look up more than 2000 items in the list\",\"bad_argument\":\"page, per_page\",\"bad_arguments\":[{\"name\":\"page, per_page\",\"description\":\"you can\\'t look up more than 2000 items in the list\"}],\"errors\":[{\"value\":\"page\",\"type\":\"bad_argument\"},{\"value\":\"per_page\",\"type\":\"bad_argument\"}],\"request_id\":\"1736267824843fb8dd312d599e8b2da3\"}', '{\"description\":\"you can\\'t look up more than 2000 items in the list\",\"bad_argument\":\"page, per_page\",\"bad_arguments\":[{\"name\":\"page, per_page\",\"description\":\"you can\\'t look up more than 2000 items in the list\"}],\"errors\":[{\"value\":\"page\",\"type\":\"bad_argument\"},{\"value\":\"per_page\",\"type\":\"bad_argument\"}],\"request_id\":\"1736267825075673cbf15b1d7d55ef96\"}', '{\"description\":\"you can\\'t look up more than 2000 items in the list\",\"bad_argument\":\"page, per_page\",\"bad_arguments\":[{\"name\":\"page, per_page\",\"description\":\"you can\\'t look up more than 2000 items in the list\"}],\"errors\":[{\"value\":\"page\",\"type\":\"bad_argument\"},{\"value\":\"per_page\",\"type\":\"bad_argument\"}],\"request_id\":\"17362678253057609e38fa6b9dbbc028\"}', '{\"description\":\"you can\\'t look up more than 2000 items in the list\",\"bad_argument\":\"page, per_page\",\"bad_arguments\":[{\"name\":\"page, per_page\",\"description\":\"you can\\'t look up more than 2000 items in the list\"}],\"errors\":[{\"value\":\"page\",\"type\":\"bad_argument\"},{\"value\":\"per_page\",\"type\":\"bad_argument\"}],\"request_id\":\"173626782554014054ed82b4f3e5c914\"}', '{\"description\":\"you can\\'t look up more than 2000 items in the list\",\"bad_argument\":\"page, per_page\",\"bad_arguments\":[{\"name\":\"page, per_page\",\"description\":\"you can\\'t look up more than 2000 items in the list\"}],\"errors\":[{\"value\":\"page\",\"type\":\"bad_argument\"},{\"value\":\"per_page\",\"type\":\"bad_argument\"}],\"request_id\":\"1736267825781136c14bbb2ab08e77dc\"}', '{\"description\":\"you can\\'t look up more than 2000 items in the list\",\"bad_argument\":\"page, per_page\",\"bad_arguments\":[{\"name\":\"page, per_page\",\"description\":\"you can\\'t look up more than 2000 items in the list\"}],\"errors\":[{\"value\":\"page\",\"type\":\"bad_argument\"},{\"value\":\"per_page\",\"type\":\"bad_argument\"}],\"request_id\":\"1736267825953945158166587d67fc7d\"}', '{\"description\":\"you can\\'t look up more than 2000 items in the list\",\"bad_argument\":\"page, per_page\",\"bad_arguments\":[{\"name\":\"page, per_page\",\"description\":\"you can\\'t look up more than 2000 items in the list\"}],\"errors\":[{\"value\":\"page\",\"type\":\"bad_argument\"},{\"value\":\"per_page\",\"type\":\"bad_argument\"}],\"request_id\":\"17362678261083dec13b72add10b278b\"}', '{\"description\":\"you can\\'t look up more than 2000 items in the list\",\"bad_argument\":\"page, per_page\",\"bad_arguments\":[{\"name\":\"page, per_page\",\"description\":\"you can\\'t look up more than 2000 items in the list\"}],\"errors\":[{\"value\":\"page\",\"type\":\"bad_argument\"},{\"value\":\"per_page\",\"type\":\"bad_argument\"}],\"request_id\":\"1736267826269e3942916bdcf465bd0d\"}', '{\"description\":\"you can\\'t look up more than 2000 items in the list\",\"bad_argument\":\"page, per_page\",\"bad_arguments\":[{\"name\":\"page, per_page\",\"description\":\"you can\\'t look up more than 2000 items in the list\"}],\"errors\":[{\"value\":\"page\",\"type\":\"bad_argument\"},{\"value\":\"per_page\",\"type\":\"bad_argument\"}],\"request_id\":\"17362678264420ca6d8da28dbafb4d6e\"}', '{\"description\":\"you can\\'t look up more than 2000 items in the list\",\"bad_argument\":\"page, per_page\",\"bad_arguments\":[{\"name\":\"page, per_page\",\"description\":\"you can\\'t look up more than 2000 items in the list\"}],\"errors\":[{\"value\":\"page\",\"type\":\"bad_argument\"},{\"value\":\"per_page\",\"type\":\"bad_argument\"}],\"request_id\":\"173626782715188a6bc5d11a2ce45434\"}', '{\"description\":\"you can\\'t look up more than 2000 items in the list\",\"bad_argument\":\"page, per_page\",\"bad_arguments\":[{\"name\":\"page, per_page\",\"description\":\"you can\\'t look up more than 2000 items in the list\"}],\"errors\":[{\"value\":\"page\",\"type\":\"bad_argument\"},{\"value\":\"per_page\",\"type\":\"bad_argument\"}],\"request_id\":\"17362678272194c4c10dd4960dedcdc3\"}', '{\"description\":\"you can\\'t look up more than 2000 items in the list\",\"bad_argument\":\"page, per_page\",\"bad_arguments\":[{\"name\":\"page, per_page\",\"description\":\"you can\\'t look up more than 2000 items in the list\"}],\"errors\":[{\"value\":\"page\",\"type\":\"bad_argument\"},{\"value\":\"per_page\",\"type\":\"bad_argument\"}],\"request_id\":\"17362678272897e8bac20136b30ea651\"}', '{\"description\":\"you can\\'t look up more than 2000 items in the list\",\"bad_argument\":\"page, per_page\",\"bad_arguments\":[{\"name\":\"page, per_page\",\"description\":\"you can\\'t look up more than 2000 items in the list\"}],\"errors\":[{\"value\":\"page\",\"type\":\"bad_argument\"},{\"value\":\"per_page\",\"type\":\"bad_argument\"}],\"request_id\":\"17362678273530954aea1f9c3da8a8d6\"}', '{\"description\":\"you can\\'t look up more than 2000 items in the list\",\"bad_argument\":\"page, per_page\",\"bad_arguments\":[{\"name\":\"page, per_page\",\"description\":\"you can\\'t look up more than 2000 items in the list\"}],\"errors\":[{\"value\":\"page\",\"type\":\"bad_argument\"},{\"value\":\"per_page\",\"type\":\"bad_argument\"}],\"request_id\":\"1736267827414d7f1e8e9ee32e9c9a68\"}', '{\"description\":\"you can\\'t look up more than 2000 items in the list\",\"bad_argument\":\"page, per_page\",\"bad_arguments\":[{\"name\":\"page, per_page\",\"description\":\"you can\\'t look up more than 2000 items in the list\"}],\"errors\":[{\"value\":\"page\",\"type\":\"bad_argument\"},{\"value\":\"per_page\",\"type\":\"bad_argument\"}],\"request_id\":\"1736267827542936bc34dfb96c06eba6\"}', '{\"description\":\"you can\\'t look up more than 2000 items in the list\",\"bad_argument\":\"page, per_page\",\"bad_arguments\":[{\"name\":\"page, per_page\",\"description\":\"you can\\'t look up more than 2000 items in the list\"}],\"errors\":[{\"value\":\"page\",\"type\":\"bad_argument\"},{\"value\":\"per_page\",\"type\":\"bad_argument\"}],\"request_id\":\"17362678276055f3ed78c0c7cc083d65\"}', '{\"description\":\"you can\\'t look up more than 2000 items in the list\",\"bad_argument\":\"page, per_page\",\"bad_arguments\":[{\"name\":\"page, per_page\",\"description\":\"you can\\'t look up more than 2000 items in the list\"}],\"errors\":[{\"value\":\"page\",\"type\":\"bad_argument\"},{\"value\":\"per_page\",\"type\":\"bad_argument\"}],\"request_id\":\"1736267827673e8cf2e2cf9e2765027f\"}', '{\"description\":\"you can\\'t look up more than 2000 items in the list\",\"bad_argument\":\"page, per_page\",\"bad_arguments\":[{\"name\":\"page, per_page\",\"description\":\"you can\\'t look up more than 2000 items in the list\"}],\"errors\":[{\"value\":\"page\",\"type\":\"bad_argument\"},{\"value\":\"per_page\",\"type\":\"bad_argument\"}],\"request_id\":\"1736267827768b0180f3cee0dd0d7477\"}', '{\"description\":\"you can\\'t look up more than 2000 items in the list\",\"bad_argument\":\"page, per_page\",\"bad_arguments\":[{\"name\":\"page, per_page\",\"description\":\"you can\\'t look up more than 2000 items in the list\"}],\"errors\":[{\"value\":\"page\",\"type\":\"bad_argument\"},{\"value\":\"per_page\",\"type\":\"bad_argument\"}],\"request_id\":\"173626782783268848550657a65275dc\"}', '{\"description\":\"you can\\'t look up more than 2000 items in the list\",\"bad_argument\":\"page, per_page\",\"bad_arguments\":[{\"name\":\"page, per_page\",\"description\":\"you can\\'t look up more than 2000 items in the list\"}],\"errors\":[{\"value\":\"page\",\"type\":\"bad_argument\"},{\"value\":\"per_page\",\"type\":\"bad_argument\"}],\"request_id\":\"1736267828499c9af14e839d087a3f49\"}', '{\"description\":\"you can\\'t look up more than 2000 items in the list\",\"bad_argument\":\"page, per_page\",\"bad_arguments\":[{\"name\":\"page, per_page\",\"description\":\"you can\\'t look up more than 2000 items in the list\"}],\"errors\":[{\"value\":\"page\",\"type\":\"bad_argument\"},{\"value\":\"per_page\",\"type\":\"bad_argument\"}],\"request_id\":\"173626782856614e67353c9797e84f99\"}', '{\"description\":\"you can\\'t look up more than 2000 items in the list\",\"bad_argument\":\"page, per_page\",\"bad_arguments\":[{\"name\":\"page, per_page\",\"description\":\"you can\\'t look up more than 2000 items in the list\"}],\"errors\":[{\"value\":\"page\",\"type\":\"bad_argument\"},{\"value\":\"per_page\",\"type\":\"bad_argument\"}],\"request_id\":\"173626782864496fa52991e9849df9f7\"}', '{\"description\":\"you can\\'t look up more than 2000 items in the list\",\"bad_argument\":\"page, per_page\",\"bad_arguments\":[{\"name\":\"page, per_page\",\"description\":\"you can\\'t look up more than 2000 items in the list\"}],\"errors\":[{\"value\":\"page\",\"type\":\"bad_argument\"},{\"value\":\"per_page\",\"type\":\"bad_argument\"}],\"request_id\":\"173626782877220777259d338c5b7812\"}', '{\"description\":\"you can\\'t look up more than 2000 items in the list\",\"bad_argument\":\"page, per_page\",\"bad_arguments\":[{\"name\":\"page, per_page\",\"description\":\"you can\\'t look up more than 2000 items in the list\"}],\"errors\":[{\"value\":\"page\",\"type\":\"bad_argument\"},{\"value\":\"per_page\",\"type\":\"bad_argument\"}],\"request_id\":\"17362678288382d2ee9e7e7d4db8f92c\"}', '{\"description\":\"you can\\'t look up more than 2000 items in the list\",\"bad_argument\":\"page, per_page\",\"bad_arguments\":[{\"name\":\"page, per_page\",\"description\":\"you can\\'t look up more than 2000 items in the list\"}],\"errors\":[{\"value\":\"page\",\"type\":\"bad_argument\"},{\"value\":\"per_page\",\"type\":\"bad_argument\"}],\"request_id\":\"17362678289046cac606978a4d4e42e2\"}', '{\"description\":\"you can\\'t look up more than 2000 items in the list\",\"bad_argument\":\"page, per_page\",\"bad_arguments\":[{\"name\":\"page, per_page\",\"description\":\"you can\\'t look up more than 2000 items in the list\"}],\"errors\":[{\"value\":\"page\",\"type\":\"bad_argument\"},{\"value\":\"per_page\",\"type\":\"bad_argument\"}],\"request_id\":\"17362678289824616ca786f8ba37cb7e\"}', '{\"description\":\"you can\\'t look up more than 2000 items in the list\",\"bad_argument\":\"page, per_page\",\"bad_arguments\":[{\"name\":\"page, per_page\",\"description\":\"you can\\'t look up more than 2000 items in the list\"}],\"errors\":[{\"value\":\"page\",\"type\":\"bad_argument\"},{\"value\":\"per_page\",\"type\":\"bad_argument\"}],\"request_id\":\"1736267829143317e51f7fa8e3d31b43\"}', '{\"description\":\"you can\\'t look up more than 2000 items in the list\",\"bad_argument\":\"page, per_page\",\"bad_arguments\":[{\"name\":\"page, per_page\",\"description\":\"you can\\'t look up more than 2000 items in the list\"}],\"errors\":[{\"value\":\"page\",\"type\":\"bad_argument\"},{\"value\":\"per_page\",\"type\":\"bad_argument\"}],\"request_id\":\"1736267829207b6f5c4ae6965bf474df\"}', '{\"description\":\"you can\\'t look up more than 2000 items in the list\",\"bad_argument\":\"page, per_page\",\"bad_arguments\":[{\"name\":\"page, per_page\",\"description\":\"you can\\'t look up more than 2000 items in the list\"}],\"errors\":[{\"value\":\"page\",\"type\":\"bad_argument\"},{\"value\":\"per_page\",\"type\":\"bad_argument\"}],\"request_id\":\"173626782927782bd318193b96423f96\"}', '{\"description\":\"you can\\'t look up more than 2000 items in the list\",\"bad_argument\":\"page, per_page\",\"bad_arguments\":[{\"name\":\"page, per_page\",\"description\":\"you can\\'t look up more than 2000 items in the list\"}],\"errors\":[{\"value\":\"page\",\"type\":\"bad_argument\"},{\"value\":\"per_page\",\"type\":\"bad_argument\"}],\"request_id\":\"17362678293539e5cd98c2363c920e96\"}', '{\"description\":\"you can\\'t look up more than 2000 items in the list\",\"bad_argument\":\"page, per_page\",\"bad_arguments\":[{\"name\":\"page, per_page\",\"description\":\"you can\\'t look up more than 2000 items in the list\"}],\"errors\":[{\"value\":\"page\",\"type\":\"bad_argument\"},{\"value\":\"per_page\",\"type\":\"bad_argument\"}],\"request_id\":\"17362678294222abf1039981bb9b2a4f\"}', '{\"description\":\"you can\\'t look up more than 2000 items in the list\",\"bad_argument\":\"page, per_page\",\"bad_arguments\":[{\"name\":\"page, per_page\",\"description\":\"you can\\'t look up more than 2000 items in the list\"}],\"errors\":[{\"value\":\"page\",\"type\":\"bad_argument\"},{\"value\":\"per_page\",\"type\":\"bad_argument\"}],\"request_id\":\"1736267829507c3c05f5aebd6c554335\"}', '{\"description\":\"you can\\'t look up more than 2000 items in the list\",\"bad_argument\":\"page, per_page\",\"bad_arguments\":[{\"name\":\"page, per_page\",\"description\":\"you can\\'t look up more than 2000 items in the list\"}],\"errors\":[{\"value\":\"page\",\"type\":\"bad_argument\"},{\"value\":\"per_page\",\"type\":\"bad_argument\"}],\"request_id\":\"17362678295623c85c1cb45c42fe8004\"}', '{\"description\":\"you can\\'t look up more than 2000 items in the list\",\"bad_argument\":\"page, per_page\",\"bad_arguments\":[{\"name\":\"page, per_page\",\"description\":\"you can\\'t look up more than 2000 items in the list\"}],\"errors\":[{\"value\":\"page\",\"type\":\"bad_argument\"},{\"value\":\"per_page\",\"type\":\"bad_argument\"}],\"request_id\":\"1736267829626beace5423e2d1949a66\"}', '{\"description\":\"you can\\'t look up more than 2000 items in the list\",\"bad_argument\":\"page, per_page\",\"bad_arguments\":[{\"name\":\"page, per_page\",\"description\":\"you can\\'t look up more than 2000 items in the list\"}],\"errors\":[{\"value\":\"page\",\"type\":\"bad_argument\"},{\"value\":\"per_page\",\"type\":\"bad_argument\"}],\"request_id\":\"1736267829692b9e838af74a66be76d4\"}', '{\"description\":\"you can\\'t look up more than 2000 items in the list\",\"bad_argument\":\"page, per_page\",\"bad_arguments\":[{\"name\":\"page, per_page\",\"description\":\"you can\\'t look up more than 2000 items in the list\"}],\"errors\":[{\"value\":\"page\",\"type\":\"bad_argument\"},{\"value\":\"per_page\",\"type\":\"bad_argument\"}],\"request_id\":\"1736267829872ad4fcccac20e8bbba9d\"}', '{\"description\":\"you can\\'t look up more than 2000 items in the list\",\"bad_argument\":\"page, per_page\",\"bad_arguments\":[{\"name\":\"page, per_page\",\"description\":\"you can\\'t look up more than 2000 items in the list\"}],\"errors\":[{\"value\":\"page\",\"type\":\"bad_argument\"},{\"value\":\"per_page\",\"type\":\"bad_argument\"}],\"request_id\":\"173626782996393314230f9b38e18c1f\"}', '{\"description\":\"you can\\'t look up more than 2000 items in the list\",\"bad_argument\":\"page, per_page\",\"bad_arguments\":[{\"name\":\"page, per_page\",\"description\":\"you can\\'t look up more than 2000 items in the list\"}],\"errors\":[{\"value\":\"page\",\"type\":\"bad_argument\"},{\"value\":\"per_page\",\"type\":\"bad_argument\"}],\"request_id\":\"17362678300266804f18ba2fa5a73605\"}', '{\"description\":\"you can\\'t look up more than 2000 items in the list\",\"bad_argument\":\"page, per_page\",\"bad_arguments\":[{\"name\":\"page, per_page\",\"description\":\"you can\\'t look up more than 2000 items in the list\"}],\"errors\":[{\"value\":\"page\",\"type\":\"bad_argument\"},{\"value\":\"per_page\",\"type\":\"bad_argument\"}],\"request_id\":\"1736267830089587199c2c0c3338e4e6\"}', '{\"description\":\"you can\\'t look up more than 2000 items in the list\",\"bad_argument\":\"page, per_page\",\"bad_arguments\":[{\"name\":\"page, per_page\",\"description\":\"you can\\'t look up more than 2000 items in the list\"}],\"errors\":[{\"value\":\"page\",\"type\":\"bad_argument\"},{\"value\":\"per_page\",\"type\":\"bad_argument\"}],\"request_id\":\"17362678301565a1aa568cd36de78aec\"}', '{\"description\":\"you can\\'t look up more than 2000 items in the list\",\"bad_argument\":\"page, per_page\",\"bad_arguments\":[{\"name\":\"page, per_page\",\"description\":\"you can\\'t look up more than 2000 items in the list\"}],\"errors\":[{\"value\":\"page\",\"type\":\"bad_argument\"},{\"value\":\"per_page\",\"type\":\"bad_argument\"}],\"request_id\":\"1736267830218f9a4fab67891de2ce3c\"}']\n"
     ]
    }
   ],
   "source": [
    "df = transform_search_result(pages)"
   ]
  },
  {
   "cell_type": "markdown",
   "id": "fe731966",
   "metadata": {},
   "source": [
    "API для незареганных разрешает выгружать не более 2000 записей, поэтому при превышении этого количества посыпались ошибки, связанные с параметрами пагинации. Но мне хватит и полученных 2000)  \n",
    "Мне нужны далеко не все данные отсюда, плюс интересуют только вакансии с указанным уровнем ЗП. Далее нас ждет блок предобработки полученных данных."
   ]
  },
  {
   "cell_type": "markdown",
   "id": "10a50b3e",
   "metadata": {},
   "source": [
    "### Предобработка данных"
   ]
  },
  {
   "cell_type": "code",
   "execution_count": 18,
   "id": "895d749f",
   "metadata": {
    "scrolled": true
   },
   "outputs": [
    {
     "data": {
      "text/html": [
       "<div>\n",
       "<style scoped>\n",
       "    .dataframe tbody tr th:only-of-type {\n",
       "        vertical-align: middle;\n",
       "    }\n",
       "\n",
       "    .dataframe tbody tr th {\n",
       "        vertical-align: top;\n",
       "    }\n",
       "\n",
       "    .dataframe thead th {\n",
       "        text-align: right;\n",
       "    }\n",
       "</style>\n",
       "<table border=\"1\" class=\"dataframe\">\n",
       "  <thead>\n",
       "    <tr style=\"text-align: right;\">\n",
       "      <th></th>\n",
       "      <th>id</th>\n",
       "      <th>premium</th>\n",
       "      <th>name</th>\n",
       "      <th>department</th>\n",
       "      <th>has_test</th>\n",
       "      <th>response_letter_required</th>\n",
       "      <th>area</th>\n",
       "      <th>salary</th>\n",
       "      <th>type</th>\n",
       "      <th>address</th>\n",
       "      <th>...</th>\n",
       "      <th>professional_roles</th>\n",
       "      <th>accept_incomplete_resumes</th>\n",
       "      <th>experience</th>\n",
       "      <th>employment</th>\n",
       "      <th>employment_form</th>\n",
       "      <th>internship</th>\n",
       "      <th>adv_response_url</th>\n",
       "      <th>is_adv_vacancy</th>\n",
       "      <th>adv_context</th>\n",
       "      <th>branding</th>\n",
       "    </tr>\n",
       "  </thead>\n",
       "  <tbody>\n",
       "    <tr>\n",
       "      <th>1699</th>\n",
       "      <td>113733034</td>\n",
       "      <td>False</td>\n",
       "      <td>Аналитик второй линии поддержки</td>\n",
       "      <td>None</td>\n",
       "      <td>True</td>\n",
       "      <td>False</td>\n",
       "      <td>{'id': '1', 'name': 'Москва', 'url': 'https://...</td>\n",
       "      <td>{'from': 100000, 'to': None, 'currency': 'RUR'...</td>\n",
       "      <td>{'id': 'open', 'name': 'Открытая'}</td>\n",
       "      <td>None</td>\n",
       "      <td>...</td>\n",
       "      <td>[{'id': '121', 'name': 'Специалист технической...</td>\n",
       "      <td>False</td>\n",
       "      <td>{'id': 'between1And3', 'name': 'От 1 года до 3...</td>\n",
       "      <td>{'id': 'full', 'name': 'Полная занятость'}</td>\n",
       "      <td>{'id': 'FULL', 'name': 'Полная'}</td>\n",
       "      <td>False</td>\n",
       "      <td>None</td>\n",
       "      <td>False</td>\n",
       "      <td>None</td>\n",
       "      <td>{'type': 'MAKEUP', 'tariff': None}</td>\n",
       "    </tr>\n",
       "    <tr>\n",
       "      <th>968</th>\n",
       "      <td>111417913</td>\n",
       "      <td>False</td>\n",
       "      <td>Стажер/ Младший системный аналитик</td>\n",
       "      <td>None</td>\n",
       "      <td>False</td>\n",
       "      <td>True</td>\n",
       "      <td>{'id': '2', 'name': 'Санкт-Петербург', 'url': ...</td>\n",
       "      <td>None</td>\n",
       "      <td>{'id': 'open', 'name': 'Открытая'}</td>\n",
       "      <td>{'city': None, 'street': None, 'building': Non...</td>\n",
       "      <td>...</td>\n",
       "      <td>[{'id': '148', 'name': 'Системный аналитик'}]</td>\n",
       "      <td>False</td>\n",
       "      <td>{'id': 'noExperience', 'name': 'Нет опыта'}</td>\n",
       "      <td>{'id': 'probation', 'name': 'Стажировка'}</td>\n",
       "      <td>{'id': 'FULL', 'name': 'Полная'}</td>\n",
       "      <td>True</td>\n",
       "      <td>None</td>\n",
       "      <td>False</td>\n",
       "      <td>None</td>\n",
       "      <td>NaN</td>\n",
       "    </tr>\n",
       "    <tr>\n",
       "      <th>874</th>\n",
       "      <td>115049557</td>\n",
       "      <td>False</td>\n",
       "      <td>Системный аналитик</td>\n",
       "      <td>None</td>\n",
       "      <td>False</td>\n",
       "      <td>False</td>\n",
       "      <td>{'id': '160', 'name': 'Алматы', 'url': 'https:...</td>\n",
       "      <td>None</td>\n",
       "      <td>{'id': 'open', 'name': 'Открытая'}</td>\n",
       "      <td>{'city': 'Астана', 'street': 'проспект Рахимжа...</td>\n",
       "      <td>...</td>\n",
       "      <td>[{'id': '148', 'name': 'Системный аналитик'}]</td>\n",
       "      <td>False</td>\n",
       "      <td>{'id': 'between1And3', 'name': 'От 1 года до 3...</td>\n",
       "      <td>{'id': 'full', 'name': 'Полная занятость'}</td>\n",
       "      <td>{'id': 'FULL', 'name': 'Полная'}</td>\n",
       "      <td>False</td>\n",
       "      <td>None</td>\n",
       "      <td>False</td>\n",
       "      <td>None</td>\n",
       "      <td>NaN</td>\n",
       "    </tr>\n",
       "    <tr>\n",
       "      <th>546</th>\n",
       "      <td>112502113</td>\n",
       "      <td>False</td>\n",
       "      <td>Системный аналитик</td>\n",
       "      <td>None</td>\n",
       "      <td>False</td>\n",
       "      <td>False</td>\n",
       "      <td>{'id': '2', 'name': 'Санкт-Петербург', 'url': ...</td>\n",
       "      <td>{'from': 180000, 'to': None, 'currency': 'RUR'...</td>\n",
       "      <td>{'id': 'open', 'name': 'Открытая'}</td>\n",
       "      <td>{'city': 'Санкт-Петербург', 'street': 'Невский...</td>\n",
       "      <td>...</td>\n",
       "      <td>[{'id': '148', 'name': 'Системный аналитик'}]</td>\n",
       "      <td>False</td>\n",
       "      <td>{'id': 'between1And3', 'name': 'От 1 года до 3...</td>\n",
       "      <td>{'id': 'full', 'name': 'Полная занятость'}</td>\n",
       "      <td>{'id': 'FULL', 'name': 'Полная'}</td>\n",
       "      <td>False</td>\n",
       "      <td>None</td>\n",
       "      <td>False</td>\n",
       "      <td>None</td>\n",
       "      <td>NaN</td>\n",
       "    </tr>\n",
       "    <tr>\n",
       "      <th>1450</th>\n",
       "      <td>115066186</td>\n",
       "      <td>False</td>\n",
       "      <td>Системный аналитик</td>\n",
       "      <td>None</td>\n",
       "      <td>False</td>\n",
       "      <td>False</td>\n",
       "      <td>{'id': '1002', 'name': 'Минск', 'url': 'https:...</td>\n",
       "      <td>None</td>\n",
       "      <td>{'id': 'open', 'name': 'Открытая'}</td>\n",
       "      <td>{'city': 'Минск', 'street': 'переулок Козлова'...</td>\n",
       "      <td>...</td>\n",
       "      <td>[{'id': '148', 'name': 'Системный аналитик'}]</td>\n",
       "      <td>False</td>\n",
       "      <td>{'id': 'between1And3', 'name': 'От 1 года до 3...</td>\n",
       "      <td>{'id': 'full', 'name': 'Полная занятость'}</td>\n",
       "      <td>{'id': 'FULL', 'name': 'Полная'}</td>\n",
       "      <td>False</td>\n",
       "      <td>None</td>\n",
       "      <td>False</td>\n",
       "      <td>None</td>\n",
       "      <td>NaN</td>\n",
       "    </tr>\n",
       "  </tbody>\n",
       "</table>\n",
       "<p>5 rows × 44 columns</p>\n",
       "</div>"
      ],
      "text/plain": [
       "             id premium                                name department  \\\n",
       "1699  113733034   False     Аналитик второй линии поддержки       None   \n",
       "968   111417913   False  Стажер/ Младший системный аналитик       None   \n",
       "874   115049557   False                  Системный аналитик       None   \n",
       "546   112502113   False                  Системный аналитик       None   \n",
       "1450  115066186   False                  Системный аналитик       None   \n",
       "\n",
       "     has_test response_letter_required  \\\n",
       "1699     True                    False   \n",
       "968     False                     True   \n",
       "874     False                    False   \n",
       "546     False                    False   \n",
       "1450    False                    False   \n",
       "\n",
       "                                                   area  \\\n",
       "1699  {'id': '1', 'name': 'Москва', 'url': 'https://...   \n",
       "968   {'id': '2', 'name': 'Санкт-Петербург', 'url': ...   \n",
       "874   {'id': '160', 'name': 'Алматы', 'url': 'https:...   \n",
       "546   {'id': '2', 'name': 'Санкт-Петербург', 'url': ...   \n",
       "1450  {'id': '1002', 'name': 'Минск', 'url': 'https:...   \n",
       "\n",
       "                                                 salary  \\\n",
       "1699  {'from': 100000, 'to': None, 'currency': 'RUR'...   \n",
       "968                                                None   \n",
       "874                                                None   \n",
       "546   {'from': 180000, 'to': None, 'currency': 'RUR'...   \n",
       "1450                                               None   \n",
       "\n",
       "                                    type  \\\n",
       "1699  {'id': 'open', 'name': 'Открытая'}   \n",
       "968   {'id': 'open', 'name': 'Открытая'}   \n",
       "874   {'id': 'open', 'name': 'Открытая'}   \n",
       "546   {'id': 'open', 'name': 'Открытая'}   \n",
       "1450  {'id': 'open', 'name': 'Открытая'}   \n",
       "\n",
       "                                                address  ...  \\\n",
       "1699                                               None  ...   \n",
       "968   {'city': None, 'street': None, 'building': Non...  ...   \n",
       "874   {'city': 'Астана', 'street': 'проспект Рахимжа...  ...   \n",
       "546   {'city': 'Санкт-Петербург', 'street': 'Невский...  ...   \n",
       "1450  {'city': 'Минск', 'street': 'переулок Козлова'...  ...   \n",
       "\n",
       "                                     professional_roles  \\\n",
       "1699  [{'id': '121', 'name': 'Специалист технической...   \n",
       "968       [{'id': '148', 'name': 'Системный аналитик'}]   \n",
       "874       [{'id': '148', 'name': 'Системный аналитик'}]   \n",
       "546       [{'id': '148', 'name': 'Системный аналитик'}]   \n",
       "1450      [{'id': '148', 'name': 'Системный аналитик'}]   \n",
       "\n",
       "     accept_incomplete_resumes  \\\n",
       "1699                     False   \n",
       "968                      False   \n",
       "874                      False   \n",
       "546                      False   \n",
       "1450                     False   \n",
       "\n",
       "                                             experience  \\\n",
       "1699  {'id': 'between1And3', 'name': 'От 1 года до 3...   \n",
       "968         {'id': 'noExperience', 'name': 'Нет опыта'}   \n",
       "874   {'id': 'between1And3', 'name': 'От 1 года до 3...   \n",
       "546   {'id': 'between1And3', 'name': 'От 1 года до 3...   \n",
       "1450  {'id': 'between1And3', 'name': 'От 1 года до 3...   \n",
       "\n",
       "                                      employment  \\\n",
       "1699  {'id': 'full', 'name': 'Полная занятость'}   \n",
       "968    {'id': 'probation', 'name': 'Стажировка'}   \n",
       "874   {'id': 'full', 'name': 'Полная занятость'}   \n",
       "546   {'id': 'full', 'name': 'Полная занятость'}   \n",
       "1450  {'id': 'full', 'name': 'Полная занятость'}   \n",
       "\n",
       "                       employment_form internship adv_response_url  \\\n",
       "1699  {'id': 'FULL', 'name': 'Полная'}      False             None   \n",
       "968   {'id': 'FULL', 'name': 'Полная'}       True             None   \n",
       "874   {'id': 'FULL', 'name': 'Полная'}      False             None   \n",
       "546   {'id': 'FULL', 'name': 'Полная'}      False             None   \n",
       "1450  {'id': 'FULL', 'name': 'Полная'}      False             None   \n",
       "\n",
       "     is_adv_vacancy adv_context                            branding  \n",
       "1699          False        None  {'type': 'MAKEUP', 'tariff': None}  \n",
       "968           False        None                                 NaN  \n",
       "874           False        None                                 NaN  \n",
       "546           False        None                                 NaN  \n",
       "1450          False        None                                 NaN  \n",
       "\n",
       "[5 rows x 44 columns]"
      ]
     },
     "execution_count": 18,
     "metadata": {},
     "output_type": "execute_result"
    }
   ],
   "source": [
    "df.sample(5)"
   ]
  },
  {
   "cell_type": "markdown",
   "id": "ac20ca58",
   "metadata": {},
   "source": [
    "Что будем делать:  \n",
    "1. Оставим только нужные столбцы;\n",
    "2. Удалим строки, где не заполнено поле `salary`;\n",
    "3. Параметр `area` также игнорируется в запросе (либо его нужно передавать как-то иначе), поэтому далее разберем поле `area` на составляющие, чтобы выделить город;\n",
    "4. Развернем поле `salary` на параметры \"от\" и \"до\";\n",
    "5. Развернем параметр `type`, кажется, что там есть тип \"Открытая\" и \"Закрытая\" вакансия;\n",
    "6. Развернем параметры с формой занятости и опытом, они также могут потребоваться;"
   ]
  },
  {
   "cell_type": "code",
   "execution_count": 19,
   "id": "5c83569f",
   "metadata": {},
   "outputs": [
    {
     "name": "stdout",
     "output_type": "stream",
     "text": [
      "<class 'pandas.core.frame.DataFrame'>\n",
      "RangeIndex: 2000 entries, 0 to 1999\n",
      "Data columns (total 44 columns):\n",
      " #   Column                     Non-Null Count  Dtype \n",
      "---  ------                     --------------  ----- \n",
      " 0   id                         2000 non-null   object\n",
      " 1   premium                    2000 non-null   object\n",
      " 2   name                       2000 non-null   object\n",
      " 3   department                 0 non-null      object\n",
      " 4   has_test                   2000 non-null   object\n",
      " 5   response_letter_required   2000 non-null   object\n",
      " 6   area                       2000 non-null   object\n",
      " 7   salary                     1400 non-null   object\n",
      " 8   type                       2000 non-null   object\n",
      " 9   address                    1000 non-null   object\n",
      " 10  response_url               0 non-null      object\n",
      " 11  sort_point_distance        0 non-null      object\n",
      " 12  published_at               2000 non-null   object\n",
      " 13  created_at                 2000 non-null   object\n",
      " 14  archived                   2000 non-null   object\n",
      " 15  apply_alternate_url        2000 non-null   object\n",
      " 16  show_logo_in_search        300 non-null    object\n",
      " 17  insider_interview          0 non-null      object\n",
      " 18  url                        2000 non-null   object\n",
      " 19  alternate_url              2000 non-null   object\n",
      " 20  relations                  2000 non-null   object\n",
      " 21  employer                   2000 non-null   object\n",
      " 22  snippet                    2000 non-null   object\n",
      " 23  contacts                   0 non-null      object\n",
      " 24  schedule                   2000 non-null   object\n",
      " 25  working_days               2000 non-null   object\n",
      " 26  working_time_intervals     2000 non-null   object\n",
      " 27  working_time_modes         2000 non-null   object\n",
      " 28  accept_temporary           2000 non-null   object\n",
      " 29  fly_in_fly_out_duration    2000 non-null   object\n",
      " 30  work_format                2000 non-null   object\n",
      " 31  working_hours              2000 non-null   object\n",
      " 32  work_schedule_by_days      2000 non-null   object\n",
      " 33  night_shifts               2000 non-null   object\n",
      " 34  professional_roles         2000 non-null   object\n",
      " 35  accept_incomplete_resumes  2000 non-null   object\n",
      " 36  experience                 2000 non-null   object\n",
      " 37  employment                 2000 non-null   object\n",
      " 38  employment_form            2000 non-null   object\n",
      " 39  internship                 2000 non-null   object\n",
      " 40  adv_response_url           0 non-null      object\n",
      " 41  is_adv_vacancy             2000 non-null   object\n",
      " 42  adv_context                0 non-null      object\n",
      " 43  branding                   300 non-null    object\n",
      "dtypes: object(44)\n",
      "memory usage: 687.6+ KB\n"
     ]
    }
   ],
   "source": [
    "df.info()"
   ]
  },
  {
   "cell_type": "markdown",
   "id": "00e4c63c",
   "metadata": {},
   "source": [
    "Убираем ненужные столбцы, а точнее, оставляем только нужные. Избавляемся от пропусков в столбце `salary`:"
   ]
  },
  {
   "cell_type": "code",
   "execution_count": 20,
   "id": "2b344f60",
   "metadata": {},
   "outputs": [],
   "source": [
    "data = df[[\n",
    "    'id','name','salary','type', 'area', 'employment_form', 'experience'\n",
    "]].dropna(subset=['salary']).reset_index(drop='true')"
   ]
  },
  {
   "cell_type": "code",
   "execution_count": 21,
   "id": "825821a9",
   "metadata": {},
   "outputs": [
    {
     "name": "stdout",
     "output_type": "stream",
     "text": [
      "<class 'pandas.core.frame.DataFrame'>\n",
      "RangeIndex: 1400 entries, 0 to 1399\n",
      "Data columns (total 7 columns):\n",
      " #   Column           Non-Null Count  Dtype \n",
      "---  ------           --------------  ----- \n",
      " 0   id               1400 non-null   object\n",
      " 1   name             1400 non-null   object\n",
      " 2   salary           1400 non-null   object\n",
      " 3   type             1400 non-null   object\n",
      " 4   area             1400 non-null   object\n",
      " 5   employment_form  1400 non-null   object\n",
      " 6   experience       1400 non-null   object\n",
      "dtypes: object(7)\n",
      "memory usage: 76.7+ KB\n"
     ]
    }
   ],
   "source": [
    "data.info()"
   ]
  },
  {
   "cell_type": "markdown",
   "id": "2e604616",
   "metadata": {},
   "source": [
    "Из 2000 вакансий 1400 - с указанием зарплаты, неплохо. Теперь нужно развернуть все вложенные поля, это все поля кроме собственно `id` и наименования вакансии.  \n",
    "Каждый из этих столбцов содержит в себе словарь:"
   ]
  },
  {
   "cell_type": "code",
   "execution_count": 22,
   "id": "0082fc86",
   "metadata": {},
   "outputs": [
    {
     "name": "stdout",
     "output_type": "stream",
     "text": [
      "{'from': 100000, 'to': 150000, 'currency': 'RUR', 'gross': False}\n",
      "{'id': '1', 'name': 'Москва', 'url': 'https://api.hh.ru/areas/1'}\n",
      "{'id': 'open', 'name': 'Открытая'}\n",
      "{'id': 'FULL', 'name': 'Полная'}\n",
      "{'id': 'noExperience', 'name': 'Нет опыта'}\n"
     ]
    }
   ],
   "source": [
    "print(data['salary'][0])\n",
    "print(data['area'][0])\n",
    "print(data['type'][0])\n",
    "print(data['employment_form'][0])\n",
    "print(data['experience'][0])"
   ]
  },
  {
   "cell_type": "markdown",
   "id": "05707512",
   "metadata": {},
   "source": [
    "И это означает, что можно применить к каждому из этих столбцов функцию преобразования в `dataframe`,которую уже использовали выше:"
   ]
  },
  {
   "cell_type": "code",
   "execution_count": 23,
   "id": "1936e7e6",
   "metadata": {},
   "outputs": [],
   "source": [
    "columns_list = ['salary', 'area', 'type', 'employment_form', 'experience']"
   ]
  },
  {
   "cell_type": "code",
   "execution_count": 24,
   "id": "6b875e0e",
   "metadata": {
    "scrolled": true
   },
   "outputs": [
    {
     "data": {
      "text/html": [
       "<div>\n",
       "<style scoped>\n",
       "    .dataframe tbody tr th:only-of-type {\n",
       "        vertical-align: middle;\n",
       "    }\n",
       "\n",
       "    .dataframe tbody tr th {\n",
       "        vertical-align: top;\n",
       "    }\n",
       "\n",
       "    .dataframe thead th {\n",
       "        text-align: right;\n",
       "    }\n",
       "</style>\n",
       "<table border=\"1\" class=\"dataframe\">\n",
       "  <thead>\n",
       "    <tr style=\"text-align: right;\">\n",
       "      <th></th>\n",
       "      <th>id</th>\n",
       "      <th>name</th>\n",
       "      <th>salary</th>\n",
       "      <th>type</th>\n",
       "      <th>area</th>\n",
       "      <th>employment_form</th>\n",
       "      <th>experience</th>\n",
       "    </tr>\n",
       "  </thead>\n",
       "  <tbody>\n",
       "    <tr>\n",
       "      <th>0</th>\n",
       "      <td>114823497</td>\n",
       "      <td>Junior IT специалист / системный аналитик</td>\n",
       "      <td>{'from': 100000, 'to': 150000, 'currency': 'RU...</td>\n",
       "      <td>{'id': 'open', 'name': 'Открытая'}</td>\n",
       "      <td>{'id': '1', 'name': 'Москва', 'url': 'https://...</td>\n",
       "      <td>{'id': 'FULL', 'name': 'Полная'}</td>\n",
       "      <td>{'id': 'noExperience', 'name': 'Нет опыта'}</td>\n",
       "    </tr>\n",
       "    <tr>\n",
       "      <th>1</th>\n",
       "      <td>109429555</td>\n",
       "      <td>Cтажер - Системный аналитик</td>\n",
       "      <td>{'from': None, 'to': 25000, 'currency': 'RUR',...</td>\n",
       "      <td>{'id': 'open', 'name': 'Открытая'}</td>\n",
       "      <td>{'id': '1', 'name': 'Москва', 'url': 'https://...</td>\n",
       "      <td>{'id': 'FULL', 'name': 'Полная'}</td>\n",
       "      <td>{'id': 'noExperience', 'name': 'Нет опыта'}</td>\n",
       "    </tr>\n",
       "    <tr>\n",
       "      <th>2</th>\n",
       "      <td>112157349</td>\n",
       "      <td>Системный аналитик</td>\n",
       "      <td>{'from': 240000, 'to': None, 'currency': 'RUR'...</td>\n",
       "      <td>{'id': 'open', 'name': 'Открытая'}</td>\n",
       "      <td>{'id': '1', 'name': 'Москва', 'url': 'https://...</td>\n",
       "      <td>{'id': 'FULL', 'name': 'Полная'}</td>\n",
       "      <td>{'id': 'between1And3', 'name': 'От 1 года до 3...</td>\n",
       "    </tr>\n",
       "    <tr>\n",
       "      <th>3</th>\n",
       "      <td>115069237</td>\n",
       "      <td>Системный аналитик</td>\n",
       "      <td>{'from': 250000, 'to': 380000, 'currency': 'RU...</td>\n",
       "      <td>{'id': 'open', 'name': 'Открытая'}</td>\n",
       "      <td>{'id': '1', 'name': 'Москва', 'url': 'https://...</td>\n",
       "      <td>{'id': 'FULL', 'name': 'Полная'}</td>\n",
       "      <td>{'id': 'between1And3', 'name': 'От 1 года до 3...</td>\n",
       "    </tr>\n",
       "    <tr>\n",
       "      <th>4</th>\n",
       "      <td>115060566</td>\n",
       "      <td>Системный аналитик</td>\n",
       "      <td>{'from': 230000, 'to': 280000, 'currency': 'RU...</td>\n",
       "      <td>{'id': 'open', 'name': 'Открытая'}</td>\n",
       "      <td>{'id': '2', 'name': 'Санкт-Петербург', 'url': ...</td>\n",
       "      <td>{'id': 'FULL', 'name': 'Полная'}</td>\n",
       "      <td>{'id': 'between3And6', 'name': 'От 3 до 6 лет'}</td>\n",
       "    </tr>\n",
       "  </tbody>\n",
       "</table>\n",
       "</div>"
      ],
      "text/plain": [
       "          id                                       name  \\\n",
       "0  114823497  Junior IT специалист / системный аналитик   \n",
       "1  109429555                Cтажер - Системный аналитик   \n",
       "2  112157349                         Системный аналитик   \n",
       "3  115069237                         Системный аналитик   \n",
       "4  115060566                         Системный аналитик   \n",
       "\n",
       "                                              salary  \\\n",
       "0  {'from': 100000, 'to': 150000, 'currency': 'RU...   \n",
       "1  {'from': None, 'to': 25000, 'currency': 'RUR',...   \n",
       "2  {'from': 240000, 'to': None, 'currency': 'RUR'...   \n",
       "3  {'from': 250000, 'to': 380000, 'currency': 'RU...   \n",
       "4  {'from': 230000, 'to': 280000, 'currency': 'RU...   \n",
       "\n",
       "                                 type  \\\n",
       "0  {'id': 'open', 'name': 'Открытая'}   \n",
       "1  {'id': 'open', 'name': 'Открытая'}   \n",
       "2  {'id': 'open', 'name': 'Открытая'}   \n",
       "3  {'id': 'open', 'name': 'Открытая'}   \n",
       "4  {'id': 'open', 'name': 'Открытая'}   \n",
       "\n",
       "                                                area  \\\n",
       "0  {'id': '1', 'name': 'Москва', 'url': 'https://...   \n",
       "1  {'id': '1', 'name': 'Москва', 'url': 'https://...   \n",
       "2  {'id': '1', 'name': 'Москва', 'url': 'https://...   \n",
       "3  {'id': '1', 'name': 'Москва', 'url': 'https://...   \n",
       "4  {'id': '2', 'name': 'Санкт-Петербург', 'url': ...   \n",
       "\n",
       "                    employment_form  \\\n",
       "0  {'id': 'FULL', 'name': 'Полная'}   \n",
       "1  {'id': 'FULL', 'name': 'Полная'}   \n",
       "2  {'id': 'FULL', 'name': 'Полная'}   \n",
       "3  {'id': 'FULL', 'name': 'Полная'}   \n",
       "4  {'id': 'FULL', 'name': 'Полная'}   \n",
       "\n",
       "                                          experience  \n",
       "0        {'id': 'noExperience', 'name': 'Нет опыта'}  \n",
       "1        {'id': 'noExperience', 'name': 'Нет опыта'}  \n",
       "2  {'id': 'between1And3', 'name': 'От 1 года до 3...  \n",
       "3  {'id': 'between1And3', 'name': 'От 1 года до 3...  \n",
       "4    {'id': 'between3And6', 'name': 'От 3 до 6 лет'}  "
      ]
     },
     "execution_count": 24,
     "metadata": {},
     "output_type": "execute_result"
    }
   ],
   "source": [
    "data.head()"
   ]
  },
  {
   "cell_type": "code",
   "execution_count": 25,
   "id": "3a8a75b9",
   "metadata": {},
   "outputs": [],
   "source": [
    "def transform_dict_df_to_norm(df, columns_list):\n",
    "    '''\n",
    "    Принимает на вход dataframe и список столбцов, которые нужно преобразовать.\n",
    "    Столбцы датафрейма должны содержать в каждой строке словарь.\n",
    "    Проверяет наличие каждого столбца из списка в датафрейме, и если такой столбец есть, то разворачивает словарь:\n",
    "    Каждому ключу словаря соответствует столбец с названием ключа. Полученный датафрейм присоединяет к исходному датафрейму.\n",
    "    Исходный столбец датафрейма со словарем удаляется.\n",
    "    '''\n",
    "    for i,j in zip(df, columns_list):\n",
    "        if j in data.columns:\n",
    "            print('column_exist', j)\n",
    "            data_series = df[j]\n",
    "            data_series = dict_list_to_df(data_series)\n",
    "            df = pd.concat([df,data_series],axis=1)\n",
    "            df = df.drop(j, axis=1)\n",
    "        else:\n",
    "            print('no_such_column', j)\n",
    "    return df"
   ]
  },
  {
   "cell_type": "code",
   "execution_count": 26,
   "id": "6c71dd5f",
   "metadata": {},
   "outputs": [
    {
     "name": "stdout",
     "output_type": "stream",
     "text": [
      "column_exist salary\n",
      "column_exist area\n",
      "column_exist type\n",
      "column_exist employment_form\n",
      "column_exist experience\n"
     ]
    }
   ],
   "source": [
    "data_flat = transform_dict_df_to_norm(data, columns_list)"
   ]
  },
  {
   "cell_type": "code",
   "execution_count": 27,
   "id": "52dbbca4",
   "metadata": {},
   "outputs": [
    {
     "data": {
      "text/html": [
       "<div>\n",
       "<style scoped>\n",
       "    .dataframe tbody tr th:only-of-type {\n",
       "        vertical-align: middle;\n",
       "    }\n",
       "\n",
       "    .dataframe tbody tr th {\n",
       "        vertical-align: top;\n",
       "    }\n",
       "\n",
       "    .dataframe thead th {\n",
       "        text-align: right;\n",
       "    }\n",
       "</style>\n",
       "<table border=\"1\" class=\"dataframe\">\n",
       "  <thead>\n",
       "    <tr style=\"text-align: right;\">\n",
       "      <th></th>\n",
       "      <th>id</th>\n",
       "      <th>name</th>\n",
       "      <th>from</th>\n",
       "      <th>to</th>\n",
       "      <th>currency</th>\n",
       "      <th>gross</th>\n",
       "      <th>id</th>\n",
       "      <th>name</th>\n",
       "      <th>url</th>\n",
       "      <th>id</th>\n",
       "      <th>name</th>\n",
       "      <th>id</th>\n",
       "      <th>name</th>\n",
       "      <th>id</th>\n",
       "      <th>name</th>\n",
       "    </tr>\n",
       "  </thead>\n",
       "  <tbody>\n",
       "    <tr>\n",
       "      <th>0</th>\n",
       "      <td>114823497</td>\n",
       "      <td>Junior IT специалист / системный аналитик</td>\n",
       "      <td>100000</td>\n",
       "      <td>150000</td>\n",
       "      <td>RUR</td>\n",
       "      <td>False</td>\n",
       "      <td>1</td>\n",
       "      <td>Москва</td>\n",
       "      <td>https://api.hh.ru/areas/1</td>\n",
       "      <td>open</td>\n",
       "      <td>Открытая</td>\n",
       "      <td>FULL</td>\n",
       "      <td>Полная</td>\n",
       "      <td>noExperience</td>\n",
       "      <td>Нет опыта</td>\n",
       "    </tr>\n",
       "    <tr>\n",
       "      <th>1</th>\n",
       "      <td>109429555</td>\n",
       "      <td>Cтажер - Системный аналитик</td>\n",
       "      <td>None</td>\n",
       "      <td>25000</td>\n",
       "      <td>RUR</td>\n",
       "      <td>True</td>\n",
       "      <td>1</td>\n",
       "      <td>Москва</td>\n",
       "      <td>https://api.hh.ru/areas/1</td>\n",
       "      <td>open</td>\n",
       "      <td>Открытая</td>\n",
       "      <td>FULL</td>\n",
       "      <td>Полная</td>\n",
       "      <td>noExperience</td>\n",
       "      <td>Нет опыта</td>\n",
       "    </tr>\n",
       "    <tr>\n",
       "      <th>2</th>\n",
       "      <td>112157349</td>\n",
       "      <td>Системный аналитик</td>\n",
       "      <td>240000</td>\n",
       "      <td>None</td>\n",
       "      <td>RUR</td>\n",
       "      <td>False</td>\n",
       "      <td>1</td>\n",
       "      <td>Москва</td>\n",
       "      <td>https://api.hh.ru/areas/1</td>\n",
       "      <td>open</td>\n",
       "      <td>Открытая</td>\n",
       "      <td>FULL</td>\n",
       "      <td>Полная</td>\n",
       "      <td>between1And3</td>\n",
       "      <td>От 1 года до 3 лет</td>\n",
       "    </tr>\n",
       "    <tr>\n",
       "      <th>3</th>\n",
       "      <td>115069237</td>\n",
       "      <td>Системный аналитик</td>\n",
       "      <td>250000</td>\n",
       "      <td>380000</td>\n",
       "      <td>RUR</td>\n",
       "      <td>False</td>\n",
       "      <td>1</td>\n",
       "      <td>Москва</td>\n",
       "      <td>https://api.hh.ru/areas/1</td>\n",
       "      <td>open</td>\n",
       "      <td>Открытая</td>\n",
       "      <td>FULL</td>\n",
       "      <td>Полная</td>\n",
       "      <td>between1And3</td>\n",
       "      <td>От 1 года до 3 лет</td>\n",
       "    </tr>\n",
       "    <tr>\n",
       "      <th>4</th>\n",
       "      <td>115060566</td>\n",
       "      <td>Системный аналитик</td>\n",
       "      <td>230000</td>\n",
       "      <td>280000</td>\n",
       "      <td>RUR</td>\n",
       "      <td>False</td>\n",
       "      <td>2</td>\n",
       "      <td>Санкт-Петербург</td>\n",
       "      <td>https://api.hh.ru/areas/2</td>\n",
       "      <td>open</td>\n",
       "      <td>Открытая</td>\n",
       "      <td>FULL</td>\n",
       "      <td>Полная</td>\n",
       "      <td>between3And6</td>\n",
       "      <td>От 3 до 6 лет</td>\n",
       "    </tr>\n",
       "  </tbody>\n",
       "</table>\n",
       "</div>"
      ],
      "text/plain": [
       "          id                                       name    from      to  \\\n",
       "0  114823497  Junior IT специалист / системный аналитик  100000  150000   \n",
       "1  109429555                Cтажер - Системный аналитик    None   25000   \n",
       "2  112157349                         Системный аналитик  240000    None   \n",
       "3  115069237                         Системный аналитик  250000  380000   \n",
       "4  115060566                         Системный аналитик  230000  280000   \n",
       "\n",
       "  currency  gross id             name                        url    id  \\\n",
       "0      RUR  False  1           Москва  https://api.hh.ru/areas/1  open   \n",
       "1      RUR   True  1           Москва  https://api.hh.ru/areas/1  open   \n",
       "2      RUR  False  1           Москва  https://api.hh.ru/areas/1  open   \n",
       "3      RUR  False  1           Москва  https://api.hh.ru/areas/1  open   \n",
       "4      RUR  False  2  Санкт-Петербург  https://api.hh.ru/areas/2  open   \n",
       "\n",
       "       name    id    name            id                name  \n",
       "0  Открытая  FULL  Полная  noExperience           Нет опыта  \n",
       "1  Открытая  FULL  Полная  noExperience           Нет опыта  \n",
       "2  Открытая  FULL  Полная  between1And3  От 1 года до 3 лет  \n",
       "3  Открытая  FULL  Полная  between1And3  От 1 года до 3 лет  \n",
       "4  Открытая  FULL  Полная  between3And6       От 3 до 6 лет  "
      ]
     },
     "execution_count": 27,
     "metadata": {},
     "output_type": "execute_result"
    }
   ],
   "source": [
    "data_flat.head()"
   ]
  },
  {
   "cell_type": "markdown",
   "id": "905021f0",
   "metadata": {},
   "source": [
    "Поскольку я просто развернула словари, получилось, что некоторые столбцы дублируют названия. Приведем их в порядок:"
   ]
  },
  {
   "cell_type": "code",
   "execution_count": 28,
   "id": "c9035e20",
   "metadata": {},
   "outputs": [],
   "source": [
    "columns_for_rename = [\n",
    "    'id',\n",
    "    'vacancy_name',\n",
    "    'salary_from',\n",
    "    'salary_to',\n",
    "    'salary_currency',\n",
    "    'gross',\n",
    "    'region_id',\n",
    "    'region_name',\n",
    "    'region_url',\n",
    "    'vacancy_type',\n",
    "    'type_name',\n",
    "    'employment_form_type',\n",
    "    'employment_form_name',\n",
    "    'experience_type',\n",
    "    'experience_name'\n",
    "]"
   ]
  },
  {
   "cell_type": "code",
   "execution_count": 29,
   "id": "14610cb9",
   "metadata": {},
   "outputs": [],
   "source": [
    "data_flat.columns = columns_for_rename"
   ]
  },
  {
   "cell_type": "code",
   "execution_count": 30,
   "id": "4772a39b",
   "metadata": {
    "scrolled": true
   },
   "outputs": [
    {
     "name": "stdout",
     "output_type": "stream",
     "text": [
      "<class 'pandas.core.frame.DataFrame'>\n",
      "RangeIndex: 1400 entries, 0 to 1399\n",
      "Data columns (total 15 columns):\n",
      " #   Column                Non-Null Count  Dtype \n",
      "---  ------                --------------  ----- \n",
      " 0   id                    1400 non-null   object\n",
      " 1   vacancy_name          1400 non-null   object\n",
      " 2   salary_from           1100 non-null   object\n",
      " 3   salary_to             800 non-null    object\n",
      " 4   salary_currency       1400 non-null   object\n",
      " 5   gross                 1400 non-null   object\n",
      " 6   region_id             1400 non-null   object\n",
      " 7   region_name           1400 non-null   object\n",
      " 8   region_url            1400 non-null   object\n",
      " 9   vacancy_type          1400 non-null   object\n",
      " 10  type_name             1400 non-null   object\n",
      " 11  employment_form_type  1400 non-null   object\n",
      " 12  employment_form_name  1400 non-null   object\n",
      " 13  experience_type       1400 non-null   object\n",
      " 14  experience_name       1400 non-null   object\n",
      "dtypes: object(15)\n",
      "memory usage: 164.2+ KB\n"
     ]
    }
   ],
   "source": [
    "data_flat.info()"
   ]
  },
  {
   "cell_type": "code",
   "execution_count": 31,
   "id": "ec8c836b",
   "metadata": {},
   "outputs": [
    {
     "data": {
      "text/html": [
       "<div>\n",
       "<style scoped>\n",
       "    .dataframe tbody tr th:only-of-type {\n",
       "        vertical-align: middle;\n",
       "    }\n",
       "\n",
       "    .dataframe tbody tr th {\n",
       "        vertical-align: top;\n",
       "    }\n",
       "\n",
       "    .dataframe thead th {\n",
       "        text-align: right;\n",
       "    }\n",
       "</style>\n",
       "<table border=\"1\" class=\"dataframe\">\n",
       "  <thead>\n",
       "    <tr style=\"text-align: right;\">\n",
       "      <th></th>\n",
       "      <th>id</th>\n",
       "      <th>vacancy_name</th>\n",
       "      <th>salary_from</th>\n",
       "      <th>salary_to</th>\n",
       "      <th>salary_currency</th>\n",
       "      <th>gross</th>\n",
       "      <th>region_id</th>\n",
       "      <th>region_name</th>\n",
       "      <th>region_url</th>\n",
       "      <th>vacancy_type</th>\n",
       "      <th>type_name</th>\n",
       "      <th>employment_form_type</th>\n",
       "      <th>employment_form_name</th>\n",
       "      <th>experience_type</th>\n",
       "      <th>experience_name</th>\n",
       "    </tr>\n",
       "  </thead>\n",
       "  <tbody>\n",
       "    <tr>\n",
       "      <th>0</th>\n",
       "      <td>114823497</td>\n",
       "      <td>Junior IT специалист / системный аналитик</td>\n",
       "      <td>100000</td>\n",
       "      <td>150000</td>\n",
       "      <td>RUR</td>\n",
       "      <td>False</td>\n",
       "      <td>1</td>\n",
       "      <td>Москва</td>\n",
       "      <td>https://api.hh.ru/areas/1</td>\n",
       "      <td>open</td>\n",
       "      <td>Открытая</td>\n",
       "      <td>FULL</td>\n",
       "      <td>Полная</td>\n",
       "      <td>noExperience</td>\n",
       "      <td>Нет опыта</td>\n",
       "    </tr>\n",
       "    <tr>\n",
       "      <th>1</th>\n",
       "      <td>109429555</td>\n",
       "      <td>Cтажер - Системный аналитик</td>\n",
       "      <td>None</td>\n",
       "      <td>25000</td>\n",
       "      <td>RUR</td>\n",
       "      <td>True</td>\n",
       "      <td>1</td>\n",
       "      <td>Москва</td>\n",
       "      <td>https://api.hh.ru/areas/1</td>\n",
       "      <td>open</td>\n",
       "      <td>Открытая</td>\n",
       "      <td>FULL</td>\n",
       "      <td>Полная</td>\n",
       "      <td>noExperience</td>\n",
       "      <td>Нет опыта</td>\n",
       "    </tr>\n",
       "    <tr>\n",
       "      <th>2</th>\n",
       "      <td>112157349</td>\n",
       "      <td>Системный аналитик</td>\n",
       "      <td>240000</td>\n",
       "      <td>None</td>\n",
       "      <td>RUR</td>\n",
       "      <td>False</td>\n",
       "      <td>1</td>\n",
       "      <td>Москва</td>\n",
       "      <td>https://api.hh.ru/areas/1</td>\n",
       "      <td>open</td>\n",
       "      <td>Открытая</td>\n",
       "      <td>FULL</td>\n",
       "      <td>Полная</td>\n",
       "      <td>between1And3</td>\n",
       "      <td>От 1 года до 3 лет</td>\n",
       "    </tr>\n",
       "    <tr>\n",
       "      <th>3</th>\n",
       "      <td>115069237</td>\n",
       "      <td>Системный аналитик</td>\n",
       "      <td>250000</td>\n",
       "      <td>380000</td>\n",
       "      <td>RUR</td>\n",
       "      <td>False</td>\n",
       "      <td>1</td>\n",
       "      <td>Москва</td>\n",
       "      <td>https://api.hh.ru/areas/1</td>\n",
       "      <td>open</td>\n",
       "      <td>Открытая</td>\n",
       "      <td>FULL</td>\n",
       "      <td>Полная</td>\n",
       "      <td>between1And3</td>\n",
       "      <td>От 1 года до 3 лет</td>\n",
       "    </tr>\n",
       "    <tr>\n",
       "      <th>4</th>\n",
       "      <td>115060566</td>\n",
       "      <td>Системный аналитик</td>\n",
       "      <td>230000</td>\n",
       "      <td>280000</td>\n",
       "      <td>RUR</td>\n",
       "      <td>False</td>\n",
       "      <td>2</td>\n",
       "      <td>Санкт-Петербург</td>\n",
       "      <td>https://api.hh.ru/areas/2</td>\n",
       "      <td>open</td>\n",
       "      <td>Открытая</td>\n",
       "      <td>FULL</td>\n",
       "      <td>Полная</td>\n",
       "      <td>between3And6</td>\n",
       "      <td>От 3 до 6 лет</td>\n",
       "    </tr>\n",
       "  </tbody>\n",
       "</table>\n",
       "</div>"
      ],
      "text/plain": [
       "          id                               vacancy_name salary_from salary_to  \\\n",
       "0  114823497  Junior IT специалист / системный аналитик      100000    150000   \n",
       "1  109429555                Cтажер - Системный аналитик        None     25000   \n",
       "2  112157349                         Системный аналитик      240000      None   \n",
       "3  115069237                         Системный аналитик      250000    380000   \n",
       "4  115060566                         Системный аналитик      230000    280000   \n",
       "\n",
       "  salary_currency  gross region_id      region_name  \\\n",
       "0             RUR  False         1           Москва   \n",
       "1             RUR   True         1           Москва   \n",
       "2             RUR  False         1           Москва   \n",
       "3             RUR  False         1           Москва   \n",
       "4             RUR  False         2  Санкт-Петербург   \n",
       "\n",
       "                  region_url vacancy_type type_name employment_form_type  \\\n",
       "0  https://api.hh.ru/areas/1         open  Открытая                 FULL   \n",
       "1  https://api.hh.ru/areas/1         open  Открытая                 FULL   \n",
       "2  https://api.hh.ru/areas/1         open  Открытая                 FULL   \n",
       "3  https://api.hh.ru/areas/1         open  Открытая                 FULL   \n",
       "4  https://api.hh.ru/areas/2         open  Открытая                 FULL   \n",
       "\n",
       "  employment_form_name experience_type     experience_name  \n",
       "0               Полная    noExperience           Нет опыта  \n",
       "1               Полная    noExperience           Нет опыта  \n",
       "2               Полная    between1And3  От 1 года до 3 лет  \n",
       "3               Полная    between1And3  От 1 года до 3 лет  \n",
       "4               Полная    between3And6       От 3 до 6 лет  "
      ]
     },
     "execution_count": 31,
     "metadata": {},
     "output_type": "execute_result"
    }
   ],
   "source": [
    "data_flat.head()"
   ]
  },
  {
   "cell_type": "markdown",
   "id": "b6d3d6d7",
   "metadata": {},
   "source": [
    "В итоговом датафрейме видим следующее:  \n",
    "1. Уровень ЗП не везде указан От и До, где-то указан только уровень До, где-то только От. Учтем эту информацию при построении графика и расчете среднего уровня;\n",
    "2. Пустые значения для `salary_...` имеют формат NoneType, что помешает преобразовать данные В `int`. Нужно добавить обработку таких значений;\n",
    "2. Все данные в датафрейме сейчас строковые, что не подойдет для анализа. Необходимо преобразовать: уровень ЗП и все идентификаторы (id) в `int`, признак gross - в `boolean`."
   ]
  },
  {
   "cell_type": "code",
   "execution_count": 32,
   "id": "ef72f7d7",
   "metadata": {},
   "outputs": [],
   "source": [
    "data_flat['gross'] = data_flat['gross'].astype('boolean')"
   ]
  },
  {
   "cell_type": "code",
   "execution_count": 33,
   "id": "8af7a779",
   "metadata": {},
   "outputs": [
    {
     "name": "stdout",
     "output_type": "stream",
     "text": [
      "NoneType is found\n"
     ]
    }
   ],
   "source": [
    "try:\n",
    "    data_flat = data_flat.astype(\n",
    "        {\n",
    "            'id': 'int',\n",
    "            'salary_from': 'int',\n",
    "            'salary_to': 'int',\n",
    "            'region_id': 'int'\n",
    "        }\n",
    "    )\n",
    "except: \n",
    "    print('NoneType is found')"
   ]
  },
  {
   "cell_type": "code",
   "execution_count": 34,
   "id": "0b73da64",
   "metadata": {},
   "outputs": [],
   "source": [
    "# преобразовываем столбец salary_from в int с обработкой ошибок. В случае, если преобразование невозможно из-за NoneType,\n",
    "#будет присвоено значение 0\n",
    "data_flat['salary_from'] = data_flat['salary_from'].apply(lambda x: int(x or 0))"
   ]
  },
  {
   "cell_type": "code",
   "execution_count": 35,
   "id": "6e32fe3d",
   "metadata": {},
   "outputs": [],
   "source": [
    "# аналогично для salary_to\n",
    "data_flat['salary_to'] = data_flat['salary_to'].apply(lambda x: int(x or 0))"
   ]
  },
  {
   "cell_type": "code",
   "execution_count": 36,
   "id": "e6b9b138",
   "metadata": {},
   "outputs": [],
   "source": [
    "# преобразовываем оставшиеся id\n",
    "try:\n",
    "    data_flat = data_flat.astype(\n",
    "        {\n",
    "            'id': 'int',\n",
    "            'region_id': 'int'\n",
    "        }\n",
    "    )\n",
    "except: \n",
    "    print('NoneType is found')"
   ]
  },
  {
   "cell_type": "code",
   "execution_count": 37,
   "id": "6b12fc6f",
   "metadata": {},
   "outputs": [
    {
     "name": "stdout",
     "output_type": "stream",
     "text": [
      "<class 'pandas.core.frame.DataFrame'>\n",
      "RangeIndex: 1400 entries, 0 to 1399\n",
      "Data columns (total 15 columns):\n",
      " #   Column                Non-Null Count  Dtype  \n",
      "---  ------                --------------  -----  \n",
      " 0   id                    1400 non-null   int32  \n",
      " 1   vacancy_name          1400 non-null   object \n",
      " 2   salary_from           1400 non-null   int64  \n",
      " 3   salary_to             1400 non-null   int64  \n",
      " 4   salary_currency       1400 non-null   object \n",
      " 5   gross                 1400 non-null   boolean\n",
      " 6   region_id             1400 non-null   int32  \n",
      " 7   region_name           1400 non-null   object \n",
      " 8   region_url            1400 non-null   object \n",
      " 9   vacancy_type          1400 non-null   object \n",
      " 10  type_name             1400 non-null   object \n",
      " 11  employment_form_type  1400 non-null   object \n",
      " 12  employment_form_name  1400 non-null   object \n",
      " 13  experience_type       1400 non-null   object \n",
      " 14  experience_name       1400 non-null   object \n",
      "dtypes: boolean(1), int32(2), int64(2), object(10)\n",
      "memory usage: 145.0+ KB\n"
     ]
    }
   ],
   "source": [
    "data_flat.info()"
   ]
  },
  {
   "cell_type": "markdown",
   "id": "45258d59",
   "metadata": {},
   "source": [
    "Преобразование `id` не несет в себе практической цели, но раз уж эти данные явно числовые, то преобразовала их для собственного удобства."
   ]
  },
  {
   "cell_type": "markdown",
   "id": "a81a7067",
   "metadata": {},
   "source": [
    "### EDA"
   ]
  },
  {
   "cell_type": "markdown",
   "id": "9c2a627d",
   "metadata": {},
   "source": [
    "#### Общие распределения"
   ]
  },
  {
   "cell_type": "markdown",
   "id": "4059f2f8",
   "metadata": {},
   "source": [
    "Сразу зададим общий стиль для графиков, где это применимо:"
   ]
  },
  {
   "cell_type": "code",
   "execution_count": 38,
   "id": "e50ee1ac",
   "metadata": {},
   "outputs": [],
   "source": [
    "# устанавливаем единый стиль и палитру для всех графиков\n",
    "sns.set_style('darkgrid')\n",
    "sns.set_palette('tab20c')"
   ]
  },
  {
   "cell_type": "markdown",
   "id": "60aa7133",
   "metadata": {},
   "source": [
    "Для начала определимся, какие регионы попали в выборку, и есть ли преобладание какого-либо региона:"
   ]
  },
  {
   "cell_type": "code",
   "execution_count": 39,
   "id": "6b2a24bc",
   "metadata": {},
   "outputs": [
    {
     "data": {
      "text/plain": [
       "1    900\n",
       "2    400\n",
       "4    100\n",
       "Name: region_id, dtype: int64"
      ]
     },
     "execution_count": 39,
     "metadata": {},
     "output_type": "execute_result"
    }
   ],
   "source": [
    "data_flat['region_id'].value_counts()"
   ]
  },
  {
   "cell_type": "markdown",
   "id": "1bf879c1",
   "metadata": {},
   "source": [
    "Интересненько) 1 и 2 - это Москва и Питер соответственно, их больше всего. Что за регион 4?"
   ]
  },
  {
   "cell_type": "code",
   "execution_count": 40,
   "id": "4be1c631",
   "metadata": {},
   "outputs": [],
   "source": [
    "data_region = data_flat.pivot_table(index='region_name',\n",
    "                                    values='region_id',\n",
    "                                    aggfunc='count'\n",
    "                                    )\\\n",
    ".reset_index().rename(columns={'region_id': 'count'}).sort_values(by='count', ascending=False)"
   ]
  },
  {
   "cell_type": "code",
   "execution_count": 41,
   "id": "f781202e",
   "metadata": {},
   "outputs": [
    {
     "data": {
      "text/html": [
       "<div>\n",
       "<style scoped>\n",
       "    .dataframe tbody tr th:only-of-type {\n",
       "        vertical-align: middle;\n",
       "    }\n",
       "\n",
       "    .dataframe tbody tr th {\n",
       "        vertical-align: top;\n",
       "    }\n",
       "\n",
       "    .dataframe thead th {\n",
       "        text-align: right;\n",
       "    }\n",
       "</style>\n",
       "<table border=\"1\" class=\"dataframe\">\n",
       "  <thead>\n",
       "    <tr style=\"text-align: right;\">\n",
       "      <th></th>\n",
       "      <th>region_name</th>\n",
       "      <th>count</th>\n",
       "    </tr>\n",
       "  </thead>\n",
       "  <tbody>\n",
       "    <tr>\n",
       "      <th>0</th>\n",
       "      <td>Москва</td>\n",
       "      <td>900</td>\n",
       "    </tr>\n",
       "    <tr>\n",
       "      <th>2</th>\n",
       "      <td>Санкт-Петербург</td>\n",
       "      <td>400</td>\n",
       "    </tr>\n",
       "    <tr>\n",
       "      <th>1</th>\n",
       "      <td>Новосибирск</td>\n",
       "      <td>100</td>\n",
       "    </tr>\n",
       "  </tbody>\n",
       "</table>\n",
       "</div>"
      ],
      "text/plain": [
       "       region_name  count\n",
       "0           Москва    900\n",
       "2  Санкт-Петербург    400\n",
       "1      Новосибирск    100"
      ]
     },
     "execution_count": 41,
     "metadata": {},
     "output_type": "execute_result"
    }
   ],
   "source": [
    "data_region"
   ]
  },
  {
   "cell_type": "code",
   "execution_count": 42,
   "id": "7dd37c96",
   "metadata": {},
   "outputs": [
    {
     "data": {
      "image/png": "[encoded data removed]",
      "text/plain": [
       "<Figure size 720x720 with 1 Axes>"
      ]
     },
     "metadata": {},
     "output_type": "display_data"
    }
   ],
   "source": [
    "# задаем область диаграммы\n",
    "fig, (ax) = plt.subplots(figsize=(10,10))\n",
    "# устанавливаем заголовки для графиков\n",
    "ax.set_title('Количество вакансий по городам в процентном соотношении')\n",
    "ax.pie(data_region['count'], autopct='%.1f', labels=data_region['region_name'])\n",
    "plt.show()"
   ]
  },
  {
   "cell_type": "markdown",
   "id": "68e9d3e8",
   "metadata": {},
   "source": [
    "Также нужно понять, много ли закрытых вакансий в выборке, и много ли вакансий с частичной занятостью:"
   ]
  },
  {
   "cell_type": "code",
   "execution_count": 43,
   "id": "4e1ad334",
   "metadata": {},
   "outputs": [],
   "source": [
    "def make_pivot(df,column_for_index, column_to_count):\n",
    "    pivot = df.pivot_table(index = column_for_index,\n",
    "                          values = column_to_count,\n",
    "                          aggfunc = 'count')\\\n",
    "    .reset_index().rename(columns={column_to_count: 'count'}).sort_values(by='count', ascending=False)\n",
    "    return pivot"
   ]
  },
  {
   "cell_type": "markdown",
   "id": "bb680d2f",
   "metadata": {},
   "source": [
    "Заодно посмотрим и на распределение требуемого опыта в целом, хотя это особо ни о чем не говорит:"
   ]
  },
  {
   "cell_type": "code",
   "execution_count": 44,
   "id": "504c1153",
   "metadata": {},
   "outputs": [],
   "source": [
    "columns_for_index = ['vacancy_type', 'employment_form_type', 'experience_type']\n",
    "column_to_count = ['type_name', 'employment_form_name', 'experience_name']"
   ]
  },
  {
   "cell_type": "code",
   "execution_count": 45,
   "id": "ca415790",
   "metadata": {},
   "outputs": [
    {
     "data": {
      "text/html": [
       "<div>\n",
       "<style scoped>\n",
       "    .dataframe tbody tr th:only-of-type {\n",
       "        vertical-align: middle;\n",
       "    }\n",
       "\n",
       "    .dataframe tbody tr th {\n",
       "        vertical-align: top;\n",
       "    }\n",
       "\n",
       "    .dataframe thead th {\n",
       "        text-align: right;\n",
       "    }\n",
       "</style>\n",
       "<table border=\"1\" class=\"dataframe\">\n",
       "  <thead>\n",
       "    <tr style=\"text-align: right;\">\n",
       "      <th></th>\n",
       "      <th>vacancy_type</th>\n",
       "      <th>count</th>\n",
       "    </tr>\n",
       "  </thead>\n",
       "  <tbody>\n",
       "    <tr>\n",
       "      <th>0</th>\n",
       "      <td>open</td>\n",
       "      <td>1400</td>\n",
       "    </tr>\n",
       "  </tbody>\n",
       "</table>\n",
       "</div>"
      ],
      "text/plain": [
       "  vacancy_type  count\n",
       "0         open   1400"
      ]
     },
     "metadata": {},
     "output_type": "display_data"
    },
    {
     "data": {
      "text/html": [
       "<div>\n",
       "<style scoped>\n",
       "    .dataframe tbody tr th:only-of-type {\n",
       "        vertical-align: middle;\n",
       "    }\n",
       "\n",
       "    .dataframe tbody tr th {\n",
       "        vertical-align: top;\n",
       "    }\n",
       "\n",
       "    .dataframe thead th {\n",
       "        text-align: right;\n",
       "    }\n",
       "</style>\n",
       "<table border=\"1\" class=\"dataframe\">\n",
       "  <thead>\n",
       "    <tr style=\"text-align: right;\">\n",
       "      <th></th>\n",
       "      <th>employment_form_type</th>\n",
       "      <th>count</th>\n",
       "    </tr>\n",
       "  </thead>\n",
       "  <tbody>\n",
       "    <tr>\n",
       "      <th>0</th>\n",
       "      <td>FULL</td>\n",
       "      <td>1400</td>\n",
       "    </tr>\n",
       "  </tbody>\n",
       "</table>\n",
       "</div>"
      ],
      "text/plain": [
       "  employment_form_type  count\n",
       "0                 FULL   1400"
      ]
     },
     "metadata": {},
     "output_type": "display_data"
    },
    {
     "data": {
      "text/html": [
       "<div>\n",
       "<style scoped>\n",
       "    .dataframe tbody tr th:only-of-type {\n",
       "        vertical-align: middle;\n",
       "    }\n",
       "\n",
       "    .dataframe tbody tr th {\n",
       "        vertical-align: top;\n",
       "    }\n",
       "\n",
       "    .dataframe thead th {\n",
       "        text-align: right;\n",
       "    }\n",
       "</style>\n",
       "<table border=\"1\" class=\"dataframe\">\n",
       "  <thead>\n",
       "    <tr style=\"text-align: right;\">\n",
       "      <th></th>\n",
       "      <th>experience_type</th>\n",
       "      <th>count</th>\n",
       "    </tr>\n",
       "  </thead>\n",
       "  <tbody>\n",
       "    <tr>\n",
       "      <th>0</th>\n",
       "      <td>between1And3</td>\n",
       "      <td>600</td>\n",
       "    </tr>\n",
       "    <tr>\n",
       "      <th>1</th>\n",
       "      <td>between3And6</td>\n",
       "      <td>600</td>\n",
       "    </tr>\n",
       "    <tr>\n",
       "      <th>2</th>\n",
       "      <td>noExperience</td>\n",
       "      <td>200</td>\n",
       "    </tr>\n",
       "  </tbody>\n",
       "</table>\n",
       "</div>"
      ],
      "text/plain": [
       "  experience_type  count\n",
       "0    between1And3    600\n",
       "1    between3And6    600\n",
       "2    noExperience    200"
      ]
     },
     "metadata": {},
     "output_type": "display_data"
    }
   ],
   "source": [
    "for i,j in zip(columns_for_index, column_to_count):\n",
    "    display(make_pivot(data_flat, i, j))"
   ]
  },
  {
   "cell_type": "markdown",
   "id": "df982935",
   "metadata": {},
   "source": [
    "Успех: в полученной выборке все вакансии открытые и с полной занятостью. Это странно, но возможно API HH по умолчанию отдает выборку вакансий по определенным условиям. Удача в том, что именно такие вакансии мне и нужны, поэтому использую всю выборку без дополнительных фильтров.  \n",
    "В дальнейшем потребуется только проверить распреление ЗП по городам. В выборке все города - российские, но возможно, что где-то указана ЗП не в рублях. Проверим:"
   ]
  },
  {
   "cell_type": "code",
   "execution_count": 46,
   "id": "0c0341e1",
   "metadata": {},
   "outputs": [
    {
     "name": "stdout",
     "output_type": "stream",
     "text": [
      "Количество вакансий по указанной валюте: \n",
      " ------------------------------------------------------------ \n",
      " RUR    1400\n",
      "Name: salary_currency, dtype: int64\n"
     ]
    }
   ],
   "source": [
    "print('Количество вакансий по указанной валюте:', '\\n', 60*'-','\\n',\n",
    "      data_flat['salary_currency'].value_counts())"
   ]
  },
  {
   "cell_type": "markdown",
   "id": "f6c17cf2",
   "metadata": {},
   "source": [
    "Отлично, все данные только в рублях. И я еще не проверила, какое количество цифр gross, а какое net:"
   ]
  },
  {
   "cell_type": "code",
   "execution_count": 47,
   "id": "1c9bc7ae",
   "metadata": {},
   "outputs": [
    {
     "name": "stdout",
     "output_type": "stream",
     "text": [
      "Количество вакансий с указанием ЗП до и после вычета налогов: \n",
      " ------------------------------------------------------------ \n",
      " False    1000\n",
      "True      400\n",
      "Name: gross, dtype: Int64\n"
     ]
    }
   ],
   "source": [
    "print('Количество вакансий с указанием ЗП до и после вычета налогов:','\\n', 60*'-','\\n',\n",
    "     data_flat['gross'].value_counts())"
   ]
  },
  {
   "cell_type": "markdown",
   "id": "378a0609",
   "metadata": {},
   "source": [
    "Большая часть вакансий - 1000 - содержит все-таки уровень net, то есть на руки, после вычета налогов. Остальные 400 - это уровень до вычета налогов. Учтем это далее."
   ]
  },
  {
   "cell_type": "markdown",
   "id": "6eb39934",
   "metadata": {},
   "source": [
    "#### Распределение ЗП по всей выборке"
   ]
  },
  {
   "cell_type": "markdown",
   "id": "54a22081",
   "metadata": {},
   "source": [
    "Оценим максимальный и минимальный указанный уровень зарплаты От:"
   ]
  },
  {
   "cell_type": "code",
   "execution_count": 48,
   "id": "53e08d62",
   "metadata": {
    "scrolled": true
   },
   "outputs": [
    {
     "name": "stdout",
     "output_type": "stream",
     "text": [
      "Максимальная ЗП От, RUB: \n",
      " ------------------------------------------------------------ \n",
      " 300000\n",
      "Минимальная ЗП От, RUB: \n",
      " ------------------------------------------------------------ \n",
      " 0\n"
     ]
    }
   ],
   "source": [
    "print('Максимальная ЗП От, RUB:', '\\n', 60*'-','\\n',\n",
    "     data_flat['salary_from'].max())\n",
    "print('Минимальная ЗП От, RUB:', '\\n', 60*'-','\\n',\n",
    "     data_flat['salary_from'].min())"
   ]
  },
  {
   "cell_type": "markdown",
   "id": "2e8940cb",
   "metadata": {},
   "source": [
    "Здесь пока присутствуют вакансии, где не указан уровень зарплаты От. Так вышло, что изначально я отфильтровывала данные, где вообще не указан никакой уровень - ни От, ни До. Пока эти нулевые данные отфильтровывать не буду, возможно, позже избавимся от них."
   ]
  },
  {
   "cell_type": "code",
   "execution_count": 49,
   "id": "e198bfe0",
   "metadata": {},
   "outputs": [
    {
     "name": "stdout",
     "output_type": "stream",
     "text": [
      "Максимальная ЗП До, RUB: \n",
      " ------------------------------------------------------------ \n",
      " 380000\n"
     ]
    }
   ],
   "source": [
    "print('Максимальная ЗП До, RUB:', '\\n', 60*'-','\\n',\n",
    "     data_flat['salary_to'].max())"
   ]
  },
  {
   "cell_type": "markdown",
   "id": "08887449",
   "metadata": {},
   "source": [
    "Посмотрим на общее распределение и поищем выбросы в данных:"
   ]
  },
  {
   "cell_type": "code",
   "execution_count": 50,
   "id": "78e06c22",
   "metadata": {},
   "outputs": [
    {
     "data": {
      "image/png": "[encoded data removed]",
      "text/plain": [
       "<Figure size 1080x504 with 1 Axes>"
      ]
     },
     "metadata": {},
     "output_type": "display_data"
    }
   ],
   "source": [
    "fig,ax = plt.subplots(figsize=(15,7))\n",
    "sns.histplot(data_flat['salary_from'], bins=10)\n",
    "ax.set_title('Распределение зарплаты От')\n",
    "ax.set_xlabel('уровень зарплаты От, RUB') # ЗП в другой валюте в выборке не было\n",
    "ax.set_ylabel('количество вакансий с указанной зп')\n",
    "plt.show()"
   ]
  },
  {
   "cell_type": "markdown",
   "id": "dd5353c5",
   "metadata": {},
   "source": [
    "1. Значение 0 - это вакансии, где не указан уровень зарплаты От. Таких было всего 300;\n",
    "2. Еще 100 вакансий попадают в промежуток, где зарплата начинается примерно от `70 000 руб`. Скорее всего, это вакансии \"без опыта\", проверим это далее. И еще 200 вакансий - от `90 000 руб`. Пока мои предположения, что все эти 300 вакансий относятся в группу \"без опыта\", либо они в Новосибирске. Точнее это будет видно далее в распределении по городам и по опыту;\n",
    "3. Интересно, что в промежутке От `120 000 - 180 000` нет ни одной вакансии. Зато, начиная `От 180 000 руб` лежит основная масса вакансий;\n",
    "4. Самое большое количество - 300 вакансий - находится в промежутке От `180 000 - 210 000 руб`, и это самая интересная информация. Подавляющее количество вакансий - это вакансии из Москвы, их 900 и 64% от всей выборки соответственно. По другим исследованиям, уровень ЗП в Санкт-Петербурге обычно чуть ниже, чем в Москве. В нашей выборке всего три города - Москва, Питер и Новосибирск, и вряд ли вакансии из Новосибирска опережают вакансии из Москвы. Что намекает на тот факт, что реальный уровень зарплаты От по Москве может быть еще чуть выше;\n",
    "4. 400 вакансий находятся в промежутке От `210 000 - 270 000 руб` - по 200 вакансий в группах `210 000 - 240 000 руб` и `240 000 - 270 000 руб` соответственно. Учитывая всё, написанное выше, нужно смотреть подробнее, т.к. из этого графика невозможно сказать, что вызывает перекос - город или уровень опыта;\n",
    "5. Небольшая часть вакансий в количестве 100 лежит в пределах От `270 000 - 300 000 руб`, и вот это почти наверняка вакансии сеньоров. Вычислить их сможем по указанному требуемому опыту далее.  \n",
    "\n",
    "В целом уровень ЗП От `70 000 - 90 000 руб` по всей России я бы выбросом не считала. Но лично для меня это выброс)) Далее буду отфильтровывать данные только по Москве, и там уже будет точнее видно, учитывать ли этот уровень."
   ]
  },
  {
   "cell_type": "markdown",
   "id": "a2e9fb20",
   "metadata": {},
   "source": [
    "Для чистоты эксперимента построим аналогичный график по уровню ЗП До. Таких вакансий с указанным уровнем До было меньше - 800 против 1100 (указано От)."
   ]
  },
  {
   "cell_type": "code",
   "execution_count": 51,
   "id": "a50e2d77",
   "metadata": {},
   "outputs": [
    {
     "data": {
      "image/png": "[encoded data removed]",
      "text/plain": [
       "<Figure size 1080x504 with 1 Axes>"
      ]
     },
     "metadata": {},
     "output_type": "display_data"
    }
   ],
   "source": [
    "fig,ax = plt.subplots(figsize=(15,7))\n",
    "sns.histplot(data_flat['salary_to'], bins=10)\n",
    "ax.set_title('Распределение зарплаты До')\n",
    "ax.set_xlabel('уровень зарплаты До, RUB') # ЗП в другой валюте в выборке не было\n",
    "ax.set_ylabel('количество вакансий с указанной зп')\n",
    "plt.show()"
   ]
  },
  {
   "cell_type": "markdown",
   "id": "7351d508",
   "metadata": {},
   "source": [
    "Здесь действительно намного меньше интересных данных, но в любом случае неплохо знать потолок))  \n",
    "1. Подавляющее большинство - 400 вакансий - попадают в промежуток ЗП До `260 000 - 300 000 руб`. Это половина всех имеющихся данных;\n",
    "2. По 100 вакансий попадают в промежутки До: `110 000 - 150 000 руб`, `230 000 - 260 000 руб` и `340 000 - 380 000 руб`. Это похоже на ставки джуна, мидла и сеньора, но ориентироваться на эти данные, пожалуй, не буду по двум причинам:  \n",
    "- потолок у каждого личный, обычно это больше зависит от договоренности с компанией;\n",
    "- далеко не везде указаны цифры и От и До, данных маловато для того, чтобы принимать небольшие группки До в качестве уверенной статистики."
   ]
  },
  {
   "cell_type": "markdown",
   "id": "0796624b",
   "metadata": {},
   "source": [
    "#### Распределение по Москве"
   ]
  },
  {
   "cell_type": "markdown",
   "id": "ae762db5",
   "metadata": {},
   "source": [
    "Меня интересуют только вакансии из Москвы, поэтому выберу нужные данные по региону (Москва - регион 1).  \n",
    "Также помним, что при преобразовании столбцов `salary_...` незаполненные строки превратились в 0, поэтому инфо покажет, что они не пустые, но при этом ценности такие строки в себе не несут. Ориентируемся на указанный уровень зарплаты От:"
   ]
  },
  {
   "cell_type": "code",
   "execution_count": 52,
   "id": "9c0b3956",
   "metadata": {},
   "outputs": [],
   "source": [
    "data_moscow = data_flat.query('region_id == 1 & salary_from != 0')"
   ]
  },
  {
   "cell_type": "code",
   "execution_count": 53,
   "id": "79341b8c",
   "metadata": {},
   "outputs": [
    {
     "name": "stdout",
     "output_type": "stream",
     "text": [
      "<class 'pandas.core.frame.DataFrame'>\n",
      "Int64Index: 700 entries, 0 to 1399\n",
      "Data columns (total 15 columns):\n",
      " #   Column                Non-Null Count  Dtype  \n",
      "---  ------                --------------  -----  \n",
      " 0   id                    700 non-null    int32  \n",
      " 1   vacancy_name          700 non-null    object \n",
      " 2   salary_from           700 non-null    int64  \n",
      " 3   salary_to             700 non-null    int64  \n",
      " 4   salary_currency       700 non-null    object \n",
      " 5   gross                 700 non-null    boolean\n",
      " 6   region_id             700 non-null    int32  \n",
      " 7   region_name           700 non-null    object \n",
      " 8   region_url            700 non-null    object \n",
      " 9   vacancy_type          700 non-null    object \n",
      " 10  type_name             700 non-null    object \n",
      " 11  employment_form_type  700 non-null    object \n",
      " 12  employment_form_name  700 non-null    object \n",
      " 13  experience_type       700 non-null    object \n",
      " 14  experience_name       700 non-null    object \n",
      "dtypes: boolean(1), int32(2), int64(2), object(10)\n",
      "memory usage: 77.9+ KB\n"
     ]
    }
   ],
   "source": [
    "data_moscow.info()"
   ]
  },
  {
   "cell_type": "markdown",
   "id": "738f1f3a",
   "metadata": {},
   "source": [
    "Неплохо. Всего было 900 вакансий из Москвы, потеряли 200. Жаль, но в любом случае это неинформативные данные."
   ]
  },
  {
   "cell_type": "markdown",
   "id": "6db79fd4",
   "metadata": {},
   "source": [
    "Составим общее распределение:"
   ]
  },
  {
   "cell_type": "code",
   "execution_count": 54,
   "id": "a6005957",
   "metadata": {},
   "outputs": [
    {
     "data": {
      "image/png": "[encoded data removed]",
      "text/plain": [
       "<Figure size 1080x504 with 1 Axes>"
      ]
     },
     "metadata": {},
     "output_type": "display_data"
    }
   ],
   "source": [
    "fig,ax = plt.subplots(figsize=(15,7))\n",
    "sns.histplot(data_moscow['salary_from'], bins=10)\n",
    "ax.set_title('Распределение зарплаты От по г.Москва')\n",
    "ax.set_xlabel('уровень зарплаты От, RUB') # ЗП в другой валюте в выборке не было\n",
    "ax.set_ylabel('количество вакансий с указанной зп')\n",
    "plt.show()"
   ]
  },
  {
   "cell_type": "markdown",
   "id": "f59a8e7c",
   "metadata": {},
   "source": [
    "Явно преобладают две группы по 200 вакансий в каждой:  \n",
    "- От 100 000 руб до 120 000 руб;\n",
    "- От 245 000 руб до 260 000 руб;  \n",
    "\n",
    "В целом распределение достаточно типичное и очень похоже на реальные цифры в вакансиях, которые я видела."
   ]
  },
  {
   "cell_type": "markdown",
   "id": "75ce0cab",
   "metadata": {},
   "source": [
    "#### Распределение по уровням junior, middle, senior по Москве"
   ]
  },
  {
   "cell_type": "markdown",
   "id": "9c862df3",
   "metadata": {},
   "source": [
    "Наконец-то сгруппируем вакансии по требуемому опыту. В выборке есть три варианта опыта, будем считать, что они соответствуют уровням джун, миддл и сеньор+лид, понимая, что это разделение достаточно условное:"
   ]
  },
  {
   "cell_type": "code",
   "execution_count": 55,
   "id": "f476b192",
   "metadata": {},
   "outputs": [],
   "source": [
    "def check_level(str):\n",
    "    if 'between3And6' in str:\n",
    "        str = 'senior'\n",
    "    elif 'between1And3' in str:\n",
    "        str = 'middle'   \n",
    "    elif 'noExperience' in str:\n",
    "        str = 'junior'\n",
    "    else:\n",
    "        str = 'unknown'\n",
    "    return str"
   ]
  },
  {
   "cell_type": "code",
   "execution_count": 56,
   "id": "57c40fe9",
   "metadata": {},
   "outputs": [
    {
     "name": "stderr",
     "output_type": "stream",
     "text": [
      "C:\\Users\\HP\\AppData\\Local\\Temp/ipykernel_14636/1848097984.py:1: SettingWithCopyWarning: \n",
      "A value is trying to be set on a copy of a slice from a DataFrame.\n",
      "Try using .loc[row_indexer,col_indexer] = value instead\n",
      "\n",
      "See the caveats in the documentation: https://pandas.pydata.org/pandas-docs/stable/user_guide/indexing.html#returning-a-view-versus-a-copy\n",
      "  data_moscow['level'] = data_moscow['experience_type'].apply(check_level)\n"
     ]
    }
   ],
   "source": [
    "data_moscow['level'] = data_moscow['experience_type'].apply(check_level)"
   ]
  },
  {
   "cell_type": "markdown",
   "id": "7921bf25",
   "metadata": {},
   "source": [
    "Построим графики распределения по уровню ЗП для каждого уровня. Для начала рассчитаем медианную ЗП для каждого уровня:"
   ]
  },
  {
   "cell_type": "code",
   "execution_count": 57,
   "id": "caa7b0fa",
   "metadata": {},
   "outputs": [],
   "source": [
    "median_salary = data_moscow.pivot_table(index='level',\n",
    "                                       values='salary_from',\n",
    "                                       aggfunc=['count', 'median','mean', 'max', 'min'])\\\n",
    ".reset_index()\n",
    "median_salary.columns = ['level', 'vacancy_count', 'median_salary', 'mean_salary', 'max_salary', 'min_salary']"
   ]
  },
  {
   "cell_type": "code",
   "execution_count": 58,
   "id": "88b161ed",
   "metadata": {},
   "outputs": [
    {
     "data": {
      "text/html": [
       "<div>\n",
       "<style scoped>\n",
       "    .dataframe tbody tr th:only-of-type {\n",
       "        vertical-align: middle;\n",
       "    }\n",
       "\n",
       "    .dataframe tbody tr th {\n",
       "        vertical-align: top;\n",
       "    }\n",
       "\n",
       "    .dataframe thead th {\n",
       "        text-align: right;\n",
       "    }\n",
       "</style>\n",
       "<table border=\"1\" class=\"dataframe\">\n",
       "  <thead>\n",
       "    <tr style=\"text-align: right;\">\n",
       "      <th></th>\n",
       "      <th>level</th>\n",
       "      <th>vacancy_count</th>\n",
       "      <th>median_salary</th>\n",
       "      <th>mean_salary</th>\n",
       "      <th>max_salary</th>\n",
       "      <th>min_salary</th>\n",
       "    </tr>\n",
       "  </thead>\n",
       "  <tbody>\n",
       "    <tr>\n",
       "      <th>0</th>\n",
       "      <td>junior</td>\n",
       "      <td>100</td>\n",
       "      <td>100000</td>\n",
       "      <td>100000.000000</td>\n",
       "      <td>100000</td>\n",
       "      <td>100000</td>\n",
       "    </tr>\n",
       "    <tr>\n",
       "      <th>1</th>\n",
       "      <td>middle</td>\n",
       "      <td>300</td>\n",
       "      <td>240000</td>\n",
       "      <td>196666.666667</td>\n",
       "      <td>250000</td>\n",
       "      <td>100000</td>\n",
       "    </tr>\n",
       "    <tr>\n",
       "      <th>2</th>\n",
       "      <td>senior</td>\n",
       "      <td>300</td>\n",
       "      <td>230000</td>\n",
       "      <td>236666.666667</td>\n",
       "      <td>300000</td>\n",
       "      <td>180000</td>\n",
       "    </tr>\n",
       "  </tbody>\n",
       "</table>\n",
       "</div>"
      ],
      "text/plain": [
       "    level  vacancy_count  median_salary    mean_salary  max_salary  min_salary\n",
       "0  junior            100         100000  100000.000000      100000      100000\n",
       "1  middle            300         240000  196666.666667      250000      100000\n",
       "2  senior            300         230000  236666.666667      300000      180000"
      ]
     },
     "execution_count": 58,
     "metadata": {},
     "output_type": "execute_result"
    }
   ],
   "source": [
    "median_salary"
   ]
  },
  {
   "cell_type": "markdown",
   "id": "eaa5d95b",
   "metadata": {},
   "source": [
    "И вот тут получили забавный момент - у сеньора медианная зарплата ниже, чем у мидла) При этом по средней, максимальной и минимальной ЗП такой проблемы нет, все идет ровно по возрастанию. Возможно, распределение по опыту работы - не самое показательное, как и ожидалось)  \n",
    "Медиана означает, что ровно половина всех вакансий ниже этой цифры, а половина выше. Вакансий миддлов и сеньоров поровну, что наводит на мысли о выбросах в данных.  \n",
    "Проверим. В идеале было бы построить тут boxplot, но данные слишком однородные, из-за того, что в вакансиях указывают примерно одинаковые уровни ЗП, и поэтому выбросы будут видны не так явно. Поэтому обойдемся гистограммой:"
   ]
  },
  {
   "cell_type": "code",
   "execution_count": 59,
   "id": "4b4532af",
   "metadata": {},
   "outputs": [
    {
     "data": {
      "image/png": "[encoded data removed]",
      "text/plain": [
       "<Figure size 1080x504 with 1 Axes>"
      ]
     },
     "metadata": {},
     "output_type": "display_data"
    },
    {
     "data": {
      "image/png": "[encoded data removed]",
      "text/plain": [
       "<Figure size 1080x504 with 1 Axes>"
      ]
     },
     "metadata": {},
     "output_type": "display_data"
    },
    {
     "data": {
      "image/png": "[encoded data removed]",
      "text/plain": [
       "<Figure size 1080x504 with 1 Axes>"
      ]
     },
     "metadata": {},
     "output_type": "display_data"
    }
   ],
   "source": [
    "for i in data_moscow['level'].unique():\n",
    "    filtered = data_moscow.query('level == @i')\n",
    "    fig,ax = plt.subplots(figsize=(15,7))\n",
    "    sns.histplot(filtered['salary_from'], bins=3)\n",
    "    ax.set_title(f'Распределение зарплаты От {i}')\n",
    "    ax.set_xlabel(f'уровень зарплаты От {i}, RUB') \n",
    "    ax.set_ylabel('количество вакансий с указанной зп')\n",
    "    plt.show()"
   ]
  },
  {
   "cell_type": "markdown",
   "id": "135dce68",
   "metadata": {},
   "source": [
    "Уже показательнее.  \n",
    "1. Для вакансий без опыта - я их обозначила как junior - все было очень однородно - `100 000 руб`, это и среднее, и медиана, и максимальное значение. Стабильность, ребята))\n",
    "2. Для условных миддлов - 1-3 года опыта - есть четкое разделение. Треть вакансий - `от 100 000 руб до 150 000 руб`, а две трети - `от 200 000 до 250 000 руб`. И это несколько выше, чем фактический уровень зарплаты в зарплатном калькуляторе Хабра. Хорошие новости для 2025 года)\n",
    "3. Непонятнее всего обстоят дела с условными сеньорами, но и нельзя опираться только на опыт 3-6 лет в данном случае (как и с миддлами, конечно). Для сеньоров вакансии разделились четко на три группы: `от 180 000 руб до 220 000 руб`, `от 220 000 руб до 260 000 руб` и `от 260 000 руб до 300 000 руб`. Из чего я делаю вывод, что настоящие сеньоры, вероятно, это только последняя группа (это похоже на данные зарплатного калькулятора). А вот группы до 260 000 руб - это миддлы с большим количеством опыта, возможно, middle+."
   ]
  },
  {
   "cell_type": "markdown",
   "id": "c988c6f8",
   "metadata": {},
   "source": [
    "### Общий вывод"
   ]
  },
  {
   "cell_type": "markdown",
   "id": "ca42b7c2",
   "metadata": {},
   "source": [
    "Фактический средний уровень зарплаты для системного аналитика уровня middle по данным зарплатного калькулятора Хабр составлял 170 000 руб. На январь 2025 г предложение превышает этот уровень - среднее значение составляет 196 000 руб, а медианное 240 000 руб. Такой разброс между средним и медианным значением вызван тем, что треть вакансий, попавших в группу миддлов, соответствует скорее уровню jumior - до 150 000 руб. Разделение за неимением других данных производилось по указанному опыту, а 1-3 года опыта вполне могут быть запрошены и для джуна. В любом случае ориентироваться стоит на собственный опыт и на требования конкретной вакансии."
   ]
  },
  {
   "cell_type": "code",
   "execution_count": null,
   "id": "780df4c1",
   "metadata": {},
   "outputs": [],
   "source": []
  }
 ],
 "metadata": {
  "kernelspec": {
   "display_name": "Python 3 (ipykernel)",
   "language": "python",
   "name": "python3"
  },
  "language_info": {
   "codemirror_mode": {
    "name": "ipython",
    "version": 3
   },
   "file_extension": ".py",
   "mimetype": "text/x-python",
   "name": "python",
   "nbconvert_exporter": "python",
   "pygments_lexer": "ipython3",
   "version": "3.9.7"
  },
  "toc": {
   "base_numbering": 1,
   "nav_menu": {
    "height": "151px",
    "width": "240px"
   },
   "number_sections": true,
   "sideBar": true,
   "skip_h1_title": true,
   "title_cell": "Table of Contents",
   "title_sidebar": "Contents",
   "toc_cell": true,
   "toc_position": {},
   "toc_section_display": true,
   "toc_window_display": true
  }
 },
 "nbformat": 4,
 "nbformat_minor": 5
}
