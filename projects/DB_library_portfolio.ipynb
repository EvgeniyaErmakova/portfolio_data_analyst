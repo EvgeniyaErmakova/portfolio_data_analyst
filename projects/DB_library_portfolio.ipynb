{
 "cells": [
  {
   "cell_type": "code",
   "execution_count": 1,
   "id": "64de5ad2-bc0e-4427-85af-53bc4f7887d7",
   "metadata": {},
   "outputs": [],
   "source": [
    "import pandas as pd\n",
    "import urllib.parse\n",
    "import sqlalchemy as sa\n",
    "from sqlalchemy import create_engine\n",
    "import os"
   ]
  },
  {
   "cell_type": "markdown",
   "id": "22a809f8-a119-4b73-8bca-766e8b7ad8ac",
   "metadata": {},
   "source": [
    "## Переменные для подключения к БД"
   ]
  },
  {
   "cell_type": "markdown",
   "id": "00df1afe-3498-4ee0-9fb4-9b2db62655cc",
   "metadata": {},
   "source": [
    "Читаем данные для подключения из файла:"
   ]
  },
  {
   "cell_type": "code",
   "execution_count": 2,
   "id": "9cc92998-c941-4031-aa9c-7838dfb2118c",
   "metadata": {},
   "outputs": [],
   "source": [
    "file = open('db_user.txt', 'r')"
   ]
  },
  {
   "cell_type": "code",
   "execution_count": 3,
   "id": "d044c07e-5e4b-4674-ab82-3f319aff1b37",
   "metadata": {},
   "outputs": [],
   "source": [
    "# данные в файле прописаны строкой, преобразовываем в словарь\n",
    "file = eval(file.read())"
   ]
  },
  {
   "cell_type": "markdown",
   "id": "d67ae808-9fb6-4017-bf17-60609b2c9d41",
   "metadata": {},
   "source": [
    "Прописываем переменные для подключения к БД:"
   ]
  },
  {
   "cell_type": "code",
   "execution_count": 4,
   "id": "7ed594b7-ef1b-44f6-9d07-b152f3ce8de0",
   "metadata": {},
   "outputs": [],
   "source": [
    "user = file.get('login')\n",
    "password = urllib.parse.quote_plus(file.get('password')) #Экранируем все специальные символы в пароле (необходимо для подключения в модуле engine)\n",
    "host = file.get('host')\n",
    "port = file.get('port')\n",
    "db = file.get('db')"
   ]
  },
  {
   "cell_type": "markdown",
   "id": "5479800a-b817-4013-a475-4827d29f333d",
   "metadata": {},
   "source": [
    "## Функции для работы с БД"
   ]
  },
  {
   "cell_type": "markdown",
   "id": "da75dc86-75f9-491b-bef8-26a22c99e20b",
   "metadata": {},
   "source": [
    "### Чтение данных"
   ]
  },
  {
   "cell_type": "markdown",
   "id": "9c164b54-a2a5-48f8-a04c-1df795164495",
   "metadata": {},
   "source": [
    "#### Создание подключения к БД"
   ]
  },
  {
   "cell_type": "code",
   "execution_count": 5,
   "id": "d7adf04b-4941-48f7-b722-ac85004963a5",
   "metadata": {},
   "outputs": [],
   "source": [
    "def create_db_config_and_connect(user, password, host, port, db):\n",
    "    '''\n",
    "    Получает константы для подключения к БД, создает объект с конфигурацией БД.\n",
    "    Формирует строку подключения и возвращает объект подключения к БД\n",
    "    '''\n",
    "    # записываем конфигурацию БД\n",
    "    db_config = {\n",
    "        'user': user, # имя пользователя\n",
    "        'pwd': password, # пароль\n",
    "        'host': host,\n",
    "        'port': port, # порт подключения\n",
    "        'db': db # название базы данных\n",
    "    }\n",
    "    # формируем строку подключения\n",
    "    connection_string = 'postgresql://{}:{}@{}:{}/{}'.format(\n",
    "        db_config['user'],\n",
    "        db_config['pwd'],\n",
    "        db_config['host'],\n",
    "        db_config['port'],\n",
    "        db_config['db'],\n",
    "    )\n",
    "    # создаем строку подключения к БД\n",
    "    engine = create_engine(connection_string)\n",
    "    return engine"
   ]
  },
  {
   "cell_type": "markdown",
   "id": "11add286-404f-4081-ac61-e1fa660ed9c2",
   "metadata": {},
   "source": [
    "Пример работы:"
   ]
  },
  {
   "cell_type": "code",
   "execution_count": 6,
   "id": "4ae3a80d-9879-4462-a424-a614c45d7f74",
   "metadata": {},
   "outputs": [],
   "source": [
    "engine = create_db_config_and_connect(user, password, host, port, db)"
   ]
  },
  {
   "cell_type": "markdown",
   "id": "199e5b7f-bf16-4a56-ad98-d32d7c6f0fb4",
   "metadata": {},
   "source": [
    "*Строка подключения не отображается из соображений безопасности*"
   ]
  },
  {
   "cell_type": "markdown",
   "id": "3c6c0692-043f-40ea-849d-79682744e56d",
   "metadata": {},
   "source": [
    "#### Обработка исключений"
   ]
  },
  {
   "cell_type": "code",
   "execution_count": 8,
   "id": "56b2e4ed-4fac-4bbe-941f-341f06810e5c",
   "metadata": {},
   "outputs": [],
   "source": [
    "# обрабатываемые исключения\n",
    "data_reading_error = 'Не удалось прочитать данные'\n",
    "db_connection_error = 'Не удалось подключиться к БД'\n",
    "db_table_error = 'Не найдена таблица БД'\n",
    "data_record_error = 'Не удалось выполнить запрос на запись данных'\n",
    "record_confirmation_error = 'Не удалось подтвердить запись данных'"
   ]
  },
  {
   "cell_type": "code",
   "execution_count": 9,
   "id": "bc821c81-6710-4995-806c-5e57e3d69eea",
   "metadata": {},
   "outputs": [],
   "source": [
    "def catch_exceptions(handled_type, exception):\n",
    "    print(handled_type)\n",
    "    print(\"-\"*60)\n",
    "    print(f\"Тип исключения: {type(exception).__name__}, сообщение: {str(exception)}\")\n",
    "    print(\"-\"*60)\n",
    "    return"
   ]
  },
  {
   "cell_type": "markdown",
   "id": "c09f5313-14dd-45c7-940c-d90885a82df0",
   "metadata": {},
   "source": [
    "#### Получение данных из БД"
   ]
  },
  {
   "cell_type": "code",
   "execution_count": 10,
   "id": "93e25d60-6bea-4249-b877-817c46d013c3",
   "metadata": {},
   "outputs": [],
   "source": [
    "def read_sql_query(query, engine):\n",
    "    '''\n",
    "    Получает запрос для чтения данных и объект соединения с БД.\n",
    "    Подключается к БД, возвращает результат чтения данных из БД\n",
    "    '''\n",
    "    try:\n",
    "        result = pd.read_sql_query(query, con = engine)\n",
    "    except Exception as e:\n",
    "        handled_type = data_reading_error\n",
    "        catch_exceptions(handled_type, e)\n",
    "    return result"
   ]
  },
  {
   "cell_type": "markdown",
   "id": "332ac2a2-5c91-4454-ac9f-205f2d20d3f1",
   "metadata": {},
   "source": [
    "##### Пример работы без ошибок:"
   ]
  },
  {
   "cell_type": "code",
   "execution_count": 13,
   "id": "982317d7-b919-4a0b-a2b5-07306095e1e0",
   "metadata": {},
   "outputs": [],
   "source": [
    "query = '''\n",
    "SELECT * FROM quick_filters\n",
    "LIMIT 1\n",
    "'''"
   ]
  },
  {
   "cell_type": "code",
   "execution_count": 14,
   "id": "5f145384-1762-4c95-a284-e7468c60d9ba",
   "metadata": {},
   "outputs": [
    {
     "data": {
      "text/html": [
       "<div>\n",
       "<style scoped>\n",
       "    .dataframe tbody tr th:only-of-type {\n",
       "        vertical-align: middle;\n",
       "    }\n",
       "\n",
       "    .dataframe tbody tr th {\n",
       "        vertical-align: top;\n",
       "    }\n",
       "\n",
       "    .dataframe thead th {\n",
       "        text-align: right;\n",
       "    }\n",
       "</style>\n",
       "<table border=\"1\" class=\"dataframe\">\n",
       "  <thead>\n",
       "    <tr style=\"text-align: right;\">\n",
       "      <th></th>\n",
       "      <th>code</th>\n",
       "      <th>enabled</th>\n",
       "      <th>name</th>\n",
       "    </tr>\n",
       "  </thead>\n",
       "  <tbody>\n",
       "    <tr>\n",
       "      <th>0</th>\n",
       "      <td>LUKOIL_GAS_STATION</td>\n",
       "      <td>True</td>\n",
       "      <td>АЗС Лукойл</td>\n",
       "    </tr>\n",
       "  </tbody>\n",
       "</table>\n",
       "</div>"
      ],
      "text/plain": [
       "                 code  enabled        name\n",
       "0  LUKOIL_GAS_STATION     True  АЗС Лукойл"
      ]
     },
     "execution_count": 14,
     "metadata": {},
     "output_type": "execute_result"
    }
   ],
   "source": [
    "read_sql_query(query, engine)"
   ]
  },
  {
   "cell_type": "markdown",
   "id": "0fac0f71-edf9-4f47-bb4c-8db75930e0bb",
   "metadata": {},
   "source": [
    "##### Пример работы с ошибкой:"
   ]
  },
  {
   "cell_type": "code",
   "execution_count": 15,
   "id": "b186f234-5284-42b6-be73-b9c579dca711",
   "metadata": {},
   "outputs": [],
   "source": [
    "query = '''\n",
    "SELECT * FROM some_disappeared_table\n",
    "LIMIT 1\n",
    "'''"
   ]
  },
  {
   "cell_type": "code",
   "execution_count": 16,
   "id": "0f5aed6b-65b1-45f2-9a5b-9d6d69aea86f",
   "metadata": {},
   "outputs": [
    {
     "name": "stdout",
     "output_type": "stream",
     "text": [
      "Не удалось прочитать данные\n",
      "------------------------------------------------------------\n",
      "Тип исключения: ProgrammingError, сообщение: (psycopg2.errors.UndefinedTable) relation \"some_disappeared_table\" does not exist\n",
      "LINE 2: SELECT * FROM some_disappeared_table\n",
      "                      ^\n",
      "\n",
      "[SQL: \n",
      "SELECT * FROM some_disappeared_table\n",
      "LIMIT 1\n",
      "]\n",
      "(Background on this error at: https://sqlalche.me/e/20/f405)\n",
      "------------------------------------------------------------\n"
     ]
    },
    {
     "ename": "UnboundLocalError",
     "evalue": "cannot access local variable 'result' where it is not associated with a value",
     "output_type": "error",
     "traceback": [
      "\u001b[1;31m---------------------------------------------------------------------------\u001b[0m",
      "\u001b[1;31mUnboundLocalError\u001b[0m                         Traceback (most recent call last)",
      "Cell \u001b[1;32mIn[16], line 1\u001b[0m\n\u001b[1;32m----> 1\u001b[0m read_sql_query(query, engine)\n",
      "Cell \u001b[1;32mIn[10], line 11\u001b[0m, in \u001b[0;36mread_sql_query\u001b[1;34m(query, engine)\u001b[0m\n\u001b[0;32m      9\u001b[0m     handled_type \u001b[38;5;241m=\u001b[39m data_reading_error\n\u001b[0;32m     10\u001b[0m     catch_exceptions(handled_type, e)\n\u001b[1;32m---> 11\u001b[0m \u001b[38;5;28;01mreturn\u001b[39;00m result\n",
      "\u001b[1;31mUnboundLocalError\u001b[0m: cannot access local variable 'result' where it is not associated with a value"
     ]
    }
   ],
   "source": [
    "read_sql_query(query, engine)"
   ]
  },
  {
   "cell_type": "markdown",
   "id": "5becc027-1a79-402f-9eff-af51e533ada5",
   "metadata": {},
   "source": [
    "### Запись данных в БД без создания таблицы (в существующую)"
   ]
  },
  {
   "cell_type": "markdown",
   "id": "08279fd7-3692-4d0f-89e2-5c18c1422a17",
   "metadata": {},
   "source": [
    "#### С выводом количества строк в таблице до и после записи"
   ]
  },
  {
   "cell_type": "markdown",
   "id": "e46332c5-dbad-4fb7-b6b5-0ac7cf0b094b",
   "metadata": {},
   "source": [
    "Подсчитать количество строк в таблице нужно дважды: перед записью данных и после. Поэтому используем функцию для подсчета записей:"
   ]
  },
  {
   "cell_type": "code",
   "execution_count": 17,
   "id": "04a905ba-e4e8-4730-93d8-deef38e10be8",
   "metadata": {},
   "outputs": [],
   "source": [
    "def count_table_rows(table,engine):\n",
    "    '''\n",
    "    Принимает на вход название таблицы строкой и объект соединения.\n",
    "    Возвращает количество строк в таблице\n",
    "    '''\n",
    "    query = f'''\n",
    "    SELECT COUNT(*) AS rows_count FROM {table}\n",
    "    '''\n",
    "    rows = read_sql_query(query, engine)\n",
    "    return rows['rows_count'][0]"
   ]
  },
  {
   "cell_type": "markdown",
   "id": "f5977910-af4a-4c68-bea7-90fbefe86eef",
   "metadata": {},
   "source": [
    "##### Пример работы"
   ]
  },
  {
   "cell_type": "markdown",
   "id": "4d275f85-4bd1-4454-8b05-23e8a6965a96",
   "metadata": {},
   "source": [
    "*Обработка ошибок наследуется из функции чтения данных*"
   ]
  },
  {
   "cell_type": "code",
   "execution_count": 18,
   "id": "de9c4696-678d-4b05-be62-e69f4c9fdc04",
   "metadata": {},
   "outputs": [],
   "source": [
    "table = 'quick_filters'"
   ]
  },
  {
   "cell_type": "code",
   "execution_count": 20,
   "id": "d649a9c8-bacd-4087-b23c-f06aa7308c35",
   "metadata": {},
   "outputs": [
    {
     "data": {
      "text/plain": [
       "5"
      ]
     },
     "execution_count": 20,
     "metadata": {},
     "output_type": "execute_result"
    }
   ],
   "source": [
    "count_table_rows(table,engine)"
   ]
  },
  {
   "cell_type": "code",
   "execution_count": 21,
   "id": "ce1be765-d594-413c-96f6-d6aa466be324",
   "metadata": {},
   "outputs": [],
   "source": [
    "def connection_to_db_and_insert(engine, table, values_to_insert):\n",
    "    '''\n",
    "    Подключается к БД, создает запрос для вставки данных в нужную таблицу.\n",
    "    Выполняет запрос с подключением и возвращает результат\n",
    "    '''\n",
    "    # подключение к БД и загрузка объекта MetaData\n",
    "    try:\n",
    "        conn = engine.connect()\n",
    "        metadata = sa.MetaData()\n",
    "    except Exception as e: # Обработка ошибок с подключением к БД\n",
    "        handled_type = db_connection_error\n",
    "        catch_exceptions(handled_type, e)\n",
    "    # подключение к таблице в БД\n",
    "    try:\n",
    "        table_to_insert = sa.Table(table, metadata, autoload_with=engine)\n",
    "    except Exception as e: # Обработка ошибок с подключением к таблице в БД\n",
    "        handled_type = db_table_error\n",
    "        catch_exceptions(handled_type, e)\n",
    "    print('Количество строк до записи:', count_table_rows(table,engine))\n",
    "    # формируем запрос для вставки данных\n",
    "    insertion_query = table_to_insert.insert().values(values_to_insert)\n",
    "    # выполнение и подтверждение запроса\n",
    "    try:\n",
    "        conn.execute(insertion_query)\n",
    "    except Exception as e: # Обработка ошибки записи\n",
    "        handled_type = data_record_error\n",
    "        catch_exceptions(handled_type, e)\n",
    "    try:\n",
    "        conn.commit()\n",
    "    except Exception as e: # Обработка ошибки подтверждения записи\n",
    "        handled_type = record_confirmation_error\n",
    "        catch_exceptions(handled_type, e)\n",
    "    # проверка результата записи\n",
    "    print('Количество строк после записи:', count_table_rows(table,engine))  \n",
    "    # закрытие соединения\n",
    "    conn.close()\n",
    "    return"
   ]
  },
  {
   "cell_type": "markdown",
   "id": "1862e61a-5a60-491e-a88d-453531693ef2",
   "metadata": {},
   "source": [
    "##### Пример работы без ошибок"
   ]
  },
  {
   "cell_type": "code",
   "execution_count": 22,
   "id": "9928dd4c-dfb9-4e71-8340-25b2781c8922",
   "metadata": {},
   "outputs": [],
   "source": [
    "values_to_insert = [{'code': 'SILVER', 'enabled': False, 'name': 'Серебряные'}]"
   ]
  },
  {
   "cell_type": "code",
   "execution_count": 23,
   "id": "9e09cbd7-2d57-4ea7-ba8e-f85d52865b98",
   "metadata": {},
   "outputs": [
    {
     "name": "stdout",
     "output_type": "stream",
     "text": [
      "Количество строк до записи: 5\n",
      "Количество строк после записи: 6\n"
     ]
    }
   ],
   "source": [
    "connection_to_db_and_insert(engine, table, values_to_insert)"
   ]
  },
  {
   "cell_type": "markdown",
   "id": "721869fa-81c7-4f3f-b25d-9ed0ecbfe8f8",
   "metadata": {},
   "source": [
    "##### Пример работы с ошибкой:"
   ]
  },
  {
   "cell_type": "code",
   "execution_count": 24,
   "id": "707c2dce-2cf4-4e21-9094-a86c296db69d",
   "metadata": {},
   "outputs": [],
   "source": [
    "values_to_insert = [{'codeeeeee': 'SILVER', 'enabled': False, 'name': 'Серебряные'}]"
   ]
  },
  {
   "cell_type": "code",
   "execution_count": 25,
   "id": "eb125ae0-2f2f-4c7b-bc3e-c5297d6e000d",
   "metadata": {},
   "outputs": [
    {
     "name": "stdout",
     "output_type": "stream",
     "text": [
      "Количество строк до записи: 5\n",
      "Не удалось выполнить запрос на запись данных\n",
      "------------------------------------------------------------\n",
      "Тип исключения: CompileError, сообщение: Unconsumed column names: codeeeeee\n",
      "------------------------------------------------------------\n",
      "Количество строк после записи: 5\n"
     ]
    },
    {
     "name": "stderr",
     "output_type": "stream",
     "text": [
      "C:\\Users\\Licard\\AppData\\Local\\Temp\\ipykernel_15048\\3437858971.py:24: SAWarning: Column 'quick_filters.code' is marked as a member of the primary key for table 'quick_filters', but has no Python-side or server-side default generator indicated, nor does it indicate 'autoincrement=True' or 'nullable=True', and no explicit value is passed.  Primary key columns typically may not store NULL.\n",
      "  conn.execute(insertion_query)\n"
     ]
    }
   ],
   "source": [
    "connection_to_db_and_insert(engine, table, values_to_insert)"
   ]
  },
  {
   "cell_type": "code",
   "execution_count": null,
   "id": "0c4cf828-ac7b-4cb2-909c-015496d30cf1",
   "metadata": {},
   "outputs": [],
   "source": []
  }
 ],
 "metadata": {
  "kernelspec": {
   "display_name": "Python 3 (ipykernel)",
   "language": "python",
   "name": "python3"
  },
  "language_info": {
   "codemirror_mode": {
    "name": "ipython",
    "version": 3
   },
   "file_extension": ".py",
   "mimetype": "text/x-python",
   "name": "python",
   "nbconvert_exporter": "python",
   "pygments_lexer": "ipython3",
   "version": "3.11.7"
  },
  "widgets": {
   "application/vnd.jupyter.widget-state+json": {
    "state": {},
    "version_major": 2,
    "version_minor": 0
   }
  }
 },
 "nbformat": 4,
 "nbformat_minor": 5
}
