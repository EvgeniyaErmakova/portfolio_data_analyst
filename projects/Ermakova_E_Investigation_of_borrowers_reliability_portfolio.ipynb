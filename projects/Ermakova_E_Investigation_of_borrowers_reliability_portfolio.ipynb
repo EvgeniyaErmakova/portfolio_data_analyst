{
 "cells": [
  {
   "cell_type": "markdown",
   "id": "350562b6",
   "metadata": {
    "toc": true
   },
   "source": [
    "<h1>Содержание<span class=\"tocSkip\"></span></h1>\n",
    "<div class=\"toc\"><ul class=\"toc-item\"><li><span><a href=\"#Цели-и-описание\" data-toc-modified-id=\"Цели-и-описание-1\"><span class=\"toc-item-num\">1&nbsp;&nbsp;</span>Цели и описание</a></span><ul class=\"toc-item\"><li><span><a href=\"#Обзор-общей-информации-о-данных\" data-toc-modified-id=\"Обзор-общей-информации-о-данных-1.1\"><span class=\"toc-item-num\">1.1&nbsp;&nbsp;</span>Обзор общей информации о данных</a></span></li></ul></li><li><span><a href=\"#Предобработка-данных\" data-toc-modified-id=\"Предобработка-данных-2\"><span class=\"toc-item-num\">2&nbsp;&nbsp;</span>Предобработка данных</a></span><ul class=\"toc-item\"><li><span><a href=\"#Устранение-пропущенных-значений\" data-toc-modified-id=\"Устранение-пропущенных-значений-2.1\"><span class=\"toc-item-num\">2.1&nbsp;&nbsp;</span>Устранение пропущенных значений</a></span></li><li><span><a href=\"#Заполнение-пропусков-в-столбце-total_income\" data-toc-modified-id=\"Заполнение-пропусков-в-столбце-total_income-2.2\"><span class=\"toc-item-num\">2.2&nbsp;&nbsp;</span>Заполнение пропусков в столбце <code>total_income</code></a></span></li><li><span><a href=\"#Заполнение-пропусков-в-столбце-days_employed\" data-toc-modified-id=\"Заполнение-пропусков-в-столбце-days_employed-2.3\"><span class=\"toc-item-num\">2.3&nbsp;&nbsp;</span>Заполнение пропусков в столбце <code>days_employed</code></a></span></li><li><span><a href=\"#Обработка-дубликатов\" data-toc-modified-id=\"Обработка-дубликатов-2.4\"><span class=\"toc-item-num\">2.4&nbsp;&nbsp;</span>Обработка дубликатов</a></span></li><li><span><a href=\"#Категоризация\" data-toc-modified-id=\"Категоризация-2.5\"><span class=\"toc-item-num\">2.5&nbsp;&nbsp;</span>Категоризация</a></span></li></ul></li><li><span><a href=\"#Проверка-гипотез\" data-toc-modified-id=\"Проверка-гипотез-3\"><span class=\"toc-item-num\">3&nbsp;&nbsp;</span>Проверка гипотез</a></span><ul class=\"toc-item\"><li><span><a href=\"#Зависимость-между-количеством-детей-в-семье-и-возвратом-кредита-в-срок\" data-toc-modified-id=\"Зависимость-между-количеством-детей-в-семье-и-возвратом-кредита-в-срок-3.1\"><span class=\"toc-item-num\">3.1&nbsp;&nbsp;</span>Зависимость между количеством детей в семье и возвратом кредита в срок</a></span></li><li><span><a href=\"#Зависимость-между-семейным-положением-и-возвратом-кредита-в-срок\" data-toc-modified-id=\"Зависимость-между-семейным-положением-и-возвратом-кредита-в-срок-3.2\"><span class=\"toc-item-num\">3.2&nbsp;&nbsp;</span>Зависимость между семейным положением и возвратом кредита в срок</a></span></li><li><span><a href=\"#Зависимость-между-уровнем-дохода-и-возвратом-кредита-в-срок\" data-toc-modified-id=\"Зависимость-между-уровнем-дохода-и-возвратом-кредита-в-срок-3.3\"><span class=\"toc-item-num\">3.3&nbsp;&nbsp;</span>Зависимость между уровнем дохода и возвратом кредита в срок</a></span></li><li><span><a href=\"#Влияние-разных-целей-кредита-на-его-возврат-в-срок\" data-toc-modified-id=\"Влияние-разных-целей-кредита-на-его-возврат-в-срок-3.4\"><span class=\"toc-item-num\">3.4&nbsp;&nbsp;</span>Влияние разных целей кредита на его возврат в срок</a></span></li></ul></li><li><span><a href=\"#Итоги\" data-toc-modified-id=\"Итоги-4\"><span class=\"toc-item-num\">4&nbsp;&nbsp;</span>Итоги</a></span></li></ul></div>"
   ]
  },
  {
   "cell_type": "markdown",
   "id": "f99ef575",
   "metadata": {},
   "source": [
    "# Исследование надежности заемщиков"
   ]
  },
  {
   "cell_type": "markdown",
   "id": "555975a7",
   "metadata": {},
   "source": [
    "## Цели и описание"
   ]
  },
  {
   "cell_type": "markdown",
   "id": "7bed5812",
   "metadata": {},
   "source": [
    "Заказчик — кредитный отдел банка. Нужно разобраться, влияет ли семейное положение и количество детей клиента на факт погашения кредита в срок. Входные данные от банка — статистика о платёжеспособности клиентов.\n",
    "Результаты исследования будут учтены при построении модели кредитного скоринга — специальной системы, которая оценивает способность потенциального заёмщика вернуть кредит банку.\n",
    "\n",
    "Цели исследования - ответить на следующие вопросы:\n",
    "\n",
    "- Есть ли зависимость между количеством детей и возвратом кредита в срок?\n",
    "- Есть ли зависимость между семейным положением и возвратом кредита в срок?\n",
    "- Есть ли зависимость между уровнем дохода и возвратом кредита в срок?\n",
    "- Как разные цели кредита влияют на его возврат в срок?\n",
    "\n",
    "Для того, чтобы правильно ответить на эти вопросы, перед проверкой необходимо получить данные о заемщиках и очистить их от ошибок и аномалий."
   ]
  },
  {
   "cell_type": "markdown",
   "id": "2ef500cb",
   "metadata": {},
   "source": [
    "### Обзор общей информации о данных"
   ]
  },
  {
   "cell_type": "markdown",
   "id": "3d534ce1",
   "metadata": {},
   "source": [
    "В этом разделе получим общую информацию о датафрейме и тех данных, которые в нем содержатся с помощью метода info. Определим, есть ли в данных пропущенные значения."
   ]
  },
  {
   "cell_type": "markdown",
   "id": "6cfa5654",
   "metadata": {},
   "source": [
    "Импорт библиотек:"
   ]
  },
  {
   "cell_type": "code",
   "execution_count": 63,
   "id": "96514170",
   "metadata": {},
   "outputs": [],
   "source": [
    "import pandas as pd\n",
    "from IPython.display import display\n",
    "import os\n",
    "import matplotlib.pyplot as plt"
   ]
  },
  {
   "cell_type": "markdown",
   "id": "924c2917",
   "metadata": {},
   "source": [
    "Распакуем файл с данными. Укажем два пути для открытия файла локально и с сервера:"
   ]
  },
  {
   "cell_type": "code",
   "execution_count": 64,
   "id": "0172830d",
   "metadata": {},
   "outputs": [
    {
     "name": "stdout",
     "output_type": "stream",
     "text": [
      "<class 'pandas.core.frame.DataFrame'>\n",
      "RangeIndex: 21525 entries, 0 to 21524\n",
      "Data columns (total 12 columns):\n",
      " #   Column            Non-Null Count  Dtype  \n",
      "---  ------            --------------  -----  \n",
      " 0   children          21525 non-null  int64  \n",
      " 1   days_employed     19351 non-null  float64\n",
      " 2   dob_years         21525 non-null  int64  \n",
      " 3   education         21525 non-null  object \n",
      " 4   education_id      21525 non-null  int64  \n",
      " 5   family_status     21525 non-null  object \n",
      " 6   family_status_id  21525 non-null  int64  \n",
      " 7   gender            21525 non-null  object \n",
      " 8   income_type       21525 non-null  object \n",
      " 9   debt              21525 non-null  int64  \n",
      " 10  total_income      19351 non-null  float64\n",
      " 11  purpose           21525 non-null  object \n",
      "dtypes: float64(2), int64(5), object(5)\n",
      "memory usage: 2.0+ MB\n"
     ]
    }
   ],
   "source": [
    "pth1 = r'C:\\Users\\HP\\Desktop\\Yandex Analytics\\Projects\\Project_2_investigation_of_borrowers_reliability\\data.csv'\n",
    "pth2 = '/datasets/data.csv'\n",
    "\n",
    "if os.path.exists(pth1):\n",
    "    df = pd.read_csv(pth1)\n",
    "elif os.path.exists(pth2):\n",
    "    df = pd.read_csv(pth2)\n",
    "else:\n",
    "    print('Something is wrong')\n",
    "\n",
    "df.info()"
   ]
  },
  {
   "cell_type": "markdown",
   "id": "aedff65d",
   "metadata": {},
   "source": [
    "В двух столбцах обнаружились пропущенные значения; это стобцы `days_employed` и `total_income`. Выведем на экран датасет для понимания, что за данные указаны в этих столбцах."
   ]
  },
  {
   "cell_type": "code",
   "execution_count": 65,
   "id": "04c344cb",
   "metadata": {},
   "outputs": [
    {
     "data": {
      "text/html": [
       "<div>\n",
       "<style scoped>\n",
       "    .dataframe tbody tr th:only-of-type {\n",
       "        vertical-align: middle;\n",
       "    }\n",
       "\n",
       "    .dataframe tbody tr th {\n",
       "        vertical-align: top;\n",
       "    }\n",
       "\n",
       "    .dataframe thead th {\n",
       "        text-align: right;\n",
       "    }\n",
       "</style>\n",
       "<table border=\"1\" class=\"dataframe\">\n",
       "  <thead>\n",
       "    <tr style=\"text-align: right;\">\n",
       "      <th></th>\n",
       "      <th>children</th>\n",
       "      <th>days_employed</th>\n",
       "      <th>dob_years</th>\n",
       "      <th>education</th>\n",
       "      <th>education_id</th>\n",
       "      <th>family_status</th>\n",
       "      <th>family_status_id</th>\n",
       "      <th>gender</th>\n",
       "      <th>income_type</th>\n",
       "      <th>debt</th>\n",
       "      <th>total_income</th>\n",
       "      <th>purpose</th>\n",
       "    </tr>\n",
       "  </thead>\n",
       "  <tbody>\n",
       "    <tr>\n",
       "      <th>0</th>\n",
       "      <td>1</td>\n",
       "      <td>-8437.673028</td>\n",
       "      <td>42</td>\n",
       "      <td>высшее</td>\n",
       "      <td>0</td>\n",
       "      <td>женат / замужем</td>\n",
       "      <td>0</td>\n",
       "      <td>F</td>\n",
       "      <td>сотрудник</td>\n",
       "      <td>0</td>\n",
       "      <td>253875.639453</td>\n",
       "      <td>покупка жилья</td>\n",
       "    </tr>\n",
       "    <tr>\n",
       "      <th>1</th>\n",
       "      <td>1</td>\n",
       "      <td>-4024.803754</td>\n",
       "      <td>36</td>\n",
       "      <td>среднее</td>\n",
       "      <td>1</td>\n",
       "      <td>женат / замужем</td>\n",
       "      <td>0</td>\n",
       "      <td>F</td>\n",
       "      <td>сотрудник</td>\n",
       "      <td>0</td>\n",
       "      <td>112080.014102</td>\n",
       "      <td>приобретение автомобиля</td>\n",
       "    </tr>\n",
       "    <tr>\n",
       "      <th>2</th>\n",
       "      <td>0</td>\n",
       "      <td>-5623.422610</td>\n",
       "      <td>33</td>\n",
       "      <td>Среднее</td>\n",
       "      <td>1</td>\n",
       "      <td>женат / замужем</td>\n",
       "      <td>0</td>\n",
       "      <td>M</td>\n",
       "      <td>сотрудник</td>\n",
       "      <td>0</td>\n",
       "      <td>145885.952297</td>\n",
       "      <td>покупка жилья</td>\n",
       "    </tr>\n",
       "    <tr>\n",
       "      <th>3</th>\n",
       "      <td>3</td>\n",
       "      <td>-4124.747207</td>\n",
       "      <td>32</td>\n",
       "      <td>среднее</td>\n",
       "      <td>1</td>\n",
       "      <td>женат / замужем</td>\n",
       "      <td>0</td>\n",
       "      <td>M</td>\n",
       "      <td>сотрудник</td>\n",
       "      <td>0</td>\n",
       "      <td>267628.550329</td>\n",
       "      <td>дополнительное образование</td>\n",
       "    </tr>\n",
       "    <tr>\n",
       "      <th>4</th>\n",
       "      <td>0</td>\n",
       "      <td>340266.072047</td>\n",
       "      <td>53</td>\n",
       "      <td>среднее</td>\n",
       "      <td>1</td>\n",
       "      <td>гражданский брак</td>\n",
       "      <td>1</td>\n",
       "      <td>F</td>\n",
       "      <td>пенсионер</td>\n",
       "      <td>0</td>\n",
       "      <td>158616.077870</td>\n",
       "      <td>сыграть свадьбу</td>\n",
       "    </tr>\n",
       "    <tr>\n",
       "      <th>5</th>\n",
       "      <td>0</td>\n",
       "      <td>-926.185831</td>\n",
       "      <td>27</td>\n",
       "      <td>высшее</td>\n",
       "      <td>0</td>\n",
       "      <td>гражданский брак</td>\n",
       "      <td>1</td>\n",
       "      <td>M</td>\n",
       "      <td>компаньон</td>\n",
       "      <td>0</td>\n",
       "      <td>255763.565419</td>\n",
       "      <td>покупка жилья</td>\n",
       "    </tr>\n",
       "    <tr>\n",
       "      <th>6</th>\n",
       "      <td>0</td>\n",
       "      <td>-2879.202052</td>\n",
       "      <td>43</td>\n",
       "      <td>высшее</td>\n",
       "      <td>0</td>\n",
       "      <td>женат / замужем</td>\n",
       "      <td>0</td>\n",
       "      <td>F</td>\n",
       "      <td>компаньон</td>\n",
       "      <td>0</td>\n",
       "      <td>240525.971920</td>\n",
       "      <td>операции с жильем</td>\n",
       "    </tr>\n",
       "    <tr>\n",
       "      <th>7</th>\n",
       "      <td>0</td>\n",
       "      <td>-152.779569</td>\n",
       "      <td>50</td>\n",
       "      <td>СРЕДНЕЕ</td>\n",
       "      <td>1</td>\n",
       "      <td>женат / замужем</td>\n",
       "      <td>0</td>\n",
       "      <td>M</td>\n",
       "      <td>сотрудник</td>\n",
       "      <td>0</td>\n",
       "      <td>135823.934197</td>\n",
       "      <td>образование</td>\n",
       "    </tr>\n",
       "    <tr>\n",
       "      <th>8</th>\n",
       "      <td>2</td>\n",
       "      <td>-6929.865299</td>\n",
       "      <td>35</td>\n",
       "      <td>ВЫСШЕЕ</td>\n",
       "      <td>0</td>\n",
       "      <td>гражданский брак</td>\n",
       "      <td>1</td>\n",
       "      <td>F</td>\n",
       "      <td>сотрудник</td>\n",
       "      <td>0</td>\n",
       "      <td>95856.832424</td>\n",
       "      <td>на проведение свадьбы</td>\n",
       "    </tr>\n",
       "    <tr>\n",
       "      <th>9</th>\n",
       "      <td>0</td>\n",
       "      <td>-2188.756445</td>\n",
       "      <td>41</td>\n",
       "      <td>среднее</td>\n",
       "      <td>1</td>\n",
       "      <td>женат / замужем</td>\n",
       "      <td>0</td>\n",
       "      <td>M</td>\n",
       "      <td>сотрудник</td>\n",
       "      <td>0</td>\n",
       "      <td>144425.938277</td>\n",
       "      <td>покупка жилья для семьи</td>\n",
       "    </tr>\n",
       "    <tr>\n",
       "      <th>10</th>\n",
       "      <td>2</td>\n",
       "      <td>-4171.483647</td>\n",
       "      <td>36</td>\n",
       "      <td>высшее</td>\n",
       "      <td>0</td>\n",
       "      <td>женат / замужем</td>\n",
       "      <td>0</td>\n",
       "      <td>M</td>\n",
       "      <td>компаньон</td>\n",
       "      <td>0</td>\n",
       "      <td>113943.491460</td>\n",
       "      <td>покупка недвижимости</td>\n",
       "    </tr>\n",
       "    <tr>\n",
       "      <th>11</th>\n",
       "      <td>0</td>\n",
       "      <td>-792.701887</td>\n",
       "      <td>40</td>\n",
       "      <td>среднее</td>\n",
       "      <td>1</td>\n",
       "      <td>женат / замужем</td>\n",
       "      <td>0</td>\n",
       "      <td>F</td>\n",
       "      <td>сотрудник</td>\n",
       "      <td>0</td>\n",
       "      <td>77069.234271</td>\n",
       "      <td>покупка коммерческой недвижимости</td>\n",
       "    </tr>\n",
       "    <tr>\n",
       "      <th>12</th>\n",
       "      <td>0</td>\n",
       "      <td>NaN</td>\n",
       "      <td>65</td>\n",
       "      <td>среднее</td>\n",
       "      <td>1</td>\n",
       "      <td>гражданский брак</td>\n",
       "      <td>1</td>\n",
       "      <td>M</td>\n",
       "      <td>пенсионер</td>\n",
       "      <td>0</td>\n",
       "      <td>NaN</td>\n",
       "      <td>сыграть свадьбу</td>\n",
       "    </tr>\n",
       "    <tr>\n",
       "      <th>13</th>\n",
       "      <td>0</td>\n",
       "      <td>-1846.641941</td>\n",
       "      <td>54</td>\n",
       "      <td>неоконченное высшее</td>\n",
       "      <td>2</td>\n",
       "      <td>женат / замужем</td>\n",
       "      <td>0</td>\n",
       "      <td>F</td>\n",
       "      <td>сотрудник</td>\n",
       "      <td>0</td>\n",
       "      <td>130458.228857</td>\n",
       "      <td>приобретение автомобиля</td>\n",
       "    </tr>\n",
       "    <tr>\n",
       "      <th>14</th>\n",
       "      <td>0</td>\n",
       "      <td>-1844.956182</td>\n",
       "      <td>56</td>\n",
       "      <td>высшее</td>\n",
       "      <td>0</td>\n",
       "      <td>гражданский брак</td>\n",
       "      <td>1</td>\n",
       "      <td>F</td>\n",
       "      <td>компаньон</td>\n",
       "      <td>1</td>\n",
       "      <td>165127.911772</td>\n",
       "      <td>покупка жилой недвижимости</td>\n",
       "    </tr>\n",
       "  </tbody>\n",
       "</table>\n",
       "</div>"
      ],
      "text/plain": [
       "    children  days_employed  dob_years            education  education_id  \\\n",
       "0          1   -8437.673028         42               высшее             0   \n",
       "1          1   -4024.803754         36              среднее             1   \n",
       "2          0   -5623.422610         33              Среднее             1   \n",
       "3          3   -4124.747207         32              среднее             1   \n",
       "4          0  340266.072047         53              среднее             1   \n",
       "5          0    -926.185831         27               высшее             0   \n",
       "6          0   -2879.202052         43               высшее             0   \n",
       "7          0    -152.779569         50              СРЕДНЕЕ             1   \n",
       "8          2   -6929.865299         35               ВЫСШЕЕ             0   \n",
       "9          0   -2188.756445         41              среднее             1   \n",
       "10         2   -4171.483647         36               высшее             0   \n",
       "11         0    -792.701887         40              среднее             1   \n",
       "12         0            NaN         65              среднее             1   \n",
       "13         0   -1846.641941         54  неоконченное высшее             2   \n",
       "14         0   -1844.956182         56               высшее             0   \n",
       "\n",
       "       family_status  family_status_id gender income_type  debt  \\\n",
       "0    женат / замужем                 0      F   сотрудник     0   \n",
       "1    женат / замужем                 0      F   сотрудник     0   \n",
       "2    женат / замужем                 0      M   сотрудник     0   \n",
       "3    женат / замужем                 0      M   сотрудник     0   \n",
       "4   гражданский брак                 1      F   пенсионер     0   \n",
       "5   гражданский брак                 1      M   компаньон     0   \n",
       "6    женат / замужем                 0      F   компаньон     0   \n",
       "7    женат / замужем                 0      M   сотрудник     0   \n",
       "8   гражданский брак                 1      F   сотрудник     0   \n",
       "9    женат / замужем                 0      M   сотрудник     0   \n",
       "10   женат / замужем                 0      M   компаньон     0   \n",
       "11   женат / замужем                 0      F   сотрудник     0   \n",
       "12  гражданский брак                 1      M   пенсионер     0   \n",
       "13   женат / замужем                 0      F   сотрудник     0   \n",
       "14  гражданский брак                 1      F   компаньон     1   \n",
       "\n",
       "     total_income                            purpose  \n",
       "0   253875.639453                      покупка жилья  \n",
       "1   112080.014102            приобретение автомобиля  \n",
       "2   145885.952297                      покупка жилья  \n",
       "3   267628.550329         дополнительное образование  \n",
       "4   158616.077870                    сыграть свадьбу  \n",
       "5   255763.565419                      покупка жилья  \n",
       "6   240525.971920                  операции с жильем  \n",
       "7   135823.934197                        образование  \n",
       "8    95856.832424              на проведение свадьбы  \n",
       "9   144425.938277            покупка жилья для семьи  \n",
       "10  113943.491460               покупка недвижимости  \n",
       "11   77069.234271  покупка коммерческой недвижимости  \n",
       "12            NaN                    сыграть свадьбу  \n",
       "13  130458.228857            приобретение автомобиля  \n",
       "14  165127.911772         покупка жилой недвижимости  "
      ]
     },
     "metadata": {},
     "output_type": "display_data"
    }
   ],
   "source": [
    "# выведем на экран первые 15 строк датасета для оценки\n",
    "display(df.head(15))"
   ]
  },
  {
   "cell_type": "markdown",
   "id": "87912847",
   "metadata": {},
   "source": [
    "На этом этапе видим, что пропущенные значения относятся к типу NaN, то есть на их месте должны стоять количественные значения. Помимо пропусков данных в таблице есть и другие проблемы:\n",
    "\n",
    "- много отрицательных значений в столбце `days_employed` (дни трудового стажа);\n",
    "- есть \"выбросы\": некоторые значения в столбце `days_employed` при переводе в годы дают нереалистичные значения (например: 340266 дней - 932 года);\n",
    "- в столбце `education` категории написаны в разном регистре, возможно, это неявные дубликаты;\n",
    "- данные в столбцах `days_employed` и `total_income` представлены как вещественные числа float, их сложно обрабатывать, лучше привести к целочисленному типу;\n",
    "\n",
    "Разберемся с этим в следующем разделе."
   ]
  },
  {
   "cell_type": "markdown",
   "id": "6157bb27",
   "metadata": {},
   "source": [
    "## Предобработка данных"
   ]
  },
  {
   "cell_type": "markdown",
   "id": "eca5edca",
   "metadata": {},
   "source": [
    "### Устранение пропущенных значений"
   ]
  },
  {
   "cell_type": "markdown",
   "id": "a5154346",
   "metadata": {},
   "source": [
    "Избавимся от пропущенных значений, чтобы они не мешали производить все остальные вычисления. Для начала определим, какую долю составляют строки с NaN от всего датасета:"
   ]
  },
  {
   "cell_type": "code",
   "execution_count": 66,
   "id": "f355dfb7",
   "metadata": {},
   "outputs": [
    {
     "name": "stdout",
     "output_type": "stream",
     "text": [
      "Количество строк с пропусками: 2174\n"
     ]
    }
   ],
   "source": [
    "# применим метод isna() для подсчета пропусков в столбце total_income\n",
    "print(f'Количество строк с пропусками:',df['total_income'].isna().sum())"
   ]
  },
  {
   "cell_type": "markdown",
   "id": "a3df3404",
   "metadata": {},
   "source": [
    "Общее количество строк с NaN составляет 2174 на датасет из 21525 строк, что чуть больше 10% от всего массива. Посчитаем, чтобы убедиться - найдем долю строк с пропусками, разделив их количество на общее количество строк:"
   ]
  },
  {
   "cell_type": "code",
   "execution_count": 67,
   "id": "06c175df",
   "metadata": {},
   "outputs": [
    {
     "name": "stdout",
     "output_type": "stream",
     "text": [
      "Доля строк с пропусками в таблице: 10.1%\n"
     ]
    }
   ],
   "source": [
    "part_na = len(df[df['total_income'].isna()]) / len(df['total_income'])\n",
    "print(f'Доля строк с пропусками в таблице: {part_na:.1%}')"
   ]
  },
  {
   "cell_type": "markdown",
   "id": "fba49970",
   "metadata": {},
   "source": [
    "Количество пропущенных значений значительное. Если просто удалить эти строки, потеряем данные и в других столбцах, которые могут быть полезны при дальнейшей группировке. К тому же, удаление десятой части датасета скажется на дальнейших вычислениях и исказит результаты, поэтому заполним пропуски близкими по смыслу значениями.\n",
    "Все пропущенные значения имеют тип NaN, т.е. на их месте должны быть числовые значения, поэтому имеет смысл заполнить пропуски медианным значением."
   ]
  },
  {
   "cell_type": "markdown",
   "id": "c0e9ed89",
   "metadata": {},
   "source": [
    "### Заполнение пропусков в столбце `total_income`"
   ]
  },
  {
   "cell_type": "markdown",
   "id": "f4a04f32",
   "metadata": {},
   "source": [
    "Если считать медиану по всему столбцу, то разброс значений все равно может быть довольно большим, и это исказит результаты. Для того, чтобы этого избежать, посчитаем медианное значение по каждому типу доходов. Проверим, так ли это.  \n",
    "Выведем список уникальных значений из столбца `income_type` и определим общее количество заемщиков в каждой группе:"
   ]
  },
  {
   "cell_type": "code",
   "execution_count": 68,
   "id": "1d711ade",
   "metadata": {},
   "outputs": [
    {
     "data": {
      "text/plain": [
       "сотрудник          11119\n",
       "компаньон           5085\n",
       "пенсионер           3856\n",
       "госслужащий         1459\n",
       "безработный            2\n",
       "предприниматель        2\n",
       "студент                1\n",
       "в декрете              1\n",
       "Name: income_type, dtype: int64"
      ]
     },
     "execution_count": 68,
     "metadata": {},
     "output_type": "execute_result"
    }
   ],
   "source": [
    "df['income_type'].value_counts()"
   ]
  },
  {
   "cell_type": "markdown",
   "id": "1f7fbf17",
   "metadata": {},
   "source": [
    "Теперь видно, что самая многочисленная группа - сотрудник. Вероятно, в эту группу входят люди, работающие на линейных позициях, со средними доходами, в отличие, например, от совладельцев бизнеса (компаньоны). Несмотря на общий признак по типу доходов, доходы внутри каждой из групп также могут быть абсолютно разными.  \n",
    "Посчитаем медианное значение для каждой из групп. Для сравнения также рассчитаем среднее и соберем это в сводной таблице."
   ]
  },
  {
   "cell_type": "markdown",
   "id": "24217321",
   "metadata": {},
   "source": [
    "Выберем в качестве строк группу доходов, в качестве значений - общий доход, и рассчитаем медиану и среднее для каждой группы"
   ]
  },
  {
   "cell_type": "code",
   "execution_count": 69,
   "id": "73012022",
   "metadata": {},
   "outputs": [
    {
     "data": {
      "text/html": [
       "<div>\n",
       "<style scoped>\n",
       "    .dataframe tbody tr th:only-of-type {\n",
       "        vertical-align: middle;\n",
       "    }\n",
       "\n",
       "    .dataframe tbody tr th {\n",
       "        vertical-align: top;\n",
       "    }\n",
       "\n",
       "    .dataframe thead tr th {\n",
       "        text-align: left;\n",
       "    }\n",
       "</style>\n",
       "<table border=\"1\" class=\"dataframe\">\n",
       "  <thead>\n",
       "    <tr>\n",
       "      <th></th>\n",
       "      <th>income_type</th>\n",
       "      <th>median</th>\n",
       "      <th>mean</th>\n",
       "    </tr>\n",
       "    <tr>\n",
       "      <th></th>\n",
       "      <th></th>\n",
       "      <th>total_income</th>\n",
       "      <th>total_income</th>\n",
       "    </tr>\n",
       "  </thead>\n",
       "  <tbody>\n",
       "    <tr>\n",
       "      <th>0</th>\n",
       "      <td>безработный</td>\n",
       "      <td>131339.751676</td>\n",
       "      <td>131339.751676</td>\n",
       "    </tr>\n",
       "    <tr>\n",
       "      <th>1</th>\n",
       "      <td>в декрете</td>\n",
       "      <td>53829.130729</td>\n",
       "      <td>53829.130729</td>\n",
       "    </tr>\n",
       "    <tr>\n",
       "      <th>2</th>\n",
       "      <td>госслужащий</td>\n",
       "      <td>150447.935283</td>\n",
       "      <td>170898.309923</td>\n",
       "    </tr>\n",
       "    <tr>\n",
       "      <th>3</th>\n",
       "      <td>компаньон</td>\n",
       "      <td>172357.950966</td>\n",
       "      <td>202417.461462</td>\n",
       "    </tr>\n",
       "    <tr>\n",
       "      <th>4</th>\n",
       "      <td>пенсионер</td>\n",
       "      <td>118514.486412</td>\n",
       "      <td>137127.465690</td>\n",
       "    </tr>\n",
       "    <tr>\n",
       "      <th>5</th>\n",
       "      <td>предприниматель</td>\n",
       "      <td>499163.144947</td>\n",
       "      <td>499163.144947</td>\n",
       "    </tr>\n",
       "    <tr>\n",
       "      <th>6</th>\n",
       "      <td>сотрудник</td>\n",
       "      <td>142594.396847</td>\n",
       "      <td>161380.260488</td>\n",
       "    </tr>\n",
       "    <tr>\n",
       "      <th>7</th>\n",
       "      <td>студент</td>\n",
       "      <td>98201.625314</td>\n",
       "      <td>98201.625314</td>\n",
       "    </tr>\n",
       "  </tbody>\n",
       "</table>\n",
       "</div>"
      ],
      "text/plain": [
       "       income_type         median           mean\n",
       "                     total_income   total_income\n",
       "0      безработный  131339.751676  131339.751676\n",
       "1        в декрете   53829.130729   53829.130729\n",
       "2      госслужащий  150447.935283  170898.309923\n",
       "3        компаньон  172357.950966  202417.461462\n",
       "4        пенсионер  118514.486412  137127.465690\n",
       "5  предприниматель  499163.144947  499163.144947\n",
       "6        сотрудник  142594.396847  161380.260488\n",
       "7          студент   98201.625314   98201.625314"
      ]
     },
     "execution_count": 69,
     "metadata": {},
     "output_type": "execute_result"
    }
   ],
   "source": [
    "df.pivot_table(index='income_type', values='total_income', aggfunc=['median','mean']).reset_index()"
   ]
  },
  {
   "cell_type": "markdown",
   "id": "aa1dfc0a",
   "metadata": {},
   "source": [
    "Значения медианы и среднего не отличаются по группам \"студент\", \"предприниматель\", \"безработный\" и \"в декрете\", что логично, поскольку эти группы состоят из 1-2 человек.  \n",
    "Значения среднего в самых многочисленных группах \"сотрудник\", \"компаньон\", \"госслужащий\" и \"пенсионер\" выше, чем медианные, что делает медиану более предпочтительной. При этом разница медианных значений между группами велика, и это подтверждает целесообразность заполнения пропусков медианой по группам, а не по всему столбцу.  \n",
    "Так и поступим: заполним пропуски в столбце `total_income` медианными значениями по каждой из групп. Для этого можно воспользоваться лямбда-функцией, применив ее к сгруппированным значениям."
   ]
  },
  {
   "cell_type": "code",
   "execution_count": 70,
   "id": "b04de4f1",
   "metadata": {},
   "outputs": [],
   "source": [
    "# сгруппируем заемщиков по типу доходов\n",
    "income_type_grouped = df.groupby('income_type')\n",
    "# для каждой группы используем метод fillna в столбце total_income, а в качестве аргумента передадим ему медиану\n",
    "df['total_income'] = income_type_grouped.total_income.apply(lambda x: x.fillna(x.median()))"
   ]
  },
  {
   "cell_type": "markdown",
   "id": "8d543a1b",
   "metadata": {},
   "source": [
    "Проверим, что в столбце `total_income` не осталось пропусков и перейдем к обработке столбца `days_employed`. "
   ]
  },
  {
   "cell_type": "code",
   "execution_count": 71,
   "id": "4ef47f2c",
   "metadata": {},
   "outputs": [
    {
     "data": {
      "text/plain": [
       "0"
      ]
     },
     "execution_count": 71,
     "metadata": {},
     "output_type": "execute_result"
    }
   ],
   "source": [
    "df['total_income'].isna().sum()"
   ]
  },
  {
   "cell_type": "markdown",
   "id": "60f795f7",
   "metadata": {},
   "source": [
    "### Заполнение пропусков в столбце `days_employed`"
   ]
  },
  {
   "cell_type": "markdown",
   "id": "26a4510c",
   "metadata": {},
   "source": [
    "При первоначальном выводе датафрейма в колонке с днями трудового стажа обнаружилось сразу несколько проблем:  \n",
    "- пропуски значений,\n",
    "- отрицательные значения,\n",
    "- выбросы данных.  \n",
    "\n",
    "Данные в этом столбце также относятся к количественному типу, а значит, заполнять их будем также расчетными значениями. Перед заполнением пропусков нужно избавиться от остальных аномалий, чтобы получить корректный результат.  \n",
    "Для начала определим, сколько вообще строк с отрицательными значениями трудового стажа есть в нашей таблице:"
   ]
  },
  {
   "cell_type": "code",
   "execution_count": 72,
   "id": "ff31c75a",
   "metadata": {},
   "outputs": [
    {
     "data": {
      "text/plain": [
       "15906"
      ]
     },
     "execution_count": 72,
     "metadata": {},
     "output_type": "execute_result"
    }
   ],
   "source": [
    "df.loc[df['days_employed'] < 0]['days_employed'].count()"
   ]
  },
  {
   "cell_type": "markdown",
   "id": "154e28d2",
   "metadata": {},
   "source": [
    "Результат - больше половины строк. Можно предположить, что при выгрузке данных произошел технический сбой, который по какой-то причине сделал числа в столбце `days_employed` отрицательными, но скорее это проблема в расчете значений. Возможно, дни стажа рассчитывались как разница между текущим днем и днем первого приема на работу, и в этом случае можно было перепутать столбцы и  произвести вычитание в обратном порядке - из дня приема на работу вычесть текущий день.  \n",
    "Поскольку нет возможности скорректировать выгрузку, переведем все отрицательные значения в положительные.  \n",
    "Используем условие выше для исправления неправильных значений:"
   ]
  },
  {
   "cell_type": "code",
   "execution_count": 73,
   "id": "cdc935ab",
   "metadata": {},
   "outputs": [],
   "source": [
    "df.loc[df['days_employed'] < 0, 'days_employed'] *= (-1)"
   ]
  },
  {
   "cell_type": "markdown",
   "id": "1394eaf3",
   "metadata": {},
   "source": [
    "Теперь отрицательные значения в столбце `days_employed` заменены на те же самые значения по модулю. Проверим, что в таблице не осталось отрицательных значений, еще раз применив логическую индексацию:"
   ]
  },
  {
   "cell_type": "code",
   "execution_count": 74,
   "id": "29461fad",
   "metadata": {},
   "outputs": [
    {
     "data": {
      "text/plain": [
       "0"
      ]
     },
     "execution_count": 74,
     "metadata": {},
     "output_type": "execute_result"
    }
   ],
   "source": [
    "df.loc[df['days_employed'] < 0]['days_employed'].count()"
   ]
  },
  {
   "cell_type": "markdown",
   "id": "cca784f8",
   "metadata": {},
   "source": [
    "Теперь нужно разобраться с нетипичными значениями - слишком большими или слишком маленькими.   \n",
    "Построим коробчатую диаграмму, чтобы увидеть, в каком диапазоне находятся выбросы:"
   ]
  },
  {
   "cell_type": "code",
   "execution_count": 75,
   "id": "c2959db6",
   "metadata": {},
   "outputs": [
    {
     "data": {
      "image/png": "[encoded data removed]",
      "text/plain": [
       "<Figure size 720x720 with 1 Axes>"
      ]
     },
     "metadata": {
      "needs_background": "light"
     },
     "output_type": "display_data"
    }
   ],
   "source": [
    "# df.boxplot('days_employed', figsize=(10,10))\n",
    "df['days_employed'].plot(kind='box', figsize=(10,10), ylim=(0,20000))\n",
    "plt.show()"
   ]
  },
  {
   "cell_type": "markdown",
   "id": "514f9285",
   "metadata": {},
   "source": [
    "Используем также метод `describe()` для получения полной информации о столбце:"
   ]
  },
  {
   "cell_type": "code",
   "execution_count": 76,
   "id": "d356559e",
   "metadata": {},
   "outputs": [
    {
     "data": {
      "text/plain": [
       "count     19351.000000\n",
       "mean      66914.728907\n",
       "std      139030.880527\n",
       "min          24.141633\n",
       "25%         927.009265\n",
       "50%        2194.220567\n",
       "75%        5537.882441\n",
       "max      401755.400475\n",
       "Name: days_employed, dtype: float64"
      ]
     },
     "execution_count": 76,
     "metadata": {},
     "output_type": "execute_result"
    }
   ],
   "source": [
    "df['days_employed'].describe()"
   ]
  },
  {
   "cell_type": "markdown",
   "id": "c0926378",
   "metadata": {},
   "source": [
    "Из этих данных можем понять, что большая часть значений распределена в диапазоне до 5537 дней, четвертая часть значений - в диапазоне менее 927 дней. При этом видны резкие скачки в максимальных значениях.  \n",
    "Посмотрим, в каких группах по типу доходов находятся выбросы: выведем список уникальных значений из `income_type` и посчитаем количество записей в каждой группе."
   ]
  },
  {
   "cell_type": "code",
   "execution_count": 77,
   "id": "e84e5982",
   "metadata": {},
   "outputs": [
    {
     "data": {
      "text/plain": [
       "пенсионер      3443\n",
       "безработный       2\n",
       "Name: income_type, dtype: int64"
      ]
     },
     "execution_count": 77,
     "metadata": {},
     "output_type": "execute_result"
    }
   ],
   "source": [
    "df.loc[df['days_employed'] > 300000]['income_type'].value_counts()"
   ]
  },
  {
   "cell_type": "markdown",
   "id": "0fee732a",
   "metadata": {},
   "source": [
    "Получили всего две строки: все люди с аномально большими значениями трудового стажа - пенсионеры (и двое безработных).  \n",
    "Можно предположить, что при формировании таблицы не было данных / не было учтено прекращение трудовой деятельности, и стаж продолжил начисляться. Но поскольку цифры совсем не реалистичные, возможен и сбой: был использован формат чисел с плавающей точкой, и по каким-либо причинам изменилась разрядность чисел - точка сместилась ближе к концу или началу числа.  \n",
    "Минимальные значения оставим как есть, потому что есть вероятность, что люди с такими показателями только начинают свою трудовую деятельность.  \n",
    "Заменим значения. Медиану или среднее в данном случае использовать нельзя: вся группа пенсионеров, как мы определили ранее, составляет 3856 человек, и из них почти все имеют аномальные показатели стажа, а значит замена даст примерно то же самое значение.  \n",
    "Воспользуемся официальными источниками: минимальный стаж для выхода на пенсию в России составляет 15 лет, что в пересчете на дни дает 5475. Это значение и будем использовать."
   ]
  },
  {
   "cell_type": "code",
   "execution_count": 78,
   "id": "409ee805",
   "metadata": {},
   "outputs": [
    {
     "data": {
      "text/plain": [
       "count    19351.000000\n",
       "mean      2908.813313\n",
       "std       2406.367205\n",
       "min         24.141633\n",
       "25%        927.009265\n",
       "50%       2194.220567\n",
       "75%       5475.000000\n",
       "max      18388.949901\n",
       "Name: days_employed, dtype: float64"
      ]
     },
     "execution_count": 78,
     "metadata": {},
     "output_type": "execute_result"
    }
   ],
   "source": [
    "df.loc[df['days_employed'] > 300000,'days_employed'] = 5475\n",
    "# Повторно вызовем метод describe() для проверки\n",
    "df['days_employed'].describe()"
   ]
  },
  {
   "cell_type": "markdown",
   "id": "f27059b4",
   "metadata": {},
   "source": [
    "Видим, что показатели в столбце `days_employed` изменились. Оставим героев труда в покое и перейдем к замене пропущенных значений.  \n",
    "Заменим пропуски аналогично тому, как это было сделано с `total_income`, на медианные значения по группам:"
   ]
  },
  {
   "cell_type": "code",
   "execution_count": 79,
   "id": "e2092f96",
   "metadata": {},
   "outputs": [
    {
     "data": {
      "text/plain": [
       "0"
      ]
     },
     "execution_count": 79,
     "metadata": {},
     "output_type": "execute_result"
    }
   ],
   "source": [
    "income_type_grouped = df.groupby('income_type')\n",
    "df['days_employed'] = income_type_grouped.days_employed.apply(lambda x: x.fillna(x.median()))\n",
    "# и проверим, что пропусков в столбце days_employed больше нет\n",
    "df['days_employed'].isna().sum()"
   ]
  },
  {
   "cell_type": "markdown",
   "id": "0d8b7171",
   "metadata": {},
   "source": [
    "Все пропуски данных устранены. Приведем данные в столбцах `days_employed` и `total_income` к целочисленному типу методом `astype()`и выведем на экран первые 5 строк датафрейма."
   ]
  },
  {
   "cell_type": "code",
   "execution_count": 80,
   "id": "2a72a97c",
   "metadata": {},
   "outputs": [
    {
     "data": {
      "text/html": [
       "<div>\n",
       "<style scoped>\n",
       "    .dataframe tbody tr th:only-of-type {\n",
       "        vertical-align: middle;\n",
       "    }\n",
       "\n",
       "    .dataframe tbody tr th {\n",
       "        vertical-align: top;\n",
       "    }\n",
       "\n",
       "    .dataframe thead th {\n",
       "        text-align: right;\n",
       "    }\n",
       "</style>\n",
       "<table border=\"1\" class=\"dataframe\">\n",
       "  <thead>\n",
       "    <tr style=\"text-align: right;\">\n",
       "      <th></th>\n",
       "      <th>children</th>\n",
       "      <th>days_employed</th>\n",
       "      <th>dob_years</th>\n",
       "      <th>education</th>\n",
       "      <th>education_id</th>\n",
       "      <th>family_status</th>\n",
       "      <th>family_status_id</th>\n",
       "      <th>gender</th>\n",
       "      <th>income_type</th>\n",
       "      <th>debt</th>\n",
       "      <th>total_income</th>\n",
       "      <th>purpose</th>\n",
       "    </tr>\n",
       "  </thead>\n",
       "  <tbody>\n",
       "    <tr>\n",
       "      <th>0</th>\n",
       "      <td>1</td>\n",
       "      <td>8437</td>\n",
       "      <td>42</td>\n",
       "      <td>высшее</td>\n",
       "      <td>0</td>\n",
       "      <td>женат / замужем</td>\n",
       "      <td>0</td>\n",
       "      <td>F</td>\n",
       "      <td>сотрудник</td>\n",
       "      <td>0</td>\n",
       "      <td>253875</td>\n",
       "      <td>покупка жилья</td>\n",
       "    </tr>\n",
       "    <tr>\n",
       "      <th>1</th>\n",
       "      <td>1</td>\n",
       "      <td>4024</td>\n",
       "      <td>36</td>\n",
       "      <td>среднее</td>\n",
       "      <td>1</td>\n",
       "      <td>женат / замужем</td>\n",
       "      <td>0</td>\n",
       "      <td>F</td>\n",
       "      <td>сотрудник</td>\n",
       "      <td>0</td>\n",
       "      <td>112080</td>\n",
       "      <td>приобретение автомобиля</td>\n",
       "    </tr>\n",
       "    <tr>\n",
       "      <th>2</th>\n",
       "      <td>0</td>\n",
       "      <td>5623</td>\n",
       "      <td>33</td>\n",
       "      <td>Среднее</td>\n",
       "      <td>1</td>\n",
       "      <td>женат / замужем</td>\n",
       "      <td>0</td>\n",
       "      <td>M</td>\n",
       "      <td>сотрудник</td>\n",
       "      <td>0</td>\n",
       "      <td>145885</td>\n",
       "      <td>покупка жилья</td>\n",
       "    </tr>\n",
       "    <tr>\n",
       "      <th>3</th>\n",
       "      <td>3</td>\n",
       "      <td>4124</td>\n",
       "      <td>32</td>\n",
       "      <td>среднее</td>\n",
       "      <td>1</td>\n",
       "      <td>женат / замужем</td>\n",
       "      <td>0</td>\n",
       "      <td>M</td>\n",
       "      <td>сотрудник</td>\n",
       "      <td>0</td>\n",
       "      <td>267628</td>\n",
       "      <td>дополнительное образование</td>\n",
       "    </tr>\n",
       "    <tr>\n",
       "      <th>4</th>\n",
       "      <td>0</td>\n",
       "      <td>5475</td>\n",
       "      <td>53</td>\n",
       "      <td>среднее</td>\n",
       "      <td>1</td>\n",
       "      <td>гражданский брак</td>\n",
       "      <td>1</td>\n",
       "      <td>F</td>\n",
       "      <td>пенсионер</td>\n",
       "      <td>0</td>\n",
       "      <td>158616</td>\n",
       "      <td>сыграть свадьбу</td>\n",
       "    </tr>\n",
       "  </tbody>\n",
       "</table>\n",
       "</div>"
      ],
      "text/plain": [
       "   children  days_employed  dob_years education  education_id  \\\n",
       "0         1           8437         42    высшее             0   \n",
       "1         1           4024         36   среднее             1   \n",
       "2         0           5623         33   Среднее             1   \n",
       "3         3           4124         32   среднее             1   \n",
       "4         0           5475         53   среднее             1   \n",
       "\n",
       "      family_status  family_status_id gender income_type  debt  total_income  \\\n",
       "0   женат / замужем                 0      F   сотрудник     0        253875   \n",
       "1   женат / замужем                 0      F   сотрудник     0        112080   \n",
       "2   женат / замужем                 0      M   сотрудник     0        145885   \n",
       "3   женат / замужем                 0      M   сотрудник     0        267628   \n",
       "4  гражданский брак                 1      F   пенсионер     0        158616   \n",
       "\n",
       "                      purpose  \n",
       "0               покупка жилья  \n",
       "1     приобретение автомобиля  \n",
       "2               покупка жилья  \n",
       "3  дополнительное образование  \n",
       "4             сыграть свадьбу  "
      ]
     },
     "execution_count": 80,
     "metadata": {},
     "output_type": "execute_result"
    }
   ],
   "source": [
    "df = df.astype({'days_employed':'int', 'total_income':'int'})\n",
    "df.head()"
   ]
  },
  {
   "cell_type": "markdown",
   "id": "9040c631",
   "metadata": {},
   "source": [
    "### Обработка дубликатов"
   ]
  },
  {
   "cell_type": "markdown",
   "id": "1090a2cd",
   "metadata": {},
   "source": [
    "На этапе первичного просмотра уже было видно, что в таблице есть неявные дубликаты в столбце `education`, но не исключено, что есть и явные. Проверим наличие явных дубликатов методом `duplicated` и удалим, если таковые найдутся.  \n",
    "Выведем список уникальных значений из столбца `education`:"
   ]
  },
  {
   "cell_type": "code",
   "execution_count": 81,
   "id": "2b6f699f",
   "metadata": {},
   "outputs": [
    {
     "name": "stdout",
     "output_type": "stream",
     "text": [
      "среднее                13750\n",
      "высшее                  4718\n",
      "СРЕДНЕЕ                  772\n",
      "Среднее                  711\n",
      "неоконченное высшее      668\n",
      "ВЫСШЕЕ                   274\n",
      "Высшее                   268\n",
      "начальное                250\n",
      "Неоконченное высшее       47\n",
      "НЕОКОНЧЕННОЕ ВЫСШЕЕ       29\n",
      "НАЧАЛЬНОЕ                 17\n",
      "Начальное                 15\n",
      "ученая степень             4\n",
      "Ученая степень             1\n",
      "УЧЕНАЯ СТЕПЕНЬ             1\n",
      "Name: education, dtype: int64\n"
     ]
    }
   ],
   "source": [
    "# добавила проверку, потому что при удалении столбца в пункте 2.3 и повторном запуске кода появится ошибка\n",
    "# попытка обращения к несуществующему имени\n",
    "try:\n",
    "    print(df['education'].value_counts())\n",
    "except:\n",
    "    print('Столбец удален. Чтобы увидеть исходное состояние, перезапустите ядро.')"
   ]
  },
  {
   "cell_type": "markdown",
   "id": "a61e5c8d",
   "metadata": {},
   "source": [
    "Приведем все категории к общему виду: запишем все в нижнем регистре и проверим, что получилось:"
   ]
  },
  {
   "cell_type": "code",
   "execution_count": 82,
   "id": "d64153c0",
   "metadata": {},
   "outputs": [
    {
     "name": "stdout",
     "output_type": "stream",
     "text": [
      "среднее                15233\n",
      "высшее                  5260\n",
      "неоконченное высшее      744\n",
      "начальное                282\n",
      "ученая степень             6\n",
      "Name: education, dtype: int64\n"
     ]
    }
   ],
   "source": [
    "try:\n",
    "    df['education'] = df['education'].str.lower()\n",
    "    print(df['education'].value_counts())\n",
    "except:\n",
    "    print('Столбец удален. Чтобы увидеть исходное состояние, перезапустите ядро.')"
   ]
  },
  {
   "cell_type": "code",
   "execution_count": 83,
   "id": "d3f9627a",
   "metadata": {
    "scrolled": true
   },
   "outputs": [
    {
     "data": {
      "text/plain": [
       "71"
      ]
     },
     "execution_count": 83,
     "metadata": {},
     "output_type": "execute_result"
    }
   ],
   "source": [
    "df.duplicated().sum()"
   ]
  },
  {
   "cell_type": "markdown",
   "id": "40abc582",
   "metadata": {},
   "source": [
    "Удалим явные дубликаты:"
   ]
  },
  {
   "cell_type": "code",
   "execution_count": 84,
   "id": "70b0cc93",
   "metadata": {},
   "outputs": [
    {
     "data": {
      "text/plain": [
       "(21454, 12)"
      ]
     },
     "execution_count": 84,
     "metadata": {},
     "output_type": "execute_result"
    }
   ],
   "source": [
    "df = df.drop_duplicates()\n",
    "# проверим успешность\n",
    "df.shape"
   ]
  },
  {
   "cell_type": "markdown",
   "id": "af484bc6",
   "metadata": {},
   "source": [
    "Наличие разного регистра в столбце `education` наводит на подозрения о том, что подобное может быть и в других колонках. Проверим другие столбцы с категориальными значениями: `family_status`, `gender`, `purpose`:"
   ]
  },
  {
   "cell_type": "code",
   "execution_count": 85,
   "id": "4ef387b4",
   "metadata": {},
   "outputs": [
    {
     "name": "stdout",
     "output_type": "stream",
     "text": [
      "женат / замужем          12339\n",
      "гражданский брак          4151\n",
      "Не женат / не замужем     2810\n",
      "в разводе                 1195\n",
      "вдовец / вдова             959\n",
      "Name: family_status, dtype: int64\n"
     ]
    }
   ],
   "source": [
    "try:\n",
    "    print(df['family_status'].value_counts())\n",
    "except:\n",
    "    print('Столбец удален. Чтобы увидеть исходное состояние, перезапустите ядро.')"
   ]
  },
  {
   "cell_type": "markdown",
   "id": "79f542d9",
   "metadata": {},
   "source": [
    "Дублей нет, но один статус записан с большой буквы, приведем его тоже к нижнему регистру просто для красоты"
   ]
  },
  {
   "cell_type": "code",
   "execution_count": 86,
   "id": "99f64052",
   "metadata": {},
   "outputs": [],
   "source": [
    "df['family_status'] = df['family_status'].str.lower()"
   ]
  },
  {
   "cell_type": "code",
   "execution_count": 87,
   "id": "c83399d9",
   "metadata": {},
   "outputs": [
    {
     "data": {
      "text/plain": [
       "F      14174\n",
       "M       7279\n",
       "XNA        1\n",
       "Name: gender, dtype: int64"
      ]
     },
     "execution_count": 87,
     "metadata": {},
     "output_type": "execute_result"
    }
   ],
   "source": [
    "df['gender'].value_counts()"
   ]
  },
  {
   "cell_type": "markdown",
   "id": "b64563a8",
   "metadata": {},
   "source": [
    "Сюрприз: кто-то не указал пол. Других признаков, которые помогли бы определить пол, в таблице нет, и одна строка из 25 тысяч никак не повлияет на расчеты. Удалим ее, чтобы не смущала."
   ]
  },
  {
   "cell_type": "code",
   "execution_count": 88,
   "id": "94245c5a",
   "metadata": {},
   "outputs": [
    {
     "data": {
      "text/plain": [
       "Int64Index([10701], dtype='int64')"
      ]
     },
     "execution_count": 88,
     "metadata": {},
     "output_type": "execute_result"
    }
   ],
   "source": [
    "# получим индекс искомой строки\n",
    "df.loc[df['gender'] == 'XNA'].index"
   ]
  },
  {
   "cell_type": "code",
   "execution_count": 89,
   "id": "1b85cfb7",
   "metadata": {},
   "outputs": [
    {
     "data": {
      "text/plain": [
       "F    14174\n",
       "M     7279\n",
       "Name: gender, dtype: int64"
      ]
     },
     "execution_count": 89,
     "metadata": {},
     "output_type": "execute_result"
    }
   ],
   "source": [
    "try:\n",
    "    df = df.drop(labels=[10701],axis=0).reset_index(drop=True)\n",
    "except:\n",
    "    print('Строка удалена ранее')\n",
    "# проверка\n",
    "df['gender'].value_counts()"
   ]
  },
  {
   "cell_type": "markdown",
   "id": "df84eed1",
   "metadata": {},
   "source": [
    "Беспощадная статистика: женщин в таблице в два раза больше, чем мужчин. Теперь проверим столбец `purpose`, где указана цель кредита."
   ]
  },
  {
   "cell_type": "code",
   "execution_count": 90,
   "id": "c872f15d",
   "metadata": {},
   "outputs": [
    {
     "data": {
      "text/plain": [
       "свадьба                                   791\n",
       "на проведение свадьбы                     768\n",
       "сыграть свадьбу                           765\n",
       "операции с недвижимостью                  675\n",
       "покупка коммерческой недвижимости         661\n",
       "операции с жильем                         652\n",
       "покупка жилья для сдачи                   651\n",
       "операции с коммерческой недвижимостью     650\n",
       "покупка жилья                             646\n",
       "жилье                                     646\n",
       "покупка жилья для семьи                   638\n",
       "строительство собственной недвижимости    635\n",
       "недвижимость                              633\n",
       "операции со своей недвижимостью           627\n",
       "строительство жилой недвижимости          624\n",
       "покупка недвижимости                      620\n",
       "покупка своего жилья                      620\n",
       "строительство недвижимости                619\n",
       "ремонт жилью                              607\n",
       "покупка жилой недвижимости                606\n",
       "на покупку своего автомобиля              505\n",
       "заняться высшим образованием              496\n",
       "автомобиль                                494\n",
       "сделка с подержанным автомобилем          486\n",
       "свой автомобиль                           478\n",
       "на покупку подержанного автомобиля        478\n",
       "автомобили                                478\n",
       "на покупку автомобиля                     471\n",
       "приобретение автомобиля                   461\n",
       "дополнительное образование                460\n",
       "сделка с автомобилем                      455\n",
       "высшее образование                        452\n",
       "образование                               447\n",
       "получение дополнительного образования     446\n",
       "получение образования                     442\n",
       "профильное образование                    436\n",
       "получение высшего образования             426\n",
       "заняться образованием                     408\n",
       "Name: purpose, dtype: int64"
      ]
     },
     "execution_count": 90,
     "metadata": {},
     "output_type": "execute_result"
    }
   ],
   "source": [
    "df['purpose'].value_counts()"
   ]
  },
  {
   "cell_type": "markdown",
   "id": "798d0cb8",
   "metadata": {},
   "source": [
    "По столбцу `purpose` получили длинный список целей, разных по написанию, но одинаковых по смыслу. Для того, чтобы сделать возможной классификацию, присвоим новые категории в зависимости от цели и сделаем это в следующем разделе."
   ]
  },
  {
   "cell_type": "markdown",
   "id": "c13cf3b5",
   "metadata": {},
   "source": [
    "### Категоризация"
   ]
  },
  {
   "cell_type": "markdown",
   "id": "e11d9694",
   "metadata": {},
   "source": [
    "Добавим столбец, в который функция будет возвращать новую категорию в соответствии с заданным условием. На вход будет попадать строка, которая содержится в столбце `purpose`."
   ]
  },
  {
   "cell_type": "code",
   "execution_count": 91,
   "id": "a9725186",
   "metadata": {},
   "outputs": [],
   "source": [
    "def make_purpose_category(string):\n",
    "    '''\n",
    "    Функция для категоризации\n",
    "    \n",
    "    Обрабатывает строки.\n",
    "    Принимает на вход значение и присваивает категорию в зависимости от того, что указано в строке.\n",
    "    Строительство выделено в отдельную категорию, т.к.этот процесс более сложный, долгий и часто более дорогой,\n",
    "    чем покупка жилья\n",
    "    '''\n",
    "    if 'строит' in string:\n",
    "        return 'строительство'\n",
    "    if 'недвиж' in string:\n",
    "        return 'операции с недвижимостью'\n",
    "    if 'жиль' in string:\n",
    "        return 'операции с недвижимостью'\n",
    "    if 'авто' in string:\n",
    "        return 'операции с автомобилем'\n",
    "    if 'образован' in string:\n",
    "        return 'получение образования'\n",
    "    if 'свадьб' in string:\n",
    "        return 'проведение свадьбы'\n",
    "    else:\n",
    "        return 'определите категорию'"
   ]
  },
  {
   "cell_type": "code",
   "execution_count": 92,
   "id": "c773db92",
   "metadata": {
    "scrolled": true
   },
   "outputs": [
    {
     "data": {
      "text/html": [
       "<div>\n",
       "<style scoped>\n",
       "    .dataframe tbody tr th:only-of-type {\n",
       "        vertical-align: middle;\n",
       "    }\n",
       "\n",
       "    .dataframe tbody tr th {\n",
       "        vertical-align: top;\n",
       "    }\n",
       "\n",
       "    .dataframe thead th {\n",
       "        text-align: right;\n",
       "    }\n",
       "</style>\n",
       "<table border=\"1\" class=\"dataframe\">\n",
       "  <thead>\n",
       "    <tr style=\"text-align: right;\">\n",
       "      <th></th>\n",
       "      <th>children</th>\n",
       "      <th>days_employed</th>\n",
       "      <th>dob_years</th>\n",
       "      <th>education</th>\n",
       "      <th>education_id</th>\n",
       "      <th>family_status</th>\n",
       "      <th>family_status_id</th>\n",
       "      <th>gender</th>\n",
       "      <th>income_type</th>\n",
       "      <th>debt</th>\n",
       "      <th>total_income</th>\n",
       "      <th>purpose</th>\n",
       "      <th>purpose_category</th>\n",
       "    </tr>\n",
       "  </thead>\n",
       "  <tbody>\n",
       "    <tr>\n",
       "      <th>0</th>\n",
       "      <td>1</td>\n",
       "      <td>8437</td>\n",
       "      <td>42</td>\n",
       "      <td>высшее</td>\n",
       "      <td>0</td>\n",
       "      <td>женат / замужем</td>\n",
       "      <td>0</td>\n",
       "      <td>F</td>\n",
       "      <td>сотрудник</td>\n",
       "      <td>0</td>\n",
       "      <td>253875</td>\n",
       "      <td>покупка жилья</td>\n",
       "      <td>операции с недвижимостью</td>\n",
       "    </tr>\n",
       "    <tr>\n",
       "      <th>1</th>\n",
       "      <td>1</td>\n",
       "      <td>4024</td>\n",
       "      <td>36</td>\n",
       "      <td>среднее</td>\n",
       "      <td>1</td>\n",
       "      <td>женат / замужем</td>\n",
       "      <td>0</td>\n",
       "      <td>F</td>\n",
       "      <td>сотрудник</td>\n",
       "      <td>0</td>\n",
       "      <td>112080</td>\n",
       "      <td>приобретение автомобиля</td>\n",
       "      <td>операции с автомобилем</td>\n",
       "    </tr>\n",
       "    <tr>\n",
       "      <th>2</th>\n",
       "      <td>0</td>\n",
       "      <td>5623</td>\n",
       "      <td>33</td>\n",
       "      <td>среднее</td>\n",
       "      <td>1</td>\n",
       "      <td>женат / замужем</td>\n",
       "      <td>0</td>\n",
       "      <td>M</td>\n",
       "      <td>сотрудник</td>\n",
       "      <td>0</td>\n",
       "      <td>145885</td>\n",
       "      <td>покупка жилья</td>\n",
       "      <td>операции с недвижимостью</td>\n",
       "    </tr>\n",
       "    <tr>\n",
       "      <th>3</th>\n",
       "      <td>3</td>\n",
       "      <td>4124</td>\n",
       "      <td>32</td>\n",
       "      <td>среднее</td>\n",
       "      <td>1</td>\n",
       "      <td>женат / замужем</td>\n",
       "      <td>0</td>\n",
       "      <td>M</td>\n",
       "      <td>сотрудник</td>\n",
       "      <td>0</td>\n",
       "      <td>267628</td>\n",
       "      <td>дополнительное образование</td>\n",
       "      <td>получение образования</td>\n",
       "    </tr>\n",
       "    <tr>\n",
       "      <th>4</th>\n",
       "      <td>0</td>\n",
       "      <td>5475</td>\n",
       "      <td>53</td>\n",
       "      <td>среднее</td>\n",
       "      <td>1</td>\n",
       "      <td>гражданский брак</td>\n",
       "      <td>1</td>\n",
       "      <td>F</td>\n",
       "      <td>пенсионер</td>\n",
       "      <td>0</td>\n",
       "      <td>158616</td>\n",
       "      <td>сыграть свадьбу</td>\n",
       "      <td>проведение свадьбы</td>\n",
       "    </tr>\n",
       "  </tbody>\n",
       "</table>\n",
       "</div>"
      ],
      "text/plain": [
       "   children  days_employed  dob_years education  education_id  \\\n",
       "0         1           8437         42    высшее             0   \n",
       "1         1           4024         36   среднее             1   \n",
       "2         0           5623         33   среднее             1   \n",
       "3         3           4124         32   среднее             1   \n",
       "4         0           5475         53   среднее             1   \n",
       "\n",
       "      family_status  family_status_id gender income_type  debt  total_income  \\\n",
       "0   женат / замужем                 0      F   сотрудник     0        253875   \n",
       "1   женат / замужем                 0      F   сотрудник     0        112080   \n",
       "2   женат / замужем                 0      M   сотрудник     0        145885   \n",
       "3   женат / замужем                 0      M   сотрудник     0        267628   \n",
       "4  гражданский брак                 1      F   пенсионер     0        158616   \n",
       "\n",
       "                      purpose          purpose_category  \n",
       "0               покупка жилья  операции с недвижимостью  \n",
       "1     приобретение автомобиля    операции с автомобилем  \n",
       "2               покупка жилья  операции с недвижимостью  \n",
       "3  дополнительное образование     получение образования  \n",
       "4             сыграть свадьбу        проведение свадьбы  "
      ]
     },
     "execution_count": 92,
     "metadata": {},
     "output_type": "execute_result"
    }
   ],
   "source": [
    "# применяем функцию к столбцу 'purpose' и создаем новый столбец 'purpose_category'\n",
    "df['purpose_category'] = df['purpose'].apply(make_purpose_category)\n",
    "df.head()"
   ]
  },
  {
   "cell_type": "markdown",
   "id": "e23dac77",
   "metadata": {},
   "source": [
    "Проверим, нет ли значений, для которых категория не определилась: выведем уникальные значения столбца 'purpose_category'"
   ]
  },
  {
   "cell_type": "code",
   "execution_count": 93,
   "id": "2be25c28",
   "metadata": {},
   "outputs": [
    {
     "data": {
      "text/plain": [
       "операции с недвижимостью    8932\n",
       "операции с автомобилем      4306\n",
       "получение образования       4013\n",
       "проведение свадьбы          2324\n",
       "строительство               1878\n",
       "Name: purpose_category, dtype: int64"
      ]
     },
     "execution_count": 93,
     "metadata": {},
     "output_type": "execute_result"
    }
   ],
   "source": [
    "df['purpose_category'].value_counts()"
   ]
  },
  {
   "cell_type": "markdown",
   "id": "5841016c",
   "metadata": {},
   "source": [
    "В исходном датафрейме видно, что столбцы `education` и `family_status` дублируются аналогичными столбцами, в которых указаны соответствующие идентификаторы. Создадим словари для этих значений и удалим лишние колонки из таблицы."
   ]
  },
  {
   "cell_type": "code",
   "execution_count": 94,
   "id": "8c5c34da",
   "metadata": {},
   "outputs": [
    {
     "data": {
      "text/html": [
       "<div>\n",
       "<style scoped>\n",
       "    .dataframe tbody tr th:only-of-type {\n",
       "        vertical-align: middle;\n",
       "    }\n",
       "\n",
       "    .dataframe tbody tr th {\n",
       "        vertical-align: top;\n",
       "    }\n",
       "\n",
       "    .dataframe thead th {\n",
       "        text-align: right;\n",
       "    }\n",
       "</style>\n",
       "<table border=\"1\" class=\"dataframe\">\n",
       "  <thead>\n",
       "    <tr style=\"text-align: right;\">\n",
       "      <th></th>\n",
       "      <th>education</th>\n",
       "      <th>education_id</th>\n",
       "    </tr>\n",
       "  </thead>\n",
       "  <tbody>\n",
       "    <tr>\n",
       "      <th>0</th>\n",
       "      <td>высшее</td>\n",
       "      <td>0</td>\n",
       "    </tr>\n",
       "    <tr>\n",
       "      <th>1</th>\n",
       "      <td>среднее</td>\n",
       "      <td>1</td>\n",
       "    </tr>\n",
       "    <tr>\n",
       "      <th>2</th>\n",
       "      <td>неоконченное высшее</td>\n",
       "      <td>2</td>\n",
       "    </tr>\n",
       "    <tr>\n",
       "      <th>3</th>\n",
       "      <td>начальное</td>\n",
       "      <td>3</td>\n",
       "    </tr>\n",
       "    <tr>\n",
       "      <th>4</th>\n",
       "      <td>ученая степень</td>\n",
       "      <td>4</td>\n",
       "    </tr>\n",
       "  </tbody>\n",
       "</table>\n",
       "</div>"
      ],
      "text/plain": [
       "             education  education_id\n",
       "0               высшее             0\n",
       "1              среднее             1\n",
       "2  неоконченное высшее             2\n",
       "3            начальное             3\n",
       "4       ученая степень             4"
      ]
     },
     "execution_count": 94,
     "metadata": {},
     "output_type": "execute_result"
    }
   ],
   "source": [
    "education_dict = df[['education','education_id']].drop_duplicates().reset_index(drop=True)\n",
    "education_dict"
   ]
  },
  {
   "cell_type": "code",
   "execution_count": 95,
   "id": "3e7e03e9",
   "metadata": {
    "scrolled": true
   },
   "outputs": [
    {
     "data": {
      "text/html": [
       "<div>\n",
       "<style scoped>\n",
       "    .dataframe tbody tr th:only-of-type {\n",
       "        vertical-align: middle;\n",
       "    }\n",
       "\n",
       "    .dataframe tbody tr th {\n",
       "        vertical-align: top;\n",
       "    }\n",
       "\n",
       "    .dataframe thead th {\n",
       "        text-align: right;\n",
       "    }\n",
       "</style>\n",
       "<table border=\"1\" class=\"dataframe\">\n",
       "  <thead>\n",
       "    <tr style=\"text-align: right;\">\n",
       "      <th></th>\n",
       "      <th>family_status</th>\n",
       "      <th>family_status_id</th>\n",
       "    </tr>\n",
       "  </thead>\n",
       "  <tbody>\n",
       "    <tr>\n",
       "      <th>0</th>\n",
       "      <td>женат / замужем</td>\n",
       "      <td>0</td>\n",
       "    </tr>\n",
       "    <tr>\n",
       "      <th>1</th>\n",
       "      <td>гражданский брак</td>\n",
       "      <td>1</td>\n",
       "    </tr>\n",
       "    <tr>\n",
       "      <th>2</th>\n",
       "      <td>вдовец / вдова</td>\n",
       "      <td>2</td>\n",
       "    </tr>\n",
       "    <tr>\n",
       "      <th>3</th>\n",
       "      <td>в разводе</td>\n",
       "      <td>3</td>\n",
       "    </tr>\n",
       "    <tr>\n",
       "      <th>4</th>\n",
       "      <td>не женат / не замужем</td>\n",
       "      <td>4</td>\n",
       "    </tr>\n",
       "  </tbody>\n",
       "</table>\n",
       "</div>"
      ],
      "text/plain": [
       "           family_status  family_status_id\n",
       "0        женат / замужем                 0\n",
       "1       гражданский брак                 1\n",
       "2         вдовец / вдова                 2\n",
       "3              в разводе                 3\n",
       "4  не женат / не замужем                 4"
      ]
     },
     "execution_count": 95,
     "metadata": {},
     "output_type": "execute_result"
    }
   ],
   "source": [
    "family_dict = df[['family_status','family_status_id']].drop_duplicates().reset_index(drop=True)\n",
    "family_dict"
   ]
  },
  {
   "cell_type": "code",
   "execution_count": 96,
   "id": "45250fb8",
   "metadata": {},
   "outputs": [
    {
     "data": {
      "text/html": [
       "<div>\n",
       "<style scoped>\n",
       "    .dataframe tbody tr th:only-of-type {\n",
       "        vertical-align: middle;\n",
       "    }\n",
       "\n",
       "    .dataframe tbody tr th {\n",
       "        vertical-align: top;\n",
       "    }\n",
       "\n",
       "    .dataframe thead th {\n",
       "        text-align: right;\n",
       "    }\n",
       "</style>\n",
       "<table border=\"1\" class=\"dataframe\">\n",
       "  <thead>\n",
       "    <tr style=\"text-align: right;\">\n",
       "      <th></th>\n",
       "      <th>children</th>\n",
       "      <th>days_employed</th>\n",
       "      <th>dob_years</th>\n",
       "      <th>education_id</th>\n",
       "      <th>family_status_id</th>\n",
       "      <th>gender</th>\n",
       "      <th>income_type</th>\n",
       "      <th>debt</th>\n",
       "      <th>total_income</th>\n",
       "      <th>purpose</th>\n",
       "      <th>purpose_category</th>\n",
       "    </tr>\n",
       "  </thead>\n",
       "  <tbody>\n",
       "    <tr>\n",
       "      <th>0</th>\n",
       "      <td>1</td>\n",
       "      <td>8437</td>\n",
       "      <td>42</td>\n",
       "      <td>0</td>\n",
       "      <td>0</td>\n",
       "      <td>F</td>\n",
       "      <td>сотрудник</td>\n",
       "      <td>0</td>\n",
       "      <td>253875</td>\n",
       "      <td>покупка жилья</td>\n",
       "      <td>операции с недвижимостью</td>\n",
       "    </tr>\n",
       "    <tr>\n",
       "      <th>1</th>\n",
       "      <td>1</td>\n",
       "      <td>4024</td>\n",
       "      <td>36</td>\n",
       "      <td>1</td>\n",
       "      <td>0</td>\n",
       "      <td>F</td>\n",
       "      <td>сотрудник</td>\n",
       "      <td>0</td>\n",
       "      <td>112080</td>\n",
       "      <td>приобретение автомобиля</td>\n",
       "      <td>операции с автомобилем</td>\n",
       "    </tr>\n",
       "    <tr>\n",
       "      <th>2</th>\n",
       "      <td>0</td>\n",
       "      <td>5623</td>\n",
       "      <td>33</td>\n",
       "      <td>1</td>\n",
       "      <td>0</td>\n",
       "      <td>M</td>\n",
       "      <td>сотрудник</td>\n",
       "      <td>0</td>\n",
       "      <td>145885</td>\n",
       "      <td>покупка жилья</td>\n",
       "      <td>операции с недвижимостью</td>\n",
       "    </tr>\n",
       "    <tr>\n",
       "      <th>3</th>\n",
       "      <td>3</td>\n",
       "      <td>4124</td>\n",
       "      <td>32</td>\n",
       "      <td>1</td>\n",
       "      <td>0</td>\n",
       "      <td>M</td>\n",
       "      <td>сотрудник</td>\n",
       "      <td>0</td>\n",
       "      <td>267628</td>\n",
       "      <td>дополнительное образование</td>\n",
       "      <td>получение образования</td>\n",
       "    </tr>\n",
       "    <tr>\n",
       "      <th>4</th>\n",
       "      <td>0</td>\n",
       "      <td>5475</td>\n",
       "      <td>53</td>\n",
       "      <td>1</td>\n",
       "      <td>1</td>\n",
       "      <td>F</td>\n",
       "      <td>пенсионер</td>\n",
       "      <td>0</td>\n",
       "      <td>158616</td>\n",
       "      <td>сыграть свадьбу</td>\n",
       "      <td>проведение свадьбы</td>\n",
       "    </tr>\n",
       "  </tbody>\n",
       "</table>\n",
       "</div>"
      ],
      "text/plain": [
       "   children  days_employed  dob_years  education_id  family_status_id gender  \\\n",
       "0         1           8437         42             0                 0      F   \n",
       "1         1           4024         36             1                 0      F   \n",
       "2         0           5623         33             1                 0      M   \n",
       "3         3           4124         32             1                 0      M   \n",
       "4         0           5475         53             1                 1      F   \n",
       "\n",
       "  income_type  debt  total_income                     purpose  \\\n",
       "0   сотрудник     0        253875               покупка жилья   \n",
       "1   сотрудник     0        112080     приобретение автомобиля   \n",
       "2   сотрудник     0        145885               покупка жилья   \n",
       "3   сотрудник     0        267628  дополнительное образование   \n",
       "4   пенсионер     0        158616             сыграть свадьбу   \n",
       "\n",
       "           purpose_category  \n",
       "0  операции с недвижимостью  \n",
       "1    операции с автомобилем  \n",
       "2  операции с недвижимостью  \n",
       "3     получение образования  \n",
       "4        проведение свадьбы  "
      ]
     },
     "execution_count": 96,
     "metadata": {},
     "output_type": "execute_result"
    }
   ],
   "source": [
    "df = df.drop(['education','family_status'],axis=1)\n",
    "df.head()"
   ]
  },
  {
   "cell_type": "markdown",
   "id": "b3ddfd8d",
   "metadata": {},
   "source": [
    "Разделим заемщиков на группы по сумме общего дохода:  \n",
    "- 0–30000 — 'E';\n",
    "- 30001–50000 — 'D';\n",
    "- 50001–200000 — 'C';\n",
    "- 200001–1000000 — 'B';\n",
    "- 1000001 и выше — 'A'"
   ]
  },
  {
   "cell_type": "code",
   "execution_count": 97,
   "id": "4c2ba1bc",
   "metadata": {
    "scrolled": true
   },
   "outputs": [
    {
     "data": {
      "text/html": [
       "<div>\n",
       "<style scoped>\n",
       "    .dataframe tbody tr th:only-of-type {\n",
       "        vertical-align: middle;\n",
       "    }\n",
       "\n",
       "    .dataframe tbody tr th {\n",
       "        vertical-align: top;\n",
       "    }\n",
       "\n",
       "    .dataframe thead th {\n",
       "        text-align: right;\n",
       "    }\n",
       "</style>\n",
       "<table border=\"1\" class=\"dataframe\">\n",
       "  <thead>\n",
       "    <tr style=\"text-align: right;\">\n",
       "      <th></th>\n",
       "      <th>children</th>\n",
       "      <th>days_employed</th>\n",
       "      <th>dob_years</th>\n",
       "      <th>education_id</th>\n",
       "      <th>family_status_id</th>\n",
       "      <th>gender</th>\n",
       "      <th>income_type</th>\n",
       "      <th>debt</th>\n",
       "      <th>total_income</th>\n",
       "      <th>purpose</th>\n",
       "      <th>purpose_category</th>\n",
       "      <th>total_income_category</th>\n",
       "    </tr>\n",
       "  </thead>\n",
       "  <tbody>\n",
       "    <tr>\n",
       "      <th>0</th>\n",
       "      <td>1</td>\n",
       "      <td>8437</td>\n",
       "      <td>42</td>\n",
       "      <td>0</td>\n",
       "      <td>0</td>\n",
       "      <td>F</td>\n",
       "      <td>сотрудник</td>\n",
       "      <td>0</td>\n",
       "      <td>253875</td>\n",
       "      <td>покупка жилья</td>\n",
       "      <td>операции с недвижимостью</td>\n",
       "      <td>B</td>\n",
       "    </tr>\n",
       "    <tr>\n",
       "      <th>1</th>\n",
       "      <td>1</td>\n",
       "      <td>4024</td>\n",
       "      <td>36</td>\n",
       "      <td>1</td>\n",
       "      <td>0</td>\n",
       "      <td>F</td>\n",
       "      <td>сотрудник</td>\n",
       "      <td>0</td>\n",
       "      <td>112080</td>\n",
       "      <td>приобретение автомобиля</td>\n",
       "      <td>операции с автомобилем</td>\n",
       "      <td>C</td>\n",
       "    </tr>\n",
       "    <tr>\n",
       "      <th>2</th>\n",
       "      <td>0</td>\n",
       "      <td>5623</td>\n",
       "      <td>33</td>\n",
       "      <td>1</td>\n",
       "      <td>0</td>\n",
       "      <td>M</td>\n",
       "      <td>сотрудник</td>\n",
       "      <td>0</td>\n",
       "      <td>145885</td>\n",
       "      <td>покупка жилья</td>\n",
       "      <td>операции с недвижимостью</td>\n",
       "      <td>C</td>\n",
       "    </tr>\n",
       "    <tr>\n",
       "      <th>3</th>\n",
       "      <td>3</td>\n",
       "      <td>4124</td>\n",
       "      <td>32</td>\n",
       "      <td>1</td>\n",
       "      <td>0</td>\n",
       "      <td>M</td>\n",
       "      <td>сотрудник</td>\n",
       "      <td>0</td>\n",
       "      <td>267628</td>\n",
       "      <td>дополнительное образование</td>\n",
       "      <td>получение образования</td>\n",
       "      <td>B</td>\n",
       "    </tr>\n",
       "    <tr>\n",
       "      <th>4</th>\n",
       "      <td>0</td>\n",
       "      <td>5475</td>\n",
       "      <td>53</td>\n",
       "      <td>1</td>\n",
       "      <td>1</td>\n",
       "      <td>F</td>\n",
       "      <td>пенсионер</td>\n",
       "      <td>0</td>\n",
       "      <td>158616</td>\n",
       "      <td>сыграть свадьбу</td>\n",
       "      <td>проведение свадьбы</td>\n",
       "      <td>C</td>\n",
       "    </tr>\n",
       "  </tbody>\n",
       "</table>\n",
       "</div>"
      ],
      "text/plain": [
       "   children  days_employed  dob_years  education_id  family_status_id gender  \\\n",
       "0         1           8437         42             0                 0      F   \n",
       "1         1           4024         36             1                 0      F   \n",
       "2         0           5623         33             1                 0      M   \n",
       "3         3           4124         32             1                 0      M   \n",
       "4         0           5475         53             1                 1      F   \n",
       "\n",
       "  income_type  debt  total_income                     purpose  \\\n",
       "0   сотрудник     0        253875               покупка жилья   \n",
       "1   сотрудник     0        112080     приобретение автомобиля   \n",
       "2   сотрудник     0        145885               покупка жилья   \n",
       "3   сотрудник     0        267628  дополнительное образование   \n",
       "4   пенсионер     0        158616             сыграть свадьбу   \n",
       "\n",
       "           purpose_category total_income_category  \n",
       "0  операции с недвижимостью                     B  \n",
       "1    операции с автомобилем                     C  \n",
       "2  операции с недвижимостью                     C  \n",
       "3     получение образования                     B  \n",
       "4        проведение свадьбы                     C  "
      ]
     },
     "execution_count": 97,
     "metadata": {},
     "output_type": "execute_result"
    }
   ],
   "source": [
    "def make_income_category(income):\n",
    "    '''\n",
    "    Функция для категоризации\n",
    "    \n",
    "    Обрабатывает числовые значения и присваивает категорию в зависимости от дохода\n",
    "    '''\n",
    "    if income <= 30000:\n",
    "        return 'E'\n",
    "    if income <= 50000:\n",
    "        return 'D'\n",
    "    if income <= 200000:\n",
    "        return 'C'\n",
    "    if income <= 1000000:\n",
    "        return 'B'\n",
    "    return 'A'\n",
    "\n",
    "df['total_income_category'] = df['total_income'].apply(make_income_category)\n",
    "df.head()"
   ]
  },
  {
   "cell_type": "markdown",
   "id": "4ebfead0",
   "metadata": {},
   "source": [
    "Проверим, нет ли строк, где не определилась категория"
   ]
  },
  {
   "cell_type": "code",
   "execution_count": 98,
   "id": "3c15aad3",
   "metadata": {},
   "outputs": [
    {
     "data": {
      "text/plain": [
       "C    16015\n",
       "B     5041\n",
       "D      350\n",
       "A       25\n",
       "E       22\n",
       "Name: total_income_category, dtype: int64"
      ]
     },
     "execution_count": 98,
     "metadata": {},
     "output_type": "execute_result"
    }
   ],
   "source": [
    "df['total_income_category'].value_counts()"
   ]
  },
  {
   "cell_type": "markdown",
   "id": "5d202fdb",
   "metadata": {},
   "source": [
    "## Проверка гипотез"
   ]
  },
  {
   "cell_type": "markdown",
   "id": "086a6720",
   "metadata": {},
   "source": [
    "В этом разделе ответим на вопросы, поставленные в первом пункте."
   ]
  },
  {
   "cell_type": "markdown",
   "id": "6f4b66cc",
   "metadata": {},
   "source": [
    "### Зависимость между количеством детей в семье и возвратом кредита в срок"
   ]
  },
  {
   "cell_type": "markdown",
   "id": "fbec1f86",
   "metadata": {},
   "source": [
    "Проверим, есть ли взаимосвязь между этими показателями: предположим, что вероятность своевременного погашения кредита тем ниже, чем больше в семье детей.  \n",
    "Для этого сгруппируем пользователей по количеству детей и рассчитаем долю заемщиков, имеющих задолженность, в каждой группе. Отобразим данные в сводной таблице для наглядного сравнения."
   ]
  },
  {
   "cell_type": "markdown",
   "id": "cccfbdf3",
   "metadata": {},
   "source": [
    "Определим, какие вообще значения есть столбце 'children':"
   ]
  },
  {
   "cell_type": "code",
   "execution_count": 99,
   "id": "ef46cef9",
   "metadata": {},
   "outputs": [
    {
     "data": {
      "text/plain": [
       "children\n",
       "-1        47\n",
       " 0     14090\n",
       " 1      4808\n",
       " 2      2052\n",
       " 3       330\n",
       " 4        41\n",
       " 5         9\n",
       " 20       76\n",
       "Name: children, dtype: int64"
      ]
     },
     "execution_count": 99,
     "metadata": {},
     "output_type": "execute_result"
    }
   ],
   "source": [
    "df.groupby('children')['children'].count()"
   ]
  },
  {
   "cell_type": "markdown",
   "id": "cf91e053",
   "metadata": {},
   "source": [
    "Получили 47 отрицательных строк и 76 строк с 20-ю детьми. Вряд ли эти данные соответствуют действительности, но и их количество невелико относительно всего датафрейма. Цифра \"20\" могла появиться случайно, когда вносили значение \"2\" и нажали лишнюю клавишу, но наверняка это узнать невозможно, поэтому удалим эти строки."
   ]
  },
  {
   "cell_type": "markdown",
   "id": "15ebd867",
   "metadata": {},
   "source": [
    "Удалим строки по условию и еще раз выведем уникальные значения для проверки"
   ]
  },
  {
   "cell_type": "code",
   "execution_count": 100,
   "id": "ce78073f",
   "metadata": {},
   "outputs": [
    {
     "data": {
      "text/plain": [
       "children\n",
       "0    14090\n",
       "1     4808\n",
       "2     2052\n",
       "3      330\n",
       "4       41\n",
       "5        9\n",
       "Name: children, dtype: int64"
      ]
     },
     "execution_count": 100,
     "metadata": {},
     "output_type": "execute_result"
    }
   ],
   "source": [
    "df = df.drop(df.loc[(df['children'] == 20) | (df['children'] == (-1))].index)\n",
    "df.groupby('children')['children'].count()"
   ]
  },
  {
   "cell_type": "markdown",
   "id": "a26bd944",
   "metadata": {},
   "source": [
    "Построим сводную таблицу с количеством детей в качестве строк и наличием задолженности в качестве столбцов, добавим столбец с долей должников относительно всех заемщиков в группе и добавим параметр fill_value для замены NaN на 0:"
   ]
  },
  {
   "cell_type": "code",
   "execution_count": 101,
   "id": "3733d023",
   "metadata": {},
   "outputs": [
    {
     "data": {
      "text/html": [
       "<div>\n",
       "<style scoped>\n",
       "    .dataframe tbody tr th:only-of-type {\n",
       "        vertical-align: middle;\n",
       "    }\n",
       "\n",
       "    .dataframe tbody tr th {\n",
       "        vertical-align: top;\n",
       "    }\n",
       "\n",
       "    .dataframe thead th {\n",
       "        text-align: right;\n",
       "    }\n",
       "</style>\n",
       "<table border=\"1\" class=\"dataframe\">\n",
       "  <thead>\n",
       "    <tr style=\"text-align: right;\">\n",
       "      <th>debt</th>\n",
       "      <th>children</th>\n",
       "      <th>0</th>\n",
       "      <th>1</th>\n",
       "      <th>percentage</th>\n",
       "    </tr>\n",
       "  </thead>\n",
       "  <tbody>\n",
       "    <tr>\n",
       "      <th>4</th>\n",
       "      <td>4</td>\n",
       "      <td>37</td>\n",
       "      <td>4</td>\n",
       "      <td>10.810811</td>\n",
       "    </tr>\n",
       "    <tr>\n",
       "      <th>2</th>\n",
       "      <td>2</td>\n",
       "      <td>1858</td>\n",
       "      <td>194</td>\n",
       "      <td>10.441335</td>\n",
       "    </tr>\n",
       "    <tr>\n",
       "      <th>1</th>\n",
       "      <td>1</td>\n",
       "      <td>4364</td>\n",
       "      <td>444</td>\n",
       "      <td>10.174152</td>\n",
       "    </tr>\n",
       "    <tr>\n",
       "      <th>3</th>\n",
       "      <td>3</td>\n",
       "      <td>303</td>\n",
       "      <td>27</td>\n",
       "      <td>8.910891</td>\n",
       "    </tr>\n",
       "    <tr>\n",
       "      <th>0</th>\n",
       "      <td>0</td>\n",
       "      <td>13027</td>\n",
       "      <td>1063</td>\n",
       "      <td>8.159975</td>\n",
       "    </tr>\n",
       "    <tr>\n",
       "      <th>5</th>\n",
       "      <td>5</td>\n",
       "      <td>9</td>\n",
       "      <td>0</td>\n",
       "      <td>0.000000</td>\n",
       "    </tr>\n",
       "  </tbody>\n",
       "</table>\n",
       "</div>"
      ],
      "text/plain": [
       "debt  children      0     1  percentage\n",
       "4            4     37     4   10.810811\n",
       "2            2   1858   194   10.441335\n",
       "1            1   4364   444   10.174152\n",
       "3            3    303    27    8.910891\n",
       "0            0  13027  1063    8.159975\n",
       "5            5      9     0    0.000000"
      ]
     },
     "execution_count": 101,
     "metadata": {},
     "output_type": "execute_result"
    }
   ],
   "source": [
    "pivot_children = df.pivot_table(index='children', columns='debt', values='total_income', aggfunc='count',fill_value=0).reset_index()\n",
    "pivot_children['percentage'] = (pivot_children[1] / pivot_children[0]) * 100\n",
    "pivot_children.sort_values('percentage',ascending=False)"
   ]
  },
  {
   "cell_type": "markdown",
   "id": "6dfbf97f",
   "metadata": {},
   "source": [
    "Оказалось, что в группе с самым большим количеством детей самое маленькое количество должников, а точнее должников там вообще нет. Неожиданный результат, но это может быть связано с тем, что эта группа в целом очень малочисленная.  \n",
    "Ожидаемо самый маленький процент должников среди заемщиков без детей, скорее всего, у них меньше дополнительных трат, что позволяет вовремя направлять требуемые суммы на погашение кредита.  \n",
    "Можно было предположить, что с появлением детей и увеличением их количества растет и количество должников, но из этого ряда выбивается группа семей с тремя детьми - показатель там ниже, чем у семей с одним или двумя детьми.  \n",
    "Можем сказать, что на вероятность возврата кредита в срок влияет наличие или отсутствие детей, а вот влияние количества не так выражено."
   ]
  },
  {
   "cell_type": "markdown",
   "id": "c53cf292",
   "metadata": {},
   "source": [
    "### Зависимость между семейным положением и возвратом кредита в срок"
   ]
  },
  {
   "cell_type": "markdown",
   "id": "3f1663e3",
   "metadata": {},
   "source": [
    "Построим сводную таблицу для поиска взаимосвязи и проверим утверждение: процент должников по кредитам меньше среди людей, состоящих в браке."
   ]
  },
  {
   "cell_type": "code",
   "execution_count": 102,
   "id": "9bf23228",
   "metadata": {},
   "outputs": [
    {
     "data": {
      "text/html": [
       "<div>\n",
       "<style scoped>\n",
       "    .dataframe tbody tr th:only-of-type {\n",
       "        vertical-align: middle;\n",
       "    }\n",
       "\n",
       "    .dataframe tbody tr th {\n",
       "        vertical-align: top;\n",
       "    }\n",
       "\n",
       "    .dataframe thead th {\n",
       "        text-align: right;\n",
       "    }\n",
       "</style>\n",
       "<table border=\"1\" class=\"dataframe\">\n",
       "  <thead>\n",
       "    <tr style=\"text-align: right;\">\n",
       "      <th>debt</th>\n",
       "      <th>family_status_id</th>\n",
       "      <th>0</th>\n",
       "      <th>1</th>\n",
       "      <th>percentage</th>\n",
       "    </tr>\n",
       "  </thead>\n",
       "  <tbody>\n",
       "    <tr>\n",
       "      <th>4</th>\n",
       "      <td>не женат / не замужем</td>\n",
       "      <td>2523</td>\n",
       "      <td>273</td>\n",
       "      <td>10.820452</td>\n",
       "    </tr>\n",
       "    <tr>\n",
       "      <th>1</th>\n",
       "      <td>гражданский брак</td>\n",
       "      <td>3748</td>\n",
       "      <td>385</td>\n",
       "      <td>10.272145</td>\n",
       "    </tr>\n",
       "    <tr>\n",
       "      <th>0</th>\n",
       "      <td>женат / замужем</td>\n",
       "      <td>11334</td>\n",
       "      <td>927</td>\n",
       "      <td>8.178931</td>\n",
       "    </tr>\n",
       "    <tr>\n",
       "      <th>3</th>\n",
       "      <td>в разводе</td>\n",
       "      <td>1105</td>\n",
       "      <td>84</td>\n",
       "      <td>7.601810</td>\n",
       "    </tr>\n",
       "    <tr>\n",
       "      <th>2</th>\n",
       "      <td>вдовец / вдова</td>\n",
       "      <td>888</td>\n",
       "      <td>63</td>\n",
       "      <td>7.094595</td>\n",
       "    </tr>\n",
       "  </tbody>\n",
       "</table>\n",
       "</div>"
      ],
      "text/plain": [
       "debt       family_status_id      0    1  percentage\n",
       "4     не женат / не замужем   2523  273   10.820452\n",
       "1          гражданский брак   3748  385   10.272145\n",
       "0           женат / замужем  11334  927    8.178931\n",
       "3                 в разводе   1105   84    7.601810\n",
       "2            вдовец / вдова    888   63    7.094595"
      ]
     },
     "execution_count": 102,
     "metadata": {},
     "output_type": "execute_result"
    }
   ],
   "source": [
    "pivot_family = df.pivot_table(index='family_status_id', columns='debt', values='total_income', aggfunc='count',fill_value=0).reset_index()\n",
    "# используем словарь для расшифровки семейного статуса\n",
    "pivot_family['family_status_id'] = family_dict['family_status']\n",
    "pivot_family['percentage'] = (pivot_family[1] / pivot_family[0]) * 100\n",
    "pivot_family.sort_values('percentage',ascending=False)"
   ]
  },
  {
   "cell_type": "markdown",
   "id": "471145dc",
   "metadata": {},
   "source": [
    "Самый маленький процент должников среди вдовцов и людей в разводе, но опять же, эти группы самые маленькие на общем фоне.  \n",
    "Также небольшой процент в группе семейных людей, и это объяснимо, поскольку в семьях чаще объединяют доходы, что повышает суммарный доход и позволяет погашать кредит регулярно.  \n",
    "Самый большой процент должников среди одиноких людей и людей в гражданском браке. Это также логично: пары, живущие в гражданском браке, часто имеют раздельный бюджет. Это же касается тех, кто имеет пару, в группе \"не женат / не замужем\".  \n",
    "\n",
    "Также, на этот показатель может повлиять и то, что женщин в таблице в два раза больше, чем мужчин, как мы определили ранее. Женщины зачастую имеют меньший доход нежели мужчины по различным причинам, и это влияет на выплаты по кредитам. Давайте проверим - построим сводную таблицу по полу, рассчитаем медианный доход и определим процентное соотношение мужчин к женщинам:"
   ]
  },
  {
   "cell_type": "code",
   "execution_count": 103,
   "id": "230f405f",
   "metadata": {},
   "outputs": [
    {
     "data": {
      "text/html": [
       "<div>\n",
       "<style scoped>\n",
       "    .dataframe tbody tr th:only-of-type {\n",
       "        vertical-align: middle;\n",
       "    }\n",
       "\n",
       "    .dataframe tbody tr th {\n",
       "        vertical-align: top;\n",
       "    }\n",
       "\n",
       "    .dataframe thead tr th {\n",
       "        text-align: left;\n",
       "    }\n",
       "</style>\n",
       "<table border=\"1\" class=\"dataframe\">\n",
       "  <thead>\n",
       "    <tr>\n",
       "      <th></th>\n",
       "      <th>total_income_category</th>\n",
       "      <th colspan=\"2\" halign=\"left\">count</th>\n",
       "      <th colspan=\"2\" halign=\"left\">median</th>\n",
       "      <th>percentage</th>\n",
       "    </tr>\n",
       "    <tr>\n",
       "      <th>gender</th>\n",
       "      <th></th>\n",
       "      <th>F</th>\n",
       "      <th>M</th>\n",
       "      <th>F</th>\n",
       "      <th>M</th>\n",
       "      <th></th>\n",
       "    </tr>\n",
       "  </thead>\n",
       "  <tbody>\n",
       "    <tr>\n",
       "      <th>0</th>\n",
       "      <td>A</td>\n",
       "      <td>10.0</td>\n",
       "      <td>15.0</td>\n",
       "      <td>1197750.5</td>\n",
       "      <td>1278622.0</td>\n",
       "      <td>60.000000</td>\n",
       "    </tr>\n",
       "    <tr>\n",
       "      <th>1</th>\n",
       "      <td>B</td>\n",
       "      <td>2695.0</td>\n",
       "      <td>2318.0</td>\n",
       "      <td>256248.0</td>\n",
       "      <td>259104.0</td>\n",
       "      <td>46.239777</td>\n",
       "    </tr>\n",
       "    <tr>\n",
       "      <th>2</th>\n",
       "      <td>C</td>\n",
       "      <td>11063.0</td>\n",
       "      <td>4858.0</td>\n",
       "      <td>123907.0</td>\n",
       "      <td>142594.0</td>\n",
       "      <td>30.513159</td>\n",
       "    </tr>\n",
       "    <tr>\n",
       "      <th>3</th>\n",
       "      <td>D</td>\n",
       "      <td>308.0</td>\n",
       "      <td>41.0</td>\n",
       "      <td>43754.5</td>\n",
       "      <td>44577.0</td>\n",
       "      <td>11.747851</td>\n",
       "    </tr>\n",
       "    <tr>\n",
       "      <th>4</th>\n",
       "      <td>E</td>\n",
       "      <td>16.0</td>\n",
       "      <td>6.0</td>\n",
       "      <td>26973.5</td>\n",
       "      <td>22083.5</td>\n",
       "      <td>27.272727</td>\n",
       "    </tr>\n",
       "  </tbody>\n",
       "</table>\n",
       "</div>"
      ],
      "text/plain": [
       "       total_income_category    count             median            percentage\n",
       "gender                              F       M          F          M           \n",
       "0                          A     10.0    15.0  1197750.5  1278622.0  60.000000\n",
       "1                          B   2695.0  2318.0   256248.0   259104.0  46.239777\n",
       "2                          C  11063.0  4858.0   123907.0   142594.0  30.513159\n",
       "3                          D    308.0    41.0    43754.5    44577.0  11.747851\n",
       "4                          E     16.0     6.0    26973.5    22083.5  27.272727"
      ]
     },
     "execution_count": 103,
     "metadata": {},
     "output_type": "execute_result"
    }
   ],
   "source": [
    "pivot_gender = df.pivot_table(index='total_income_category',\n",
    "                              columns='gender', values='total_income',\n",
    "                              aggfunc={'median','count'}).reset_index()\n",
    "pivot_gender['percentage'] = (pivot_gender['count']['M'] / (pivot_gender['count']['F']+pivot_gender['count']['M'])) * 100\n",
    "pivot_gender"
   ]
  },
  {
   "cell_type": "markdown",
   "id": "cc09a49a",
   "metadata": {},
   "source": [
    "Похоже, что в каждой группе содержится менее 40% мужчин, за исключением группы `A` с самым высоким доходом - там распределение обратное. В этой группе медианный доход мужчин немного выше. В следующей по уровню дохода группе `B` разница в доходах почти отсутствует, а в самой многочисленной группе `C` (средние доходы) значительная разница в доходах в пользу мужчин. В группе с небольшим доходом `D` разница снова небольшая, а в группе с минимальным доходом `E` женщины получают больше.  \n",
    "Отсюда можем сделать два вывода:\n",
    "- В целом преобладает разница в доходах в пользу мужчин, при увеличении доходов гендерные различия стираются;\n",
    "- Женщины чаще берут на себя кредитные обязательства."
   ]
  },
  {
   "cell_type": "markdown",
   "id": "5e949534",
   "metadata": {},
   "source": [
    "### Зависимость между уровнем дохода и возвратом кредита в срок"
   ]
  },
  {
   "cell_type": "markdown",
   "id": "6c23834f",
   "metadata": {},
   "source": [
    "Проверим следующую гипотезу: чем выше совокупный уровень дохода, тем чаще заемщики вовремя погашают обязательства."
   ]
  },
  {
   "cell_type": "code",
   "execution_count": 104,
   "id": "95543000",
   "metadata": {},
   "outputs": [
    {
     "data": {
      "text/html": [
       "<div>\n",
       "<style scoped>\n",
       "    .dataframe tbody tr th:only-of-type {\n",
       "        vertical-align: middle;\n",
       "    }\n",
       "\n",
       "    .dataframe tbody tr th {\n",
       "        vertical-align: top;\n",
       "    }\n",
       "\n",
       "    .dataframe thead th {\n",
       "        text-align: right;\n",
       "    }\n",
       "</style>\n",
       "<table border=\"1\" class=\"dataframe\">\n",
       "  <thead>\n",
       "    <tr style=\"text-align: right;\">\n",
       "      <th>debt</th>\n",
       "      <th>total_income_category</th>\n",
       "      <th>0</th>\n",
       "      <th>1</th>\n",
       "      <th>percentage</th>\n",
       "    </tr>\n",
       "  </thead>\n",
       "  <tbody>\n",
       "    <tr>\n",
       "      <th>4</th>\n",
       "      <td>E</td>\n",
       "      <td>20</td>\n",
       "      <td>2</td>\n",
       "      <td>10.000000</td>\n",
       "    </tr>\n",
       "    <tr>\n",
       "      <th>2</th>\n",
       "      <td>C</td>\n",
       "      <td>14568</td>\n",
       "      <td>1353</td>\n",
       "      <td>9.287479</td>\n",
       "    </tr>\n",
       "    <tr>\n",
       "      <th>0</th>\n",
       "      <td>A</td>\n",
       "      <td>23</td>\n",
       "      <td>2</td>\n",
       "      <td>8.695652</td>\n",
       "    </tr>\n",
       "    <tr>\n",
       "      <th>1</th>\n",
       "      <td>B</td>\n",
       "      <td>4659</td>\n",
       "      <td>354</td>\n",
       "      <td>7.598197</td>\n",
       "    </tr>\n",
       "    <tr>\n",
       "      <th>3</th>\n",
       "      <td>D</td>\n",
       "      <td>328</td>\n",
       "      <td>21</td>\n",
       "      <td>6.402439</td>\n",
       "    </tr>\n",
       "  </tbody>\n",
       "</table>\n",
       "</div>"
      ],
      "text/plain": [
       "debt total_income_category      0     1  percentage\n",
       "4                        E     20     2   10.000000\n",
       "2                        C  14568  1353    9.287479\n",
       "0                        A     23     2    8.695652\n",
       "1                        B   4659   354    7.598197\n",
       "3                        D    328    21    6.402439"
      ]
     },
     "execution_count": 104,
     "metadata": {},
     "output_type": "execute_result"
    }
   ],
   "source": [
    "pivot_income = df.pivot_table(index='total_income_category', columns='debt', values='total_income', aggfunc='count').reset_index()\n",
    "pivot_income['percentage'] = (pivot_income[1] / pivot_income[0]) * 100\n",
    "pivot_income.sort_values('percentage',ascending=False)"
   ]
  },
  {
   "cell_type": "markdown",
   "id": "36195467",
   "metadata": {},
   "source": [
    "В целом можно сказать, что эта гипотеза подтвердилась: самые маленькие проценты должников в группах `B` (доход от 200 000 руб до 1000 000 руб) и `D` (доход от 30 000 до 50 000 руб). Но `D` не столь велика, как и группа `A` (доход свыше 1000 000 руб).  \n",
    "Самый большой процент должников в группе `E` (доход до 30 000 руб), а также в группе `C` (от 50 000 до 200 000 руб).  \n",
    "Самыми показательными можно считать все же группы `C` и `B` как самые крупные, и разница в количестве должников между ними составляет почти 1,5%."
   ]
  },
  {
   "cell_type": "markdown",
   "id": "9cb9dbcd",
   "metadata": {},
   "source": [
    "### Влияние разных целей кредита на его возврат в срок"
   ]
  },
  {
   "cell_type": "markdown",
   "id": "14338327",
   "metadata": {},
   "source": [
    "Посмотрим на взаимосвязь целей и своевременного погашения кредита и проверим, что она есть."
   ]
  },
  {
   "cell_type": "code",
   "execution_count": 105,
   "id": "e4e54963",
   "metadata": {},
   "outputs": [
    {
     "data": {
      "text/html": [
       "<div>\n",
       "<style scoped>\n",
       "    .dataframe tbody tr th:only-of-type {\n",
       "        vertical-align: middle;\n",
       "    }\n",
       "\n",
       "    .dataframe tbody tr th {\n",
       "        vertical-align: top;\n",
       "    }\n",
       "\n",
       "    .dataframe thead th {\n",
       "        text-align: right;\n",
       "    }\n",
       "</style>\n",
       "<table border=\"1\" class=\"dataframe\">\n",
       "  <thead>\n",
       "    <tr style=\"text-align: right;\">\n",
       "      <th>debt</th>\n",
       "      <th>purpose_category</th>\n",
       "      <th>0</th>\n",
       "      <th>1</th>\n",
       "      <th>percentage</th>\n",
       "    </tr>\n",
       "  </thead>\n",
       "  <tbody>\n",
       "    <tr>\n",
       "      <th>0</th>\n",
       "      <td>операции с автомобилем</td>\n",
       "      <td>3879</td>\n",
       "      <td>400</td>\n",
       "      <td>10.311936</td>\n",
       "    </tr>\n",
       "    <tr>\n",
       "      <th>2</th>\n",
       "      <td>получение образования</td>\n",
       "      <td>3619</td>\n",
       "      <td>369</td>\n",
       "      <td>10.196187</td>\n",
       "    </tr>\n",
       "    <tr>\n",
       "      <th>3</th>\n",
       "      <td>проведение свадьбы</td>\n",
       "      <td>2130</td>\n",
       "      <td>183</td>\n",
       "      <td>8.591549</td>\n",
       "    </tr>\n",
       "    <tr>\n",
       "      <th>4</th>\n",
       "      <td>строительство</td>\n",
       "      <td>1724</td>\n",
       "      <td>143</td>\n",
       "      <td>8.294664</td>\n",
       "    </tr>\n",
       "    <tr>\n",
       "      <th>1</th>\n",
       "      <td>операции с недвижимостью</td>\n",
       "      <td>8246</td>\n",
       "      <td>637</td>\n",
       "      <td>7.724958</td>\n",
       "    </tr>\n",
       "  </tbody>\n",
       "</table>\n",
       "</div>"
      ],
      "text/plain": [
       "debt          purpose_category     0    1  percentage\n",
       "0       операции с автомобилем  3879  400   10.311936\n",
       "2        получение образования  3619  369   10.196187\n",
       "3           проведение свадьбы  2130  183    8.591549\n",
       "4                строительство  1724  143    8.294664\n",
       "1     операции с недвижимостью  8246  637    7.724958"
      ]
     },
     "execution_count": 105,
     "metadata": {},
     "output_type": "execute_result"
    }
   ],
   "source": [
    "pivot_purpose = df.pivot_table(index='purpose_category', columns='debt', values='total_income', aggfunc='count').reset_index()\n",
    "pivot_purpose['percentage'] = (pivot_purpose[1] / pivot_purpose[0]) * 100\n",
    "pivot_purpose.sort_values('percentage',ascending=False)"
   ]
  },
  {
   "cell_type": "markdown",
   "id": "15c7e3d7",
   "metadata": {},
   "source": [
    "Самые ответственные заемщики определенно находятся среди тех, кто берет кредит с целью приобретения жилья. Чуть больше должников среди тех, кто брал кредит с целью строительства, и это тоже объяснимо: само по себе строительство может быть затратнее и дольше, чем приобретение готового жилья. Похожая картина в группе тех, кто решил связать себя узами брака, в целом эта группа и группа строителей имеют средние показатели.  \n",
    "Больше всего должников среди тех, кто берет кредит с целью приобретения автомобиля и тех, кто получает образование. Это также можно объяснить: хорошее образование требует крупных вложений, а получают его часто люди с небольшими и средними доходами, как раз для того, чтобы уровень дохода можно было повысить. Большой процент должников среди приобретающих авто может быть связан с условиями кредитования именно по автомобилям или с правилами взыскания задолженности."
   ]
  },
  {
   "cell_type": "markdown",
   "id": "032a3e2e",
   "metadata": {},
   "source": [
    "## Итоги"
   ]
  },
  {
   "cell_type": "markdown",
   "id": "afb75b9c",
   "metadata": {},
   "source": [
    "Итак, в ходе исследования проверено четыре гипотезы, и по результатам проверки можно утверждать следующее:\n",
    "\n",
    "- Первая гипотеза частично подтвердилась: есть зависимость между наличием детей в семье и возвратом кредита в срок. Меньше всего должников среди бездетных - 8,16%, а с появлением ребенка процент должников увеличивается до 10,17%. Но по остальным группам распределение достаточно хаотичное, хотя и есть тенденция к увеличению числа должников с увеличением количества детей в семье: 10,44% в группе семей с двумя детьми и 10,81% в группе с четырьмя. Однако при наличии большего количества данных о многодетных семьях, можно было бы получить более точный результат;  \n",
    "\n",
    "\n",
    "- Вторая гипотеза подтвердилась: люди, состоящие в браке, реже имеют задолженности по кредитам, процент должников среди них составляет 8,18%. Минимальный процент должников среди людей со статусом \"вдовец / вдова\" и \"в разводе\" - 7,09% и 7,6% соответственно.  Больше всего должников среди одиноких людей - 10,82%, и немногим меньше среди людей в гражданском браке - 10,27%. Чаще кредитные обязательства берут на себя женщины - в выборке их 60%;\n",
    "\n",
    "\n",
    "- Третья гипотеза подтвердилась частично: чем выше уровень дохода, тем больше вероятность погашения кредита в срок, но картину несколько искажает большая разница в доходах. Меньше всего должников среди людей с суммарным доходом от 200 000 руб до 1 000 000 руб (7,6%) и с доходом свыше 1 000 000 руб (8,7%). Среди людей с доходом менее 30 000 руб количество должников составляет 10%. Возможно, если изменить границы групп дохода, результат будет иным;  \n",
    "\n",
    "\n",
    "- Четвертая гипотеза подтвердилась: цель кредита влияет на вероятность его своевременного погашения. Это может быть связано с конкретными условиями банковских ссуд. Меньше всего должников среди тех, кто берет кредит с целью приобретения жилья - 7,72%, а также, среди тех, кто планирует строительство - 8,29%. Самый большой процент в группе операций с автомобилем (покупка или ремонт) - 10,31%, и немногим меньше среди людей, планирующих получить образование - 10,2%. Среди тех, кто планирует свадьбу, процент должников составляет 8,59%."
   ]
  }
 ],
 "metadata": {
  "ExecuteTimeLog": [
   {
    "duration": 518,
    "start_time": "2022-04-23T16:43:17.494Z"
   },
   {
    "duration": 22,
    "start_time": "2022-04-23T16:43:18.015Z"
   },
   {
    "duration": 10,
    "start_time": "2022-04-23T16:43:18.039Z"
   },
   {
    "duration": 11,
    "start_time": "2022-04-23T16:43:18.051Z"
   },
   {
    "duration": 9,
    "start_time": "2022-04-23T16:43:18.063Z"
   },
   {
    "duration": 1164,
    "start_time": "2022-04-23T16:45:37.178Z"
   },
   {
    "duration": 19,
    "start_time": "2022-04-23T16:45:38.344Z"
   },
   {
    "duration": 4,
    "start_time": "2022-04-23T16:45:38.364Z"
   },
   {
    "duration": 8,
    "start_time": "2022-04-23T16:45:38.370Z"
   },
   {
    "duration": 11,
    "start_time": "2022-04-23T16:45:38.379Z"
   },
   {
    "duration": 443,
    "start_time": "2022-04-25T12:20:51.511Z"
   },
   {
    "duration": 169,
    "start_time": "2022-04-25T12:21:05.144Z"
   },
   {
    "duration": 13,
    "start_time": "2022-04-25T12:29:24.116Z"
   },
   {
    "duration": 178,
    "start_time": "2022-04-25T12:30:39.575Z"
   },
   {
    "duration": 30,
    "start_time": "2022-04-25T12:30:58.476Z"
   },
   {
    "duration": 18,
    "start_time": "2022-04-25T12:31:47.145Z"
   },
   {
    "duration": 4,
    "start_time": "2022-04-25T12:32:17.894Z"
   },
   {
    "duration": 7,
    "start_time": "2022-04-25T12:33:16.155Z"
   },
   {
    "duration": 204,
    "start_time": "2022-04-25T12:33:29.988Z"
   },
   {
    "duration": 5,
    "start_time": "2022-04-25T12:33:59.268Z"
   },
   {
    "duration": 5,
    "start_time": "2022-04-25T12:34:25.681Z"
   },
   {
    "duration": 178,
    "start_time": "2022-04-25T12:34:47.209Z"
   },
   {
    "duration": 1188,
    "start_time": "2022-04-25T12:35:04.198Z"
   },
   {
    "duration": 13,
    "start_time": "2022-04-25T12:35:45.751Z"
   },
   {
    "duration": 9,
    "start_time": "2022-04-25T12:36:24.745Z"
   },
   {
    "duration": 18,
    "start_time": "2022-04-25T12:38:03.125Z"
   },
   {
    "duration": 25,
    "start_time": "2022-04-25T12:39:58.121Z"
   },
   {
    "duration": 18,
    "start_time": "2022-04-25T12:40:23.158Z"
   },
   {
    "duration": 19,
    "start_time": "2022-04-25T12:41:27.075Z"
   },
   {
    "duration": 17,
    "start_time": "2022-04-25T12:41:40.169Z"
   },
   {
    "duration": 6,
    "start_time": "2022-04-25T12:42:09.384Z"
   },
   {
    "duration": 17,
    "start_time": "2022-04-25T12:42:46.302Z"
   },
   {
    "duration": 18,
    "start_time": "2022-04-25T12:43:43.387Z"
   },
   {
    "duration": 6,
    "start_time": "2022-04-25T12:43:48.604Z"
   },
   {
    "duration": 13,
    "start_time": "2022-04-25T12:44:26.590Z"
   },
   {
    "duration": 7,
    "start_time": "2022-04-25T12:44:37.751Z"
   },
   {
    "duration": 11,
    "start_time": "2022-04-25T12:45:23.634Z"
   },
   {
    "duration": 16,
    "start_time": "2022-04-25T12:45:36.300Z"
   },
   {
    "duration": 8,
    "start_time": "2022-04-25T12:46:08.509Z"
   },
   {
    "duration": 4,
    "start_time": "2022-04-25T12:47:27.045Z"
   },
   {
    "duration": 20,
    "start_time": "2022-04-25T12:48:00.274Z"
   },
   {
    "duration": 7,
    "start_time": "2022-04-25T12:48:14.573Z"
   },
   {
    "duration": 22,
    "start_time": "2022-04-25T12:48:47.333Z"
   },
   {
    "duration": 18,
    "start_time": "2022-04-25T12:48:59.023Z"
   },
   {
    "duration": 15,
    "start_time": "2022-04-25T12:49:19.920Z"
   },
   {
    "duration": 19,
    "start_time": "2022-04-25T12:49:53.761Z"
   },
   {
    "duration": 7,
    "start_time": "2022-04-25T12:50:20.598Z"
   },
   {
    "duration": 2,
    "start_time": "2022-04-25T12:50:35.612Z"
   },
   {
    "duration": 6,
    "start_time": "2022-04-25T12:51:44.557Z"
   },
   {
    "duration": 12,
    "start_time": "2022-04-25T12:52:21.707Z"
   },
   {
    "duration": 38,
    "start_time": "2022-04-25T12:52:45.025Z"
   },
   {
    "duration": 21,
    "start_time": "2022-04-25T12:54:50.908Z"
   },
   {
    "duration": 48,
    "start_time": "2022-04-25T12:55:35.829Z"
   },
   {
    "duration": 22,
    "start_time": "2022-04-25T12:56:38.229Z"
   },
   {
    "duration": 23,
    "start_time": "2022-04-25T12:58:41.599Z"
   },
   {
    "duration": 432,
    "start_time": "2022-04-25T13:00:46.161Z"
   },
   {
    "duration": 157,
    "start_time": "2022-04-25T13:00:46.595Z"
   },
   {
    "duration": 23,
    "start_time": "2022-04-25T13:00:46.754Z"
   },
   {
    "duration": 5,
    "start_time": "2022-04-25T13:00:46.780Z"
   },
   {
    "duration": 11,
    "start_time": "2022-04-25T13:00:46.787Z"
   },
   {
    "duration": 35,
    "start_time": "2022-04-25T13:00:46.800Z"
   },
   {
    "duration": 29,
    "start_time": "2022-04-25T13:00:46.836Z"
   },
   {
    "duration": 15,
    "start_time": "2022-04-25T13:00:46.867Z"
   },
   {
    "duration": 5,
    "start_time": "2022-04-25T13:00:46.883Z"
   },
   {
    "duration": 9,
    "start_time": "2022-04-25T13:00:46.891Z"
   },
   {
    "duration": 36,
    "start_time": "2022-04-25T13:00:46.902Z"
   },
   {
    "duration": 10,
    "start_time": "2022-04-25T13:00:46.940Z"
   },
   {
    "duration": 490,
    "start_time": "2022-04-25T13:00:46.952Z"
   },
   {
    "duration": 11,
    "start_time": "2022-04-25T13:00:47.443Z"
   },
   {
    "duration": 8,
    "start_time": "2022-04-25T13:00:47.456Z"
   },
   {
    "duration": 11,
    "start_time": "2022-04-25T13:00:47.465Z"
   },
   {
    "duration": 18,
    "start_time": "2022-04-25T13:00:47.478Z"
   },
   {
    "duration": 51,
    "start_time": "2022-04-25T13:00:47.498Z"
   },
   {
    "duration": 19,
    "start_time": "2022-04-25T13:00:47.550Z"
   },
   {
    "duration": 19,
    "start_time": "2022-04-25T13:00:47.570Z"
   },
   {
    "duration": 7,
    "start_time": "2022-04-25T13:00:47.591Z"
   },
   {
    "duration": 48,
    "start_time": "2022-04-25T13:00:47.600Z"
   },
   {
    "duration": 7,
    "start_time": "2022-04-25T13:00:47.650Z"
   },
   {
    "duration": 23,
    "start_time": "2022-04-25T13:00:47.659Z"
   },
   {
    "duration": 16,
    "start_time": "2022-04-25T13:00:47.684Z"
   },
   {
    "duration": 10,
    "start_time": "2022-04-25T13:00:47.702Z"
   },
   {
    "duration": 35,
    "start_time": "2022-04-25T13:00:47.714Z"
   },
   {
    "duration": 8,
    "start_time": "2022-04-25T13:00:47.752Z"
   },
   {
    "duration": 6,
    "start_time": "2022-04-25T13:00:47.762Z"
   },
   {
    "duration": 36,
    "start_time": "2022-04-25T13:00:47.769Z"
   },
   {
    "duration": 11,
    "start_time": "2022-04-25T13:00:47.807Z"
   },
   {
    "duration": 33,
    "start_time": "2022-04-25T13:00:47.819Z"
   },
   {
    "duration": 14,
    "start_time": "2022-04-25T13:00:47.854Z"
   },
   {
    "duration": 17,
    "start_time": "2022-04-25T13:00:47.870Z"
   },
   {
    "duration": 34,
    "start_time": "2022-04-25T13:00:47.889Z"
   },
   {
    "duration": 14,
    "start_time": "2022-04-25T13:00:47.925Z"
   },
   {
    "duration": 12,
    "start_time": "2022-04-25T13:00:47.941Z"
   },
   {
    "duration": 12,
    "start_time": "2022-04-25T13:00:47.955Z"
   },
   {
    "duration": 22,
    "start_time": "2022-04-25T13:00:47.968Z"
   },
   {
    "duration": 45,
    "start_time": "2022-04-25T13:00:47.992Z"
   },
   {
    "duration": 41,
    "start_time": "2022-04-25T13:00:48.039Z"
   },
   {
    "duration": 21,
    "start_time": "2022-04-25T13:00:48.082Z"
   },
   {
    "duration": 47,
    "start_time": "2022-04-25T13:00:48.105Z"
   },
   {
    "duration": 524,
    "start_time": "2022-04-25T15:27:51.104Z"
   },
   {
    "duration": 135,
    "start_time": "2022-04-25T15:27:51.631Z"
   },
   {
    "duration": 32,
    "start_time": "2022-04-25T15:27:51.768Z"
   },
   {
    "duration": 5,
    "start_time": "2022-04-25T15:27:51.803Z"
   },
   {
    "duration": 10,
    "start_time": "2022-04-25T15:27:51.810Z"
   },
   {
    "duration": 11,
    "start_time": "2022-04-25T15:27:51.852Z"
   },
   {
    "duration": 41,
    "start_time": "2022-04-25T15:27:51.865Z"
   },
   {
    "duration": 50,
    "start_time": "2022-04-25T15:27:51.909Z"
   },
   {
    "duration": 7,
    "start_time": "2022-04-25T15:27:51.961Z"
   },
   {
    "duration": 11,
    "start_time": "2022-04-25T15:27:51.972Z"
   },
   {
    "duration": 8,
    "start_time": "2022-04-25T15:27:51.986Z"
   },
   {
    "duration": 59,
    "start_time": "2022-04-25T15:27:51.997Z"
   },
   {
    "duration": 639,
    "start_time": "2022-04-25T15:27:52.059Z"
   },
   {
    "duration": 13,
    "start_time": "2022-04-25T15:27:52.700Z"
   },
   {
    "duration": 35,
    "start_time": "2022-04-25T15:27:52.716Z"
   },
   {
    "duration": 15,
    "start_time": "2022-04-25T15:27:52.753Z"
   },
   {
    "duration": 23,
    "start_time": "2022-04-25T15:27:52.770Z"
   },
   {
    "duration": 24,
    "start_time": "2022-04-25T15:27:52.795Z"
   },
   {
    "duration": 26,
    "start_time": "2022-04-25T15:27:52.852Z"
   },
   {
    "duration": 27,
    "start_time": "2022-04-25T15:27:52.880Z"
   },
   {
    "duration": 44,
    "start_time": "2022-04-25T15:27:52.909Z"
   },
   {
    "duration": 26,
    "start_time": "2022-04-25T15:27:52.955Z"
   },
   {
    "duration": 8,
    "start_time": "2022-04-25T15:27:52.984Z"
   },
   {
    "duration": 20,
    "start_time": "2022-04-25T15:27:52.994Z"
   },
   {
    "duration": 40,
    "start_time": "2022-04-25T15:27:53.016Z"
   },
   {
    "duration": 29,
    "start_time": "2022-04-25T15:27:53.058Z"
   },
   {
    "duration": 27,
    "start_time": "2022-04-25T15:27:53.090Z"
   },
   {
    "duration": 10,
    "start_time": "2022-04-25T15:27:53.122Z"
   },
   {
    "duration": 18,
    "start_time": "2022-04-25T15:27:53.134Z"
   },
   {
    "duration": 47,
    "start_time": "2022-04-25T15:27:53.154Z"
   },
   {
    "duration": 28,
    "start_time": "2022-04-25T15:27:53.203Z"
   },
   {
    "duration": 29,
    "start_time": "2022-04-25T15:27:53.233Z"
   },
   {
    "duration": 16,
    "start_time": "2022-04-25T15:27:53.264Z"
   },
   {
    "duration": 21,
    "start_time": "2022-04-25T15:27:53.283Z"
   },
   {
    "duration": 52,
    "start_time": "2022-04-25T15:27:53.306Z"
   },
   {
    "duration": 9,
    "start_time": "2022-04-25T15:27:53.360Z"
   },
   {
    "duration": 15,
    "start_time": "2022-04-25T15:27:53.371Z"
   },
   {
    "duration": 17,
    "start_time": "2022-04-25T15:27:53.388Z"
   },
   {
    "duration": 62,
    "start_time": "2022-04-25T15:27:53.407Z"
   },
   {
    "duration": 43,
    "start_time": "2022-04-25T15:27:53.472Z"
   },
   {
    "duration": 108,
    "start_time": "2022-04-25T15:27:53.518Z"
   },
   {
    "duration": 57,
    "start_time": "2022-04-25T15:27:53.629Z"
   },
   {
    "duration": 46,
    "start_time": "2022-04-25T15:27:53.689Z"
   },
   {
    "duration": 732,
    "start_time": "2022-04-25T15:44:59.753Z"
   },
   {
    "duration": 199,
    "start_time": "2022-04-25T15:45:00.489Z"
   },
   {
    "duration": 35,
    "start_time": "2022-04-25T15:45:00.691Z"
   },
   {
    "duration": 27,
    "start_time": "2022-04-25T15:45:00.728Z"
   },
   {
    "duration": 37,
    "start_time": "2022-04-25T15:45:00.759Z"
   },
   {
    "duration": 28,
    "start_time": "2022-04-25T15:45:00.799Z"
   },
   {
    "duration": 75,
    "start_time": "2022-04-25T15:45:00.830Z"
   },
   {
    "duration": 29,
    "start_time": "2022-04-25T15:45:00.908Z"
   },
   {
    "duration": 8,
    "start_time": "2022-04-25T15:45:00.951Z"
   },
   {
    "duration": 21,
    "start_time": "2022-04-25T15:45:00.961Z"
   },
   {
    "duration": 12,
    "start_time": "2022-04-25T15:45:00.984Z"
   },
   {
    "duration": 13,
    "start_time": "2022-04-25T15:45:00.999Z"
   },
   {
    "duration": 1008,
    "start_time": "2022-04-25T15:45:01.014Z"
   },
   {
    "duration": 31,
    "start_time": "2022-04-25T15:45:02.029Z"
   },
   {
    "duration": 15,
    "start_time": "2022-04-25T15:45:02.063Z"
   },
   {
    "duration": 16,
    "start_time": "2022-04-25T15:45:02.080Z"
   },
   {
    "duration": 33,
    "start_time": "2022-04-25T15:45:02.098Z"
   },
   {
    "duration": 37,
    "start_time": "2022-04-25T15:45:02.153Z"
   },
   {
    "duration": 59,
    "start_time": "2022-04-25T15:45:02.193Z"
   },
   {
    "duration": 26,
    "start_time": "2022-04-25T15:45:02.254Z"
   },
   {
    "duration": 9,
    "start_time": "2022-04-25T15:45:02.282Z"
   },
   {
    "duration": 62,
    "start_time": "2022-04-25T15:45:02.293Z"
   },
   {
    "duration": 8,
    "start_time": "2022-04-25T15:45:02.358Z"
   },
   {
    "duration": 41,
    "start_time": "2022-04-25T15:45:02.368Z"
   },
   {
    "duration": 30,
    "start_time": "2022-04-25T15:45:02.411Z"
   },
   {
    "duration": 40,
    "start_time": "2022-04-25T15:45:02.444Z"
   },
   {
    "duration": 49,
    "start_time": "2022-04-25T15:45:02.487Z"
   },
   {
    "duration": 15,
    "start_time": "2022-04-25T15:45:02.539Z"
   },
   {
    "duration": 34,
    "start_time": "2022-04-25T15:45:02.557Z"
   },
   {
    "duration": 61,
    "start_time": "2022-04-25T15:45:02.593Z"
   },
   {
    "duration": 25,
    "start_time": "2022-04-25T15:45:02.656Z"
   },
   {
    "duration": 82,
    "start_time": "2022-04-25T15:45:02.683Z"
   },
   {
    "duration": 17,
    "start_time": "2022-04-25T15:45:02.768Z"
   },
   {
    "duration": 19,
    "start_time": "2022-04-25T15:45:02.787Z"
   },
   {
    "duration": 60,
    "start_time": "2022-04-25T15:45:02.808Z"
   },
   {
    "duration": 13,
    "start_time": "2022-04-25T15:45:02.871Z"
   },
   {
    "duration": 12,
    "start_time": "2022-04-25T15:45:02.886Z"
   },
   {
    "duration": 20,
    "start_time": "2022-04-25T15:45:02.901Z"
   },
   {
    "duration": 45,
    "start_time": "2022-04-25T15:45:02.952Z"
   },
   {
    "duration": 64,
    "start_time": "2022-04-25T15:45:03.000Z"
   },
   {
    "duration": 101,
    "start_time": "2022-04-25T15:45:03.073Z"
   },
   {
    "duration": 32,
    "start_time": "2022-04-25T15:45:03.177Z"
   },
   {
    "duration": 54,
    "start_time": "2022-04-25T15:45:03.211Z"
   },
   {
    "duration": 74,
    "start_time": "2022-04-25T17:59:43.274Z"
   },
   {
    "duration": 515,
    "start_time": "2022-04-25T17:59:51.072Z"
   },
   {
    "duration": 136,
    "start_time": "2022-04-25T17:59:51.590Z"
   },
   {
    "duration": 39,
    "start_time": "2022-04-25T17:59:51.728Z"
   },
   {
    "duration": 6,
    "start_time": "2022-04-25T17:59:51.769Z"
   },
   {
    "duration": 13,
    "start_time": "2022-04-25T17:59:51.778Z"
   },
   {
    "duration": 19,
    "start_time": "2022-04-25T17:59:51.793Z"
   },
   {
    "duration": 65,
    "start_time": "2022-04-25T17:59:51.814Z"
   },
   {
    "duration": 20,
    "start_time": "2022-04-25T17:59:51.881Z"
   },
   {
    "duration": 7,
    "start_time": "2022-04-25T17:59:51.903Z"
   },
   {
    "duration": 17,
    "start_time": "2022-04-25T17:59:51.912Z"
   },
   {
    "duration": 18,
    "start_time": "2022-04-25T17:59:51.952Z"
   },
   {
    "duration": 23,
    "start_time": "2022-04-25T17:59:51.972Z"
   },
   {
    "duration": 882,
    "start_time": "2022-04-25T17:59:51.996Z"
   },
   {
    "duration": 0,
    "start_time": "2022-04-25T17:59:52.883Z"
   },
   {
    "duration": 0,
    "start_time": "2022-04-25T17:59:52.884Z"
   },
   {
    "duration": 0,
    "start_time": "2022-04-25T17:59:52.886Z"
   },
   {
    "duration": 0,
    "start_time": "2022-04-25T17:59:52.887Z"
   },
   {
    "duration": 0,
    "start_time": "2022-04-25T17:59:52.889Z"
   },
   {
    "duration": 0,
    "start_time": "2022-04-25T17:59:52.890Z"
   },
   {
    "duration": 0,
    "start_time": "2022-04-25T17:59:52.892Z"
   },
   {
    "duration": 0,
    "start_time": "2022-04-25T17:59:52.893Z"
   },
   {
    "duration": 0,
    "start_time": "2022-04-25T17:59:52.895Z"
   },
   {
    "duration": 0,
    "start_time": "2022-04-25T17:59:52.896Z"
   },
   {
    "duration": 0,
    "start_time": "2022-04-25T17:59:52.897Z"
   },
   {
    "duration": 0,
    "start_time": "2022-04-25T17:59:52.899Z"
   },
   {
    "duration": 0,
    "start_time": "2022-04-25T17:59:52.900Z"
   },
   {
    "duration": 0,
    "start_time": "2022-04-25T17:59:52.902Z"
   },
   {
    "duration": 0,
    "start_time": "2022-04-25T17:59:52.903Z"
   },
   {
    "duration": 0,
    "start_time": "2022-04-25T17:59:52.904Z"
   },
   {
    "duration": 0,
    "start_time": "2022-04-25T17:59:52.906Z"
   },
   {
    "duration": 0,
    "start_time": "2022-04-25T17:59:52.907Z"
   },
   {
    "duration": 0,
    "start_time": "2022-04-25T17:59:52.952Z"
   },
   {
    "duration": 0,
    "start_time": "2022-04-25T17:59:52.953Z"
   },
   {
    "duration": 0,
    "start_time": "2022-04-25T17:59:52.955Z"
   },
   {
    "duration": 0,
    "start_time": "2022-04-25T17:59:52.956Z"
   },
   {
    "duration": 0,
    "start_time": "2022-04-25T17:59:52.958Z"
   },
   {
    "duration": 0,
    "start_time": "2022-04-25T17:59:52.959Z"
   },
   {
    "duration": 0,
    "start_time": "2022-04-25T17:59:52.961Z"
   },
   {
    "duration": 0,
    "start_time": "2022-04-25T17:59:52.962Z"
   },
   {
    "duration": 0,
    "start_time": "2022-04-25T17:59:52.964Z"
   },
   {
    "duration": 0,
    "start_time": "2022-04-25T17:59:52.965Z"
   },
   {
    "duration": 0,
    "start_time": "2022-04-25T17:59:52.967Z"
   },
   {
    "duration": 0,
    "start_time": "2022-04-25T17:59:52.968Z"
   },
   {
    "duration": 235,
    "start_time": "2022-04-25T18:00:25.293Z"
   },
   {
    "duration": 356,
    "start_time": "2022-04-25T18:00:44.996Z"
   },
   {
    "duration": 232,
    "start_time": "2022-04-25T18:01:08.542Z"
   },
   {
    "duration": 12,
    "start_time": "2022-04-25T18:08:11.214Z"
   },
   {
    "duration": 302,
    "start_time": "2022-04-25T18:09:12.012Z"
   },
   {
    "duration": 183,
    "start_time": "2022-04-25T18:10:05.266Z"
   },
   {
    "duration": 241,
    "start_time": "2022-04-25T18:10:27.832Z"
   },
   {
    "duration": 238,
    "start_time": "2022-04-25T18:10:50.746Z"
   },
   {
    "duration": 240,
    "start_time": "2022-04-25T18:11:17.930Z"
   },
   {
    "duration": 259,
    "start_time": "2022-04-25T18:11:55.572Z"
   },
   {
    "duration": 200,
    "start_time": "2022-04-25T18:12:15.531Z"
   },
   {
    "duration": 251,
    "start_time": "2022-04-25T18:12:27.727Z"
   },
   {
    "duration": 14,
    "start_time": "2022-04-25T18:12:57.382Z"
   },
   {
    "duration": 215,
    "start_time": "2022-04-25T18:16:11.649Z"
   },
   {
    "duration": 241,
    "start_time": "2022-04-25T18:16:30.612Z"
   },
   {
    "duration": 11,
    "start_time": "2022-04-25T18:17:11.005Z"
   },
   {
    "duration": 11,
    "start_time": "2022-04-25T18:20:29.951Z"
   },
   {
    "duration": 9,
    "start_time": "2022-04-25T18:22:26.268Z"
   },
   {
    "duration": 21,
    "start_time": "2022-04-25T18:22:33.355Z"
   },
   {
    "duration": 28,
    "start_time": "2022-04-25T18:23:24.670Z"
   },
   {
    "duration": 29,
    "start_time": "2022-04-25T18:23:57.025Z"
   },
   {
    "duration": 10,
    "start_time": "2022-04-25T18:24:32.204Z"
   },
   {
    "duration": 23,
    "start_time": "2022-04-25T18:24:39.215Z"
   },
   {
    "duration": 553,
    "start_time": "2022-04-25T18:24:59.061Z"
   },
   {
    "duration": 134,
    "start_time": "2022-04-25T18:24:59.617Z"
   },
   {
    "duration": 32,
    "start_time": "2022-04-25T18:24:59.753Z"
   },
   {
    "duration": 5,
    "start_time": "2022-04-25T18:24:59.788Z"
   },
   {
    "duration": 9,
    "start_time": "2022-04-25T18:24:59.796Z"
   },
   {
    "duration": 46,
    "start_time": "2022-04-25T18:24:59.808Z"
   },
   {
    "duration": 56,
    "start_time": "2022-04-25T18:24:59.857Z"
   },
   {
    "duration": 49,
    "start_time": "2022-04-25T18:24:59.916Z"
   },
   {
    "duration": 7,
    "start_time": "2022-04-25T18:24:59.967Z"
   },
   {
    "duration": 11,
    "start_time": "2022-04-25T18:24:59.980Z"
   },
   {
    "duration": 8,
    "start_time": "2022-04-25T18:24:59.993Z"
   },
   {
    "duration": 49,
    "start_time": "2022-04-25T18:25:00.003Z"
   },
   {
    "duration": 570,
    "start_time": "2022-04-25T18:25:00.054Z"
   },
   {
    "duration": 25,
    "start_time": "2022-04-25T18:25:00.627Z"
   },
   {
    "duration": 17,
    "start_time": "2022-04-25T18:25:00.654Z"
   },
   {
    "duration": 42,
    "start_time": "2022-04-25T18:25:00.674Z"
   },
   {
    "duration": 30,
    "start_time": "2022-04-25T18:25:00.718Z"
   },
   {
    "duration": 23,
    "start_time": "2022-04-25T18:25:00.751Z"
   },
   {
    "duration": 9,
    "start_time": "2022-04-25T18:25:00.777Z"
   },
   {
    "duration": 45,
    "start_time": "2022-04-25T18:25:00.788Z"
   },
   {
    "duration": 48,
    "start_time": "2022-04-25T18:25:00.836Z"
   },
   {
    "duration": 47,
    "start_time": "2022-04-25T18:25:00.887Z"
   },
   {
    "duration": 8,
    "start_time": "2022-04-25T18:25:00.936Z"
   },
   {
    "duration": 33,
    "start_time": "2022-04-25T18:25:00.946Z"
   },
   {
    "duration": 17,
    "start_time": "2022-04-25T18:25:00.981Z"
   },
   {
    "duration": 14,
    "start_time": "2022-04-25T18:25:01.002Z"
   },
   {
    "duration": 24,
    "start_time": "2022-04-25T18:25:01.018Z"
   },
   {
    "duration": 11,
    "start_time": "2022-04-25T18:25:01.053Z"
   },
   {
    "duration": 16,
    "start_time": "2022-04-25T18:25:01.067Z"
   },
   {
    "duration": 38,
    "start_time": "2022-04-25T18:25:01.085Z"
   },
   {
    "duration": 28,
    "start_time": "2022-04-25T18:25:01.125Z"
   },
   {
    "duration": 32,
    "start_time": "2022-04-25T18:25:01.155Z"
   },
   {
    "duration": 19,
    "start_time": "2022-04-25T18:25:01.189Z"
   },
   {
    "duration": 18,
    "start_time": "2022-04-25T18:25:01.210Z"
   },
   {
    "duration": 45,
    "start_time": "2022-04-25T18:25:01.230Z"
   },
   {
    "duration": 18,
    "start_time": "2022-04-25T18:25:01.277Z"
   },
   {
    "duration": 15,
    "start_time": "2022-04-25T18:25:01.297Z"
   },
   {
    "duration": 19,
    "start_time": "2022-04-25T18:25:01.314Z"
   },
   {
    "duration": 38,
    "start_time": "2022-04-25T18:25:01.352Z"
   },
   {
    "duration": 28,
    "start_time": "2022-04-25T18:25:01.392Z"
   },
   {
    "duration": 72,
    "start_time": "2022-04-25T18:25:01.422Z"
   },
   {
    "duration": 29,
    "start_time": "2022-04-25T18:25:01.496Z"
   },
   {
    "duration": 51,
    "start_time": "2022-04-25T18:25:01.527Z"
   },
   {
    "duration": 5,
    "start_time": "2022-04-25T18:25:26.646Z"
   },
   {
    "duration": 474,
    "start_time": "2022-04-25T19:00:48.685Z"
   },
   {
    "duration": 140,
    "start_time": "2022-04-25T19:00:49.162Z"
   },
   {
    "duration": 33,
    "start_time": "2022-04-25T19:00:49.304Z"
   },
   {
    "duration": 5,
    "start_time": "2022-04-25T19:00:49.352Z"
   },
   {
    "duration": 8,
    "start_time": "2022-04-25T19:00:49.360Z"
   },
   {
    "duration": 11,
    "start_time": "2022-04-25T19:00:49.371Z"
   },
   {
    "duration": 77,
    "start_time": "2022-04-25T19:00:49.384Z"
   },
   {
    "duration": 21,
    "start_time": "2022-04-25T19:00:49.464Z"
   },
   {
    "duration": 8,
    "start_time": "2022-04-25T19:00:49.487Z"
   },
   {
    "duration": 14,
    "start_time": "2022-04-25T19:00:49.499Z"
   },
   {
    "duration": 39,
    "start_time": "2022-04-25T19:00:49.516Z"
   },
   {
    "duration": 7,
    "start_time": "2022-04-25T19:00:49.557Z"
   },
   {
    "duration": 581,
    "start_time": "2022-04-25T19:00:49.567Z"
   },
   {
    "duration": 13,
    "start_time": "2022-04-25T19:00:50.152Z"
   },
   {
    "duration": 10,
    "start_time": "2022-04-25T19:00:50.167Z"
   },
   {
    "duration": 15,
    "start_time": "2022-04-25T19:00:50.179Z"
   },
   {
    "duration": 68,
    "start_time": "2022-04-25T19:00:50.197Z"
   },
   {
    "duration": 23,
    "start_time": "2022-04-25T19:00:50.268Z"
   },
   {
    "duration": 8,
    "start_time": "2022-04-25T19:00:50.294Z"
   },
   {
    "duration": 51,
    "start_time": "2022-04-25T19:00:50.305Z"
   },
   {
    "duration": 32,
    "start_time": "2022-04-25T19:00:50.358Z"
   },
   {
    "duration": 25,
    "start_time": "2022-04-25T19:00:50.392Z"
   },
   {
    "duration": 8,
    "start_time": "2022-04-25T19:00:50.419Z"
   },
   {
    "duration": 19,
    "start_time": "2022-04-25T19:00:50.452Z"
   },
   {
    "duration": 13,
    "start_time": "2022-04-25T19:00:50.473Z"
   },
   {
    "duration": 11,
    "start_time": "2022-04-25T19:00:50.488Z"
   },
   {
    "duration": 27,
    "start_time": "2022-04-25T19:00:50.501Z"
   },
   {
    "duration": 10,
    "start_time": "2022-04-25T19:00:50.553Z"
   },
   {
    "duration": 8,
    "start_time": "2022-04-25T19:00:50.565Z"
   },
   {
    "duration": 30,
    "start_time": "2022-04-25T19:00:50.575Z"
   },
   {
    "duration": 9,
    "start_time": "2022-04-25T19:00:50.608Z"
   },
   {
    "duration": 19,
    "start_time": "2022-04-25T19:00:50.651Z"
   },
   {
    "duration": 18,
    "start_time": "2022-04-25T19:00:50.672Z"
   },
   {
    "duration": 20,
    "start_time": "2022-04-25T19:00:50.692Z"
   },
   {
    "duration": 60,
    "start_time": "2022-04-25T19:00:50.715Z"
   },
   {
    "duration": 12,
    "start_time": "2022-04-25T19:00:50.777Z"
   },
   {
    "duration": 13,
    "start_time": "2022-04-25T19:00:50.791Z"
   },
   {
    "duration": 18,
    "start_time": "2022-04-25T19:00:50.806Z"
   },
   {
    "duration": 55,
    "start_time": "2022-04-25T19:00:50.826Z"
   },
   {
    "duration": 29,
    "start_time": "2022-04-25T19:00:50.883Z"
   },
   {
    "duration": 84,
    "start_time": "2022-04-25T19:00:50.914Z"
   },
   {
    "duration": 28,
    "start_time": "2022-04-25T19:00:51.000Z"
   },
   {
    "duration": 46,
    "start_time": "2022-04-25T19:00:51.031Z"
   },
   {
    "duration": 679,
    "start_time": "2022-04-26T08:37:42.811Z"
   },
   {
    "duration": 245,
    "start_time": "2022-04-26T08:37:43.494Z"
   },
   {
    "duration": 66,
    "start_time": "2022-04-26T08:37:43.742Z"
   },
   {
    "duration": 7,
    "start_time": "2022-04-26T08:37:43.812Z"
   },
   {
    "duration": 10,
    "start_time": "2022-04-26T08:37:43.821Z"
   },
   {
    "duration": 12,
    "start_time": "2022-04-26T08:37:43.833Z"
   },
   {
    "duration": 75,
    "start_time": "2022-04-26T08:37:43.847Z"
   },
   {
    "duration": 21,
    "start_time": "2022-04-26T08:37:43.924Z"
   },
   {
    "duration": 6,
    "start_time": "2022-04-26T08:37:43.947Z"
   },
   {
    "duration": 41,
    "start_time": "2022-04-26T08:37:43.959Z"
   },
   {
    "duration": 12,
    "start_time": "2022-04-26T08:37:44.002Z"
   },
   {
    "duration": 9,
    "start_time": "2022-04-26T08:37:44.016Z"
   },
   {
    "duration": 957,
    "start_time": "2022-04-26T08:37:44.027Z"
   },
   {
    "duration": 17,
    "start_time": "2022-04-26T08:37:44.992Z"
   },
   {
    "duration": 24,
    "start_time": "2022-04-26T08:37:45.011Z"
   },
   {
    "duration": 17,
    "start_time": "2022-04-26T08:37:45.037Z"
   },
   {
    "duration": 45,
    "start_time": "2022-04-26T08:37:45.056Z"
   },
   {
    "duration": 25,
    "start_time": "2022-04-26T08:37:45.104Z"
   },
   {
    "duration": 10,
    "start_time": "2022-04-26T08:37:45.131Z"
   },
   {
    "duration": 54,
    "start_time": "2022-04-26T08:37:45.143Z"
   },
   {
    "duration": 45,
    "start_time": "2022-04-26T08:37:45.199Z"
   },
   {
    "duration": 27,
    "start_time": "2022-04-26T08:37:45.246Z"
   },
   {
    "duration": 25,
    "start_time": "2022-04-26T08:37:45.275Z"
   },
   {
    "duration": 32,
    "start_time": "2022-04-26T08:37:45.302Z"
   },
   {
    "duration": 23,
    "start_time": "2022-04-26T08:37:45.337Z"
   },
   {
    "duration": 23,
    "start_time": "2022-04-26T08:37:45.363Z"
   },
   {
    "duration": 46,
    "start_time": "2022-04-26T08:37:45.389Z"
   },
   {
    "duration": 14,
    "start_time": "2022-04-26T08:37:45.442Z"
   },
   {
    "duration": 7,
    "start_time": "2022-04-26T08:37:45.459Z"
   },
   {
    "duration": 51,
    "start_time": "2022-04-26T08:37:45.468Z"
   },
   {
    "duration": 9,
    "start_time": "2022-04-26T08:37:45.521Z"
   },
   {
    "duration": 25,
    "start_time": "2022-04-26T08:37:45.533Z"
   },
   {
    "duration": 53,
    "start_time": "2022-04-26T08:37:45.560Z"
   },
   {
    "duration": 23,
    "start_time": "2022-04-26T08:37:45.615Z"
   },
   {
    "duration": 51,
    "start_time": "2022-04-26T08:37:45.641Z"
   },
   {
    "duration": 18,
    "start_time": "2022-04-26T08:37:45.695Z"
   },
   {
    "duration": 12,
    "start_time": "2022-04-26T08:37:45.715Z"
   },
   {
    "duration": 19,
    "start_time": "2022-04-26T08:37:45.729Z"
   },
   {
    "duration": 67,
    "start_time": "2022-04-26T08:37:45.750Z"
   },
   {
    "duration": 29,
    "start_time": "2022-04-26T08:37:45.820Z"
   },
   {
    "duration": 76,
    "start_time": "2022-04-26T08:37:45.851Z"
   },
   {
    "duration": 28,
    "start_time": "2022-04-26T08:37:45.930Z"
   },
   {
    "duration": 53,
    "start_time": "2022-04-26T08:37:45.961Z"
   },
   {
    "duration": 225,
    "start_time": "2022-04-26T08:37:46.016Z"
   }
  ],
  "kernelspec": {
   "display_name": "Python 3 (ipykernel)",
   "language": "python",
   "name": "python3"
  },
  "language_info": {
   "codemirror_mode": {
    "name": "ipython",
    "version": 3
   },
   "file_extension": ".py",
   "mimetype": "text/x-python",
   "name": "python",
   "nbconvert_exporter": "python",
   "pygments_lexer": "ipython3",
   "version": "3.9.7"
  },
  "toc": {
   "base_numbering": 1,
   "nav_menu": {
    "height": "170px",
    "width": "247px"
   },
   "number_sections": true,
   "sideBar": true,
   "skip_h1_title": true,
   "title_cell": "Содержание",
   "title_sidebar": "Contents",
   "toc_cell": true,
   "toc_position": {
    "height": "calc(100% - 180px)",
    "left": "10px",
    "top": "150px",
    "width": "366.594px"
   },
   "toc_section_display": true,
   "toc_window_display": true
  }
 },
 "nbformat": 4,
 "nbformat_minor": 5
}
