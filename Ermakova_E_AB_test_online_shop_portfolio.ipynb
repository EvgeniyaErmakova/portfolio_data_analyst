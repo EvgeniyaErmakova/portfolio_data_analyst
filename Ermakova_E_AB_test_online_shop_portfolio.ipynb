{
 "cells": [
  {
   "cell_type": "markdown",
   "id": "3be0a980",
   "metadata": {
    "toc": true
   },
   "source": [
    "<h1>Table of Contents<span class=\"tocSkip\"></span></h1>\n",
    "<div class=\"toc\"><ul class=\"toc-item\"><li><span><a href=\"#Цели-и-описание-проекта\" data-toc-modified-id=\"Цели-и-описание-проекта-1\"><span class=\"toc-item-num\">1&nbsp;&nbsp;</span>Цели и описание проекта</a></span><ul class=\"toc-item\"><li><span><a href=\"#Обзор-и-подготовка-данных\" data-toc-modified-id=\"Обзор-и-подготовка-данных-1.1\"><span class=\"toc-item-num\">1.1&nbsp;&nbsp;</span>Обзор и подготовка данных</a></span></li></ul></li><li><span><a href=\"#Приоретизация-гипотез\" data-toc-modified-id=\"Приоретизация-гипотез-2\"><span class=\"toc-item-num\">2&nbsp;&nbsp;</span>Приоретизация гипотез</a></span></li><li><span><a href=\"#Анализ-результатов-А/В-теста\" data-toc-modified-id=\"Анализ-результатов-А/В-теста-3\"><span class=\"toc-item-num\">3&nbsp;&nbsp;</span>Анализ результатов А/В теста</a></span><ul class=\"toc-item\"><li><span><a href=\"#Проверка-данных\" data-toc-modified-id=\"Проверка-данных-3.1\"><span class=\"toc-item-num\">3.1&nbsp;&nbsp;</span>Проверка данных</a></span></li><li><span><a href=\"#Сбор-кумулятивных-данных\" data-toc-modified-id=\"Сбор-кумулятивных-данных-3.2\"><span class=\"toc-item-num\">3.2&nbsp;&nbsp;</span>Сбор кумулятивных данных</a></span></li><li><span><a href=\"#Визуализация-кумулятивных-данных\" data-toc-modified-id=\"Визуализация-кумулятивных-данных-3.3\"><span class=\"toc-item-num\">3.3&nbsp;&nbsp;</span>Визуализация кумулятивных данных</a></span></li><li><span><a href=\"#Анализ-выбросов\" data-toc-modified-id=\"Анализ-выбросов-3.4\"><span class=\"toc-item-num\">3.4&nbsp;&nbsp;</span>Анализ выбросов</a></span></li><li><span><a href=\"#Статистический-тест\" data-toc-modified-id=\"Статистический-тест-3.5\"><span class=\"toc-item-num\">3.5&nbsp;&nbsp;</span>Статистический тест</a></span><ul class=\"toc-item\"><li><span><a href=\"#Проверка-сырых-данных\" data-toc-modified-id=\"Проверка-сырых-данных-3.5.1\"><span class=\"toc-item-num\">3.5.1&nbsp;&nbsp;</span>Проверка сырых данных</a></span></li><li><span><a href=\"#Проверка-на-очищенных-данных\" data-toc-modified-id=\"Проверка-на-очищенных-данных-3.5.2\"><span class=\"toc-item-num\">3.5.2&nbsp;&nbsp;</span>Проверка на очищенных данных</a></span></li></ul></li></ul></li><li><span><a href=\"#Выводы\" data-toc-modified-id=\"Выводы-4\"><span class=\"toc-item-num\">4&nbsp;&nbsp;</span>Выводы</a></span></li></ul></div>"
   ]
  },
  {
   "cell_type": "markdown",
   "id": "262e0a91",
   "metadata": {},
   "source": [
    "# Принятие решений в бизнесе"
   ]
  },
  {
   "cell_type": "markdown",
   "id": "e9cab405",
   "metadata": {},
   "source": [
    "## Цели и описание проекта"
   ]
  },
  {
   "cell_type": "markdown",
   "id": "ab365af1",
   "metadata": {},
   "source": [
    "Предоставлены данные о заказах и посетителях крупного интернет-магазина. Пользователи в предоставленных данных уже разделены на группы, т.е. предполагается, что проводится оценка до введения изменений и после них. Также есть информация о некоторых маркетинговых активностях, призванных увеличить прибыльность магазина: есть файл с уже оцененными параметрами гипотез (охват, влияние, затраты).  \n",
    "Требуется оценить эффективность проведенных мероприятий, а именно, повлияли ли изменения на пользовательские метрики, такие как средний чек и конверсия."
   ]
  },
  {
   "cell_type": "markdown",
   "id": "c9e65604",
   "metadata": {},
   "source": [
    "### Обзор и подготовка данных"
   ]
  },
  {
   "cell_type": "markdown",
   "id": "841e8880",
   "metadata": {},
   "source": [
    "Импорт библиотек"
   ]
  },
  {
   "cell_type": "code",
   "execution_count": 1,
   "id": "77315170",
   "metadata": {},
   "outputs": [],
   "source": [
    "import pandas as pd\n",
    "import matplotlib\n",
    "from matplotlib import pyplot as plt\n",
    "import numpy as np\n",
    "from scipy import stats as st"
   ]
  },
  {
   "cell_type": "markdown",
   "id": "23257102",
   "metadata": {},
   "source": [
    "Распаковка файла:"
   ]
  },
  {
   "cell_type": "code",
   "execution_count": 2,
   "id": "b33e4fd3",
   "metadata": {},
   "outputs": [],
   "source": [
    "try:\n",
    "    hypothesis = pd.read_csv(r'C:\\Users\\HP\\Desktop\\Yandex Analytics\\Projects\\Project_7_online_shop_AB_test\\hypothesis.csv')\n",
    "except:\n",
    "    hypothesis = pd.read_csv('/datasets/hypothesis.csv')\n",
    "\n",
    "try:\n",
    "    orders = pd.read_csv(r'C:\\Users\\HP\\Desktop\\Yandex Analytics\\Projects\\Project_7_online_shop_AB_test\\orders.csv')\n",
    "except:\n",
    "    orders = pd.read_csv('/datasets/orders.csv')\n",
    "\n",
    "try:\n",
    "    visitors = pd.read_csv(r'C:\\Users\\HP\\Desktop\\Yandex Analytics\\Projects\\Project_7_online_shop_AB_test\\visitors.csv')\n",
    "except:\n",
    "    visitors = pd.read_csv('/datasets/visitors.csv')"
   ]
  },
  {
   "cell_type": "markdown",
   "id": "ee25f4dd",
   "metadata": {},
   "source": [
    "Обзор данных:"
   ]
  },
  {
   "cell_type": "code",
   "execution_count": 3,
   "id": "a2c06f76",
   "metadata": {
    "scrolled": false
   },
   "outputs": [
    {
     "data": {
      "text/html": [
       "<div>\n",
       "<style scoped>\n",
       "    .dataframe tbody tr th:only-of-type {\n",
       "        vertical-align: middle;\n",
       "    }\n",
       "\n",
       "    .dataframe tbody tr th {\n",
       "        vertical-align: top;\n",
       "    }\n",
       "\n",
       "    .dataframe thead th {\n",
       "        text-align: right;\n",
       "    }\n",
       "</style>\n",
       "<table border=\"1\" class=\"dataframe\">\n",
       "  <thead>\n",
       "    <tr style=\"text-align: right;\">\n",
       "      <th></th>\n",
       "      <th>Hypothesis</th>\n",
       "      <th>Reach</th>\n",
       "      <th>Impact</th>\n",
       "      <th>Confidence</th>\n",
       "      <th>Efforts</th>\n",
       "    </tr>\n",
       "  </thead>\n",
       "  <tbody>\n",
       "    <tr>\n",
       "      <th>0</th>\n",
       "      <td>Добавить два новых канала привлечения трафика,...</td>\n",
       "      <td>3</td>\n",
       "      <td>10</td>\n",
       "      <td>8</td>\n",
       "      <td>6</td>\n",
       "    </tr>\n",
       "    <tr>\n",
       "      <th>1</th>\n",
       "      <td>Запустить собственную службу доставки, что сок...</td>\n",
       "      <td>2</td>\n",
       "      <td>5</td>\n",
       "      <td>4</td>\n",
       "      <td>10</td>\n",
       "    </tr>\n",
       "    <tr>\n",
       "      <th>2</th>\n",
       "      <td>Добавить блоки рекомендаций товаров на сайт ин...</td>\n",
       "      <td>8</td>\n",
       "      <td>3</td>\n",
       "      <td>7</td>\n",
       "      <td>3</td>\n",
       "    </tr>\n",
       "    <tr>\n",
       "      <th>3</th>\n",
       "      <td>Изменить структура категорий, что увеличит кон...</td>\n",
       "      <td>8</td>\n",
       "      <td>3</td>\n",
       "      <td>3</td>\n",
       "      <td>8</td>\n",
       "    </tr>\n",
       "    <tr>\n",
       "      <th>4</th>\n",
       "      <td>Изменить цвет фона главной страницы, чтобы уве...</td>\n",
       "      <td>3</td>\n",
       "      <td>1</td>\n",
       "      <td>1</td>\n",
       "      <td>1</td>\n",
       "    </tr>\n",
       "    <tr>\n",
       "      <th>5</th>\n",
       "      <td>Добавить страницу отзывов клиентов о магазине,...</td>\n",
       "      <td>3</td>\n",
       "      <td>2</td>\n",
       "      <td>2</td>\n",
       "      <td>3</td>\n",
       "    </tr>\n",
       "    <tr>\n",
       "      <th>6</th>\n",
       "      <td>Показать на главной странице баннеры с актуаль...</td>\n",
       "      <td>5</td>\n",
       "      <td>3</td>\n",
       "      <td>8</td>\n",
       "      <td>3</td>\n",
       "    </tr>\n",
       "    <tr>\n",
       "      <th>7</th>\n",
       "      <td>Добавить форму подписки на все основные страни...</td>\n",
       "      <td>10</td>\n",
       "      <td>7</td>\n",
       "      <td>8</td>\n",
       "      <td>5</td>\n",
       "    </tr>\n",
       "    <tr>\n",
       "      <th>8</th>\n",
       "      <td>Запустить акцию, дающую скидку на товар в день...</td>\n",
       "      <td>1</td>\n",
       "      <td>9</td>\n",
       "      <td>9</td>\n",
       "      <td>5</td>\n",
       "    </tr>\n",
       "  </tbody>\n",
       "</table>\n",
       "</div>"
      ],
      "text/plain": [
       "                                          Hypothesis  Reach  Impact  \\\n",
       "0  Добавить два новых канала привлечения трафика,...      3      10   \n",
       "1  Запустить собственную службу доставки, что сок...      2       5   \n",
       "2  Добавить блоки рекомендаций товаров на сайт ин...      8       3   \n",
       "3  Изменить структура категорий, что увеличит кон...      8       3   \n",
       "4  Изменить цвет фона главной страницы, чтобы уве...      3       1   \n",
       "5  Добавить страницу отзывов клиентов о магазине,...      3       2   \n",
       "6  Показать на главной странице баннеры с актуаль...      5       3   \n",
       "7  Добавить форму подписки на все основные страни...     10       7   \n",
       "8  Запустить акцию, дающую скидку на товар в день...      1       9   \n",
       "\n",
       "   Confidence  Efforts  \n",
       "0           8        6  \n",
       "1           4       10  \n",
       "2           7        3  \n",
       "3           3        8  \n",
       "4           1        1  \n",
       "5           2        3  \n",
       "6           8        3  \n",
       "7           8        5  \n",
       "8           9        5  "
      ]
     },
     "metadata": {},
     "output_type": "display_data"
    },
    {
     "name": "stdout",
     "output_type": "stream",
     "text": [
      "-------------------------------------------------------------------------------------------------------------------\n",
      "Общая информация\n",
      "<class 'pandas.core.frame.DataFrame'>\n",
      "RangeIndex: 9 entries, 0 to 8\n",
      "Data columns (total 5 columns):\n",
      " #   Column      Non-Null Count  Dtype \n",
      "---  ------      --------------  ----- \n",
      " 0   Hypothesis  9 non-null      object\n",
      " 1   Reach       9 non-null      int64 \n",
      " 2   Impact      9 non-null      int64 \n",
      " 3   Confidence  9 non-null      int64 \n",
      " 4   Efforts     9 non-null      int64 \n",
      "dtypes: int64(4), object(1)\n",
      "memory usage: 488.0+ bytes\n",
      "None\n",
      "-------------------------------------------------------------------------------------------------------------------\n",
      "           Reach     Impact  Confidence    Efforts\n",
      "count   9.000000   9.000000    9.000000   9.000000\n",
      "mean    4.777778   4.777778    5.555556   4.888889\n",
      "std     3.153481   3.192874    3.045944   2.803767\n",
      "min     1.000000   1.000000    1.000000   1.000000\n",
      "25%     3.000000   3.000000    3.000000   3.000000\n",
      "50%     3.000000   3.000000    7.000000   5.000000\n",
      "75%     8.000000   7.000000    8.000000   6.000000\n",
      "max    10.000000  10.000000    9.000000  10.000000\n",
      "-------------------------------------------------------------------------------------------------------------------\n",
      "Количество пропусков\n",
      "Hypothesis    0\n",
      "Reach         0\n",
      "Impact        0\n",
      "Confidence    0\n",
      "Efforts       0\n",
      "dtype: int64\n",
      "Количество дублирующихся строк 0\n"
     ]
    },
    {
     "data": {
      "text/html": [
       "<div>\n",
       "<style scoped>\n",
       "    .dataframe tbody tr th:only-of-type {\n",
       "        vertical-align: middle;\n",
       "    }\n",
       "\n",
       "    .dataframe tbody tr th {\n",
       "        vertical-align: top;\n",
       "    }\n",
       "\n",
       "    .dataframe thead th {\n",
       "        text-align: right;\n",
       "    }\n",
       "</style>\n",
       "<table border=\"1\" class=\"dataframe\">\n",
       "  <thead>\n",
       "    <tr style=\"text-align: right;\">\n",
       "      <th></th>\n",
       "      <th>transactionId</th>\n",
       "      <th>visitorId</th>\n",
       "      <th>date</th>\n",
       "      <th>revenue</th>\n",
       "      <th>group</th>\n",
       "    </tr>\n",
       "  </thead>\n",
       "  <tbody>\n",
       "    <tr>\n",
       "      <th>0</th>\n",
       "      <td>3667963787</td>\n",
       "      <td>3312258926</td>\n",
       "      <td>2019-08-15</td>\n",
       "      <td>1650</td>\n",
       "      <td>B</td>\n",
       "    </tr>\n",
       "    <tr>\n",
       "      <th>1</th>\n",
       "      <td>2804400009</td>\n",
       "      <td>3642806036</td>\n",
       "      <td>2019-08-15</td>\n",
       "      <td>730</td>\n",
       "      <td>B</td>\n",
       "    </tr>\n",
       "    <tr>\n",
       "      <th>2</th>\n",
       "      <td>2961555356</td>\n",
       "      <td>4069496402</td>\n",
       "      <td>2019-08-15</td>\n",
       "      <td>400</td>\n",
       "      <td>A</td>\n",
       "    </tr>\n",
       "    <tr>\n",
       "      <th>3</th>\n",
       "      <td>3797467345</td>\n",
       "      <td>1196621759</td>\n",
       "      <td>2019-08-15</td>\n",
       "      <td>9759</td>\n",
       "      <td>B</td>\n",
       "    </tr>\n",
       "    <tr>\n",
       "      <th>4</th>\n",
       "      <td>2282983706</td>\n",
       "      <td>2322279887</td>\n",
       "      <td>2019-08-15</td>\n",
       "      <td>2308</td>\n",
       "      <td>B</td>\n",
       "    </tr>\n",
       "    <tr>\n",
       "      <th>5</th>\n",
       "      <td>182168103</td>\n",
       "      <td>935554773</td>\n",
       "      <td>2019-08-15</td>\n",
       "      <td>2210</td>\n",
       "      <td>B</td>\n",
       "    </tr>\n",
       "    <tr>\n",
       "      <th>6</th>\n",
       "      <td>398296753</td>\n",
       "      <td>2900797465</td>\n",
       "      <td>2019-08-15</td>\n",
       "      <td>1860</td>\n",
       "      <td>B</td>\n",
       "    </tr>\n",
       "    <tr>\n",
       "      <th>7</th>\n",
       "      <td>2626614568</td>\n",
       "      <td>78758296</td>\n",
       "      <td>2019-08-15</td>\n",
       "      <td>1044</td>\n",
       "      <td>A</td>\n",
       "    </tr>\n",
       "    <tr>\n",
       "      <th>8</th>\n",
       "      <td>1576988021</td>\n",
       "      <td>295230930</td>\n",
       "      <td>2019-08-15</td>\n",
       "      <td>13710</td>\n",
       "      <td>A</td>\n",
       "    </tr>\n",
       "    <tr>\n",
       "      <th>9</th>\n",
       "      <td>1506739906</td>\n",
       "      <td>1882260405</td>\n",
       "      <td>2019-08-15</td>\n",
       "      <td>1855</td>\n",
       "      <td>B</td>\n",
       "    </tr>\n",
       "  </tbody>\n",
       "</table>\n",
       "</div>"
      ],
      "text/plain": [
       "   transactionId   visitorId        date  revenue group\n",
       "0     3667963787  3312258926  2019-08-15     1650     B\n",
       "1     2804400009  3642806036  2019-08-15      730     B\n",
       "2     2961555356  4069496402  2019-08-15      400     A\n",
       "3     3797467345  1196621759  2019-08-15     9759     B\n",
       "4     2282983706  2322279887  2019-08-15     2308     B\n",
       "5      182168103   935554773  2019-08-15     2210     B\n",
       "6      398296753  2900797465  2019-08-15     1860     B\n",
       "7     2626614568    78758296  2019-08-15     1044     A\n",
       "8     1576988021   295230930  2019-08-15    13710     A\n",
       "9     1506739906  1882260405  2019-08-15     1855     B"
      ]
     },
     "metadata": {},
     "output_type": "display_data"
    },
    {
     "name": "stdout",
     "output_type": "stream",
     "text": [
      "-------------------------------------------------------------------------------------------------------------------\n",
      "Общая информация\n",
      "<class 'pandas.core.frame.DataFrame'>\n",
      "RangeIndex: 1197 entries, 0 to 1196\n",
      "Data columns (total 5 columns):\n",
      " #   Column         Non-Null Count  Dtype \n",
      "---  ------         --------------  ----- \n",
      " 0   transactionId  1197 non-null   int64 \n",
      " 1   visitorId      1197 non-null   int64 \n",
      " 2   date           1197 non-null   object\n",
      " 3   revenue        1197 non-null   int64 \n",
      " 4   group          1197 non-null   object\n",
      "dtypes: int64(3), object(2)\n",
      "memory usage: 46.9+ KB\n",
      "None\n",
      "-------------------------------------------------------------------------------------------------------------------\n",
      "       transactionId     visitorId       revenue\n",
      "count   1.197000e+03  1.197000e+03  1.197000e+03\n",
      "mean    2.155621e+09  2.165960e+09  8.348006e+03\n",
      "std     1.229085e+09  1.236014e+09  3.919113e+04\n",
      "min     1.062393e+06  5.114589e+06  5.000000e+01\n",
      "25%     1.166776e+09  1.111826e+09  1.220000e+03\n",
      "50%     2.145194e+09  2.217985e+09  2.978000e+03\n",
      "75%     3.237740e+09  3.177606e+09  8.290000e+03\n",
      "max     4.293856e+09  4.283872e+09  1.294500e+06\n",
      "-------------------------------------------------------------------------------------------------------------------\n",
      "Количество пропусков\n",
      "transactionId    0\n",
      "visitorId        0\n",
      "date             0\n",
      "revenue          0\n",
      "group            0\n",
      "dtype: int64\n",
      "Количество дублирующихся строк 0\n"
     ]
    },
    {
     "data": {
      "text/html": [
       "<div>\n",
       "<style scoped>\n",
       "    .dataframe tbody tr th:only-of-type {\n",
       "        vertical-align: middle;\n",
       "    }\n",
       "\n",
       "    .dataframe tbody tr th {\n",
       "        vertical-align: top;\n",
       "    }\n",
       "\n",
       "    .dataframe thead th {\n",
       "        text-align: right;\n",
       "    }\n",
       "</style>\n",
       "<table border=\"1\" class=\"dataframe\">\n",
       "  <thead>\n",
       "    <tr style=\"text-align: right;\">\n",
       "      <th></th>\n",
       "      <th>date</th>\n",
       "      <th>group</th>\n",
       "      <th>visitors</th>\n",
       "    </tr>\n",
       "  </thead>\n",
       "  <tbody>\n",
       "    <tr>\n",
       "      <th>0</th>\n",
       "      <td>2019-08-01</td>\n",
       "      <td>A</td>\n",
       "      <td>719</td>\n",
       "    </tr>\n",
       "    <tr>\n",
       "      <th>1</th>\n",
       "      <td>2019-08-02</td>\n",
       "      <td>A</td>\n",
       "      <td>619</td>\n",
       "    </tr>\n",
       "    <tr>\n",
       "      <th>2</th>\n",
       "      <td>2019-08-03</td>\n",
       "      <td>A</td>\n",
       "      <td>507</td>\n",
       "    </tr>\n",
       "    <tr>\n",
       "      <th>3</th>\n",
       "      <td>2019-08-04</td>\n",
       "      <td>A</td>\n",
       "      <td>717</td>\n",
       "    </tr>\n",
       "    <tr>\n",
       "      <th>4</th>\n",
       "      <td>2019-08-05</td>\n",
       "      <td>A</td>\n",
       "      <td>756</td>\n",
       "    </tr>\n",
       "    <tr>\n",
       "      <th>5</th>\n",
       "      <td>2019-08-06</td>\n",
       "      <td>A</td>\n",
       "      <td>667</td>\n",
       "    </tr>\n",
       "    <tr>\n",
       "      <th>6</th>\n",
       "      <td>2019-08-07</td>\n",
       "      <td>A</td>\n",
       "      <td>644</td>\n",
       "    </tr>\n",
       "    <tr>\n",
       "      <th>7</th>\n",
       "      <td>2019-08-08</td>\n",
       "      <td>A</td>\n",
       "      <td>610</td>\n",
       "    </tr>\n",
       "    <tr>\n",
       "      <th>8</th>\n",
       "      <td>2019-08-09</td>\n",
       "      <td>A</td>\n",
       "      <td>617</td>\n",
       "    </tr>\n",
       "    <tr>\n",
       "      <th>9</th>\n",
       "      <td>2019-08-10</td>\n",
       "      <td>A</td>\n",
       "      <td>406</td>\n",
       "    </tr>\n",
       "  </tbody>\n",
       "</table>\n",
       "</div>"
      ],
      "text/plain": [
       "         date group  visitors\n",
       "0  2019-08-01     A       719\n",
       "1  2019-08-02     A       619\n",
       "2  2019-08-03     A       507\n",
       "3  2019-08-04     A       717\n",
       "4  2019-08-05     A       756\n",
       "5  2019-08-06     A       667\n",
       "6  2019-08-07     A       644\n",
       "7  2019-08-08     A       610\n",
       "8  2019-08-09     A       617\n",
       "9  2019-08-10     A       406"
      ]
     },
     "metadata": {},
     "output_type": "display_data"
    },
    {
     "name": "stdout",
     "output_type": "stream",
     "text": [
      "-------------------------------------------------------------------------------------------------------------------\n",
      "Общая информация\n",
      "<class 'pandas.core.frame.DataFrame'>\n",
      "RangeIndex: 62 entries, 0 to 61\n",
      "Data columns (total 3 columns):\n",
      " #   Column    Non-Null Count  Dtype \n",
      "---  ------    --------------  ----- \n",
      " 0   date      62 non-null     object\n",
      " 1   group     62 non-null     object\n",
      " 2   visitors  62 non-null     int64 \n",
      "dtypes: int64(1), object(2)\n",
      "memory usage: 1.6+ KB\n",
      "None\n",
      "-------------------------------------------------------------------------------------------------------------------\n",
      "         visitors\n",
      "count   62.000000\n",
      "mean   607.290323\n",
      "std    114.400560\n",
      "min    361.000000\n",
      "25%    534.000000\n",
      "50%    624.500000\n",
      "75%    710.500000\n",
      "max    770.000000\n",
      "-------------------------------------------------------------------------------------------------------------------\n",
      "Количество пропусков\n",
      "date        0\n",
      "group       0\n",
      "visitors    0\n",
      "dtype: int64\n",
      "Количество дублирующихся строк 0\n"
     ]
    }
   ],
   "source": [
    "def prep(data):\n",
    "    '''\n",
    "    Функция для вывода информации о датасете\n",
    "    \n",
    "    Принимает на вход датасет, на выходе выдает 10 первых строк датасета для предварительного просмотра,\n",
    "    выводит общую информацию о количестве строк и типах данных, описание квартилей и средних для числовых значений,\n",
    "    а также считает пропущенные значения и полные дубликаты в случае их наличия.\n",
    "    '''\n",
    "    \n",
    "    display(data.head(10))\n",
    "    print('-------------------------------------------------------------------------------------------------------------------')\n",
    "    print('Общая информация')\n",
    "    print(data.info())\n",
    "    print('-------------------------------------------------------------------------------------------------------------------')\n",
    "    print(data.describe())\n",
    "    print('-------------------------------------------------------------------------------------------------------------------')\n",
    "    print('Количество пропусков')\n",
    "    print(data.isna().sum())\n",
    "    print('Количество дублирующихся строк', data.duplicated().sum())\n",
    "\n",
    "list_of_data = [hypothesis, orders, visitors]\n",
    "\n",
    "for df in list_of_data:\n",
    "    prep(df)"
   ]
  },
  {
   "cell_type": "markdown",
   "id": "52ef3abe",
   "metadata": {},
   "source": [
    "На этапе первичного просмотра видим, что данные уже по большей части подготовлены к анализу, пропусков нет, типы данных корректные, кроме дат. Для дальнейшей работы требуется преобразовать даты в формат `datetime`, а также проверить на наличие выбросов."
   ]
  },
  {
   "cell_type": "markdown",
   "id": "7b90edf1",
   "metadata": {},
   "source": [
    "Для собственного удобства я также преобразую названия столбцов. В таблице с гипотезами приведем названия к нижнему регистру, в таблице с заказами добавим нижнее подчеркивание в составных названиях столбцов."
   ]
  },
  {
   "cell_type": "code",
   "execution_count": 4,
   "id": "def31886",
   "metadata": {},
   "outputs": [],
   "source": [
    "hypothesis.columns = hypothesis.columns.str.lower()\n",
    "orders = orders.rename(columns = {'transactionId': 'transaction_id', 'visitorId': 'visitor_id'})"
   ]
  },
  {
   "cell_type": "markdown",
   "id": "125c455e",
   "metadata": {},
   "source": [
    "Преобразуем даты в формат `date`:"
   ]
  },
  {
   "cell_type": "code",
   "execution_count": 5,
   "id": "b635a6cf",
   "metadata": {},
   "outputs": [],
   "source": [
    "orders['date'] = pd.to_datetime(orders['date'])\n",
    "visitors['date'] = pd.to_datetime(visitors['date'])"
   ]
  },
  {
   "cell_type": "markdown",
   "id": "3365ede0",
   "metadata": {},
   "source": [
    "Сомнения сразу вызывает столбец с выручкой в таблице заказов: в нем есть как очень небольшие значения (400), так и очень большие (13710). В дальнейшем нужно проверить, в каком диапазоне лежит основная масса значений, и отфильтровать выбросы, а пока примем к сведению, что выбросы есть и очистим их позже."
   ]
  },
  {
   "cell_type": "markdown",
   "id": "c7e8d372",
   "metadata": {},
   "source": [
    "## Приоретизация гипотез"
   ]
  },
  {
   "cell_type": "markdown",
   "id": "47581bee",
   "metadata": {},
   "source": [
    "Предоставлен файл с оцененными по параметрам гипотезами, всего их 9. Приоретизируем их с помощью фреймворков ICE и RICE и определим, какие из гипотез являются наиболее значимыми."
   ]
  },
  {
   "cell_type": "markdown",
   "id": "7e8b301c",
   "metadata": {},
   "source": [
    "*ICE и RICE - два фреймворка для принятия решений и оценки гипотез в бизнесе. В каждом из них идеи оцениваются по 3 параметрам (по 4 для RICE):  \n",
    "*- Reach - охват;  \n",
    "*- Impact - влияние на целевой показатель;  \n",
    "*- Confidence - насколько мы уверены, что получим желаемый эффект;  \n",
    "*- Efforts - затраты на реализацию идеи.  \n",
    "Затем находится произведение параметров охвата, влияния и уверенности, и все это делится на усилия по реализации. Фреймворк ICE - это упрощенная вариация RICE. Параметр охвата Reach в нем считается частью Impact.*"
   ]
  },
  {
   "cell_type": "markdown",
   "id": "0809f2ae",
   "metadata": {},
   "source": [
    "Добавим в датафрейм с гипотезами столбцы с оценкой:"
   ]
  },
  {
   "cell_type": "code",
   "execution_count": 6,
   "id": "742ae09b",
   "metadata": {},
   "outputs": [
    {
     "data": {
      "text/html": [
       "<div>\n",
       "<style scoped>\n",
       "    .dataframe tbody tr th:only-of-type {\n",
       "        vertical-align: middle;\n",
       "    }\n",
       "\n",
       "    .dataframe tbody tr th {\n",
       "        vertical-align: top;\n",
       "    }\n",
       "\n",
       "    .dataframe thead th {\n",
       "        text-align: right;\n",
       "    }\n",
       "</style>\n",
       "<table border=\"1\" class=\"dataframe\">\n",
       "  <thead>\n",
       "    <tr style=\"text-align: right;\">\n",
       "      <th></th>\n",
       "      <th>hypothesis</th>\n",
       "      <th>reach</th>\n",
       "      <th>impact</th>\n",
       "      <th>confidence</th>\n",
       "      <th>efforts</th>\n",
       "      <th>ice</th>\n",
       "    </tr>\n",
       "  </thead>\n",
       "  <tbody>\n",
       "    <tr>\n",
       "      <th>8</th>\n",
       "      <td>Запустить акцию, дающую скидку на товар в день рождения</td>\n",
       "      <td>1</td>\n",
       "      <td>9</td>\n",
       "      <td>9</td>\n",
       "      <td>5</td>\n",
       "      <td>16.20</td>\n",
       "    </tr>\n",
       "    <tr>\n",
       "      <th>0</th>\n",
       "      <td>Добавить два новых канала привлечения трафика, что позволит привлекать на 30% больше пользователей</td>\n",
       "      <td>3</td>\n",
       "      <td>10</td>\n",
       "      <td>8</td>\n",
       "      <td>6</td>\n",
       "      <td>13.33</td>\n",
       "    </tr>\n",
       "    <tr>\n",
       "      <th>7</th>\n",
       "      <td>Добавить форму подписки на все основные страницы, чтобы собрать базу клиентов для email-рассылок</td>\n",
       "      <td>10</td>\n",
       "      <td>7</td>\n",
       "      <td>8</td>\n",
       "      <td>5</td>\n",
       "      <td>11.20</td>\n",
       "    </tr>\n",
       "    <tr>\n",
       "      <th>6</th>\n",
       "      <td>Показать на главной странице баннеры с актуальными акциями и распродажами, чтобы увеличить конверсию</td>\n",
       "      <td>5</td>\n",
       "      <td>3</td>\n",
       "      <td>8</td>\n",
       "      <td>3</td>\n",
       "      <td>8.00</td>\n",
       "    </tr>\n",
       "    <tr>\n",
       "      <th>2</th>\n",
       "      <td>Добавить блоки рекомендаций товаров на сайт интернет магазина, чтобы повысить конверсию и средний чек заказа</td>\n",
       "      <td>8</td>\n",
       "      <td>3</td>\n",
       "      <td>7</td>\n",
       "      <td>3</td>\n",
       "      <td>7.00</td>\n",
       "    </tr>\n",
       "    <tr>\n",
       "      <th>1</th>\n",
       "      <td>Запустить собственную службу доставки, что сократит срок доставки заказов</td>\n",
       "      <td>2</td>\n",
       "      <td>5</td>\n",
       "      <td>4</td>\n",
       "      <td>10</td>\n",
       "      <td>2.00</td>\n",
       "    </tr>\n",
       "    <tr>\n",
       "      <th>5</th>\n",
       "      <td>Добавить страницу отзывов клиентов о магазине, что позволит увеличить количество заказов</td>\n",
       "      <td>3</td>\n",
       "      <td>2</td>\n",
       "      <td>2</td>\n",
       "      <td>3</td>\n",
       "      <td>1.33</td>\n",
       "    </tr>\n",
       "    <tr>\n",
       "      <th>3</th>\n",
       "      <td>Изменить структура категорий, что увеличит конверсию, т.к. пользователи быстрее найдут нужный товар</td>\n",
       "      <td>8</td>\n",
       "      <td>3</td>\n",
       "      <td>3</td>\n",
       "      <td>8</td>\n",
       "      <td>1.12</td>\n",
       "    </tr>\n",
       "    <tr>\n",
       "      <th>4</th>\n",
       "      <td>Изменить цвет фона главной страницы, чтобы увеличить вовлеченность пользователей</td>\n",
       "      <td>3</td>\n",
       "      <td>1</td>\n",
       "      <td>1</td>\n",
       "      <td>1</td>\n",
       "      <td>1.00</td>\n",
       "    </tr>\n",
       "  </tbody>\n",
       "</table>\n",
       "</div>"
      ],
      "text/plain": [
       "                                                                                                     hypothesis  \\\n",
       "8                                                       Запустить акцию, дающую скидку на товар в день рождения   \n",
       "0            Добавить два новых канала привлечения трафика, что позволит привлекать на 30% больше пользователей   \n",
       "7              Добавить форму подписки на все основные страницы, чтобы собрать базу клиентов для email-рассылок   \n",
       "6          Показать на главной странице баннеры с актуальными акциями и распродажами, чтобы увеличить конверсию   \n",
       "2  Добавить блоки рекомендаций товаров на сайт интернет магазина, чтобы повысить конверсию и средний чек заказа   \n",
       "1                                     Запустить собственную службу доставки, что сократит срок доставки заказов   \n",
       "5                      Добавить страницу отзывов клиентов о магазине, что позволит увеличить количество заказов   \n",
       "3           Изменить структура категорий, что увеличит конверсию, т.к. пользователи быстрее найдут нужный товар   \n",
       "4                              Изменить цвет фона главной страницы, чтобы увеличить вовлеченность пользователей   \n",
       "\n",
       "   reach  impact  confidence  efforts    ice  \n",
       "8      1       9           9        5  16.20  \n",
       "0      3      10           8        6  13.33  \n",
       "7     10       7           8        5  11.20  \n",
       "6      5       3           8        3   8.00  \n",
       "2      8       3           7        3   7.00  \n",
       "1      2       5           4       10   2.00  \n",
       "5      3       2           2        3   1.33  \n",
       "3      8       3           3        8   1.12  \n",
       "4      3       1           1        1   1.00  "
      ]
     },
     "execution_count": 6,
     "metadata": {},
     "output_type": "execute_result"
    }
   ],
   "source": [
    "# добавляем оценку по методу ICE\n",
    "hypothesis['ice'] = ((hypothesis['impact'] * hypothesis['confidence']) / hypothesis['efforts']).round(2)\n",
    "# зададим максимальную ширину столбцов, чтобы отобразить все данные\n",
    "pd.options.display.max_colwidth = 210\n",
    "hypothesis.sort_values(by='ice', ascending=False)"
   ]
  },
  {
   "cell_type": "markdown",
   "id": "2fd1e6ca",
   "metadata": {},
   "source": [
    "При использовании ICE наиболее приоритетными оказались три гипотезы:"
   ]
  },
  {
   "cell_type": "code",
   "execution_count": 7,
   "id": "ff6160da",
   "metadata": {
    "scrolled": false
   },
   "outputs": [
    {
     "data": {
      "text/html": [
       "<div>\n",
       "<style scoped>\n",
       "    .dataframe tbody tr th:only-of-type {\n",
       "        vertical-align: middle;\n",
       "    }\n",
       "\n",
       "    .dataframe tbody tr th {\n",
       "        vertical-align: top;\n",
       "    }\n",
       "\n",
       "    .dataframe thead th {\n",
       "        text-align: right;\n",
       "    }\n",
       "</style>\n",
       "<table border=\"1\" class=\"dataframe\">\n",
       "  <thead>\n",
       "    <tr style=\"text-align: right;\">\n",
       "      <th></th>\n",
       "      <th>0</th>\n",
       "    </tr>\n",
       "  </thead>\n",
       "  <tbody>\n",
       "    <tr>\n",
       "      <th>0</th>\n",
       "      <td>Запустить акцию, дающую скидку на товар в день рождения</td>\n",
       "    </tr>\n",
       "    <tr>\n",
       "      <th>1</th>\n",
       "      <td>Добавить два новых канала привлечения трафика, что позволит привлекать на 30% больше пользователей</td>\n",
       "    </tr>\n",
       "    <tr>\n",
       "      <th>2</th>\n",
       "      <td>Добавить форму подписки на все основные страницы, чтобы собрать базу клиентов для email-рассылок</td>\n",
       "    </tr>\n",
       "  </tbody>\n",
       "</table>\n",
       "</div>"
      ],
      "text/plain": [
       "                                                                                                    0\n",
       "0                                             Запустить акцию, дающую скидку на товар в день рождения\n",
       "1  Добавить два новых канала привлечения трафика, что позволит привлекать на 30% больше пользователей\n",
       "2    Добавить форму подписки на все основные страницы, чтобы собрать базу клиентов для email-рассылок"
      ]
     },
     "execution_count": 7,
     "metadata": {},
     "output_type": "execute_result"
    }
   ],
   "source": [
    "pd.DataFrame(hypothesis.sort_values(by='ice', ascending=False)['hypothesis'].unique()[0:3])"
   ]
  },
  {
   "cell_type": "markdown",
   "id": "3127de84",
   "metadata": {},
   "source": [
    "Приоритезируем по методу RICE:"
   ]
  },
  {
   "cell_type": "code",
   "execution_count": 8,
   "id": "ab5f107f",
   "metadata": {
    "scrolled": true
   },
   "outputs": [
    {
     "data": {
      "text/html": [
       "<div>\n",
       "<style scoped>\n",
       "    .dataframe tbody tr th:only-of-type {\n",
       "        vertical-align: middle;\n",
       "    }\n",
       "\n",
       "    .dataframe tbody tr th {\n",
       "        vertical-align: top;\n",
       "    }\n",
       "\n",
       "    .dataframe thead th {\n",
       "        text-align: right;\n",
       "    }\n",
       "</style>\n",
       "<table border=\"1\" class=\"dataframe\">\n",
       "  <thead>\n",
       "    <tr style=\"text-align: right;\">\n",
       "      <th></th>\n",
       "      <th>hypothesis</th>\n",
       "      <th>reach</th>\n",
       "      <th>impact</th>\n",
       "      <th>confidence</th>\n",
       "      <th>efforts</th>\n",
       "      <th>ice</th>\n",
       "      <th>rice</th>\n",
       "    </tr>\n",
       "  </thead>\n",
       "  <tbody>\n",
       "    <tr>\n",
       "      <th>7</th>\n",
       "      <td>Добавить форму подписки на все основные страницы, чтобы собрать базу клиентов для email-рассылок</td>\n",
       "      <td>10</td>\n",
       "      <td>7</td>\n",
       "      <td>8</td>\n",
       "      <td>5</td>\n",
       "      <td>11.20</td>\n",
       "      <td>112.0</td>\n",
       "    </tr>\n",
       "    <tr>\n",
       "      <th>2</th>\n",
       "      <td>Добавить блоки рекомендаций товаров на сайт интернет магазина, чтобы повысить конверсию и средний чек заказа</td>\n",
       "      <td>8</td>\n",
       "      <td>3</td>\n",
       "      <td>7</td>\n",
       "      <td>3</td>\n",
       "      <td>7.00</td>\n",
       "      <td>56.0</td>\n",
       "    </tr>\n",
       "    <tr>\n",
       "      <th>0</th>\n",
       "      <td>Добавить два новых канала привлечения трафика, что позволит привлекать на 30% больше пользователей</td>\n",
       "      <td>3</td>\n",
       "      <td>10</td>\n",
       "      <td>8</td>\n",
       "      <td>6</td>\n",
       "      <td>13.33</td>\n",
       "      <td>40.0</td>\n",
       "    </tr>\n",
       "    <tr>\n",
       "      <th>6</th>\n",
       "      <td>Показать на главной странице баннеры с актуальными акциями и распродажами, чтобы увеличить конверсию</td>\n",
       "      <td>5</td>\n",
       "      <td>3</td>\n",
       "      <td>8</td>\n",
       "      <td>3</td>\n",
       "      <td>8.00</td>\n",
       "      <td>40.0</td>\n",
       "    </tr>\n",
       "    <tr>\n",
       "      <th>8</th>\n",
       "      <td>Запустить акцию, дающую скидку на товар в день рождения</td>\n",
       "      <td>1</td>\n",
       "      <td>9</td>\n",
       "      <td>9</td>\n",
       "      <td>5</td>\n",
       "      <td>16.20</td>\n",
       "      <td>16.2</td>\n",
       "    </tr>\n",
       "    <tr>\n",
       "      <th>3</th>\n",
       "      <td>Изменить структура категорий, что увеличит конверсию, т.к. пользователи быстрее найдут нужный товар</td>\n",
       "      <td>8</td>\n",
       "      <td>3</td>\n",
       "      <td>3</td>\n",
       "      <td>8</td>\n",
       "      <td>1.12</td>\n",
       "      <td>9.0</td>\n",
       "    </tr>\n",
       "    <tr>\n",
       "      <th>1</th>\n",
       "      <td>Запустить собственную службу доставки, что сократит срок доставки заказов</td>\n",
       "      <td>2</td>\n",
       "      <td>5</td>\n",
       "      <td>4</td>\n",
       "      <td>10</td>\n",
       "      <td>2.00</td>\n",
       "      <td>4.0</td>\n",
       "    </tr>\n",
       "    <tr>\n",
       "      <th>5</th>\n",
       "      <td>Добавить страницу отзывов клиентов о магазине, что позволит увеличить количество заказов</td>\n",
       "      <td>3</td>\n",
       "      <td>2</td>\n",
       "      <td>2</td>\n",
       "      <td>3</td>\n",
       "      <td>1.33</td>\n",
       "      <td>4.0</td>\n",
       "    </tr>\n",
       "    <tr>\n",
       "      <th>4</th>\n",
       "      <td>Изменить цвет фона главной страницы, чтобы увеличить вовлеченность пользователей</td>\n",
       "      <td>3</td>\n",
       "      <td>1</td>\n",
       "      <td>1</td>\n",
       "      <td>1</td>\n",
       "      <td>1.00</td>\n",
       "      <td>3.0</td>\n",
       "    </tr>\n",
       "  </tbody>\n",
       "</table>\n",
       "</div>"
      ],
      "text/plain": [
       "                                                                                                     hypothesis  \\\n",
       "7              Добавить форму подписки на все основные страницы, чтобы собрать базу клиентов для email-рассылок   \n",
       "2  Добавить блоки рекомендаций товаров на сайт интернет магазина, чтобы повысить конверсию и средний чек заказа   \n",
       "0            Добавить два новых канала привлечения трафика, что позволит привлекать на 30% больше пользователей   \n",
       "6          Показать на главной странице баннеры с актуальными акциями и распродажами, чтобы увеличить конверсию   \n",
       "8                                                       Запустить акцию, дающую скидку на товар в день рождения   \n",
       "3           Изменить структура категорий, что увеличит конверсию, т.к. пользователи быстрее найдут нужный товар   \n",
       "1                                     Запустить собственную службу доставки, что сократит срок доставки заказов   \n",
       "5                      Добавить страницу отзывов клиентов о магазине, что позволит увеличить количество заказов   \n",
       "4                              Изменить цвет фона главной страницы, чтобы увеличить вовлеченность пользователей   \n",
       "\n",
       "   reach  impact  confidence  efforts    ice   rice  \n",
       "7     10       7           8        5  11.20  112.0  \n",
       "2      8       3           7        3   7.00   56.0  \n",
       "0      3      10           8        6  13.33   40.0  \n",
       "6      5       3           8        3   8.00   40.0  \n",
       "8      1       9           9        5  16.20   16.2  \n",
       "3      8       3           3        8   1.12    9.0  \n",
       "1      2       5           4       10   2.00    4.0  \n",
       "5      3       2           2        3   1.33    4.0  \n",
       "4      3       1           1        1   1.00    3.0  "
      ]
     },
     "execution_count": 8,
     "metadata": {},
     "output_type": "execute_result"
    }
   ],
   "source": [
    "# добавляем оценку по методу RICE\n",
    "hypothesis['rice'] = (hypothesis['reach'] * hypothesis['impact'] * hypothesis['confidence']) / hypothesis['efforts']\n",
    "hypothesis.sort_values(by='rice', ascending=False)"
   ]
  },
  {
   "cell_type": "markdown",
   "id": "2e1ea072",
   "metadata": {},
   "source": [
    "В случае с RICE наибольшую оценку получает одна гипотеза из 9. Две следующие гипотезы имеют значительно меньший вес:"
   ]
  },
  {
   "cell_type": "code",
   "execution_count": 9,
   "id": "24576bff",
   "metadata": {},
   "outputs": [
    {
     "data": {
      "text/html": [
       "<div>\n",
       "<style scoped>\n",
       "    .dataframe tbody tr th:only-of-type {\n",
       "        vertical-align: middle;\n",
       "    }\n",
       "\n",
       "    .dataframe tbody tr th {\n",
       "        vertical-align: top;\n",
       "    }\n",
       "\n",
       "    .dataframe thead th {\n",
       "        text-align: right;\n",
       "    }\n",
       "</style>\n",
       "<table border=\"1\" class=\"dataframe\">\n",
       "  <thead>\n",
       "    <tr style=\"text-align: right;\">\n",
       "      <th></th>\n",
       "      <th>0</th>\n",
       "    </tr>\n",
       "  </thead>\n",
       "  <tbody>\n",
       "    <tr>\n",
       "      <th>0</th>\n",
       "      <td>Добавить форму подписки на все основные страницы, чтобы собрать базу клиентов для email-рассылок</td>\n",
       "    </tr>\n",
       "    <tr>\n",
       "      <th>1</th>\n",
       "      <td>Добавить блоки рекомендаций товаров на сайт интернет магазина, чтобы повысить конверсию и средний чек заказа</td>\n",
       "    </tr>\n",
       "    <tr>\n",
       "      <th>2</th>\n",
       "      <td>Добавить два новых канала привлечения трафика, что позволит привлекать на 30% больше пользователей</td>\n",
       "    </tr>\n",
       "  </tbody>\n",
       "</table>\n",
       "</div>"
      ],
      "text/plain": [
       "                                                                                                              0\n",
       "0              Добавить форму подписки на все основные страницы, чтобы собрать базу клиентов для email-рассылок\n",
       "1  Добавить блоки рекомендаций товаров на сайт интернет магазина, чтобы повысить конверсию и средний чек заказа\n",
       "2            Добавить два новых канала привлечения трафика, что позволит привлекать на 30% больше пользователей"
      ]
     },
     "execution_count": 9,
     "metadata": {},
     "output_type": "execute_result"
    }
   ],
   "source": [
    "pd.DataFrame(hypothesis.sort_values(by='rice', ascending=False)['hypothesis'].unique()[0:3])"
   ]
  },
  {
   "cell_type": "markdown",
   "id": "01251c6f",
   "metadata": {},
   "source": [
    "Оценив гипотезы двумя методами, видим, что по наибольшей оценке совпадают две из них:\n",
    "- Добавить форму подписки на все основные страницы, чтобы собрать базу клиентов для email-рассылок;  \n",
    "- Добавить два новых канала привлечения трафика, что позволит привлекать на 30% больше пользователей.  \n",
    "\n",
    "Гипотеза о запуске акции, дающей скидку на товар в день рождения, при оценке методом RICE получила невысокий балл, а гипотеза \"Добавить блоки рекомендаций товаров на сайт интернет магазина, чтобы повысить конверсию и средний чек заказа\" напротив оказалась в лидерах.  \n",
    "Метод RICE помимо влияния на пользователей и уверенности в гипотезе учитывает также охват, т.е. количество пользователей, которых затронут изменения. Соответственно, есть два варианта, почему так могло произойти: либо на реализацию кампании высокие затраты, либо кампания охватывает небольшое количество пользователей.  \n",
    "\n",
    "Вероятно, реализация кампании, дающей скидку в день рождения, достаточно дорогая, поскольку для ее реализации требуется каким-то образом собрать данные о датах рождения пользователей и в дальнейшем хранить и отслеживать их. При этом, как мы помним, к сожалению день рождения только раз в году, а значит, охват будет небольшим.  \n",
    "А вот добавление блока рекомендаций будет распространяться на всех пользователей, при том, что потратиться на его добавление нужно будет разово."
   ]
  },
  {
   "cell_type": "markdown",
   "id": "d5c3d509",
   "metadata": {},
   "source": [
    "## Анализ результатов А/В теста"
   ]
  },
  {
   "cell_type": "markdown",
   "id": "47aa1ed8",
   "metadata": {},
   "source": [
    "Предварительно проверим доступные данные. Поскольку А/В-тесты достаточно сложное и долгое мероприятие, при проведении теста бывает трудно соблюсти все условия. Проверим количество групп, распределение пользователей по группам, а также наличие пересекающихся пользователей в разных группах."
   ]
  },
  {
   "cell_type": "markdown",
   "id": "2b951684",
   "metadata": {},
   "source": [
    "### Проверка данных"
   ]
  },
  {
   "cell_type": "markdown",
   "id": "ac37f047",
   "metadata": {},
   "source": [
    "Подтверждаем количество групп - выведем уникальные значения из столбца `group`:"
   ]
  },
  {
   "cell_type": "code",
   "execution_count": 10,
   "id": "cad5181f",
   "metadata": {},
   "outputs": [
    {
     "name": "stdout",
     "output_type": "stream",
     "text": [
      "Перечень групп: ['B' 'A']\n"
     ]
    }
   ],
   "source": [
    "print('Перечень групп:', orders['group'].unique())"
   ]
  },
  {
   "cell_type": "markdown",
   "id": "cea424f2",
   "metadata": {},
   "source": [
    "Ничего лишнего. Посмотрим на распределение количества пользователей по группам, просуммировав количество пользователей по каждой группе, и рассчитаем доли:"
   ]
  },
  {
   "cell_type": "code",
   "execution_count": 11,
   "id": "88570a5f",
   "metadata": {},
   "outputs": [
    {
     "data": {
      "text/html": [
       "<div>\n",
       "<style scoped>\n",
       "    .dataframe tbody tr th:only-of-type {\n",
       "        vertical-align: middle;\n",
       "    }\n",
       "\n",
       "    .dataframe tbody tr th {\n",
       "        vertical-align: top;\n",
       "    }\n",
       "\n",
       "    .dataframe thead th {\n",
       "        text-align: right;\n",
       "    }\n",
       "</style>\n",
       "<table border=\"1\" class=\"dataframe\">\n",
       "  <thead>\n",
       "    <tr style=\"text-align: right;\">\n",
       "      <th></th>\n",
       "      <th>group</th>\n",
       "      <th>visitor_id</th>\n",
       "      <th>users_ratio</th>\n",
       "    </tr>\n",
       "  </thead>\n",
       "  <tbody>\n",
       "    <tr>\n",
       "      <th>0</th>\n",
       "      <td>A</td>\n",
       "      <td>503</td>\n",
       "      <td>46.189164</td>\n",
       "    </tr>\n",
       "    <tr>\n",
       "      <th>1</th>\n",
       "      <td>B</td>\n",
       "      <td>586</td>\n",
       "      <td>53.810836</td>\n",
       "    </tr>\n",
       "  </tbody>\n",
       "</table>\n",
       "</div>"
      ],
      "text/plain": [
       "  group  visitor_id  users_ratio\n",
       "0     A         503    46.189164\n",
       "1     B         586    53.810836"
      ]
     },
     "execution_count": 11,
     "metadata": {},
     "output_type": "execute_result"
    }
   ],
   "source": [
    "proportion = orders.pivot_table(index='group',\n",
    "                                values = 'visitor_id',\n",
    "                                aggfunc='nunique').reset_index()\n",
    "proportion['users_ratio'] = (proportion['visitor_id'] / proportion['visitor_id'].sum()) * 100\n",
    "proportion"
   ]
  },
  {
   "cell_type": "markdown",
   "id": "3901ec2e",
   "metadata": {},
   "source": [
    "Видим, что количество пользователей по группам отличается на 7%. Проверим, не попадает ли кто-то из пользователей в обе группы. Создаем выборку уникальных id пользователей по группе В, т.к. она получилась больше:"
   ]
  },
  {
   "cell_type": "code",
   "execution_count": 12,
   "id": "21ea1f28",
   "metadata": {},
   "outputs": [],
   "source": [
    "unique_users_b = orders.query('group == \"B\"')['visitor_id'].unique()"
   ]
  },
  {
   "cell_type": "markdown",
   "id": "2d1ff51c",
   "metadata": {},
   "source": [
    "Создаем срез пользователей из группы А, которые попали также в группу В, и находим в этом списке уникальные `id`:"
   ]
  },
  {
   "cell_type": "code",
   "execution_count": 13,
   "id": "da163b0a",
   "metadata": {},
   "outputs": [
    {
     "data": {
      "text/plain": [
       "58"
      ]
     },
     "execution_count": 13,
     "metadata": {},
     "output_type": "execute_result"
    }
   ],
   "source": [
    "duplicates = orders[\n",
    "    np.logical_and(orders['group'] == \"A\",\n",
    "                  orders['visitor_id'].isin(unique_users_b))\n",
    "]\n",
    "\n",
    "duplicates['visitor_id'].nunique()"
   ]
  },
  {
   "cell_type": "markdown",
   "id": "edf1e5be",
   "metadata": {},
   "source": [
    "Вот и нашли 58 пользователей, которые везде поспели. Работа на два фронта до добра не доведет, поэтому удалим эти строки."
   ]
  },
  {
   "cell_type": "code",
   "execution_count": 14,
   "id": "f6e00093",
   "metadata": {},
   "outputs": [],
   "source": [
    "# создаем список\n",
    "emigrants = duplicates['visitor_id'].unique()\n",
    "# фильтруем таблицу заказов\n",
    "orders = orders[~orders['visitor_id'].isin(emigrants)]"
   ]
  },
  {
   "cell_type": "markdown",
   "id": "47ff9fad",
   "metadata": {},
   "source": [
    "Определим даты начала и окончания теста как минимальное и максимальное значение из столбца `date`:"
   ]
  },
  {
   "cell_type": "code",
   "execution_count": 15,
   "id": "ff7af926",
   "metadata": {},
   "outputs": [
    {
     "name": "stdout",
     "output_type": "stream",
     "text": [
      "Дата начала теста: 2019-08-01 00:00:00\n",
      "Дата окончания теста: 2019-08-31 00:00:00\n"
     ]
    }
   ],
   "source": [
    "print('Дата начала теста:', orders['date'].min())\n",
    "print('Дата окончания теста:', orders['date'].max())"
   ]
  },
  {
   "cell_type": "markdown",
   "id": "f4752436",
   "metadata": {},
   "source": [
    "С датами все в порядке, в датафрейме присутствуют данные только за те дни, которые были заявлены."
   ]
  },
  {
   "cell_type": "markdown",
   "id": "3d74b364",
   "metadata": {},
   "source": [
    "### Сбор кумулятивных данных"
   ]
  },
  {
   "cell_type": "markdown",
   "id": "c89c4277",
   "metadata": {},
   "source": [
    "Результаты теста содержатся в таблицах с заказами и посетителями. Для анализа сначала рассчитаем кумулятивную выручку.  \n",
    "Определим период проведения теста: создадим новый датафрейм с датами и группами теста из таблицы с заказами:"
   ]
  },
  {
   "cell_type": "code",
   "execution_count": 16,
   "id": "11626148",
   "metadata": {},
   "outputs": [
    {
     "data": {
      "text/html": [
       "<div>\n",
       "<style scoped>\n",
       "    .dataframe tbody tr th:only-of-type {\n",
       "        vertical-align: middle;\n",
       "    }\n",
       "\n",
       "    .dataframe tbody tr th {\n",
       "        vertical-align: top;\n",
       "    }\n",
       "\n",
       "    .dataframe thead th {\n",
       "        text-align: right;\n",
       "    }\n",
       "</style>\n",
       "<table border=\"1\" class=\"dataframe\">\n",
       "  <thead>\n",
       "    <tr style=\"text-align: right;\">\n",
       "      <th></th>\n",
       "      <th>date</th>\n",
       "      <th>group</th>\n",
       "    </tr>\n",
       "  </thead>\n",
       "  <tbody>\n",
       "    <tr>\n",
       "      <th>0</th>\n",
       "      <td>2019-08-15</td>\n",
       "      <td>B</td>\n",
       "    </tr>\n",
       "    <tr>\n",
       "      <th>7</th>\n",
       "      <td>2019-08-15</td>\n",
       "      <td>A</td>\n",
       "    </tr>\n",
       "    <tr>\n",
       "      <th>45</th>\n",
       "      <td>2019-08-16</td>\n",
       "      <td>A</td>\n",
       "    </tr>\n",
       "    <tr>\n",
       "      <th>47</th>\n",
       "      <td>2019-08-16</td>\n",
       "      <td>B</td>\n",
       "    </tr>\n",
       "    <tr>\n",
       "      <th>55</th>\n",
       "      <td>2019-08-01</td>\n",
       "      <td>A</td>\n",
       "    </tr>\n",
       "    <tr>\n",
       "      <th>...</th>\n",
       "      <td>...</td>\n",
       "      <td>...</td>\n",
       "    </tr>\n",
       "    <tr>\n",
       "      <th>1068</th>\n",
       "      <td>2019-08-12</td>\n",
       "      <td>A</td>\n",
       "    </tr>\n",
       "    <tr>\n",
       "      <th>1114</th>\n",
       "      <td>2019-08-13</td>\n",
       "      <td>B</td>\n",
       "    </tr>\n",
       "    <tr>\n",
       "      <th>1116</th>\n",
       "      <td>2019-08-13</td>\n",
       "      <td>A</td>\n",
       "    </tr>\n",
       "    <tr>\n",
       "      <th>1149</th>\n",
       "      <td>2019-08-14</td>\n",
       "      <td>B</td>\n",
       "    </tr>\n",
       "    <tr>\n",
       "      <th>1150</th>\n",
       "      <td>2019-08-14</td>\n",
       "      <td>A</td>\n",
       "    </tr>\n",
       "  </tbody>\n",
       "</table>\n",
       "<p>62 rows × 2 columns</p>\n",
       "</div>"
      ],
      "text/plain": [
       "           date group\n",
       "0    2019-08-15     B\n",
       "7    2019-08-15     A\n",
       "45   2019-08-16     A\n",
       "47   2019-08-16     B\n",
       "55   2019-08-01     A\n",
       "...         ...   ...\n",
       "1068 2019-08-12     A\n",
       "1114 2019-08-13     B\n",
       "1116 2019-08-13     A\n",
       "1149 2019-08-14     B\n",
       "1150 2019-08-14     A\n",
       "\n",
       "[62 rows x 2 columns]"
      ]
     },
     "execution_count": 16,
     "metadata": {},
     "output_type": "execute_result"
    }
   ],
   "source": [
    "dates = orders[['date', 'group']].drop_duplicates()\n",
    "dates"
   ]
  },
  {
   "cell_type": "markdown",
   "id": "e86c460d",
   "metadata": {},
   "source": [
    "Судя по диапазону дат и количеству строк, тестирование продолжалось 1 месяц в течение августа. Теперь можно подсчитать агрегированное количество посетителей и сумму заказов по дням. Требуется собрать данные по каждому дню отдельно по каждой группе: количество уникальных посетителей, уникальных заказов, сумма выручки.  \n",
    "Соберем данные о заказах в отдельную таблицу. Выберем данные о заказах в период проведения теста и рассчитаем по дням количество транзакций, количество уникальных посетителей и выручку:"
   ]
  },
  {
   "cell_type": "code",
   "execution_count": 17,
   "id": "4a35c2b1",
   "metadata": {
    "scrolled": true
   },
   "outputs": [
    {
     "data": {
      "text/html": [
       "<div>\n",
       "<style scoped>\n",
       "    .dataframe tbody tr th:only-of-type {\n",
       "        vertical-align: middle;\n",
       "    }\n",
       "\n",
       "    .dataframe tbody tr th {\n",
       "        vertical-align: top;\n",
       "    }\n",
       "\n",
       "    .dataframe thead th {\n",
       "        text-align: right;\n",
       "    }\n",
       "</style>\n",
       "<table border=\"1\" class=\"dataframe\">\n",
       "  <thead>\n",
       "    <tr style=\"text-align: right;\">\n",
       "      <th></th>\n",
       "      <th>date</th>\n",
       "      <th>group</th>\n",
       "      <th>transaction_id</th>\n",
       "      <th>visitor_id</th>\n",
       "      <th>revenue</th>\n",
       "    </tr>\n",
       "  </thead>\n",
       "  <tbody>\n",
       "    <tr>\n",
       "      <th>55</th>\n",
       "      <td>2019-08-01</td>\n",
       "      <td>A</td>\n",
       "      <td>23</td>\n",
       "      <td>19</td>\n",
       "      <td>142779</td>\n",
       "    </tr>\n",
       "    <tr>\n",
       "      <th>66</th>\n",
       "      <td>2019-08-01</td>\n",
       "      <td>B</td>\n",
       "      <td>17</td>\n",
       "      <td>17</td>\n",
       "      <td>59758</td>\n",
       "    </tr>\n",
       "    <tr>\n",
       "      <th>175</th>\n",
       "      <td>2019-08-02</td>\n",
       "      <td>A</td>\n",
       "      <td>42</td>\n",
       "      <td>36</td>\n",
       "      <td>234381</td>\n",
       "    </tr>\n",
       "    <tr>\n",
       "      <th>173</th>\n",
       "      <td>2019-08-02</td>\n",
       "      <td>B</td>\n",
       "      <td>40</td>\n",
       "      <td>39</td>\n",
       "      <td>221801</td>\n",
       "    </tr>\n",
       "    <tr>\n",
       "      <th>291</th>\n",
       "      <td>2019-08-03</td>\n",
       "      <td>A</td>\n",
       "      <td>66</td>\n",
       "      <td>60</td>\n",
       "      <td>346854</td>\n",
       "    </tr>\n",
       "  </tbody>\n",
       "</table>\n",
       "</div>"
      ],
      "text/plain": [
       "          date group  transaction_id  visitor_id  revenue\n",
       "55  2019-08-01     A              23          19   142779\n",
       "66  2019-08-01     B              17          17    59758\n",
       "175 2019-08-02     A              42          36   234381\n",
       "173 2019-08-02     B              40          39   221801\n",
       "291 2019-08-03     A              66          60   346854"
      ]
     },
     "execution_count": 17,
     "metadata": {},
     "output_type": "execute_result"
    }
   ],
   "source": [
    "orders_agg = dates.apply(\n",
    "    lambda x: orders[np.logical_and(orders['date'] <= x['date'],\n",
    "                                    orders['group'] == x['group'])].agg({'date': 'max',\n",
    "                                                                         'group': 'max',\n",
    "                                                                         'transaction_id': 'nunique',\n",
    "                                                                         'visitor_id': 'nunique',\n",
    "                                                                         'revenue': 'sum'}), axis=1)\\\n",
    ".sort_values(by=['date', 'group'])\n",
    "orders_agg.head()"
   ]
  },
  {
   "cell_type": "markdown",
   "id": "c492efb2",
   "metadata": {},
   "source": [
    "Аналогичным образом собираем данные об общем количестве посетителей в группе в день:"
   ]
  },
  {
   "cell_type": "code",
   "execution_count": 18,
   "id": "8abaa676",
   "metadata": {},
   "outputs": [
    {
     "data": {
      "text/html": [
       "<div>\n",
       "<style scoped>\n",
       "    .dataframe tbody tr th:only-of-type {\n",
       "        vertical-align: middle;\n",
       "    }\n",
       "\n",
       "    .dataframe tbody tr th {\n",
       "        vertical-align: top;\n",
       "    }\n",
       "\n",
       "    .dataframe thead th {\n",
       "        text-align: right;\n",
       "    }\n",
       "</style>\n",
       "<table border=\"1\" class=\"dataframe\">\n",
       "  <thead>\n",
       "    <tr style=\"text-align: right;\">\n",
       "      <th></th>\n",
       "      <th>date</th>\n",
       "      <th>group</th>\n",
       "      <th>visitors</th>\n",
       "    </tr>\n",
       "  </thead>\n",
       "  <tbody>\n",
       "    <tr>\n",
       "      <th>55</th>\n",
       "      <td>2019-08-01</td>\n",
       "      <td>A</td>\n",
       "      <td>719</td>\n",
       "    </tr>\n",
       "    <tr>\n",
       "      <th>66</th>\n",
       "      <td>2019-08-01</td>\n",
       "      <td>B</td>\n",
       "      <td>713</td>\n",
       "    </tr>\n",
       "    <tr>\n",
       "      <th>175</th>\n",
       "      <td>2019-08-02</td>\n",
       "      <td>A</td>\n",
       "      <td>1338</td>\n",
       "    </tr>\n",
       "    <tr>\n",
       "      <th>173</th>\n",
       "      <td>2019-08-02</td>\n",
       "      <td>B</td>\n",
       "      <td>1294</td>\n",
       "    </tr>\n",
       "    <tr>\n",
       "      <th>291</th>\n",
       "      <td>2019-08-03</td>\n",
       "      <td>A</td>\n",
       "      <td>1845</td>\n",
       "    </tr>\n",
       "  </tbody>\n",
       "</table>\n",
       "</div>"
      ],
      "text/plain": [
       "          date group  visitors\n",
       "55  2019-08-01     A       719\n",
       "66  2019-08-01     B       713\n",
       "175 2019-08-02     A      1338\n",
       "173 2019-08-02     B      1294\n",
       "291 2019-08-03     A      1845"
      ]
     },
     "execution_count": 18,
     "metadata": {},
     "output_type": "execute_result"
    }
   ],
   "source": [
    "visitors_agg = dates.apply(\n",
    "    lambda x: visitors[np.logical_and(visitors['date'] <= x['date'],\n",
    "                                      visitors['group'] == x['group'])].agg({'date': 'max',\n",
    "                                                                             'group': 'max',\n",
    "                                                                             'visitors': 'sum'}), axis=1)\\\n",
    ".sort_values(by=['date', 'group'])\n",
    "visitors_agg.head()"
   ]
  },
  {
   "cell_type": "markdown",
   "id": "3ed5d485",
   "metadata": {},
   "source": [
    "Объединяем таблицы с данными о заказах и посетителях по дате и группе:"
   ]
  },
  {
   "cell_type": "code",
   "execution_count": 19,
   "id": "7df4f200",
   "metadata": {
    "scrolled": true
   },
   "outputs": [
    {
     "data": {
      "text/html": [
       "<div>\n",
       "<style scoped>\n",
       "    .dataframe tbody tr th:only-of-type {\n",
       "        vertical-align: middle;\n",
       "    }\n",
       "\n",
       "    .dataframe tbody tr th {\n",
       "        vertical-align: top;\n",
       "    }\n",
       "\n",
       "    .dataframe thead th {\n",
       "        text-align: right;\n",
       "    }\n",
       "</style>\n",
       "<table border=\"1\" class=\"dataframe\">\n",
       "  <thead>\n",
       "    <tr style=\"text-align: right;\">\n",
       "      <th></th>\n",
       "      <th>date</th>\n",
       "      <th>group</th>\n",
       "      <th>transactions</th>\n",
       "      <th>users</th>\n",
       "      <th>revenue</th>\n",
       "      <th>visitors</th>\n",
       "    </tr>\n",
       "  </thead>\n",
       "  <tbody>\n",
       "    <tr>\n",
       "      <th>0</th>\n",
       "      <td>2019-08-01</td>\n",
       "      <td>A</td>\n",
       "      <td>23</td>\n",
       "      <td>19</td>\n",
       "      <td>142779</td>\n",
       "      <td>719</td>\n",
       "    </tr>\n",
       "    <tr>\n",
       "      <th>1</th>\n",
       "      <td>2019-08-01</td>\n",
       "      <td>B</td>\n",
       "      <td>17</td>\n",
       "      <td>17</td>\n",
       "      <td>59758</td>\n",
       "      <td>713</td>\n",
       "    </tr>\n",
       "    <tr>\n",
       "      <th>2</th>\n",
       "      <td>2019-08-02</td>\n",
       "      <td>A</td>\n",
       "      <td>42</td>\n",
       "      <td>36</td>\n",
       "      <td>234381</td>\n",
       "      <td>1338</td>\n",
       "    </tr>\n",
       "    <tr>\n",
       "      <th>3</th>\n",
       "      <td>2019-08-02</td>\n",
       "      <td>B</td>\n",
       "      <td>40</td>\n",
       "      <td>39</td>\n",
       "      <td>221801</td>\n",
       "      <td>1294</td>\n",
       "    </tr>\n",
       "    <tr>\n",
       "      <th>4</th>\n",
       "      <td>2019-08-03</td>\n",
       "      <td>A</td>\n",
       "      <td>66</td>\n",
       "      <td>60</td>\n",
       "      <td>346854</td>\n",
       "      <td>1845</td>\n",
       "    </tr>\n",
       "  </tbody>\n",
       "</table>\n",
       "</div>"
      ],
      "text/plain": [
       "        date group  transactions  users  revenue  visitors\n",
       "0 2019-08-01     A            23     19   142779       719\n",
       "1 2019-08-01     B            17     17    59758       713\n",
       "2 2019-08-02     A            42     36   234381      1338\n",
       "3 2019-08-02     B            40     39   221801      1294\n",
       "4 2019-08-03     A            66     60   346854      1845"
      ]
     },
     "execution_count": 19,
     "metadata": {},
     "output_type": "execute_result"
    }
   ],
   "source": [
    "orders_agg = orders_agg.merge(visitors_agg, left_on=['date', 'group'], right_on=['date', 'group'])\n",
    "orders_agg = orders_agg.rename(columns={'transaction_id': 'transactions', 'visitor_id': 'users'})\n",
    "orders_agg.head()"
   ]
  },
  {
   "cell_type": "markdown",
   "id": "ce9438d1",
   "metadata": {},
   "source": [
    "### Визуализация кумулятивных данных"
   ]
  },
  {
   "cell_type": "markdown",
   "id": "b1373c10",
   "metadata": {},
   "source": [
    "Проверим, повлияли ли маркетинговые кампании на финансовые показатели. Для этого понадобятся данные о выручке и среднем чеке пользователей. Построим график кумулятивной выручки по группам. Для этого сначала выделим в отдельные датафреймы данные по группам А и В."
   ]
  },
  {
   "cell_type": "code",
   "execution_count": 20,
   "id": "f736c756",
   "metadata": {},
   "outputs": [],
   "source": [
    "orders_agg_a = orders_agg.query('group == \"A\"')[['date', 'revenue', 'transactions']]\n",
    "orders_agg_b = orders_agg.query('group == \"B\"')[['date', 'revenue', 'transactions']]"
   ]
  },
  {
   "cell_type": "markdown",
   "id": "a5b959ea",
   "metadata": {},
   "source": [
    "Строим графики выручки:"
   ]
  },
  {
   "cell_type": "code",
   "execution_count": 21,
   "id": "62c93c9a",
   "metadata": {},
   "outputs": [
    {
     "data": {
      "image/png": "[encoded data removed]",
      "text/plain": [
       "<Figure size 576x576 with 1 Axes>"
      ]
     },
     "metadata": {
      "needs_background": "light"
     },
     "output_type": "display_data"
    }
   ],
   "source": [
    "fig,ax = plt.subplots(figsize=(8,8))\n",
    "plt.plot(orders_agg_a['date'], orders_agg_a['revenue'], label='group A')\n",
    "plt.plot(orders_agg_b['date'], orders_agg_b['revenue'], label='group B')\n",
    "plt.grid()\n",
    "plt.legend()\n",
    "plt.xticks(rotation=45)\n",
    "ax.set_title('График кумулятивной выручки по группам')\n",
    "ax.set_ylabel('Сумма')\n",
    "ax.set_xlabel('Дата')\n",
    "plt.show()"
   ]
  },
  {
   "cell_type": "markdown",
   "id": "2144f321",
   "metadata": {},
   "source": [
    "Видим, что выручка группы В (после изменений) стабильно превышает выручку по группе А, но на графике присутствует резкое увеличение значений в определенной точке из-за выбросов в данных. Проверим, как изменился средний чек. Добавим в таблицы по группам столбец с данными по среднему чеку:"
   ]
  },
  {
   "cell_type": "code",
   "execution_count": 22,
   "id": "eb0a5fc6",
   "metadata": {},
   "outputs": [],
   "source": [
    "orders_agg_a['avg_bill'] = orders_agg['revenue'] / orders_agg_a['transactions']\n",
    "orders_agg_b['avg_bill'] = orders_agg['revenue'] / orders_agg_b['transactions']"
   ]
  },
  {
   "cell_type": "markdown",
   "id": "aca0fae9",
   "metadata": {},
   "source": [
    "Визуализируем динамику по среднему чеку:"
   ]
  },
  {
   "cell_type": "code",
   "execution_count": 23,
   "id": "306fc346",
   "metadata": {
    "scrolled": false
   },
   "outputs": [
    {
     "data": {
      "image/png": "[encoded data removed]",
      "text/plain": [
       "<Figure size 576x576 with 1 Axes>"
      ]
     },
     "metadata": {
      "needs_background": "light"
     },
     "output_type": "display_data"
    }
   ],
   "source": [
    "fig,ax = plt.subplots(figsize=(8,8))\n",
    "plt.plot(orders_agg_a['date'], orders_agg_a['avg_bill'], label='group A')\n",
    "plt.plot(orders_agg_b['date'], orders_agg_b['avg_bill'], label='group B')\n",
    "plt.grid()\n",
    "plt.legend()\n",
    "plt.xticks(rotation=45)\n",
    "ax.set_title('График изменения среднего чека по группам')\n",
    "ax.set_ylabel('Средний чек')\n",
    "ax.set_xlabel('Дата')\n",
    "plt.show()"
   ]
  },
  {
   "cell_type": "markdown",
   "id": "d1c2a93e",
   "metadata": {},
   "source": [
    "Видим, что начиная с середины периода средний чек по обеим группам становится равномерным, и похоже, что по группе В он должен быть немного выше. Однако выбросы и здесь сильно искажают результаты: сложно понять, будет ли лидировать чек по группе В, если устранить точечные крупные заказы.  \n",
    "Рассчитаем относительное изменение среднего чека в группе В по отношению к группе А и построим график. Снова объединим датафреймы по группам и добавим столбец с отношением:"
   ]
  },
  {
   "cell_type": "code",
   "execution_count": 24,
   "id": "1165355f",
   "metadata": {
    "scrolled": true
   },
   "outputs": [
    {
     "data": {
      "text/html": [
       "<div>\n",
       "<style scoped>\n",
       "    .dataframe tbody tr th:only-of-type {\n",
       "        vertical-align: middle;\n",
       "    }\n",
       "\n",
       "    .dataframe tbody tr th {\n",
       "        vertical-align: top;\n",
       "    }\n",
       "\n",
       "    .dataframe thead th {\n",
       "        text-align: right;\n",
       "    }\n",
       "</style>\n",
       "<table border=\"1\" class=\"dataframe\">\n",
       "  <thead>\n",
       "    <tr style=\"text-align: right;\">\n",
       "      <th></th>\n",
       "      <th>date</th>\n",
       "      <th>revenue_a</th>\n",
       "      <th>transactions_a</th>\n",
       "      <th>avg_bill_a</th>\n",
       "      <th>revenue_b</th>\n",
       "      <th>transactions_b</th>\n",
       "      <th>avg_bill_b</th>\n",
       "      <th>relative</th>\n",
       "    </tr>\n",
       "  </thead>\n",
       "  <tbody>\n",
       "    <tr>\n",
       "      <th>0</th>\n",
       "      <td>2019-08-01</td>\n",
       "      <td>142779</td>\n",
       "      <td>23</td>\n",
       "      <td>6207.782609</td>\n",
       "      <td>59758</td>\n",
       "      <td>17</td>\n",
       "      <td>3515.176471</td>\n",
       "      <td>-0.433747</td>\n",
       "    </tr>\n",
       "    <tr>\n",
       "      <th>1</th>\n",
       "      <td>2019-08-02</td>\n",
       "      <td>234381</td>\n",
       "      <td>42</td>\n",
       "      <td>5580.500000</td>\n",
       "      <td>221801</td>\n",
       "      <td>40</td>\n",
       "      <td>5545.025000</td>\n",
       "      <td>-0.006357</td>\n",
       "    </tr>\n",
       "    <tr>\n",
       "      <th>2</th>\n",
       "      <td>2019-08-03</td>\n",
       "      <td>346854</td>\n",
       "      <td>66</td>\n",
       "      <td>5255.363636</td>\n",
       "      <td>288850</td>\n",
       "      <td>54</td>\n",
       "      <td>5349.074074</td>\n",
       "      <td>0.017831</td>\n",
       "    </tr>\n",
       "    <tr>\n",
       "      <th>3</th>\n",
       "      <td>2019-08-04</td>\n",
       "      <td>388030</td>\n",
       "      <td>77</td>\n",
       "      <td>5039.350649</td>\n",
       "      <td>385740</td>\n",
       "      <td>68</td>\n",
       "      <td>5672.647059</td>\n",
       "      <td>0.125670</td>\n",
       "    </tr>\n",
       "    <tr>\n",
       "      <th>4</th>\n",
       "      <td>2019-08-05</td>\n",
       "      <td>474413</td>\n",
       "      <td>99</td>\n",
       "      <td>4792.050505</td>\n",
       "      <td>475648</td>\n",
       "      <td>89</td>\n",
       "      <td>5344.359551</td>\n",
       "      <td>0.115255</td>\n",
       "    </tr>\n",
       "    <tr>\n",
       "      <th>5</th>\n",
       "      <td>2019-08-06</td>\n",
       "      <td>515332</td>\n",
       "      <td>114</td>\n",
       "      <td>4520.456140</td>\n",
       "      <td>690490</td>\n",
       "      <td>112</td>\n",
       "      <td>6165.089286</td>\n",
       "      <td>0.363820</td>\n",
       "    </tr>\n",
       "    <tr>\n",
       "      <th>6</th>\n",
       "      <td>2019-08-07</td>\n",
       "      <td>638580</td>\n",
       "      <td>130</td>\n",
       "      <td>4912.153846</td>\n",
       "      <td>909654</td>\n",
       "      <td>135</td>\n",
       "      <td>6738.177778</td>\n",
       "      <td>0.371736</td>\n",
       "    </tr>\n",
       "    <tr>\n",
       "      <th>7</th>\n",
       "      <td>2019-08-08</td>\n",
       "      <td>727219</td>\n",
       "      <td>144</td>\n",
       "      <td>5050.131944</td>\n",
       "      <td>1059795</td>\n",
       "      <td>157</td>\n",
       "      <td>6750.286624</td>\n",
       "      <td>0.336655</td>\n",
       "    </tr>\n",
       "    <tr>\n",
       "      <th>8</th>\n",
       "      <td>2019-08-09</td>\n",
       "      <td>861456</td>\n",
       "      <td>155</td>\n",
       "      <td>5557.780645</td>\n",
       "      <td>1162961</td>\n",
       "      <td>176</td>\n",
       "      <td>6607.732955</td>\n",
       "      <td>0.188916</td>\n",
       "    </tr>\n",
       "    <tr>\n",
       "      <th>9</th>\n",
       "      <td>2019-08-10</td>\n",
       "      <td>1013731</td>\n",
       "      <td>170</td>\n",
       "      <td>5963.123529</td>\n",
       "      <td>1268123</td>\n",
       "      <td>198</td>\n",
       "      <td>6404.661616</td>\n",
       "      <td>0.074045</td>\n",
       "    </tr>\n",
       "  </tbody>\n",
       "</table>\n",
       "</div>"
      ],
      "text/plain": [
       "        date  revenue_a  transactions_a   avg_bill_a  revenue_b  \\\n",
       "0 2019-08-01     142779              23  6207.782609      59758   \n",
       "1 2019-08-02     234381              42  5580.500000     221801   \n",
       "2 2019-08-03     346854              66  5255.363636     288850   \n",
       "3 2019-08-04     388030              77  5039.350649     385740   \n",
       "4 2019-08-05     474413              99  4792.050505     475648   \n",
       "5 2019-08-06     515332             114  4520.456140     690490   \n",
       "6 2019-08-07     638580             130  4912.153846     909654   \n",
       "7 2019-08-08     727219             144  5050.131944    1059795   \n",
       "8 2019-08-09     861456             155  5557.780645    1162961   \n",
       "9 2019-08-10    1013731             170  5963.123529    1268123   \n",
       "\n",
       "   transactions_b   avg_bill_b  relative  \n",
       "0              17  3515.176471 -0.433747  \n",
       "1              40  5545.025000 -0.006357  \n",
       "2              54  5349.074074  0.017831  \n",
       "3              68  5672.647059  0.125670  \n",
       "4              89  5344.359551  0.115255  \n",
       "5             112  6165.089286  0.363820  \n",
       "6             135  6738.177778  0.371736  \n",
       "7             157  6750.286624  0.336655  \n",
       "8             176  6607.732955  0.188916  \n",
       "9             198  6404.661616  0.074045  "
      ]
     },
     "execution_count": 24,
     "metadata": {},
     "output_type": "execute_result"
    }
   ],
   "source": [
    "orders_agg_merged = orders_agg_a.merge(orders_agg_b,\n",
    "                                       left_on='date',\n",
    "                                       right_on='date', suffixes=['_a', '_b'])\n",
    "\n",
    "orders_agg_merged['relative'] = (orders_agg_merged['avg_bill_b'] / orders_agg_merged['avg_bill_a']) - 1\n",
    "orders_agg_merged.head(10)"
   ]
  },
  {
   "cell_type": "markdown",
   "id": "ba580838",
   "metadata": {},
   "source": [
    "Построим график относительного изменения:"
   ]
  },
  {
   "cell_type": "code",
   "execution_count": 25,
   "id": "e422d148",
   "metadata": {},
   "outputs": [
    {
     "data": {
      "image/png": "[encoded data removed]",
      "text/plain": [
       "<Figure size 576x576 with 1 Axes>"
      ]
     },
     "metadata": {
      "needs_background": "light"
     },
     "output_type": "display_data"
    }
   ],
   "source": [
    "fig,ax = plt.subplots(figsize=(8,8))\n",
    "plt.plot(orders_agg_a['date'], orders_agg_merged['relative'], color='orange')\n",
    "plt.grid()\n",
    "plt.axhline(y=0, color='black', linestyle='--')\n",
    "plt.xticks(rotation=45)\n",
    "ax.set_title('График относительного изменения среднего чека')\n",
    "ax.set_ylabel('Средний чек')\n",
    "ax.set_xlabel('Дата')\n",
    "plt.show()"
   ]
  },
  {
   "cell_type": "markdown",
   "id": "9bef8d3b",
   "metadata": {},
   "source": [
    "И этот график также подтверждает необходимость избавиться от выбросов. Посмотрим, произошло ли что-нибудь с конверсией. Добавим столбец в таблицу с агрегированными данными и снова разобьем на группы:"
   ]
  },
  {
   "cell_type": "code",
   "execution_count": 26,
   "id": "0d034c41",
   "metadata": {},
   "outputs": [],
   "source": [
    "orders_agg['conversion'] = orders_agg['transactions'] / orders_agg['visitors']"
   ]
  },
  {
   "cell_type": "code",
   "execution_count": 27,
   "id": "10cb5f95",
   "metadata": {},
   "outputs": [],
   "source": [
    "orders_a = orders_agg.query('group == \"A\"')\n",
    "orders_b = orders_agg.query('group == \"B\"')"
   ]
  },
  {
   "cell_type": "code",
   "execution_count": 28,
   "id": "fb166794",
   "metadata": {},
   "outputs": [
    {
     "data": {
      "image/png": "[encoded data removed]",
      "text/plain": [
       "<Figure size 576x576 with 1 Axes>"
      ]
     },
     "metadata": {
      "needs_background": "light"
     },
     "output_type": "display_data"
    }
   ],
   "source": [
    "fig,ax = plt.subplots(figsize=(8,8))\n",
    "plt.plot(orders_a['date'], orders_a['conversion'], label='group A')\n",
    "plt.plot(orders_b['date'], orders_b['conversion'], label='group B')\n",
    "plt.grid()\n",
    "plt.legend()\n",
    "plt.xticks(rotation=45)\n",
    "ax.set_title('График изменения конверсии по группам')\n",
    "ax.set_ylabel('Конверсия')\n",
    "ax.set_xlabel('Дата')\n",
    "plt.show()"
   ]
  },
  {
   "cell_type": "markdown",
   "id": "efd84bb8",
   "metadata": {},
   "source": [
    "Конверсии по группам практически сразу разошлись, при этом в целом конверсия группы В (0,34) выше, чем А (0,3), что также говорит о положительных изменениях. Также проанализируем относительное изменение конверсии:"
   ]
  },
  {
   "cell_type": "code",
   "execution_count": 29,
   "id": "5b05760a",
   "metadata": {},
   "outputs": [
    {
     "data": {
      "text/html": [
       "<div>\n",
       "<style scoped>\n",
       "    .dataframe tbody tr th:only-of-type {\n",
       "        vertical-align: middle;\n",
       "    }\n",
       "\n",
       "    .dataframe tbody tr th {\n",
       "        vertical-align: top;\n",
       "    }\n",
       "\n",
       "    .dataframe thead th {\n",
       "        text-align: right;\n",
       "    }\n",
       "</style>\n",
       "<table border=\"1\" class=\"dataframe\">\n",
       "  <thead>\n",
       "    <tr style=\"text-align: right;\">\n",
       "      <th></th>\n",
       "      <th>date</th>\n",
       "      <th>conversion_a</th>\n",
       "      <th>conversion_b</th>\n",
       "      <th>relative</th>\n",
       "    </tr>\n",
       "  </thead>\n",
       "  <tbody>\n",
       "    <tr>\n",
       "      <th>0</th>\n",
       "      <td>2019-08-01</td>\n",
       "      <td>0.031989</td>\n",
       "      <td>0.023843</td>\n",
       "      <td>-0.254650</td>\n",
       "    </tr>\n",
       "    <tr>\n",
       "      <th>1</th>\n",
       "      <td>2019-08-02</td>\n",
       "      <td>0.031390</td>\n",
       "      <td>0.030912</td>\n",
       "      <td>-0.015235</td>\n",
       "    </tr>\n",
       "    <tr>\n",
       "      <th>2</th>\n",
       "      <td>2019-08-03</td>\n",
       "      <td>0.035772</td>\n",
       "      <td>0.029950</td>\n",
       "      <td>-0.162759</td>\n",
       "    </tr>\n",
       "    <tr>\n",
       "      <th>3</th>\n",
       "      <td>2019-08-04</td>\n",
       "      <td>0.030055</td>\n",
       "      <td>0.026428</td>\n",
       "      <td>-0.120659</td>\n",
       "    </tr>\n",
       "    <tr>\n",
       "      <th>4</th>\n",
       "      <td>2019-08-05</td>\n",
       "      <td>0.029837</td>\n",
       "      <td>0.027134</td>\n",
       "      <td>-0.090595</td>\n",
       "    </tr>\n",
       "  </tbody>\n",
       "</table>\n",
       "</div>"
      ],
      "text/plain": [
       "        date  conversion_a  conversion_b  relative\n",
       "0 2019-08-01      0.031989      0.023843 -0.254650\n",
       "1 2019-08-02      0.031390      0.030912 -0.015235\n",
       "2 2019-08-03      0.035772      0.029950 -0.162759\n",
       "3 2019-08-04      0.030055      0.026428 -0.120659\n",
       "4 2019-08-05      0.029837      0.027134 -0.090595"
      ]
     },
     "execution_count": 29,
     "metadata": {},
     "output_type": "execute_result"
    }
   ],
   "source": [
    "conversion_merged = orders_a[['date', 'conversion']].merge(orders_b[['date', 'conversion']],\n",
    "                                                           left_on='date',\n",
    "                                                           right_on='date',\n",
    "                                                           suffixes=['_a', '_b'])\n",
    "\n",
    "conversion_merged['relative'] = (conversion_merged['conversion_b'] / conversion_merged['conversion_a']) - 1\n",
    "conversion_merged.head()"
   ]
  },
  {
   "cell_type": "code",
   "execution_count": 30,
   "id": "643ea3de",
   "metadata": {},
   "outputs": [
    {
     "data": {
      "image/png": "[encoded data removed]",
      "text/plain": [
       "<Figure size 576x576 with 1 Axes>"
      ]
     },
     "metadata": {
      "needs_background": "light"
     },
     "output_type": "display_data"
    }
   ],
   "source": [
    "fig,ax = plt.subplots(figsize=(8,8))\n",
    "plt.plot(conversion_merged['date'], conversion_merged['relative'], color='orange')\n",
    "plt.grid()\n",
    "plt.axhline(y=0, color='black', linestyle='--')\n",
    "plt.xticks(rotation=45)\n",
    "ax.set_title('График относительного изменения конверсии')\n",
    "ax.set_ylabel('Конверсия')\n",
    "ax.set_xlabel('Дата')\n",
    "plt.show()"
   ]
  },
  {
   "cell_type": "markdown",
   "id": "44ad3920",
   "metadata": {},
   "source": [
    "Конверсия группы В значительно возросла относительно конверсии группы А в определенный момент, некоторое время росла, но ближе к концу теста видим постепенное снижение. Также есть резкий скачок конверсии в самом начале, на что опять же могут влиять выбросы в данных.  \n",
    "Очистим данные и проверим, насколько значительно изменятся результаты."
   ]
  },
  {
   "cell_type": "markdown",
   "id": "9b439212",
   "metadata": {},
   "source": [
    "### Анализ выбросов"
   ]
  },
  {
   "cell_type": "markdown",
   "id": "1d892c3d",
   "metadata": {},
   "source": [
    "Как выяснили ранее, искать выбросы нужно среди стоимости заказов. Посчитаем количество заказов по пользователям и построим график:"
   ]
  },
  {
   "cell_type": "code",
   "execution_count": 31,
   "id": "cdc71137",
   "metadata": {},
   "outputs": [
    {
     "data": {
      "text/html": [
       "<div>\n",
       "<style scoped>\n",
       "    .dataframe tbody tr th:only-of-type {\n",
       "        vertical-align: middle;\n",
       "    }\n",
       "\n",
       "    .dataframe tbody tr th {\n",
       "        vertical-align: top;\n",
       "    }\n",
       "\n",
       "    .dataframe thead th {\n",
       "        text-align: right;\n",
       "    }\n",
       "</style>\n",
       "<table border=\"1\" class=\"dataframe\">\n",
       "  <thead>\n",
       "    <tr style=\"text-align: right;\">\n",
       "      <th></th>\n",
       "      <th>user</th>\n",
       "      <th>order</th>\n",
       "    </tr>\n",
       "  </thead>\n",
       "  <tbody>\n",
       "    <tr>\n",
       "      <th>0</th>\n",
       "      <td>5114589</td>\n",
       "      <td>1</td>\n",
       "    </tr>\n",
       "    <tr>\n",
       "      <th>1</th>\n",
       "      <td>6958315</td>\n",
       "      <td>1</td>\n",
       "    </tr>\n",
       "    <tr>\n",
       "      <th>2</th>\n",
       "      <td>11685486</td>\n",
       "      <td>1</td>\n",
       "    </tr>\n",
       "    <tr>\n",
       "      <th>3</th>\n",
       "      <td>39475350</td>\n",
       "      <td>1</td>\n",
       "    </tr>\n",
       "    <tr>\n",
       "      <th>4</th>\n",
       "      <td>47206413</td>\n",
       "      <td>1</td>\n",
       "    </tr>\n",
       "  </tbody>\n",
       "</table>\n",
       "</div>"
      ],
      "text/plain": [
       "       user  order\n",
       "0   5114589      1\n",
       "1   6958315      1\n",
       "2  11685486      1\n",
       "3  39475350      1\n",
       "4  47206413      1"
      ]
     },
     "execution_count": 31,
     "metadata": {},
     "output_type": "execute_result"
    }
   ],
   "source": [
    "orders_by_users = orders.groupby(by='visitor_id').agg({'transaction_id': 'nunique'}).reset_index()\n",
    "orders_by_users.columns = ['user', 'order']\n",
    "orders_by_users.head()"
   ]
  },
  {
   "cell_type": "code",
   "execution_count": 32,
   "id": "9cbf8de4",
   "metadata": {
    "scrolled": false
   },
   "outputs": [
    {
     "data": {
      "image/png": "[encoded data removed]",
      "text/plain": [
       "<Figure size 576x576 with 1 Axes>"
      ]
     },
     "metadata": {
      "needs_background": "light"
     },
     "output_type": "display_data"
    }
   ],
   "source": [
    "fig,ax = plt.subplots(figsize=(8,8))\n",
    "x_values = pd.Series(range(0,len(orders_by_users['order'])))\n",
    "plt.scatter(x_values, orders_by_users['order'], color='orange')\n",
    "plt.grid()\n",
    "ax.set_title('Количество заказов по пользователям')\n",
    "ax.set_ylabel('Количество заказов')\n",
    "ax.set_xlabel('Пользователи')\n",
    "plt.show()"
   ]
  },
  {
   "cell_type": "markdown",
   "id": "86abb07c",
   "metadata": {},
   "source": [
    "Большая часть пользователей делает заказ однократно, и основная масса заказов лежит в пределах от 1 до 2. Также есть некоторая часть пользователей, сделавших 3 заказа, но по графику сложно понять, насколько их много.  \n",
    "Выведем доли пользователей по количеству сделанных заказов:"
   ]
  },
  {
   "cell_type": "code",
   "execution_count": 33,
   "id": "0db192ba",
   "metadata": {},
   "outputs": [
    {
     "data": {
      "text/html": [
       "<div>\n",
       "<style scoped>\n",
       "    .dataframe tbody tr th:only-of-type {\n",
       "        vertical-align: middle;\n",
       "    }\n",
       "\n",
       "    .dataframe tbody tr th {\n",
       "        vertical-align: top;\n",
       "    }\n",
       "\n",
       "    .dataframe thead th {\n",
       "        text-align: right;\n",
       "    }\n",
       "</style>\n",
       "<table border=\"1\" class=\"dataframe\">\n",
       "  <thead>\n",
       "    <tr style=\"text-align: right;\">\n",
       "      <th></th>\n",
       "      <th>order</th>\n",
       "      <th>user</th>\n",
       "      <th>ratio</th>\n",
       "    </tr>\n",
       "  </thead>\n",
       "  <tbody>\n",
       "    <tr>\n",
       "      <th>0</th>\n",
       "      <td>1</td>\n",
       "      <td>937</td>\n",
       "      <td>96.300103</td>\n",
       "    </tr>\n",
       "    <tr>\n",
       "      <th>1</th>\n",
       "      <td>2</td>\n",
       "      <td>29</td>\n",
       "      <td>2.980473</td>\n",
       "    </tr>\n",
       "    <tr>\n",
       "      <th>2</th>\n",
       "      <td>3</td>\n",
       "      <td>7</td>\n",
       "      <td>0.719424</td>\n",
       "    </tr>\n",
       "  </tbody>\n",
       "</table>\n",
       "</div>"
      ],
      "text/plain": [
       "   order  user      ratio\n",
       "0      1   937  96.300103\n",
       "1      2    29   2.980473\n",
       "2      3     7   0.719424"
      ]
     },
     "execution_count": 33,
     "metadata": {},
     "output_type": "execute_result"
    }
   ],
   "source": [
    "orders_ratio = orders_by_users.pivot_table(index='order',\n",
    "                                           aggfunc='count').reset_index()\n",
    "orders_ratio['ratio'] = (orders_ratio['user'] / orders_ratio['user'].sum()) * 100\n",
    "orders_ratio"
   ]
  },
  {
   "cell_type": "markdown",
   "id": "a7735800",
   "metadata": {},
   "source": [
    "Для определения допустимого диапазона данных, которые можно отфильтровать, используем перцентили:"
   ]
  },
  {
   "cell_type": "code",
   "execution_count": 34,
   "id": "3121bcdf",
   "metadata": {},
   "outputs": [
    {
     "name": "stdout",
     "output_type": "stream",
     "text": [
      "[1. 2.]\n"
     ]
    }
   ],
   "source": [
    "print(np.percentile(orders_by_users['order'], [95, 99]))"
   ]
  },
  {
   "cell_type": "markdown",
   "id": "8d47e02e",
   "metadata": {},
   "source": [
    "Основная масса пользователей, а именно 99% делает не более двух заказов, всех остальных можно отсеять.  \n",
    "Теперь проанализируем данные по стоимости заказов. Построим точечную диаграмму:"
   ]
  },
  {
   "cell_type": "code",
   "execution_count": 35,
   "id": "f7851338",
   "metadata": {},
   "outputs": [
    {
     "data": {
      "image/png": "[encoded data removed]",
      "text/plain": [
       "<Figure size 576x576 with 1 Axes>"
      ]
     },
     "metadata": {
      "needs_background": "light"
     },
     "output_type": "display_data"
    }
   ],
   "source": [
    "fig,ax = plt.subplots(figsize=(8,8))\n",
    "x_values = pd.Series(range(0,len(orders['revenue'])))\n",
    "plt.scatter(x_values, orders['revenue'], color='orange')\n",
    "plt.grid()\n",
    "ax.set_title('Матрица рассеяния распределения выручки')\n",
    "ax.set_ylabel('Сумма')\n",
    "ax.set_xlabel('Количество заказов')\n",
    "plt.show()"
   ]
  },
  {
   "cell_type": "markdown",
   "id": "45e78fa8",
   "metadata": {},
   "source": [
    "Сложно что-либо оценить, кроме того, что сумма выручки с основной массы заказов невелика) Если очень хорошо присмотреться, то увидим, что есть точечные заказы на крупные суммы.  \n",
    "Функция describe в данном случае также не слишком поможет, хотя она и показывает распределение по квартилям:"
   ]
  },
  {
   "cell_type": "code",
   "execution_count": 36,
   "id": "1e448506",
   "metadata": {
    "scrolled": true
   },
   "outputs": [
    {
     "data": {
      "text/plain": [
       "count    1.016000e+03\n",
       "mean     8.300815e+03\n",
       "std      4.212199e+04\n",
       "min      5.000000e+01\n",
       "25%      1.190000e+03\n",
       "50%      2.955000e+03\n",
       "75%      8.134250e+03\n",
       "max      1.294500e+06\n",
       "Name: revenue, dtype: float64"
      ]
     },
     "execution_count": 36,
     "metadata": {},
     "output_type": "execute_result"
    }
   ],
   "source": [
    "orders['revenue'].describe()"
   ]
  },
  {
   "cell_type": "markdown",
   "id": "4651b0bf",
   "metadata": {},
   "source": [
    "Выведем отдельно максимальное, минимальное и среднее значение выручки для наглядности:"
   ]
  },
  {
   "cell_type": "code",
   "execution_count": 37,
   "id": "97055a63",
   "metadata": {},
   "outputs": [
    {
     "name": "stdout",
     "output_type": "stream",
     "text": [
      "Минимальная сумма заказа: 50\n",
      "Максимальная сумма заказа: 1294500\n",
      "Среднее значение суммы заказа: 8300.814960629921\n",
      "Медианное значение суммы заказа: 2955.0\n"
     ]
    }
   ],
   "source": [
    "print('Минимальная сумма заказа:', orders['revenue'].min())\n",
    "print('Максимальная сумма заказа:', orders['revenue'].max())\n",
    "print('Среднее значение суммы заказа:', orders['revenue'].mean())\n",
    "print('Медианное значение суммы заказа:', orders['revenue'].median())"
   ]
  },
  {
   "cell_type": "markdown",
   "id": "413c2d27",
   "metadata": {},
   "source": [
    "Определим диапазон значений с помощью `percentile`:"
   ]
  },
  {
   "cell_type": "code",
   "execution_count": 38,
   "id": "c8a8a14f",
   "metadata": {},
   "outputs": [
    {
     "name": "stdout",
     "output_type": "stream",
     "text": [
      "[26785. 53904.]\n"
     ]
    }
   ],
   "source": [
    "print(np.percentile(orders['revenue'], [95,99]))"
   ]
  },
  {
   "cell_type": "markdown",
   "id": "162ab6af",
   "metadata": {},
   "source": [
    "Итак, 5% значений с выручкой более 26 785 руб, а 1% значений - более 53 904 руб. Наконец очистим данные:"
   ]
  },
  {
   "cell_type": "code",
   "execution_count": 39,
   "id": "dcf376ad",
   "metadata": {},
   "outputs": [
    {
     "data": {
      "text/plain": [
       "(965, 5)"
      ]
     },
     "execution_count": 39,
     "metadata": {},
     "output_type": "execute_result"
    }
   ],
   "source": [
    "orders_filtered = orders.query('revenue < 26785')\n",
    "orders_filtered.shape"
   ]
  },
  {
   "cell_type": "code",
   "execution_count": 40,
   "id": "70eb97a7",
   "metadata": {},
   "outputs": [
    {
     "name": "stdout",
     "output_type": "stream",
     "text": [
      "Среднее значение после очистки: 5035.3637305699485\n",
      "Медианное значение после очистки: 2670.0\n"
     ]
    }
   ],
   "source": [
    "print('Среднее значение после очистки:', orders_filtered['revenue'].mean())\n",
    "print('Медианное значение после очистки:', orders_filtered['revenue'].median())"
   ]
  },
  {
   "cell_type": "markdown",
   "id": "39e56054",
   "metadata": {},
   "source": [
    "Разница в средних значениях очевидна, а медиана практически не сместилась. Проверим, есть ли различия в сырых и очищенных данных с помощью статистического теста."
   ]
  },
  {
   "cell_type": "markdown",
   "id": "54882335",
   "metadata": {},
   "source": [
    "### Статистический тест"
   ]
  },
  {
   "cell_type": "markdown",
   "id": "1af3a100",
   "metadata": {},
   "source": [
    "#### Проверка сырых данных"
   ]
  },
  {
   "cell_type": "markdown",
   "id": "5f13015d",
   "metadata": {},
   "source": [
    "Проведем статистический тест Манна-Уитни для проверки значимости различий в конверсии и среднем чеке между группами. Для начала определим, насколько значительна разница, на сырых данных.  \n",
    "Проверим гипотезу о различии конверсии между группами:\n",
    "- Н0: статистически значимых различий между группами нет (показатели равны);\n",
    "- Н1: статистически значимые различия между группами есть.  \n",
    "\n",
    "Соберем новые датафреймы с кумулятивным количеством посетителей по дням для каждой группы:"
   ]
  },
  {
   "cell_type": "code",
   "execution_count": 41,
   "id": "f2f0b68d",
   "metadata": {
    "scrolled": false
   },
   "outputs": [
    {
     "data": {
      "text/html": [
       "<div>\n",
       "<style scoped>\n",
       "    .dataframe tbody tr th:only-of-type {\n",
       "        vertical-align: middle;\n",
       "    }\n",
       "\n",
       "    .dataframe tbody tr th {\n",
       "        vertical-align: top;\n",
       "    }\n",
       "\n",
       "    .dataframe thead th {\n",
       "        text-align: right;\n",
       "    }\n",
       "</style>\n",
       "<table border=\"1\" class=\"dataframe\">\n",
       "  <thead>\n",
       "    <tr style=\"text-align: right;\">\n",
       "      <th></th>\n",
       "      <th>date</th>\n",
       "      <th>cumulative_visitors_a</th>\n",
       "    </tr>\n",
       "  </thead>\n",
       "  <tbody>\n",
       "    <tr>\n",
       "      <th>0</th>\n",
       "      <td>2019-08-01</td>\n",
       "      <td>719</td>\n",
       "    </tr>\n",
       "    <tr>\n",
       "      <th>1</th>\n",
       "      <td>2019-08-02</td>\n",
       "      <td>1338</td>\n",
       "    </tr>\n",
       "    <tr>\n",
       "      <th>2</th>\n",
       "      <td>2019-08-03</td>\n",
       "      <td>1845</td>\n",
       "    </tr>\n",
       "    <tr>\n",
       "      <th>3</th>\n",
       "      <td>2019-08-04</td>\n",
       "      <td>2562</td>\n",
       "    </tr>\n",
       "    <tr>\n",
       "      <th>4</th>\n",
       "      <td>2019-08-05</td>\n",
       "      <td>3318</td>\n",
       "    </tr>\n",
       "  </tbody>\n",
       "</table>\n",
       "</div>"
      ],
      "text/plain": [
       "        date  cumulative_visitors_a\n",
       "0 2019-08-01                    719\n",
       "1 2019-08-02                   1338\n",
       "2 2019-08-03                   1845\n",
       "3 2019-08-04                   2562\n",
       "4 2019-08-05                   3318"
      ]
     },
     "execution_count": 41,
     "metadata": {},
     "output_type": "execute_result"
    }
   ],
   "source": [
    "# делаем срез по группам из исходной таблицы с визитами\n",
    "daily_visitors_a = visitors.query('group == \"A\"')[['date', 'visitors']]\n",
    "daily_visitors_a.columns = ['date', 'daily_visitors_a']\n",
    "daily_visitors_b = visitors.query('group == \"B\"')[['date', 'visitors']]\n",
    "daily_visitors_b.columns = ['date', 'daily_visitors_b']\n",
    "\n",
    "# считаем кумулятивное количество посетителей по дням\n",
    "cumulative_visitors_a = daily_visitors_a.apply(\n",
    "    lambda x: daily_visitors_a[daily_visitors_a['date'] <= x['date']]\\\n",
    "                                              .agg({'date': 'max','daily_visitors_a': 'sum'}), axis=1)\n",
    "cumulative_visitors_a = cumulative_visitors_a.rename(columns={'daily_visitors_a': 'cumulative_visitors_a'})\n",
    "\n",
    "cumulative_visitors_b = daily_visitors_b.apply(\n",
    "    lambda x: daily_visitors_b[daily_visitors_b['date'] <= x['date']]\\\n",
    "                                              .agg({'date': 'max', 'daily_visitors_b': 'sum'}), axis=1)\n",
    "cumulative_visitors_b = cumulative_visitors_b.rename(columns={'daily_visitors_b': 'cumulative_visitors_b'})\n",
    "cumulative_visitors_a.head()"
   ]
  },
  {
   "cell_type": "markdown",
   "id": "4c5e6a75",
   "metadata": {},
   "source": [
    "Сумма заказов по дням для каждой группы у нас уже есть в таблице `orders_agg_merged`. Сделаем срез из этой таблицы:"
   ]
  },
  {
   "cell_type": "code",
   "execution_count": 42,
   "id": "c6eee55e",
   "metadata": {},
   "outputs": [
    {
     "data": {
      "text/html": [
       "<div>\n",
       "<style scoped>\n",
       "    .dataframe tbody tr th:only-of-type {\n",
       "        vertical-align: middle;\n",
       "    }\n",
       "\n",
       "    .dataframe tbody tr th {\n",
       "        vertical-align: top;\n",
       "    }\n",
       "\n",
       "    .dataframe thead th {\n",
       "        text-align: right;\n",
       "    }\n",
       "</style>\n",
       "<table border=\"1\" class=\"dataframe\">\n",
       "  <thead>\n",
       "    <tr style=\"text-align: right;\">\n",
       "      <th></th>\n",
       "      <th>date</th>\n",
       "      <th>orders_per_day_a</th>\n",
       "      <th>revenue_per_day_a</th>\n",
       "    </tr>\n",
       "  </thead>\n",
       "  <tbody>\n",
       "    <tr>\n",
       "      <th>0</th>\n",
       "      <td>2019-08-01</td>\n",
       "      <td>23</td>\n",
       "      <td>142779</td>\n",
       "    </tr>\n",
       "    <tr>\n",
       "      <th>1</th>\n",
       "      <td>2019-08-02</td>\n",
       "      <td>42</td>\n",
       "      <td>234381</td>\n",
       "    </tr>\n",
       "    <tr>\n",
       "      <th>2</th>\n",
       "      <td>2019-08-03</td>\n",
       "      <td>66</td>\n",
       "      <td>346854</td>\n",
       "    </tr>\n",
       "    <tr>\n",
       "      <th>3</th>\n",
       "      <td>2019-08-04</td>\n",
       "      <td>77</td>\n",
       "      <td>388030</td>\n",
       "    </tr>\n",
       "    <tr>\n",
       "      <th>4</th>\n",
       "      <td>2019-08-05</td>\n",
       "      <td>99</td>\n",
       "      <td>474413</td>\n",
       "    </tr>\n",
       "  </tbody>\n",
       "</table>\n",
       "</div>"
      ],
      "text/plain": [
       "        date  orders_per_day_a  revenue_per_day_a\n",
       "0 2019-08-01                23             142779\n",
       "1 2019-08-02                42             234381\n",
       "2 2019-08-03                66             346854\n",
       "3 2019-08-04                77             388030\n",
       "4 2019-08-05                99             474413"
      ]
     },
     "execution_count": 42,
     "metadata": {},
     "output_type": "execute_result"
    }
   ],
   "source": [
    "daily_orders_a = orders_agg_merged[['date', 'transactions_a', 'revenue_a']]\n",
    "daily_orders_a.columns = ['date', 'orders_per_day_a', 'revenue_per_day_a']\n",
    "daily_orders_b = orders_agg_merged[['date', 'transactions_b', 'revenue_b']]\n",
    "daily_orders_b.columns = ['date', 'orders_per_day_b', 'revenue_per_day_b']\n",
    "daily_orders_a.head()"
   ]
  },
  {
   "cell_type": "markdown",
   "id": "3fb1d09f",
   "metadata": {},
   "source": [
    "Посчитаем кумулятивную сумму заказов по группам А и В:"
   ]
  },
  {
   "cell_type": "code",
   "execution_count": 43,
   "id": "46b4c750",
   "metadata": {},
   "outputs": [
    {
     "data": {
      "text/html": [
       "<div>\n",
       "<style scoped>\n",
       "    .dataframe tbody tr th:only-of-type {\n",
       "        vertical-align: middle;\n",
       "    }\n",
       "\n",
       "    .dataframe tbody tr th {\n",
       "        vertical-align: top;\n",
       "    }\n",
       "\n",
       "    .dataframe thead th {\n",
       "        text-align: right;\n",
       "    }\n",
       "</style>\n",
       "<table border=\"1\" class=\"dataframe\">\n",
       "  <thead>\n",
       "    <tr style=\"text-align: right;\">\n",
       "      <th></th>\n",
       "      <th>date</th>\n",
       "      <th>cumulative_orders_a</th>\n",
       "      <th>cumulative_revenue_a</th>\n",
       "    </tr>\n",
       "  </thead>\n",
       "  <tbody>\n",
       "    <tr>\n",
       "      <th>0</th>\n",
       "      <td>2019-08-01</td>\n",
       "      <td>23</td>\n",
       "      <td>142779</td>\n",
       "    </tr>\n",
       "    <tr>\n",
       "      <th>1</th>\n",
       "      <td>2019-08-02</td>\n",
       "      <td>65</td>\n",
       "      <td>377160</td>\n",
       "    </tr>\n",
       "    <tr>\n",
       "      <th>2</th>\n",
       "      <td>2019-08-03</td>\n",
       "      <td>131</td>\n",
       "      <td>724014</td>\n",
       "    </tr>\n",
       "    <tr>\n",
       "      <th>3</th>\n",
       "      <td>2019-08-04</td>\n",
       "      <td>208</td>\n",
       "      <td>1112044</td>\n",
       "    </tr>\n",
       "    <tr>\n",
       "      <th>4</th>\n",
       "      <td>2019-08-05</td>\n",
       "      <td>307</td>\n",
       "      <td>1586457</td>\n",
       "    </tr>\n",
       "  </tbody>\n",
       "</table>\n",
       "</div>"
      ],
      "text/plain": [
       "        date  cumulative_orders_a  cumulative_revenue_a\n",
       "0 2019-08-01                   23                142779\n",
       "1 2019-08-02                   65                377160\n",
       "2 2019-08-03                  131                724014\n",
       "3 2019-08-04                  208               1112044\n",
       "4 2019-08-05                  307               1586457"
      ]
     },
     "execution_count": 43,
     "metadata": {},
     "output_type": "execute_result"
    }
   ],
   "source": [
    "cumulative_orders_a = daily_orders_a.apply(lambda x: daily_orders_a[daily_orders_a['date'] <= x['date']]\\\n",
    "                                          .agg({'date': 'max', 'orders_per_day_a': 'sum', 'revenue_per_day_a': 'sum'}), axis=1)\n",
    "cumulative_orders_a.columns = ['date', 'cumulative_orders_a', 'cumulative_revenue_a']\n",
    "\n",
    "cumulative_orders_b = daily_orders_b.apply(lambda x: daily_orders_b[daily_orders_b['date'] <= x['date']]\\\n",
    "                                          .agg({'date': 'max', 'orders_per_day_b': 'sum', 'revenue_per_day_b': 'sum'}), axis=1)\n",
    "cumulative_orders_b.columns = ['date', 'cumulative_orders_b', 'cumulative_revenue_b']\n",
    "cumulative_orders_a.head()"
   ]
  },
  {
   "cell_type": "markdown",
   "id": "ede07945",
   "metadata": {},
   "source": [
    "Объединим все полученные таблицы в один датафрейм. Последовательно присоединим все датафреймы по дате сначала для группы А, затем для В:"
   ]
  },
  {
   "cell_type": "code",
   "execution_count": 44,
   "id": "07f5f011",
   "metadata": {},
   "outputs": [],
   "source": [
    "raw_data = cumulative_visitors_a.merge(daily_orders_a, left_on = 'date', right_on = 'date', how = 'left')\\\n",
    ".merge(cumulative_orders_a, left_on='date', right_on='date', how='left')\\\n",
    ".merge(daily_visitors_a, left_on='date', right_on='date', how='left')\\\n",
    ".merge(cumulative_visitors_b, left_on = 'date', right_on = 'date', how = 'left')\\\n",
    ".merge(daily_orders_b, left_on = 'date', right_on = 'date', how = 'left')\\\n",
    ".merge(cumulative_orders_b, left_on='date', right_on='date', how='left')\\\n",
    ".merge(daily_visitors_b, left_on='date', right_on='date', how='left')"
   ]
  },
  {
   "cell_type": "code",
   "execution_count": 45,
   "id": "3f2909db",
   "metadata": {},
   "outputs": [
    {
     "data": {
      "text/html": [
       "<div>\n",
       "<style scoped>\n",
       "    .dataframe tbody tr th:only-of-type {\n",
       "        vertical-align: middle;\n",
       "    }\n",
       "\n",
       "    .dataframe tbody tr th {\n",
       "        vertical-align: top;\n",
       "    }\n",
       "\n",
       "    .dataframe thead th {\n",
       "        text-align: right;\n",
       "    }\n",
       "</style>\n",
       "<table border=\"1\" class=\"dataframe\">\n",
       "  <thead>\n",
       "    <tr style=\"text-align: right;\">\n",
       "      <th></th>\n",
       "      <th>date</th>\n",
       "      <th>cumulative_visitors_a</th>\n",
       "      <th>orders_per_day_a</th>\n",
       "      <th>revenue_per_day_a</th>\n",
       "      <th>cumulative_orders_a</th>\n",
       "      <th>cumulative_revenue_a</th>\n",
       "      <th>daily_visitors_a</th>\n",
       "      <th>cumulative_visitors_b</th>\n",
       "      <th>orders_per_day_b</th>\n",
       "      <th>revenue_per_day_b</th>\n",
       "      <th>cumulative_orders_b</th>\n",
       "      <th>cumulative_revenue_b</th>\n",
       "      <th>daily_visitors_b</th>\n",
       "    </tr>\n",
       "  </thead>\n",
       "  <tbody>\n",
       "    <tr>\n",
       "      <th>0</th>\n",
       "      <td>2019-08-01</td>\n",
       "      <td>719</td>\n",
       "      <td>23</td>\n",
       "      <td>142779</td>\n",
       "      <td>23</td>\n",
       "      <td>142779</td>\n",
       "      <td>719</td>\n",
       "      <td>713</td>\n",
       "      <td>17</td>\n",
       "      <td>59758</td>\n",
       "      <td>17</td>\n",
       "      <td>59758</td>\n",
       "      <td>713</td>\n",
       "    </tr>\n",
       "    <tr>\n",
       "      <th>1</th>\n",
       "      <td>2019-08-02</td>\n",
       "      <td>1338</td>\n",
       "      <td>42</td>\n",
       "      <td>234381</td>\n",
       "      <td>65</td>\n",
       "      <td>377160</td>\n",
       "      <td>619</td>\n",
       "      <td>1294</td>\n",
       "      <td>40</td>\n",
       "      <td>221801</td>\n",
       "      <td>57</td>\n",
       "      <td>281559</td>\n",
       "      <td>581</td>\n",
       "    </tr>\n",
       "    <tr>\n",
       "      <th>2</th>\n",
       "      <td>2019-08-03</td>\n",
       "      <td>1845</td>\n",
       "      <td>66</td>\n",
       "      <td>346854</td>\n",
       "      <td>131</td>\n",
       "      <td>724014</td>\n",
       "      <td>507</td>\n",
       "      <td>1803</td>\n",
       "      <td>54</td>\n",
       "      <td>288850</td>\n",
       "      <td>111</td>\n",
       "      <td>570409</td>\n",
       "      <td>509</td>\n",
       "    </tr>\n",
       "    <tr>\n",
       "      <th>3</th>\n",
       "      <td>2019-08-04</td>\n",
       "      <td>2562</td>\n",
       "      <td>77</td>\n",
       "      <td>388030</td>\n",
       "      <td>208</td>\n",
       "      <td>1112044</td>\n",
       "      <td>717</td>\n",
       "      <td>2573</td>\n",
       "      <td>68</td>\n",
       "      <td>385740</td>\n",
       "      <td>179</td>\n",
       "      <td>956149</td>\n",
       "      <td>770</td>\n",
       "    </tr>\n",
       "    <tr>\n",
       "      <th>4</th>\n",
       "      <td>2019-08-05</td>\n",
       "      <td>3318</td>\n",
       "      <td>99</td>\n",
       "      <td>474413</td>\n",
       "      <td>307</td>\n",
       "      <td>1586457</td>\n",
       "      <td>756</td>\n",
       "      <td>3280</td>\n",
       "      <td>89</td>\n",
       "      <td>475648</td>\n",
       "      <td>268</td>\n",
       "      <td>1431797</td>\n",
       "      <td>707</td>\n",
       "    </tr>\n",
       "  </tbody>\n",
       "</table>\n",
       "</div>"
      ],
      "text/plain": [
       "        date  cumulative_visitors_a  orders_per_day_a  revenue_per_day_a  \\\n",
       "0 2019-08-01                    719                23             142779   \n",
       "1 2019-08-02                   1338                42             234381   \n",
       "2 2019-08-03                   1845                66             346854   \n",
       "3 2019-08-04                   2562                77             388030   \n",
       "4 2019-08-05                   3318                99             474413   \n",
       "\n",
       "   cumulative_orders_a  cumulative_revenue_a  daily_visitors_a  \\\n",
       "0                   23                142779               719   \n",
       "1                   65                377160               619   \n",
       "2                  131                724014               507   \n",
       "3                  208               1112044               717   \n",
       "4                  307               1586457               756   \n",
       "\n",
       "   cumulative_visitors_b  orders_per_day_b  revenue_per_day_b  \\\n",
       "0                    713                17              59758   \n",
       "1                   1294                40             221801   \n",
       "2                   1803                54             288850   \n",
       "3                   2573                68             385740   \n",
       "4                   3280                89             475648   \n",
       "\n",
       "   cumulative_orders_b  cumulative_revenue_b  daily_visitors_b  \n",
       "0                   17                 59758               713  \n",
       "1                   57                281559               581  \n",
       "2                  111                570409               509  \n",
       "3                  179                956149               770  \n",
       "4                  268               1431797               707  "
      ]
     },
     "execution_count": 45,
     "metadata": {},
     "output_type": "execute_result"
    }
   ],
   "source": [
    "raw_data.head()"
   ]
  },
  {
   "cell_type": "markdown",
   "id": "2250d307",
   "metadata": {},
   "source": [
    "Создадим выборки для групп А и В. Сначала отдельно посчитаем количество заказов по каждому пользователю отдельно по каждой группе:"
   ]
  },
  {
   "cell_type": "code",
   "execution_count": 46,
   "id": "e8741704",
   "metadata": {},
   "outputs": [],
   "source": [
    "orders_by_users_a = orders.query('group == \"A\"').groupby(by='visitor_id').agg({'transaction_id': 'nunique'}).reset_index()\n",
    "orders_by_users_a.columns = ['user', 'orders_by_users_a']"
   ]
  },
  {
   "cell_type": "code",
   "execution_count": 47,
   "id": "fd2ea651",
   "metadata": {},
   "outputs": [],
   "source": [
    "orders_by_users_b = orders.query('group == \"B\"').groupby(by='visitor_id').agg({'transaction_id': 'nunique'}).reset_index()\n",
    "orders_by_users_b.columns = ['user', 'orders_by_users_b']"
   ]
  },
  {
   "cell_type": "markdown",
   "id": "9b6c90fc",
   "metadata": {},
   "source": [
    "Для проверки критерием Манна-Уитни нужно создать выборку, в которой будет только количество заказов пользователей. Учтем пользователей, которые посещали магазин, но ничего не заказывали. Их ID будут в таблице с визитами, но не будет в таблице с заказами, соответственно, данные о заказах для таких пользователей нужно заполнить 0 по количеству пользователей.  \n",
    "Создадим выборки для каждой группы. Добавим туда данные о заказах пользователей - возьмем только столбец с количеством заказов. Для пользователей, которые ничего не заказывали, рассчитаем их количество как разницу между посетителями в день и покупателями:"
   ]
  },
  {
   "cell_type": "code",
   "execution_count": 48,
   "id": "26b0d683",
   "metadata": {
    "scrolled": true
   },
   "outputs": [],
   "source": [
    "sample_a = pd.concat(\n",
    "    [orders_by_users_a['orders_by_users_a'],\n",
    "     pd.Series(\n",
    "         0, index=np.arange(raw_data['daily_visitors_a'].sum() - len(orders_by_users_a['orders_by_users_a'])\n",
    "                           ), name='orders')], axis=0)"
   ]
  },
  {
   "cell_type": "code",
   "execution_count": 49,
   "id": "343d8341",
   "metadata": {},
   "outputs": [],
   "source": [
    "sample_b = pd.concat(\n",
    "    [orders_by_users_b['orders_by_users_b'],\n",
    "     pd.Series(\n",
    "         0, index=np.arange(raw_data['daily_visitors_b'].sum() - len(orders_by_users_b['orders_by_users_b'])\n",
    "                           ), name='orders')], axis=0)"
   ]
  },
  {
   "cell_type": "code",
   "execution_count": 50,
   "id": "848b341d",
   "metadata": {},
   "outputs": [
    {
     "data": {
      "text/plain": [
       "0    1\n",
       "1    1\n",
       "2    1\n",
       "3    1\n",
       "4    1\n",
       "dtype: int64"
      ]
     },
     "execution_count": 50,
     "metadata": {},
     "output_type": "execute_result"
    }
   ],
   "source": [
    "sample_a.head()"
   ]
  },
  {
   "cell_type": "markdown",
   "id": "9de8b78f",
   "metadata": {},
   "source": [
    "Для каждой группы получили выборку, в которой число записей равно количеству пользователей, а сумма - числу заказов. По сути конверсия отражает, какое количество посетителей перешло в покупателей, т.е. ее можно рассчитать как сумму заказов деленную на количество строк. Для такого расчета подойдет расчет среднего. Вычислим относительный прирост конверсии в группе В относительно группы А:"
   ]
  },
  {
   "cell_type": "code",
   "execution_count": 51,
   "id": "083e65d2",
   "metadata": {},
   "outputs": [
    {
     "data": {
      "text/plain": [
       "0.1597977924896936"
      ]
     },
     "execution_count": 51,
     "metadata": {},
     "output_type": "execute_result"
    }
   ],
   "source": [
    "relative_increment = (sample_b.mean() / sample_a.mean()) - 1\n",
    "relative_increment"
   ]
  },
  {
   "cell_type": "markdown",
   "id": "4727951a",
   "metadata": {},
   "source": [
    "Относительный прирост конверсии в группе В - 15,9%. Примем уровень значимости 0,05 и проведем статистический тест:"
   ]
  },
  {
   "cell_type": "code",
   "execution_count": 52,
   "id": "4cd5a1fa",
   "metadata": {},
   "outputs": [
    {
     "name": "stdout",
     "output_type": "stream",
     "text": [
      "0.011\n"
     ]
    }
   ],
   "source": [
    "print(\"{0:.3f}\".format(st.mannwhitneyu(sample_a, sample_b)[1]))"
   ]
  },
  {
   "cell_type": "markdown",
   "id": "89aa02d2",
   "metadata": {},
   "source": [
    "Получили p-value, которое значительно ниже уровня статистической значимости, т.е. нулевую гипотезу о том, что различий в конверсии между группами нет, следует отвергнуть. Об этом также говорит относительный прирост конверсии в 13,8%."
   ]
  },
  {
   "cell_type": "markdown",
   "id": "6a2709ed",
   "metadata": {},
   "source": [
    "Проверим, есть ли различия в среднем чеке. Гипотезы:\n",
    "- Н0: статистически значимых различий между группами нет (показатели равны);\n",
    "- Н1: статистически значимые различия между группами есть.  "
   ]
  },
  {
   "cell_type": "code",
   "execution_count": 53,
   "id": "95ad128f",
   "metadata": {
    "scrolled": true
   },
   "outputs": [
    {
     "name": "stdout",
     "output_type": "stream",
     "text": [
      "p-value: 0.829\n",
      "Относительный прирост среднего чека: 0.287\n"
     ]
    }
   ],
   "source": [
    "print('p-value:',\\\n",
    "      '{0:.3f}'.format(st.mannwhitneyu(orders.query('group == \"A\"')['revenue'], orders.query('group == \"B\"')['revenue'])[1]))\n",
    "print('Относительный прирост среднего чека:',\\\n",
    "      '{0:.3f}'.format(orders.query('group == \"B\"')['revenue'].mean()/orders.query('group == \"A\"')['revenue'].mean()-1))"
   ]
  },
  {
   "cell_type": "markdown",
   "id": "23c65c0a",
   "metadata": {},
   "source": [
    "Полученный результат говорит, что нулевую гипотезу об отсутствии различий в среднем чеке не следует отвергать: p-value значительно выше установленного уровня значимости. Однако относительный прирост среднего чека в группе В составляет 21,4%. Проверим, так ли это на очищенных от выбросов данных."
   ]
  },
  {
   "cell_type": "markdown",
   "id": "ba114bb2",
   "metadata": {},
   "source": [
    "#### Проверка на очищенных данных"
   ]
  },
  {
   "cell_type": "markdown",
   "id": "a1ee4aff",
   "metadata": {},
   "source": [
    "В предыдущем пункте установили границы допустимых значений:\n",
    "- не более 2-х заказов на одного пользователя;\n",
    "- сумма заказа не более 28 000;\n",
    "\n",
    "Избавимся от аномалий и повторно проведем тест. Соберем данные об аномалиях в отдельный список. Объединяем данные о заказах из датафреймов с количеством заказов на пользователя по группам:"
   ]
  },
  {
   "cell_type": "code",
   "execution_count": 54,
   "id": "1819e670",
   "metadata": {},
   "outputs": [],
   "source": [
    "abnormal_users = pd.concat([orders_by_users_a.query('orders_by_users_a > 2')['user'],\\\n",
    "                           orders_by_users_b.query('orders_by_users_b > 2')['user']])"
   ]
  },
  {
   "cell_type": "code",
   "execution_count": 55,
   "id": "e83d5c21",
   "metadata": {},
   "outputs": [],
   "source": [
    "# получаем данные о дорогих заказах\n",
    "limit = 28000\n",
    "abnormal_orders = orders.query('revenue > @limit')['visitor_id']"
   ]
  },
  {
   "cell_type": "markdown",
   "id": "05095652",
   "metadata": {},
   "source": [
    "Объединим данные о большом количестве заказов и о дорогих заказах в одну таблицу, а также удалим дубликаты, т.к. один пользователь может попасть в оба списка."
   ]
  },
  {
   "cell_type": "code",
   "execution_count": 56,
   "id": "eefcb6e2",
   "metadata": {},
   "outputs": [],
   "source": [
    "anomaly = pd.concat([abnormal_users, abnormal_orders], axis=0).drop_duplicates()"
   ]
  },
  {
   "cell_type": "markdown",
   "id": "6841c7ac",
   "metadata": {},
   "source": [
    "Проверим гипотезу о различии конверсии между группами на очищенных данных:\n",
    "- Н0: статистически значимых различий между группами нет (показатели равны);\n",
    "- Н1: статистически значимые различия между группами есть.  "
   ]
  },
  {
   "cell_type": "markdown",
   "id": "44c54847",
   "metadata": {},
   "source": [
    "Создаем новые выборки для очищенных данных, с условием, что ID пользователя не встречается в списке аномалий:"
   ]
  },
  {
   "cell_type": "code",
   "execution_count": 57,
   "id": "6bda74da",
   "metadata": {},
   "outputs": [],
   "source": [
    "sample_a_filtered = pd.concat(\n",
    "    [orders_by_users_a[np.logical_not(orders_by_users_a['user'].isin(anomaly))]['orders_by_users_a'],\n",
    "     pd.Series(\n",
    "         0,\n",
    "         index=np.arange(raw_data['daily_visitors_a'].sum() - len(orders_by_users_a['orders_by_users_a'])),\n",
    "         name='orders')], axis=0)"
   ]
  },
  {
   "cell_type": "code",
   "execution_count": 58,
   "id": "39a76db2",
   "metadata": {},
   "outputs": [],
   "source": [
    "sample_b_filtered = pd.concat(\n",
    "    [orders_by_users_b[np.logical_not(orders_by_users_b['user'].isin(anomaly))]['orders_by_users_b'],\n",
    "     pd.Series(\n",
    "         0,\n",
    "         index=np.arange(raw_data['daily_visitors_b'].sum() - len(orders_by_users_b['orders_by_users_b'])),\n",
    "         name='orders')], axis=0)"
   ]
  },
  {
   "cell_type": "markdown",
   "id": "ac17e02c",
   "metadata": {},
   "source": [
    "Аналогично предыдущему пункту проверяем с помощью статистического теста:"
   ]
  },
  {
   "cell_type": "code",
   "execution_count": 59,
   "id": "2adb55ba",
   "metadata": {},
   "outputs": [
    {
     "name": "stdout",
     "output_type": "stream",
     "text": [
      "p-value: 0.009\n",
      "Относительный прирост конверсии: 0.189\n"
     ]
    }
   ],
   "source": [
    "print('p-value:', \"{0:.3f}\".format(st.mannwhitneyu(sample_a_filtered, sample_b_filtered)[1]))\n",
    "print('Относительный прирост конверсии:', \"{0:.3f}\".format((sample_b_filtered.mean() / sample_a_filtered.mean()) - 1))"
   ]
  },
  {
   "cell_type": "markdown",
   "id": "2de989fd",
   "metadata": {},
   "source": [
    "На очищенных данных получаем тот же результат, что и на сырых: нулевую гипотезу следует отвергнуть, между группами существует различие конверсии. Относительный прирост конверсии группы В на очищенных данных даже больше, чем на сырых, и составляет 16,8%. Проверим, как изменился средний чек:"
   ]
  },
  {
   "cell_type": "code",
   "execution_count": 60,
   "id": "5d8b3037",
   "metadata": {},
   "outputs": [
    {
     "name": "stdout",
     "output_type": "stream",
     "text": [
      "0.762\n"
     ]
    }
   ],
   "source": [
    "print('{0:.3f}'.format(st.mannwhitneyu(\n",
    "    orders[\n",
    "        np.logical_and(orders['group'] == 'A', np.logical_not(orders['visitor_id'].isin(anomaly)))\n",
    "    ]['revenue'],\n",
    "    orders[\n",
    "        np.logical_and(orders['group'] == 'B', np.logical_not(orders['visitor_id'].isin(anomaly)))\n",
    "    ]['revenue'])[1]))"
   ]
  },
  {
   "cell_type": "code",
   "execution_count": 61,
   "id": "9f5e10ff",
   "metadata": {},
   "outputs": [
    {
     "name": "stdout",
     "output_type": "stream",
     "text": [
      "0.023\n"
     ]
    }
   ],
   "source": [
    "print('{0:.3f}'.format(\n",
    "    (orders[\n",
    "        np.logical_and(orders['group'] == 'A', np.logical_not(orders['visitor_id'].isin(anomaly)))\n",
    "    ]['revenue'].mean()/\n",
    "    orders[\n",
    "        np.logical_and(orders['group'] == 'B', np.logical_not(orders['visitor_id'].isin(anomaly)))\n",
    "    ]['revenue'].mean()) - 1))"
   ]
  },
  {
   "cell_type": "markdown",
   "id": "9cfdf6b8",
   "metadata": {},
   "source": [
    "Снова получаем аналогичный результат: нулевую гипотезу не следует отвергать, существенных различий в среднем чеке между группами нет. Однако относительный прирост на очищенных данных куда ниже, чем на сырых, и составляет всего 2%, что только подтверждает выводы."
   ]
  },
  {
   "cell_type": "markdown",
   "id": "0f482a90",
   "metadata": {},
   "source": [
    "## Выводы"
   ]
  },
  {
   "cell_type": "markdown",
   "id": "56d678e3",
   "metadata": {},
   "source": [
    "Очевидно, что маркетинговые кампании в целом принесли положительный результат:\n",
    "\n",
    "- Между группами существуют значимые различия в конверсии: конверсия группы В выросла по отношению к конверсии группы А. Относительный прирост составил 18,5%, что говорит о том, что посетители стали чаще совершать покупки;\n",
    "- При этом количество повторных покупателей невелико: 90% посетителей делают только один заказ, а два заказа делает уже всего 6,2%.\n",
    "\n",
    "Если целью было увеличение выручки, то ожидания не оправдались:\n",
    "\n",
    "- Средняя сумма заказа составляет 6536 руб. Есть отдельные заказы на крупные суммы, но их число недостаточно велико, чтобы стать закономерностью;\n",
    "- После введения изменений средний чек в группе В практически не изменился, однако судя по графику изменения среднего чека, он достаточно стабилен и понемногу растет. Относительный прирост составляет 2,3%. \n",
    "\n",
    "Исходя из вышесказанного, проводить тест дальше не имеет смысла, его можно завершить и зафиксировать победу группы В (после изменений). "
   ]
  }
 ],
 "metadata": {
  "ExecuteTimeLog": [
   {
    "duration": 1303,
    "start_time": "2022-08-01T16:08:33.160Z"
   },
   {
    "duration": 555,
    "start_time": "2022-08-01T16:08:34.467Z"
   },
   {
    "duration": 105,
    "start_time": "2022-08-01T16:08:35.024Z"
   },
   {
    "duration": 6,
    "start_time": "2022-08-01T16:08:35.132Z"
   },
   {
    "duration": 17,
    "start_time": "2022-08-01T16:08:35.140Z"
   },
   {
    "duration": 40,
    "start_time": "2022-08-01T16:08:35.162Z"
   },
   {
    "duration": 8,
    "start_time": "2022-08-01T16:08:35.204Z"
   },
   {
    "duration": 27,
    "start_time": "2022-08-01T16:08:35.214Z"
   },
   {
    "duration": 15,
    "start_time": "2022-08-01T16:08:35.242Z"
   },
   {
    "duration": 62,
    "start_time": "2022-08-01T16:08:35.264Z"
   },
   {
    "duration": 186,
    "start_time": "2022-08-01T16:08:35.328Z"
   },
   {
    "duration": 146,
    "start_time": "2022-08-01T16:08:35.515Z"
   },
   {
    "duration": 15,
    "start_time": "2022-08-01T16:08:35.663Z"
   },
   {
    "duration": 39,
    "start_time": "2022-08-01T16:08:35.680Z"
   },
   {
    "duration": 356,
    "start_time": "2022-08-01T16:08:35.720Z"
   },
   {
    "duration": 13,
    "start_time": "2022-08-01T16:08:36.084Z"
   },
   {
    "duration": 249,
    "start_time": "2022-08-01T16:08:36.100Z"
   },
   {
    "duration": 38,
    "start_time": "2022-08-01T16:08:36.351Z"
   },
   {
    "duration": 404,
    "start_time": "2022-08-01T16:08:36.391Z"
   },
   {
    "duration": 4,
    "start_time": "2022-08-01T16:08:36.803Z"
   },
   {
    "duration": 17,
    "start_time": "2022-08-01T16:08:36.812Z"
   },
   {
    "duration": 249,
    "start_time": "2022-08-01T16:08:36.831Z"
   },
   {
    "duration": 21,
    "start_time": "2022-08-01T16:08:37.082Z"
   },
   {
    "duration": 312,
    "start_time": "2022-08-01T16:08:37.105Z"
   },
   {
    "duration": 12,
    "start_time": "2022-08-01T16:08:37.419Z"
   },
   {
    "duration": 180,
    "start_time": "2022-08-01T16:08:37.433Z"
   },
   {
    "duration": 14,
    "start_time": "2022-08-01T16:08:37.614Z"
   },
   {
    "duration": 4,
    "start_time": "2022-08-01T16:08:37.631Z"
   },
   {
    "duration": 215,
    "start_time": "2022-08-01T16:08:37.637Z"
   },
   {
    "duration": 19,
    "start_time": "2022-08-01T16:08:37.855Z"
   },
   {
    "duration": 28,
    "start_time": "2022-08-01T16:08:37.880Z"
   },
   {
    "duration": 15,
    "start_time": "2022-08-01T16:08:37.910Z"
   },
   {
    "duration": 14,
    "start_time": "2022-08-01T16:08:37.927Z"
   },
   {
    "duration": 16,
    "start_time": "2022-08-01T16:08:37.943Z"
   },
   {
    "duration": 164,
    "start_time": "2022-08-01T16:08:37.961Z"
   },
   {
    "duration": 10,
    "start_time": "2022-08-01T16:08:38.127Z"
   },
   {
    "duration": 134,
    "start_time": "2022-08-01T16:08:38.139Z"
   },
   {
    "duration": 49,
    "start_time": "2022-08-01T16:08:38.279Z"
   },
   {
    "duration": 8,
    "start_time": "2022-08-01T16:08:38.330Z"
   },
   {
    "duration": 15,
    "start_time": "2022-08-01T16:08:38.340Z"
   },
   {
    "duration": 9,
    "start_time": "2022-08-01T16:08:38.357Z"
   },
   {
    "duration": 36,
    "start_time": "2022-08-01T16:08:38.372Z"
   },
   {
    "duration": 11,
    "start_time": "2022-08-01T16:08:38.409Z"
   },
   {
    "duration": 15,
    "start_time": "2022-08-01T16:08:38.422Z"
   },
   {
    "duration": 37,
    "start_time": "2022-08-01T16:08:38.439Z"
   },
   {
    "duration": 19,
    "start_time": "2022-08-01T16:08:38.478Z"
   },
   {
    "duration": 36,
    "start_time": "2022-08-01T16:08:38.498Z"
   },
   {
    "duration": 18,
    "start_time": "2022-08-01T16:08:38.537Z"
   },
   {
    "duration": 67,
    "start_time": "2022-08-01T16:08:38.557Z"
   },
   {
    "duration": 14,
    "start_time": "2022-08-01T16:08:38.626Z"
   },
   {
    "duration": 13,
    "start_time": "2022-08-01T16:08:38.642Z"
   },
   {
    "duration": 86,
    "start_time": "2022-08-01T16:08:38.657Z"
   },
   {
    "duration": 11,
    "start_time": "2022-08-01T16:08:38.745Z"
   },
   {
    "duration": 76,
    "start_time": "2022-08-01T16:08:38.758Z"
   },
   {
    "duration": 65,
    "start_time": "2022-08-01T16:47:06.890Z"
   },
   {
    "duration": 46,
    "start_time": "2022-08-01T16:48:44.641Z"
   },
   {
    "duration": 1192,
    "start_time": "2022-08-01T16:48:51.790Z"
   },
   {
    "duration": 250,
    "start_time": "2022-08-01T16:48:52.984Z"
   },
   {
    "duration": 76,
    "start_time": "2022-08-01T16:48:53.236Z"
   },
   {
    "duration": 4,
    "start_time": "2022-08-01T16:48:53.323Z"
   },
   {
    "duration": 13,
    "start_time": "2022-08-01T16:48:53.328Z"
   },
   {
    "duration": 7,
    "start_time": "2022-08-01T16:48:58.610Z"
   },
   {
    "duration": 71,
    "start_time": "2022-08-01T16:49:16.261Z"
   },
   {
    "duration": 11,
    "start_time": "2022-08-01T16:49:42.209Z"
   },
   {
    "duration": 9,
    "start_time": "2022-08-01T16:49:52.099Z"
   },
   {
    "duration": 9,
    "start_time": "2022-08-01T16:49:57.761Z"
   },
   {
    "duration": 9,
    "start_time": "2022-08-01T16:50:12.591Z"
   },
   {
    "duration": 9,
    "start_time": "2022-08-01T16:50:19.902Z"
   },
   {
    "duration": 8,
    "start_time": "2022-08-01T16:51:29.254Z"
   },
   {
    "duration": 1240,
    "start_time": "2022-08-01T19:42:18.397Z"
   },
   {
    "duration": 271,
    "start_time": "2022-08-01T19:42:19.639Z"
   },
   {
    "duration": 96,
    "start_time": "2022-08-01T19:42:19.912Z"
   },
   {
    "duration": 5,
    "start_time": "2022-08-01T19:42:20.011Z"
   },
   {
    "duration": 22,
    "start_time": "2022-08-01T19:42:20.017Z"
   },
   {
    "duration": 23,
    "start_time": "2022-08-01T19:42:20.041Z"
   },
   {
    "duration": 7,
    "start_time": "2022-08-01T19:42:20.066Z"
   },
   {
    "duration": 15,
    "start_time": "2022-08-01T19:42:20.075Z"
   },
   {
    "duration": 13,
    "start_time": "2022-08-01T19:42:20.093Z"
   },
   {
    "duration": 14,
    "start_time": "2022-08-01T19:42:20.110Z"
   },
   {
    "duration": 198,
    "start_time": "2022-08-01T19:42:20.126Z"
   },
   {
    "duration": 148,
    "start_time": "2022-08-01T19:42:20.326Z"
   },
   {
    "duration": 13,
    "start_time": "2022-08-01T19:42:20.476Z"
   },
   {
    "duration": 21,
    "start_time": "2022-08-01T19:42:20.491Z"
   },
   {
    "duration": 325,
    "start_time": "2022-08-01T19:42:20.514Z"
   },
   {
    "duration": 7,
    "start_time": "2022-08-01T19:42:20.841Z"
   },
   {
    "duration": 249,
    "start_time": "2022-08-01T19:42:20.850Z"
   },
   {
    "duration": 19,
    "start_time": "2022-08-01T19:42:21.100Z"
   },
   {
    "duration": 401,
    "start_time": "2022-08-01T19:42:21.121Z"
   },
   {
    "duration": 4,
    "start_time": "2022-08-01T19:42:21.524Z"
   },
   {
    "duration": 20,
    "start_time": "2022-08-01T19:42:21.530Z"
   },
   {
    "duration": 236,
    "start_time": "2022-08-01T19:42:21.551Z"
   },
   {
    "duration": 16,
    "start_time": "2022-08-01T19:42:21.789Z"
   },
   {
    "duration": 293,
    "start_time": "2022-08-01T19:42:21.807Z"
   },
   {
    "duration": 13,
    "start_time": "2022-08-01T19:42:22.103Z"
   },
   {
    "duration": 175,
    "start_time": "2022-08-01T19:42:22.117Z"
   },
   {
    "duration": 14,
    "start_time": "2022-08-01T19:42:22.294Z"
   },
   {
    "duration": 4,
    "start_time": "2022-08-01T19:42:22.312Z"
   },
   {
    "duration": 178,
    "start_time": "2022-08-01T19:42:22.318Z"
   },
   {
    "duration": 9,
    "start_time": "2022-08-01T19:42:22.498Z"
   },
   {
    "duration": 25,
    "start_time": "2022-08-01T19:42:22.508Z"
   },
   {
    "duration": 12,
    "start_time": "2022-08-01T19:42:22.535Z"
   },
   {
    "duration": 15,
    "start_time": "2022-08-01T19:42:22.548Z"
   },
   {
    "duration": 5,
    "start_time": "2022-08-01T19:42:22.565Z"
   },
   {
    "duration": 115,
    "start_time": "2022-08-01T19:42:22.571Z"
   },
   {
    "duration": 25,
    "start_time": "2022-08-01T19:42:22.688Z"
   },
   {
    "duration": 112,
    "start_time": "2022-08-01T19:42:22.715Z"
   },
   {
    "duration": 40,
    "start_time": "2022-08-01T19:42:22.829Z"
   },
   {
    "duration": 7,
    "start_time": "2022-08-01T19:42:22.871Z"
   },
   {
    "duration": 12,
    "start_time": "2022-08-01T19:42:22.880Z"
   },
   {
    "duration": 13,
    "start_time": "2022-08-01T19:42:22.893Z"
   },
   {
    "duration": 7,
    "start_time": "2022-08-01T19:42:22.908Z"
   },
   {
    "duration": 11,
    "start_time": "2022-08-01T19:42:22.916Z"
   },
   {
    "duration": 8,
    "start_time": "2022-08-01T19:42:22.928Z"
   },
   {
    "duration": 23,
    "start_time": "2022-08-01T19:42:22.961Z"
   },
   {
    "duration": 14,
    "start_time": "2022-08-01T19:42:22.985Z"
   },
   {
    "duration": 7,
    "start_time": "2022-08-01T19:42:23.001Z"
   },
   {
    "duration": 13,
    "start_time": "2022-08-01T19:42:23.009Z"
   },
   {
    "duration": 10,
    "start_time": "2022-08-01T19:42:23.023Z"
   },
   {
    "duration": 31,
    "start_time": "2022-08-01T19:42:23.034Z"
   },
   {
    "duration": 10,
    "start_time": "2022-08-01T19:42:23.067Z"
   },
   {
    "duration": 29,
    "start_time": "2022-08-01T19:42:23.078Z"
   },
   {
    "duration": 10,
    "start_time": "2022-08-01T19:42:23.109Z"
   },
   {
    "duration": 23,
    "start_time": "2022-08-01T19:42:23.121Z"
   },
   {
    "duration": 2,
    "start_time": "2022-08-01T19:58:15.965Z"
   },
   {
    "duration": 47,
    "start_time": "2022-08-01T19:59:05.275Z"
   },
   {
    "duration": 4,
    "start_time": "2022-08-01T20:03:03.118Z"
   },
   {
    "duration": 3,
    "start_time": "2022-08-01T20:03:34.608Z"
   },
   {
    "duration": 50,
    "start_time": "2022-08-01T20:05:47.620Z"
   },
   {
    "duration": 15,
    "start_time": "2022-08-01T20:12:23.607Z"
   },
   {
    "duration": 19,
    "start_time": "2022-08-01T20:12:32.304Z"
   },
   {
    "duration": 24,
    "start_time": "2022-08-01T20:13:01.840Z"
   },
   {
    "duration": 12,
    "start_time": "2022-08-01T20:13:22.305Z"
   },
   {
    "duration": 10,
    "start_time": "2022-08-01T20:14:50.609Z"
   },
   {
    "duration": 17,
    "start_time": "2022-08-01T20:14:57.773Z"
   },
   {
    "duration": 16,
    "start_time": "2022-08-01T20:20:31.643Z"
   },
   {
    "duration": 23,
    "start_time": "2022-08-01T20:21:06.214Z"
   },
   {
    "duration": 138,
    "start_time": "2022-08-01T20:30:15.676Z"
   },
   {
    "duration": 7,
    "start_time": "2022-08-01T20:30:26.417Z"
   },
   {
    "duration": 10,
    "start_time": "2022-08-01T20:30:36.355Z"
   },
   {
    "duration": 7,
    "start_time": "2022-08-01T20:30:44.930Z"
   },
   {
    "duration": 7,
    "start_time": "2022-08-01T20:32:39.770Z"
   },
   {
    "duration": 9,
    "start_time": "2022-08-01T20:35:00.425Z"
   },
   {
    "duration": 7,
    "start_time": "2022-08-01T20:35:09.084Z"
   },
   {
    "duration": 4,
    "start_time": "2022-08-01T20:40:03.102Z"
   },
   {
    "duration": 14,
    "start_time": "2022-08-01T20:40:08.918Z"
   },
   {
    "duration": 9,
    "start_time": "2022-08-01T20:40:35.152Z"
   },
   {
    "duration": 9,
    "start_time": "2022-08-01T20:40:51.768Z"
   },
   {
    "duration": 5,
    "start_time": "2022-08-01T20:41:55.148Z"
   },
   {
    "duration": 6,
    "start_time": "2022-08-01T20:43:08.639Z"
   },
   {
    "duration": 10,
    "start_time": "2022-08-01T20:43:30.220Z"
   },
   {
    "duration": 6,
    "start_time": "2022-08-01T20:43:41.265Z"
   },
   {
    "duration": 12,
    "start_time": "2022-08-01T20:44:06.141Z"
   },
   {
    "duration": 13,
    "start_time": "2022-08-01T20:44:39.689Z"
   },
   {
    "duration": 7,
    "start_time": "2022-08-01T20:44:50.469Z"
   },
   {
    "duration": 7,
    "start_time": "2022-08-01T20:45:22.611Z"
   },
   {
    "duration": 2,
    "start_time": "2022-08-01T20:45:42.555Z"
   },
   {
    "duration": 9,
    "start_time": "2022-08-01T20:46:23.747Z"
   },
   {
    "duration": 6,
    "start_time": "2022-08-01T20:47:13.676Z"
   },
   {
    "duration": 15,
    "start_time": "2022-08-01T20:47:28.122Z"
   },
   {
    "duration": 7,
    "start_time": "2022-08-01T20:48:03.044Z"
   },
   {
    "duration": 7,
    "start_time": "2022-08-01T20:48:08.789Z"
   },
   {
    "duration": 10,
    "start_time": "2022-08-01T20:48:14.047Z"
   },
   {
    "duration": 4,
    "start_time": "2022-08-01T20:48:27.894Z"
   },
   {
    "duration": 7,
    "start_time": "2022-08-01T20:49:33.490Z"
   },
   {
    "duration": 10,
    "start_time": "2022-08-01T20:49:41.909Z"
   },
   {
    "duration": 20,
    "start_time": "2022-08-01T20:50:00.593Z"
   },
   {
    "duration": 6,
    "start_time": "2022-08-01T20:51:06.783Z"
   },
   {
    "duration": 5,
    "start_time": "2022-08-01T20:51:36.953Z"
   },
   {
    "duration": 10,
    "start_time": "2022-08-01T20:58:13.420Z"
   },
   {
    "duration": 8,
    "start_time": "2022-08-01T21:01:44.040Z"
   },
   {
    "duration": 5,
    "start_time": "2022-08-01T21:02:44.012Z"
   },
   {
    "duration": 9,
    "start_time": "2022-08-01T21:02:59.396Z"
   },
   {
    "duration": 3,
    "start_time": "2022-08-01T21:03:15.713Z"
   },
   {
    "duration": 6,
    "start_time": "2022-08-01T21:03:38.730Z"
   },
   {
    "duration": 8,
    "start_time": "2022-08-01T21:05:42.119Z"
   },
   {
    "duration": 4,
    "start_time": "2022-08-01T21:06:27.542Z"
   },
   {
    "duration": 14,
    "start_time": "2022-08-01T21:10:49.121Z"
   },
   {
    "duration": 14,
    "start_time": "2022-08-01T21:10:54.416Z"
   },
   {
    "duration": 13,
    "start_time": "2022-08-01T21:11:02.243Z"
   },
   {
    "duration": 884,
    "start_time": "2022-08-01T21:11:24.342Z"
   },
   {
    "duration": 14,
    "start_time": "2022-08-01T21:11:44.024Z"
   },
   {
    "duration": 15,
    "start_time": "2022-08-01T21:12:08.585Z"
   },
   {
    "duration": 4,
    "start_time": "2022-08-01T21:12:44.494Z"
   },
   {
    "duration": 4,
    "start_time": "2022-08-01T21:16:07.814Z"
   },
   {
    "duration": 63,
    "start_time": "2022-08-01T21:16:22.084Z"
   },
   {
    "duration": 19,
    "start_time": "2022-08-01T21:16:36.287Z"
   },
   {
    "duration": 19,
    "start_time": "2022-08-01T21:17:46.475Z"
   },
   {
    "duration": 8,
    "start_time": "2022-08-01T21:18:55.859Z"
   },
   {
    "duration": 9,
    "start_time": "2022-08-01T21:19:10.072Z"
   },
   {
    "duration": 6,
    "start_time": "2022-08-01T21:19:45.937Z"
   },
   {
    "duration": 1172,
    "start_time": "2022-08-01T21:20:06.080Z"
   },
   {
    "duration": 153,
    "start_time": "2022-08-01T21:20:07.254Z"
   },
   {
    "duration": 92,
    "start_time": "2022-08-01T21:20:07.409Z"
   },
   {
    "duration": 5,
    "start_time": "2022-08-01T21:20:07.504Z"
   },
   {
    "duration": 10,
    "start_time": "2022-08-01T21:20:07.511Z"
   },
   {
    "duration": 16,
    "start_time": "2022-08-01T21:20:07.522Z"
   },
   {
    "duration": 26,
    "start_time": "2022-08-01T21:20:07.540Z"
   },
   {
    "duration": 22,
    "start_time": "2022-08-01T21:20:07.568Z"
   },
   {
    "duration": 13,
    "start_time": "2022-08-01T21:20:07.592Z"
   },
   {
    "duration": 12,
    "start_time": "2022-08-01T21:20:07.608Z"
   },
   {
    "duration": 111,
    "start_time": "2022-08-01T21:20:07.622Z"
   },
   {
    "duration": 0,
    "start_time": "2022-08-01T21:20:07.736Z"
   },
   {
    "duration": 0,
    "start_time": "2022-08-01T21:20:07.737Z"
   },
   {
    "duration": 0,
    "start_time": "2022-08-01T21:20:07.738Z"
   },
   {
    "duration": 0,
    "start_time": "2022-08-01T21:20:07.739Z"
   },
   {
    "duration": 0,
    "start_time": "2022-08-01T21:20:07.740Z"
   },
   {
    "duration": 0,
    "start_time": "2022-08-01T21:20:07.741Z"
   },
   {
    "duration": 0,
    "start_time": "2022-08-01T21:20:07.743Z"
   },
   {
    "duration": 0,
    "start_time": "2022-08-01T21:20:07.761Z"
   },
   {
    "duration": 0,
    "start_time": "2022-08-01T21:20:07.762Z"
   },
   {
    "duration": 0,
    "start_time": "2022-08-01T21:20:07.764Z"
   },
   {
    "duration": 0,
    "start_time": "2022-08-01T21:20:07.765Z"
   },
   {
    "duration": 0,
    "start_time": "2022-08-01T21:20:07.767Z"
   },
   {
    "duration": 0,
    "start_time": "2022-08-01T21:20:07.768Z"
   },
   {
    "duration": 0,
    "start_time": "2022-08-01T21:20:07.770Z"
   },
   {
    "duration": 0,
    "start_time": "2022-08-01T21:20:07.771Z"
   },
   {
    "duration": 0,
    "start_time": "2022-08-01T21:20:07.773Z"
   },
   {
    "duration": 0,
    "start_time": "2022-08-01T21:20:07.774Z"
   },
   {
    "duration": 0,
    "start_time": "2022-08-01T21:20:07.776Z"
   },
   {
    "duration": 0,
    "start_time": "2022-08-01T21:20:07.778Z"
   },
   {
    "duration": 0,
    "start_time": "2022-08-01T21:20:07.779Z"
   },
   {
    "duration": 0,
    "start_time": "2022-08-01T21:20:07.780Z"
   },
   {
    "duration": 0,
    "start_time": "2022-08-01T21:20:07.781Z"
   },
   {
    "duration": 0,
    "start_time": "2022-08-01T21:20:07.782Z"
   },
   {
    "duration": 0,
    "start_time": "2022-08-01T21:20:07.783Z"
   },
   {
    "duration": 0,
    "start_time": "2022-08-01T21:20:07.784Z"
   },
   {
    "duration": 0,
    "start_time": "2022-08-01T21:20:07.785Z"
   },
   {
    "duration": 0,
    "start_time": "2022-08-01T21:20:07.786Z"
   },
   {
    "duration": 0,
    "start_time": "2022-08-01T21:20:07.787Z"
   },
   {
    "duration": 0,
    "start_time": "2022-08-01T21:20:07.788Z"
   },
   {
    "duration": 0,
    "start_time": "2022-08-01T21:20:07.789Z"
   },
   {
    "duration": 0,
    "start_time": "2022-08-01T21:20:07.790Z"
   },
   {
    "duration": 0,
    "start_time": "2022-08-01T21:20:07.791Z"
   },
   {
    "duration": 0,
    "start_time": "2022-08-01T21:20:07.792Z"
   },
   {
    "duration": 0,
    "start_time": "2022-08-01T21:20:07.793Z"
   },
   {
    "duration": 0,
    "start_time": "2022-08-01T21:20:07.794Z"
   },
   {
    "duration": 0,
    "start_time": "2022-08-01T21:20:07.795Z"
   },
   {
    "duration": 0,
    "start_time": "2022-08-01T21:20:07.796Z"
   },
   {
    "duration": 0,
    "start_time": "2022-08-01T21:20:07.797Z"
   },
   {
    "duration": 0,
    "start_time": "2022-08-01T21:20:07.861Z"
   },
   {
    "duration": 0,
    "start_time": "2022-08-01T21:20:07.863Z"
   },
   {
    "duration": 0,
    "start_time": "2022-08-01T21:20:07.864Z"
   },
   {
    "duration": 0,
    "start_time": "2022-08-01T21:20:07.866Z"
   },
   {
    "duration": 0,
    "start_time": "2022-08-01T21:20:07.868Z"
   },
   {
    "duration": 0,
    "start_time": "2022-08-01T21:20:07.869Z"
   },
   {
    "duration": 0,
    "start_time": "2022-08-01T21:20:07.871Z"
   },
   {
    "duration": 0,
    "start_time": "2022-08-01T21:20:07.872Z"
   },
   {
    "duration": 0,
    "start_time": "2022-08-01T21:20:07.873Z"
   },
   {
    "duration": 0,
    "start_time": "2022-08-01T21:20:07.875Z"
   },
   {
    "duration": 16,
    "start_time": "2022-08-01T21:20:48.308Z"
   },
   {
    "duration": 7,
    "start_time": "2022-08-01T21:21:00.493Z"
   },
   {
    "duration": 19,
    "start_time": "2022-08-01T21:21:00.502Z"
   },
   {
    "duration": 16,
    "start_time": "2022-08-01T21:21:00.523Z"
   },
   {
    "duration": 19,
    "start_time": "2022-08-01T21:21:00.541Z"
   },
   {
    "duration": 204,
    "start_time": "2022-08-01T21:21:00.562Z"
   },
   {
    "duration": 143,
    "start_time": "2022-08-01T21:21:00.768Z"
   },
   {
    "duration": 13,
    "start_time": "2022-08-01T21:21:00.913Z"
   },
   {
    "duration": 33,
    "start_time": "2022-08-01T21:21:00.928Z"
   },
   {
    "duration": 293,
    "start_time": "2022-08-01T21:21:00.964Z"
   },
   {
    "duration": 8,
    "start_time": "2022-08-01T21:21:01.259Z"
   },
   {
    "duration": 234,
    "start_time": "2022-08-01T21:21:01.269Z"
   },
   {
    "duration": 18,
    "start_time": "2022-08-01T21:21:01.505Z"
   },
   {
    "duration": 371,
    "start_time": "2022-08-01T21:21:01.524Z"
   },
   {
    "duration": 5,
    "start_time": "2022-08-01T21:21:01.896Z"
   },
   {
    "duration": 21,
    "start_time": "2022-08-01T21:21:01.903Z"
   },
   {
    "duration": 230,
    "start_time": "2022-08-01T21:21:01.926Z"
   },
   {
    "duration": 16,
    "start_time": "2022-08-01T21:21:02.160Z"
   },
   {
    "duration": 310,
    "start_time": "2022-08-01T21:21:02.178Z"
   },
   {
    "duration": 12,
    "start_time": "2022-08-01T21:21:02.490Z"
   },
   {
    "duration": 179,
    "start_time": "2022-08-01T21:21:02.504Z"
   },
   {
    "duration": 19,
    "start_time": "2022-08-01T21:21:02.686Z"
   },
   {
    "duration": 13,
    "start_time": "2022-08-01T21:21:02.707Z"
   },
   {
    "duration": 168,
    "start_time": "2022-08-01T21:21:02.722Z"
   },
   {
    "duration": 10,
    "start_time": "2022-08-01T21:21:02.896Z"
   },
   {
    "duration": 11,
    "start_time": "2022-08-01T21:21:02.907Z"
   },
   {
    "duration": 8,
    "start_time": "2022-08-01T21:21:02.920Z"
   },
   {
    "duration": 11,
    "start_time": "2022-08-01T21:21:02.930Z"
   },
   {
    "duration": 21,
    "start_time": "2022-08-01T21:21:02.943Z"
   },
   {
    "duration": 109,
    "start_time": "2022-08-01T21:21:02.965Z"
   },
   {
    "duration": 21,
    "start_time": "2022-08-01T21:21:03.076Z"
   },
   {
    "duration": 104,
    "start_time": "2022-08-01T21:21:03.098Z"
   },
   {
    "duration": 26,
    "start_time": "2022-08-01T21:21:03.203Z"
   },
   {
    "duration": 8,
    "start_time": "2022-08-01T21:21:03.231Z"
   },
   {
    "duration": 9,
    "start_time": "2022-08-01T21:21:03.261Z"
   },
   {
    "duration": 14,
    "start_time": "2022-08-01T21:21:03.272Z"
   },
   {
    "duration": 15,
    "start_time": "2022-08-01T21:21:03.287Z"
   },
   {
    "duration": 10,
    "start_time": "2022-08-01T21:21:03.304Z"
   },
   {
    "duration": 7,
    "start_time": "2022-08-01T21:21:03.315Z"
   },
   {
    "duration": 23,
    "start_time": "2022-08-01T21:21:03.324Z"
   },
   {
    "duration": 21,
    "start_time": "2022-08-01T21:21:03.349Z"
   },
   {
    "duration": 19,
    "start_time": "2022-08-01T21:21:03.371Z"
   },
   {
    "duration": 10,
    "start_time": "2022-08-01T21:21:03.392Z"
   },
   {
    "duration": 19,
    "start_time": "2022-08-01T21:21:03.404Z"
   },
   {
    "duration": 14,
    "start_time": "2022-08-01T21:21:03.425Z"
   },
   {
    "duration": 13,
    "start_time": "2022-08-01T21:21:03.441Z"
   },
   {
    "duration": 31,
    "start_time": "2022-08-01T21:21:03.455Z"
   },
   {
    "duration": 9,
    "start_time": "2022-08-01T21:21:03.488Z"
   },
   {
    "duration": 20,
    "start_time": "2022-08-01T21:21:03.499Z"
   },
   {
    "duration": 4,
    "start_time": "2022-08-01T21:23:06.977Z"
   },
   {
    "duration": 4,
    "start_time": "2022-08-01T21:23:43.588Z"
   },
   {
    "duration": 4,
    "start_time": "2022-08-01T21:24:48.077Z"
   },
   {
    "duration": 5,
    "start_time": "2022-08-01T21:25:50.143Z"
   },
   {
    "duration": 16,
    "start_time": "2022-08-01T21:26:06.222Z"
   },
   {
    "duration": 37,
    "start_time": "2022-08-01T21:28:39.429Z"
   },
   {
    "duration": 5,
    "start_time": "2022-08-01T21:28:56.018Z"
   },
   {
    "duration": 26,
    "start_time": "2022-08-01T21:29:59.410Z"
   },
   {
    "duration": 21,
    "start_time": "2022-08-01T21:31:38.408Z"
   },
   {
    "duration": 15,
    "start_time": "2022-08-01T21:32:59.933Z"
   },
   {
    "duration": 43,
    "start_time": "2022-08-01T21:33:51.218Z"
   },
   {
    "duration": 48,
    "start_time": "2022-08-01T21:34:27.504Z"
   },
   {
    "duration": 1070,
    "start_time": "2022-08-01T21:36:52.528Z"
   },
   {
    "duration": 138,
    "start_time": "2022-08-01T21:36:53.600Z"
   },
   {
    "duration": 71,
    "start_time": "2022-08-01T21:36:53.740Z"
   },
   {
    "duration": 3,
    "start_time": "2022-08-01T21:36:53.813Z"
   },
   {
    "duration": 8,
    "start_time": "2022-08-01T21:36:53.818Z"
   },
   {
    "duration": 14,
    "start_time": "2022-08-01T21:36:53.827Z"
   },
   {
    "duration": 20,
    "start_time": "2022-08-01T21:36:53.843Z"
   },
   {
    "duration": 14,
    "start_time": "2022-08-01T21:36:53.865Z"
   },
   {
    "duration": 8,
    "start_time": "2022-08-01T21:36:53.881Z"
   },
   {
    "duration": 5,
    "start_time": "2022-08-01T21:36:53.892Z"
   },
   {
    "duration": 17,
    "start_time": "2022-08-01T21:36:53.898Z"
   },
   {
    "duration": 7,
    "start_time": "2022-08-01T21:36:53.916Z"
   },
   {
    "duration": 39,
    "start_time": "2022-08-01T21:36:53.925Z"
   },
   {
    "duration": 5,
    "start_time": "2022-08-01T21:36:53.966Z"
   },
   {
    "duration": 9,
    "start_time": "2022-08-01T21:36:53.972Z"
   },
   {
    "duration": 12,
    "start_time": "2022-08-01T21:36:53.983Z"
   },
   {
    "duration": 175,
    "start_time": "2022-08-01T21:36:53.997Z"
   },
   {
    "duration": 125,
    "start_time": "2022-08-01T21:36:54.174Z"
   },
   {
    "duration": 12,
    "start_time": "2022-08-01T21:36:54.301Z"
   },
   {
    "duration": 12,
    "start_time": "2022-08-01T21:36:54.314Z"
   },
   {
    "duration": 281,
    "start_time": "2022-08-01T21:36:54.328Z"
   },
   {
    "duration": 7,
    "start_time": "2022-08-01T21:36:54.610Z"
   },
   {
    "duration": 218,
    "start_time": "2022-08-01T21:36:54.618Z"
   },
   {
    "duration": 23,
    "start_time": "2022-08-01T21:36:54.838Z"
   },
   {
    "duration": 290,
    "start_time": "2022-08-01T21:36:54.862Z"
   },
   {
    "duration": 3,
    "start_time": "2022-08-01T21:36:55.160Z"
   },
   {
    "duration": 9,
    "start_time": "2022-08-01T21:36:55.165Z"
   },
   {
    "duration": 241,
    "start_time": "2022-08-01T21:36:55.177Z"
   },
   {
    "duration": 15,
    "start_time": "2022-08-01T21:36:55.419Z"
   },
   {
    "duration": 310,
    "start_time": "2022-08-01T21:36:55.435Z"
   },
   {
    "duration": 20,
    "start_time": "2022-08-01T21:36:55.746Z"
   },
   {
    "duration": 167,
    "start_time": "2022-08-01T21:36:55.767Z"
   },
   {
    "duration": 13,
    "start_time": "2022-08-01T21:36:55.936Z"
   },
   {
    "duration": 13,
    "start_time": "2022-08-01T21:36:55.950Z"
   },
   {
    "duration": 157,
    "start_time": "2022-08-01T21:36:55.964Z"
   },
   {
    "duration": 8,
    "start_time": "2022-08-01T21:36:56.123Z"
   },
   {
    "duration": 8,
    "start_time": "2022-08-01T21:36:56.133Z"
   },
   {
    "duration": 19,
    "start_time": "2022-08-01T21:36:56.142Z"
   },
   {
    "duration": 7,
    "start_time": "2022-08-01T21:36:56.162Z"
   },
   {
    "duration": 16,
    "start_time": "2022-08-01T21:36:56.171Z"
   },
   {
    "duration": 138,
    "start_time": "2022-08-01T21:36:56.189Z"
   },
   {
    "duration": 14,
    "start_time": "2022-08-01T21:36:56.329Z"
   },
   {
    "duration": 126,
    "start_time": "2022-08-01T21:36:56.360Z"
   },
   {
    "duration": 31,
    "start_time": "2022-08-01T21:36:56.488Z"
   },
   {
    "duration": 8,
    "start_time": "2022-08-01T21:36:56.521Z"
   },
   {
    "duration": 32,
    "start_time": "2022-08-01T21:36:56.531Z"
   },
   {
    "duration": 4,
    "start_time": "2022-08-01T21:36:56.565Z"
   },
   {
    "duration": 6,
    "start_time": "2022-08-01T21:36:56.570Z"
   },
   {
    "duration": 20,
    "start_time": "2022-08-01T21:36:56.577Z"
   },
   {
    "duration": 7,
    "start_time": "2022-08-01T21:36:56.598Z"
   },
   {
    "duration": 24,
    "start_time": "2022-08-01T21:36:56.606Z"
   },
   {
    "duration": 14,
    "start_time": "2022-08-01T21:36:56.632Z"
   },
   {
    "duration": 18,
    "start_time": "2022-08-01T21:36:56.648Z"
   },
   {
    "duration": 7,
    "start_time": "2022-08-01T21:36:56.668Z"
   },
   {
    "duration": 8,
    "start_time": "2022-08-01T21:36:56.677Z"
   },
   {
    "duration": 20,
    "start_time": "2022-08-01T21:36:56.686Z"
   },
   {
    "duration": 14,
    "start_time": "2022-08-01T21:36:56.708Z"
   },
   {
    "duration": 23,
    "start_time": "2022-08-01T21:36:56.724Z"
   },
   {
    "duration": 11,
    "start_time": "2022-08-01T21:36:56.749Z"
   },
   {
    "duration": 6,
    "start_time": "2022-08-01T21:36:56.762Z"
   }
  ],
  "kernelspec": {
   "display_name": "Python 3 (ipykernel)",
   "language": "python",
   "name": "python3"
  },
  "language_info": {
   "codemirror_mode": {
    "name": "ipython",
    "version": 3
   },
   "file_extension": ".py",
   "mimetype": "text/x-python",
   "name": "python",
   "nbconvert_exporter": "python",
   "pygments_lexer": "ipython3",
   "version": "3.9.7"
  },
  "toc": {
   "base_numbering": 1,
   "nav_menu": {},
   "number_sections": true,
   "sideBar": true,
   "skip_h1_title": true,
   "title_cell": "Table of Contents",
   "title_sidebar": "Contents",
   "toc_cell": true,
   "toc_position": {
    "height": "calc(100% - 180px)",
    "left": "10px",
    "top": "150px",
    "width": "384px"
   },
   "toc_section_display": true,
   "toc_window_display": true
  }
 },
 "nbformat": 4,
 "nbformat_minor": 5
}
