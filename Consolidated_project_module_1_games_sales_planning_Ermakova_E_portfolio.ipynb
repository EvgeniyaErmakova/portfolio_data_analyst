{
 "cells": [
  {
   "cell_type": "markdown",
   "id": "b34fbd99",
   "metadata": {
    "toc": true
   },
   "source": [
    "<h1>Содержание<span class=\"tocSkip\"></span></h1>\n",
    "<div class=\"toc\"><ul class=\"toc-item\"><li><span><a href=\"#Цели-и-описание\" data-toc-modified-id=\"Цели-и-описание-1\"><span class=\"toc-item-num\">1&nbsp;&nbsp;</span>Цели и описание</a></span><ul class=\"toc-item\"><li><span><a href=\"#Обзор-данных\" data-toc-modified-id=\"Обзор-данных-1.1\"><span class=\"toc-item-num\">1.1&nbsp;&nbsp;</span>Обзор данных</a></span></li></ul></li><li><span><a href=\"#Предобработка-данных\" data-toc-modified-id=\"Предобработка-данных-2\"><span class=\"toc-item-num\">2&nbsp;&nbsp;</span>Предобработка данных</a></span><ul class=\"toc-item\"><li><span><a href=\"#Обработка-пропусков\" data-toc-modified-id=\"Обработка-пропусков-2.1\"><span class=\"toc-item-num\">2.1&nbsp;&nbsp;</span>Обработка пропусков</a></span></li><li><span><a href=\"#Преобразование-типов\" data-toc-modified-id=\"Преобразование-типов-2.2\"><span class=\"toc-item-num\">2.2&nbsp;&nbsp;</span>Преобразование типов</a></span></li></ul></li><li><span><a href=\"#Исследовательский-анализ\" data-toc-modified-id=\"Исследовательский-анализ-3\"><span class=\"toc-item-num\">3&nbsp;&nbsp;</span>Исследовательский анализ</a></span><ul class=\"toc-item\"><li><span><a href=\"#Суммарные-продажи-и-определение-актуального-периода\" data-toc-modified-id=\"Суммарные-продажи-и-определение-актуального-периода-3.1\"><span class=\"toc-item-num\">3.1&nbsp;&nbsp;</span>Суммарные продажи и определение актуального периода</a></span></li><li><span><a href=\"#Выбор-потенциально-прибыльных-платформ\" data-toc-modified-id=\"Выбор-потенциально-прибыльных-платформ-3.2\"><span class=\"toc-item-num\">3.2&nbsp;&nbsp;</span>Выбор потенциально прибыльных платформ</a></span></li><li><span><a href=\"#Взаимосвязи-между-показателями\" data-toc-modified-id=\"Взаимосвязи-между-показателями-3.3\"><span class=\"toc-item-num\">3.3&nbsp;&nbsp;</span>Взаимосвязи между показателями</a></span><ul class=\"toc-item\"><li><span><a href=\"#Продажи-внутри-отдельной-платформы\" data-toc-modified-id=\"Продажи-внутри-отдельной-платформы-3.3.1\"><span class=\"toc-item-num\">3.3.1&nbsp;&nbsp;</span>Продажи внутри отдельной платформы</a></span></li><li><span><a href=\"#Связь-продаж-и-оценок-по-всем-платформам\" data-toc-modified-id=\"Связь-продаж-и-оценок-по-всем-платформам-3.3.2\"><span class=\"toc-item-num\">3.3.2&nbsp;&nbsp;</span>Связь продаж и оценок по всем платформам</a></span></li></ul></li><li><span><a href=\"#Распределение-по-жанрам\" data-toc-modified-id=\"Распределение-по-жанрам-3.4\"><span class=\"toc-item-num\">3.4&nbsp;&nbsp;</span>Распределение по жанрам</a></span></li></ul></li><li><span><a href=\"#Сегментация-пользователей\" data-toc-modified-id=\"Сегментация-пользователей-4\"><span class=\"toc-item-num\">4&nbsp;&nbsp;</span>Сегментация пользователей</a></span><ul class=\"toc-item\"><li><span><a href=\"#Распределение-по-платформам-внутри-региона\" data-toc-modified-id=\"Распределение-по-платформам-внутри-региона-4.1\"><span class=\"toc-item-num\">4.1&nbsp;&nbsp;</span>Распределение по платформам внутри региона</a></span></li><li><span><a href=\"#Распределение-по-жанрам-внутри-региона\" data-toc-modified-id=\"Распределение-по-жанрам-внутри-региона-4.2\"><span class=\"toc-item-num\">4.2&nbsp;&nbsp;</span>Распределение по жанрам внутри региона</a></span></li><li><span><a href=\"#Влияние-рейтинга-ESRB-на-продажи-в-регионе\" data-toc-modified-id=\"Влияние-рейтинга-ESRB-на-продажи-в-регионе-4.3\"><span class=\"toc-item-num\">4.3&nbsp;&nbsp;</span>Влияние рейтинга ESRB на продажи в регионе</a></span></li></ul></li><li><span><a href=\"#Проверка-гипотез\" data-toc-modified-id=\"Проверка-гипотез-5\"><span class=\"toc-item-num\">5&nbsp;&nbsp;</span>Проверка гипотез</a></span><ul class=\"toc-item\"><li><span><a href=\"#Рейтинги-по-платформам\" data-toc-modified-id=\"Рейтинги-по-платформам-5.1\"><span class=\"toc-item-num\">5.1&nbsp;&nbsp;</span>Рейтинги по платформам</a></span></li><li><span><a href=\"#Рейтинги-по-жанрам\" data-toc-modified-id=\"Рейтинги-по-жанрам-5.2\"><span class=\"toc-item-num\">5.2&nbsp;&nbsp;</span>Рейтинги по жанрам</a></span></li></ul></li><li><span><a href=\"#Итоговый-вывод\" data-toc-modified-id=\"Итоговый-вывод-6\"><span class=\"toc-item-num\">6&nbsp;&nbsp;</span>Итоговый вывод</a></span></li></ul></div>"
   ]
  },
  {
   "cell_type": "markdown",
   "id": "7150f407",
   "metadata": {},
   "source": [
    "# Исследование успешности компьютерных игр. Прогнозирование продаж"
   ]
  },
  {
   "cell_type": "markdown",
   "id": "bb8f3d4c",
   "metadata": {},
   "source": [
    "## Цели и описание"
   ]
  },
  {
   "cell_type": "markdown",
   "id": "387b2a01",
   "metadata": {},
   "source": [
    "Требуется выявить закономерности, определяющие успешность игры, на основе исторических данных из открытых источников для прогнозирования продаж на следующий год. Нужно выявить потенциально успешный продукт для планирования рекламных кампаний.  \n",
    "Доступны данные о продажах игр, оценки пользователей и экспертов, жанры и платформы.  \n",
    "Для того, чтобы это осуществить, проведем исследование:\n",
    "\n",
    "- составим \"портрет\" пользователя по регионам;\n",
    "- определим наиболее успешные платформы и жанры;\n",
    "- проверим, влияет ли рейтинг ESRB на продажи по регионам;\n",
    "- проведем статистический тест для проверки гипотез."
   ]
  },
  {
   "cell_type": "markdown",
   "id": "cb74260b",
   "metadata": {},
   "source": [
    "### Обзор данных"
   ]
  },
  {
   "cell_type": "markdown",
   "id": "193b997a",
   "metadata": {},
   "source": [
    "Импорт библиотек"
   ]
  },
  {
   "cell_type": "code",
   "execution_count": 1,
   "id": "f51bffe4",
   "metadata": {},
   "outputs": [],
   "source": [
    "import pandas as pd\n",
    "import matplotlib\n",
    "from matplotlib import pyplot as plt\n",
    "import seaborn as sns\n",
    "import numpy as np\n",
    "import os as os\n",
    "from scipy import stats as st"
   ]
  },
  {
   "cell_type": "markdown",
   "id": "3d197a7f",
   "metadata": {},
   "source": [
    "Распаковка файла. Используем два пути для загрузки с сервера и локальной работы:"
   ]
  },
  {
   "cell_type": "code",
   "execution_count": 2,
   "id": "ae839d41",
   "metadata": {},
   "outputs": [],
   "source": [
    "path_1 = r'C:\\Users\\HP\\Desktop\\Yandex Analytics\\Projects\\Consolidated_project_games_sales_planning\\games.csv'\n",
    "path_2 = '/datasets/games.csv'\n",
    "\n",
    "if os.path.exists(path_1):\n",
    "    data = pd.read_csv(path_1)\n",
    "elif os.path.exists(path_2):\n",
    "    data = pd.read_csv(path_2)\n",
    "else:\n",
    "    print('Something is wrong: path not exist')"
   ]
  },
  {
   "cell_type": "markdown",
   "id": "3fdbc7d6",
   "metadata": {},
   "source": [
    "Обзор данных:"
   ]
  },
  {
   "cell_type": "code",
   "execution_count": 3,
   "id": "e81ed4e6",
   "metadata": {
    "scrolled": false
   },
   "outputs": [
    {
     "data": {
      "text/html": [
       "<div>\n",
       "<style scoped>\n",
       "    .dataframe tbody tr th:only-of-type {\n",
       "        vertical-align: middle;\n",
       "    }\n",
       "\n",
       "    .dataframe tbody tr th {\n",
       "        vertical-align: top;\n",
       "    }\n",
       "\n",
       "    .dataframe thead th {\n",
       "        text-align: right;\n",
       "    }\n",
       "</style>\n",
       "<table border=\"1\" class=\"dataframe\">\n",
       "  <thead>\n",
       "    <tr style=\"text-align: right;\">\n",
       "      <th></th>\n",
       "      <th>Name</th>\n",
       "      <th>Platform</th>\n",
       "      <th>Year_of_Release</th>\n",
       "      <th>Genre</th>\n",
       "      <th>NA_sales</th>\n",
       "      <th>EU_sales</th>\n",
       "      <th>JP_sales</th>\n",
       "      <th>Other_sales</th>\n",
       "      <th>Critic_Score</th>\n",
       "      <th>User_Score</th>\n",
       "      <th>Rating</th>\n",
       "    </tr>\n",
       "  </thead>\n",
       "  <tbody>\n",
       "    <tr>\n",
       "      <th>0</th>\n",
       "      <td>Wii Sports</td>\n",
       "      <td>Wii</td>\n",
       "      <td>2006.0</td>\n",
       "      <td>Sports</td>\n",
       "      <td>41.36</td>\n",
       "      <td>28.96</td>\n",
       "      <td>3.77</td>\n",
       "      <td>8.45</td>\n",
       "      <td>76.0</td>\n",
       "      <td>8</td>\n",
       "      <td>E</td>\n",
       "    </tr>\n",
       "    <tr>\n",
       "      <th>1</th>\n",
       "      <td>Super Mario Bros.</td>\n",
       "      <td>NES</td>\n",
       "      <td>1985.0</td>\n",
       "      <td>Platform</td>\n",
       "      <td>29.08</td>\n",
       "      <td>3.58</td>\n",
       "      <td>6.81</td>\n",
       "      <td>0.77</td>\n",
       "      <td>NaN</td>\n",
       "      <td>NaN</td>\n",
       "      <td>NaN</td>\n",
       "    </tr>\n",
       "    <tr>\n",
       "      <th>2</th>\n",
       "      <td>Mario Kart Wii</td>\n",
       "      <td>Wii</td>\n",
       "      <td>2008.0</td>\n",
       "      <td>Racing</td>\n",
       "      <td>15.68</td>\n",
       "      <td>12.76</td>\n",
       "      <td>3.79</td>\n",
       "      <td>3.29</td>\n",
       "      <td>82.0</td>\n",
       "      <td>8.3</td>\n",
       "      <td>E</td>\n",
       "    </tr>\n",
       "    <tr>\n",
       "      <th>3</th>\n",
       "      <td>Wii Sports Resort</td>\n",
       "      <td>Wii</td>\n",
       "      <td>2009.0</td>\n",
       "      <td>Sports</td>\n",
       "      <td>15.61</td>\n",
       "      <td>10.93</td>\n",
       "      <td>3.28</td>\n",
       "      <td>2.95</td>\n",
       "      <td>80.0</td>\n",
       "      <td>8</td>\n",
       "      <td>E</td>\n",
       "    </tr>\n",
       "    <tr>\n",
       "      <th>4</th>\n",
       "      <td>Pokemon Red/Pokemon Blue</td>\n",
       "      <td>GB</td>\n",
       "      <td>1996.0</td>\n",
       "      <td>Role-Playing</td>\n",
       "      <td>11.27</td>\n",
       "      <td>8.89</td>\n",
       "      <td>10.22</td>\n",
       "      <td>1.00</td>\n",
       "      <td>NaN</td>\n",
       "      <td>NaN</td>\n",
       "      <td>NaN</td>\n",
       "    </tr>\n",
       "    <tr>\n",
       "      <th>5</th>\n",
       "      <td>Tetris</td>\n",
       "      <td>GB</td>\n",
       "      <td>1989.0</td>\n",
       "      <td>Puzzle</td>\n",
       "      <td>23.20</td>\n",
       "      <td>2.26</td>\n",
       "      <td>4.22</td>\n",
       "      <td>0.58</td>\n",
       "      <td>NaN</td>\n",
       "      <td>NaN</td>\n",
       "      <td>NaN</td>\n",
       "    </tr>\n",
       "    <tr>\n",
       "      <th>6</th>\n",
       "      <td>New Super Mario Bros.</td>\n",
       "      <td>DS</td>\n",
       "      <td>2006.0</td>\n",
       "      <td>Platform</td>\n",
       "      <td>11.28</td>\n",
       "      <td>9.14</td>\n",
       "      <td>6.50</td>\n",
       "      <td>2.88</td>\n",
       "      <td>89.0</td>\n",
       "      <td>8.5</td>\n",
       "      <td>E</td>\n",
       "    </tr>\n",
       "    <tr>\n",
       "      <th>7</th>\n",
       "      <td>Wii Play</td>\n",
       "      <td>Wii</td>\n",
       "      <td>2006.0</td>\n",
       "      <td>Misc</td>\n",
       "      <td>13.96</td>\n",
       "      <td>9.18</td>\n",
       "      <td>2.93</td>\n",
       "      <td>2.84</td>\n",
       "      <td>58.0</td>\n",
       "      <td>6.6</td>\n",
       "      <td>E</td>\n",
       "    </tr>\n",
       "    <tr>\n",
       "      <th>8</th>\n",
       "      <td>New Super Mario Bros. Wii</td>\n",
       "      <td>Wii</td>\n",
       "      <td>2009.0</td>\n",
       "      <td>Platform</td>\n",
       "      <td>14.44</td>\n",
       "      <td>6.94</td>\n",
       "      <td>4.70</td>\n",
       "      <td>2.24</td>\n",
       "      <td>87.0</td>\n",
       "      <td>8.4</td>\n",
       "      <td>E</td>\n",
       "    </tr>\n",
       "    <tr>\n",
       "      <th>9</th>\n",
       "      <td>Duck Hunt</td>\n",
       "      <td>NES</td>\n",
       "      <td>1984.0</td>\n",
       "      <td>Shooter</td>\n",
       "      <td>26.93</td>\n",
       "      <td>0.63</td>\n",
       "      <td>0.28</td>\n",
       "      <td>0.47</td>\n",
       "      <td>NaN</td>\n",
       "      <td>NaN</td>\n",
       "      <td>NaN</td>\n",
       "    </tr>\n",
       "  </tbody>\n",
       "</table>\n",
       "</div>"
      ],
      "text/plain": [
       "                        Name Platform  Year_of_Release         Genre  \\\n",
       "0                 Wii Sports      Wii           2006.0        Sports   \n",
       "1          Super Mario Bros.      NES           1985.0      Platform   \n",
       "2             Mario Kart Wii      Wii           2008.0        Racing   \n",
       "3          Wii Sports Resort      Wii           2009.0        Sports   \n",
       "4   Pokemon Red/Pokemon Blue       GB           1996.0  Role-Playing   \n",
       "5                     Tetris       GB           1989.0        Puzzle   \n",
       "6      New Super Mario Bros.       DS           2006.0      Platform   \n",
       "7                   Wii Play      Wii           2006.0          Misc   \n",
       "8  New Super Mario Bros. Wii      Wii           2009.0      Platform   \n",
       "9                  Duck Hunt      NES           1984.0       Shooter   \n",
       "\n",
       "   NA_sales  EU_sales  JP_sales  Other_sales  Critic_Score User_Score Rating  \n",
       "0     41.36     28.96      3.77         8.45          76.0          8      E  \n",
       "1     29.08      3.58      6.81         0.77           NaN        NaN    NaN  \n",
       "2     15.68     12.76      3.79         3.29          82.0        8.3      E  \n",
       "3     15.61     10.93      3.28         2.95          80.0          8      E  \n",
       "4     11.27      8.89     10.22         1.00           NaN        NaN    NaN  \n",
       "5     23.20      2.26      4.22         0.58           NaN        NaN    NaN  \n",
       "6     11.28      9.14      6.50         2.88          89.0        8.5      E  \n",
       "7     13.96      9.18      2.93         2.84          58.0        6.6      E  \n",
       "8     14.44      6.94      4.70         2.24          87.0        8.4      E  \n",
       "9     26.93      0.63      0.28         0.47           NaN        NaN    NaN  "
      ]
     },
     "metadata": {},
     "output_type": "display_data"
    },
    {
     "name": "stdout",
     "output_type": "stream",
     "text": [
      "-------------------------------------------------------------------------------------------------------------------\n",
      "Общая информация\n",
      "<class 'pandas.core.frame.DataFrame'>\n",
      "RangeIndex: 16715 entries, 0 to 16714\n",
      "Data columns (total 11 columns):\n",
      " #   Column           Non-Null Count  Dtype  \n",
      "---  ------           --------------  -----  \n",
      " 0   Name             16713 non-null  object \n",
      " 1   Platform         16715 non-null  object \n",
      " 2   Year_of_Release  16446 non-null  float64\n",
      " 3   Genre            16713 non-null  object \n",
      " 4   NA_sales         16715 non-null  float64\n",
      " 5   EU_sales         16715 non-null  float64\n",
      " 6   JP_sales         16715 non-null  float64\n",
      " 7   Other_sales      16715 non-null  float64\n",
      " 8   Critic_Score     8137 non-null   float64\n",
      " 9   User_Score       10014 non-null  object \n",
      " 10  Rating           9949 non-null   object \n",
      "dtypes: float64(6), object(5)\n",
      "memory usage: 1.4+ MB\n",
      "None\n",
      "-------------------------------------------------------------------------------------------------------------------\n",
      "       Year_of_Release      NA_sales      EU_sales      JP_sales  \\\n",
      "count     16446.000000  16715.000000  16715.000000  16715.000000   \n",
      "mean       2006.484616      0.263377      0.145060      0.077617   \n",
      "std           5.877050      0.813604      0.503339      0.308853   \n",
      "min        1980.000000      0.000000      0.000000      0.000000   \n",
      "25%        2003.000000      0.000000      0.000000      0.000000   \n",
      "50%        2007.000000      0.080000      0.020000      0.000000   \n",
      "75%        2010.000000      0.240000      0.110000      0.040000   \n",
      "max        2016.000000     41.360000     28.960000     10.220000   \n",
      "\n",
      "        Other_sales  Critic_Score  \n",
      "count  16715.000000   8137.000000  \n",
      "mean       0.047342     68.967679  \n",
      "std        0.186731     13.938165  \n",
      "min        0.000000     13.000000  \n",
      "25%        0.000000     60.000000  \n",
      "50%        0.010000     71.000000  \n",
      "75%        0.030000     79.000000  \n",
      "max       10.570000     98.000000  \n",
      "-------------------------------------------------------------------------------------------------------------------\n",
      "Количество пропусков\n",
      "Name                  2\n",
      "Platform              0\n",
      "Year_of_Release     269\n",
      "Genre                 2\n",
      "NA_sales              0\n",
      "EU_sales              0\n",
      "JP_sales              0\n",
      "Other_sales           0\n",
      "Critic_Score       8578\n",
      "User_Score         6701\n",
      "Rating             6766\n",
      "dtype: int64\n"
     ]
    }
   ],
   "source": [
    "# функция для вывода обзорной информации о данных\n",
    "def prep(data):\n",
    "    display(data.head(10))\n",
    "    print('-------------------------------------------------------------------------------------------------------------------')\n",
    "    print('Общая информация')\n",
    "    print(data.info())\n",
    "    print('-------------------------------------------------------------------------------------------------------------------')\n",
    "    print(data.describe())\n",
    "    print('-------------------------------------------------------------------------------------------------------------------')\n",
    "    print('Количество пропусков')\n",
    "    print(data.isna().sum())\n",
    "    \n",
    "prep(data)"
   ]
  },
  {
   "cell_type": "markdown",
   "id": "008ad0d4",
   "metadata": {},
   "source": [
    "Датасет содержит 16 714 строк. В обзорной информации о данных есть проблемы, требующие предобработки:\n",
    "- наименования столбцов написаны в разном регистре;\n",
    "- имеются пропуски числовых данных в столбцах `year_of_release`, `user_score`, `critic_score`, `rating`. Также подсчет показал наличие двух строк с пропусками в названии игры и жанре;\n",
    "- данных в столбцах `year_of_release`, `user_score`, `critic_score` требуется привести к корректным типам;\n",
    "- из-за некорректного типа данных в столбце `user_score` не рассчитаны показатели среднего и распределения по квартилям, поэтому не видно, есть ли выбросы данных в этой колонке. Проверим наличие выбросов по столбцам дополнительно в следующем пункте.\n",
    "\n",
    "После исправления этих ошибок проверим данные на наличие явных и неявных дубликатов."
   ]
  },
  {
   "cell_type": "markdown",
   "id": "2669d9c1",
   "metadata": {},
   "source": [
    "## Предобработка данных"
   ]
  },
  {
   "cell_type": "markdown",
   "id": "78ea4d98",
   "metadata": {},
   "source": [
    "Сначала приведем названия колонок к нижнему регистру для удобства дальнейшей работы с данными."
   ]
  },
  {
   "cell_type": "code",
   "execution_count": 4,
   "id": "ca28d41b",
   "metadata": {},
   "outputs": [
    {
     "data": {
      "text/plain": [
       "Index(['name', 'platform', 'year_of_release', 'genre', 'na_sales', 'eu_sales',\n",
       "       'jp_sales', 'other_sales', 'critic_score', 'user_score', 'rating'],\n",
       "      dtype='object')"
      ]
     },
     "execution_count": 4,
     "metadata": {},
     "output_type": "execute_result"
    }
   ],
   "source": [
    "data.columns = data.columns.str.lower()\n",
    "data.columns"
   ]
  },
  {
   "cell_type": "markdown",
   "id": "0d7287d5",
   "metadata": {},
   "source": [
    "### Обработка пропусков"
   ]
  },
  {
   "cell_type": "markdown",
   "id": "d59583e8",
   "metadata": {},
   "source": [
    "Основная часть пропущенных значений - числовые, но есть также две строки, где не указано название игры и жанр."
   ]
  },
  {
   "cell_type": "code",
   "execution_count": 5,
   "id": "95ff4c72",
   "metadata": {},
   "outputs": [
    {
     "data": {
      "text/html": [
       "<div>\n",
       "<style scoped>\n",
       "    .dataframe tbody tr th:only-of-type {\n",
       "        vertical-align: middle;\n",
       "    }\n",
       "\n",
       "    .dataframe tbody tr th {\n",
       "        vertical-align: top;\n",
       "    }\n",
       "\n",
       "    .dataframe thead th {\n",
       "        text-align: right;\n",
       "    }\n",
       "</style>\n",
       "<table border=\"1\" class=\"dataframe\">\n",
       "  <thead>\n",
       "    <tr style=\"text-align: right;\">\n",
       "      <th></th>\n",
       "      <th>name</th>\n",
       "      <th>platform</th>\n",
       "      <th>year_of_release</th>\n",
       "      <th>genre</th>\n",
       "      <th>na_sales</th>\n",
       "      <th>eu_sales</th>\n",
       "      <th>jp_sales</th>\n",
       "      <th>other_sales</th>\n",
       "      <th>critic_score</th>\n",
       "      <th>user_score</th>\n",
       "      <th>rating</th>\n",
       "    </tr>\n",
       "  </thead>\n",
       "  <tbody>\n",
       "    <tr>\n",
       "      <th>659</th>\n",
       "      <td>NaN</td>\n",
       "      <td>GEN</td>\n",
       "      <td>1993.0</td>\n",
       "      <td>NaN</td>\n",
       "      <td>1.78</td>\n",
       "      <td>0.53</td>\n",
       "      <td>0.00</td>\n",
       "      <td>0.08</td>\n",
       "      <td>NaN</td>\n",
       "      <td>NaN</td>\n",
       "      <td>NaN</td>\n",
       "    </tr>\n",
       "    <tr>\n",
       "      <th>14244</th>\n",
       "      <td>NaN</td>\n",
       "      <td>GEN</td>\n",
       "      <td>1993.0</td>\n",
       "      <td>NaN</td>\n",
       "      <td>0.00</td>\n",
       "      <td>0.00</td>\n",
       "      <td>0.03</td>\n",
       "      <td>0.00</td>\n",
       "      <td>NaN</td>\n",
       "      <td>NaN</td>\n",
       "      <td>NaN</td>\n",
       "    </tr>\n",
       "  </tbody>\n",
       "</table>\n",
       "</div>"
      ],
      "text/plain": [
       "      name platform  year_of_release genre  na_sales  eu_sales  jp_sales  \\\n",
       "659    NaN      GEN           1993.0   NaN      1.78      0.53      0.00   \n",
       "14244  NaN      GEN           1993.0   NaN      0.00      0.00      0.03   \n",
       "\n",
       "       other_sales  critic_score user_score rating  \n",
       "659           0.08           NaN        NaN    NaN  \n",
       "14244         0.00           NaN        NaN    NaN  "
      ]
     },
     "execution_count": 5,
     "metadata": {},
     "output_type": "execute_result"
    }
   ],
   "source": [
    "data[data['name'].isna()]"
   ]
  },
  {
   "cell_type": "markdown",
   "id": "6bf65de7",
   "metadata": {},
   "source": [
    "Очевидно, что пропуски в имени и жанре относятся к одним и тем же строкам. Без названия игры вся строка не имеет смысла, и удаление этих строк не повлияет на результат. Удалим их:"
   ]
  },
  {
   "cell_type": "code",
   "execution_count": 6,
   "id": "feb9223a",
   "metadata": {},
   "outputs": [
    {
     "data": {
      "text/plain": [
       "Int64Index([], dtype='int64')"
      ]
     },
     "execution_count": 6,
     "metadata": {},
     "output_type": "execute_result"
    }
   ],
   "source": [
    "data.dropna(subset=['name'], inplace=True)\n",
    "data[data['name'].isna()].index"
   ]
  },
  {
   "cell_type": "markdown",
   "id": "559649c4",
   "metadata": {},
   "source": [
    "В столбцах `year_of_release`, `user_score`, `critic_score`, `rating` пропущены числовые значения, и в таблице нет других данных, на основе которых можно было бы логично заполнить эти пропуски. Заполнение медианой также будет некорректно, т.к. пропусков слишком много, а в случае с оценкой критиков это половина всего датасета. Подстановка медианных значений вместо пропущенных в таком объеме исказит результаты, а имеющихся данных без пропусков достаточно для того, чтобы обрабатывать и делать выводы.  \n",
    "Заменим пропуски в этих колонках на 0."
   ]
  },
  {
   "cell_type": "code",
   "execution_count": 7,
   "id": "6ccc3fdc",
   "metadata": {
    "scrolled": false
   },
   "outputs": [
    {
     "data": {
      "text/plain": [
       "name               0\n",
       "platform           0\n",
       "year_of_release    0\n",
       "genre              0\n",
       "na_sales           0\n",
       "eu_sales           0\n",
       "jp_sales           0\n",
       "other_sales        0\n",
       "critic_score       0\n",
       "user_score         0\n",
       "rating             0\n",
       "dtype: int64"
      ]
     },
     "execution_count": 7,
     "metadata": {},
     "output_type": "execute_result"
    }
   ],
   "source": [
    "data[['year_of_release', 'user_score', 'critic_score', 'rating']] = \\\n",
    "data[['year_of_release', 'user_score', 'critic_score', 'rating']].fillna(0)\n",
    "# проверка, что пропусков не осталось\n",
    "data.isna().sum()"
   ]
  },
  {
   "cell_type": "markdown",
   "id": "5b11c971",
   "metadata": {},
   "source": [
    "### Преобразование типов"
   ]
  },
  {
   "cell_type": "markdown",
   "id": "67bcf45b",
   "metadata": {},
   "source": [
    "Преобразуем типы данных в столбцах `year_of_release`, `user_score`. Данные в столбце `year` приведем к целочисленному типу, поскольку год не должен иметь дробную часть. Оценка критиков - это число с плавающей точкой. Оценка может быть и дробным числом, а при округлении точность снизится, поэтому оставим в этой колонке тип `float` и приведем к тому же типу столбец с оценками пользователей.   \n",
    "Попытка преобразовать тип данных привела к ошибке:"
   ]
  },
  {
   "cell_type": "code",
   "execution_count": 8,
   "id": "30254501",
   "metadata": {
    "scrolled": false
   },
   "outputs": [
    {
     "name": "stdout",
     "output_type": "stream",
     "text": [
      "error: could not convert string to float: \"tbd\"\n"
     ]
    }
   ],
   "source": [
    "try:\n",
    "    data['user_score'] = data['user_score'].astype('float')\n",
    "except:\n",
    "    print('error: could not convert string to float: \"tbd\"')"
   ]
  },
  {
   "cell_type": "markdown",
   "id": "e695b521",
   "metadata": {},
   "source": [
    "Обнаружилось некое текстовое значение tbd. Это явно какая-то аббревиатура, в документации этого обозначения нет, и тут поможет поиск: tbd - to be determined - подлежит определению. То есть, этим сочетанием обозначены строки без оценки, и по смыслу это ничем не отличается от NaN, а раз не отличается, то исправим тем же способом, т.е. заменим на 0:"
   ]
  },
  {
   "cell_type": "code",
   "execution_count": 9,
   "id": "07d7d94e",
   "metadata": {
    "scrolled": true
   },
   "outputs": [],
   "source": [
    "data['user_score'].replace({'tbd':'0'},inplace=True)"
   ]
  },
  {
   "cell_type": "markdown",
   "id": "aa48fe24",
   "metadata": {},
   "source": [
    "Приведем год выпуска к целочисленному типу:"
   ]
  },
  {
   "cell_type": "code",
   "execution_count": 10,
   "id": "6b3adfcc",
   "metadata": {},
   "outputs": [],
   "source": [
    "data['year_of_release'] = data['year_of_release'].astype('int')"
   ]
  },
  {
   "cell_type": "markdown",
   "id": "438ac6f6",
   "metadata": {},
   "source": [
    "Пропусков не осталось и типы преобразованы, но строки, в которых не указан год, также лучше отбросить: в дальнейшем их в любом случае придется отфильтровывать, чтобы они не искажали результаты. Таких строк было 269, это незначительное количество относительно всего датасета."
   ]
  },
  {
   "cell_type": "code",
   "execution_count": 11,
   "id": "cca852bc",
   "metadata": {},
   "outputs": [],
   "source": [
    "data = data.query('year_of_release != 0').copy()"
   ]
  },
  {
   "cell_type": "markdown",
   "id": "b3ca3c51",
   "metadata": {},
   "source": [
    "## Исследовательский анализ"
   ]
  },
  {
   "cell_type": "markdown",
   "id": "be59ba6a",
   "metadata": {},
   "source": [
    "### Суммарные продажи и определение актуального периода"
   ]
  },
  {
   "cell_type": "markdown",
   "id": "cecabd7a",
   "metadata": {},
   "source": [
    "В этом разделе изучим основные факторы и закономерности, влияющие на продажи.  \n",
    "Датасет содержит информацию за достаточно длинный промежуток времени, и в нем есть довольно отдаленные периоды. Выясним, сколько игр выпускалось в разные годы.  \n",
    "Сгруппируем данные по годам и определим количество игр в каждый год, а затем построим график для наглядности."
   ]
  },
  {
   "cell_type": "markdown",
   "id": "d59d07be",
   "metadata": {},
   "source": [
    "Считаем количество релизов по годам:"
   ]
  },
  {
   "cell_type": "code",
   "execution_count": 12,
   "id": "29ed7ccf",
   "metadata": {},
   "outputs": [],
   "source": [
    "quantity_per_year = data.groupby('year_of_release')['name'].count()"
   ]
  },
  {
   "cell_type": "markdown",
   "id": "e29b8981",
   "metadata": {},
   "source": [
    "Строим диаграмму:"
   ]
  },
  {
   "cell_type": "code",
   "execution_count": 13,
   "id": "a8899378",
   "metadata": {
    "scrolled": false
   },
   "outputs": [
    {
     "data": {
      "image/png": "[encoded data removed]",
      "text/plain": [
       "<Figure size 576x576 with 1 Axes>"
      ]
     },
     "metadata": {
      "needs_background": "light"
     },
     "output_type": "display_data"
    }
   ],
   "source": [
    "# задаем параметры для диаграммы\n",
    "fig,ax = plt.subplots(figsize=(8,8))\n",
    "ax.grid()\n",
    "ax.plot(quantity_per_year, color='orange', marker='o')\n",
    "# добавляем заголовок и подписи\n",
    "ax.set_xlabel('quantity')\n",
    "ax.set_title('Games released by year')\n",
    "plt.show()"
   ]
  },
  {
   "cell_type": "markdown",
   "id": "c996ae89",
   "metadata": {},
   "source": [
    "На графике видно четкое распределение: количество выпускаемых игр было очень небольшим до 1995 года, затем плавно возрастало, и после 2000 года произошел резкий скачок вверх. Пик активности пришелся на 2005-2012 годы, а затем количество релизов стремительно падает.  \n",
    "Данные до 1995 года точно можно отфильтровать ввиду их незначительности. Количество релизов в промежутке 1995-2000 годов также невелико, и данных за 15 лет достаточно для анализа, однако окончательное решение об исключении этого периода (или наоборот) примем после анализа распределения продаж по годам.  \n",
    "Посмотрим, насколько отличаются продажи у разных платформ. Рассчитаем суммарные продажи в исходном датасете и объединим по платформам."
   ]
  },
  {
   "cell_type": "markdown",
   "id": "498b6ef5",
   "metadata": {},
   "source": [
    "Добавим столбец с суммарными продажами в исходный датасет:"
   ]
  },
  {
   "cell_type": "code",
   "execution_count": 14,
   "id": "c3b77fa0",
   "metadata": {},
   "outputs": [],
   "source": [
    "data['total_sales'] = data[['na_sales', 'eu_sales', 'jp_sales']].sum(axis=1)"
   ]
  },
  {
   "cell_type": "markdown",
   "id": "7795b47d",
   "metadata": {},
   "source": [
    "Сформируем сводную таблицу по суммарным продажам:"
   ]
  },
  {
   "cell_type": "code",
   "execution_count": 15,
   "id": "30f607f7",
   "metadata": {
    "scrolled": true
   },
   "outputs": [
    {
     "data": {
      "text/html": [
       "<div>\n",
       "<style scoped>\n",
       "    .dataframe tbody tr th:only-of-type {\n",
       "        vertical-align: middle;\n",
       "    }\n",
       "\n",
       "    .dataframe tbody tr th {\n",
       "        vertical-align: top;\n",
       "    }\n",
       "\n",
       "    .dataframe thead th {\n",
       "        text-align: right;\n",
       "    }\n",
       "</style>\n",
       "<table border=\"1\" class=\"dataframe\">\n",
       "  <thead>\n",
       "    <tr style=\"text-align: right;\">\n",
       "      <th></th>\n",
       "      <th>platform</th>\n",
       "      <th>total_sales</th>\n",
       "      <th>quantity</th>\n",
       "    </tr>\n",
       "  </thead>\n",
       "  <tbody>\n",
       "    <tr>\n",
       "      <th>0</th>\n",
       "      <td>2600</td>\n",
       "      <td>85.64</td>\n",
       "      <td>116</td>\n",
       "    </tr>\n",
       "    <tr>\n",
       "      <th>1</th>\n",
       "      <td>3DO</td>\n",
       "      <td>0.10</td>\n",
       "      <td>3</td>\n",
       "    </tr>\n",
       "    <tr>\n",
       "      <th>2</th>\n",
       "      <td>3DS</td>\n",
       "      <td>244.54</td>\n",
       "      <td>512</td>\n",
       "    </tr>\n",
       "    <tr>\n",
       "      <th>3</th>\n",
       "      <td>DC</td>\n",
       "      <td>15.68</td>\n",
       "      <td>52</td>\n",
       "    </tr>\n",
       "    <tr>\n",
       "      <th>4</th>\n",
       "      <td>DS</td>\n",
       "      <td>743.74</td>\n",
       "      <td>2121</td>\n",
       "    </tr>\n",
       "  </tbody>\n",
       "</table>\n",
       "</div>"
      ],
      "text/plain": [
       "  platform  total_sales  quantity\n",
       "0     2600        85.64       116\n",
       "1      3DO         0.10         3\n",
       "2      3DS       244.54       512\n",
       "3       DC        15.68        52\n",
       "4       DS       743.74      2121"
      ]
     },
     "execution_count": 15,
     "metadata": {},
     "output_type": "execute_result"
    }
   ],
   "source": [
    "sales_pivot = data.pivot_table(index='platform',\n",
    "                               values='total_sales',\n",
    "                               aggfunc=['sum','count']).reset_index()\n",
    "sales_pivot.columns = ['platform', 'total_sales', 'quantity']\n",
    "sales_pivot.head()"
   ]
  },
  {
   "cell_type": "markdown",
   "id": "084a35a5",
   "metadata": {},
   "source": [
    "Построим диаграмму по суммарным продажам для каждой платформы:"
   ]
  },
  {
   "cell_type": "code",
   "execution_count": 16,
   "id": "00269096",
   "metadata": {
    "scrolled": false
   },
   "outputs": [
    {
     "data": {
      "image/png": "[encoded data removed]",
      "text/plain": [
       "<Figure size 576x576 with 1 Axes>"
      ]
     },
     "metadata": {
      "needs_background": "light"
     },
     "output_type": "display_data"
    }
   ],
   "source": [
    "# задаем параметры для диаграммы\n",
    "fig,ax = plt.subplots(figsize=(8,8))\n",
    "# задаем оси\n",
    "x_platform = sales_pivot['platform']\n",
    "y_platform = sales_pivot['total_sales'].round(3)\n",
    "ax.barh(x_platform, y_platform, color='orange')\n",
    "# добавляем заголовок и подписи\n",
    "ax.set_xlabel('total sales, million copies')\n",
    "ax.set_title('Total sales by platform')\n",
    "plt.bar_label(ax.containers[0])\n",
    "plt.show()"
   ]
  },
  {
   "cell_type": "markdown",
   "id": "22d6485f",
   "metadata": {},
   "source": [
    "В общем ряду явно выделяются лидеры с продажами более 686 млн копий в год, но также значительная группа платформ с продажами от 200 до 600 млн копий, пожалуй, не стоит их отбрасывать. При этом разрыв между значениями в 400 млн копий все-таки большой.  \n",
    "Проверим, как менялась динамика продаж у платформ-лидеров и платформ со средними показателями, и есть ли разница в динамике:"
   ]
  },
  {
   "cell_type": "markdown",
   "id": "27061910",
   "metadata": {},
   "source": [
    "Создадим выборку для платформ-лидеров и середнячков:"
   ]
  },
  {
   "cell_type": "code",
   "execution_count": 17,
   "id": "2a576399",
   "metadata": {},
   "outputs": [],
   "source": [
    "big_platform = sales_pivot.query('total_sales > 600')\n",
    "norm_platform = sales_pivot.query('200 < total_sales < 600')"
   ]
  },
  {
   "cell_type": "markdown",
   "id": "5abce41d",
   "metadata": {},
   "source": [
    "Фильтруем исходный сет по платформам:"
   ]
  },
  {
   "cell_type": "code",
   "execution_count": 18,
   "id": "1327ba3b",
   "metadata": {
    "scrolled": false
   },
   "outputs": [],
   "source": [
    "big_dynamics = data[data['platform'].isin(big_platform['platform'])]\n",
    "norm_dynamics = data[data['platform'].isin(norm_platform['platform'])]"
   ]
  },
  {
   "cell_type": "markdown",
   "id": "a39e92e8",
   "metadata": {},
   "source": [
    "Строим график распределения продаж по годам для лидеров. Сгруппируем данные по платформе и году и рассчитаем суммарные продажи:"
   ]
  },
  {
   "cell_type": "code",
   "execution_count": 19,
   "id": "b07d8c17",
   "metadata": {
    "scrolled": false
   },
   "outputs": [
    {
     "data": {
      "image/png": "[encoded data removed]",
      "text/plain": [
       "<Figure size 576x576 with 1 Axes>"
      ]
     },
     "metadata": {
      "needs_background": "light"
     },
     "output_type": "display_data"
    }
   ],
   "source": [
    "big_dynamics.groupby(['platform','year_of_release'])['total_sales'].sum().\\\n",
    "unstack('platform').plot(figsize=(8,8), title='Big platform total sales per year', \\\n",
    "                         ylabel='sales, million copies', grid=True)\n",
    "plt.show()"
   ]
  },
  {
   "cell_type": "markdown",
   "id": "b73bdc02",
   "metadata": {},
   "source": [
    "Строим аналогичное распределение для платформ со средними продажами:"
   ]
  },
  {
   "cell_type": "code",
   "execution_count": 20,
   "id": "246b66d1",
   "metadata": {},
   "outputs": [
    {
     "data": {
      "image/png": "[encoded data removed]",
      "text/plain": [
       "<Figure size 576x576 with 1 Axes>"
      ]
     },
     "metadata": {
      "needs_background": "light"
     },
     "output_type": "display_data"
    }
   ],
   "source": [
    "norm_dynamics.groupby(['platform','year_of_release'])['total_sales'].sum().\\\n",
    "unstack('platform').plot(figsize=(8,8), title='Normal platform total sales per year', \\\n",
    "                         ylabel='sales, million copies', grid=True)\n",
    "plt.show()"
   ]
  },
  {
   "cell_type": "markdown",
   "id": "d1ab27c5",
   "metadata": {},
   "source": [
    "Каждая из платформ развивалась в свой промежуток времени. В период 1995-2000 попала одна из платформ-лидеров - PS, а две платформы из списка со средними продажами (NES и GB) - в период до 1995 г. При этом в своих группах эти платформы имеют самые низкие показатели суммарных продаж, поэтому период до 2000 года все-таки можно исключить из дальнейшего анализа.  \n",
    "Платформа PC на общем фоне также выделяется небольшими объемами - 233 млн копий, соответственно, границу суммарных продаж перенесем с 200 на 240 млн.  \n",
    "Для платформ-лидеров четко прослеживается \"жизненный цикл\" платформы от роста до спада - 10 лет. Для платформ со средними продажами цикл чуть короче - 5-7 лет. Большая часть платформ с максимальными показателями продаж развивалась в период после 2005 года, однако, для целей прогнозирования продаж редко берут данные более, чем за 2-3 года. К тому же, компьютерные игры - очень динамичная сфера, поэтому возьмем данные за 2 года. \n",
    "Выведем максимальный год:"
   ]
  },
  {
   "cell_type": "code",
   "execution_count": 21,
   "id": "e378a361",
   "metadata": {},
   "outputs": [
    {
     "data": {
      "text/plain": [
       "2016"
      ]
     },
     "execution_count": 21,
     "metadata": {},
     "output_type": "execute_result"
    }
   ],
   "source": [
    "data['year_of_release'].max()"
   ]
  },
  {
   "cell_type": "markdown",
   "id": "ef23326b",
   "metadata": {},
   "source": [
    "Сформируем датасет с учетом условия:  \n",
    "- год релиза не ранее 2014"
   ]
  },
  {
   "cell_type": "code",
   "execution_count": 22,
   "id": "b249baa1",
   "metadata": {},
   "outputs": [],
   "source": [
    "# задаем период для исследования\n",
    "final_data = data.query('year_of_release >= 2014').copy()\n",
    "# приводим оценки пользователей к нужному типу, иначе будет ошибка\n",
    "final_data['user_score'] = final_data['user_score'].astype('float')"
   ]
  },
  {
   "cell_type": "markdown",
   "id": "9dd309eb",
   "metadata": {},
   "source": [
    "### Выбор потенциально прибыльных платформ"
   ]
  },
  {
   "cell_type": "markdown",
   "id": "1fcf949d",
   "metadata": {},
   "source": [
    "Сформируем сводный датасет по суммарным продажам за период после 2005 года. Добавим туда промежуточные итоги по продажам для наглядности."
   ]
  },
  {
   "cell_type": "code",
   "execution_count": 23,
   "id": "169c66fb",
   "metadata": {},
   "outputs": [
    {
     "data": {
      "text/html": [
       "<div>\n",
       "<style scoped>\n",
       "    .dataframe tbody tr th:only-of-type {\n",
       "        vertical-align: middle;\n",
       "    }\n",
       "\n",
       "    .dataframe tbody tr th {\n",
       "        vertical-align: top;\n",
       "    }\n",
       "\n",
       "    .dataframe thead th {\n",
       "        text-align: right;\n",
       "    }\n",
       "</style>\n",
       "<table border=\"1\" class=\"dataframe\">\n",
       "  <thead>\n",
       "    <tr style=\"text-align: right;\">\n",
       "      <th></th>\n",
       "      <th>platform</th>\n",
       "      <th>year</th>\n",
       "      <th>eu_sales</th>\n",
       "      <th>jp_sales</th>\n",
       "      <th>na_sales</th>\n",
       "      <th>total_sales</th>\n",
       "      <th>subtotal</th>\n",
       "    </tr>\n",
       "  </thead>\n",
       "  <tbody>\n",
       "    <tr>\n",
       "      <th>0</th>\n",
       "      <td>3DS</td>\n",
       "      <td>2014</td>\n",
       "      <td>8.73</td>\n",
       "      <td>20.69</td>\n",
       "      <td>12.33</td>\n",
       "      <td>41.75</td>\n",
       "      <td>41.75</td>\n",
       "    </tr>\n",
       "    <tr>\n",
       "      <th>1</th>\n",
       "      <td>3DS</td>\n",
       "      <td>2015</td>\n",
       "      <td>5.06</td>\n",
       "      <td>15.52</td>\n",
       "      <td>6.17</td>\n",
       "      <td>26.75</td>\n",
       "      <td>68.50</td>\n",
       "    </tr>\n",
       "    <tr>\n",
       "      <th>2</th>\n",
       "      <td>3DS</td>\n",
       "      <td>2016</td>\n",
       "      <td>2.33</td>\n",
       "      <td>8.03</td>\n",
       "      <td>4.14</td>\n",
       "      <td>14.50</td>\n",
       "      <td>83.00</td>\n",
       "    </tr>\n",
       "    <tr>\n",
       "      <th>3</th>\n",
       "      <td>PC</td>\n",
       "      <td>2014</td>\n",
       "      <td>8.87</td>\n",
       "      <td>0.00</td>\n",
       "      <td>3.51</td>\n",
       "      <td>12.38</td>\n",
       "      <td>12.38</td>\n",
       "    </tr>\n",
       "    <tr>\n",
       "      <th>4</th>\n",
       "      <td>PC</td>\n",
       "      <td>2015</td>\n",
       "      <td>5.57</td>\n",
       "      <td>0.00</td>\n",
       "      <td>2.36</td>\n",
       "      <td>7.93</td>\n",
       "      <td>20.31</td>\n",
       "    </tr>\n",
       "    <tr>\n",
       "      <th>5</th>\n",
       "      <td>PC</td>\n",
       "      <td>2016</td>\n",
       "      <td>3.53</td>\n",
       "      <td>0.00</td>\n",
       "      <td>1.36</td>\n",
       "      <td>4.89</td>\n",
       "      <td>25.20</td>\n",
       "    </tr>\n",
       "    <tr>\n",
       "      <th>6</th>\n",
       "      <td>PS3</td>\n",
       "      <td>2014</td>\n",
       "      <td>18.24</td>\n",
       "      <td>6.25</td>\n",
       "      <td>16.39</td>\n",
       "      <td>40.88</td>\n",
       "      <td>40.88</td>\n",
       "    </tr>\n",
       "    <tr>\n",
       "      <th>7</th>\n",
       "      <td>PS3</td>\n",
       "      <td>2015</td>\n",
       "      <td>6.04</td>\n",
       "      <td>3.67</td>\n",
       "      <td>4.99</td>\n",
       "      <td>14.70</td>\n",
       "      <td>55.58</td>\n",
       "    </tr>\n",
       "    <tr>\n",
       "      <th>8</th>\n",
       "      <td>PS3</td>\n",
       "      <td>2016</td>\n",
       "      <td>1.26</td>\n",
       "      <td>1.30</td>\n",
       "      <td>0.67</td>\n",
       "      <td>3.23</td>\n",
       "      <td>58.81</td>\n",
       "    </tr>\n",
       "    <tr>\n",
       "      <th>9</th>\n",
       "      <td>PS4</td>\n",
       "      <td>2014</td>\n",
       "      <td>46.50</td>\n",
       "      <td>2.97</td>\n",
       "      <td>34.75</td>\n",
       "      <td>84.22</td>\n",
       "      <td>84.22</td>\n",
       "    </tr>\n",
       "  </tbody>\n",
       "</table>\n",
       "</div>"
      ],
      "text/plain": [
       "  platform  year  eu_sales  jp_sales  na_sales  total_sales  subtotal\n",
       "0      3DS  2014      8.73     20.69     12.33        41.75     41.75\n",
       "1      3DS  2015      5.06     15.52      6.17        26.75     68.50\n",
       "2      3DS  2016      2.33      8.03      4.14        14.50     83.00\n",
       "3       PC  2014      8.87      0.00      3.51        12.38     12.38\n",
       "4       PC  2015      5.57      0.00      2.36         7.93     20.31\n",
       "5       PC  2016      3.53      0.00      1.36         4.89     25.20\n",
       "6      PS3  2014     18.24      6.25     16.39        40.88     40.88\n",
       "7      PS3  2015      6.04      3.67      4.99        14.70     55.58\n",
       "8      PS3  2016      1.26      1.30      0.67         3.23     58.81\n",
       "9      PS4  2014     46.50      2.97     34.75        84.22     84.22"
      ]
     },
     "execution_count": 23,
     "metadata": {},
     "output_type": "execute_result"
    }
   ],
   "source": [
    "# группируем данные по платформам и годам\n",
    "final_pivot = final_data.pivot_table(index=['platform', 'year_of_release'],\n",
    "                                     values=['na_sales','eu_sales','jp_sales','total_sales'],\n",
    "                                    aggfunc='sum').reset_index()\n",
    "# переименовываем столбцы\n",
    "final_pivot.rename(columns={'year_of_release':'year'}, inplace=True)\n",
    "\n",
    "# добавляем кумулятивную сумму по годам\n",
    "final_pivot['subtotal'] = final_pivot.groupby('platform')['total_sales'].cumsum()\n",
    "final_pivot.head(10)"
   ]
  },
  {
   "cell_type": "markdown",
   "id": "e7ec9ecb",
   "metadata": {},
   "source": [
    "Определим, на каком этапе находятся платформы, построив график динамики продаж:"
   ]
  },
  {
   "cell_type": "code",
   "execution_count": 24,
   "id": "13af3edd",
   "metadata": {},
   "outputs": [
    {
     "data": {
      "image/png": "[encoded data removed]",
      "text/plain": [
       "<Figure size 576x576 with 1 Axes>"
      ]
     },
     "metadata": {
      "needs_background": "light"
     },
     "output_type": "display_data"
    }
   ],
   "source": [
    "final_pivot.groupby(['platform','year'])['total_sales'].sum().\\\n",
    "unstack('platform').plot(figsize=(8,8), title='Sales dynamics by year', \\\n",
    "                         ylabel='sales, million copies', grid=True)\n",
    "plt.show()"
   ]
  },
  {
   "cell_type": "markdown",
   "id": "3cd516f8",
   "metadata": {},
   "source": [
    "По вводным данным 2016 год еще не закончился. Данные за него неполные, поэтому не будем учитывать их.  \n",
    "Платформы X360, PS3 - все из списка лидеров - похоже, завершают свой жизненный цикл: они находятся на стадии спада, PS4 и XOne также падают. PSP из списка со средними продажами к 2015 году перестала подавать признаки жизни.  Продажи по другим платформам значительно меньше.  \n",
    "Продажи по платформам PSV и PC незначительно снижаются, но все же выглядят довольно стабильными. На предыдущем этапе эти платформы попали в список со средними продажами, вероятно, это произошло из-за того, что эти они пока не достигли пика продаж, а значит, они также перспективны.  \n",
    "Создадим общий список лидеров продаж и наиболее перспективных платформ и построим `boxplot` по глобальным продажам для каждой платформы:"
   ]
  },
  {
   "cell_type": "markdown",
   "id": "ecb654d9",
   "metadata": {},
   "source": [
    "Создаем список перспективных платформ:"
   ]
  },
  {
   "cell_type": "code",
   "execution_count": 25,
   "id": "c19a07eb",
   "metadata": {
    "scrolled": false
   },
   "outputs": [
    {
     "data": {
      "text/html": [
       "<div>\n",
       "<style scoped>\n",
       "    .dataframe tbody tr th:only-of-type {\n",
       "        vertical-align: middle;\n",
       "    }\n",
       "\n",
       "    .dataframe tbody tr th {\n",
       "        vertical-align: top;\n",
       "    }\n",
       "\n",
       "    .dataframe thead th {\n",
       "        text-align: right;\n",
       "    }\n",
       "</style>\n",
       "<table border=\"1\" class=\"dataframe\">\n",
       "  <thead>\n",
       "    <tr style=\"text-align: right;\">\n",
       "      <th></th>\n",
       "      <th>platform</th>\n",
       "      <th>total_sales</th>\n",
       "    </tr>\n",
       "  </thead>\n",
       "  <tbody>\n",
       "    <tr>\n",
       "      <th>0</th>\n",
       "      <td>3DS</td>\n",
       "      <td>83.00</td>\n",
       "    </tr>\n",
       "    <tr>\n",
       "      <th>1</th>\n",
       "      <td>PC</td>\n",
       "      <td>25.20</td>\n",
       "    </tr>\n",
       "    <tr>\n",
       "      <th>2</th>\n",
       "      <td>PS3</td>\n",
       "      <td>58.81</td>\n",
       "    </tr>\n",
       "    <tr>\n",
       "      <th>3</th>\n",
       "      <td>PS4</td>\n",
       "      <td>243.67</td>\n",
       "    </tr>\n",
       "    <tr>\n",
       "      <th>4</th>\n",
       "      <td>PSP</td>\n",
       "      <td>0.36</td>\n",
       "    </tr>\n",
       "    <tr>\n",
       "      <th>5</th>\n",
       "      <td>PSV</td>\n",
       "      <td>20.59</td>\n",
       "    </tr>\n",
       "    <tr>\n",
       "      <th>6</th>\n",
       "      <td>Wii</td>\n",
       "      <td>4.67</td>\n",
       "    </tr>\n",
       "    <tr>\n",
       "      <th>7</th>\n",
       "      <td>WiiU</td>\n",
       "      <td>39.82</td>\n",
       "    </tr>\n",
       "    <tr>\n",
       "      <th>8</th>\n",
       "      <td>X360</td>\n",
       "      <td>43.87</td>\n",
       "    </tr>\n",
       "    <tr>\n",
       "      <th>9</th>\n",
       "      <td>XOne</td>\n",
       "      <td>127.84</td>\n",
       "    </tr>\n",
       "  </tbody>\n",
       "</table>\n",
       "</div>"
      ],
      "text/plain": [
       "  platform  total_sales\n",
       "0      3DS        83.00\n",
       "1       PC        25.20\n",
       "2      PS3        58.81\n",
       "3      PS4       243.67\n",
       "4      PSP         0.36\n",
       "5      PSV        20.59\n",
       "6      Wii         4.67\n",
       "7     WiiU        39.82\n",
       "8     X360        43.87\n",
       "9     XOne       127.84"
      ]
     },
     "execution_count": 25,
     "metadata": {},
     "output_type": "execute_result"
    }
   ],
   "source": [
    "good_platform = final_pivot.pivot_table(index='platform',\n",
    "                                        values='total_sales',\n",
    "                                        aggfunc='sum').reset_index()\n",
    "good_platform"
   ]
  },
  {
   "cell_type": "markdown",
   "id": "105fbbaf",
   "metadata": {},
   "source": [
    "Фильтруем финальный датасет по перспективным платформам:"
   ]
  },
  {
   "cell_type": "code",
   "execution_count": 26,
   "id": "b2513a8d",
   "metadata": {},
   "outputs": [],
   "source": [
    "good_data = final_data[final_data['platform'].isin(good_platform['platform'])].reset_index(drop=True)"
   ]
  },
  {
   "cell_type": "markdown",
   "id": "6fa6c228",
   "metadata": {},
   "source": [
    "Строим распределение глобальных продаж по платформам. Используем `boxplot` для наглядности:"
   ]
  },
  {
   "cell_type": "code",
   "execution_count": 27,
   "id": "4e66eda1",
   "metadata": {},
   "outputs": [
    {
     "data": {
      "image/png": "[encoded data removed]",
      "text/plain": [
       "<Figure size 576x576 with 1 Axes>"
      ]
     },
     "metadata": {
      "needs_background": "light"
     },
     "output_type": "display_data"
    }
   ],
   "source": [
    "fig,ax = plt.subplots(figsize=(8,8))\n",
    "ax.set_title('Global total sales by platform')\n",
    "sns.boxplot(data=good_data, y='platform', x='total_sales', orient='h')\n",
    "plt.xlim([0,3])\n",
    "plt.grid()\n",
    "plt.show()"
   ]
  },
  {
   "cell_type": "markdown",
   "id": "edaeccec",
   "metadata": {},
   "source": [
    "Используем `describe` для более полного описания."
   ]
  },
  {
   "cell_type": "code",
   "execution_count": 28,
   "id": "7a6fdadb",
   "metadata": {},
   "outputs": [
    {
     "data": {
      "text/html": [
       "<div>\n",
       "<style scoped>\n",
       "    .dataframe tbody tr th:only-of-type {\n",
       "        vertical-align: middle;\n",
       "    }\n",
       "\n",
       "    .dataframe tbody tr th {\n",
       "        vertical-align: top;\n",
       "    }\n",
       "\n",
       "    .dataframe thead th {\n",
       "        text-align: right;\n",
       "    }\n",
       "</style>\n",
       "<table border=\"1\" class=\"dataframe\">\n",
       "  <thead>\n",
       "    <tr style=\"text-align: right;\">\n",
       "      <th>platform</th>\n",
       "      <th>3DS</th>\n",
       "      <th>PC</th>\n",
       "      <th>PS3</th>\n",
       "      <th>PS4</th>\n",
       "      <th>PSP</th>\n",
       "      <th>PSV</th>\n",
       "      <th>Wii</th>\n",
       "      <th>WiiU</th>\n",
       "      <th>X360</th>\n",
       "      <th>XOne</th>\n",
       "    </tr>\n",
       "  </thead>\n",
       "  <tbody>\n",
       "    <tr>\n",
       "      <th>count</th>\n",
       "      <td>212.000000</td>\n",
       "      <td>151.000000</td>\n",
       "      <td>219.000000</td>\n",
       "      <td>376.000000</td>\n",
       "      <td>13.000000</td>\n",
       "      <td>295.000000</td>\n",
       "      <td>11.000000</td>\n",
       "      <td>73.000000</td>\n",
       "      <td>111.000000</td>\n",
       "      <td>228.000000</td>\n",
       "    </tr>\n",
       "    <tr>\n",
       "      <th>mean</th>\n",
       "      <td>0.391509</td>\n",
       "      <td>0.166887</td>\n",
       "      <td>0.268539</td>\n",
       "      <td>0.648059</td>\n",
       "      <td>0.027692</td>\n",
       "      <td>0.069797</td>\n",
       "      <td>0.424545</td>\n",
       "      <td>0.545479</td>\n",
       "      <td>0.395225</td>\n",
       "      <td>0.560702</td>\n",
       "    </tr>\n",
       "    <tr>\n",
       "      <th>std</th>\n",
       "      <td>1.122935</td>\n",
       "      <td>0.304553</td>\n",
       "      <td>0.532896</td>\n",
       "      <td>1.358995</td>\n",
       "      <td>0.027735</td>\n",
       "      <td>0.123748</td>\n",
       "      <td>0.571601</td>\n",
       "      <td>1.079585</td>\n",
       "      <td>0.571941</td>\n",
       "      <td>0.951956</td>\n",
       "    </tr>\n",
       "    <tr>\n",
       "      <th>min</th>\n",
       "      <td>0.010000</td>\n",
       "      <td>0.010000</td>\n",
       "      <td>0.010000</td>\n",
       "      <td>0.010000</td>\n",
       "      <td>0.010000</td>\n",
       "      <td>0.010000</td>\n",
       "      <td>0.010000</td>\n",
       "      <td>0.010000</td>\n",
       "      <td>0.010000</td>\n",
       "      <td>0.010000</td>\n",
       "    </tr>\n",
       "    <tr>\n",
       "      <th>25%</th>\n",
       "      <td>0.030000</td>\n",
       "      <td>0.020000</td>\n",
       "      <td>0.030000</td>\n",
       "      <td>0.050000</td>\n",
       "      <td>0.010000</td>\n",
       "      <td>0.020000</td>\n",
       "      <td>0.035000</td>\n",
       "      <td>0.050000</td>\n",
       "      <td>0.060000</td>\n",
       "      <td>0.050000</td>\n",
       "    </tr>\n",
       "    <tr>\n",
       "      <th>50%</th>\n",
       "      <td>0.080000</td>\n",
       "      <td>0.060000</td>\n",
       "      <td>0.090000</td>\n",
       "      <td>0.160000</td>\n",
       "      <td>0.020000</td>\n",
       "      <td>0.030000</td>\n",
       "      <td>0.170000</td>\n",
       "      <td>0.170000</td>\n",
       "      <td>0.160000</td>\n",
       "      <td>0.185000</td>\n",
       "    </tr>\n",
       "    <tr>\n",
       "      <th>75%</th>\n",
       "      <td>0.230000</td>\n",
       "      <td>0.185000</td>\n",
       "      <td>0.285000</td>\n",
       "      <td>0.580000</td>\n",
       "      <td>0.020000</td>\n",
       "      <td>0.080000</td>\n",
       "      <td>0.695000</td>\n",
       "      <td>0.520000</td>\n",
       "      <td>0.460000</td>\n",
       "      <td>0.575000</td>\n",
       "    </tr>\n",
       "    <tr>\n",
       "      <th>max</th>\n",
       "      <td>10.940000</td>\n",
       "      <td>2.820000</td>\n",
       "      <td>4.400000</td>\n",
       "      <td>12.250000</td>\n",
       "      <td>0.090000</td>\n",
       "      <td>1.720000</td>\n",
       "      <td>1.840000</td>\n",
       "      <td>6.580000</td>\n",
       "      <td>3.880000</td>\n",
       "      <td>6.710000</td>\n",
       "    </tr>\n",
       "  </tbody>\n",
       "</table>\n",
       "</div>"
      ],
      "text/plain": [
       "platform         3DS          PC         PS3         PS4        PSP  \\\n",
       "count     212.000000  151.000000  219.000000  376.000000  13.000000   \n",
       "mean        0.391509    0.166887    0.268539    0.648059   0.027692   \n",
       "std         1.122935    0.304553    0.532896    1.358995   0.027735   \n",
       "min         0.010000    0.010000    0.010000    0.010000   0.010000   \n",
       "25%         0.030000    0.020000    0.030000    0.050000   0.010000   \n",
       "50%         0.080000    0.060000    0.090000    0.160000   0.020000   \n",
       "75%         0.230000    0.185000    0.285000    0.580000   0.020000   \n",
       "max        10.940000    2.820000    4.400000   12.250000   0.090000   \n",
       "\n",
       "platform         PSV        Wii       WiiU        X360        XOne  \n",
       "count     295.000000  11.000000  73.000000  111.000000  228.000000  \n",
       "mean        0.069797   0.424545   0.545479    0.395225    0.560702  \n",
       "std         0.123748   0.571601   1.079585    0.571941    0.951956  \n",
       "min         0.010000   0.010000   0.010000    0.010000    0.010000  \n",
       "25%         0.020000   0.035000   0.050000    0.060000    0.050000  \n",
       "50%         0.030000   0.170000   0.170000    0.160000    0.185000  \n",
       "75%         0.080000   0.695000   0.520000    0.460000    0.575000  \n",
       "max         1.720000   1.840000   6.580000    3.880000    6.710000  "
      ]
     },
     "execution_count": 28,
     "metadata": {},
     "output_type": "execute_result"
    }
   ],
   "source": [
    "good_data.groupby('platform')['total_sales'].describe().T"
   ]
  },
  {
   "cell_type": "markdown",
   "id": "e0262ef1",
   "metadata": {},
   "source": [
    "Максимальные объемы продаж даже среди платформ-лидеров довольно сильно отличаются, но выделяются три платформы с наибольшими объемами продаж - это Wii, XOne и PS4. Лидирует Wii, при этом медианные значения по X360, Wii и WiiU находятся практически на одном уровне 0,17 млн копий.    \n",
    "На диаграмме видим, что есть выбросы в данных, и они находятся за пределами 2 млн. Отфильтруем их, чтобы не искажали показатели."
   ]
  },
  {
   "cell_type": "markdown",
   "id": "08631fa1",
   "metadata": {},
   "source": [
    "Проверим количество строк до фильтрации:"
   ]
  },
  {
   "cell_type": "code",
   "execution_count": 29,
   "id": "5c17625a",
   "metadata": {},
   "outputs": [
    {
     "data": {
      "text/plain": [
       "(1689, 12)"
      ]
     },
     "execution_count": 29,
     "metadata": {},
     "output_type": "execute_result"
    }
   ],
   "source": [
    "good_data.shape"
   ]
  },
  {
   "cell_type": "markdown",
   "id": "84cf816a",
   "metadata": {},
   "source": [
    "Фильтруем данные по суммарным продажам:"
   ]
  },
  {
   "cell_type": "code",
   "execution_count": 30,
   "id": "d9f7ce2e",
   "metadata": {
    "scrolled": true
   },
   "outputs": [
    {
     "data": {
      "text/html": [
       "<div>\n",
       "<style scoped>\n",
       "    .dataframe tbody tr th:only-of-type {\n",
       "        vertical-align: middle;\n",
       "    }\n",
       "\n",
       "    .dataframe tbody tr th {\n",
       "        vertical-align: top;\n",
       "    }\n",
       "\n",
       "    .dataframe thead th {\n",
       "        text-align: right;\n",
       "    }\n",
       "</style>\n",
       "<table border=\"1\" class=\"dataframe\">\n",
       "  <thead>\n",
       "    <tr style=\"text-align: right;\">\n",
       "      <th></th>\n",
       "      <th>name</th>\n",
       "      <th>platform</th>\n",
       "      <th>year_of_release</th>\n",
       "      <th>genre</th>\n",
       "      <th>na_sales</th>\n",
       "      <th>eu_sales</th>\n",
       "      <th>jp_sales</th>\n",
       "      <th>other_sales</th>\n",
       "      <th>critic_score</th>\n",
       "      <th>user_score</th>\n",
       "      <th>rating</th>\n",
       "      <th>total_sales</th>\n",
       "    </tr>\n",
       "  </thead>\n",
       "  <tbody>\n",
       "    <tr>\n",
       "      <th>0</th>\n",
       "      <td>Far Cry: Primal</td>\n",
       "      <td>PS4</td>\n",
       "      <td>2016</td>\n",
       "      <td>Action</td>\n",
       "      <td>0.60</td>\n",
       "      <td>1.25</td>\n",
       "      <td>0.06</td>\n",
       "      <td>0.35</td>\n",
       "      <td>76.0</td>\n",
       "      <td>6.3</td>\n",
       "      <td>M</td>\n",
       "      <td>1.91</td>\n",
       "    </tr>\n",
       "    <tr>\n",
       "      <th>1</th>\n",
       "      <td>Tom Clancy's Rainbow Six: Siege</td>\n",
       "      <td>PS4</td>\n",
       "      <td>2015</td>\n",
       "      <td>Shooter</td>\n",
       "      <td>0.55</td>\n",
       "      <td>1.19</td>\n",
       "      <td>0.14</td>\n",
       "      <td>0.33</td>\n",
       "      <td>73.0</td>\n",
       "      <td>7.3</td>\n",
       "      <td>M</td>\n",
       "      <td>1.88</td>\n",
       "    </tr>\n",
       "    <tr>\n",
       "      <th>2</th>\n",
       "      <td>Madden NFL 15</td>\n",
       "      <td>PS4</td>\n",
       "      <td>2014</td>\n",
       "      <td>Sports</td>\n",
       "      <td>1.54</td>\n",
       "      <td>0.25</td>\n",
       "      <td>0.00</td>\n",
       "      <td>0.40</td>\n",
       "      <td>81.0</td>\n",
       "      <td>6.1</td>\n",
       "      <td>E</td>\n",
       "      <td>1.79</td>\n",
       "    </tr>\n",
       "    <tr>\n",
       "      <th>3</th>\n",
       "      <td>Tom Clancy's The Division</td>\n",
       "      <td>XOne</td>\n",
       "      <td>2016</td>\n",
       "      <td>Shooter</td>\n",
       "      <td>1.29</td>\n",
       "      <td>0.68</td>\n",
       "      <td>0.00</td>\n",
       "      <td>0.20</td>\n",
       "      <td>80.0</td>\n",
       "      <td>6.9</td>\n",
       "      <td>M</td>\n",
       "      <td>1.97</td>\n",
       "    </tr>\n",
       "    <tr>\n",
       "      <th>4</th>\n",
       "      <td>Overwatch</td>\n",
       "      <td>PS4</td>\n",
       "      <td>2016</td>\n",
       "      <td>Shooter</td>\n",
       "      <td>0.81</td>\n",
       "      <td>0.85</td>\n",
       "      <td>0.15</td>\n",
       "      <td>0.33</td>\n",
       "      <td>90.0</td>\n",
       "      <td>6.1</td>\n",
       "      <td>T</td>\n",
       "      <td>1.81</td>\n",
       "    </tr>\n",
       "  </tbody>\n",
       "</table>\n",
       "</div>"
      ],
      "text/plain": [
       "                              name platform  year_of_release    genre  \\\n",
       "0                  Far Cry: Primal      PS4             2016   Action   \n",
       "1  Tom Clancy's Rainbow Six: Siege      PS4             2015  Shooter   \n",
       "2                    Madden NFL 15      PS4             2014   Sports   \n",
       "3        Tom Clancy's The Division     XOne             2016  Shooter   \n",
       "4                        Overwatch      PS4             2016  Shooter   \n",
       "\n",
       "   na_sales  eu_sales  jp_sales  other_sales  critic_score  user_score rating  \\\n",
       "0      0.60      1.25      0.06         0.35          76.0         6.3      M   \n",
       "1      0.55      1.19      0.14         0.33          73.0         7.3      M   \n",
       "2      1.54      0.25      0.00         0.40          81.0         6.1      E   \n",
       "3      1.29      0.68      0.00         0.20          80.0         6.9      M   \n",
       "4      0.81      0.85      0.15         0.33          90.0         6.1      T   \n",
       "\n",
       "   total_sales  \n",
       "0         1.91  \n",
       "1         1.88  \n",
       "2         1.79  \n",
       "3         1.97  \n",
       "4         1.81  "
      ]
     },
     "execution_count": 30,
     "metadata": {},
     "output_type": "execute_result"
    }
   ],
   "source": [
    "good_data = good_data.query('total_sales < 2').reset_index(drop=True)\n",
    "good_data.head()"
   ]
  },
  {
   "cell_type": "markdown",
   "id": "71ddeb8c",
   "metadata": {},
   "source": [
    "Еще раз проверим количество строк, чтобы понимать, много ли данных потеряно:"
   ]
  },
  {
   "cell_type": "code",
   "execution_count": 31,
   "id": "b61eacc6",
   "metadata": {},
   "outputs": [
    {
     "data": {
      "text/plain": [
       "(1618, 12)"
      ]
     },
     "execution_count": 31,
     "metadata": {},
     "output_type": "execute_result"
    }
   ],
   "source": [
    "good_data.shape"
   ]
  },
  {
   "cell_type": "markdown",
   "id": "de4a24dc",
   "metadata": {},
   "source": [
    "### Взаимосвязи между показателями"
   ]
  },
  {
   "cell_type": "markdown",
   "id": "6b1aaed9",
   "metadata": {},
   "source": [
    "#### Продажи внутри отдельной платформы"
   ]
  },
  {
   "cell_type": "markdown",
   "id": "79fa71a1",
   "metadata": {},
   "source": [
    "Посмотрим, как влияют на продажи отзывы критиков и пользователей. Для этого выберем одну из перспективных платформ. Возьмем для примера платформу X360, т.к. она лидирует по продажам среди перспективных."
   ]
  },
  {
   "cell_type": "markdown",
   "id": "60cf659d",
   "metadata": {},
   "source": [
    "Создаем выборку для X360:"
   ]
  },
  {
   "cell_type": "code",
   "execution_count": 32,
   "id": "b2b1382c",
   "metadata": {},
   "outputs": [],
   "source": [
    "x_360 = good_data.query('platform == \"X360\"').copy()"
   ]
  },
  {
   "cell_type": "markdown",
   "id": "b91cf71e",
   "metadata": {},
   "source": [
    "Построим матрицу корреляции по всем параметрам датасета:"
   ]
  },
  {
   "cell_type": "code",
   "execution_count": 33,
   "id": "73771c22",
   "metadata": {},
   "outputs": [
    {
     "data": {
      "image/png": "[encoded data removed]",
      "text/plain": [
       "<Figure size 504x432 with 2 Axes>"
      ]
     },
     "metadata": {
      "needs_background": "light"
     },
     "output_type": "display_data"
    }
   ],
   "source": [
    "# создаем матрицу\n",
    "corr_matrix = x_360.corr()\n",
    "# отображаем ее на тепловой карте\n",
    "fig,ax = plt.subplots(figsize=(7,6))\n",
    "ax.set_title('Correlation matrix')\n",
    "sns.heatmap(corr_matrix.round(2), annot=True, cmap='YlOrBr')\n",
    "plt.show()"
   ]
  },
  {
   "cell_type": "markdown",
   "id": "8877d68c",
   "metadata": {},
   "source": [
    "Из матрицы видим, что на суммарный объем продаж сильно влияют продажи в Северной Америке, продажи в Европе влияют меньше, а продажи в Японии оказывают наименьшее влияние на суммарный объем, что логично, наверняка, пользователей в Японии меньше, чем в других регионах. А взаимосвязь между объемом продажи и годом релиза незначительна.  \n",
    "Для нас представляет интерес связь между оценками пользователей и критиков и суммарными продажами.  \n",
    "Посчитаем отдельно коэффициент корреляции между показателями:"
   ]
  },
  {
   "cell_type": "code",
   "execution_count": 34,
   "id": "a96951e4",
   "metadata": {},
   "outputs": [
    {
     "name": "stdout",
     "output_type": "stream",
     "text": [
      "0.08595952955646341\n",
      "0.07727985943987564\n"
     ]
    }
   ],
   "source": [
    "corr_user = x_360['user_score'].corr(x_360['total_sales'])\n",
    "corr_critics = x_360['critic_score'].corr(x_360['total_sales'])\n",
    "print(corr_user)\n",
    "print(corr_critics)"
   ]
  },
  {
   "cell_type": "code",
   "execution_count": 35,
   "id": "2dfe85ac",
   "metadata": {},
   "outputs": [
    {
     "name": "stdout",
     "output_type": "stream",
     "text": [
      "Максимальная оценка пользователей за период исследования 8.7\n",
      "Максимальная оценка критиков за период исследования 91.0\n"
     ]
    }
   ],
   "source": [
    "print('Максимальная оценка пользователей за период исследования', x_360['user_score'].max())\n",
    "print('Максимальная оценка критиков за период исследования', x_360['critic_score'].max())"
   ]
  },
  {
   "cell_type": "markdown",
   "id": "2af4326b",
   "metadata": {},
   "source": [
    "Между показателями есть прямая взаимосвязь, но очень слабовыраженная: чем выше оценка пользователей / критиков, тем больше объем продаж, причем оценки пользователей влияют на продажи чуть сильнее.  \n",
    "Визуализируем это:"
   ]
  },
  {
   "cell_type": "code",
   "execution_count": 36,
   "id": "0388c3f1",
   "metadata": {
    "scrolled": false
   },
   "outputs": [
    {
     "data": {
      "image/png": "[encoded data removed]",
      "text/plain": [
       "<Figure size 576x576 with 1 Axes>"
      ]
     },
     "metadata": {
      "needs_background": "light"
     },
     "output_type": "display_data"
    }
   ],
   "source": [
    "fig,ax = plt.subplots(figsize=(8,8))\n",
    "plt.scatter(x_360['user_score'], x_360['total_sales'], color='orange', label='user_scores', alpha=0.6)\n",
    "plt.scatter(x_360['critic_score'], x_360['total_sales'], color='brown', label='critic_scores', alpha=0.6)\n",
    "ax.set_title('Scores correlation')\n",
    "ax.set_xlabel('score')\n",
    "ax.set_ylabel('total_sales')\n",
    "ax.grid()\n",
    "ax.legend(title='Scores', loc='upper right')\n",
    "plt.show()"
   ]
  },
  {
   "cell_type": "markdown",
   "id": "70e3508e",
   "metadata": {},
   "source": [
    "На визуализации прослеживается та же взаимосвязь. Выделяется столбец со значением 0, его игнорируем, потому что так были заполнены пропуски в столбцах с оценками на этапе предобработки.  \n",
    "Наибольшее скопление значений наблюдается в промежутке с оценкой критиков 60-90 баллов и оценкой пользователей 5-8 баллов, при этом чем выше оценка, тем выше продажи, а в случае с оценкой пользователей нет значений выше 8,7 за указанный период.  \n",
    "Вероятно, такую оценку пользователи ставят редко."
   ]
  },
  {
   "cell_type": "markdown",
   "id": "893617d5",
   "metadata": {},
   "source": [
    "#### Связь продаж и оценок по всем платформам"
   ]
  },
  {
   "cell_type": "markdown",
   "id": "36d16147",
   "metadata": {},
   "source": [
    "Проверим, распространяется ли эта закономерность на все остальные платформы из списка лидеров."
   ]
  },
  {
   "cell_type": "markdown",
   "id": "bc727c8d",
   "metadata": {},
   "source": [
    "Сгруппируем датасет по платформе и выведем сгруппированные данные:"
   ]
  },
  {
   "cell_type": "code",
   "execution_count": 37,
   "id": "406a2e5d",
   "metadata": {
    "scrolled": false
   },
   "outputs": [],
   "source": [
    "# оставляем только нужные столбцы с оценками и суммарными продажами\n",
    "grouped = good_data[['platform','user_score','critic_score','total_sales']].reset_index(drop=True)\n",
    "# оставляем все платформы, кроме X360\n",
    "grouped = grouped.query('platform != \"X360\"')\n",
    "# группируем по платформам\n",
    "grouped = grouped.groupby('platform')"
   ]
  },
  {
   "cell_type": "markdown",
   "id": "48bea317",
   "metadata": {},
   "source": [
    "Строим диаграммы рассеяния по каждой из платформ:"
   ]
  },
  {
   "cell_type": "code",
   "execution_count": 38,
   "id": "43c78e64",
   "metadata": {
    "scrolled": false
   },
   "outputs": [
    {
     "data": {
      "image/png": "[encoded data removed]",
      "text/plain": [
       "<Figure size 432x432 with 1 Axes>"
      ]
     },
     "metadata": {
      "needs_background": "light"
     },
     "output_type": "display_data"
    },
    {
     "data": {
      "image/png": "[encoded data removed]",
      "text/plain": [
       "<Figure size 432x432 with 1 Axes>"
      ]
     },
     "metadata": {
      "needs_background": "light"
     },
     "output_type": "display_data"
    },
    {
     "data": {
      "image/png": "[encoded data removed]",
      "text/plain": [
       "<Figure size 432x432 with 1 Axes>"
      ]
     },
     "metadata": {
      "needs_background": "light"
     },
     "output_type": "display_data"
    },
    {
     "data": {
      "image/png": "[encoded data removed]",
      "text/plain": [
       "<Figure size 432x432 with 1 Axes>"
      ]
     },
     "metadata": {
      "needs_background": "light"
     },
     "output_type": "display_data"
    },
    {
     "data": {
      "image/png": "[encoded data removed]",
      "text/plain": [
       "<Figure size 432x432 with 1 Axes>"
      ]
     },
     "metadata": {
      "needs_background": "light"
     },
     "output_type": "display_data"
    },
    {
     "data": {
      "image/png": "[encoded data removed]",
      "text/plain": [
       "<Figure size 432x432 with 1 Axes>"
      ]
     },
     "metadata": {
      "needs_background": "light"
     },
     "output_type": "display_data"
    },
    {
     "data": {
      "image/png": "[encoded data removed]",
      "text/plain": [
       "<Figure size 432x432 with 1 Axes>"
      ]
     },
     "metadata": {
      "needs_background": "light"
     },
     "output_type": "display_data"
    },
    {
     "data": {
      "image/png": "[encoded data removed]",
      "text/plain": [
       "<Figure size 432x432 with 1 Axes>"
      ]
     },
     "metadata": {
      "needs_background": "light"
     },
     "output_type": "display_data"
    },
    {
     "data": {
      "image/png": "[encoded data removed]",
      "text/plain": [
       "<Figure size 432x432 with 1 Axes>"
      ]
     },
     "metadata": {
      "needs_background": "light"
     },
     "output_type": "display_data"
    },
    {
     "data": {
      "text/html": [
       "<div>\n",
       "<style scoped>\n",
       "    .dataframe tbody tr th:only-of-type {\n",
       "        vertical-align: middle;\n",
       "    }\n",
       "\n",
       "    .dataframe tbody tr th {\n",
       "        vertical-align: top;\n",
       "    }\n",
       "\n",
       "    .dataframe thead th {\n",
       "        text-align: right;\n",
       "    }\n",
       "</style>\n",
       "<table border=\"1\" class=\"dataframe\">\n",
       "  <thead>\n",
       "    <tr style=\"text-align: right;\">\n",
       "      <th></th>\n",
       "    </tr>\n",
       "  </thead>\n",
       "  <tbody>\n",
       "  </tbody>\n",
       "</table>\n",
       "</div>"
      ],
      "text/plain": [
       "Empty DataFrame\n",
       "Columns: []\n",
       "Index: []"
      ]
     },
     "execution_count": 38,
     "metadata": {},
     "output_type": "execute_result"
    }
   ],
   "source": [
    "# строим диаграммы рассеяния по каждой из платформ\n",
    "# функция для построения графика по столбцам сгруппированного датасета\n",
    "def plot_scatter(df):\n",
    "        fig,ax = plt.subplots(figsize=(6,6))\n",
    "        plt.scatter(df['user_score'], df['total_sales'], color='orange', label='user_scores', alpha=0.5)\n",
    "        plt.scatter(df['critic_score'], df['total_sales'], color='brown', label='critic_scores', alpha=0.5)\n",
    "        ax.set_xlabel('score')\n",
    "        ax.set_ylabel('total_sales')\n",
    "        ax.grid()\n",
    "        ax.legend(title='Scores', loc='upper right')\n",
    "        # добавляем заголовки по названию каждой платформы\n",
    "        for i in df['platform']:\n",
    "            ax.set_title(i)\n",
    "        plt.show()\n",
    "\n",
    "# применяем функцию к сгруппированному датасету\n",
    "grouped.apply(plot_scatter)"
   ]
  },
  {
   "cell_type": "markdown",
   "id": "3b950d88",
   "metadata": {},
   "source": [
    "У каждой платформы разные объемы продаж, но общая тенденция сохраняется."
   ]
  },
  {
   "cell_type": "markdown",
   "id": "729bb75c",
   "metadata": {},
   "source": [
    "### Распределение по жанрам"
   ]
  },
  {
   "cell_type": "markdown",
   "id": "4f94c986",
   "metadata": {},
   "source": [
    "Определим общее распределение игр по жанрам и выделим наиболее прибыльные из них. Выведем общий список всех доступных жанров:"
   ]
  },
  {
   "cell_type": "code",
   "execution_count": 39,
   "id": "fa2d30b1",
   "metadata": {},
   "outputs": [
    {
     "data": {
      "text/plain": [
       "Action          603\n",
       "Role-Playing    213\n",
       "Adventure       185\n",
       "Sports          147\n",
       "Misc            110\n",
       "Shooter         106\n",
       "Racing           67\n",
       "Fighting         57\n",
       "Simulation       42\n",
       "Platform         37\n",
       "Strategy         37\n",
       "Puzzle           14\n",
       "Name: genre, dtype: int64"
      ]
     },
     "execution_count": 39,
     "metadata": {},
     "output_type": "execute_result"
    }
   ],
   "source": [
    "good_data['genre'].value_counts()"
   ]
  },
  {
   "cell_type": "markdown",
   "id": "f4f1f1f2",
   "metadata": {},
   "source": [
    "По количеству лидируют игры в жанрах экшн, спортивные и аркадные игры, но это не обязательно означает, что они приносят больше всего прибыли. Построим диаграмму и посмотрим, как распределены суммарные продажи:"
   ]
  },
  {
   "cell_type": "code",
   "execution_count": 40,
   "id": "5a7d0f2b",
   "metadata": {},
   "outputs": [
    {
     "data": {
      "text/html": [
       "<div>\n",
       "<style scoped>\n",
       "    .dataframe tbody tr th:only-of-type {\n",
       "        vertical-align: middle;\n",
       "    }\n",
       "\n",
       "    .dataframe tbody tr th {\n",
       "        vertical-align: top;\n",
       "    }\n",
       "\n",
       "    .dataframe thead th {\n",
       "        text-align: right;\n",
       "    }\n",
       "</style>\n",
       "<table border=\"1\" class=\"dataframe\">\n",
       "  <thead>\n",
       "    <tr style=\"text-align: right;\">\n",
       "      <th></th>\n",
       "      <th>genre</th>\n",
       "      <th>total_sales</th>\n",
       "    </tr>\n",
       "  </thead>\n",
       "  <tbody>\n",
       "    <tr>\n",
       "      <th>0</th>\n",
       "      <td>Action</td>\n",
       "      <td>119.63</td>\n",
       "    </tr>\n",
       "    <tr>\n",
       "      <th>1</th>\n",
       "      <td>Adventure</td>\n",
       "      <td>15.73</td>\n",
       "    </tr>\n",
       "    <tr>\n",
       "      <th>2</th>\n",
       "      <td>Fighting</td>\n",
       "      <td>11.63</td>\n",
       "    </tr>\n",
       "    <tr>\n",
       "      <th>3</th>\n",
       "      <td>Misc</td>\n",
       "      <td>22.97</td>\n",
       "    </tr>\n",
       "    <tr>\n",
       "      <th>4</th>\n",
       "      <td>Platform</td>\n",
       "      <td>13.27</td>\n",
       "    </tr>\n",
       "    <tr>\n",
       "      <th>5</th>\n",
       "      <td>Puzzle</td>\n",
       "      <td>2.10</td>\n",
       "    </tr>\n",
       "    <tr>\n",
       "      <th>6</th>\n",
       "      <td>Racing</td>\n",
       "      <td>16.00</td>\n",
       "    </tr>\n",
       "    <tr>\n",
       "      <th>7</th>\n",
       "      <td>Role-Playing</td>\n",
       "      <td>52.18</td>\n",
       "    </tr>\n",
       "    <tr>\n",
       "      <th>8</th>\n",
       "      <td>Shooter</td>\n",
       "      <td>54.42</td>\n",
       "    </tr>\n",
       "    <tr>\n",
       "      <th>9</th>\n",
       "      <td>Simulation</td>\n",
       "      <td>6.49</td>\n",
       "    </tr>\n",
       "    <tr>\n",
       "      <th>10</th>\n",
       "      <td>Sports</td>\n",
       "      <td>47.89</td>\n",
       "    </tr>\n",
       "    <tr>\n",
       "      <th>11</th>\n",
       "      <td>Strategy</td>\n",
       "      <td>3.72</td>\n",
       "    </tr>\n",
       "  </tbody>\n",
       "</table>\n",
       "</div>"
      ],
      "text/plain": [
       "           genre  total_sales\n",
       "0         Action       119.63\n",
       "1      Adventure        15.73\n",
       "2       Fighting        11.63\n",
       "3           Misc        22.97\n",
       "4       Platform        13.27\n",
       "5         Puzzle         2.10\n",
       "6         Racing        16.00\n",
       "7   Role-Playing        52.18\n",
       "8        Shooter        54.42\n",
       "9     Simulation         6.49\n",
       "10        Sports        47.89\n",
       "11      Strategy         3.72"
      ]
     },
     "execution_count": 40,
     "metadata": {},
     "output_type": "execute_result"
    }
   ],
   "source": [
    "# строим сводную таблицу по жанрам с суммарной прибылью\n",
    "genre_pivot = good_data.pivot_table(index='genre', \\\n",
    "                                   values='total_sales', \\\n",
    "                                   aggfunc='sum').reset_index()\n",
    "genre_pivot"
   ]
  },
  {
   "cell_type": "code",
   "execution_count": 41,
   "id": "17b001bd",
   "metadata": {},
   "outputs": [
    {
     "data": {
      "image/png": "[encoded data removed]",
      "text/plain": [
       "<Figure size 576x576 with 1 Axes>"
      ]
     },
     "metadata": {
      "needs_background": "light"
     },
     "output_type": "display_data"
    }
   ],
   "source": [
    "fig,ax = plt.subplots(figsize=(8,8))\n",
    "x_genre = genre_pivot['genre']\n",
    "y_genre = genre_pivot['total_sales'].round(3)\n",
    "ax.barh(x_genre, y_genre, color='orange')\n",
    "ax.set_xlabel('total sales, million copies')\n",
    "ax.set_title('Total sales by genre')\n",
    "plt.bar_label(ax.containers[0])\n",
    "plt.show()"
   ]
  },
  {
   "cell_type": "markdown",
   "id": "69802a31",
   "metadata": {},
   "source": [
    "Жанр экшн явно лидирует и по количеству выпущенных релизов, и по объему продаж: продажи игр во всех остальных жанрах меньше как минимум в два раза.  \n",
    "Стратегии и паззлы напротив имеют минимальные объемы продаж, но их и выпущено меньше всех. Но при этом платформеры, которых выпущено немногим больше, имеют объемы продаж значительно выше.  \n",
    "В общем распределении помимо экшнов лидируют несколько жанров: это спортивные игры, шутеры, ролевые и аркадные. Также значительные объемы продаж у платформеров, гоночных игр и симуляций.  \n",
    "То есть, жанр игры значительно влияет на объемы продаж, и наиболее прибыльными являются экшн, аркадные, шутеры и спортивные игры."
   ]
  },
  {
   "cell_type": "markdown",
   "id": "f677e3a9",
   "metadata": {},
   "source": [
    "## Сегментация пользователей"
   ]
  },
  {
   "cell_type": "markdown",
   "id": "9a2fc757",
   "metadata": {},
   "source": [
    "### Распределение по платформам внутри региона"
   ]
  },
  {
   "cell_type": "markdown",
   "id": "b05bed5e",
   "metadata": {},
   "source": [
    "Датасет содержит данные о продажах по трем крупным регионам: Северная Америка, Европа и Япония, и продажи по этим регионам наверняка значительно отличаются.  \n",
    "Построим сводную таблицу по суммарным продажам по регионам:"
   ]
  },
  {
   "cell_type": "code",
   "execution_count": 42,
   "id": "f02f587b",
   "metadata": {
    "scrolled": true
   },
   "outputs": [
    {
     "data": {
      "text/html": [
       "<div>\n",
       "<style scoped>\n",
       "    .dataframe tbody tr th:only-of-type {\n",
       "        vertical-align: middle;\n",
       "    }\n",
       "\n",
       "    .dataframe tbody tr th {\n",
       "        vertical-align: top;\n",
       "    }\n",
       "\n",
       "    .dataframe thead th {\n",
       "        text-align: right;\n",
       "    }\n",
       "</style>\n",
       "<table border=\"1\" class=\"dataframe\">\n",
       "  <thead>\n",
       "    <tr style=\"text-align: right;\">\n",
       "      <th></th>\n",
       "      <th>platform</th>\n",
       "      <th>eu_sales</th>\n",
       "      <th>jp_sales</th>\n",
       "      <th>na_sales</th>\n",
       "      <th>other_sales</th>\n",
       "    </tr>\n",
       "  </thead>\n",
       "  <tbody>\n",
       "    <tr>\n",
       "      <th>0</th>\n",
       "      <td>3DS</td>\n",
       "      <td>7.55</td>\n",
       "      <td>21.02</td>\n",
       "      <td>9.34</td>\n",
       "      <td>1.55</td>\n",
       "    </tr>\n",
       "    <tr>\n",
       "      <th>1</th>\n",
       "      <td>PC</td>\n",
       "      <td>16.15</td>\n",
       "      <td>0.00</td>\n",
       "      <td>6.23</td>\n",
       "      <td>1.62</td>\n",
       "    </tr>\n",
       "    <tr>\n",
       "      <th>2</th>\n",
       "      <td>PS3</td>\n",
       "      <td>16.38</td>\n",
       "      <td>10.94</td>\n",
       "      <td>17.47</td>\n",
       "      <td>6.78</td>\n",
       "    </tr>\n",
       "    <tr>\n",
       "      <th>3</th>\n",
       "      <td>PS4</td>\n",
       "      <td>54.94</td>\n",
       "      <td>10.69</td>\n",
       "      <td>44.09</td>\n",
       "      <td>19.30</td>\n",
       "    </tr>\n",
       "    <tr>\n",
       "      <th>4</th>\n",
       "      <td>PSP</td>\n",
       "      <td>0.00</td>\n",
       "      <td>0.36</td>\n",
       "      <td>0.00</td>\n",
       "      <td>0.00</td>\n",
       "    </tr>\n",
       "    <tr>\n",
       "      <th>5</th>\n",
       "      <td>PSV</td>\n",
       "      <td>3.53</td>\n",
       "      <td>14.54</td>\n",
       "      <td>2.52</td>\n",
       "      <td>1.81</td>\n",
       "    </tr>\n",
       "    <tr>\n",
       "      <th>6</th>\n",
       "      <td>Wii</td>\n",
       "      <td>2.59</td>\n",
       "      <td>0.00</td>\n",
       "      <td>2.08</td>\n",
       "      <td>0.40</td>\n",
       "    </tr>\n",
       "    <tr>\n",
       "      <th>7</th>\n",
       "      <td>WiiU</td>\n",
       "      <td>7.85</td>\n",
       "      <td>2.82</td>\n",
       "      <td>10.89</td>\n",
       "      <td>1.81</td>\n",
       "    </tr>\n",
       "    <tr>\n",
       "      <th>8</th>\n",
       "      <td>X360</td>\n",
       "      <td>12.46</td>\n",
       "      <td>0.08</td>\n",
       "      <td>24.74</td>\n",
       "      <td>3.74</td>\n",
       "    </tr>\n",
       "    <tr>\n",
       "      <th>9</th>\n",
       "      <td>XOne</td>\n",
       "      <td>24.35</td>\n",
       "      <td>0.17</td>\n",
       "      <td>42.25</td>\n",
       "      <td>6.50</td>\n",
       "    </tr>\n",
       "  </tbody>\n",
       "</table>\n",
       "</div>"
      ],
      "text/plain": [
       "  platform  eu_sales  jp_sales  na_sales  other_sales\n",
       "0      3DS      7.55     21.02      9.34         1.55\n",
       "1       PC     16.15      0.00      6.23         1.62\n",
       "2      PS3     16.38     10.94     17.47         6.78\n",
       "3      PS4     54.94     10.69     44.09        19.30\n",
       "4      PSP      0.00      0.36      0.00         0.00\n",
       "5      PSV      3.53     14.54      2.52         1.81\n",
       "6      Wii      2.59      0.00      2.08         0.40\n",
       "7     WiiU      7.85      2.82     10.89         1.81\n",
       "8     X360     12.46      0.08     24.74         3.74\n",
       "9     XOne     24.35      0.17     42.25         6.50"
      ]
     },
     "execution_count": 42,
     "metadata": {},
     "output_type": "execute_result"
    }
   ],
   "source": [
    "region_sales = good_data.pivot_table(index='platform', \\\n",
    "                          values=['na_sales','eu_sales','jp_sales','other_sales'], \\\n",
    "                          aggfunc='sum').reset_index()\n",
    "region_sales"
   ]
  },
  {
   "cell_type": "markdown",
   "id": "4b352657",
   "metadata": {},
   "source": [
    "Выделим столбец с названием платформ для добавления подписей и удалим его из таблицы, а затем построим круговые диаграммы по продажам с каждой платформы по регионам:"
   ]
  },
  {
   "cell_type": "code",
   "execution_count": 43,
   "id": "0b0d5c74",
   "metadata": {},
   "outputs": [],
   "source": [
    "# задаем список подписей\n",
    "labels = region_sales['platform']\n",
    "\n",
    "# удаляем столбец с типом str\n",
    "sales = region_sales.drop('platform', axis=1)"
   ]
  },
  {
   "cell_type": "code",
   "execution_count": 44,
   "id": "fab63793",
   "metadata": {
    "scrolled": false
   },
   "outputs": [
    {
     "data": {
      "image/png": "[encoded data removed]",
      "text/plain": [
       "<Figure size 432x432 with 1 Axes>"
      ]
     },
     "metadata": {},
     "output_type": "display_data"
    },
    {
     "data": {
      "image/png": "[encoded data removed]",
      "text/plain": [
       "<Figure size 432x432 with 1 Axes>"
      ]
     },
     "metadata": {},
     "output_type": "display_data"
    },
    {
     "data": {
      "image/png": "[encoded data removed]",
      "text/plain": [
       "<Figure size 432x432 with 1 Axes>"
      ]
     },
     "metadata": {},
     "output_type": "display_data"
    },
    {
     "data": {
      "image/png": "[encoded data removed]",
      "text/plain": [
       "<Figure size 432x432 with 1 Axes>"
      ]
     },
     "metadata": {},
     "output_type": "display_data"
    }
   ],
   "source": [
    "# строим диаграмму для каждого столбца датасета с продажами\n",
    "for column in sales:\n",
    "    plt.figure(figsize=(6,6))\n",
    "    cmap = plt.get_cmap('tab20c')\n",
    "    colors = cmap(np.array([1, 2, 5, 6, 7, 8, 9, 10]))\n",
    "    sales[column].plot(kind='pie', labels = labels, autopct='%.1f', colors = colors).set_title(column)\n",
    "    plt.legend(loc = 'best', labels = labels)"
   ]
  },
  {
   "cell_type": "markdown",
   "id": "585ae0f2",
   "metadata": {},
   "source": [
    "Очевидно, в разных регионах лидируют по продажам разные платформы:\n",
    "- Европа:\n",
    " - PS4 (37,7%),\n",
    " - XOne (16,7%),\n",
    " - PS3 (11,2%),\n",
    " - PC (11,1%),\n",
    " - X360 (8,5%);  \n",
    " \n",
    "- Япония:\n",
    " - 3DS (34,7%),\n",
    " - PSV (24,0%),\n",
    " - PS3 (18,0%),\n",
    " - PS4 (17,6%),\n",
    " - WiiU (4,7%);\n",
    " \n",
    "- Северная Америка:\n",
    " - PS4 (27,6%),\n",
    " - XOne (26,5%),\n",
    " - X360 (15,5%),\n",
    " - PS3 (10,9%),\n",
    " - WiiU (6,8%);  \n",
    " \n",
    "- Во всех остальных регионах преобладают: PS4(44,4%), PS3 (15,6%), XOne (14,9%), X360 (8,6%). \n",
    "\n",
    "Платформы PS3 и XOne находится в списке лидеров по всем регионам. По регионам Северная Америка и Европа преобладающие платформы распределяются похожим образом. Выделяется из этого списка Япония - там явно лидирует платформа 3DS с долей 34,7%. Во всех остальных регионах продажи игр на этой платформе составляют от 3,6% до 5,9%.  "
   ]
  },
  {
   "cell_type": "markdown",
   "id": "30998606",
   "metadata": {},
   "source": [
    "### Распределение по жанрам внутри региона"
   ]
  },
  {
   "cell_type": "markdown",
   "id": "b1cbf882",
   "metadata": {},
   "source": [
    "Сформируем датасет по продажам игр по жанрам в каждом отдельно взятом регионе и отобразим распределение."
   ]
  },
  {
   "cell_type": "code",
   "execution_count": 45,
   "id": "26ec81dd",
   "metadata": {
    "scrolled": false
   },
   "outputs": [
    {
     "data": {
      "text/html": [
       "<div>\n",
       "<style scoped>\n",
       "    .dataframe tbody tr th:only-of-type {\n",
       "        vertical-align: middle;\n",
       "    }\n",
       "\n",
       "    .dataframe tbody tr th {\n",
       "        vertical-align: top;\n",
       "    }\n",
       "\n",
       "    .dataframe thead th {\n",
       "        text-align: right;\n",
       "    }\n",
       "</style>\n",
       "<table border=\"1\" class=\"dataframe\">\n",
       "  <thead>\n",
       "    <tr style=\"text-align: right;\">\n",
       "      <th></th>\n",
       "      <th>genre</th>\n",
       "      <th>eu_sales</th>\n",
       "      <th>jp_sales</th>\n",
       "      <th>na_sales</th>\n",
       "      <th>other_sales</th>\n",
       "    </tr>\n",
       "  </thead>\n",
       "  <tbody>\n",
       "    <tr>\n",
       "      <th>0</th>\n",
       "      <td>Action</td>\n",
       "      <td>48.58</td>\n",
       "      <td>22.27</td>\n",
       "      <td>48.78</td>\n",
       "      <td>13.84</td>\n",
       "    </tr>\n",
       "    <tr>\n",
       "      <th>1</th>\n",
       "      <td>Adventure</td>\n",
       "      <td>6.49</td>\n",
       "      <td>3.60</td>\n",
       "      <td>5.64</td>\n",
       "      <td>1.82</td>\n",
       "    </tr>\n",
       "    <tr>\n",
       "      <th>2</th>\n",
       "      <td>Fighting</td>\n",
       "      <td>3.44</td>\n",
       "      <td>3.13</td>\n",
       "      <td>5.06</td>\n",
       "      <td>1.39</td>\n",
       "    </tr>\n",
       "    <tr>\n",
       "      <th>3</th>\n",
       "      <td>Misc</td>\n",
       "      <td>7.57</td>\n",
       "      <td>5.47</td>\n",
       "      <td>9.93</td>\n",
       "      <td>2.23</td>\n",
       "    </tr>\n",
       "    <tr>\n",
       "      <th>4</th>\n",
       "      <td>Platform</td>\n",
       "      <td>5.91</td>\n",
       "      <td>1.75</td>\n",
       "      <td>5.61</td>\n",
       "      <td>1.61</td>\n",
       "    </tr>\n",
       "    <tr>\n",
       "      <th>5</th>\n",
       "      <td>Puzzle</td>\n",
       "      <td>0.52</td>\n",
       "      <td>0.93</td>\n",
       "      <td>0.65</td>\n",
       "      <td>0.11</td>\n",
       "    </tr>\n",
       "    <tr>\n",
       "      <th>6</th>\n",
       "      <td>Racing</td>\n",
       "      <td>10.48</td>\n",
       "      <td>0.43</td>\n",
       "      <td>5.09</td>\n",
       "      <td>2.01</td>\n",
       "    </tr>\n",
       "    <tr>\n",
       "      <th>7</th>\n",
       "      <td>Role-Playing</td>\n",
       "      <td>16.03</td>\n",
       "      <td>16.84</td>\n",
       "      <td>19.31</td>\n",
       "      <td>5.23</td>\n",
       "    </tr>\n",
       "    <tr>\n",
       "      <th>8</th>\n",
       "      <td>Shooter</td>\n",
       "      <td>25.10</td>\n",
       "      <td>1.40</td>\n",
       "      <td>27.92</td>\n",
       "      <td>7.46</td>\n",
       "    </tr>\n",
       "    <tr>\n",
       "      <th>9</th>\n",
       "      <td>Simulation</td>\n",
       "      <td>4.46</td>\n",
       "      <td>0.91</td>\n",
       "      <td>1.12</td>\n",
       "      <td>0.54</td>\n",
       "    </tr>\n",
       "    <tr>\n",
       "      <th>10</th>\n",
       "      <td>Sports</td>\n",
       "      <td>15.43</td>\n",
       "      <td>2.94</td>\n",
       "      <td>29.52</td>\n",
       "      <td>7.03</td>\n",
       "    </tr>\n",
       "    <tr>\n",
       "      <th>11</th>\n",
       "      <td>Strategy</td>\n",
       "      <td>1.79</td>\n",
       "      <td>0.95</td>\n",
       "      <td>0.98</td>\n",
       "      <td>0.24</td>\n",
       "    </tr>\n",
       "  </tbody>\n",
       "</table>\n",
       "</div>"
      ],
      "text/plain": [
       "           genre  eu_sales  jp_sales  na_sales  other_sales\n",
       "0         Action     48.58     22.27     48.78        13.84\n",
       "1      Adventure      6.49      3.60      5.64         1.82\n",
       "2       Fighting      3.44      3.13      5.06         1.39\n",
       "3           Misc      7.57      5.47      9.93         2.23\n",
       "4       Platform      5.91      1.75      5.61         1.61\n",
       "5         Puzzle      0.52      0.93      0.65         0.11\n",
       "6         Racing     10.48      0.43      5.09         2.01\n",
       "7   Role-Playing     16.03     16.84     19.31         5.23\n",
       "8        Shooter     25.10      1.40     27.92         7.46\n",
       "9     Simulation      4.46      0.91      1.12         0.54\n",
       "10        Sports     15.43      2.94     29.52         7.03\n",
       "11      Strategy      1.79      0.95      0.98         0.24"
      ]
     },
     "execution_count": 45,
     "metadata": {},
     "output_type": "execute_result"
    }
   ],
   "source": [
    "# формируем сводную таблицу по жанрам\n",
    "genre_sales = good_data.pivot_table(index='genre', \\\n",
    "                          values=['na_sales','eu_sales','jp_sales','other_sales'], \\\n",
    "                          aggfunc='sum').reset_index()\n",
    "genre_sales"
   ]
  },
  {
   "cell_type": "markdown",
   "id": "e2b10183",
   "metadata": {},
   "source": [
    "В датафрейме довольно много жанров, отобразить их на круговой диаграмме можно, но это не будет читаемо. Построим общую столбчатую диаграмму по сгруппированным данным:"
   ]
  },
  {
   "cell_type": "code",
   "execution_count": 46,
   "id": "c653064c",
   "metadata": {
    "scrolled": false
   },
   "outputs": [
    {
     "data": {
      "image/png": "[encoded data removed]",
      "text/plain": [
       "<Figure size 1152x576 with 1 Axes>"
      ]
     },
     "metadata": {
      "needs_background": "light"
     },
     "output_type": "display_data"
    }
   ],
   "source": [
    "fig, ax = plt.subplots(figsize=(16,8))\n",
    "colors = cmap(np.array([1, 5, 9, 13]))\n",
    "genre_sales.plot(kind='bar', ax=ax, color = colors)\n",
    "ax.set_title('Sales by genre')\n",
    "ax.set_xticklabels((genre_sales['genre']), rotation=45)\n",
    "ax.set_ylabel('sales, million copies')\n",
    "# добавляем подписи для трех крупных регионов\n",
    "plt.bar_label(ax.containers[0])\n",
    "plt.bar_label(ax.containers[1])\n",
    "plt.bar_label(ax.containers[2])\n",
    "plt.grid()\n",
    "plt.show()"
   ]
  },
  {
   "cell_type": "markdown",
   "id": "5271371a",
   "metadata": {},
   "source": [
    "В распределении по регионам видим, что в целом преобладают продажи по региону Северная Америка, но в зависимости от региона лидируют разные жанры.  \n",
    "Распределение по жанрам в регионах Америка и Европа практически не отличается: лидируют игры в жанре экшн, а количество проданных шутеров и спортивных игр практически одинаково внутри региона.  \n",
    "В топ по Европе попали гонки, а ролевые игры, которые пользуются популярностью в Японии и Америке напротив не попали в топ.  \n",
    "Картина в регионе Япония другая: там преобладают ролевые игры, а также в топе есть симуляции, которые не попали в топ по другим регионам.  \n",
    "Топ-5 по регионам:\n",
    "- Северная Америка:\n",
    " - Экшн - 511,76 млн проданных копий;\n",
    " - Спортивные - 341,07 млн;\n",
    " - Шутеры - 339,71 млн;\n",
    " - Аркады - 288,91 млн;\n",
    " - Ролевые - 182,35 млн.  \n",
    " \n",
    "- Европа:\n",
    " - Экшн - 323,91 млн;\n",
    " - Шутеры - 203,49 млн;\n",
    " - Спортиные - 202,91 млн;\n",
    " - Аркады - 156,23 млн;\n",
    " - Гонки - 102,25 млн.\n",
    " \n",
    "- Япония:\n",
    " - Ролевые - 167,96 млн;\n",
    " - Экшн - 99,22 млн;\n",
    " - Аркады - 66,59 млн;\n",
    " - Спортивные - 43,01 млн;\n",
    " - Симуляции - 32,21 млн."
   ]
  },
  {
   "cell_type": "markdown",
   "id": "e22149a1",
   "metadata": {},
   "source": [
    "### Влияние рейтинга ESRB на продажи в регионе"
   ]
  },
  {
   "cell_type": "markdown",
   "id": "4d52960f",
   "metadata": {},
   "source": [
    "Ранее выяснили, что оценки критиков и пользователей влияют на продажи игр напрямую. Проверим, есть ли связь продаж с рейтингом.  \n",
    "В столбце с рейтингом у нас есть около 40% пропущенных значений, мы должны обязательно исследовать их тоже, потому что это большой кусок от общего объема данных. Ранее пропуски в столбце с рейтингом были заполнены 0, заменим их на unknown:"
   ]
  },
  {
   "cell_type": "code",
   "execution_count": 47,
   "id": "efe52a93",
   "metadata": {},
   "outputs": [],
   "source": [
    "good_data['rating'] = good_data['rating'].replace(0,'unknown')"
   ]
  },
  {
   "cell_type": "markdown",
   "id": "6b9c23da",
   "metadata": {},
   "source": [
    "Сформируем сводную таблицу по рейтингу и вычислим средние продажи."
   ]
  },
  {
   "cell_type": "code",
   "execution_count": 48,
   "id": "8ec9a0a4",
   "metadata": {},
   "outputs": [
    {
     "data": {
      "text/html": [
       "<div>\n",
       "<style scoped>\n",
       "    .dataframe tbody tr th:only-of-type {\n",
       "        vertical-align: middle;\n",
       "    }\n",
       "\n",
       "    .dataframe tbody tr th {\n",
       "        vertical-align: top;\n",
       "    }\n",
       "\n",
       "    .dataframe thead th {\n",
       "        text-align: right;\n",
       "    }\n",
       "</style>\n",
       "<table border=\"1\" class=\"dataframe\">\n",
       "  <thead>\n",
       "    <tr style=\"text-align: right;\">\n",
       "      <th></th>\n",
       "      <th>rating</th>\n",
       "      <th>eu_sales</th>\n",
       "      <th>jp_sales</th>\n",
       "      <th>na_sales</th>\n",
       "      <th>other_sales</th>\n",
       "    </tr>\n",
       "  </thead>\n",
       "  <tbody>\n",
       "    <tr>\n",
       "      <th>0</th>\n",
       "      <td>E</td>\n",
       "      <td>0.120</td>\n",
       "      <td>0.025</td>\n",
       "      <td>0.165</td>\n",
       "      <td>0.040</td>\n",
       "    </tr>\n",
       "    <tr>\n",
       "      <th>1</th>\n",
       "      <td>E10+</td>\n",
       "      <td>0.130</td>\n",
       "      <td>0.014</td>\n",
       "      <td>0.144</td>\n",
       "      <td>0.036</td>\n",
       "    </tr>\n",
       "    <tr>\n",
       "      <th>2</th>\n",
       "      <td>M</td>\n",
       "      <td>0.191</td>\n",
       "      <td>0.021</td>\n",
       "      <td>0.198</td>\n",
       "      <td>0.054</td>\n",
       "    </tr>\n",
       "    <tr>\n",
       "      <th>3</th>\n",
       "      <td>T</td>\n",
       "      <td>0.085</td>\n",
       "      <td>0.044</td>\n",
       "      <td>0.094</td>\n",
       "      <td>0.028</td>\n",
       "    </tr>\n",
       "    <tr>\n",
       "      <th>4</th>\n",
       "      <td>unknown</td>\n",
       "      <td>0.041</td>\n",
       "      <td>0.050</td>\n",
       "      <td>0.038</td>\n",
       "      <td>0.012</td>\n",
       "    </tr>\n",
       "  </tbody>\n",
       "</table>\n",
       "</div>"
      ],
      "text/plain": [
       "    rating  eu_sales  jp_sales  na_sales  other_sales\n",
       "0        E     0.120     0.025     0.165        0.040\n",
       "1     E10+     0.130     0.014     0.144        0.036\n",
       "2        M     0.191     0.021     0.198        0.054\n",
       "3        T     0.085     0.044     0.094        0.028\n",
       "4  unknown     0.041     0.050     0.038        0.012"
      ]
     },
     "execution_count": 48,
     "metadata": {},
     "output_type": "execute_result"
    }
   ],
   "source": [
    "rating = good_data.pivot_table(index='rating', \\\n",
    "                              values=['na_sales','eu_sales','jp_sales','other_sales']) \\\n",
    "                              .reset_index().round(3)\n",
    "rating"
   ]
  },
  {
   "cell_type": "code",
   "execution_count": 49,
   "id": "5bd2d089",
   "metadata": {},
   "outputs": [
    {
     "data": {
      "image/png": "[encoded data removed]",
      "text/plain": [
       "<Figure size 576x576 with 1 Axes>"
      ]
     },
     "metadata": {
      "needs_background": "light"
     },
     "output_type": "display_data"
    }
   ],
   "source": [
    "fig, ax = plt.subplots(figsize=(8,8))\n",
    "colors = cmap(np.array([1, 5, 9, 13]))\n",
    "rating.plot(kind='bar', ax=ax, color = colors)\n",
    "ax.set_title('Sales by rating')\n",
    "ax.set_xticklabels((rating['rating']), rotation=0)\n",
    "ax.set_ylabel('sales, million copies')\n",
    "# добавляем подписи для трех крупных регионов\n",
    "plt.bar_label(ax.containers[0])\n",
    "plt.bar_label(ax.containers[1])\n",
    "plt.bar_label(ax.containers[2])\n",
    "plt.grid()\n",
    "plt.show()"
   ]
  },
  {
   "cell_type": "markdown",
   "id": "bd94cc18",
   "metadata": {},
   "source": [
    "Расшифровка рейтинга:\n",
    "- «EC» («Early childhood») — «Для детей младшего возраста»;\n",
    "- «E» («Everyone») — «Для всех»;\n",
    "- «E10+» («Everyone 10 and older») — «Для всех старше 10 лет»;\n",
    "- «T» («Teen») — «Подросткам 13—19 лет»;\n",
    "- «M» («Mature») — «От 17 лет»;\n",
    "\n",
    "В регионе Северная Америка преобладают игры с рейтингом \"М\", на втором месте находятся игры с рейтингом \"Е\". В Европе распределение аналогичное. В Японии преобладают игры для подростков 13-19 лет, а на втором месте находятся игры с рейтингом \"E\". В Японии видно очень большое количество игр без рейтинга. Это связано с тем, что ESRB не работает в японском регионе, у них своя организация - CERO.  \n",
    "Вероятно, рейтинг ESRB в целом влияет на продажи игр: игры для всех и для взрослых продаются лучше, при этом для регионов наблюдаются те же закономерности, что и ранее: распределение в Европе и Америке похоже, а в Японии отличается."
   ]
  },
  {
   "cell_type": "markdown",
   "id": "a2c4cee1",
   "metadata": {},
   "source": [
    "## Проверка гипотез"
   ]
  },
  {
   "cell_type": "markdown",
   "id": "c077fc33",
   "metadata": {},
   "source": [
    "### Рейтинги по платформам"
   ]
  },
  {
   "cell_type": "markdown",
   "id": "1931a97d",
   "metadata": {},
   "source": [
    "Определим средние пользовательские рейтинги по каждой платформе, взяв данные по всем платформам за актуальный период:"
   ]
  },
  {
   "cell_type": "code",
   "execution_count": 50,
   "id": "efe6f731",
   "metadata": {},
   "outputs": [
    {
     "data": {
      "text/html": [
       "<div>\n",
       "<style scoped>\n",
       "    .dataframe tbody tr th:only-of-type {\n",
       "        vertical-align: middle;\n",
       "    }\n",
       "\n",
       "    .dataframe tbody tr th {\n",
       "        vertical-align: top;\n",
       "    }\n",
       "\n",
       "    .dataframe thead th {\n",
       "        text-align: right;\n",
       "    }\n",
       "</style>\n",
       "<table border=\"1\" class=\"dataframe\">\n",
       "  <thead>\n",
       "    <tr style=\"text-align: right;\">\n",
       "      <th></th>\n",
       "      <th>platform</th>\n",
       "      <th>rating</th>\n",
       "      <th>count</th>\n",
       "    </tr>\n",
       "  </thead>\n",
       "  <tbody>\n",
       "    <tr>\n",
       "      <th>1</th>\n",
       "      <td>PC</td>\n",
       "      <td>5.088742</td>\n",
       "      <td>151</td>\n",
       "    </tr>\n",
       "    <tr>\n",
       "      <th>9</th>\n",
       "      <td>XOne</td>\n",
       "      <td>4.772368</td>\n",
       "      <td>228</td>\n",
       "    </tr>\n",
       "    <tr>\n",
       "      <th>7</th>\n",
       "      <td>WiiU</td>\n",
       "      <td>4.660274</td>\n",
       "      <td>73</td>\n",
       "    </tr>\n",
       "    <tr>\n",
       "      <th>3</th>\n",
       "      <td>PS4</td>\n",
       "      <td>4.394681</td>\n",
       "      <td>376</td>\n",
       "    </tr>\n",
       "    <tr>\n",
       "      <th>8</th>\n",
       "      <td>X360</td>\n",
       "      <td>4.315315</td>\n",
       "      <td>111</td>\n",
       "    </tr>\n",
       "    <tr>\n",
       "      <th>2</th>\n",
       "      <td>PS3</td>\n",
       "      <td>2.691324</td>\n",
       "      <td>219</td>\n",
       "    </tr>\n",
       "    <tr>\n",
       "      <th>5</th>\n",
       "      <td>PSV</td>\n",
       "      <td>1.894576</td>\n",
       "      <td>295</td>\n",
       "    </tr>\n",
       "    <tr>\n",
       "      <th>0</th>\n",
       "      <td>3DS</td>\n",
       "      <td>1.851887</td>\n",
       "      <td>212</td>\n",
       "    </tr>\n",
       "    <tr>\n",
       "      <th>6</th>\n",
       "      <td>Wii</td>\n",
       "      <td>1.154545</td>\n",
       "      <td>11</td>\n",
       "    </tr>\n",
       "    <tr>\n",
       "      <th>4</th>\n",
       "      <td>PSP</td>\n",
       "      <td>0.000000</td>\n",
       "      <td>13</td>\n",
       "    </tr>\n",
       "  </tbody>\n",
       "</table>\n",
       "</div>"
      ],
      "text/plain": [
       "  platform    rating  count\n",
       "1       PC  5.088742    151\n",
       "9     XOne  4.772368    228\n",
       "7     WiiU  4.660274     73\n",
       "3      PS4  4.394681    376\n",
       "8     X360  4.315315    111\n",
       "2      PS3  2.691324    219\n",
       "5      PSV  1.894576    295\n",
       "0      3DS  1.851887    212\n",
       "6      Wii  1.154545     11\n",
       "4      PSP  0.000000     13"
      ]
     },
     "execution_count": 50,
     "metadata": {},
     "output_type": "execute_result"
    }
   ],
   "source": [
    "rating_by_platform = final_data.pivot_table(index='platform',\n",
    "                                          values='user_score',\n",
    "                                          aggfunc=['mean','count']).reset_index()\n",
    "rating_by_platform.columns = ['platform','rating','count']\n",
    "rating_by_platform.sort_values(by='rating', ascending=False)"
   ]
  },
  {
   "cell_type": "markdown",
   "id": "c2854cf6",
   "metadata": {},
   "source": [
    "Из сводной таблицы видно, что платформы-лидеры по продажам далеко не всегда имеют высокий пользовательский рейтинг. Самый высокий показатель у платформы PC, которая даже не попала в список платформ с высокими показателями продаж, при этом платформа 3DS, которые продается в значительных объемах, находится в самом конце с наихудшими показателями рейтинга пользователей.  \n",
    "Создадим независимые выборки для платформ PC и XOne и проверим гипотезу о равенстве средних.  \n",
    "- Н0 - средние рейтинги платформ PC и XOne равны;\n",
    "- Н1 - средние рейтинги платформ PC и XOne отличаются."
   ]
  },
  {
   "cell_type": "code",
   "execution_count": 51,
   "id": "ac00ba76",
   "metadata": {},
   "outputs": [],
   "source": [
    "pc = final_data.query('platform == \"PC\"')\n",
    "xone = final_data.query('platform == \"XOne\"')"
   ]
  },
  {
   "cell_type": "markdown",
   "id": "7ccc18fa",
   "metadata": {},
   "source": [
    "Примем уровень статистической значимости в 5% и проведем тест."
   ]
  },
  {
   "cell_type": "code",
   "execution_count": null,
   "id": "b2a9b439",
   "metadata": {},
   "outputs": [
    {
     "name": "stdout",
     "output_type": "stream",
     "text": [
      "p-value: 0.32800030965842586\n",
      "Не отвергаем нулевую гипотезу\n"
     ]
    }
   ],
   "source": [
    "alpha = 0.05\n",
    "\n",
    "result_platform = st.ttest_ind(pc['user_score'], xone['user_score'])\n",
    "print('p-value:', result_platform.pvalue)\n",
    "\n",
    "if result_platform.pvalue < alpha:\n",
    "    print('Отвергаем нулевую гипотезу')\n",
    "else:\n",
    "    print('Не отвергаем нулевую гипотезу')"
   ]
  },
  {
   "cell_type": "code",
   "execution_count": null,
   "id": "ce077f9f",
   "metadata": {
    "scrolled": true
   },
   "outputs": [],
   "source": [
    "pc_mean = pc['user_score'].mean()\n",
    "xone_mean = xone['user_score'].mean()\n",
    "print('Средний рейтинг PC:', pc_mean)\n",
    "print('Средний рейтинг XOne:', xone_mean)"
   ]
  },
  {
   "cell_type": "markdown",
   "id": "2d2483dc",
   "metadata": {},
   "source": [
    "Исходя из имеющихся данных, мы не можем отвергать нулевую гипотезу, средние рейтинги у независимых платформ PC и XOne могут быть равны."
   ]
  },
  {
   "cell_type": "markdown",
   "id": "3b1baa1e",
   "metadata": {},
   "source": [
    "### Рейтинги по жанрам"
   ]
  },
  {
   "cell_type": "markdown",
   "id": "ab89f28e",
   "metadata": {},
   "source": [
    "Сгруппируем датасет за актуальный период по жанрам и определим средний пользовательский рейтинг:"
   ]
  },
  {
   "cell_type": "code",
   "execution_count": null,
   "id": "ff4a2c3b",
   "metadata": {},
   "outputs": [],
   "source": [
    "rating_by_genre = final_data.pivot_table(index='genre', \\\n",
    "                                          values='user_score', \\\n",
    "                                          aggfunc=['mean','count']).reset_index()\n",
    "rating_by_genre.columns = ['genre','rating','count']\n",
    "rating_by_genre.sort_values(by='rating', ascending=False)"
   ]
  },
  {
   "cell_type": "markdown",
   "id": "db3749d2",
   "metadata": {},
   "source": [
    "В этом случае также есть некоторое несоответствие продаж и пользовательского рейтинга, но шутеры имеют самый высокий рейтинг. Примечательно, что практически минимальный показатель у аркадных игр, которые также в лидерах по популярности. Жанры экшн и спортивные имеют средние рейтинги.  \n",
    "Проверим гипотезу о различии средних для этих двух жанров:\n",
    "- Н0: средние показатели выборок по жанрам Action и Sports равны;\n",
    "- Н1: средние показатели выборок по жанрам Action и Sports отличаются;"
   ]
  },
  {
   "cell_type": "code",
   "execution_count": null,
   "id": "cff5ef5a",
   "metadata": {},
   "outputs": [],
   "source": [
    "action = final_data.query('genre == \"Action\"')\n",
    "sports = final_data.query('genre == \"Sports\"')"
   ]
  },
  {
   "cell_type": "markdown",
   "id": "1d1f4d98",
   "metadata": {},
   "source": [
    "Принимаем уровень значимости 5%."
   ]
  },
  {
   "cell_type": "code",
   "execution_count": null,
   "id": "25beaa92",
   "metadata": {},
   "outputs": [],
   "source": [
    "alpha = 0.05\n",
    "\n",
    "result_genre = st.ttest_ind(action['user_score'], sports['user_score'])\n",
    "print('p-value:', result_genre.pvalue)\n",
    "\n",
    "if result_genre.pvalue < alpha:\n",
    "    print('Отвергаем нулевую гипотезу')\n",
    "else:\n",
    "    print('Не отвергаем нулевую гипотезу')"
   ]
  },
  {
   "cell_type": "markdown",
   "id": "e6286759",
   "metadata": {},
   "source": [
    "В этом случае нулевая гипотеза не подтвердилась, и работает альтернативная гипотеза. Средние оценки пользователей по жанрам Action и Sports будут отличаться."
   ]
  },
  {
   "cell_type": "markdown",
   "id": "2cdca2e4",
   "metadata": {},
   "source": [
    "## Итоговый вывод"
   ]
  },
  {
   "cell_type": "markdown",
   "id": "49f38039",
   "metadata": {},
   "source": [
    "В ходе исследования были изучены основные параметры, которые могут повлиять на продажи игр, такие как временной промежуток, регион, оценки пользователей и критиков, рейтинг ESRB.  \n",
    "\n",
    "Количество выпускаемых игр было очень небольшим до 1995 года, затем плавно возрастало, и после 2000 года произошел резкий скачок вверх. Пик активности пришелся на 2005-2012 годы, а затем количество релизов стремительно падает. Однако четкой взаимосвязи суммарного объема продаж с годом релиза выявлено не было, и эти данные потребовались только для определения актуального периода исследования.  \n",
    "\n",
    "В целом суммарные продажи сильно отличаются по отдельно взятым платформам.  \n",
    "На суммарный объем продаж сильно влияют продажи в Северной Америке и Европе, а продажи в Японии влияют меньше.\n",
    "В актуальном периоде выделяются три платформы с наибольшими объемами продаж:\n",
    "\n",
    "- Wii - 813,47 млн проданных копий;\n",
    "- XOne - 145,05 млн копий;\n",
    "- PS4 - 265,79 млн копий.  \n",
    "\n",
    "По регионам есть некоторые различия в продажах.  \n",
    "\n",
    "Платформы PS3 и XOne находится в списке лидеров по всем регионам. По регионам Северная Америка и Европа преобладающие платформы распределяются похожим образом. Выделяется из этого списка Япония - там явно лидирует платформа 3DS с долей 34,7%. Во всех остальных регионах продажи игр на этой платформе составляют от 3,6% до 5,9%.   \n",
    "Для Америки и Европы лидируют платформы PS4 с долей продаж 27,6% и 37,7% соответственно и XOne с долей 26,5% и 16,7% соответственно. Также в лидерах X360 и PS3.  \n",
    "Однако платформы X360, PS3 из списка лидеров, похоже, завершают свой жизненный цикл: они находятся на стадии спада, PS4 и XOne также падают.\n",
    "Продажи по платформам PSV и PC незначительно снижаются, но все же выглядят довольно стабильными. На предыдущем этапе эти платформы попали в список со средними продажами, вероятно, это произошло из-за того, что эти они пока не достигли пика продаж, а значит, они перспективны.  \n",
    " \n",
    "За весь период есть платформы с более крупными объемами продаж, например, PS2 с объемом в 1043,09 млн копий, но такие платформы не попали в актуальный период, т.к. на момент исследования уже завершили свой жизненный цикл.  \n",
    "Для платформ-лидеров прослеживается цикл от роста до спада - 10 лет. Для платформ со средними продажами цикл чуть короче - 5-7 лет.  \n",
    "\n",
    "\n",
    "В ходе исследования была выявлена прямая взаимосвязь между продажами и оценками пользователей и критиков: чем выше оценки, тем больше объем продаж игр.  \n",
    "\n",
    "Значительное влияние на продажи оказывает жанр игры.  \n",
    "Жанр экшн с продажами в 119,63 млн проданных копий явно лидирует и по количеству выпущенных релизов, и по объему продаж: продажи игр во всех остальных жанрах меньше как минимум в два раза.\n",
    "Стратегии напротив имеют минимальные объемы продаж (3,72 млн копий), и их выпущено меньше всех. Но при этом платформеры, которых выпущено немногим больше, имеют объемы продаж значительно выше (13,27 млн копий).\n",
    "В общем распределении помимо экшнов лидируют несколько жанров: это спортивные игры (47,89 млн), шутеры (54,42 млн), ролевые (52,18 млн) и аркадные (22,97 млн). Также значительные объемы продаж у платформеров (13,27 млн) и гоночных игр (16 млн).\n",
    "То есть, наиболее прибыльными являются экшн, аркадные, шутеры и спортивные игры.  \n",
    "\n",
    "Преобладающие жанры отличаются по регионам, при этом по регионам Северная Америка и Европа есть определенное сходство, а в Японии распределение отличается.  \n",
    "Для Северной Америки преобладают игры в жанре экшн, шутеры, аркады, и ролевые. Для Европы к этому списку добавляются гонки.  \n",
    "В Японии преобладают ролевые игры, аркады, спортивные игры и симуляции.  \n",
    "\n",
    "Рейтинг ESRB в целом влияет на продажи игр: игры для всех и для взрослых продаются лучше, при этом для регионов наблюдаются те же закономерности, что и ранее: распределение в Европе и Америке похоже, а в Японии отличается.    \n",
    "В регионе Северная Америка преобладают игры с рейтингом \"М\", на втором месте находятся игры с рейтингом \"Е\". В Европе распределение аналогичное. В Японии преобладают игры для подростков 13-19 лет, а на втором месте находятся игры с рейтингом \"E\".   \n",
    "\n",
    "Таким образом можно выделить наиболее перспективные платформы: X360, PS3, т.к. они пока еще имеют значительные объемы продаж, а так же PSV и PC. При этом PC, несмотря на пока небольшие объемы продаж, лидирует по средней оценке пользователей, поэтому можно считать ее самой перспективной из всего списка.  \n",
    "К наиболее перспективным жанрам относятся игры в жанре action, misc, shooter и sports, но нужно учитывать регион, в котором планируется продавать продукт, т.к. наиболее популярные жанры могут отличаться.  \n",
    "Также, более перспективным будет назначить рейтинг E(для всех) или М(старше 17 лет), т.к. в этом случае продажи за рассмотренный период превышали продажи игр с другим рейтингом."
   ]
  }
 ],
 "metadata": {
  "ExecuteTimeLog": [
   {
    "duration": 37,
    "start_time": "2022-05-30T18:49:36.483Z"
   },
   {
    "duration": 48,
    "start_time": "2022-05-30T18:58:10.464Z"
   },
   {
    "duration": 1654,
    "start_time": "2022-05-30T18:58:18.480Z"
   },
   {
    "duration": 70,
    "start_time": "2022-05-30T18:58:20.136Z"
   },
   {
    "duration": 0,
    "start_time": "2022-05-30T18:58:20.208Z"
   },
   {
    "duration": 0,
    "start_time": "2022-05-30T18:58:20.209Z"
   },
   {
    "duration": 0,
    "start_time": "2022-05-30T18:58:20.211Z"
   },
   {
    "duration": 0,
    "start_time": "2022-05-30T18:58:20.212Z"
   },
   {
    "duration": 0,
    "start_time": "2022-05-30T18:58:20.213Z"
   },
   {
    "duration": 0,
    "start_time": "2022-05-30T18:58:20.214Z"
   },
   {
    "duration": 0,
    "start_time": "2022-05-30T18:58:20.223Z"
   },
   {
    "duration": 0,
    "start_time": "2022-05-30T18:58:20.223Z"
   },
   {
    "duration": 0,
    "start_time": "2022-05-30T18:58:20.224Z"
   },
   {
    "duration": 0,
    "start_time": "2022-05-30T18:58:20.225Z"
   },
   {
    "duration": 0,
    "start_time": "2022-05-30T18:58:20.225Z"
   },
   {
    "duration": 0,
    "start_time": "2022-05-30T18:58:20.227Z"
   },
   {
    "duration": 0,
    "start_time": "2022-05-30T18:58:20.230Z"
   },
   {
    "duration": 0,
    "start_time": "2022-05-30T18:58:20.231Z"
   },
   {
    "duration": 0,
    "start_time": "2022-05-30T18:58:20.233Z"
   },
   {
    "duration": 0,
    "start_time": "2022-05-30T18:58:20.234Z"
   },
   {
    "duration": 0,
    "start_time": "2022-05-30T18:58:20.235Z"
   },
   {
    "duration": 0,
    "start_time": "2022-05-30T18:58:20.237Z"
   },
   {
    "duration": 8,
    "start_time": "2022-05-30T18:59:15.998Z"
   },
   {
    "duration": 3,
    "start_time": "2022-05-30T18:59:26.657Z"
   },
   {
    "duration": 24,
    "start_time": "2022-05-30T18:59:26.667Z"
   },
   {
    "duration": 0,
    "start_time": "2022-05-30T18:59:26.692Z"
   },
   {
    "duration": 7,
    "start_time": "2022-05-30T18:59:26.694Z"
   },
   {
    "duration": 12,
    "start_time": "2022-05-30T18:59:26.706Z"
   },
   {
    "duration": 22,
    "start_time": "2022-05-30T18:59:26.721Z"
   },
   {
    "duration": 0,
    "start_time": "2022-05-30T18:59:26.744Z"
   },
   {
    "duration": 3,
    "start_time": "2022-05-30T18:59:26.750Z"
   },
   {
    "duration": 9,
    "start_time": "2022-05-30T18:59:26.771Z"
   },
   {
    "duration": 7,
    "start_time": "2022-05-30T18:59:26.786Z"
   },
   {
    "duration": 8,
    "start_time": "2022-05-30T18:59:26.804Z"
   },
   {
    "duration": 11,
    "start_time": "2022-05-30T18:59:26.823Z"
   },
   {
    "duration": 20,
    "start_time": "2022-05-30T18:59:26.838Z"
   },
   {
    "duration": 8,
    "start_time": "2022-05-30T18:59:26.867Z"
   },
   {
    "duration": 8,
    "start_time": "2022-05-30T18:59:26.881Z"
   },
   {
    "duration": 9,
    "start_time": "2022-05-30T18:59:26.902Z"
   },
   {
    "duration": 154,
    "start_time": "2022-05-30T18:59:26.915Z"
   },
   {
    "duration": 0,
    "start_time": "2022-05-30T18:59:27.072Z"
   },
   {
    "duration": 0,
    "start_time": "2022-05-30T18:59:27.073Z"
   },
   {
    "duration": 0,
    "start_time": "2022-05-30T18:59:27.074Z"
   },
   {
    "duration": 20,
    "start_time": "2022-05-30T18:59:52.409Z"
   },
   {
    "duration": 31,
    "start_time": "2022-05-30T19:01:19.173Z"
   },
   {
    "duration": 18,
    "start_time": "2022-05-30T19:05:59.595Z"
   },
   {
    "duration": 60,
    "start_time": "2022-05-30T19:08:59.736Z"
   },
   {
    "duration": 4,
    "start_time": "2022-05-30T19:09:17.880Z"
   },
   {
    "duration": 93,
    "start_time": "2022-05-30T19:09:17.888Z"
   },
   {
    "duration": 60,
    "start_time": "2022-05-30T19:09:17.983Z"
   },
   {
    "duration": 5,
    "start_time": "2022-05-30T19:09:18.044Z"
   },
   {
    "duration": 17,
    "start_time": "2022-05-30T19:09:18.050Z"
   },
   {
    "duration": 12,
    "start_time": "2022-05-30T19:09:18.068Z"
   },
   {
    "duration": 17,
    "start_time": "2022-05-30T19:09:18.081Z"
   },
   {
    "duration": 5,
    "start_time": "2022-05-30T19:09:18.099Z"
   },
   {
    "duration": 13,
    "start_time": "2022-05-30T19:09:18.126Z"
   },
   {
    "duration": 8,
    "start_time": "2022-05-30T19:09:18.141Z"
   },
   {
    "duration": 4,
    "start_time": "2022-05-30T19:09:18.152Z"
   },
   {
    "duration": 8,
    "start_time": "2022-05-30T19:09:18.158Z"
   },
   {
    "duration": 16,
    "start_time": "2022-05-30T19:09:18.167Z"
   },
   {
    "duration": 7,
    "start_time": "2022-05-30T19:09:18.184Z"
   },
   {
    "duration": 178,
    "start_time": "2022-05-30T19:09:18.192Z"
   },
   {
    "duration": 23,
    "start_time": "2022-05-30T19:09:18.371Z"
   },
   {
    "duration": 283,
    "start_time": "2022-05-30T19:09:18.396Z"
   },
   {
    "duration": 0,
    "start_time": "2022-05-30T19:09:18.681Z"
   },
   {
    "duration": 0,
    "start_time": "2022-05-30T19:09:18.682Z"
   },
   {
    "duration": 0,
    "start_time": "2022-05-30T19:09:18.683Z"
   },
   {
    "duration": 6,
    "start_time": "2022-05-30T19:09:24.544Z"
   },
   {
    "duration": 23,
    "start_time": "2022-05-30T19:09:28.636Z"
   },
   {
    "duration": 287,
    "start_time": "2022-05-30T19:09:31.264Z"
   },
   {
    "duration": 304,
    "start_time": "2022-05-30T19:10:40.845Z"
   },
   {
    "duration": 362,
    "start_time": "2022-05-30T19:11:52.240Z"
   },
   {
    "duration": 276,
    "start_time": "2022-05-30T19:12:02.035Z"
   },
   {
    "duration": 8,
    "start_time": "2022-05-30T19:17:40.338Z"
   },
   {
    "duration": 8,
    "start_time": "2022-05-30T19:17:47.066Z"
   },
   {
    "duration": 36,
    "start_time": "2022-05-30T19:17:49.858Z"
   },
   {
    "duration": 363,
    "start_time": "2022-05-30T19:17:51.720Z"
   },
   {
    "duration": 7,
    "start_time": "2022-05-30T19:19:07.736Z"
   },
   {
    "duration": 24,
    "start_time": "2022-05-30T19:19:18.488Z"
   },
   {
    "duration": 352,
    "start_time": "2022-05-30T19:19:20.380Z"
   },
   {
    "duration": 21,
    "start_time": "2022-05-30T19:24:20.512Z"
   },
   {
    "duration": 20,
    "start_time": "2022-05-30T19:24:34.763Z"
   },
   {
    "duration": 15,
    "start_time": "2022-05-30T19:24:44.668Z"
   },
   {
    "duration": 22,
    "start_time": "2022-05-30T19:25:36.903Z"
   },
   {
    "duration": 5,
    "start_time": "2022-05-30T19:26:17.982Z"
   },
   {
    "duration": 273,
    "start_time": "2022-05-30T19:26:18.654Z"
   },
   {
    "duration": 250,
    "start_time": "2022-05-30T19:27:37.167Z"
   },
   {
    "duration": 38,
    "start_time": "2022-05-30T19:27:42.643Z"
   },
   {
    "duration": 275,
    "start_time": "2022-05-30T19:27:45.750Z"
   },
   {
    "duration": 38,
    "start_time": "2022-05-30T19:28:12.314Z"
   },
   {
    "duration": 8,
    "start_time": "2022-05-30T19:34:28.639Z"
   },
   {
    "duration": 216,
    "start_time": "2022-05-30T19:36:17.160Z"
   },
   {
    "duration": 272,
    "start_time": "2022-05-30T19:36:34.569Z"
   },
   {
    "duration": 293,
    "start_time": "2022-05-30T19:38:13.747Z"
   },
   {
    "duration": 238,
    "start_time": "2022-05-30T19:40:26.903Z"
   },
   {
    "duration": 246,
    "start_time": "2022-05-30T19:40:44.249Z"
   },
   {
    "duration": 244,
    "start_time": "2022-05-30T19:40:48.394Z"
   },
   {
    "duration": 377,
    "start_time": "2022-05-30T19:41:30.721Z"
   },
   {
    "duration": 235,
    "start_time": "2022-05-30T19:41:40.469Z"
   },
   {
    "duration": 40,
    "start_time": "2022-05-30T19:41:53.796Z"
   },
   {
    "duration": 235,
    "start_time": "2022-05-30T19:43:13.652Z"
   },
   {
    "duration": 244,
    "start_time": "2022-05-30T19:43:29.616Z"
   },
   {
    "duration": 256,
    "start_time": "2022-05-30T19:43:35.144Z"
   },
   {
    "duration": 352,
    "start_time": "2022-05-30T19:43:41.362Z"
   },
   {
    "duration": 244,
    "start_time": "2022-05-30T19:43:49.398Z"
   },
   {
    "duration": 16,
    "start_time": "2022-05-30T19:45:49.184Z"
   },
   {
    "duration": 253,
    "start_time": "2022-05-30T19:46:15.393Z"
   },
   {
    "duration": 273,
    "start_time": "2022-05-30T19:46:23.444Z"
   },
   {
    "duration": 252,
    "start_time": "2022-05-30T19:46:43.540Z"
   },
   {
    "duration": 251,
    "start_time": "2022-05-30T19:46:51.545Z"
   },
   {
    "duration": 347,
    "start_time": "2022-05-30T19:47:00.557Z"
   },
   {
    "duration": 16,
    "start_time": "2022-05-30T19:48:10.727Z"
   },
   {
    "duration": 5,
    "start_time": "2022-05-30T19:48:11.404Z"
   },
   {
    "duration": 266,
    "start_time": "2022-05-30T19:48:12.387Z"
   },
   {
    "duration": 37,
    "start_time": "2022-05-30T19:48:16.415Z"
   },
   {
    "duration": 5,
    "start_time": "2022-05-30T19:48:32.722Z"
   },
   {
    "duration": 18,
    "start_time": "2022-05-30T19:48:56.735Z"
   },
   {
    "duration": 4,
    "start_time": "2022-05-30T19:48:57.989Z"
   },
   {
    "duration": 238,
    "start_time": "2022-05-30T19:50:20.973Z"
   },
   {
    "duration": 224,
    "start_time": "2022-05-30T19:50:37.061Z"
   },
   {
    "duration": 1079,
    "start_time": "2022-05-30T19:50:55.283Z"
   },
   {
    "duration": 57,
    "start_time": "2022-05-30T19:50:56.364Z"
   },
   {
    "duration": 62,
    "start_time": "2022-05-30T19:50:56.422Z"
   },
   {
    "duration": 5,
    "start_time": "2022-05-30T19:50:56.485Z"
   },
   {
    "duration": 14,
    "start_time": "2022-05-30T19:50:56.491Z"
   },
   {
    "duration": 30,
    "start_time": "2022-05-30T19:50:56.507Z"
   },
   {
    "duration": 13,
    "start_time": "2022-05-30T19:50:56.538Z"
   },
   {
    "duration": 5,
    "start_time": "2022-05-30T19:50:56.552Z"
   },
   {
    "duration": 7,
    "start_time": "2022-05-30T19:50:56.558Z"
   },
   {
    "duration": 7,
    "start_time": "2022-05-30T19:50:56.567Z"
   },
   {
    "duration": 6,
    "start_time": "2022-05-30T19:50:56.576Z"
   },
   {
    "duration": 6,
    "start_time": "2022-05-30T19:50:56.583Z"
   },
   {
    "duration": 43,
    "start_time": "2022-05-30T19:50:56.591Z"
   },
   {
    "duration": 8,
    "start_time": "2022-05-30T19:50:56.639Z"
   },
   {
    "duration": 157,
    "start_time": "2022-05-30T19:50:56.648Z"
   },
   {
    "duration": 42,
    "start_time": "2022-05-30T19:50:56.806Z"
   },
   {
    "duration": 310,
    "start_time": "2022-05-30T19:50:56.850Z"
   },
   {
    "duration": 10,
    "start_time": "2022-05-30T19:50:57.162Z"
   },
   {
    "duration": 246,
    "start_time": "2022-05-30T19:50:57.173Z"
   },
   {
    "duration": 259,
    "start_time": "2022-05-30T19:50:57.424Z"
   },
   {
    "duration": 7,
    "start_time": "2022-05-30T19:50:57.684Z"
   },
   {
    "duration": 35,
    "start_time": "2022-05-30T19:50:57.693Z"
   },
   {
    "duration": 270,
    "start_time": "2022-05-30T19:50:57.731Z"
   },
   {
    "duration": 21,
    "start_time": "2022-05-30T19:50:58.003Z"
   },
   {
    "duration": 10,
    "start_time": "2022-05-30T19:50:58.028Z"
   },
   {
    "duration": 4,
    "start_time": "2022-05-30T19:50:59.975Z"
   },
   {
    "duration": 304,
    "start_time": "2022-05-30T19:51:00.712Z"
   },
   {
    "duration": 5,
    "start_time": "2022-05-30T19:53:37.841Z"
   },
   {
    "duration": 4,
    "start_time": "2022-05-30T19:54:55.136Z"
   },
   {
    "duration": 16,
    "start_time": "2022-05-30T19:55:06.907Z"
   },
   {
    "duration": 5,
    "start_time": "2022-05-30T19:55:12.289Z"
   },
   {
    "duration": 4,
    "start_time": "2022-05-30T19:55:45.288Z"
   },
   {
    "duration": 3,
    "start_time": "2022-05-30T19:56:07.405Z"
   },
   {
    "duration": 76,
    "start_time": "2022-05-30T19:56:07.411Z"
   },
   {
    "duration": 55,
    "start_time": "2022-05-30T19:56:07.489Z"
   },
   {
    "duration": 5,
    "start_time": "2022-05-30T19:56:07.545Z"
   },
   {
    "duration": 15,
    "start_time": "2022-05-30T19:56:07.552Z"
   },
   {
    "duration": 11,
    "start_time": "2022-05-30T19:56:07.568Z"
   },
   {
    "duration": 12,
    "start_time": "2022-05-30T19:56:07.580Z"
   },
   {
    "duration": 5,
    "start_time": "2022-05-30T19:56:07.593Z"
   },
   {
    "duration": 18,
    "start_time": "2022-05-30T19:56:07.623Z"
   },
   {
    "duration": 10,
    "start_time": "2022-05-30T19:56:07.643Z"
   },
   {
    "duration": 5,
    "start_time": "2022-05-30T19:56:07.655Z"
   },
   {
    "duration": 6,
    "start_time": "2022-05-30T19:56:07.662Z"
   },
   {
    "duration": 16,
    "start_time": "2022-05-30T19:56:07.670Z"
   },
   {
    "duration": 9,
    "start_time": "2022-05-30T19:56:07.687Z"
   },
   {
    "duration": 182,
    "start_time": "2022-05-30T19:56:07.698Z"
   },
   {
    "duration": 25,
    "start_time": "2022-05-30T19:56:07.882Z"
   },
   {
    "duration": 293,
    "start_time": "2022-05-30T19:56:07.909Z"
   },
   {
    "duration": 31,
    "start_time": "2022-05-30T19:56:08.204Z"
   },
   {
    "duration": 229,
    "start_time": "2022-05-30T19:56:08.237Z"
   },
   {
    "duration": 336,
    "start_time": "2022-05-30T19:56:08.467Z"
   },
   {
    "duration": 6,
    "start_time": "2022-05-30T19:56:08.805Z"
   },
   {
    "duration": 33,
    "start_time": "2022-05-30T19:56:08.812Z"
   },
   {
    "duration": 315,
    "start_time": "2022-05-30T19:56:08.846Z"
   },
   {
    "duration": 17,
    "start_time": "2022-05-30T19:56:09.163Z"
   },
   {
    "duration": 10,
    "start_time": "2022-05-30T19:56:09.182Z"
   },
   {
    "duration": 286,
    "start_time": "2022-05-30T19:56:09.193Z"
   },
   {
    "duration": 34,
    "start_time": "2022-05-30T19:56:09.480Z"
   },
   {
    "duration": 8,
    "start_time": "2022-05-30T19:56:09.526Z"
   },
   {
    "duration": 18,
    "start_time": "2022-05-30T19:56:09.538Z"
   },
   {
    "duration": 21,
    "start_time": "2022-05-30T19:56:11.207Z"
   },
   {
    "duration": 4,
    "start_time": "2022-05-30T19:56:11.614Z"
   },
   {
    "duration": 5,
    "start_time": "2022-05-30T19:56:24.476Z"
   },
   {
    "duration": 657,
    "start_time": "2022-05-30T19:56:26.173Z"
   },
   {
    "duration": 5,
    "start_time": "2022-05-30T19:58:18.004Z"
   },
   {
    "duration": 227,
    "start_time": "2022-05-30T19:58:41.944Z"
   },
   {
    "duration": 213,
    "start_time": "2022-05-30T19:58:58.458Z"
   },
   {
    "duration": 207,
    "start_time": "2022-05-30T19:59:23.531Z"
   },
   {
    "duration": 5,
    "start_time": "2022-05-30T19:59:51.470Z"
   },
   {
    "duration": 6,
    "start_time": "2022-05-30T20:00:52.563Z"
   },
   {
    "duration": 14,
    "start_time": "2022-05-30T20:01:00.644Z"
   },
   {
    "duration": 2119,
    "start_time": "2022-05-30T20:01:01.841Z"
   },
   {
    "duration": 6,
    "start_time": "2022-05-30T20:01:21.344Z"
   },
   {
    "duration": 15,
    "start_time": "2022-05-30T20:01:29.837Z"
   },
   {
    "duration": 316,
    "start_time": "2022-05-30T20:01:31.801Z"
   },
   {
    "duration": 175,
    "start_time": "2022-05-30T20:01:43.353Z"
   },
   {
    "duration": 20,
    "start_time": "2022-05-30T20:03:30.490Z"
   },
   {
    "duration": 4,
    "start_time": "2022-05-30T20:03:33.770Z"
   },
   {
    "duration": 1171,
    "start_time": "2022-05-30T20:03:34.711Z"
   },
   {
    "duration": 160,
    "start_time": "2022-05-30T20:11:14.750Z"
   },
   {
    "duration": 1412,
    "start_time": "2022-05-30T20:11:21.975Z"
   },
   {
    "duration": 19,
    "start_time": "2022-05-30T20:16:31.202Z"
   },
   {
    "duration": 440,
    "start_time": "2022-05-30T20:16:42.565Z"
   },
   {
    "duration": 346,
    "start_time": "2022-05-30T20:16:52.264Z"
   },
   {
    "duration": 4,
    "start_time": "2022-06-01T17:46:49.980Z"
   },
   {
    "duration": 82,
    "start_time": "2022-06-01T17:46:49.986Z"
   },
   {
    "duration": 57,
    "start_time": "2022-06-01T17:46:50.070Z"
   },
   {
    "duration": 4,
    "start_time": "2022-06-01T17:46:50.129Z"
   },
   {
    "duration": 21,
    "start_time": "2022-06-01T17:46:50.136Z"
   },
   {
    "duration": 16,
    "start_time": "2022-06-01T17:46:50.159Z"
   },
   {
    "duration": 36,
    "start_time": "2022-06-01T17:46:50.177Z"
   },
   {
    "duration": 8,
    "start_time": "2022-06-01T17:46:50.215Z"
   },
   {
    "duration": 10,
    "start_time": "2022-06-01T17:46:50.225Z"
   },
   {
    "duration": 11,
    "start_time": "2022-06-01T17:46:50.236Z"
   },
   {
    "duration": 11,
    "start_time": "2022-06-01T17:46:50.250Z"
   },
   {
    "duration": 10,
    "start_time": "2022-06-01T17:46:50.263Z"
   },
   {
    "duration": 37,
    "start_time": "2022-06-01T17:46:50.275Z"
   },
   {
    "duration": 7,
    "start_time": "2022-06-01T17:46:50.313Z"
   },
   {
    "duration": 171,
    "start_time": "2022-06-01T17:46:50.322Z"
   },
   {
    "duration": 27,
    "start_time": "2022-06-01T17:46:50.494Z"
   },
   {
    "duration": 270,
    "start_time": "2022-06-01T17:46:50.523Z"
   },
   {
    "duration": 11,
    "start_time": "2022-06-01T17:46:50.799Z"
   },
   {
    "duration": 251,
    "start_time": "2022-06-01T17:46:50.812Z"
   },
   {
    "duration": 272,
    "start_time": "2022-06-01T17:46:51.065Z"
   },
   {
    "duration": 6,
    "start_time": "2022-06-01T17:46:51.339Z"
   },
   {
    "duration": 30,
    "start_time": "2022-06-01T17:46:51.346Z"
   },
   {
    "duration": 306,
    "start_time": "2022-06-01T17:46:51.377Z"
   },
   {
    "duration": 24,
    "start_time": "2022-06-01T17:46:51.685Z"
   },
   {
    "duration": 7,
    "start_time": "2022-06-01T17:46:51.711Z"
   },
   {
    "duration": 283,
    "start_time": "2022-06-01T17:46:51.719Z"
   },
   {
    "duration": 54,
    "start_time": "2022-06-01T17:46:52.004Z"
   },
   {
    "duration": 26,
    "start_time": "2022-06-01T17:46:52.060Z"
   },
   {
    "duration": 39,
    "start_time": "2022-06-01T17:46:52.090Z"
   },
   {
    "duration": 15,
    "start_time": "2022-06-01T17:46:52.131Z"
   },
   {
    "duration": 11,
    "start_time": "2022-06-01T17:46:52.148Z"
   },
   {
    "duration": 867,
    "start_time": "2022-06-01T17:46:52.161Z"
   },
   {
    "duration": 6,
    "start_time": "2022-06-01T17:46:53.030Z"
   },
   {
    "duration": 217,
    "start_time": "2022-06-01T17:46:53.038Z"
   },
   {
    "duration": 6,
    "start_time": "2022-06-01T17:46:53.256Z"
   },
   {
    "duration": 19,
    "start_time": "2022-06-01T17:46:53.265Z"
   },
   {
    "duration": 1838,
    "start_time": "2022-06-01T17:46:53.298Z"
   },
   {
    "duration": 6,
    "start_time": "2022-06-01T17:46:55.138Z"
   },
   {
    "duration": 20,
    "start_time": "2022-06-01T17:46:55.146Z"
   },
   {
    "duration": 423,
    "start_time": "2022-06-01T17:46:59.977Z"
   },
   {
    "duration": 1205,
    "start_time": "2022-06-01T18:38:25.442Z"
   },
   {
    "duration": 55,
    "start_time": "2022-06-01T18:38:26.648Z"
   },
   {
    "duration": 62,
    "start_time": "2022-06-01T18:38:26.705Z"
   },
   {
    "duration": 5,
    "start_time": "2022-06-01T18:38:26.769Z"
   },
   {
    "duration": 39,
    "start_time": "2022-06-01T18:38:26.776Z"
   },
   {
    "duration": 18,
    "start_time": "2022-06-01T18:38:26.817Z"
   },
   {
    "duration": 16,
    "start_time": "2022-06-01T18:38:26.837Z"
   },
   {
    "duration": 8,
    "start_time": "2022-06-01T18:38:26.855Z"
   },
   {
    "duration": 37,
    "start_time": "2022-06-01T18:38:26.865Z"
   },
   {
    "duration": 10,
    "start_time": "2022-06-01T18:38:26.905Z"
   },
   {
    "duration": 8,
    "start_time": "2022-06-01T18:38:26.917Z"
   },
   {
    "duration": 14,
    "start_time": "2022-06-01T18:38:26.927Z"
   },
   {
    "duration": 18,
    "start_time": "2022-06-01T18:38:26.943Z"
   },
   {
    "duration": 37,
    "start_time": "2022-06-01T18:38:26.963Z"
   },
   {
    "duration": 187,
    "start_time": "2022-06-01T18:38:27.001Z"
   },
   {
    "duration": 33,
    "start_time": "2022-06-01T18:38:27.190Z"
   },
   {
    "duration": 350,
    "start_time": "2022-06-01T18:38:27.225Z"
   },
   {
    "duration": 22,
    "start_time": "2022-06-01T18:38:27.577Z"
   },
   {
    "duration": 262,
    "start_time": "2022-06-01T18:38:27.601Z"
   },
   {
    "duration": 336,
    "start_time": "2022-06-01T18:38:27.864Z"
   },
   {
    "duration": 9,
    "start_time": "2022-06-01T18:38:28.202Z"
   },
   {
    "duration": 35,
    "start_time": "2022-06-01T18:38:28.213Z"
   },
   {
    "duration": 307,
    "start_time": "2022-06-01T18:38:28.249Z"
   },
   {
    "duration": 19,
    "start_time": "2022-06-01T18:38:28.557Z"
   },
   {
    "duration": 24,
    "start_time": "2022-06-01T18:38:28.578Z"
   },
   {
    "duration": 276,
    "start_time": "2022-06-01T18:38:28.603Z"
   },
   {
    "duration": 56,
    "start_time": "2022-06-01T18:38:28.881Z"
   },
   {
    "duration": 4,
    "start_time": "2022-06-01T18:38:28.941Z"
   },
   {
    "duration": 23,
    "start_time": "2022-06-01T18:38:28.947Z"
   },
   {
    "duration": 10,
    "start_time": "2022-06-01T18:38:28.972Z"
   },
   {
    "duration": 10,
    "start_time": "2022-06-01T18:38:29.001Z"
   },
   {
    "duration": 728,
    "start_time": "2022-06-01T18:38:29.013Z"
   },
   {
    "duration": 8,
    "start_time": "2022-06-01T18:38:29.743Z"
   },
   {
    "duration": 221,
    "start_time": "2022-06-01T18:38:29.753Z"
   },
   {
    "duration": 6,
    "start_time": "2022-06-01T18:38:29.976Z"
   },
   {
    "duration": 37,
    "start_time": "2022-06-01T18:38:29.983Z"
   },
   {
    "duration": 2116,
    "start_time": "2022-06-01T18:38:30.022Z"
   },
   {
    "duration": 6,
    "start_time": "2022-06-01T18:38:32.140Z"
   },
   {
    "duration": 63,
    "start_time": "2022-06-01T18:38:32.148Z"
   },
   {
    "duration": 310,
    "start_time": "2022-06-01T18:38:32.214Z"
   },
   {
    "duration": 0,
    "start_time": "2022-06-01T18:38:32.525Z"
   },
   {
    "duration": 0,
    "start_time": "2022-06-01T18:38:32.527Z"
   },
   {
    "duration": 0,
    "start_time": "2022-06-01T18:38:32.528Z"
   },
   {
    "duration": 0,
    "start_time": "2022-06-01T18:38:32.529Z"
   },
   {
    "duration": 0,
    "start_time": "2022-06-01T18:38:32.530Z"
   },
   {
    "duration": 9,
    "start_time": "2022-06-01T18:40:12.011Z"
   },
   {
    "duration": 11,
    "start_time": "2022-06-01T18:40:34.575Z"
   },
   {
    "duration": 3,
    "start_time": "2022-06-01T18:40:52.662Z"
   },
   {
    "duration": 80,
    "start_time": "2022-06-01T18:40:52.672Z"
   },
   {
    "duration": 90,
    "start_time": "2022-06-01T18:40:52.754Z"
   },
   {
    "duration": 5,
    "start_time": "2022-06-01T18:40:52.847Z"
   },
   {
    "duration": 47,
    "start_time": "2022-06-01T18:40:52.855Z"
   },
   {
    "duration": 20,
    "start_time": "2022-06-01T18:40:52.904Z"
   },
   {
    "duration": 17,
    "start_time": "2022-06-01T18:40:52.926Z"
   },
   {
    "duration": 10,
    "start_time": "2022-06-01T18:40:52.945Z"
   },
   {
    "duration": 12,
    "start_time": "2022-06-01T18:40:52.957Z"
   },
   {
    "duration": 11,
    "start_time": "2022-06-01T18:40:53.001Z"
   },
   {
    "duration": 9,
    "start_time": "2022-06-01T18:40:53.016Z"
   },
   {
    "duration": 8,
    "start_time": "2022-06-01T18:40:53.027Z"
   },
   {
    "duration": 22,
    "start_time": "2022-06-01T18:40:53.036Z"
   },
   {
    "duration": 8,
    "start_time": "2022-06-01T18:40:53.059Z"
   },
   {
    "duration": 197,
    "start_time": "2022-06-01T18:40:53.068Z"
   },
   {
    "duration": 34,
    "start_time": "2022-06-01T18:40:53.267Z"
   },
   {
    "duration": 296,
    "start_time": "2022-06-01T18:40:53.303Z"
   },
   {
    "duration": 19,
    "start_time": "2022-06-01T18:40:53.601Z"
   },
   {
    "duration": 355,
    "start_time": "2022-06-01T18:40:53.623Z"
   },
   {
    "duration": 265,
    "start_time": "2022-06-01T18:40:53.980Z"
   },
   {
    "duration": 6,
    "start_time": "2022-06-01T18:40:54.246Z"
   },
   {
    "duration": 35,
    "start_time": "2022-06-01T18:40:54.254Z"
   },
   {
    "duration": 304,
    "start_time": "2022-06-01T18:40:54.291Z"
   },
   {
    "duration": 18,
    "start_time": "2022-06-01T18:40:54.596Z"
   },
   {
    "duration": 9,
    "start_time": "2022-06-01T18:40:54.616Z"
   },
   {
    "duration": 279,
    "start_time": "2022-06-01T18:40:54.627Z"
   },
   {
    "duration": 47,
    "start_time": "2022-06-01T18:40:54.908Z"
   },
   {
    "duration": 4,
    "start_time": "2022-06-01T18:40:54.957Z"
   },
   {
    "duration": 54,
    "start_time": "2022-06-01T18:40:54.965Z"
   },
   {
    "duration": 16,
    "start_time": "2022-06-01T18:40:55.021Z"
   },
   {
    "duration": 31,
    "start_time": "2022-06-01T18:40:55.039Z"
   },
   {
    "duration": 744,
    "start_time": "2022-06-01T18:40:55.072Z"
   },
   {
    "duration": 7,
    "start_time": "2022-06-01T18:40:55.818Z"
   },
   {
    "duration": 235,
    "start_time": "2022-06-01T18:40:55.827Z"
   },
   {
    "duration": 6,
    "start_time": "2022-06-01T18:40:56.065Z"
   },
   {
    "duration": 31,
    "start_time": "2022-06-01T18:40:56.073Z"
   },
   {
    "duration": 2024,
    "start_time": "2022-06-01T18:40:56.105Z"
   },
   {
    "duration": 8,
    "start_time": "2022-06-01T18:40:58.130Z"
   },
   {
    "duration": 36,
    "start_time": "2022-06-01T18:40:58.140Z"
   },
   {
    "duration": 222,
    "start_time": "2022-06-01T18:40:58.177Z"
   },
   {
    "duration": 0,
    "start_time": "2022-06-01T18:40:58.401Z"
   },
   {
    "duration": 0,
    "start_time": "2022-06-01T18:40:58.402Z"
   },
   {
    "duration": 0,
    "start_time": "2022-06-01T18:40:58.404Z"
   },
   {
    "duration": 0,
    "start_time": "2022-06-01T18:40:58.405Z"
   },
   {
    "duration": 0,
    "start_time": "2022-06-01T18:40:58.406Z"
   },
   {
    "duration": 0,
    "start_time": "2022-06-01T18:40:58.407Z"
   },
   {
    "duration": 13,
    "start_time": "2022-06-01T18:41:04.978Z"
   },
   {
    "duration": 21,
    "start_time": "2022-06-01T18:41:24.370Z"
   },
   {
    "duration": 4,
    "start_time": "2022-06-01T18:41:59.397Z"
   },
   {
    "duration": 19,
    "start_time": "2022-06-01T18:41:59.894Z"
   },
   {
    "duration": 152,
    "start_time": "2022-06-01T18:42:05.045Z"
   },
   {
    "duration": 10,
    "start_time": "2022-06-01T18:42:31.163Z"
   },
   {
    "duration": 4,
    "start_time": "2022-06-01T18:42:41.808Z"
   },
   {
    "duration": 90,
    "start_time": "2022-06-01T18:42:41.816Z"
   },
   {
    "duration": 63,
    "start_time": "2022-06-01T18:42:41.910Z"
   },
   {
    "duration": 5,
    "start_time": "2022-06-01T18:42:41.975Z"
   },
   {
    "duration": 15,
    "start_time": "2022-06-01T18:42:42.001Z"
   },
   {
    "duration": 15,
    "start_time": "2022-06-01T18:42:42.017Z"
   },
   {
    "duration": 14,
    "start_time": "2022-06-01T18:42:42.033Z"
   },
   {
    "duration": 5,
    "start_time": "2022-06-01T18:42:42.049Z"
   },
   {
    "duration": 9,
    "start_time": "2022-06-01T18:42:42.055Z"
   },
   {
    "duration": 8,
    "start_time": "2022-06-01T18:42:42.100Z"
   },
   {
    "duration": 12,
    "start_time": "2022-06-01T18:42:42.110Z"
   },
   {
    "duration": 12,
    "start_time": "2022-06-01T18:42:42.124Z"
   },
   {
    "duration": 28,
    "start_time": "2022-06-01T18:42:42.137Z"
   },
   {
    "duration": 7,
    "start_time": "2022-06-01T18:42:42.167Z"
   },
   {
    "duration": 172,
    "start_time": "2022-06-01T18:42:42.176Z"
   },
   {
    "duration": 26,
    "start_time": "2022-06-01T18:42:42.350Z"
   },
   {
    "duration": 277,
    "start_time": "2022-06-01T18:42:42.378Z"
   },
   {
    "duration": 12,
    "start_time": "2022-06-01T18:42:42.657Z"
   },
   {
    "duration": 246,
    "start_time": "2022-06-01T18:42:42.671Z"
   },
   {
    "duration": 351,
    "start_time": "2022-06-01T18:42:42.919Z"
   },
   {
    "duration": 7,
    "start_time": "2022-06-01T18:42:43.272Z"
   },
   {
    "duration": 40,
    "start_time": "2022-06-01T18:42:43.281Z"
   },
   {
    "duration": 315,
    "start_time": "2022-06-01T18:42:43.323Z"
   },
   {
    "duration": 16,
    "start_time": "2022-06-01T18:42:43.640Z"
   },
   {
    "duration": 12,
    "start_time": "2022-06-01T18:42:43.658Z"
   },
   {
    "duration": 272,
    "start_time": "2022-06-01T18:42:43.672Z"
   },
   {
    "duration": 36,
    "start_time": "2022-06-01T18:42:43.946Z"
   },
   {
    "duration": 17,
    "start_time": "2022-06-01T18:42:43.983Z"
   },
   {
    "duration": 17,
    "start_time": "2022-06-01T18:42:44.004Z"
   },
   {
    "duration": 13,
    "start_time": "2022-06-01T18:42:44.023Z"
   },
   {
    "duration": 15,
    "start_time": "2022-06-01T18:42:44.038Z"
   },
   {
    "duration": 758,
    "start_time": "2022-06-01T18:42:44.055Z"
   },
   {
    "duration": 6,
    "start_time": "2022-06-01T18:42:44.815Z"
   },
   {
    "duration": 213,
    "start_time": "2022-06-01T18:42:44.823Z"
   },
   {
    "duration": 8,
    "start_time": "2022-06-01T18:42:45.038Z"
   },
   {
    "duration": 42,
    "start_time": "2022-06-01T18:42:45.048Z"
   },
   {
    "duration": 1927,
    "start_time": "2022-06-01T18:42:45.092Z"
   },
   {
    "duration": 7,
    "start_time": "2022-06-01T18:42:47.021Z"
   },
   {
    "duration": 27,
    "start_time": "2022-06-01T18:42:47.029Z"
   },
   {
    "duration": 221,
    "start_time": "2022-06-01T18:42:47.058Z"
   },
   {
    "duration": 0,
    "start_time": "2022-06-01T18:42:47.281Z"
   },
   {
    "duration": 0,
    "start_time": "2022-06-01T18:42:47.282Z"
   },
   {
    "duration": 10,
    "start_time": "2022-06-01T18:42:49.191Z"
   },
   {
    "duration": 11,
    "start_time": "2022-06-01T18:42:49.693Z"
   },
   {
    "duration": 172,
    "start_time": "2022-06-01T18:43:07.388Z"
   },
   {
    "duration": 16,
    "start_time": "2022-06-01T18:43:37.386Z"
   },
   {
    "duration": 173,
    "start_time": "2022-06-01T18:43:38.760Z"
   },
   {
    "duration": 20,
    "start_time": "2022-06-01T18:43:42.268Z"
   },
   {
    "duration": 4,
    "start_time": "2022-06-01T18:43:43.973Z"
   },
   {
    "duration": 1143,
    "start_time": "2022-06-01T18:43:45.448Z"
   },
   {
    "duration": 1333,
    "start_time": "2022-06-01T18:43:56.997Z"
   },
   {
    "duration": 19,
    "start_time": "2022-06-01T18:43:59.065Z"
   },
   {
    "duration": 323,
    "start_time": "2022-06-01T18:44:00.434Z"
   },
   {
    "duration": 4,
    "start_time": "2022-06-01T18:44:04.380Z"
   },
   {
    "duration": 19,
    "start_time": "2022-06-01T18:44:04.976Z"
   },
   {
    "duration": 215,
    "start_time": "2022-06-01T18:44:06.012Z"
   },
   {
    "duration": 238,
    "start_time": "2022-06-01T18:44:15.726Z"
   },
   {
    "duration": 23,
    "start_time": "2022-06-01T18:51:03.347Z"
   },
   {
    "duration": 8,
    "start_time": "2022-06-01T18:53:29.252Z"
   },
   {
    "duration": 6,
    "start_time": "2022-06-01T18:53:34.306Z"
   },
   {
    "duration": 5,
    "start_time": "2022-06-01T18:53:47.848Z"
   },
   {
    "duration": 27,
    "start_time": "2022-06-01T18:55:23.403Z"
   },
   {
    "duration": 31,
    "start_time": "2022-06-01T18:55:31.774Z"
   },
   {
    "duration": 8,
    "start_time": "2022-06-01T18:57:15.171Z"
   },
   {
    "duration": 6,
    "start_time": "2022-06-01T18:57:16.678Z"
   },
   {
    "duration": 33,
    "start_time": "2022-06-01T18:57:58.717Z"
   },
   {
    "duration": 28,
    "start_time": "2022-06-01T19:01:10.540Z"
   },
   {
    "duration": 44,
    "start_time": "2022-06-01T19:21:14.807Z"
   },
   {
    "duration": 1194,
    "start_time": "2022-06-01T19:21:37.266Z"
   },
   {
    "duration": 60,
    "start_time": "2022-06-01T19:21:38.462Z"
   },
   {
    "duration": 116,
    "start_time": "2022-06-01T19:21:38.524Z"
   },
   {
    "duration": 4,
    "start_time": "2022-06-01T19:21:38.642Z"
   },
   {
    "duration": 16,
    "start_time": "2022-06-01T19:21:38.701Z"
   },
   {
    "duration": 16,
    "start_time": "2022-06-01T19:21:38.719Z"
   },
   {
    "duration": 72,
    "start_time": "2022-06-01T19:21:38.737Z"
   },
   {
    "duration": 4,
    "start_time": "2022-06-01T19:21:38.811Z"
   },
   {
    "duration": 14,
    "start_time": "2022-06-01T19:21:38.817Z"
   },
   {
    "duration": 15,
    "start_time": "2022-06-01T19:21:38.833Z"
   },
   {
    "duration": 51,
    "start_time": "2022-06-01T19:21:38.850Z"
   },
   {
    "duration": 12,
    "start_time": "2022-06-01T19:21:38.903Z"
   },
   {
    "duration": 28,
    "start_time": "2022-06-01T19:21:38.916Z"
   },
   {
    "duration": 54,
    "start_time": "2022-06-01T19:21:38.947Z"
   },
   {
    "duration": 342,
    "start_time": "2022-06-01T19:21:39.003Z"
   },
   {
    "duration": 27,
    "start_time": "2022-06-01T19:21:39.347Z"
   },
   {
    "duration": 355,
    "start_time": "2022-06-01T19:21:39.376Z"
   },
   {
    "duration": 13,
    "start_time": "2022-06-01T19:21:39.732Z"
   },
   {
    "duration": 255,
    "start_time": "2022-06-01T19:21:39.747Z"
   },
   {
    "duration": 312,
    "start_time": "2022-06-01T19:21:40.004Z"
   },
   {
    "duration": 6,
    "start_time": "2022-06-01T19:21:40.318Z"
   },
   {
    "duration": 34,
    "start_time": "2022-06-01T19:21:40.326Z"
   },
   {
    "duration": 303,
    "start_time": "2022-06-01T19:21:40.362Z"
   },
   {
    "duration": 17,
    "start_time": "2022-06-01T19:21:40.666Z"
   },
   {
    "duration": 5,
    "start_time": "2022-06-01T19:21:40.700Z"
   },
   {
    "duration": 272,
    "start_time": "2022-06-01T19:21:40.706Z"
   },
   {
    "duration": 49,
    "start_time": "2022-06-01T19:21:40.980Z"
   },
   {
    "duration": 4,
    "start_time": "2022-06-01T19:21:41.031Z"
   },
   {
    "duration": 35,
    "start_time": "2022-06-01T19:21:41.037Z"
   },
   {
    "duration": 6,
    "start_time": "2022-06-01T19:21:41.074Z"
   },
   {
    "duration": 23,
    "start_time": "2022-06-01T19:21:41.081Z"
   },
   {
    "duration": 727,
    "start_time": "2022-06-01T19:21:41.106Z"
   },
   {
    "duration": 7,
    "start_time": "2022-06-01T19:21:41.835Z"
   },
   {
    "duration": 234,
    "start_time": "2022-06-01T19:21:41.844Z"
   },
   {
    "duration": 5,
    "start_time": "2022-06-01T19:21:42.080Z"
   },
   {
    "duration": 15,
    "start_time": "2022-06-01T19:21:42.099Z"
   },
   {
    "duration": 1963,
    "start_time": "2022-06-01T19:21:42.116Z"
   },
   {
    "duration": 19,
    "start_time": "2022-06-01T19:21:44.081Z"
   },
   {
    "duration": 21,
    "start_time": "2022-06-01T19:21:44.102Z"
   },
   {
    "duration": 196,
    "start_time": "2022-06-01T19:21:44.125Z"
   },
   {
    "duration": 20,
    "start_time": "2022-06-01T19:21:44.325Z"
   },
   {
    "duration": 16,
    "start_time": "2022-06-01T19:21:44.348Z"
   },
   {
    "duration": 1324,
    "start_time": "2022-06-01T19:21:44.366Z"
   },
   {
    "duration": 23,
    "start_time": "2022-06-01T19:21:45.693Z"
   },
   {
    "duration": 338,
    "start_time": "2022-06-01T19:21:45.719Z"
   },
   {
    "duration": 5,
    "start_time": "2022-06-01T19:21:46.058Z"
   },
   {
    "duration": 47,
    "start_time": "2022-06-01T19:21:46.064Z"
   },
   {
    "duration": 260,
    "start_time": "2022-06-01T19:21:46.113Z"
   },
   {
    "duration": 27,
    "start_time": "2022-06-01T19:21:46.375Z"
   },
   {
    "duration": 40,
    "start_time": "2022-06-01T19:21:46.403Z"
   },
   {
    "duration": 59,
    "start_time": "2022-06-01T19:21:46.445Z"
   },
   {
    "duration": 27,
    "start_time": "2022-06-01T19:21:46.505Z"
   },
   {
    "duration": 58,
    "start_time": "2022-06-01T19:21:46.534Z"
   },
   {
    "duration": 14,
    "start_time": "2022-06-01T19:21:46.593Z"
   },
   {
    "duration": 39,
    "start_time": "2022-06-01T19:21:46.609Z"
   },
   {
    "duration": 24,
    "start_time": "2022-06-01T19:22:52.339Z"
   },
   {
    "duration": 3,
    "start_time": "2022-06-01T19:26:29.754Z"
   },
   {
    "duration": 61,
    "start_time": "2022-06-01T19:26:29.760Z"
   },
   {
    "duration": 52,
    "start_time": "2022-06-01T19:26:29.823Z"
   },
   {
    "duration": 4,
    "start_time": "2022-06-01T19:26:29.877Z"
   },
   {
    "duration": 18,
    "start_time": "2022-06-01T19:26:29.899Z"
   },
   {
    "duration": 12,
    "start_time": "2022-06-01T19:26:29.920Z"
   },
   {
    "duration": 20,
    "start_time": "2022-06-01T19:26:29.934Z"
   },
   {
    "duration": 5,
    "start_time": "2022-06-01T19:26:29.955Z"
   },
   {
    "duration": 40,
    "start_time": "2022-06-01T19:26:29.961Z"
   },
   {
    "duration": 20,
    "start_time": "2022-06-01T19:26:30.003Z"
   },
   {
    "duration": 24,
    "start_time": "2022-06-01T19:26:30.026Z"
   },
   {
    "duration": 29,
    "start_time": "2022-06-01T19:26:30.052Z"
   },
   {
    "duration": 29,
    "start_time": "2022-06-01T19:26:30.083Z"
   },
   {
    "duration": 7,
    "start_time": "2022-06-01T19:26:30.113Z"
   },
   {
    "duration": 177,
    "start_time": "2022-06-01T19:26:30.122Z"
   },
   {
    "duration": 26,
    "start_time": "2022-06-01T19:26:30.301Z"
   },
   {
    "duration": 308,
    "start_time": "2022-06-01T19:26:30.329Z"
   },
   {
    "duration": 11,
    "start_time": "2022-06-01T19:26:30.639Z"
   },
   {
    "duration": 216,
    "start_time": "2022-06-01T19:26:30.651Z"
   },
   {
    "duration": 246,
    "start_time": "2022-06-01T19:26:30.869Z"
   },
   {
    "duration": 7,
    "start_time": "2022-06-01T19:26:31.116Z"
   },
   {
    "duration": 32,
    "start_time": "2022-06-01T19:26:31.124Z"
   },
   {
    "duration": 279,
    "start_time": "2022-06-01T19:26:31.158Z"
   },
   {
    "duration": 16,
    "start_time": "2022-06-01T19:26:31.438Z"
   },
   {
    "duration": 25,
    "start_time": "2022-06-01T19:26:31.456Z"
   },
   {
    "duration": 346,
    "start_time": "2022-06-01T19:26:31.483Z"
   },
   {
    "duration": 45,
    "start_time": "2022-06-01T19:26:31.832Z"
   },
   {
    "duration": 22,
    "start_time": "2022-06-01T19:26:31.879Z"
   },
   {
    "duration": 23,
    "start_time": "2022-06-01T19:26:31.906Z"
   },
   {
    "duration": 3,
    "start_time": "2022-06-01T19:26:31.931Z"
   },
   {
    "duration": 8,
    "start_time": "2022-06-01T19:26:31.935Z"
   },
   {
    "duration": 681,
    "start_time": "2022-06-01T19:26:31.944Z"
   },
   {
    "duration": 5,
    "start_time": "2022-06-01T19:26:32.627Z"
   },
   {
    "duration": 192,
    "start_time": "2022-06-01T19:26:32.633Z"
   },
   {
    "duration": 5,
    "start_time": "2022-06-01T19:26:32.827Z"
   },
   {
    "duration": 16,
    "start_time": "2022-06-01T19:26:32.833Z"
   },
   {
    "duration": 1762,
    "start_time": "2022-06-01T19:26:32.850Z"
   },
   {
    "duration": 5,
    "start_time": "2022-06-01T19:26:34.614Z"
   },
   {
    "duration": 19,
    "start_time": "2022-06-01T19:26:34.620Z"
   },
   {
    "duration": 169,
    "start_time": "2022-06-01T19:26:34.641Z"
   },
   {
    "duration": 21,
    "start_time": "2022-06-01T19:26:34.812Z"
   },
   {
    "duration": 3,
    "start_time": "2022-06-01T19:26:34.835Z"
   },
   {
    "duration": 1074,
    "start_time": "2022-06-01T19:26:34.839Z"
   },
   {
    "duration": 19,
    "start_time": "2022-06-01T19:26:35.915Z"
   },
   {
    "duration": 306,
    "start_time": "2022-06-01T19:26:35.936Z"
   },
   {
    "duration": 3,
    "start_time": "2022-06-01T19:26:36.244Z"
   },
   {
    "duration": 22,
    "start_time": "2022-06-01T19:26:36.249Z"
   },
   {
    "duration": 221,
    "start_time": "2022-06-01T19:26:36.273Z"
   },
   {
    "duration": 22,
    "start_time": "2022-06-01T19:26:36.499Z"
   },
   {
    "duration": 9,
    "start_time": "2022-06-01T19:26:36.522Z"
   },
   {
    "duration": 9,
    "start_time": "2022-06-01T19:26:36.532Z"
   },
   {
    "duration": 7,
    "start_time": "2022-06-01T19:26:36.543Z"
   },
   {
    "duration": 24,
    "start_time": "2022-06-01T19:26:36.551Z"
   },
   {
    "duration": 6,
    "start_time": "2022-06-01T19:26:36.600Z"
   },
   {
    "duration": 5,
    "start_time": "2022-06-01T19:26:36.608Z"
   },
   {
    "duration": 6796,
    "start_time": "2022-06-02T08:05:16.176Z"
   }
  ],
  "kernelspec": {
   "display_name": "Python 3 (ipykernel)",
   "language": "python",
   "name": "python3"
  },
  "language_info": {
   "codemirror_mode": {
    "name": "ipython",
    "version": 3
   },
   "file_extension": ".py",
   "mimetype": "text/x-python",
   "name": "python",
   "nbconvert_exporter": "python",
   "pygments_lexer": "ipython3",
   "version": "3.9.7"
  },
  "toc": {
   "base_numbering": 1,
   "nav_menu": {},
   "number_sections": true,
   "sideBar": true,
   "skip_h1_title": true,
   "title_cell": "Содержание",
   "title_sidebar": "Содержание",
   "toc_cell": true,
   "toc_position": {
    "height": "calc(100% - 180px)",
    "left": "10px",
    "top": "150px",
    "width": "388.594px"
   },
   "toc_section_display": true,
   "toc_window_display": true
  }
 },
 "nbformat": 4,
 "nbformat_minor": 5
}
